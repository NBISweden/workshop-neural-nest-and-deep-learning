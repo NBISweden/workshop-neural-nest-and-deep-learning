{
 "cells": [
  {
   "cell_type": "markdown",
   "metadata": {},
   "source": [
    "# CNN Lab 1: Classification of Human Blood Cells using Convolutional Neural Networks\n",
    "\n",
    "For this lab, we use the image set [Human White Blood Cells (BBBC045v1)](https://bbbc.broadinstitute.org/BBBC045) from the Broad Bioimage Benchmark Collection [Ljosa et al., Nature Methods, 2012].\n",
    "\n",
    "Using fluorescence staining [[Label‐Free Identification of White Blood Cells Using Machine Learning (Nassar et. al)](https://www.ncbi.nlm.nih.gov/pmc/articles/PMC6767740/)], each blood cell has been classified into one of 5 categories: \n",
    " - **B cells** (lymphocytes),\n",
    " - **T cells** (lymphocytes),\n",
    " - **eosinophils**,\n",
    " - **monocytes**,\n",
    " - **neutrophils**.\n",
    "\n",
    "<img src=\"illustrations/WhiteBloodCells.png\" width=\"500px\" title=\"Blood cell illustration (Wikipedia)\" align=\"center\"/>\n",
    "<center><i>(Illustration from <a href=\"https://en.wikipedia.org/wiki/White_blood_cell\">Wikipédia</a>)</i></center>\n",
    "\n",
    "## Brightfield dataset\n",
    "For this lab, we only kept Brightfield images and cropped them into small grayscale patches of 32x32 pixels:\n",
    "\n",
    "<img src=\"illustrations/bloodCells.png\" title=\"Blood cells dataset\" align=\"center\"/>\n",
    "\n",
    "These patches are in the **data/bloodcells_small/** folder, splitted into **testing** and **training** sets. In each set, images are splitted according to their categories:\n",
    "```\n",
    "└── data\n",
    "    └── bloodcells_small\n",
    "        ├── test\n",
    "        │   ├── B\n",
    "        │   ├── T\n",
    "        │   ├── eosinophil\n",
    "        │   ├── monocyte\n",
    "        │   └── neutrophil\n",
    "        └── train\n",
    "            ├── B\n",
    "            ├── T\n",
    "            ├── eosinophil\n",
    "            ├── monocyte\n",
    "            └── neutrophil\n",
    "```\n",
    "\n",
    "Our goal is to use convolutional neural networks to automatically classify blood cells into one of the five categories, using only the 32x32 pixels brightfield images."
   ]
  },
  {
   "cell_type": "code",
   "execution_count": null,
   "metadata": {},
   "outputs": [],
   "source": [
    "# First we import useful modules like numpy and Keras layers\n",
    "\n",
    "import numpy as np\n",
    "\n",
    "from tensorflow.keras.models import Sequential, Model\n",
    "\n",
    "from tensorflow.keras.layers import Conv2D, MaxPooling2D, Dense, Flatten\n",
    "from tensorflow.keras.layers import BatchNormalization, Dropout, Activation, Input\n",
    "\n",
    "from tensorflow.keras.preprocessing.image import ImageDataGenerator\n",
    "from tensorflow.keras.optimizers import Adam\n",
    "\n",
    "# cnn_helper contains some useful functions for this lab\n",
    "\n",
    "import cnn_helper"
   ]
  },
  {
   "cell_type": "markdown",
   "metadata": {},
   "source": [
    "# Loading the data in generators\n",
    "\n",
    "We use Keras functions [`ImageDataGenerator`](https://keras.io/api/preprocessing/image/#imagedatagenerator-class) and [`flow_from_directory`](https://keras.io/api/preprocessing/image/#flowfromdirectory-method) to create generators for the training and testing datasets."
   ]
  },
  {
   "cell_type": "code",
   "execution_count": null,
   "metadata": {},
   "outputs": [],
   "source": [
    "# create a data generator\n",
    "datagen = ImageDataGenerator(\n",
    "    rescale=1./255,\n",
    "    samplewise_center=True, \n",
    "    samplewise_std_normalization=True\n",
    ")\n",
    "\n",
    "print (\"Loading training dataset as a generator\")\n",
    "train_generator = datagen.flow_from_directory(\n",
    "    # You can also try 'data/mnist/train/' which contains digits of size 28x28\n",
    "    directory='data/bloodcells_small/train/', \n",
    "    # We use categorical classes, which means that classes will be one-hot encoded:\n",
    "    class_mode='categorical',\n",
    "    batch_size=8,\n",
    "    target_size=(32, 32),\n",
    "    shuffle=False,\n",
    "    color_mode=\"grayscale\")\n",
    "\n",
    "print (\"Loading testing dataset as a generator\")\n",
    "test_generator = datagen.flow_from_directory(\n",
    "    directory='data/bloodcells_small/test/',\n",
    "    # We use categorical classes, which means that classes will be one-hot encoded:\n",
    "    class_mode='categorical', \n",
    "    batch_size=8,\n",
    "    target_size=(32, 32),\n",
    "    shuffle=False,\n",
    "    color_mode=\"grayscale\")\n",
    "num_classes = 5\n",
    "input_shape = 32"
   ]
  },
  {
   "cell_type": "code",
   "execution_count": null,
   "metadata": {
    "scrolled": true
   },
   "outputs": [],
   "source": [
    "# Uncomment to try on the nmist dataset instead of the bloodcells\n",
    "'''\n",
    "# create a data generator\n",
    "datagen = ImageDataGenerator()\n",
    "\n",
    "train_generator = datagen.flow_from_directory(\n",
    "    directory='data/mnist/train/', \n",
    "    class_mode='categorical', \n",
    "    batch_size=8,\n",
    "    target_size=(28, 28),\n",
    "    shuffle=False,\n",
    "    seed=42,\n",
    "    color_mode=\"grayscale\")\n",
    "test_generator = datagen.flow_from_directory(\n",
    "    directory='data/mnist/test/',\n",
    "    class_mode='categorical', \n",
    "    batch_size=8,\n",
    "    target_size=(28, 28),\n",
    "    shuffle=False,\n",
    "    seed=42,\n",
    "    color_mode=\"grayscale\")\n",
    "num_classes = 10\n",
    "input_shape = 28\n",
    "\n",
    "print (\"Images per class in training:\", cnn_helper.getClassSizes(train_generator))\n",
    "print (\"Images per class in testing:\", cnn_helper.getClassSizes(test_generator))\n",
    "'''"
   ]
  },
  {
   "cell_type": "code",
   "execution_count": null,
   "metadata": {},
   "outputs": [],
   "source": [
    "print (\"Images per class in training:\", cnn_helper.getClassSizes(train_generator))\n",
    "print (\"Images per class in testing:\", cnn_helper.getClassSizes(test_generator))"
   ]
  },
  {
   "cell_type": "markdown",
   "metadata": {},
   "source": [
    "We can now check that the generators deliver our data:"
   ]
  },
  {
   "cell_type": "code",
   "execution_count": null,
   "metadata": {},
   "outputs": [],
   "source": [
    "import random\n",
    "import matplotlib.pyplot as plt\n",
    "\n",
    "num_images = 5\n",
    "\n",
    "for i in range(num_images):\n",
    "    # We select a random batch of the generator\n",
    "    batch_index = random.randrange(len(train_generator))\n",
    "    images,categories= train_generator[batch_index]\n",
    "    \n",
    "    # Images are in the shape 32x32x1 and we need 32x32 to be display, so we squeeze the image:\n",
    "    image = np.squeeze(images[0])\n",
    "    \n",
    "    print (\"Category (one-hot encoded):\", categories[0])\n",
    "    print (\"Image shape:\", image.shape)\n",
    "    plt.imshow(image)\n",
    "    plt.show()"
   ]
  },
  {
   "cell_type": "markdown",
   "metadata": {},
   "source": [
    "# Training the model\n",
    "## A first CNN model\n",
    "\n",
    "We can start by building a simple convolutional network with one convolutional layer followed by one max-pooling layer.\n",
    "\n",
    "<img src=\"illustrations/test_simple.png\" title=\"Simple CNN model\"/>"
   ]
  },
  {
   "cell_type": "code",
   "execution_count": null,
   "metadata": {},
   "outputs": [],
   "source": [
    "num_filters = 1\n",
    "filter_size = 2\n",
    "pool_size = 2\n",
    "\n",
    "# Build the model.\n",
    "model = Sequential([\n",
    "  Conv2D(num_filters, filter_size, input_shape=(input_shape,input_shape,1)),\n",
    "  MaxPooling2D(pool_size=pool_size),\n",
    "  Flatten(),\n",
    "  Dense(num_classes, activation='softmax'),\n",
    "])\n",
    "\n",
    "print (model.summary())\n",
    "\n",
    "# Compile the model.\n",
    "model.compile(\n",
    "  'adam',\n",
    "  loss='categorical_crossentropy',\n",
    "  metrics=['accuracy'],\n",
    ")"
   ]
  },
  {
   "cell_type": "code",
   "execution_count": null,
   "metadata": {},
   "outputs": [],
   "source": [
    "# Train the model.\n",
    "model.fit(\n",
    "  train_generator,\n",
    "  epochs=5,\n",
    "  validation_data=test_generator,\n",
    ")"
   ]
  },
  {
   "cell_type": "code",
   "execution_count": null,
   "metadata": {},
   "outputs": [],
   "source": [
    "# get random batch of images\n",
    "batch_index = random.randrange(len(test_generator))\n",
    "images, categories = test_generator[batch_index]\n",
    "\n",
    "# compute predictions for the batch\n",
    "predictions = model.predict(images)\n",
    "\n",
    "# display predictions using argmax\n",
    "print(np.argmax(predictions, axis=1))\n",
    "\n",
    "# compare predictions with ground truth\n",
    "print (np.argmax(categories, axis=1))"
   ]
  },
  {
   "cell_type": "markdown",
   "metadata": {},
   "source": [
    "We can also plot confusion matrix of the whole generator, using the function:\n",
    "```python\n",
    "cnn_helper.plot_confusion_matrix_from_generator (model, generator)\n",
    "```"
   ]
  },
  {
   "cell_type": "code",
   "execution_count": null,
   "metadata": {},
   "outputs": [],
   "source": [
    "print (\"Test set:\")\n",
    "cnn_helper.plot_confusion_matrix_from_generator (model, test_generator)"
   ]
  },
  {
   "cell_type": "markdown",
   "metadata": {},
   "source": [
    "# Extensions\n",
    "\n",
    "We can now modify our network to improve the accuracy of our classification. \n",
    "\n",
    "### Network depth\n",
    "You can add more convolutional and max-pooling layers, and change the number of features in each convolutional layer.\n",
    "\n",
    "For example, here are two iterations of convolutional layer plus max-pooling, with 16 and 32 features respectively, and a kernel size of 3:\n",
    "```Python\n",
    "model = Sequential([\n",
    "    Conv2D(16, kernel_size=3, input_shape=(input_shape,input_shape,1)),\n",
    "    MaxPooling2D(pool_size=2),\n",
    "    Conv2D(32, kernel_size=3),\n",
    "    MaxPooling2D(pool_size=2),\n",
    "    [...]\n",
    "])\n",
    "```\n",
    "\n",
    "### Dropout\n",
    "Dropout layers can prevent overfitting. You can add dropout layers after max-pooling. A dropout of 20% is a good starting point.\n",
    "\n",
    "```Python\n",
    "model = Sequential([\n",
    "    [...]\n",
    "    Dropout(0.2),\n",
    "    [...]\n",
    "])\n",
    "```\n",
    "\n",
    "### Fully-connected Layers\n",
    "\n",
    "Most CNNs use multiple fully-connected layers before the final softmax layer. You can add fully-connected layers using:\n",
    "\n",
    "```Python\n",
    "model = Sequential([\n",
    "    [...]\n",
    "    Dense(64, activation='relu'),\n",
    "    [...]\n",
    "])\n",
    "```\n",
    "\n",
    "### Convolution Parameters\n",
    "\n",
    "Try to add an activation function to the convelutional layers (`activation='relu'`), and play with other parameters such as `strides` and `padding` (see details [here](https://keras.io/api/layers/convolution_layers/convolution2d/)).\n",
    "\n",
    "```Python\n",
    "model = Sequential([\n",
    "    [...]\n",
    "    Conv2D(\n",
    "        num_filters,\n",
    "        filter_size,\n",
    "        input_shape=(32, 32, 1),\n",
    "        strides=2,\n",
    "        padding='same',\n",
    "        activation='relu',\n",
    "    ),\n",
    "    [...]\n",
    "])\n",
    "```\n",
    "\n",
    "### Learning Rate\n",
    "\n",
    "You can change the learning rate of the Adam optimizer:\n",
    "\n",
    "```Python\n",
    "model.compile(\n",
    "  optimizer = Adam(learning_rate=0.0001),\n",
    "  [...]\n",
    ")\n",
    "```\n",
    " \n",
    "### Example of more advanced convolutional neural network:\n",
    "\n",
    "<img src=\"illustrations/test_simple2.png\" title=\"Simple CNN model 2\"/>"
   ]
  },
  {
   "cell_type": "code",
   "execution_count": null,
   "metadata": {},
   "outputs": [],
   "source": [
    "num_filters = 16\n",
    "# Create the model\n",
    "model = Sequential([\n",
    "    Conv2D(num_filters, kernel_size=(3, 3), activation='relu', input_shape=(input_shape,input_shape,1)),\n",
    "    BatchNormalization(),\n",
    "    MaxPooling2D(pool_size=(2, 2)),\n",
    "    Dropout(0.2),\n",
    "    Conv2D(num_filters*2, kernel_size=(3, 3), activation='relu'),\n",
    "    MaxPooling2D(pool_size=(2, 2)),\n",
    "    Dropout(0.2),\n",
    "    Flatten(),\n",
    "    Dense(num_filters*8, activation='relu'),\n",
    "    Dense(num_classes, activation='softmax'),\n",
    "])\n",
    "\n",
    "print (model.summary())\n",
    "\n",
    "# Compile the model.\n",
    "model.compile(\n",
    "  optimizer = Adam(learning_rate=0.0001),\n",
    "  loss      = 'categorical_crossentropy',\n",
    "  metrics   = ['accuracy'],\n",
    ")"
   ]
  },
  {
   "cell_type": "code",
   "execution_count": null,
   "metadata": {},
   "outputs": [],
   "source": [
    "# Train the model.\n",
    "model.fit(\n",
    "  train_generator,\n",
    "  epochs=5,\n",
    "  validation_data=test_generator,\n",
    "  #class_weight=cnn_helper.getClassWeights(train_generator)\n",
    ")"
   ]
  },
  {
   "cell_type": "code",
   "execution_count": null,
   "metadata": {},
   "outputs": [],
   "source": [
    "#print (\"Train set:\")\n",
    "#cnn_helper.plot_confusion_matrix_from_generator (model, train_generator)\n",
    "\n",
    "print (\"Test set:\")\n",
    "cnn_helper.plot_confusion_matrix_from_generator (model, test_generator)"
   ]
  },
  {
   "cell_type": "markdown",
   "metadata": {},
   "source": [
    "# Example of transfer learning from ImageNet, using a VGG16 network\n",
    "\n",
    "This needs to be run on a GPU. See with Claudio?\n",
    "\n",
    "VGG16 is a Convolutional Neural Network with five convolutional layers followed by three fully connected layers:\n",
    "\n",
    "<img src=\"illustrations/vgg16.png\" title=\"VGG16 model\"/>"
   ]
  },
  {
   "cell_type": "markdown",
   "metadata": {},
   "source": [
    "We need to load data in RGB color mode, as VGG16 expects input with 3 layers:"
   ]
  },
  {
   "cell_type": "code",
   "execution_count": null,
   "metadata": {},
   "outputs": [],
   "source": [
    "# create a data generator\n",
    "train_generator_vgg = datagen.flow_from_directory(\n",
    "    directory='data/bloodcells_small/train/', \n",
    "    class_mode='categorical', \n",
    "    batch_size=8,\n",
    "    target_size=(32, 32),\n",
    "    shuffle=False,\n",
    "    color_mode=\"rgb\")\n",
    "test_generator_vgg = datagen.flow_from_directory(\n",
    "    directory='data/bloodcells_small/test/',\n",
    "    class_mode='categorical', \n",
    "    batch_size=8,\n",
    "    target_size=(32, 32),\n",
    "    shuffle=False,\n",
    "    color_mode=\"rgb\")"
   ]
  },
  {
   "cell_type": "code",
   "execution_count": null,
   "metadata": {},
   "outputs": [],
   "source": [
    "from tensorflow.keras.applications import VGG16\n",
    "\n",
    "model = VGG16(\n",
    "    include_top=False,\n",
    "    weights=\"imagenet\",\n",
    "    input_shape=(32, 32, 3),\n",
    "    pooling=None,\n",
    "    classifier_activation=\"softmax\",\n",
    ")\n",
    "\n",
    "#for layer in model.layers[:16]:\n",
    "#    layer.trainable = False\n",
    "    \n",
    "# add new classifier layers\n",
    "flat1 = Flatten()(model.layers[-1].output)\n",
    "class1 = Dense(1024, activation='relu')(flat1)\n",
    "output = Dense(5, activation='softmax')(class1)\n",
    "# define new model\n",
    "model = Model(inputs=model.inputs, outputs=output)\n",
    "\n",
    "print (model.summary())"
   ]
  },
  {
   "cell_type": "code",
   "execution_count": null,
   "metadata": {},
   "outputs": [],
   "source": [
    "# Compile the model.\n",
    "model.compile(\n",
    "  optimizer = Adam(learning_rate=0.000001),\n",
    "  loss      = 'categorical_crossentropy',\n",
    "  metrics   = ['accuracy'],\n",
    ")\n",
    "\n",
    "model.fit(\n",
    "  train_generator_vgg,\n",
    "  epochs=30,\n",
    "  validation_data=test_generator_vgg,\n",
    "  class_weight=cnn_helper.getClassWeights(train_generator),\n",
    "  #use_multiprocessing=True,\n",
    "  #workers=48\n",
    ")"
   ]
  },
  {
   "cell_type": "code",
   "execution_count": null,
   "metadata": {},
   "outputs": [],
   "source": [
    "print (\"Train set:\")\n",
    "cnn_helper.plot_confusion_matrix_from_generator (model, train_generator_vgg)\n",
    "\n",
    "print (\"Test set:\")\n",
    "cnn_helper.plot_confusion_matrix_from_generator (model, test_generator_vgg)"
   ]
  },
  {
   "cell_type": "code",
   "execution_count": null,
   "metadata": {},
   "outputs": [],
   "source": []
  }
 ],
 "metadata": {
  "kernelspec": {
   "display_name": "Python 3",
   "language": "python",
   "name": "python3"
  },
  "language_info": {
   "codemirror_mode": {
    "name": "ipython",
    "version": 3
   },
   "file_extension": ".py",
   "mimetype": "text/x-python",
   "name": "python",
   "nbconvert_exporter": "python",
   "pygments_lexer": "ipython3",
   "version": "3.8.3"
  }
 },
 "nbformat": 4,
 "nbformat_minor": 4
}
