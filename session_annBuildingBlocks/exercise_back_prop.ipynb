{
 "cells": [
  {
   "cell_type": "markdown",
   "metadata": {
    "hide_input": true
   },
   "source": [
    "Execute `Run all Cells` under the `Cell` menu, first, to format the markdown cells!\n",
    "(Remember to activate the nbextension `Hide Input` as described in the _Jupyter introduction_ exercise)"
   ]
  },
  {
   "cell_type": "code",
   "execution_count": 1,
   "metadata": {},
   "outputs": [],
   "source": [
    "import sys, os\n",
    "sys.path.append(os.path.abspath('assets'))\n",
    "from exercise_back_prop_helper import *"
   ]
  },
  {
   "cell_type": "markdown",
   "metadata": {},
   "source": [
    "# Aim of exercise\n",
    "\n",
    "Perform a forward pass and a backward pass on the two-neuron ffANN in the figure below to compute the gradient $\\frac{\\partial L(b,w|x)}{\\partial w_1}$ and use this to compute and updated weight $w'_1$.\n",
    "\n",
    "Don't worry! We will guide you through this, provide some template code and help fill in the values of the intermediate expression in a a Forward pass table and and Backward pass table, respectively. Feel free to look at the hidden `Solution`s and `Code help`s if it gets too hard.\n",
    "\n",
    "<img src=\"./assets/figExercise.png\" alt=\"Neuron\" width=\"600\"/>"
   ]
  },
  {
   "cell_type": "markdown",
   "metadata": {},
   "source": [
    "## Task 1. Forward pass\n",
    "\n",
    "Let's start by performing the forward pass of the ANN.\n",
    "\n",
    "We will start by creating variables to hold the values of the intermediate and final expressions"
   ]
  },
  {
   "cell_type": "code",
   "execution_count": 2,
   "metadata": {
    "hide_input": false
   },
   "outputs": [],
   "source": [
    "# Known variables\n",
    "# Initialize variables to values in figure\n",
    "x = 0.05\n",
    "y = 0.01\n",
    "w1 = 0.1\n",
    "b1 = -0.1\n",
    "w2 = 0.3\n",
    "b2 = 0.3\n",
    "\n",
    "# Unknown variables to be computed\n",
    "i1 = \"\"\n",
    "z1 = \"\"\n",
    "a1 = \"\"\n",
    "z2 = \"\"\n",
    "a2 = \"\"\n",
    "haty = \"\"\n",
    "L = \"\""
   ]
  },
  {
   "cell_type": "markdown",
   "metadata": {},
   "source": [
    "Execute the table cell below to display table"
   ]
  },
  {
   "cell_type": "code",
   "execution_count": 3,
   "metadata": {
    "hide_input": true
   },
   "outputs": [
    {
     "data": {
      "text/html": [
       "<style type=\"text/css\">\n",
       "#T_6d7a6_ th {\n",
       "  font-size: 18px;\n",
       "  max-width: 2.5cm;\n",
       "  text-align: left;\n",
       "}\n",
       "#T_6d7a6_ td {\n",
       "  font-size: 18px;\n",
       "  max-width: 2.5cm;\n",
       "  text-align: left;\n",
       "}\n",
       "</style>\n",
       "<table id=\"T_6d7a6_\">\n",
       "  <thead>\n",
       "    <tr>\n",
       "      <th class=\"col_heading level0 col0\" >$x$</th>\n",
       "      <th class=\"col_heading level0 col1\" >$y$</th>\n",
       "      <th class=\"col_heading level0 col2\" >$w_1$</th>\n",
       "      <th class=\"col_heading level0 col3\" >$b_1$</th>\n",
       "      <th class=\"col_heading level0 col4\" >$i_1$</th>\n",
       "      <th class=\"col_heading level0 col5\" >$z_1$</th>\n",
       "      <th class=\"col_heading level0 col6\" >$a_1$</th>\n",
       "      <th class=\"col_heading level0 col7\" >$w_2$</th>\n",
       "      <th class=\"col_heading level0 col8\" >$b_2$</th>\n",
       "      <th class=\"col_heading level0 col9\" >$z_2$</th>\n",
       "      <th class=\"col_heading level0 col10\" >$a_2$</th>\n",
       "      <th class=\"col_heading level0 col11\" >$\\hat{y}$</th>\n",
       "      <th class=\"col_heading level0 col12\" >$L(w,b|x)$</th>\n",
       "    </tr>\n",
       "  </thead>\n",
       "  <tbody>\n",
       "    <tr>\n",
       "      <td id=\"T_6d7a6_row0_col0\" class=\"data row0 col0\" >5</td>\n",
       "      <td id=\"T_6d7a6_row0_col1\" class=\"data row0 col1\" >0.01</td>\n",
       "      <td id=\"T_6d7a6_row0_col2\" class=\"data row0 col2\" >0.1</td>\n",
       "      <td id=\"T_6d7a6_row0_col3\" class=\"data row0 col3\" >-0.1</td>\n",
       "      <td id=\"T_6d7a6_row0_col4\" class=\"data row0 col4\" ></td>\n",
       "      <td id=\"T_6d7a6_row0_col5\" class=\"data row0 col5\" ></td>\n",
       "      <td id=\"T_6d7a6_row0_col6\" class=\"data row0 col6\" ></td>\n",
       "      <td id=\"T_6d7a6_row0_col7\" class=\"data row0 col7\" >0.3</td>\n",
       "      <td id=\"T_6d7a6_row0_col8\" class=\"data row0 col8\" >0.3</td>\n",
       "      <td id=\"T_6d7a6_row0_col9\" class=\"data row0 col9\" ></td>\n",
       "      <td id=\"T_6d7a6_row0_col10\" class=\"data row0 col10\" ></td>\n",
       "      <td id=\"T_6d7a6_row0_col11\" class=\"data row0 col11\" ></td>\n",
       "      <td id=\"T_6d7a6_row0_col12\" class=\"data row0 col12\" ></td>\n",
       "    </tr>\n",
       "  </tbody>\n",
       "</table>\n"
      ],
      "text/plain": [
       "<pandas.io.formats.style.Styler at 0x7ff26eb84510>"
      ]
     },
     "execution_count": 3,
     "metadata": {},
     "output_type": "execute_result"
    }
   ],
   "source": [
    "updateTable1(x, y, w1, b1, w2, b2, i1, z1, a1, z2, a2, haty,L)"
   ]
  },
  {
   "cell_type": "markdown",
   "metadata": {
    "cell_style": "center",
    "hide_input": false
   },
   "source": [
    "### Path of intermediate expressions\n",
    "\n",
    "First, notice that $i_1 = x$ and $\\hat{y} = a_2$.\n",
    "\n",
    "The path of intermediate expressions from $x$ to $L(b,w|x)$ is:\n",
    "\n",
    "$\\begin{eqnarray}\n",
    "z_1 &=&  w_1 i_1 + b_1\\\\\n",
    "a_1 &=& \\sigma(z_1) = \\frac{1}{1+e^{-z_1}}\\\\\n",
    "z_2 &=&  w_2 a_{1} + b_2\\\\\n",
    "a_2 &=& \\sigma(z_2) = \\frac{1}{1+e^{-z_2}}\\\\\n",
    "L(w,b|x) &=& \\frac{1}{2}\\left(y-\\hat{y}\\right)^2 = \\frac{1}{2}\\left(y-a_2\\right)^2\n",
    "\\end{eqnarray}$\n",
    "\n",
    "- Try to update the corresponding variables in the code cell below and see if you get the same table values as below\n",
    "    - example: `z1 = w1 * i1 +b1` (remember to set `i1` first)\n",
    "    - *hint!*: to compute $\\sigma(z)$, use, e.g.\n",
    "    ```\n",
    "    import tensorflow as tf\n",
    "    tf.sigmoid(z).numpy()\n",
    "    ``` \n",
    "    - As a last resort you can click the *Code help* below"
   ]
  },
  {
   "cell_type": "code",
   "execution_count": 4,
   "metadata": {
    "cell_style": "center",
    "hide_input": false
   },
   "outputs": [],
   "source": [
    "# Replace \"\" with the code to compute these variables\n",
    "import tensorflow as tf\n",
    "i1 = \"\"\n",
    "z1 = \"\"\n",
    "a1 = \"\"\n",
    "z2 = \"\"\n",
    "a2 = \"\"\n",
    "haty = \"\"\n",
    "L = \"\""
   ]
  },
  {
   "cell_type": "markdown",
   "metadata": {},
   "source": [
    "Execute the table cell below to display table"
   ]
  },
  {
   "cell_type": "code",
   "execution_count": 5,
   "metadata": {
    "hide_input": true,
    "scrolled": true
   },
   "outputs": [
    {
     "data": {
      "text/html": [
       "<style type=\"text/css\">\n",
       "#T_bf14c_ th {\n",
       "  font-size: 18px;\n",
       "  max-width: 2.5cm;\n",
       "  text-align: left;\n",
       "}\n",
       "#T_bf14c_ td {\n",
       "  font-size: 18px;\n",
       "  max-width: 2.5cm;\n",
       "  text-align: left;\n",
       "}\n",
       "</style>\n",
       "<table id=\"T_bf14c_\">\n",
       "  <thead>\n",
       "    <tr>\n",
       "      <th class=\"col_heading level0 col0\" >$x$</th>\n",
       "      <th class=\"col_heading level0 col1\" >$y$</th>\n",
       "      <th class=\"col_heading level0 col2\" >$w_1$</th>\n",
       "      <th class=\"col_heading level0 col3\" >$b_1$</th>\n",
       "      <th class=\"col_heading level0 col4\" >$i_1$</th>\n",
       "      <th class=\"col_heading level0 col5\" >$z_1$</th>\n",
       "      <th class=\"col_heading level0 col6\" >$a_1$</th>\n",
       "      <th class=\"col_heading level0 col7\" >$w_2$</th>\n",
       "      <th class=\"col_heading level0 col8\" >$b_2$</th>\n",
       "      <th class=\"col_heading level0 col9\" >$z_2$</th>\n",
       "      <th class=\"col_heading level0 col10\" >$a_2$</th>\n",
       "      <th class=\"col_heading level0 col11\" >$\\hat{y}$</th>\n",
       "      <th class=\"col_heading level0 col12\" >$L(w,b|x)$</th>\n",
       "    </tr>\n",
       "  </thead>\n",
       "  <tbody>\n",
       "    <tr>\n",
       "      <td id=\"T_bf14c_row0_col0\" class=\"data row0 col0\" >5</td>\n",
       "      <td id=\"T_bf14c_row0_col1\" class=\"data row0 col1\" >0.01</td>\n",
       "      <td id=\"T_bf14c_row0_col2\" class=\"data row0 col2\" >0.1</td>\n",
       "      <td id=\"T_bf14c_row0_col3\" class=\"data row0 col3\" >-0.1</td>\n",
       "      <td id=\"T_bf14c_row0_col4\" class=\"data row0 col4\" ></td>\n",
       "      <td id=\"T_bf14c_row0_col5\" class=\"data row0 col5\" ></td>\n",
       "      <td id=\"T_bf14c_row0_col6\" class=\"data row0 col6\" ></td>\n",
       "      <td id=\"T_bf14c_row0_col7\" class=\"data row0 col7\" >0.3</td>\n",
       "      <td id=\"T_bf14c_row0_col8\" class=\"data row0 col8\" >0.3</td>\n",
       "      <td id=\"T_bf14c_row0_col9\" class=\"data row0 col9\" ></td>\n",
       "      <td id=\"T_bf14c_row0_col10\" class=\"data row0 col10\" ></td>\n",
       "      <td id=\"T_bf14c_row0_col11\" class=\"data row0 col11\" ></td>\n",
       "      <td id=\"T_bf14c_row0_col12\" class=\"data row0 col12\" ></td>\n",
       "    </tr>\n",
       "  </tbody>\n",
       "</table>\n"
      ],
      "text/plain": [
       "<pandas.io.formats.style.Styler at 0x7ff272f35950>"
      ]
     },
     "execution_count": 5,
     "metadata": {},
     "output_type": "execute_result"
    }
   ],
   "source": [
    "updateTable1(x, y, w1, b1, w2, b2, i1, z1, a1, z2, a2, haty,L)"
   ]
  },
  {
   "cell_type": "markdown",
   "metadata": {
    "hide_input": true
   },
   "source": [
    "## Example: Backward pass to compute $\\frac{\\partial L(w,b|x)}{\\partial w_2}$\n",
    "\n",
    "### 1. Identify relevant path (from forward path)\n",
    "\n",
    "Here, we focus on the path from $w_2$ to $L(w,b|x)$, i.e., the second neuron \n",
    "\n",
    "$\\begin{eqnarray}\n",
    "z_2 &=&  w_2 a_{1} + b_2\\\\\n",
    "a_2 &=& \\sigma(z_2) = \\frac{1}{1+e^{-z_2}}\\\\\n",
    "L(w,b|x) &=& \\frac{1}{2}\\left(y-\\hat{y}\\right)^2 = \\frac{1}{2}\\left(y-a_2\\right)^2\n",
    "\\end{eqnarray}$\n",
    "\n",
    "### 2. Apply chain rule\n",
    "\n",
    "We use the chain rule to split $\\frac{\\partial L(w,b|x)}{\\partial w_2}$ on $a_2$ and $z_2$, in turn, and do it  backwards along the path, i.e., from right to left in the figure above.\n",
    "\n",
    "#### First split on $a_2$:\n",
    "\n",
    "$\\hspace{1cm}\\begin{eqnarray} \n",
    "\\frac{\\partial L(w,b|x)}{\\partial w_2} &=&  \\frac{\\partial a_2}{\\partial w_2}\\times \\frac{\\partial L(w,b|x)}{\\partial a_2} \n",
    "\\end{eqnarray}$\n",
    "\n",
    "#### Then split first factor on $z_2$:\n",
    "\n",
    "$\\hspace{1cm}\\begin{eqnarray} \n",
    "\\frac{\\partial L(w,b|x)}{\\partial w_2} &=&  \\frac{\\partial z_2}{\\partial w_2}\\times \\frac{\\partial a_2}{\\partial z_2} \\times \\frac{\\partial L(w,b|x)}{\\partial a_2} \n",
    "\\end{eqnarray}$"
   ]
  },
  {
   "cell_type": "markdown",
   "metadata": {},
   "source": [
    "### 3. Compute individual partial derivatives\n",
    "\n",
    "The resulting partial derivatives are easier to compute. In fact you know how to compute some of them already:\n",
    "\n",
    "- $\\begin{eqnarray}\n",
    "\\frac{\\partial L(w,b|x)}{\\partial a_2} \n",
    "&=&  \\frac{\\partial \\frac{1}{2}(y-a_2)^2}{\\partial a_2}\n",
    "\\end{eqnarray}$  \n",
    "This is a derivative we just learnt above (with $x$ substituted for $a_1$ and $b$ for $y$),  \n",
    "$\\begin{eqnarray}\n",
    "\\frac{\\partial L(w,b|x)}{\\partial a_2} \n",
    "&=&  a_2-y\n",
    "\\end{eqnarray}$  \n",
    "Now, we just need to fill in the values of $y$ and $a_2$ from our Forward pass table  \n",
    "$\\begin{eqnarray}\\frac{\\partial L(w,b|x)}{\\partial a_2} \n",
    "&=&  0.61 - 0.1 = 0.51\n",
    "\\end{eqnarray}$  \n",
    "<br>\n",
    " \n",
    "- $\\begin{eqnarray}\n",
    "\\frac{\\partial a_2}{\\partial z_2} \n",
    "&=&  \\frac{\\partial \\sigma(z_2)}{\\partial z_2}\\\\\n",
    "\\end{eqnarray}$  \n",
    "Again, a derivative we learned above (with $x$ substituted for $z_2$).  \n",
    "$\\begin{eqnarray}\n",
    "\\frac{\\partial a_2}{\\partial z_2} \n",
    "&=&  \\sigma(z_2)\\left(1-\\sigma(z_2)\\right) = a_2(1-a_2)\\\\\n",
    "\\end{eqnarray}$\n",
    "Filling in the values of $a_2$ from our Forward pass table, gives  \n",
    "$\\begin{eqnarray}\n",
    "\\frac{\\partial a_2}{\\partial z_2} \n",
    "&=&  0.61\\times(1-0.61) = 0.2379\n",
    "\\end{eqnarray}$  \n",
    "<br>\n",
    "\n",
    "\n",
    "- $\\begin{eqnarray}\n",
    "\\frac{\\partial z_2}{\\partial w_2} &=&  \\frac{\\partial w_2 a_1+b_2}{\\partial w_2} \\\\\n",
    "\\end{eqnarray}$  \n",
    "which is a is a derivative of a sum that can be solved with the standard derivative rules above,  \n",
    "$\\begin{eqnarray}\n",
    "\\frac{\\partial z_2}{\\partial w_2} &=&  a_1 \\\\\n",
    "\\end{eqnarray}$ \n",
    "Filling in the values of and $a_1$ from our Forward pass table, gives us  \n",
    "$\\begin{eqnarray}\n",
    "\\frac{\\partial z_2}{\\partial w_2} &=&  0.48 \\\\\n",
    "\\end{eqnarray}$ \n",
    "\n",
    "\n",
    "\n",
    "### 4. Compute the requested (full) partial derivative\n",
    "\n",
    "Finally, we get the value of $\\frac{\\partial L(w,b|x)}{\\partial w_1}$ by simply multiplying the three partial derivatives.\n",
    "\n",
    "$\\hspace{1cm}\\begin{eqnarray} \n",
    "\\frac{\\partial L(w,b|x)}{\\partial w_2} &=&  \\frac{\\partial z_2}{\\partial w_2}\\times \\frac{\\partial a_2}{\\partial z_2} \\times \\frac{\\partial L(w,b|x)}{\\partial a_2}\\\\\n",
    "&=& 0.48 \\times 0.2379 \\times 0.51 = 0.3958\n",
    "\\end{eqnarray}$\n",
    "\n"
   ]
  },
  {
   "cell_type": "markdown",
   "metadata": {},
   "source": [
    "### 5. Compute the updated weight $w'_2$\n",
    "\n",
    "Recall that an updated weight $w'$ is computed as\n",
    "\n",
    "$$w' = w - \\eta \\frac{\\partial L(w,b|x)}{\\partial w_2}$$\n",
    "\n",
    "Let's use an $\\eta = 0.05$\n",
    "\n",
    "$\\hspace{1cm}\\begin{eqnarray} \n",
    "w'_2 &=& w_1 - \\eta \\times \\frac{\\partial L(w,b|x)}{\\partial w_2} \n",
    "&=& 0.1 - 0.05\\times 0.3958 \n",
    "\\end{eqnarray}$"
   ]
  },
  {
   "cell_type": "markdown",
   "metadata": {},
   "source": [
    "### Program it!\n",
    "Let's perform the computation of the variables above as python variable and summarize these variables in a table. We use this simple scheme for naming the variables:\n",
    "\n",
    "`dLda2` = $\\frac{\\partial L(b,w|x)}{\\partial a_2}$\n",
    "\n",
    "`da2dz2` = $\\frac{\\partial a_2}{\\partial z_2}$\n",
    "\n",
    "etc.\n",
    "\n",
    "The variables will then be:"
   ]
  },
  {
   "cell_type": "code",
   "execution_count": 6,
   "metadata": {
    "hide_input": true
   },
   "outputs": [],
   "source": [
    "#import tensorflow as tf\n",
    "i1 = x\n",
    "z1 = w1 * i1 +b1\n",
    "a1 = sigma(z1) #tf.sigmoid(z1).numpy()\n",
    "z2 = w2 * a1 + b2\n",
    "a2 = sigma(z2) #tf.sigmoid(z2).numpy()\n",
    "haty=a2\n",
    "L = (y-haty)/2"
   ]
  },
  {
   "cell_type": "code",
   "execution_count": 7,
   "metadata": {},
   "outputs": [],
   "source": [
    "dLda2 = a2 - y\n",
    "da2dz2 = a2 * (1-a2)\n",
    "dz2dw2 = a2\n",
    "dLdw2 = dLda2 * da2dz2 * dz2dw2\n",
    "eta = 0.05\n",
    "w2new = w2 - dLdw2 * eta"
   ]
  },
  {
   "cell_type": "code",
   "execution_count": 8,
   "metadata": {
    "hide_input": true
   },
   "outputs": [
    {
     "data": {
      "text/html": [
       "<style type=\"text/css\">\n",
       "#T_bf049_ th {\n",
       "  font-size: 18px;\n",
       "  max-width: 2.5cm;\n",
       "  text-align: left;\n",
       "}\n",
       "#T_bf049_ td {\n",
       "  font-size: 18px;\n",
       "  max-width: 2.5cm;\n",
       "  text-align: left;\n",
       "}\n",
       "</style>\n",
       "<table id=\"T_bf049_\">\n",
       "  <thead>\n",
       "    <tr>\n",
       "      <th class=\"col_heading level0 col0\" >$\\frac{\\partial L(b,w|x)}{\\partial a_2}$</th>\n",
       "      <th class=\"col_heading level0 col1\" >$\\frac{\\partial a_2}{\\partial z_2}$</th>\n",
       "      <th class=\"col_heading level0 col2\" >$\\frac{\\partial z_2}{\\partial w_2}$</th>\n",
       "      <th class=\"col_heading level0 col3\" >$\\eta$</th>\n",
       "      <th class=\"col_heading level0 col4\" >$w'_2$</th>\n",
       "    </tr>\n",
       "  </thead>\n",
       "  <tbody>\n",
       "    <tr>\n",
       "      <td id=\"T_bf049_row0_col0\" class=\"data row0 col0\" >   0.599    </td>\n",
       "      <td id=\"T_bf049_row0_col1\" class=\"data row0 col1\" >0.238</td>\n",
       "      <td id=\"T_bf049_row0_col2\" class=\"data row0 col2\" >0.609</td>\n",
       "      <td id=\"T_bf049_row0_col3\" class=\"data row0 col3\" >0.05</td>\n",
       "      <td id=\"T_bf049_row0_col4\" class=\"data row0 col4\" >0.296</td>\n",
       "    </tr>\n",
       "  </tbody>\n",
       "</table>\n"
      ],
      "text/plain": [
       "<pandas.io.formats.style.Styler at 0x7ff272f35bd0>"
      ]
     },
     "execution_count": 8,
     "metadata": {},
     "output_type": "execute_result"
    }
   ],
   "source": [
    "updateTable2(dLda2, da2dz2, dz2dw2, dLdw2, eta, w2new)"
   ]
  },
  {
   "cell_type": "markdown",
   "metadata": {},
   "source": [
    "### What about the other layers?\n",
    "\n",
    "To compute, e.g., $\\frac{\\partial L(w,b|x)}{\\partial w_1}$, we will need to apply the chain rule to split on to $a_2$, $a_z$, $a_1$, $z_1$, etc...\n",
    "\n",
    "... in fact, that's what you will do now!"
   ]
  },
  {
   "cell_type": "markdown",
   "metadata": {},
   "source": [
    "## Task 2. Backward pass\n",
    "\n",
    "Perform a backward pass to update the value of $w_1$, that is, use the chain rule to split $\\frac{\\partial L(b,w|x)}{\\partial w_1}$, create variables for the intermediate expressions and compute their values, values compute the value of $\\frac{\\partial L(b,w|x)}{\\partial w_1}$, and compute $w'_2$ (i.e., the updated value of $w_2$)\n",
    "\n",
    "Let's first print out the ANN and the table with values from the forward pass again, just to have them handy \n",
    "\n",
    "<img src=\"./assets/figExercise.png\" alt=\"Neuron\" width=\"600\"/>"
   ]
  },
  {
   "cell_type": "code",
   "execution_count": 9,
   "metadata": {
    "hide_input": true
   },
   "outputs": [
    {
     "data": {
      "text/html": [
       "<style type=\"text/css\">\n",
       "#T_fa314_ th {\n",
       "  font-size: 18px;\n",
       "  max-width: 2.5cm;\n",
       "  text-align: left;\n",
       "}\n",
       "#T_fa314_ td {\n",
       "  font-size: 18px;\n",
       "  max-width: 2.5cm;\n",
       "  text-align: left;\n",
       "}\n",
       "</style>\n",
       "<table id=\"T_fa314_\">\n",
       "  <thead>\n",
       "    <tr>\n",
       "      <th class=\"col_heading level0 col0\" >$x$</th>\n",
       "      <th class=\"col_heading level0 col1\" >$y$</th>\n",
       "      <th class=\"col_heading level0 col2\" >$w_1$</th>\n",
       "      <th class=\"col_heading level0 col3\" >$b_1$</th>\n",
       "      <th class=\"col_heading level0 col4\" >$i_1$</th>\n",
       "      <th class=\"col_heading level0 col5\" >$z_1$</th>\n",
       "      <th class=\"col_heading level0 col6\" >$a_1$</th>\n",
       "      <th class=\"col_heading level0 col7\" >$w_2$</th>\n",
       "      <th class=\"col_heading level0 col8\" >$b_2$</th>\n",
       "      <th class=\"col_heading level0 col9\" >$z_2$</th>\n",
       "      <th class=\"col_heading level0 col10\" >$a_2$</th>\n",
       "      <th class=\"col_heading level0 col11\" >$\\hat{y}$</th>\n",
       "      <th class=\"col_heading level0 col12\" >$L(w,b|x)$</th>\n",
       "    </tr>\n",
       "  </thead>\n",
       "  <tbody>\n",
       "    <tr>\n",
       "      <td id=\"T_fa314_row0_col0\" class=\"data row0 col0\" >5</td>\n",
       "      <td id=\"T_fa314_row0_col1\" class=\"data row0 col1\" >0.01</td>\n",
       "      <td id=\"T_fa314_row0_col2\" class=\"data row0 col2\" >0.1</td>\n",
       "      <td id=\"T_fa314_row0_col3\" class=\"data row0 col3\" >-0.1</td>\n",
       "      <td id=\"T_fa314_row0_col4\" class=\"data row0 col4\" >0.05</td>\n",
       "      <td id=\"T_fa314_row0_col5\" class=\"data row0 col5\" >-0.095</td>\n",
       "      <td id=\"T_fa314_row0_col6\" class=\"data row0 col6\" >0.476</td>\n",
       "      <td id=\"T_fa314_row0_col7\" class=\"data row0 col7\" >0.3</td>\n",
       "      <td id=\"T_fa314_row0_col8\" class=\"data row0 col8\" >0.3</td>\n",
       "      <td id=\"T_fa314_row0_col9\" class=\"data row0 col9\" >0.443</td>\n",
       "      <td id=\"T_fa314_row0_col10\" class=\"data row0 col10\" >0.609</td>\n",
       "      <td id=\"T_fa314_row0_col11\" class=\"data row0 col11\" >0.609</td>\n",
       "      <td id=\"T_fa314_row0_col12\" class=\"data row0 col12\" >   -0.299   </td>\n",
       "    </tr>\n",
       "  </tbody>\n",
       "</table>\n"
      ],
      "text/plain": [
       "<pandas.io.formats.style.Styler at 0x7ff272f4e6d0>"
      ]
     },
     "execution_count": 9,
     "metadata": {},
     "output_type": "execute_result"
    }
   ],
   "source": [
    "updateTable1(x, y, w1, b1, w2, b2, i1, z1, a1, z2, a2, haty,L)"
   ]
  },
  {
   "cell_type": "markdown",
   "metadata": {},
   "source": [
    "### 1. The relevant path\n",
    "\n",
    "The path from $w_1$ to $L(w,b|x)$ is\n",
    "\n",
    "$\\begin{eqnarray}\n",
    "z_1 &=&  w_1 i_1 + b_1\\\\\n",
    "a_1 &=& \\sigma(z_1) = \\frac{1}{1+e^{-z_1}}\\\\\n",
    "z_2 &=&  w_2 a_{1} + b_2\\\\\n",
    "a_2 &=& \\sigma(z_2) = \\frac{1}{1+e^{-z_2}}\\\\\n",
    "L(w,b|x) &=& \\frac{1}{2}\\left(y-\\hat{y}\\right)^2 = \\frac{1}{2}\\left(y-a_2\\right)^2\n",
    "\\end{eqnarray}$\n",
    "\n",
    "### 2. Apply the chain  rule\n",
    "\n",
    "Appying the chain rule on $a$'s and $z$'s of the layers backwards (from right to left in the figure) gives (green color indicates which expression to split in the next row):\n",
    "\n",
    "<!--\n",
    "$\\hspace{1cm}\\begin{eqnarray} \n",
    "\\frac{\\partial L(w,b|x)}{\\partial w_1} &=&  \\frac{\\partial a_2}{\\partial w_1}\\times \\frac{\\partial L(w,b|x)}{\\partial a_2} \n",
    "\\end{eqnarray}$\n",
    "\n",
    "$\\hspace{1cm}\\begin{eqnarray} \n",
    "\\frac{\\partial a_2}{\\partial w_1} &=&  \\frac{\\partial z_2}{\\partial w_1}\\times \\frac{\\partial a_2}{\\partial z_2} \n",
    "\\end{eqnarray}$\n",
    "\n",
    "$\\hspace{1cm}\\begin{eqnarray} \n",
    "\\frac{\\partial z_2}{\\partial w_1} &=&  \\frac{\\partial a_1}{\\partial w_1}\\times \\frac{\\partial z_2}{\\partial a_1} \n",
    "\\end{eqnarray}$\n",
    "\n",
    "$\\hspace{1cm}\\begin{eqnarray} \n",
    "\\frac{\\partial a_1}{\\partial w_1} &=&  \\frac{\\partial z_1}{\\partial w_1}\\times \\frac{\\partial a_1}{\\partial z_1} \n",
    "\\end{eqnarray}$\n",
    "\n",
    "$\\hspace{1cm}\\begin{eqnarray} \n",
    "\\frac{\\partial z_1}{\\partial w_1x} &=&  \\frac{\\partial w_1 \\times i_1 + b_1}{\\partial w_1}\n",
    "\\end{eqnarray}$\n",
    "-->\n",
    "\n",
    "\n",
    "$\\hspace{1cm}\\begin{eqnarray} \n",
    "\\frac{\\partial L(w,b|x)}{\\partial w_1} \n",
    "&=&  \n",
    "\\color{green}{\\frac{\\partial a_2}{\\partial w_1}} \n",
    "\\times \\frac{\\partial L(w,b|x)}{\\partial a_2} \\\\\n",
    "%\\frac{\\partial L(w,b|x)}{\\partial w_1} \n",
    "&=&  \n",
    "\\color{green}{\\frac{\\partial z_2}{\\partial w_1}}\n",
    "\\times \\frac{\\partial a_2}{\\partial z_2} \n",
    "\\times \\frac{\\partial L(w,b|x)}{\\partial a_2} \\\\\n",
    "%\\frac{\\partial L(w,b|x)}{\\partial w_1} \n",
    "&=&  \n",
    "\\color{green}{\\frac{\\partial a_1}{\\partial w_1}}\n",
    "\\times \\frac{\\partial z_2}{\\partial a_1}\n",
    "\\times \\frac{\\partial a_2}{\\partial z_2} \n",
    "\\times \\frac{\\partial L(w,b|x)}{\\partial a_2} \\\\\n",
    "%\\frac{\\partial L(w,b|x)}{\\partial w_1} \n",
    "&=&  \n",
    "\\color{green}{\\frac{\\partial z_1}{\\partial w_1}}\n",
    "\\times \\frac{\\partial a_1}{\\partial z_1} \n",
    "\\times \\frac{\\partial z_2}{\\partial a_1}\n",
    "\\times \\frac{\\partial a_2}{\\partial z_2} \n",
    "\\times \\frac{\\partial L(w,b|x)}{\\partial a_2} \n",
    "\\end{eqnarray}$\n",
    "\n",
    "We see that we have already computed the last of these partial derivatives, namely $\\frac{\\partial a_2}{\\partial z_2}$ and $\\frac{\\partial L(w,b|x)}{\\partial a_2}$. This is a very nice feature of back-propagation:  \n",
    "$\\quad$_If we have computed the values of partial derivatives for a layer, we can **reuse** these expressions in the preceeding layer._\n",
    "\n",
    "(In computer science terms, back propagation is a _dynamic programming_ algorithm, that is, it is works in an iterative fashion, tabulates the values from one iteration (=layer), and reuses them in the next iteration in the algorithm (i.e., the previous layer, since we go backwards).)\n",
    "\n",
    "Let's set up python variables for these intermediate expressions (reuse the ones already computed!):"
   ]
  },
  {
   "cell_type": "code",
   "execution_count": 10,
   "metadata": {
    "hide_input": false
   },
   "outputs": [],
   "source": [
    "# Unknown variables to compute in Back-propagation\n",
    "\n",
    "#dLda2 = \"\" # Already computed, reuse\n",
    "#da2dz2 = \"\" # Already computed, reuse!\n",
    "dz2da1 = \"\"\n",
    "da1dz1 = \"\"\n",
    "dz1dw1 = \"\"\n",
    "dLdw1 = \"\"\n",
    "#eta = \"\" # Already computed, reuse\n",
    "w1new = \"\"\n"
   ]
  },
  {
   "cell_type": "markdown",
   "metadata": {},
   "source": [
    "And a table with these values (execute the table cell to update the table!)"
   ]
  },
  {
   "cell_type": "code",
   "execution_count": 11,
   "metadata": {
    "hide_input": true
   },
   "outputs": [
    {
     "data": {
      "text/html": [
       "<style type=\"text/css\">\n",
       "#T_64787_ th {\n",
       "  font-size: 18px;\n",
       "  max-width: 2.5cm;\n",
       "  text-align: left;\n",
       "}\n",
       "#T_64787_ td {\n",
       "  font-size: 18px;\n",
       "  max-width: 2.5cm;\n",
       "  text-align: left;\n",
       "}\n",
       "</style>\n",
       "<table id=\"T_64787_\">\n",
       "  <thead>\n",
       "    <tr>\n",
       "      <th class=\"col_heading level0 col0\" >$w'_1$</th>\n",
       "      <th class=\"col_heading level0 col1\" >$\\eta$</th>\n",
       "      <th class=\"col_heading level0 col2\" >$\\frac{\\partial L(w,b|x)}{\\partial w_1}$</th>\n",
       "      <th class=\"col_heading level0 col3\" >$\\frac{\\partial z_1}{\\partial w_1}$</th>\n",
       "      <th class=\"col_heading level0 col4\" >$\\frac{\\partial a_1}{\\partial z_1}$</th>\n",
       "      <th class=\"col_heading level0 col5\" >$\\frac{\\partial z_2}{\\partial a_1}$</th>\n",
       "      <th class=\"col_heading level0 col6\" >$\\frac{\\partial a_2}{\\partial z_2}$</th>\n",
       "      <th class=\"col_heading level0 col7\" >$\\frac{\\partial L(w,b|x)}{\\partial a_2}$</th>\n",
       "    </tr>\n",
       "  </thead>\n",
       "  <tbody>\n",
       "    <tr>\n",
       "      <td id=\"T_64787_row0_col0\" class=\"data row0 col0\" ></td>\n",
       "      <td id=\"T_64787_row0_col1\" class=\"data row0 col1\" >0.05</td>\n",
       "      <td id=\"T_64787_row0_col2\" class=\"data row0 col2\" ></td>\n",
       "      <td id=\"T_64787_row0_col3\" class=\"data row0 col3\" ></td>\n",
       "      <td id=\"T_64787_row0_col4\" class=\"data row0 col4\" ></td>\n",
       "      <td id=\"T_64787_row0_col5\" class=\"data row0 col5\" ></td>\n",
       "      <td id=\"T_64787_row0_col6\" class=\"data row0 col6\" >0.238</td>\n",
       "      <td id=\"T_64787_row0_col7\" class=\"data row0 col7\" >   0.599    </td>\n",
       "    </tr>\n",
       "  </tbody>\n",
       "</table>\n"
      ],
      "text/plain": [
       "<pandas.io.formats.style.Styler at 0x7ff272f56d90>"
      ]
     },
     "execution_count": 11,
     "metadata": {},
     "output_type": "execute_result"
    }
   ],
   "source": [
    "updateTable3(dLda2, da2dz2, dz2da1, da1dz1, dz1dw1, dLdw1, eta, w1new)"
   ]
  },
  {
   "cell_type": "markdown",
   "metadata": {
    "cell_style": "center"
   },
   "source": [
    "### 3. Solve partial derivatives 1\n",
    "\n",
    "$\\begin{eqnarray}\n",
    "\\frac{\\partial z_2}{\\partial a_1} \n",
    "&=&  \\frac{\\partial w_2 a_1 +b_1}{\\partial a_1} \\\\\n",
    "&=& ?\n",
    "\\end{eqnarray}$\n",
    "\n",
    "***\n",
    "<details>\n",
    "    <summary> Solution </summary>\n",
    "$\\begin{eqnarray}\n",
    "\\frac{\\partial z_2}{\\partial a_1} \n",
    "&=&  \\frac{\\partial w_2 a_1 +b_1}{\\partial a_1} \\\\\n",
    "&=& w_2\n",
    "\\end{eqnarray}$\n",
    "</details>\n",
    "\n",
    "***\n",
    "\n",
    "- Then fill in the corresponding code below and see if you get the same table values"
   ]
  },
  {
   "cell_type": "code",
   "execution_count": 12,
   "metadata": {
    "cell_style": "center",
    "hide_input": false
   },
   "outputs": [],
   "source": [
    "# Replace \"\" with the code to compute this variable\n",
    "dz2da1 = \"\""
   ]
  },
  {
   "cell_type": "markdown",
   "metadata": {},
   "source": [
    "And a table with these values (execute the table cell to update the table!)"
   ]
  },
  {
   "cell_type": "code",
   "execution_count": 13,
   "metadata": {
    "hide_input": true
   },
   "outputs": [
    {
     "data": {
      "text/html": [
       "<style type=\"text/css\">\n",
       "#T_857a1_ th {\n",
       "  font-size: 18px;\n",
       "  max-width: 2.5cm;\n",
       "  text-align: left;\n",
       "}\n",
       "#T_857a1_ td {\n",
       "  font-size: 18px;\n",
       "  max-width: 2.5cm;\n",
       "  text-align: left;\n",
       "}\n",
       "</style>\n",
       "<table id=\"T_857a1_\">\n",
       "  <thead>\n",
       "    <tr>\n",
       "      <th class=\"col_heading level0 col0\" >$w'_1$</th>\n",
       "      <th class=\"col_heading level0 col1\" >$\\eta$</th>\n",
       "      <th class=\"col_heading level0 col2\" >$\\frac{\\partial L(w,b|x)}{\\partial w_1}$</th>\n",
       "      <th class=\"col_heading level0 col3\" >$\\frac{\\partial z_1}{\\partial w_1}$</th>\n",
       "      <th class=\"col_heading level0 col4\" >$\\frac{\\partial a_1}{\\partial z_1}$</th>\n",
       "      <th class=\"col_heading level0 col5\" >$\\frac{\\partial z_2}{\\partial a_1}$</th>\n",
       "      <th class=\"col_heading level0 col6\" >$\\frac{\\partial a_2}{\\partial z_2}$</th>\n",
       "      <th class=\"col_heading level0 col7\" >$\\frac{\\partial L(w,b|x)}{\\partial a_2}$</th>\n",
       "    </tr>\n",
       "  </thead>\n",
       "  <tbody>\n",
       "    <tr>\n",
       "      <td id=\"T_857a1_row0_col0\" class=\"data row0 col0\" ></td>\n",
       "      <td id=\"T_857a1_row0_col1\" class=\"data row0 col1\" >0.05</td>\n",
       "      <td id=\"T_857a1_row0_col2\" class=\"data row0 col2\" ></td>\n",
       "      <td id=\"T_857a1_row0_col3\" class=\"data row0 col3\" ></td>\n",
       "      <td id=\"T_857a1_row0_col4\" class=\"data row0 col4\" ></td>\n",
       "      <td id=\"T_857a1_row0_col5\" class=\"data row0 col5\" ></td>\n",
       "      <td id=\"T_857a1_row0_col6\" class=\"data row0 col6\" >0.238</td>\n",
       "      <td id=\"T_857a1_row0_col7\" class=\"data row0 col7\" >   0.599    </td>\n",
       "    </tr>\n",
       "  </tbody>\n",
       "</table>\n"
      ],
      "text/plain": [
       "<pandas.io.formats.style.Styler at 0x7ff26eb7c790>"
      ]
     },
     "execution_count": 13,
     "metadata": {},
     "output_type": "execute_result"
    }
   ],
   "source": [
    "updateTable3(dLda2, da2dz2, dz2da1, da1dz1, dz1dw1, dLdw1, eta, w1new)"
   ]
  },
  {
   "cell_type": "markdown",
   "metadata": {
    "cell_style": "center"
   },
   "source": [
    "### 3. Solve partial derivatives 2\n",
    "$\\begin{eqnarray}\n",
    "\\frac{\\partial a_1}{\\partial z_2} \n",
    "&=&  \\frac{\\partial \\sigma(z_2)}{\\partial z_2} \\\\\n",
    "&=& \\sigma(z_2)\\left(1-\\sigma(z_2)\\right)\\\\\n",
    "&=& a_1\\left(1-a_1\\right)\n",
    "\\end{eqnarray}$\n",
    "\n",
    "***\n",
    "<details>\n",
    "    <summary> Solution </summary>\n",
    "$\\begin{eqnarray}\n",
    "\\frac{\\partial a_1}{\\partial z_2} \n",
    "&=&  \\frac{\\partial \\sigma(z_2)}{\\partial z_2} \\\\\n",
    "&=& \\sigma(z_2)\\left(1-\\sigma(z_2)\\right)\\\\\n",
    "&=& a_1\\left(1-a_1\\right)\n",
    "\\end{eqnarray}$\n",
    "\n",
    "</details>\n",
    "\n",
    "***\n",
    "\n",
    "- Then fill in the corresponding code below and see if you get the same table values"
   ]
  },
  {
   "cell_type": "code",
   "execution_count": 14,
   "metadata": {
    "hide_input": true
   },
   "outputs": [],
   "source": [
    "# Replace \"\" with the code to compute this variable\n",
    "\n",
    "da1dz1 = \"\""
   ]
  },
  {
   "cell_type": "markdown",
   "metadata": {},
   "source": [
    "And a table with these values (execute the table cell to update the table!)"
   ]
  },
  {
   "cell_type": "code",
   "execution_count": 15,
   "metadata": {
    "cell_style": "center",
    "hide_input": true,
    "scrolled": true,
    "slideshow": {
     "slide_type": "-"
    }
   },
   "outputs": [
    {
     "data": {
      "text/html": [
       "<style type=\"text/css\">\n",
       "#T_cd5b6_ th {\n",
       "  font-size: 18px;\n",
       "  max-width: 2.5cm;\n",
       "  text-align: left;\n",
       "}\n",
       "#T_cd5b6_ td {\n",
       "  font-size: 18px;\n",
       "  max-width: 2.5cm;\n",
       "  text-align: left;\n",
       "}\n",
       "</style>\n",
       "<table id=\"T_cd5b6_\">\n",
       "  <thead>\n",
       "    <tr>\n",
       "      <th class=\"col_heading level0 col0\" >$w'_1$</th>\n",
       "      <th class=\"col_heading level0 col1\" >$\\eta$</th>\n",
       "      <th class=\"col_heading level0 col2\" >$\\frac{\\partial L(w,b|x)}{\\partial w_1}$</th>\n",
       "      <th class=\"col_heading level0 col3\" >$\\frac{\\partial z_1}{\\partial w_1}$</th>\n",
       "      <th class=\"col_heading level0 col4\" >$\\frac{\\partial a_1}{\\partial z_1}$</th>\n",
       "      <th class=\"col_heading level0 col5\" >$\\frac{\\partial z_2}{\\partial a_1}$</th>\n",
       "      <th class=\"col_heading level0 col6\" >$\\frac{\\partial a_2}{\\partial z_2}$</th>\n",
       "      <th class=\"col_heading level0 col7\" >$\\frac{\\partial L(w,b|x)}{\\partial a_2}$</th>\n",
       "    </tr>\n",
       "  </thead>\n",
       "  <tbody>\n",
       "    <tr>\n",
       "      <td id=\"T_cd5b6_row0_col0\" class=\"data row0 col0\" ></td>\n",
       "      <td id=\"T_cd5b6_row0_col1\" class=\"data row0 col1\" >0.05</td>\n",
       "      <td id=\"T_cd5b6_row0_col2\" class=\"data row0 col2\" ></td>\n",
       "      <td id=\"T_cd5b6_row0_col3\" class=\"data row0 col3\" ></td>\n",
       "      <td id=\"T_cd5b6_row0_col4\" class=\"data row0 col4\" ></td>\n",
       "      <td id=\"T_cd5b6_row0_col5\" class=\"data row0 col5\" ></td>\n",
       "      <td id=\"T_cd5b6_row0_col6\" class=\"data row0 col6\" >0.238</td>\n",
       "      <td id=\"T_cd5b6_row0_col7\" class=\"data row0 col7\" >   0.599    </td>\n",
       "    </tr>\n",
       "  </tbody>\n",
       "</table>\n"
      ],
      "text/plain": [
       "<pandas.io.formats.style.Styler at 0x7ff272f5d250>"
      ]
     },
     "execution_count": 15,
     "metadata": {},
     "output_type": "execute_result"
    }
   ],
   "source": [
    "updateTable3(dLda2, da2dz2, dz2da1, da1dz1, dz1dw1, dLdw1, eta, w1new)"
   ]
  },
  {
   "cell_type": "markdown",
   "metadata": {
    "cell_style": "center"
   },
   "source": [
    "### 3. Solve partial derivatives  3\n",
    "$\\begin{eqnarray}\n",
    "\\frac{\\partial z_1}{\\partial w_1} \n",
    "&=&  \\frac{\\partial w_1 i_1 + b_1}{\\partial w_1}\\\\\n",
    "&=& ?\n",
    "\\end{eqnarray}$\n",
    "\n",
    "***\n",
    "<details>\n",
    "    <summary> Solution </summary>\n",
    "$\\begin{eqnarray}\n",
    "\\frac{\\partial z_1}{\\partial w_1} \n",
    "&=&  \\frac{\\partial w_1 i_1 + b_1}{\\partial w_1}\\\\\n",
    "&=& i_1\n",
    "\\end{eqnarray}$\n",
    "\n",
    "\n",
    "</details>\n",
    "\n",
    "***\n",
    "\n",
    "- Then fill in the corresponding code below and see if you get the same table values"
   ]
  },
  {
   "cell_type": "code",
   "execution_count": 16,
   "metadata": {
    "hide_input": true
   },
   "outputs": [],
   "source": [
    "# Replace \"\" with the code to compute this variable\n",
    "\n",
    "dz1dw1 = \"\""
   ]
  },
  {
   "cell_type": "markdown",
   "metadata": {},
   "source": [
    "And a table with these values (execute the table cell to update the table!)"
   ]
  },
  {
   "cell_type": "code",
   "execution_count": 17,
   "metadata": {
    "hide_input": true,
    "scrolled": true,
    "slideshow": {
     "slide_type": "-"
    }
   },
   "outputs": [
    {
     "data": {
      "text/html": [
       "<style type=\"text/css\">\n",
       "#T_cedd5_ th {\n",
       "  font-size: 18px;\n",
       "  max-width: 2.5cm;\n",
       "  text-align: left;\n",
       "}\n",
       "#T_cedd5_ td {\n",
       "  font-size: 18px;\n",
       "  max-width: 2.5cm;\n",
       "  text-align: left;\n",
       "}\n",
       "</style>\n",
       "<table id=\"T_cedd5_\">\n",
       "  <thead>\n",
       "    <tr>\n",
       "      <th class=\"col_heading level0 col0\" >$w'_1$</th>\n",
       "      <th class=\"col_heading level0 col1\" >$\\eta$</th>\n",
       "      <th class=\"col_heading level0 col2\" >$\\frac{\\partial L(w,b|x)}{\\partial w_1}$</th>\n",
       "      <th class=\"col_heading level0 col3\" >$\\frac{\\partial z_1}{\\partial w_1}$</th>\n",
       "      <th class=\"col_heading level0 col4\" >$\\frac{\\partial a_1}{\\partial z_1}$</th>\n",
       "      <th class=\"col_heading level0 col5\" >$\\frac{\\partial z_2}{\\partial a_1}$</th>\n",
       "      <th class=\"col_heading level0 col6\" >$\\frac{\\partial a_2}{\\partial z_2}$</th>\n",
       "      <th class=\"col_heading level0 col7\" >$\\frac{\\partial L(w,b|x)}{\\partial a_2}$</th>\n",
       "    </tr>\n",
       "  </thead>\n",
       "  <tbody>\n",
       "    <tr>\n",
       "      <td id=\"T_cedd5_row0_col0\" class=\"data row0 col0\" ></td>\n",
       "      <td id=\"T_cedd5_row0_col1\" class=\"data row0 col1\" >0.05</td>\n",
       "      <td id=\"T_cedd5_row0_col2\" class=\"data row0 col2\" ></td>\n",
       "      <td id=\"T_cedd5_row0_col3\" class=\"data row0 col3\" ></td>\n",
       "      <td id=\"T_cedd5_row0_col4\" class=\"data row0 col4\" ></td>\n",
       "      <td id=\"T_cedd5_row0_col5\" class=\"data row0 col5\" ></td>\n",
       "      <td id=\"T_cedd5_row0_col6\" class=\"data row0 col6\" >0.238</td>\n",
       "      <td id=\"T_cedd5_row0_col7\" class=\"data row0 col7\" >   0.599    </td>\n",
       "    </tr>\n",
       "  </tbody>\n",
       "</table>\n"
      ],
      "text/plain": [
       "<pandas.io.formats.style.Styler at 0x7ff272f6d610>"
      ]
     },
     "execution_count": 17,
     "metadata": {},
     "output_type": "execute_result"
    }
   ],
   "source": [
    "updateTable3(dLda2, da2dz2, dz2da1, da1dz1, dz1dw1, dLdw1, eta, w1new)"
   ]
  },
  {
   "cell_type": "markdown",
   "metadata": {
    "cell_style": "center"
   },
   "source": [
    "### 4. Compute the requested (full) partial derivative\n",
    "\n",
    "$\\begin{eqnarray}\n",
    "\\frac{\\partial L(b,w|x)}{\\partial w_1} \n",
    "&=&  \n",
    "\\frac{\\partial z_1}{\\partial w_1} \n",
    "\\times\n",
    "\\frac{\\partial a_1}{\\partial z_1} \n",
    "\\times\n",
    "\\frac{\\partial z_2}{\\partial a_1} \n",
    "\\times\n",
    "\\frac{\\partial a_2}{\\partial z_2} \n",
    "\\times\n",
    "\\frac{\\partial L(b,w|x)}{\\partial a_2} \n",
    "\\end{eqnarray}$\n",
    "\n",
    "- And fill in the corresponding code below and see if you get the same table values"
   ]
  },
  {
   "cell_type": "code",
   "execution_count": 18,
   "metadata": {
    "hide_input": true
   },
   "outputs": [],
   "source": [
    "# Replace \"\" with the code to compute this variable\n",
    "dLdw1 = \"\""
   ]
  },
  {
   "cell_type": "markdown",
   "metadata": {},
   "source": [
    "And a table with these values (execute the table cell to update the table!)"
   ]
  },
  {
   "cell_type": "code",
   "execution_count": 19,
   "metadata": {
    "hide_input": true,
    "scrolled": true,
    "slideshow": {
     "slide_type": "-"
    }
   },
   "outputs": [
    {
     "data": {
      "text/html": [
       "<style type=\"text/css\">\n",
       "#T_5ac25_ th {\n",
       "  font-size: 18px;\n",
       "  max-width: 2.5cm;\n",
       "  text-align: left;\n",
       "}\n",
       "#T_5ac25_ td {\n",
       "  font-size: 18px;\n",
       "  max-width: 2.5cm;\n",
       "  text-align: left;\n",
       "}\n",
       "</style>\n",
       "<table id=\"T_5ac25_\">\n",
       "  <thead>\n",
       "    <tr>\n",
       "      <th class=\"col_heading level0 col0\" >$w'_1$</th>\n",
       "      <th class=\"col_heading level0 col1\" >$\\eta$</th>\n",
       "      <th class=\"col_heading level0 col2\" >$\\frac{\\partial L(w,b|x)}{\\partial w_1}$</th>\n",
       "      <th class=\"col_heading level0 col3\" >$\\frac{\\partial z_1}{\\partial w_1}$</th>\n",
       "      <th class=\"col_heading level0 col4\" >$\\frac{\\partial a_1}{\\partial z_1}$</th>\n",
       "      <th class=\"col_heading level0 col5\" >$\\frac{\\partial z_2}{\\partial a_1}$</th>\n",
       "      <th class=\"col_heading level0 col6\" >$\\frac{\\partial a_2}{\\partial z_2}$</th>\n",
       "      <th class=\"col_heading level0 col7\" >$\\frac{\\partial L(w,b|x)}{\\partial a_2}$</th>\n",
       "    </tr>\n",
       "  </thead>\n",
       "  <tbody>\n",
       "    <tr>\n",
       "      <td id=\"T_5ac25_row0_col0\" class=\"data row0 col0\" ></td>\n",
       "      <td id=\"T_5ac25_row0_col1\" class=\"data row0 col1\" >0.05</td>\n",
       "      <td id=\"T_5ac25_row0_col2\" class=\"data row0 col2\" ></td>\n",
       "      <td id=\"T_5ac25_row0_col3\" class=\"data row0 col3\" ></td>\n",
       "      <td id=\"T_5ac25_row0_col4\" class=\"data row0 col4\" ></td>\n",
       "      <td id=\"T_5ac25_row0_col5\" class=\"data row0 col5\" ></td>\n",
       "      <td id=\"T_5ac25_row0_col6\" class=\"data row0 col6\" >0.238</td>\n",
       "      <td id=\"T_5ac25_row0_col7\" class=\"data row0 col7\" >   0.599    </td>\n",
       "    </tr>\n",
       "  </tbody>\n",
       "</table>\n"
      ],
      "text/plain": [
       "<pandas.io.formats.style.Styler at 0x7ff272f6d2d0>"
      ]
     },
     "execution_count": 19,
     "metadata": {},
     "output_type": "execute_result"
    }
   ],
   "source": [
    "updateTable3(dLda2, da2dz2, dz2da1, da1dz1, dz1dw1, dLdw1, eta, w1new)"
   ]
  },
  {
   "cell_type": "markdown",
   "metadata": {
    "cell_style": "center"
   },
   "source": [
    "### 5. Update $w_1$\n",
    "\n",
    "$\\begin{eqnarray}\n",
    "w'_1\n",
    "&=&  w_1 - \\eta \\frac{\\partial L(b,wx)}{\\partial w_1}\n",
    "\\end{eqnarray}$\n",
    "\n",
    "- And fill in the corresponding code below and see if you get the same table values"
   ]
  },
  {
   "cell_type": "code",
   "execution_count": 20,
   "metadata": {
    "hide_input": true
   },
   "outputs": [],
   "source": [
    "# Replace \"\" with the code to compute this variable\n",
    "\n",
    "w1new = \"\""
   ]
  },
  {
   "cell_type": "markdown",
   "metadata": {},
   "source": [
    "And a table with these values (execute the table cell to update the table!)"
   ]
  },
  {
   "cell_type": "code",
   "execution_count": 21,
   "metadata": {
    "hide_input": true
   },
   "outputs": [
    {
     "data": {
      "text/html": [
       "<style type=\"text/css\">\n",
       "#T_a79ed_ th {\n",
       "  font-size: 18px;\n",
       "  max-width: 2.5cm;\n",
       "  text-align: left;\n",
       "}\n",
       "#T_a79ed_ td {\n",
       "  font-size: 18px;\n",
       "  max-width: 2.5cm;\n",
       "  text-align: left;\n",
       "}\n",
       "</style>\n",
       "<table id=\"T_a79ed_\">\n",
       "  <thead>\n",
       "    <tr>\n",
       "      <th class=\"col_heading level0 col0\" >$w'_1$</th>\n",
       "      <th class=\"col_heading level0 col1\" >$\\eta$</th>\n",
       "      <th class=\"col_heading level0 col2\" >$\\frac{\\partial L(w,b|x)}{\\partial w_1}$</th>\n",
       "      <th class=\"col_heading level0 col3\" >$\\frac{\\partial z_1}{\\partial w_1}$</th>\n",
       "      <th class=\"col_heading level0 col4\" >$\\frac{\\partial a_1}{\\partial z_1}$</th>\n",
       "      <th class=\"col_heading level0 col5\" >$\\frac{\\partial z_2}{\\partial a_1}$</th>\n",
       "      <th class=\"col_heading level0 col6\" >$\\frac{\\partial a_2}{\\partial z_2}$</th>\n",
       "      <th class=\"col_heading level0 col7\" >$\\frac{\\partial L(w,b|x)}{\\partial a_2}$</th>\n",
       "    </tr>\n",
       "  </thead>\n",
       "  <tbody>\n",
       "    <tr>\n",
       "      <td id=\"T_a79ed_row0_col0\" class=\"data row0 col0\" ></td>\n",
       "      <td id=\"T_a79ed_row0_col1\" class=\"data row0 col1\" >0.05</td>\n",
       "      <td id=\"T_a79ed_row0_col2\" class=\"data row0 col2\" ></td>\n",
       "      <td id=\"T_a79ed_row0_col3\" class=\"data row0 col3\" ></td>\n",
       "      <td id=\"T_a79ed_row0_col4\" class=\"data row0 col4\" ></td>\n",
       "      <td id=\"T_a79ed_row0_col5\" class=\"data row0 col5\" ></td>\n",
       "      <td id=\"T_a79ed_row0_col6\" class=\"data row0 col6\" >0.238</td>\n",
       "      <td id=\"T_a79ed_row0_col7\" class=\"data row0 col7\" >   0.599    </td>\n",
       "    </tr>\n",
       "  </tbody>\n",
       "</table>\n"
      ],
      "text/plain": [
       "<pandas.io.formats.style.Styler at 0x7ff272f6dcd0>"
      ]
     },
     "execution_count": 21,
     "metadata": {},
     "output_type": "execute_result"
    }
   ],
   "source": [
    "updateTable3(dLda2, da2dz2, dz2da1, da1dz1, dz1dw1, dLdw1, eta, w1new)"
   ]
  },
  {
   "cell_type": "markdown",
   "metadata": {
    "cell_style": "center"
   },
   "source": [
    "# What about the bias?\n",
    "\n",
    "The biases $b_1$ and b_2$ are udpated in very much the same way as the weights:\n",
    "\n",
    "1. Determine the (forward) path from the bias in question, $b_i$, to the loss function $L(b,w|x)$. For $b_2$ this is: \n",
    "$$\\begin{eqnarray}\n",
    "z_2 &=&  w_2 a_{1} + b_2\\\\\n",
    "a_2 &=& \\sigma(z_2) = \\frac{1}{1+e^{-z_2}}\\\\\n",
    "L(w,b|x) &=& \\frac{1}{2}\\left(y-\\hat{y}\\right)^2 = \\frac{1}{2}\\left(y-a_2\\right)^2\n",
    "\\end{eqnarray}$$  \n",
    "(What would it be for $b_1$?)\n",
    "2. Use the chain rule to split the requested partial derivative $\\frac{\\partial L(b,w|x)}{\\partial b_i}$ on the $a_i$s and $z_i$s along this path.\n",
    "3. Solve ther partial derivatives of the split expression and compute their values\n",
    "4. Compute the value of $\\frac{\\partial L(b,w|x)}{\\partial b_i}$ using the partial derivatives of the split expression\n",
    "5. Update the requested bias $b_i$ using $\\eta$ and $\\frac{\\partial L(b,w|x)}{\\partial b_i}$.\n",
    "\n",
    "(_If and only if_ you get time over, you could try to do this for $b2$ and/or $b_1$)"
   ]
  },
  {
   "cell_type": "markdown",
   "metadata": {
    "slideshow": {
     "slide_type": "-"
    }
   },
   "source": [
    "# What happens if we have more neurons per layer?\n",
    "\n",
    "<img src=\"./assets/figExercise2.png\" alt=\"Neuron\" width=\"600\"/>"
   ]
  },
  {
   "cell_type": "markdown",
   "metadata": {},
   "source": [
    "Well, we would still use the same general approach, but we get more paths to keep track of.\n",
    "\n",
    "## Forward pass\n",
    "\n",
    "Because there are now two paths to go from $i_1$ to $\\hat{y}_1$ (and similarly from $i_1$ to $\\hat{y}_2$), we need to sum over these ways in the forward pass. This is done when computing $z_1^O$, e.g.:\n",
    "\n",
    "$\\begin{eqnarray}\n",
    "\\hat{y}_1 &=& a_1^O = \\sigma(z_1^O)\\\\\n",
    "z_1^O &=& \\left(\\sum_{j=1}^2 w_{j,1}^O a_j^H\\right) + b_1^O\\\\\n",
    "etc.\n",
    "\\end{eqnarray}$\n",
    "\n",
    "## Backward pass\n",
    "\n",
    "Similarly, there are now two paths to consider when computing $\\frac{\\partial L(b,w|w)}{\\partial w_1^H}$, one through $\\hat{y}_1$ and one  trough $\\hat{y}_2$ (see the ANN figure), and again we need to sum over these. Here it is done at the when splitting $\\frac{\\partial L(b,w|x)}{\\partial w_1^H}$ at $a_1^H$, e.g.;\n",
    "\n",
    "$\\begin{eqnarray}\n",
    "\\frac{\\partial L(b,w|x)}{\\partial w_{1,1}^H} &=&\n",
    "\\frac{\\partial z_1^H}{\\partial w_{1,1}^H} \n",
    "\\times\n",
    "\\frac{\\partial a_1^H}{\\partial z_1^H} \n",
    "\\times\n",
    "\\sum_{j=1}^2\n",
    "\\frac{\\partial z_j^O}{\\partial a_1^H} \n",
    "\\times\n",
    "\\frac{\\partial a_j^O}{\\partial z_j^O} \n",
    "\\times\n",
    "\\frac{\\partial L(b,w|x)}{\\partial a_j^H} \n",
    "\\end{eqnarray}$\n",
    "\n"
   ]
  },
  {
   "cell_type": "markdown",
   "metadata": {},
   "source": [
    "## Matrix algebra\n",
    "\n",
    "In fact it turns out that it is beneficial to collect similar variables into vectors and matrices, i.e., gradients, and then use matrix multiplication between these to compute all partial derivatives inone go. \n",
    "\n",
    "However, this would **extra-curricular for this course**, (but a walk-through is provided at the end of the exercise (only in _html_ version) as a challenge only for those who _really loves math_ and _if and only if_ they have time (NB! this will require familiarity with matrix algebra)."
   ]
  },
  {
   "cell_type": "markdown",
   "metadata": {
    "slideshow": {
     "slide_type": "-"
    }
   },
   "source": [
    "## So what does Tensorflow do?\n",
    "\n",
    "Well, it uses matrix multiplication, but adds an additional twist:\n",
    "\n",
    "While it works with gradients, it does this for all training samples at once, so that each gradient for all samples are collected in a multi-dimensional matrix ort a tensor (tensors $\\approx$ \"matrices of any dimension\"). It then uses matrix multiplication on these tensors and perform gradient descent for all samples at the same time.\n",
    "\n",
    "### \"Tensors flows through the network!\"\n",
    "\n"
   ]
  },
  {
   "cell_type": "markdown",
   "metadata": {
    "slideshow": {
     "slide_type": "-"
    }
   },
   "source": [
    "# Summary -- Back-propagation\n",
    "\n",
    "## Efficient computation of partial derivatives $\\frac{\\partial L(w,b|x)}{\\partial v}, v\\in w\\cup b$\n",
    "\n",
    "+ Chain rule allows computing partial derivatives layer-wise, backwards\n",
    "+ By collecting gradients and weights for layers in *tensors* over all training data, all computations in one epoch can be computed at the same time for all training data"
   ]
  }
 ],
 "metadata": {
  "hide_input": false,
  "kernelspec": {
   "display_name": "Python [conda env:nn_dl_python] *",
   "language": "python",
   "name": "conda-env-nn_dl_python-py"
  },
  "language_info": {
   "codemirror_mode": {
    "name": "ipython",
    "version": 3
   },
   "file_extension": ".py",
   "mimetype": "text/x-python",
   "name": "python",
   "nbconvert_exporter": "python",
   "pygments_lexer": "ipython3",
   "version": "3.7.6"
  },
  "rise": {
   "enable_chalkboard": true
  }
 },
 "nbformat": 4,
 "nbformat_minor": 4
}
