{
 "cells": [
  {
   "cell_type": "markdown",
   "metadata": {
    "hide_input": true
   },
   "source": [
    "Execute `Run all Cells` under the `Cell` menu, first, to format the markdown cells!\n",
    "(Remember to activate the nbextension `Hide Input` as described in the _Jupyter introduction_ exercise)"
   ]
  },
  {
   "cell_type": "markdown",
   "metadata": {},
   "source": [
    "# Aim of exercise\n",
    "\n",
    "Perform a forward pass and a backward pass on the two-neuron ffANN in the figure below to compute the gradient $\\frac{\\partial L(b,w|x)}{\\partial w_1}$ and use this to compute and updated weight $w'_1$.\n",
    "\n",
    "Don't worry! We will guide you through this, provide some template code and help fill in the values of the intermediate expression in a a Forward pass table and and Backward pass table, respectively. Feel free to look at the hidden `Solution`s and `Code help`s if it gets too hard."
   ]
  },
  {
   "cell_type": "code",
   "execution_count": 8,
   "metadata": {
    "cell_style": "center",
    "hide_input": true
   },
   "outputs": [
    {
     "data": {
      "image/png": "[encoded data removed]",
      "text/plain": [
       "<Figure size 720x720 with 1 Axes>"
      ]
     },
     "metadata": {
      "needs_background": "light"
     },
     "output_type": "display_data"
    }
   ],
   "source": [
    "import sys, os\n",
    "import numpy as np\n",
    "import matplotlib.pyplot as plt\n",
    "sys.path.append(os.path.abspath(os.path.join('..', 'common_assets')))\n",
    "from draw_neural_net import draw_neural_net\n",
    "\n",
    "def sigma(z):\n",
    "  return 1/(1+np.exp(-z))\n",
    "\n",
    "#-----1-1-1\n",
    "layer_sizes = [1,1,1]\n",
    "\n",
    "x= 0.05\n",
    "y = 0.1\n",
    "i1 = x\n",
    "w1 = 0.1\n",
    "w2=0.3\n",
    "b1 = -0.10\n",
    "b2 = 0.30\n",
    "z1 = w1*i1+b1\n",
    "a1 = sigma(z1)\n",
    "z2 = w2*a1+b2\n",
    "a2 = sigma(z2)\n",
    "C = 0.5 * (y-a2)**2\n",
    "# z1 = round(z1, 2)\n",
    "# a1 = round(a1, 2)\n",
    "# z2 = round(z2, 2)\n",
    "# a2 = round(a2, 2)\n",
    "# C = round(C,2)\n",
    "\n",
    "eta = 0.3\n",
    "\n",
    "dlda2 = a2-y\n",
    "da2dz2= a2*(1-a2)\n",
    "dcdz2 = dlda2 * da2dz2\n",
    "dz2da1 = w2\n",
    "dcda1 = dcdz2 * dz2da1\n",
    "da1dz1 = a1*(1-a1)\n",
    "dcdz1 = dcda1 * da1dz1\n",
    "dz1dw1 = i1\n",
    "dcdw1 = dcdz1 * dz1dw1\n",
    "\n",
    "wnew = w1 - eta * dcdw1\n",
    "\n",
    "weights = [\n",
    "    np.array(\n",
    "        [\n",
    "            [\"w_1:{}\".format(w1)]\n",
    "         ]\n",
    "    ),\n",
    "    np.array(\n",
    "        [\n",
    "            [ \"w_2:{}\".format(w2)]\n",
    "        ]\n",
    "    )\n",
    "]\n",
    "biases = [\n",
    "    np.array(\n",
    "        [\"{}\".format(b1)]\n",
    "    ), \n",
    "    np.array(\n",
    "        [\"{}\".format(b2)]\n",
    "    )\n",
    "]\n",
    "\n",
    "hidden = [\n",
    "                np.array(\n",
    "                [ r\"$i_1$\"]\n",
    "                ),\n",
    "                np.array(\n",
    "                [ r\"$z_1\\rightarrow a_1$\"]\n",
    "                ),\n",
    "                np.array(\n",
    "                [ r\"$z_2\\rightarrow a_2$\"]\n",
    "                ),\n",
    "]\n",
    "\n",
    "figExercise = plt.figure(figsize=(10, 10))\n",
    "ax = figExercise.gca()\n",
    "ignore=ax.axis('off')\n",
    "\n",
    "draw_neural_net(ax, \n",
    "                layerSizes = layer_sizes, \n",
    "                weights = weights, \n",
    "                otherNodePrefix = hidden,\n",
    "                biases=biases, \n",
    "                inputPrefix = [\"{}\".format(x)], \n",
    "                outputPrefix = \"\\hat{y}\",\n",
    "                nodeFontSize=20, edgeFontSize = 15, edgeWidth = 3\n",
    "               )\n",
    "#plt.show()"
   ]
  },
  {
   "cell_type": "markdown",
   "metadata": {},
   "source": [
    "## Task 1. Forward pass\n",
    "\n",
    "Let's start by performing the forward pass of the ANN.\n",
    "\n",
    "We will start by creating variables to hold the values of the intermediate and final expressions"
   ]
  },
  {
   "cell_type": "code",
   "execution_count": 15,
   "metadata": {
    "hide_input": false
   },
   "outputs": [],
   "source": [
    "# Known variables\n",
    "# Initialize variables to values in figure\n",
    "x = 0.05\n",
    "y = 0.01\n",
    "w1 = 0.1\n",
    "b1 = -0.1\n",
    "w2 = 0.3\n",
    "b2 = 0.3\n",
    "\n",
    "# Unknown variables to be computed\n",
    "i1 = \"\"\n",
    "z1 = \"\"\n",
    "a1 = \"\"\n",
    "z2 = \"\"\n",
    "a2 = \"\"\n",
    "haty = \"\"\n",
    "L = \"\""
   ]
  },
  {
   "cell_type": "markdown",
   "metadata": {},
   "source": [
    "Execute the table cell below to display table"
   ]
  },
  {
   "cell_type": "code",
   "execution_count": 16,
   "metadata": {
    "hide_input": true
   },
   "outputs": [
    {
     "data": {
      "text/html": [
       "<style type=\"text/css\">\n",
       "#T_570dd_ th {\n",
       "  font-size: 18px;\n",
       "  max-width: 2.5cm;\n",
       "  text-align: left;\n",
       "}\n",
       "#T_570dd_ td {\n",
       "  font-size: 18px;\n",
       "  max-width: 2.5cm;\n",
       "  text-align: left;\n",
       "}\n",
       "</style>\n",
       "<table id=\"T_570dd_\">\n",
       "  <thead>\n",
       "    <tr>\n",
       "      <th class=\"col_heading level0 col0\" >$x$</th>\n",
       "      <th class=\"col_heading level0 col1\" >$y$</th>\n",
       "      <th class=\"col_heading level0 col2\" >$w_1$</th>\n",
       "      <th class=\"col_heading level0 col3\" >$b_1$</th>\n",
       "      <th class=\"col_heading level0 col4\" >$i_1$</th>\n",
       "      <th class=\"col_heading level0 col5\" >$z_1$</th>\n",
       "      <th class=\"col_heading level0 col6\" >$a_1$</th>\n",
       "      <th class=\"col_heading level0 col7\" >$w_2$</th>\n",
       "      <th class=\"col_heading level0 col8\" >$b_2$</th>\n",
       "      <th class=\"col_heading level0 col9\" >$z_2$</th>\n",
       "      <th class=\"col_heading level0 col10\" >$a_2$</th>\n",
       "      <th class=\"col_heading level0 col11\" >$\\hat{y}$</th>\n",
       "      <th class=\"col_heading level0 col12\" >$L(w,b|x)$</th>\n",
       "    </tr>\n",
       "  </thead>\n",
       "  <tbody>\n",
       "    <tr>\n",
       "      <td id=\"T_570dd_row0_col0\" class=\"data row0 col0\" >0.05</td>\n",
       "      <td id=\"T_570dd_row0_col1\" class=\"data row0 col1\" >0.01</td>\n",
       "      <td id=\"T_570dd_row0_col2\" class=\"data row0 col2\" >0.1</td>\n",
       "      <td id=\"T_570dd_row0_col3\" class=\"data row0 col3\" >-0.1</td>\n",
       "      <td id=\"T_570dd_row0_col4\" class=\"data row0 col4\" ></td>\n",
       "      <td id=\"T_570dd_row0_col5\" class=\"data row0 col5\" ></td>\n",
       "      <td id=\"T_570dd_row0_col6\" class=\"data row0 col6\" ></td>\n",
       "      <td id=\"T_570dd_row0_col7\" class=\"data row0 col7\" >0.3</td>\n",
       "      <td id=\"T_570dd_row0_col8\" class=\"data row0 col8\" >0.3</td>\n",
       "      <td id=\"T_570dd_row0_col9\" class=\"data row0 col9\" ></td>\n",
       "      <td id=\"T_570dd_row0_col10\" class=\"data row0 col10\" ></td>\n",
       "      <td id=\"T_570dd_row0_col11\" class=\"data row0 col11\" ></td>\n",
       "      <td id=\"T_570dd_row0_col12\" class=\"data row0 col12\" ></td>\n",
       "    </tr>\n",
       "  </tbody>\n",
       "</table>\n"
      ],
      "text/plain": [
       "<pandas.io.formats.style.Styler at 0x7fa25deab7d0>"
      ]
     },
     "execution_count": 16,
     "metadata": {},
     "output_type": "execute_result"
    }
   ],
   "source": [
    "import pandas as pd\n",
    "\n",
    "# Some styling for the \n",
    "props1 = [\n",
    "    (\"font-size\", \"18px\"),\n",
    "    ('max-width', '2.5cm'),\n",
    "    ('text-align', 'left')\n",
    "#    ('padding', '2.5cm)')\n",
    "#    (\"font-size\", \"24px\"),\n",
    "#    ('max-width', '2cm'),\n",
    "#    ('text-align', 'center'),\n",
    "#    ('padding', '5cm)')\n",
    "]\n",
    "styles1 = [\n",
    "    dict(selector=\"th\", props=props1),\n",
    "    dict(selector=\"td\", props=props1),\n",
    "]\n",
    "colNames = { \n",
    "        \"x\" : r\"$x$\",\n",
    "        \"y\" : r\"$y$\",\n",
    "        \"w1\" : r\"$w_1$\",\n",
    "        \"b1\" : r\"$b_1$\",\n",
    "        \"i1\" : r\"$i_1$\", \n",
    "        \"z1\" : r\"$z_1$\", \n",
    "        \"a1\" : r\"$a_1$\",\n",
    "        \"w2\" : r\"$w_2$\",\n",
    "        \"b2\" : r\"$b_2$\",\n",
    "        \"z2\" : r\"$z_2$\",\n",
    "        \"a2\" : r\"$a_2$\",\n",
    "        \"haty\" : r\"$\\hat{y}$\",\n",
    "        \"L\" : \"$L(w,b|x)$\"\n",
    "}\n",
    "\n",
    "\n",
    "# Code below is what is needed to update table at each step\n",
    "tab = pd.Series(\n",
    "    { \n",
    "        \"x\" : format(x, \".3g\"), # Use this format to display nicely in table\n",
    "        \"y\" : format(y, \".3g\"),\n",
    "        \"w1\" : format(w1, \".3g\"), \n",
    "        \"b1\" : format(b1, \".3g\"), \n",
    "        \"i1\" : \"\" if isinstance(i1, str) else format(i1, \".3g\"), \n",
    "        \"z1\" : \"\" if isinstance(z1, str) else format(z1, \".3g\"), \n",
    "        \"a1\" : \"\" if isinstance(a1, str) else format(a1, \".3g\"), \n",
    "        \"w2\" : format(w2, \".3g\"), \n",
    "        \"b2\" : format(b2, \".3g\"),        \n",
    "        \"z2\" : \"\" if isinstance(z2, str) else format(z2, \".3g\"),\n",
    "        \"a2\" : \"\" if isinstance(a2, str) else format(a2, \".3g\"),\n",
    "        \"haty\" : \"\" if isinstance(haty, str) else format(haty, \".3g\"),\n",
    "        \"L\" : \"\" if isinstance(L, str) else format(L, \".3g\").center(12, '\\u00A0')\n",
    "    }\n",
    ")\n",
    "tab1=pd.DataFrame.rename(tab.to_frame().T, columns = colNames).style.hide_index().set_table_styles(styles1)\n",
    "tab1"
   ]
  },
  {
   "cell_type": "markdown",
   "metadata": {
    "cell_style": "center",
    "hide_input": false
   },
   "source": [
    "### Path of intermediate expressions\n",
    "\n",
    "First, notice that $i_1 = x$ and $\\hat{y} = a_2$.\n",
    "\n",
    "The path of intermediate expressions from $x$ to $L(b,w|x)$ is:\n",
    "\n",
    "$\\begin{eqnarray}\n",
    "z_1 &=&  w_1 i_1 + b_1\\\\\n",
    "a_1 &=& \\sigma(z_1) = \\frac{1}{1+e^{-z_1}}\\\\\n",
    "z_2 &=&  w_2 a_{1} + b_2\\\\\n",
    "a_2 &=& \\sigma(z_2) = \\frac{1}{1+e^{-z_2}}\\\\\n",
    "L(w,b|x) &=& \\frac{1}{2}\\left(y-\\hat{y}\\right)^2 = \\frac{1}{2}\\left(y-a_2\\right)^2\n",
    "\\end{eqnarray}$\n",
    "\n",
    "- Try to update the corresponding variables in the code cell below and see if you get the same table values as below\n",
    "    - example: `z1 = w1 * i1 +b1` (remember to set `i1` first)\n",
    "    - *hint!*: to compute $\\sigma(z)$, use, e.g.\n",
    "    ```\n",
    "    import tensorflow as tf\n",
    "    tf.sigmoid(z).numpy()\n",
    "    ``` \n",
    "    - As a last resort you can click the *Code help* below"
   ]
  },
  {
   "cell_type": "code",
   "execution_count": 17,
   "metadata": {
    "cell_style": "center",
    "hide_input": false
   },
   "outputs": [],
   "source": [
    "# Replace \"\" with the code to compute these variables\n",
    "import tensorflow as tf\n",
    "i1 = \"\"\n",
    "z1 = \"\"\n",
    "a1 = \"\"\n",
    "z2 = \"\"\n",
    "a2 = \"\"\n",
    "haty = \"\"\n",
    "L = \"\""
   ]
  },
  {
   "cell_type": "markdown",
   "metadata": {},
   "source": [
    "Execute the table cell below to display table"
   ]
  },
  {
   "cell_type": "code",
   "execution_count": 18,
   "metadata": {
    "hide_input": true,
    "scrolled": true
   },
   "outputs": [
    {
     "data": {
      "text/html": [
       "<style type=\"text/css\">\n",
       "#T_a2304_ th {\n",
       "  font-size: 18px;\n",
       "  max-width: 2.5cm;\n",
       "  text-align: left;\n",
       "}\n",
       "#T_a2304_ td {\n",
       "  font-size: 18px;\n",
       "  max-width: 2.5cm;\n",
       "  text-align: left;\n",
       "}\n",
       "</style>\n",
       "<table id=\"T_a2304_\">\n",
       "  <thead>\n",
       "    <tr>\n",
       "      <th class=\"col_heading level0 col0\" >$x$</th>\n",
       "      <th class=\"col_heading level0 col1\" >$y$</th>\n",
       "      <th class=\"col_heading level0 col2\" >$w_1$</th>\n",
       "      <th class=\"col_heading level0 col3\" >$b_1$</th>\n",
       "      <th class=\"col_heading level0 col4\" >$i_1$</th>\n",
       "      <th class=\"col_heading level0 col5\" >$z_1$</th>\n",
       "      <th class=\"col_heading level0 col6\" >$a_1$</th>\n",
       "      <th class=\"col_heading level0 col7\" >$w_2$</th>\n",
       "      <th class=\"col_heading level0 col8\" >$b_2$</th>\n",
       "      <th class=\"col_heading level0 col9\" >$z_2$</th>\n",
       "      <th class=\"col_heading level0 col10\" >$a_2$</th>\n",
       "      <th class=\"col_heading level0 col11\" >$\\hat{y}$</th>\n",
       "      <th class=\"col_heading level0 col12\" >$L(w,b|x)$</th>\n",
       "    </tr>\n",
       "  </thead>\n",
       "  <tbody>\n",
       "    <tr>\n",
       "      <td id=\"T_a2304_row0_col0\" class=\"data row0 col0\" >0.05</td>\n",
       "      <td id=\"T_a2304_row0_col1\" class=\"data row0 col1\" >0.01</td>\n",
       "      <td id=\"T_a2304_row0_col2\" class=\"data row0 col2\" >0.1</td>\n",
       "      <td id=\"T_a2304_row0_col3\" class=\"data row0 col3\" >-0.1</td>\n",
       "      <td id=\"T_a2304_row0_col4\" class=\"data row0 col4\" ></td>\n",
       "      <td id=\"T_a2304_row0_col5\" class=\"data row0 col5\" ></td>\n",
       "      <td id=\"T_a2304_row0_col6\" class=\"data row0 col6\" ></td>\n",
       "      <td id=\"T_a2304_row0_col7\" class=\"data row0 col7\" >0.3</td>\n",
       "      <td id=\"T_a2304_row0_col8\" class=\"data row0 col8\" >0.3</td>\n",
       "      <td id=\"T_a2304_row0_col9\" class=\"data row0 col9\" ></td>\n",
       "      <td id=\"T_a2304_row0_col10\" class=\"data row0 col10\" ></td>\n",
       "      <td id=\"T_a2304_row0_col11\" class=\"data row0 col11\" ></td>\n",
       "      <td id=\"T_a2304_row0_col12\" class=\"data row0 col12\" ></td>\n",
       "    </tr>\n",
       "  </tbody>\n",
       "</table>\n"
      ],
      "text/plain": [
       "<pandas.io.formats.style.Styler at 0x7fa25dd29450>"
      ]
     },
     "execution_count": 18,
     "metadata": {},
     "output_type": "execute_result"
    }
   ],
   "source": [
    "# Code below is what is needed to update table at each step\n",
    "tab = pd.Series(\n",
    "    { \n",
    "        \"x\" : format(x, \".3g\"), # Use this format to display nicely in table\n",
    "        \"y\" : format(y, \".3g\"),\n",
    "        \"w1\" : format(w1, \".3g\"), \n",
    "        \"b1\" : format(b1, \".3g\"), \n",
    "        \"i1\" : \"\" if isinstance(i1, str) else format(i1, \".3g\"), \n",
    "        \"z1\" : \"\" if isinstance(z1, str) else format(z1, \".3g\"), \n",
    "        \"a1\" : \"\" if isinstance(a1, str) else format(a1, \".3g\"), \n",
    "        \"w2\" : format(w2, \".3g\"), \n",
    "        \"b2\" : format(b2, \".3g\"),        \n",
    "        \"z2\" : \"\" if isinstance(z2, str) else format(z2, \".3g\"),\n",
    "        \"a2\" : \"\" if isinstance(a2, str) else format(a2, \".3g\"),\n",
    "        \"haty\" : \"\" if isinstance(haty, str) else format(haty, \".3g\"),\n",
    "        \"L\" : \"\" if isinstance(L, str) else format(L, \".3g\").center(12, '\\u00A0')\n",
    "    }\n",
    ")\n",
    "tab1=pd.DataFrame.rename(tab.to_frame().T, columns = colNames).style.hide_index().set_table_styles(styles1)\n",
    "tab1"
   ]
  },
  {
   "cell_type": "markdown",
   "metadata": {
    "hide_input": true
   },
   "source": [
    "## Example: Backward pass to compute $\\frac{\\partial L(w,b|x)}{\\partial w_2}$\n",
    "\n",
    "### 1. Identify relevant path (from forward path)\n",
    "\n",
    "Here, we focus on the path from $w_2$ to $L(w,b|x)$, i.e., the second neuron \n",
    "\n",
    "$\\begin{eqnarray}\n",
    "z_2 &=&  w_2 a_{1} + b_2\\\\\n",
    "a_2 &=& \\sigma(z_2) = \\frac{1}{1+e^{-z_2}}\\\\\n",
    "L(w,b|x) &=& \\frac{1}{2}\\left(y-\\hat{y}\\right)^2 = \\frac{1}{2}\\left(y-a_2\\right)^2\n",
    "\\end{eqnarray}$\n",
    "\n",
    "### 2. Apply chain rule\n",
    "\n",
    "We use the chain rule to split $\\frac{\\partial L(w,b|x)}{\\partial w_2}$ on $a_2$ and $z_2$, in turn, and do it  backwards along the path, i.e., from right to left in the figure above.\n",
    "\n",
    "#### First split on $a_2$:\n",
    "\n",
    "$\\hspace{1cm}\\begin{eqnarray} \n",
    "\\frac{\\partial L(w,b|x)}{\\partial w_2} &=&  \\frac{\\partial a_2}{\\partial w_2}\\times \\frac{\\partial L(w,b|x)}{\\partial a_2} \n",
    "\\end{eqnarray}$\n",
    "\n",
    "#### Then split first factor on $z_2$:\n",
    "\n",
    "$\\hspace{1cm}\\begin{eqnarray} \n",
    "\\frac{\\partial L(w,b|x)}{\\partial w_2} &=&  \\frac{\\partial z_2}{\\partial w_2}\\times \\frac{\\partial a_2}{\\partial z_2} \\times \\frac{\\partial L(w,b|x)}{\\partial a_2} \n",
    "\\end{eqnarray}$"
   ]
  },
  {
   "cell_type": "markdown",
   "metadata": {},
   "source": [
    "### 3. Compute individual partial derivatives\n",
    "\n",
    "The resulting partial derivatives are easier to compute. In fact you know how to compute some of them already:\n",
    "\n",
    "- $\\begin{eqnarray}\n",
    "\\frac{\\partial L(w,b|x)}{\\partial a_2} \n",
    "&=&  \\frac{\\partial \\frac{1}{2}(y-a_2)^2}{\\partial a_2}\n",
    "\\end{eqnarray}$  \n",
    "This is a derivative we just learnt above (with $x$ substituted for $a_1$ and $b$ for $y$),  \n",
    "$\\begin{eqnarray}\n",
    "\\frac{\\partial L(w,b|x)}{\\partial a_2} \n",
    "&=&  a_2-y\n",
    "\\end{eqnarray}$  \n",
    "Now, we just need to fill in the values of $y$ and $a_2$ from our Forward pass table  \n",
    "$\\begin{eqnarray}\\frac{\\partial L(w,b|x)}{\\partial a_2} \n",
    "&=&  0.61 - 0.1 = 0.51\n",
    "\\end{eqnarray}$  \n",
    "<br>\n",
    " \n",
    "- $\\begin{eqnarray}\n",
    "\\frac{\\partial a_2}{\\partial z_2} \n",
    "&=&  \\frac{\\partial \\sigma(z_2)}{\\partial z_2}\\\\\n",
    "\\end{eqnarray}$  \n",
    "Again, a derivative we learned above (with $x$ substituted for $z_2$).  \n",
    "$\\begin{eqnarray}\n",
    "\\frac{\\partial a_2}{\\partial z_2} \n",
    "&=&  \\sigma(z_2)\\left(1-\\sigma(z_2)\\right) = a_2(1-a_2)\\\\\n",
    "\\end{eqnarray}$\n",
    "Filling in the values of $a_2$ from our Forward pass table, gives  \n",
    "$\\begin{eqnarray}\n",
    "\\frac{\\partial a_2}{\\partial z_2} \n",
    "&=&  0.61\\times(1-0.61) = 0.2379\n",
    "\\end{eqnarray}$  \n",
    "<br>\n",
    "\n",
    "\n",
    "- $\\begin{eqnarray}\n",
    "\\frac{\\partial z_2}{\\partial w_2} &=&  \\frac{\\partial w_2 a_1+b_2}{\\partial w_2} \\\\\n",
    "\\end{eqnarray}$  \n",
    "which is a is a derivative of a sum that can be solved with the standard derivative rules above,  \n",
    "$\\begin{eqnarray}\n",
    "\\frac{\\partial z_2}{\\partial w_2} &=&  a_1 \\\\\n",
    "\\end{eqnarray}$ \n",
    "Filling in the values of and $a_1$ from our Forward pass table, gives us  \n",
    "$\\begin{eqnarray}\n",
    "\\frac{\\partial z_2}{\\partial w_2} &=&  0.48 \\\\\n",
    "\\end{eqnarray}$ \n",
    "\n",
    "\n",
    "\n",
    "### 4. Compute the requested (full) partial derivative\n",
    "\n",
    "Finally, we get the value of $\\frac{\\partial L(w,b|x)}{\\partial w_1}$ by simply multiplying the three partial derivatives.\n",
    "\n",
    "$\\hspace{1cm}\\begin{eqnarray} \n",
    "\\frac{\\partial L(w,b|x)}{\\partial w_2} &=&  \\frac{\\partial z_2}{\\partial w_2}\\times \\frac{\\partial a_2}{\\partial z_2} \\times \\frac{\\partial L(w,b|x)}{\\partial a_2}\\\\\n",
    "&=& 0.48 \\times 0.2379 \\times 0.51 = 0.3958\n",
    "\\end{eqnarray}$\n",
    "\n"
   ]
  },
  {
   "cell_type": "markdown",
   "metadata": {},
   "source": [
    "### 5. Compute the updated weight $w'_2$\n",
    "\n",
    "Recall that an updated weight $w'$ is computed as\n",
    "\n",
    "$$w' = w - \\eta \\frac{\\partial L(w,b|x)}{\\partial w_2}$$\n",
    "\n",
    "Let's use an $\\eta = 0.05$\n",
    "\n",
    "$\\hspace{1cm}\\begin{eqnarray} \n",
    "w'_2 &=& w_1 - \\eta \\times \\frac{\\partial L(w,b|x)}{\\partial w_2} \n",
    "&=& 0.1 - 0.05\\times 0.3958 \n",
    "\\end{eqnarray}$"
   ]
  },
  {
   "cell_type": "markdown",
   "metadata": {},
   "source": [
    "### Program it!\n",
    "Let's perform the computation of the variables above as python variable and summarize these variables in a table. We use this simple scheme for naming the variables:\n",
    "\n",
    "`dLda2` = $\\frac{\\partial L(b,w|x)}{\\partial a_2}$\n",
    "\n",
    "`da2dz2` = $\\frac{\\partial a_2}{\\partial z_2}$\n",
    "\n",
    "etc.\n",
    "\n",
    "The variables will then be:"
   ]
  },
  {
   "cell_type": "code",
   "execution_count": 22,
   "metadata": {
    "hide_input": true
   },
   "outputs": [],
   "source": [
    "import tensorflow as tf\n",
    "i1 = x\n",
    "z1 = w1 * i1 +b1\n",
    "a1 = tf.sigmoid(z1).numpy()\n",
    "z2 = w2 * a1 + b2\n",
    "a2 = tf.sigmoid(z2).numpy()\n",
    "haty=a2\n",
    "L = (y-haty)/2"
   ]
  },
  {
   "cell_type": "code",
   "execution_count": 27,
   "metadata": {},
   "outputs": [],
   "source": [
    "dLda2 = a2 - y\n",
    "da2dz2 = a2 * (1-a2)\n",
    "dz2dw2 = a2\n",
    "dLdw2 = dLda2 * da2dz2 * dz2dw2\n",
    "eta = 0.05\n",
    "w2new = w2 - dLdw2 * eta"
   ]
  },
  {
   "cell_type": "code",
   "execution_count": 28,
   "metadata": {
    "hide_input": true
   },
   "outputs": [
    {
     "data": {
      "text/html": [
       "<style type=\"text/css\">\n",
       "#T_3d89e_ th {\n",
       "  font-size: 18px;\n",
       "  max-width: 2.5cm;\n",
       "  text-align: left;\n",
       "}\n",
       "#T_3d89e_ td {\n",
       "  font-size: 18px;\n",
       "  max-width: 2.5cm;\n",
       "  text-align: left;\n",
       "}\n",
       "</style>\n",
       "<table id=\"T_3d89e_\">\n",
       "  <thead>\n",
       "    <tr>\n",
       "      <th class=\"col_heading level0 col0\" >$\\frac{\\partial L(b,w|x)}{\\partial a_2}$</th>\n",
       "      <th class=\"col_heading level0 col1\" >$\\frac{\\partial a_2}{\\partial z_2}$</th>\n",
       "      <th class=\"col_heading level0 col2\" >$\\frac{\\partial z_2}{\\partial w_2}$</th>\n",
       "      <th class=\"col_heading level0 col3\" >$\\eta$</th>\n",
       "      <th class=\"col_heading level0 col4\" >$w'_2$</th>\n",
       "    </tr>\n",
       "  </thead>\n",
       "  <tbody>\n",
       "    <tr>\n",
       "      <td id=\"T_3d89e_row0_col0\" class=\"data row0 col0\" >   0.599    </td>\n",
       "      <td id=\"T_3d89e_row0_col1\" class=\"data row0 col1\" >0.238</td>\n",
       "      <td id=\"T_3d89e_row0_col2\" class=\"data row0 col2\" >0.609</td>\n",
       "      <td id=\"T_3d89e_row0_col3\" class=\"data row0 col3\" >0.05</td>\n",
       "      <td id=\"T_3d89e_row0_col4\" class=\"data row0 col4\" >0.296</td>\n",
       "    </tr>\n",
       "  </tbody>\n",
       "</table>\n"
      ],
      "text/plain": [
       "<pandas.io.formats.style.Styler at 0x7fa25dbceed0>"
      ]
     },
     "execution_count": 28,
     "metadata": {},
     "output_type": "execute_result"
    }
   ],
   "source": [
    "colNames = { \n",
    "    \"dLda2\" : r\"$\\frac{\\partial L(b,w|x)}{\\partial a_2}$\",\n",
    "    \"da2dz2\" : r\"$\\frac{\\partial a_2}{\\partial z_2}$\",\n",
    "    \"dz2dw2\" : r\"$\\frac{\\partial z_2}{\\partial w_2}$\",\n",
    "    \"dLdw2\" : r\"$\\frac{\\partial L(b,w|a)}{\\partial w_2}$\",\n",
    "    \"eta\": r\"$\\eta$\",\n",
    "    \"w2new\": r\"$w'_2$\"\n",
    "}\n",
    "\n",
    "\n",
    "# Code below is what is needed to update table at each step\n",
    "tab = pd.Series(\n",
    "    { \n",
    "        \"dLda2\" : format(dLda2, \".3g\").center(12, '\\u00A0'), # Use this format to display nicely in table\n",
    "        \"da2dz2\" : format(da2dz2, \".3g\"),\n",
    "        \"dz2dw2\" : format(dz2dw2, \".3g\"), \n",
    "        \"eta\" : format(eta, \".3g\"), \n",
    "        \"w2new\" : format(w2new, \".3g\")\n",
    "    }\n",
    ")\n",
    "tab2=pd.DataFrame.rename(tab.to_frame().T, columns = colNames).style.hide_index().set_table_styles(styles1)\n",
    "tab2"
   ]
  },
  {
   "cell_type": "markdown",
   "metadata": {},
   "source": [
    "### What about the other layers?\n",
    "\n",
    "To compute, e.g., $\\frac{\\partial L(w,b|x)}{\\partial w_1}$, we will need to apply the chain rule to split on to $a_2$, $a_z$, $a_1$, $z_1$, etc...\n",
    "\n",
    "... in fact, that's what you will do now!"
   ]
  },
  {
   "cell_type": "markdown",
   "metadata": {},
   "source": [
    "## Task 2. Backward pass\n",
    "\n",
    "Perform a backward pass to update the value of $w_1$, that is, use the chain rule to split $\\frac{\\partial L(b,w|x)}{\\partial w_1}$, create variables for the intermediate expressions and compute their values, values compute the value of $\\frac{\\partial L(b,w|x)}{\\partial w_1}$, and compute $w'_2$ (i.e., the updated value of $w_2$)\n",
    "\n",
    "Let's first print out the ANN and the table with values from the forward pass again, just to have them handy "
   ]
  },
  {
   "cell_type": "code",
   "execution_count": 12,
   "metadata": {
    "cell_style": "center",
    "hide_input": true
   },
   "outputs": [
    {
     "data": {
      "image/png": "[encoded data removed]",
      "text/plain": [
       "<Figure size 720x720 with 1 Axes>"
      ]
     },
     "execution_count": 12,
     "metadata": {},
     "output_type": "execute_result"
    }
   ],
   "source": [
    "figExercise"
   ]
  },
  {
   "cell_type": "code",
   "execution_count": 13,
   "metadata": {
    "hide_input": true
   },
   "outputs": [
    {
     "data": {
      "text/html": [
       "<style type=\"text/css\">\n",
       "#T_bf52a_ th {\n",
       "  font-size: 18px;\n",
       "  max-width: 2.5cm;\n",
       "  text-align: left;\n",
       "}\n",
       "#T_bf52a_ td {\n",
       "  font-size: 18px;\n",
       "  max-width: 2.5cm;\n",
       "  text-align: left;\n",
       "}\n",
       "</style>\n",
       "<table id=\"T_bf52a_\">\n",
       "  <thead>\n",
       "    <tr>\n",
       "      <th class=\"col_heading level0 col0\" >$x$</th>\n",
       "      <th class=\"col_heading level0 col1\" >$y$</th>\n",
       "      <th class=\"col_heading level0 col2\" >$w_1$</th>\n",
       "      <th class=\"col_heading level0 col3\" >$b_1$</th>\n",
       "      <th class=\"col_heading level0 col4\" >$i_1$</th>\n",
       "      <th class=\"col_heading level0 col5\" >$z_1$</th>\n",
       "      <th class=\"col_heading level0 col6\" >$a_1$</th>\n",
       "      <th class=\"col_heading level0 col7\" >$w_2$</th>\n",
       "      <th class=\"col_heading level0 col8\" >$b_2$</th>\n",
       "      <th class=\"col_heading level0 col9\" >$z_2$</th>\n",
       "      <th class=\"col_heading level0 col10\" >$a_2$</th>\n",
       "      <th class=\"col_heading level0 col11\" >$\\hat{y}$</th>\n",
       "      <th class=\"col_heading level0 col12\" >$L(w,b|x)$</th>\n",
       "    </tr>\n",
       "  </thead>\n",
       "  <tbody>\n",
       "    <tr>\n",
       "      <td id=\"T_bf52a_row0_col0\" class=\"data row0 col0\" >0.05</td>\n",
       "      <td id=\"T_bf52a_row0_col1\" class=\"data row0 col1\" >0.01</td>\n",
       "      <td id=\"T_bf52a_row0_col2\" class=\"data row0 col2\" >0.1</td>\n",
       "      <td id=\"T_bf52a_row0_col3\" class=\"data row0 col3\" >-0.1</td>\n",
       "      <td id=\"T_bf52a_row0_col4\" class=\"data row0 col4\" >0.05</td>\n",
       "      <td id=\"T_bf52a_row0_col5\" class=\"data row0 col5\" >-0.095</td>\n",
       "      <td id=\"T_bf52a_row0_col6\" class=\"data row0 col6\" >0.48</td>\n",
       "      <td id=\"T_bf52a_row0_col7\" class=\"data row0 col7\" >0.3</td>\n",
       "      <td id=\"T_bf52a_row0_col8\" class=\"data row0 col8\" >0.3</td>\n",
       "      <td id=\"T_bf52a_row0_col9\" class=\"data row0 col9\" >0.44</td>\n",
       "      <td id=\"T_bf52a_row0_col10\" class=\"data row0 col10\" >0.61</td>\n",
       "      <td id=\"T_bf52a_row0_col11\" class=\"data row0 col11\" >0.61</td>\n",
       "      <td id=\"T_bf52a_row0_col12\" class=\"data row0 col12\" >    -0.3    </td>\n",
       "    </tr>\n",
       "  </tbody>\n",
       "</table>\n"
      ],
      "text/plain": [
       "<pandas.io.formats.style.Styler at 0x7fe7e0a24450>"
      ]
     },
     "execution_count": 13,
     "metadata": {},
     "output_type": "execute_result"
    }
   ],
   "source": [
    "tab1"
   ]
  },
  {
   "cell_type": "markdown",
   "metadata": {},
   "source": [
    "### 1. The relevant path\n",
    "\n",
    "The path from $w_1$ to $L(w,b|x)$ is\n",
    "\n",
    "$\\begin{eqnarray}\n",
    "z_1 &=&  w_1 i_1 + b_1\\\\\n",
    "a_1 &=& \\sigma(z_1) = \\frac{1}{1+e^{-z_1}}\\\\\n",
    "z_2 &=&  w_2 a_{1} + b_2\\\\\n",
    "a_2 &=& \\sigma(z_2) = \\frac{1}{1+e^{-z_2}}\\\\\n",
    "L(w,b|x) &=& \\frac{1}{2}\\left(y-\\hat{y}\\right)^2 = \\frac{1}{2}\\left(y-a_2\\right)^2\n",
    "\\end{eqnarray}$\n",
    "\n",
    "### 2. Apply the chain  rule\n",
    "\n",
    "Appying the chain rule on $a$'s and $z$'s of the layers backwards (from right to left in the figure) gives (green color indicates which expression to split in the next row):\n",
    "\n",
    "<!--\n",
    "$\\hspace{1cm}\\begin{eqnarray} \n",
    "\\frac{\\partial L(w,b|x)}{\\partial w_1} &=&  \\frac{\\partial a_2}{\\partial w_1}\\times \\frac{\\partial L(w,b|x)}{\\partial a_2} \n",
    "\\end{eqnarray}$\n",
    "\n",
    "$\\hspace{1cm}\\begin{eqnarray} \n",
    "\\frac{\\partial a_2}{\\partial w_1} &=&  \\frac{\\partial z_2}{\\partial w_1}\\times \\frac{\\partial a_2}{\\partial z_2} \n",
    "\\end{eqnarray}$\n",
    "\n",
    "$\\hspace{1cm}\\begin{eqnarray} \n",
    "\\frac{\\partial z_2}{\\partial w_1} &=&  \\frac{\\partial a_1}{\\partial w_1}\\times \\frac{\\partial z_2}{\\partial a_1} \n",
    "\\end{eqnarray}$\n",
    "\n",
    "$\\hspace{1cm}\\begin{eqnarray} \n",
    "\\frac{\\partial a_1}{\\partial w_1} &=&  \\frac{\\partial z_1}{\\partial w_1}\\times \\frac{\\partial a_1}{\\partial z_1} \n",
    "\\end{eqnarray}$\n",
    "\n",
    "$\\hspace{1cm}\\begin{eqnarray} \n",
    "\\frac{\\partial z_1}{\\partial w_1x} &=&  \\frac{\\partial w_1 \\times i_1 + b_1}{\\partial w_1}\n",
    "\\end{eqnarray}$\n",
    "-->\n",
    "\n",
    "\n",
    "$\\hspace{1cm}\\begin{eqnarray} \n",
    "\\frac{\\partial L(w,b|x)}{\\partial w_1} \n",
    "&=&  \n",
    "\\color{green}{\\frac{\\partial a_2}{\\partial w_1}} \n",
    "\\times \\frac{\\partial L(w,b|x)}{\\partial a_2} \\\\\n",
    "%\\frac{\\partial L(w,b|x)}{\\partial w_1} \n",
    "&=&  \n",
    "\\color{green}{\\frac{\\partial z_2}{\\partial w_1}}\n",
    "\\times \\frac{\\partial a_2}{\\partial z_2} \n",
    "\\times \\frac{\\partial L(w,b|x)}{\\partial a_2} \\\\\n",
    "%\\frac{\\partial L(w,b|x)}{\\partial w_1} \n",
    "&=&  \n",
    "\\color{green}{\\frac{\\partial a_1}{\\partial w_1}}\n",
    "\\times \\frac{\\partial z_2}{\\partial a_1}\n",
    "\\times \\frac{\\partial a_2}{\\partial z_2} \n",
    "\\times \\frac{\\partial L(w,b|x)}{\\partial a_2} \\\\\n",
    "%\\frac{\\partial L(w,b|x)}{\\partial w_1} \n",
    "&=&  \n",
    "\\color{green}{\\frac{\\partial z_1}{\\partial w_1}}\n",
    "\\times \\frac{\\partial a_1}{\\partial z_1} \n",
    "\\times \\frac{\\partial z_2}{\\partial a_1}\n",
    "\\times \\frac{\\partial a_2}{\\partial z_2} \n",
    "\\times \\frac{\\partial L(w,b|x)}{\\partial a_2} \n",
    "\\end{eqnarray}$\n",
    "\n",
    "We see that we have already computed the last of these partial derivatives, namely $\\frac{\\partial a_2}{\\partial z_2}$ and $\\frac{\\partial L(w,b|x)}{\\partial a_2}$. This is a very nice feature of back-propagation:  \n",
    "$\\quad$_If we have computed the values of partial derivatives for a layer, we can **reuse** these expressions in the preceeding layer._\n",
    "\n",
    "(In computer science terms, back propagation is a _dynamic programming_ algorithm, that is, it is works in an iterative fashion, tabulates the values from one iteration (=layer), and reuses them in the next iteration in the algorithm (i.e., the previous layer, since we go backwards).)\n",
    "\n",
    "Let's set up python variables for these intermediate expressions (reuse the ones already computed!):"
   ]
  },
  {
   "cell_type": "code",
   "execution_count": 29,
   "metadata": {
    "hide_input": false
   },
   "outputs": [],
   "source": [
    "# Unknown variables to compute in Back-propagation\n",
    "\n",
    "#dLda2 = \"\" # Already computed, reuse\n",
    "#da2dz2 = \"\" # Already computed, reuse!\n",
    "dz2da1 = \"\"\n",
    "da1dz1 = \"\"\n",
    "dz1dw1 = \"\"\n",
    "dLdw1 = \"\"\n",
    "#eta = \"\" # Already computed, reuse\n",
    "w1new = \"\"\n"
   ]
  },
  {
   "cell_type": "markdown",
   "metadata": {},
   "source": [
    "And a table with these values (execute the table cell to update the table!)"
   ]
  },
  {
   "cell_type": "code",
   "execution_count": 30,
   "metadata": {
    "hide_input": true
   },
   "outputs": [
    {
     "data": {
      "text/html": [
       "<style type=\"text/css\">\n",
       "#T_d9c70_ th {\n",
       "  font-size: 18px;\n",
       "  max-width: 2.5cm;\n",
       "  text-align: left;\n",
       "}\n",
       "#T_d9c70_ td {\n",
       "  font-size: 18px;\n",
       "  max-width: 2.5cm;\n",
       "  text-align: left;\n",
       "}\n",
       "</style>\n",
       "<table id=\"T_d9c70_\">\n",
       "  <thead>\n",
       "    <tr>\n",
       "      <th class=\"col_heading level0 col0\" >$w'_1$</th>\n",
       "      <th class=\"col_heading level0 col1\" >$\\eta$</th>\n",
       "      <th class=\"col_heading level0 col2\" >$\\frac{\\partial L(w,b|x)}{\\partial w_1}$</th>\n",
       "      <th class=\"col_heading level0 col3\" >$\\frac{\\partial z_1}{\\partial w_1}$</th>\n",
       "      <th class=\"col_heading level0 col4\" >$\\frac{\\partial a_1}{\\partial z_1}$</th>\n",
       "      <th class=\"col_heading level0 col5\" >$\\frac{\\partial z_2}{\\partial a_1}$</th>\n",
       "      <th class=\"col_heading level0 col6\" >$\\frac{\\partial a_2}{\\partial z_2}$</th>\n",
       "      <th class=\"col_heading level0 col7\" >$\\frac{\\partial L(w,b|x)}{\\partial a_2}$</th>\n",
       "    </tr>\n",
       "  </thead>\n",
       "  <tbody>\n",
       "    <tr>\n",
       "      <td id=\"T_d9c70_row0_col0\" class=\"data row0 col0\" ></td>\n",
       "      <td id=\"T_d9c70_row0_col1\" class=\"data row0 col1\" >0.05</td>\n",
       "      <td id=\"T_d9c70_row0_col2\" class=\"data row0 col2\" ></td>\n",
       "      <td id=\"T_d9c70_row0_col3\" class=\"data row0 col3\" ></td>\n",
       "      <td id=\"T_d9c70_row0_col4\" class=\"data row0 col4\" ></td>\n",
       "      <td id=\"T_d9c70_row0_col5\" class=\"data row0 col5\" ></td>\n",
       "      <td id=\"T_d9c70_row0_col6\" class=\"data row0 col6\" >0.238</td>\n",
       "      <td id=\"T_d9c70_row0_col7\" class=\"data row0 col7\" >   0.509    </td>\n",
       "    </tr>\n",
       "  </tbody>\n",
       "</table>\n"
      ],
      "text/plain": [
       "<pandas.io.formats.style.Styler at 0x7fa25d96d950>"
      ]
     },
     "execution_count": 30,
     "metadata": {},
     "output_type": "execute_result"
    }
   ],
   "source": [
    "props2 = [\n",
    "    (\"font-size\", \"18px\"),\n",
    "    ('max-width', '3cm'),\n",
    "    ('text-align', 'center')\n",
    "]\n",
    "styles2 = [\n",
    "    dict(selector=\"th\", props = props2),\n",
    "    dict(selector=\"td\", props=props2)\n",
    "]\n",
    "\n",
    "colNames = { \n",
    "    \"w1new\" : r\"$w'_1$\",\n",
    "    \"eta\" : r\"$\\eta$\",\n",
    "    \"dLdw1\" : r\"$\\frac{\\partial L(w,b|x)}{\\partial w_1}$\",\n",
    "    \"dz1dw1\" : r\"$\\frac{\\partial z_1}{\\partial w_1}$\",\n",
    "    \"da1dz1\" : r\"$\\frac{\\partial a_1}{\\partial z_1}$\",\n",
    "    \"dz2da1\" : r\"$\\frac{\\partial z_2}{\\partial a_1}$\",\n",
    "    \"da2dz2\" : r\"$\\frac{\\partial a_2}{\\partial z_2}$\",\n",
    "    \"dLda2\" : r\"$\\frac{\\partial L(w,b|x)}{\\partial a_2}$\"\n",
    "}\n",
    "\n",
    "# Code below is what is needed to update table at each step\n",
    "tab3 = pd.Series(\n",
    "    { \n",
    "        \"w1new\" : \"\" if isinstance(w1new, str) else format(w1new, \".3g\"),\n",
    "        \"eta\" : \"\" if isinstance(eta, str) else format(eta, \".3g\"),\n",
    "        \"dLdw1\" : \"\" if isinstance(dLdw1, str) else format(dLdw1, \".3g\"), \n",
    "        \"dz1dw1\" : \"\" if isinstance(dz1dw1, str) else format(dz1dw1, \".3g\"),\n",
    "        \"da1dz1\" : \"\" if isinstance(da1dz1, str) else format(da1dz1, \".3g\"), \n",
    "        \"dz2da1\" : \"\" if isinstance(dz2da1, str) else format(dz2da1, \".3g\"),\n",
    "        \"da2dz2\" : \"\" if isinstance(da2dz2, str) else format(da2dz2, \".3g\"),\n",
    "        \"dLda2\" : \"\" if isinstance(dlda2, str) else format(dlda2, \".3g\").center(12, '\\u00A0')\n",
    "    }\n",
    ")\n",
    "\n",
    "\n",
    "\n",
    "tab3 = pd.DataFrame.rename(tab3.to_frame().T, columns = colNames).style.hide_index().set_table_styles(styles1)\n",
    "tab3\n"
   ]
  },
  {
   "cell_type": "markdown",
   "metadata": {
    "cell_style": "center"
   },
   "source": [
    "### 3. Solve partial derivatives 1\n",
    "\n",
    "$\\begin{eqnarray}\n",
    "\\frac{\\partial z_2}{\\partial a_1} \n",
    "&=&  \\frac{\\partial w_2 a_1 +b_1}{\\partial a_1} \\\\\n",
    "&=& ?\n",
    "\\end{eqnarray}$\n",
    "\n",
    "***\n",
    "<details>\n",
    "    <summary> Solution </summary>\n",
    "$\\begin{eqnarray}\n",
    "\\frac{\\partial z_2}{\\partial a_1} \n",
    "&=&  \\frac{\\partial w_2 a_1 +b_1}{\\partial a_1} \\\\\n",
    "&=& w_2\n",
    "\\end{eqnarray}$\n",
    "</details>\n",
    "\n",
    "***\n",
    "\n",
    "- Then fill in the corresponding code below and see if you get the same table values"
   ]
  },
  {
   "cell_type": "code",
   "execution_count": 31,
   "metadata": {
    "cell_style": "center",
    "hide_input": false
   },
   "outputs": [],
   "source": [
    "# Replace \"\" with the code to compute this variable\n",
    "dz2da1 = \"\""
   ]
  },
  {
   "cell_type": "markdown",
   "metadata": {},
   "source": [
    "And a table with these values (execute the table cell to update the table!)"
   ]
  },
  {
   "cell_type": "code",
   "execution_count": 32,
   "metadata": {
    "hide_input": true
   },
   "outputs": [
    {
     "data": {
      "text/html": [
       "<style type=\"text/css\">\n",
       "#T_05ff8_ th {\n",
       "  font-size: 18px;\n",
       "  max-width: 2.5cm;\n",
       "  text-align: left;\n",
       "}\n",
       "#T_05ff8_ td {\n",
       "  font-size: 18px;\n",
       "  max-width: 2.5cm;\n",
       "  text-align: left;\n",
       "}\n",
       "</style>\n",
       "<table id=\"T_05ff8_\">\n",
       "  <thead>\n",
       "    <tr>\n",
       "      <th class=\"col_heading level0 col0\" >$w'_1$</th>\n",
       "      <th class=\"col_heading level0 col1\" >$\\eta$</th>\n",
       "      <th class=\"col_heading level0 col2\" >$\\frac{\\partial L(w,b|x)}{\\partial w_1}$</th>\n",
       "      <th class=\"col_heading level0 col3\" >$\\frac{\\partial z_1}{\\partial w_1}$</th>\n",
       "      <th class=\"col_heading level0 col4\" >$\\frac{\\partial a_1}{\\partial z_1}$</th>\n",
       "      <th class=\"col_heading level0 col5\" >$\\frac{\\partial z_2}{\\partial a_1}$</th>\n",
       "      <th class=\"col_heading level0 col6\" >$\\frac{\\partial a_2}{\\partial z_2}$</th>\n",
       "      <th class=\"col_heading level0 col7\" >$\\frac{\\partial L(w,b|x)}{\\partial a_2}$</th>\n",
       "    </tr>\n",
       "  </thead>\n",
       "  <tbody>\n",
       "    <tr>\n",
       "      <td id=\"T_05ff8_row0_col0\" class=\"data row0 col0\" ></td>\n",
       "      <td id=\"T_05ff8_row0_col1\" class=\"data row0 col1\" >0.05</td>\n",
       "      <td id=\"T_05ff8_row0_col2\" class=\"data row0 col2\" ></td>\n",
       "      <td id=\"T_05ff8_row0_col3\" class=\"data row0 col3\" ></td>\n",
       "      <td id=\"T_05ff8_row0_col4\" class=\"data row0 col4\" ></td>\n",
       "      <td id=\"T_05ff8_row0_col5\" class=\"data row0 col5\" ></td>\n",
       "      <td id=\"T_05ff8_row0_col6\" class=\"data row0 col6\" >0.238</td>\n",
       "      <td id=\"T_05ff8_row0_col7\" class=\"data row0 col7\" >   0.509    </td>\n",
       "    </tr>\n",
       "  </tbody>\n",
       "</table>\n"
      ],
      "text/plain": [
       "<pandas.io.formats.style.Styler at 0x7fa25d6a1050>"
      ]
     },
     "execution_count": 32,
     "metadata": {},
     "output_type": "execute_result"
    }
   ],
   "source": [
    "# Code below is what is needed to update table at each step\n",
    "tab3 = pd.Series(\n",
    "    { \n",
    "        \"w1new\" : \"\" if isinstance(w1new, str) else format(w1new, \".3g\"),\n",
    "        \"eta\" : \"\" if isinstance(eta, str) else format(eta, \".3g\"),\n",
    "        \"dLdw1\" : \"\" if isinstance(dLdw1, str) else format(dLdw1, \".3g\"), \n",
    "        \"dz1dw1\" : \"\" if isinstance(dz1dw1, str) else format(dz1dw1, \".3g\"),\n",
    "        \"da1dz1\" : \"\" if isinstance(da1dz1, str) else format(da1dz1, \".3g\"), \n",
    "        \"dz2da1\" : \"\" if isinstance(dz2da1, str) else format(dz2da1, \".3g\"),\n",
    "        \"da2dz2\" : \"\" if isinstance(da2dz2, str) else format(da2dz2, \".3g\"),\n",
    "        \"dLda2\" : \"\" if isinstance(dlda2, str) else format(dlda2, \".3g\").center(12, '\\u00A0')\n",
    "    }\n",
    ")\n",
    "\n",
    "\n",
    "\n",
    "tab3 = pd.DataFrame.rename(tab3.to_frame().T, columns = colNames).style.hide_index().set_table_styles(styles1)\n",
    "tab3\n",
    "\n"
   ]
  },
  {
   "cell_type": "markdown",
   "metadata": {
    "cell_style": "center"
   },
   "source": [
    "### 3. Solve partial derivatives 2\n",
    "$\\begin{eqnarray}\n",
    "\\frac{\\partial a_1}{\\partial z_2} \n",
    "&=&  \\frac{\\partial \\sigma(z_2)}{\\partial z_2} \\\\\n",
    "&=& \\sigma(z_2)\\left(1-\\sigma(z_2)\\right)\\\\\n",
    "&=& a_1\\left(1-a_1\\right)\n",
    "\\end{eqnarray}$\n",
    "\n",
    "***\n",
    "<details>\n",
    "    <summary> Solution </summary>\n",
    "$\\begin{eqnarray}\n",
    "\\frac{\\partial a_1}{\\partial z_2} \n",
    "&=&  \\frac{\\partial \\sigma(z_2)}{\\partial z_2} \\\\\n",
    "&=& \\sigma(z_2)\\left(1-\\sigma(z_2)\\right)\\\\\n",
    "&=& a_1\\left(1-a_1\\right)\n",
    "\\end{eqnarray}$\n",
    "\n",
    "</details>\n",
    "\n",
    "***\n",
    "\n",
    "- Then fill in the corresponding code below and see if you get the same table values"
   ]
  },
  {
   "cell_type": "code",
   "execution_count": 23,
   "metadata": {
    "hide_input": true
   },
   "outputs": [],
   "source": [
    "# Replace \"\" with the code to compute this variable\n",
    "\n",
    "da1dz1 = \"\""
   ]
  },
  {
   "cell_type": "markdown",
   "metadata": {},
   "source": [
    "And a table with these values (execute the table cell to update the table!)"
   ]
  },
  {
   "cell_type": "code",
   "execution_count": 33,
   "metadata": {
    "cell_style": "center",
    "hide_input": true,
    "scrolled": true,
    "slideshow": {
     "slide_type": "-"
    }
   },
   "outputs": [
    {
     "data": {
      "text/html": [
       "<style type=\"text/css\">\n",
       "#T_ee74b_ th {\n",
       "  font-size: 18px;\n",
       "  max-width: 2.5cm;\n",
       "  text-align: left;\n",
       "}\n",
       "#T_ee74b_ td {\n",
       "  font-size: 18px;\n",
       "  max-width: 2.5cm;\n",
       "  text-align: left;\n",
       "}\n",
       "</style>\n",
       "<table id=\"T_ee74b_\">\n",
       "  <thead>\n",
       "    <tr>\n",
       "      <th class=\"col_heading level0 col0\" >$w'_1$</th>\n",
       "      <th class=\"col_heading level0 col1\" >$\\eta$</th>\n",
       "      <th class=\"col_heading level0 col2\" >$\\frac{\\partial L(w,b|x)}{\\partial w_1}$</th>\n",
       "      <th class=\"col_heading level0 col3\" >$\\frac{\\partial z_1}{\\partial w_1}$</th>\n",
       "      <th class=\"col_heading level0 col4\" >$\\frac{\\partial a_1}{\\partial z_1}$</th>\n",
       "      <th class=\"col_heading level0 col5\" >$\\frac{\\partial z_2}{\\partial a_1}$</th>\n",
       "      <th class=\"col_heading level0 col6\" >$\\frac{\\partial a_2}{\\partial z_2}$</th>\n",
       "      <th class=\"col_heading level0 col7\" >$\\frac{\\partial L(w,b|x)}{\\partial a_2}$</th>\n",
       "    </tr>\n",
       "  </thead>\n",
       "  <tbody>\n",
       "    <tr>\n",
       "      <td id=\"T_ee74b_row0_col0\" class=\"data row0 col0\" ></td>\n",
       "      <td id=\"T_ee74b_row0_col1\" class=\"data row0 col1\" >0.05</td>\n",
       "      <td id=\"T_ee74b_row0_col2\" class=\"data row0 col2\" ></td>\n",
       "      <td id=\"T_ee74b_row0_col3\" class=\"data row0 col3\" ></td>\n",
       "      <td id=\"T_ee74b_row0_col4\" class=\"data row0 col4\" ></td>\n",
       "      <td id=\"T_ee74b_row0_col5\" class=\"data row0 col5\" ></td>\n",
       "      <td id=\"T_ee74b_row0_col6\" class=\"data row0 col6\" >0.238</td>\n",
       "      <td id=\"T_ee74b_row0_col7\" class=\"data row0 col7\" >   0.509    </td>\n",
       "    </tr>\n",
       "  </tbody>\n",
       "</table>\n"
      ],
      "text/plain": [
       "<pandas.io.formats.style.Styler at 0x7fa25d69c6d0>"
      ]
     },
     "execution_count": 33,
     "metadata": {},
     "output_type": "execute_result"
    }
   ],
   "source": [
    "# Code below is what is needed to update table at each step\n",
    "tab3 = pd.Series(\n",
    "    { \n",
    "        \"w1new\" : \"\" if isinstance(w1new, str) else format(w1new, \".3g\"),\n",
    "        \"eta\" : \"\" if isinstance(eta, str) else format(eta, \".3g\"),\n",
    "        \"dLdw1\" : \"\" if isinstance(dLdw1, str) else format(dLdw1, \".3g\"), \n",
    "        \"dz1dw1\" : \"\" if isinstance(dz1dw1, str) else format(dz1dw1, \".3g\"),\n",
    "        \"da1dz1\" : \"\" if isinstance(da1dz1, str) else format(da1dz1, \".3g\"), \n",
    "        \"dz2da1\" : \"\" if isinstance(dz2da1, str) else format(dz2da1, \".3g\"),\n",
    "        \"da2dz2\" : \"\" if isinstance(da2dz2, str) else format(da2dz2, \".3g\"),\n",
    "        \"dLda2\" : \"\" if isinstance(dlda2, str) else format(dlda2, \".3g\").center(12, '\\u00A0')\n",
    "    }\n",
    ")\n",
    "\n",
    "\n",
    "\n",
    "tab3 = pd.DataFrame.rename(tab3.to_frame().T, columns = colNames).style.hide_index().set_table_styles(styles1)\n",
    "tab3\n",
    "\n"
   ]
  },
  {
   "cell_type": "markdown",
   "metadata": {
    "cell_style": "center"
   },
   "source": [
    "### 3. Solve partial derivatives  3\n",
    "$\\begin{eqnarray}\n",
    "\\frac{\\partial z_1}{\\partial w_1} \n",
    "&=&  \\frac{\\partial w_1 i_1 + b_1}{\\partial w_1}\\\\\n",
    "&=& ?\n",
    "\\end{eqnarray}$\n",
    "\n",
    "***\n",
    "<details>\n",
    "    <summary> Solution </summary>\n",
    "$\\begin{eqnarray}\n",
    "\\frac{\\partial z_1}{\\partial w_1} \n",
    "&=&  \\frac{\\partial w_1 i_1 + b_1}{\\partial w_1}\\\\\n",
    "&=& i_1\n",
    "\\end{eqnarray}$\n",
    "\n",
    "\n",
    "</details>\n",
    "\n",
    "***\n",
    "\n",
    "- Then fill in the corresponding code below and see if you get the same table values"
   ]
  },
  {
   "cell_type": "code",
   "execution_count": 25,
   "metadata": {
    "hide_input": true
   },
   "outputs": [],
   "source": [
    "# Replace \"\" with the code to compute this variable\n",
    "\n",
    "dz1dw1 = \"\""
   ]
  },
  {
   "cell_type": "markdown",
   "metadata": {},
   "source": [
    "And a table with these values (execute the table cell to update the table!)"
   ]
  },
  {
   "cell_type": "code",
   "execution_count": 34,
   "metadata": {
    "hide_input": true,
    "scrolled": true,
    "slideshow": {
     "slide_type": "-"
    }
   },
   "outputs": [
    {
     "data": {
      "text/html": [
       "<style type=\"text/css\">\n",
       "#T_3ce1a_ th {\n",
       "  font-size: 18px;\n",
       "  max-width: 2.5cm;\n",
       "  text-align: left;\n",
       "}\n",
       "#T_3ce1a_ td {\n",
       "  font-size: 18px;\n",
       "  max-width: 2.5cm;\n",
       "  text-align: left;\n",
       "}\n",
       "</style>\n",
       "<table id=\"T_3ce1a_\">\n",
       "  <thead>\n",
       "    <tr>\n",
       "      <th class=\"col_heading level0 col0\" >$w'_1$</th>\n",
       "      <th class=\"col_heading level0 col1\" >$\\eta$</th>\n",
       "      <th class=\"col_heading level0 col2\" >$\\frac{\\partial L(w,b|x)}{\\partial w_1}$</th>\n",
       "      <th class=\"col_heading level0 col3\" >$\\frac{\\partial z_1}{\\partial w_1}$</th>\n",
       "      <th class=\"col_heading level0 col4\" >$\\frac{\\partial a_1}{\\partial z_1}$</th>\n",
       "      <th class=\"col_heading level0 col5\" >$\\frac{\\partial z_2}{\\partial a_1}$</th>\n",
       "      <th class=\"col_heading level0 col6\" >$\\frac{\\partial a_2}{\\partial z_2}$</th>\n",
       "      <th class=\"col_heading level0 col7\" >$\\frac{\\partial L(w,b|x)}{\\partial a_2}$</th>\n",
       "    </tr>\n",
       "  </thead>\n",
       "  <tbody>\n",
       "    <tr>\n",
       "      <td id=\"T_3ce1a_row0_col0\" class=\"data row0 col0\" ></td>\n",
       "      <td id=\"T_3ce1a_row0_col1\" class=\"data row0 col1\" >0.05</td>\n",
       "      <td id=\"T_3ce1a_row0_col2\" class=\"data row0 col2\" ></td>\n",
       "      <td id=\"T_3ce1a_row0_col3\" class=\"data row0 col3\" ></td>\n",
       "      <td id=\"T_3ce1a_row0_col4\" class=\"data row0 col4\" ></td>\n",
       "      <td id=\"T_3ce1a_row0_col5\" class=\"data row0 col5\" ></td>\n",
       "      <td id=\"T_3ce1a_row0_col6\" class=\"data row0 col6\" >0.238</td>\n",
       "      <td id=\"T_3ce1a_row0_col7\" class=\"data row0 col7\" >   0.509    </td>\n",
       "    </tr>\n",
       "  </tbody>\n",
       "</table>\n"
      ],
      "text/plain": [
       "<pandas.io.formats.style.Styler at 0x7fa25d6d7110>"
      ]
     },
     "execution_count": 34,
     "metadata": {},
     "output_type": "execute_result"
    }
   ],
   "source": [
    "# Code below is what is needed to update table at each step\n",
    "tab3 = pd.Series(\n",
    "    { \n",
    "        \"w1new\" : \"\" if isinstance(w1new, str) else format(w1new, \".3g\"),\n",
    "        \"eta\" : \"\" if isinstance(eta, str) else format(eta, \".3g\"),\n",
    "        \"dLdw1\" : \"\" if isinstance(dLdw1, str) else format(dLdw1, \".3g\"), \n",
    "        \"dz1dw1\" : \"\" if isinstance(dz1dw1, str) else format(dz1dw1, \".3g\"),\n",
    "        \"da1dz1\" : \"\" if isinstance(da1dz1, str) else format(da1dz1, \".3g\"), \n",
    "        \"dz2da1\" : \"\" if isinstance(dz2da1, str) else format(dz2da1, \".3g\"),\n",
    "        \"da2dz2\" : \"\" if isinstance(da2dz2, str) else format(da2dz2, \".3g\"),\n",
    "        \"dLda2\" : \"\" if isinstance(dlda2, str) else format(dlda2, \".3g\").center(12, '\\u00A0')\n",
    "    }\n",
    ")\n",
    "\n",
    "\n",
    "\n",
    "tab3 = pd.DataFrame.rename(tab3.to_frame().T, columns = colNames).style.hide_index().set_table_styles(styles1)\n",
    "tab3\n",
    "\n"
   ]
  },
  {
   "cell_type": "markdown",
   "metadata": {
    "cell_style": "center"
   },
   "source": [
    "### 4. Compute the requested (full) partial derivative\n",
    "\n",
    "$\\begin{eqnarray}\n",
    "\\frac{\\partial L(b,w|x)}{\\partial w_1} \n",
    "&=&  \n",
    "\\frac{\\partial z_1}{\\partial w_1} \n",
    "\\times\n",
    "\\frac{\\partial a_1}{\\partial z_1} \n",
    "\\times\n",
    "\\frac{\\partial z_2}{\\partial a_1} \n",
    "\\times\n",
    "\\frac{\\partial a_2}{\\partial z_2} \n",
    "\\times\n",
    "\\frac{\\partial L(b,w|x)}{\\partial a_2} \n",
    "\\end{eqnarray}$\n",
    "\n",
    "- And fill in the corresponding code below and see if you get the same table values"
   ]
  },
  {
   "cell_type": "code",
   "execution_count": 27,
   "metadata": {
    "hide_input": true
   },
   "outputs": [],
   "source": [
    "# Replace \"\" with the code to compute this variable\n",
    "dLdw1 = \"\""
   ]
  },
  {
   "cell_type": "markdown",
   "metadata": {},
   "source": [
    "And a table with these values (execute the table cell to update the table!)"
   ]
  },
  {
   "cell_type": "code",
   "execution_count": 35,
   "metadata": {
    "hide_input": true,
    "scrolled": true,
    "slideshow": {
     "slide_type": "-"
    }
   },
   "outputs": [
    {
     "data": {
      "text/html": [
       "<style type=\"text/css\">\n",
       "#T_62de2_ th {\n",
       "  font-size: 18px;\n",
       "  max-width: 2.5cm;\n",
       "  text-align: left;\n",
       "}\n",
       "#T_62de2_ td {\n",
       "  font-size: 18px;\n",
       "  max-width: 2.5cm;\n",
       "  text-align: left;\n",
       "}\n",
       "</style>\n",
       "<table id=\"T_62de2_\">\n",
       "  <thead>\n",
       "    <tr>\n",
       "      <th class=\"col_heading level0 col0\" >$w'_1$</th>\n",
       "      <th class=\"col_heading level0 col1\" >$\\eta$</th>\n",
       "      <th class=\"col_heading level0 col2\" >$\\frac{\\partial L(w,b|x)}{\\partial w_1}$</th>\n",
       "      <th class=\"col_heading level0 col3\" >$\\frac{\\partial z_1}{\\partial w_1}$</th>\n",
       "      <th class=\"col_heading level0 col4\" >$\\frac{\\partial a_1}{\\partial z_1}$</th>\n",
       "      <th class=\"col_heading level0 col5\" >$\\frac{\\partial z_2}{\\partial a_1}$</th>\n",
       "      <th class=\"col_heading level0 col6\" >$\\frac{\\partial a_2}{\\partial z_2}$</th>\n",
       "      <th class=\"col_heading level0 col7\" >$\\frac{\\partial L(w,b|x)}{\\partial a_2}$</th>\n",
       "    </tr>\n",
       "  </thead>\n",
       "  <tbody>\n",
       "    <tr>\n",
       "      <td id=\"T_62de2_row0_col0\" class=\"data row0 col0\" ></td>\n",
       "      <td id=\"T_62de2_row0_col1\" class=\"data row0 col1\" >0.05</td>\n",
       "      <td id=\"T_62de2_row0_col2\" class=\"data row0 col2\" ></td>\n",
       "      <td id=\"T_62de2_row0_col3\" class=\"data row0 col3\" ></td>\n",
       "      <td id=\"T_62de2_row0_col4\" class=\"data row0 col4\" ></td>\n",
       "      <td id=\"T_62de2_row0_col5\" class=\"data row0 col5\" ></td>\n",
       "      <td id=\"T_62de2_row0_col6\" class=\"data row0 col6\" >0.238</td>\n",
       "      <td id=\"T_62de2_row0_col7\" class=\"data row0 col7\" >   0.509    </td>\n",
       "    </tr>\n",
       "  </tbody>\n",
       "</table>\n"
      ],
      "text/plain": [
       "<pandas.io.formats.style.Styler at 0x7fa25d683310>"
      ]
     },
     "execution_count": 35,
     "metadata": {},
     "output_type": "execute_result"
    }
   ],
   "source": [
    "# Code below is what is needed to update table at each step\n",
    "tab3 = pd.Series(\n",
    "    { \n",
    "        \"w1new\" : \"\" if isinstance(w1new, str) else format(w1new, \".3g\"),\n",
    "        \"eta\" : \"\" if isinstance(eta, str) else format(eta, \".3g\"),\n",
    "        \"dLdw1\" : \"\" if isinstance(dLdw1, str) else format(dLdw1, \".3g\"), \n",
    "        \"dz1dw1\" : \"\" if isinstance(dz1dw1, str) else format(dz1dw1, \".3g\"),\n",
    "        \"da1dz1\" : \"\" if isinstance(da1dz1, str) else format(da1dz1, \".3g\"), \n",
    "        \"dz2da1\" : \"\" if isinstance(dz2da1, str) else format(dz2da1, \".3g\"),\n",
    "        \"da2dz2\" : \"\" if isinstance(da2dz2, str) else format(da2dz2, \".3g\"),\n",
    "        \"dLda2\" : \"\" if isinstance(dlda2, str) else format(dlda2, \".3g\").center(12, '\\u00A0')\n",
    "    }\n",
    ")\n",
    "\n",
    "\n",
    "\n",
    "tab3 = pd.DataFrame.rename(tab3.to_frame().T, columns = colNames).style.hide_index().set_table_styles(styles1)\n",
    "tab3"
   ]
  },
  {
   "cell_type": "markdown",
   "metadata": {
    "cell_style": "center"
   },
   "source": [
    "### 5. Update $w_1$\n",
    "\n",
    "$\\begin{eqnarray}\n",
    "w'_1\n",
    "&=&  w_1 - \\eta \\frac{\\partial L(b,wx)}{\\partial w_1}\n",
    "\\end{eqnarray}$\n",
    "\n",
    "- And fill in the corresponding code below and see if you get the same table values"
   ]
  },
  {
   "cell_type": "code",
   "execution_count": 29,
   "metadata": {
    "hide_input": true
   },
   "outputs": [],
   "source": [
    "# Replace \"\" with the code to compute this variable\n",
    "\n",
    "w1new = \"\""
   ]
  },
  {
   "cell_type": "markdown",
   "metadata": {},
   "source": [
    "And a table with these values (execute the table cell to update the table!)"
   ]
  },
  {
   "cell_type": "code",
   "execution_count": 30,
   "metadata": {
    "hide_input": true
   },
   "outputs": [
    {
     "data": {
      "text/html": [
       "<style type=\"text/css\">\n",
       "#T_dd0fc_ th {\n",
       "  font-size: 18px;\n",
       "  max-width: 2.5cm;\n",
       "  text-align: left;\n",
       "}\n",
       "#T_dd0fc_ td {\n",
       "  font-size: 18px;\n",
       "  max-width: 2.5cm;\n",
       "  text-align: left;\n",
       "}\n",
       "</style>\n",
       "<table id=\"T_dd0fc_\">\n",
       "  <thead>\n",
       "    <tr>\n",
       "      <th class=\"col_heading level0 col0\" >$w'_1$</th>\n",
       "      <th class=\"col_heading level0 col1\" >$\\eta$</th>\n",
       "      <th class=\"col_heading level0 col2\" >$\\frac{\\partial L(w,b|x)}{\\partial w_1}$</th>\n",
       "      <th class=\"col_heading level0 col3\" >$\\frac{\\partial z_1}{\\partial w_1}$</th>\n",
       "      <th class=\"col_heading level0 col4\" >$\\frac{\\partial a_1}{\\partial z_1}$</th>\n",
       "      <th class=\"col_heading level0 col5\" >$\\frac{\\partial z_2}{\\partial a_1}$</th>\n",
       "      <th class=\"col_heading level0 col6\" >$\\frac{\\partial a_2}{\\partial z_2}$</th>\n",
       "      <th class=\"col_heading level0 col7\" >$\\frac{\\partial L(w,b|x)}{\\partial a_2}$</th>\n",
       "    </tr>\n",
       "  </thead>\n",
       "  <tbody>\n",
       "    <tr>\n",
       "      <td id=\"T_dd0fc_row0_col0\" class=\"data row0 col0\" ></td>\n",
       "      <td id=\"T_dd0fc_row0_col1\" class=\"data row0 col1\" >0.3</td>\n",
       "      <td id=\"T_dd0fc_row0_col2\" class=\"data row0 col2\" ></td>\n",
       "      <td id=\"T_dd0fc_row0_col3\" class=\"data row0 col3\" ></td>\n",
       "      <td id=\"T_dd0fc_row0_col4\" class=\"data row0 col4\" ></td>\n",
       "      <td id=\"T_dd0fc_row0_col5\" class=\"data row0 col5\" ></td>\n",
       "      <td id=\"T_dd0fc_row0_col6\" class=\"data row0 col6\" >0.24</td>\n",
       "      <td id=\"T_dd0fc_row0_col7\" class=\"data row0 col7\" >    0.51    </td>\n",
       "    </tr>\n",
       "  </tbody>\n",
       "</table>\n"
      ],
      "text/plain": [
       "<pandas.io.formats.style.Styler at 0x7fe7e1a9d9d0>"
      ]
     },
     "execution_count": 30,
     "metadata": {},
     "output_type": "execute_result"
    }
   ],
   "source": [
    "# Code below is what is needed to update table at each step\n",
    "tab3 = pd.Series(\n",
    "    { \n",
    "        \"w1new\" : \"\" if isinstance(w1new, str) else format(w1new, \".3g\"),\n",
    "        \"eta\" : \"\" if isinstance(eta, str) else format(eta, \".3g\"),\n",
    "        \"dLdw1\" : \"\" if isinstance(dLdw1, str) else format(dLdw1, \".3g\"), \n",
    "        \"dz1dw1\" : \"\" if isinstance(dz1dw1, str) else format(dz1dw1, \".3g\"),\n",
    "        \"da1dz1\" : \"\" if isinstance(da1dz1, str) else format(da1dz1, \".3g\"), \n",
    "        \"dz2da1\" : \"\" if isinstance(dz2da1, str) else format(dz2da1, \".3g\"),\n",
    "        \"da2dz2\" : \"\" if isinstance(da2dz2, str) else format(da2dz2, \".3g\"),\n",
    "        \"dLda2\" : \"\" if isinstance(dlda2, str) else format(dlda2, \".3g\").center(12, '\\u00A0')\n",
    "    }\n",
    ")\n",
    "\n",
    "\n",
    "\n",
    "tab3 = pd.DataFrame.rename(tab3.to_frame().T, columns = colNames).style.hide_index().set_table_styles(styles1)\n",
    "tab3"
   ]
  },
  {
   "cell_type": "markdown",
   "metadata": {
    "cell_style": "center"
   },
   "source": [
    "# What about the bias?\n",
    "\n",
    "The biases $b_1$ and b_2$ are udpated in very much the same way as the weights:\n",
    "\n",
    "1. Determine the (forward) path from the bias in question, $b_i$, to the loss function $L(b,w|x)$. For $b_2$ this is: \n",
    "$$\\begin{eqnarray}\n",
    "z_2 &=&  w_2 a_{1} + b_2\\\\\n",
    "a_2 &=& \\sigma(z_2) = \\frac{1}{1+e^{-z_2}}\\\\\n",
    "L(w,b|x) &=& \\frac{1}{2}\\left(y-\\hat{y}\\right)^2 = \\frac{1}{2}\\left(y-a_2\\right)^2\n",
    "\\end{eqnarray}$$  \n",
    "(What would it be for $b_1$?)\n",
    "2. Use the chain rule to split the requested partial derivative $\\frac{\\partial L(b,w|x)}{\\partial b_i}$ on the $a_i$s and $z_i$s along this path.\n",
    "3. Solve ther partial derivatives of the split expression and compute their values\n",
    "4. Compute the value of $\\frac{\\partial L(b,w|x)}{\\partial b_i}$ using the partial derivatives of the split expression\n",
    "5. Update the requested bias $b_i$ using $\\eta$ and $\\frac{\\partial L(b,w|x)}{\\partial b_i}$.\n",
    "\n",
    "(_If and only if_ you get time over, you could try to do this for $b2$ and/or $b_1$)"
   ]
  },
  {
   "cell_type": "markdown",
   "metadata": {
    "slideshow": {
     "slide_type": "-"
    }
   },
   "source": [
    "# What happens if we have more neurons per layer?"
   ]
  },
  {
   "cell_type": "code",
   "execution_count": 36,
   "metadata": {
    "cell_style": "center",
    "hide_input": true,
    "slideshow": {
     "slide_type": "-"
    }
   },
   "outputs": [
    {
     "data": {
      "image/png": "[encoded data removed]",
      "text/plain": [
       "<Figure size 864x864 with 1 Axes>"
      ]
     },
     "metadata": {
      "needs_background": "light"
     },
     "output_type": "display_data"
    }
   ],
   "source": [
    "import numpy as np\n",
    "import matplotlib.pyplot as plt\n",
    "from draw_neural_net import draw_neural_net\n",
    "\n",
    "#-----1-2-2\n",
    "layer_sizes = [1,2,2]\n",
    "\n",
    "weights = [\n",
    "    np.array(\n",
    "        [\n",
    "            [ \"w_{1,1}^H\", \"w_{1,2}^H\" ]\n",
    "        ]\n",
    "    ),\n",
    "    np.array(\n",
    "        [\n",
    "            [ \"w_{1,1}^O\", \"w_{1,2}^O\" ], \n",
    "            [ \"w_{2,1}^O\", \"w_{2,2}^O\" ]\n",
    "        ]\n",
    "    )\n",
    "]\n",
    "biases = [\n",
    "    np.array(\n",
    "        [ \"b_1^H\", \"b_2^H\"]\n",
    "    ), \n",
    "    np.array(\n",
    "        [ \"b_1^O\", \"b_2^O\"]\n",
    "    )\n",
    "]\n",
    "\n",
    "hidden = [\n",
    "                np.array(\n",
    "                [ r\"$i_1$\"]\n",
    "                ),\n",
    "                np.array(\n",
    "                    [\n",
    "                        r\"$z_1^H\\rightarrow a_1^H$\",\n",
    "                        r\"$z_2^H\\rightarrow a_2^H$\"\n",
    "                    ]\n",
    "                ),\n",
    "                np.array(\n",
    "                    [\n",
    "                        r\"$z_1^O\\rightarrow a_1^O$\",\n",
    "                        r\"$z_2^O\\rightarrow a_2^O$\"\n",
    "                    ]\n",
    "                ),\n",
    "]\n",
    "\n",
    "figExercise2 = plt.figure(figsize=(12, 12))\n",
    "ax = figExercise2.gca()\n",
    "ax.axis('off')\n",
    "\n",
    "draw_neural_net(ax, \n",
    "                layerSizes = layer_sizes, \n",
    "                weights = weights,\n",
    "                otherNodePrefix = hidden,\n",
    "                biasNodePrefix = \"b\",\n",
    "                biases=biases, \n",
    "                inputPrefix = [\"{}\".format(x)], \n",
    "                nodeFontSize=20, edgeFontSize = 15, edgeWidth = 3\n",
    "               )\n",
    "#plt.show()"
   ]
  },
  {
   "cell_type": "markdown",
   "metadata": {},
   "source": [
    "Well, we would still use the same general approach, but we get more paths to keep track of.\n",
    "\n",
    "## Forward pass\n",
    "\n",
    "Because there are now two paths to go from $i_1$ to $\\hat{y}_1$ (and similarly from $i_1$ to $\\hat{y}_2$), we need to sum over these ways in the forward pass. This is done when computing $z_1^O$, e.g.:\n",
    "\n",
    "$\\begin{eqnarray}\n",
    "\\hat{y}_1 &=& a_1^O = \\sigma(z_1^O)\\\\\n",
    "z_1^O &=& \\left(\\sum_{j=1}^2 w_{j,1}^O a_j^H\\right) + b_1^O\\\\\n",
    "etc.\n",
    "\\end{eqnarray}$\n",
    "\n",
    "## Backward pass\n",
    "\n",
    "Similarly, there are now two paths to consider when computing $\\frac{\\partial L(b,w|w)}{\\partial w_1^H}$, one through $\\hat{y}_1$ and one  trough $\\hat{y}_2$ (see the ANN figure), and again we need to sum over these. Here it is done at the when splitting $\\frac{\\partial L(b,w|x)}{\\partial w_1^H}$ at $a_1^H$, e.g.;\n",
    "\n",
    "$\\begin{eqnarray}\n",
    "\\frac{\\partial L(b,w|x)}{\\partial w_{1,1}^H} &=&\n",
    "\\frac{\\partial z_1^H}{\\partial w_{1,1}^H} \n",
    "\\times\n",
    "\\frac{\\partial a_1^H}{\\partial z_1^H} \n",
    "\\times\n",
    "\\sum_{j=1}^2\n",
    "\\frac{\\partial z_j^O}{\\partial a_1^H} \n",
    "\\times\n",
    "\\frac{\\partial a_j^O}{\\partial z_j^O} \n",
    "\\times\n",
    "\\frac{\\partial L(b,w|x)}{\\partial a_j^H} \n",
    "\\end{eqnarray}$\n",
    "\n"
   ]
  },
  {
   "cell_type": "markdown",
   "metadata": {},
   "source": [
    "## Matrix algebra\n",
    "\n",
    "In fact it turns out that it is beneficial to collect similar variables into vectors and matrices, i.e., gradients, and then use matrix multiplication between these to compute all partial derivatives inone go. \n",
    "\n",
    "However, this would **extra-curricular for this course**, (but a walk-through is provided at the end of the exercise (only in _html_ version) as a challenge only for those who _really loves math_ and _if and only if_ they have time (NB! this will require familiarity with matrix algebra)."
   ]
  },
  {
   "cell_type": "markdown",
   "metadata": {
    "slideshow": {
     "slide_type": "-"
    }
   },
   "source": [
    "## So what does Tensorflow do?\n",
    "\n",
    "Well, it uses matrix multiplication, but adds an additional twist:\n",
    "\n",
    "While it works with gradients, it does this for all training samples at once, so that each gradient for all samples are collected in a multi-dimensional matrix ort a tensor (tensors $\\approx$ \"matrices of any dimension\"). It then uses matrix multiplication on these tensors and perform gradient descent for all samples at the same time.\n",
    "\n",
    "### \"Tensors flows through the network!\"\n",
    "\n"
   ]
  },
  {
   "cell_type": "markdown",
   "metadata": {
    "slideshow": {
     "slide_type": "-"
    }
   },
   "source": [
    "# Summary -- Back-propagation\n",
    "\n",
    "## Efficient computation of partial derivatives $\\frac{\\partial L(w,b|x)}{\\partial v}, v\\in w\\cup b$\n",
    "\n",
    "+ Chain rule allows computing partial derivatives layer-wise, backwards\n",
    "+ By collecting gradients and weights for layers in *tensors* over all training data, all computations in one epoch can be computed at the same time for all training data"
   ]
  }
 ],
 "metadata": {
  "celltoolbar": "Slideshow",
  "hide_input": false,
  "kernelspec": {
   "display_name": "Python [conda env:nn_dl_python] *",
   "language": "python",
   "name": "conda-env-nn_dl_python-py"
  },
  "language_info": {
   "codemirror_mode": {
    "name": "ipython",
    "version": 3
   },
   "file_extension": ".py",
   "mimetype": "text/x-python",
   "name": "python",
   "nbconvert_exporter": "python",
   "pygments_lexer": "ipython3",
   "version": "3.7.6"
  },
  "rise": {
   "enable_chalkboard": true
  }
 },
 "nbformat": 4,
 "nbformat_minor": 4
}
