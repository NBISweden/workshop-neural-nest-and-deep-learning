{
 "cells": [
  {
   "cell_type": "code",
   "execution_count": 293,
   "metadata": {
    "hide_input": false,
    "slideshow": {
     "slide_type": "skip"
    }
   },
   "outputs": [],
   "source": [
    "#!jt -t grade3 -ofs 18 -nfs 18 -tfs 24 -T"
   ]
  },
  {
   "cell_type": "markdown",
   "metadata": {
    "cell_style": "center",
    "hide_input": false,
    "slideshow": {
     "slide_type": "-"
    }
   },
   "source": [
    "# ANN Building Blocks Exercise\n",
    "\n",
    "1. **Introduction to Jupyter Notebooks**  \n",
    "In this course, we will program Neural networks, using Python, in Jupyter Notebooks, which some of you might not have extensive experience in. Therefore, the first part of this first exercise will be an introduction to Jupyter Notebooks. \n",
    "\n",
    "2. **Back-propagation**  \n",
    "In the second part of the you will practice further working with Jupyter Notebooks by performing a single forward and backward step for a very simple ffANN."
   ]
  },
  {
   "cell_type": "markdown",
   "metadata": {},
   "source": [
    "## 1. Introduction to Jupyter Notebooks\n",
    "\n",
    "The Jupyter Notebook is an programming environment that allows you to mix code with formatted text, equations and visualizations. It shares som similarities with Rmarkdown and Rstudio, which some of you mnight be familiar with, but while Rmarkdown was developed focusing on the R language, Jupyter Notebooks was developed focusing on the Pyhton language. (however, both these tools has since further developed to include also other programming languages.)\n",
    "Jupyter notebooks is web-application; you open documents, edit and compile them in a web-browser on your laptop. It is an open-source application that is continuopusly developed. by a large and dynamic community.\n",
    "It can be used to document your daily bioinformatics work, create nice reports or slides for a presentation."
   ]
  },
  {
   "cell_type": "markdown",
   "metadata": {},
   "source": [
    "### Task 1.1. Create the _nndl_ conda environment\n",
    "\n",
    "1. Create a dedicated folder (henceforth referred to as the _nndl_ folder) on your laptop for NN&DL course exercises (if you have not already done this). `cd` into the _nndl_ folder.\n",
    "2. Download the conda environment file `nndl_python-yaml` to the _nndl_ folder, e.g.,\n",
    "```\n",
    "curl -o nn_dl_python.yaml https://raw.githubusercontent.com/NBISweden/workshop-neural-nets-and-deep-learning/master/common_assets/conda_envs/nn_dl_python.yaml\n",
    "```\n",
    "or alternatively\n",
    "```\n",
    "wget https://raw.githubusercontent.com/NBISweden/workshop-neural-nets-and-deep-learning/master/common_assets/conda_envs/nn_dl_python.yaml\n",
    "```\n",
    "3. Create the _nndl_ _conda environment_ using the command \n",
    "```\n",
    "conda env create -f nndl_python-yaml\n",
    "```\n",
    "(_Note! you should already have `conda` installed on your laptop, else look at the prerequisite notesXXX_)\n",
    "4. Activate the _nndl_ environment using the command\n",
    "```\n",
    "conda activate\n",
    "```"
   ]
  },
  {
   "cell_type": "markdown",
   "metadata": {},
   "source": [
    "### Task 1.2. Start the Jupyter Notebook web application\n",
    "\n",
    "The Jupyter Notebook web application is the user interface. It opens local html pages in your browser and allows you to edit and run the code and markdown in your notebook. \n",
    "Your \"home page\" is the _Notebook dashboard_ window. Let's open this window.\n",
    "\n",
    "0. (Ensure that you're still in the _nndl_ folder)\n",
    "1. Start a Jupyter Notebook by typing `jupyter notebook`\n",
    "2. You should now see the _Notebook dashboard_ window:   \n",
    "<img src=\"./assets/jnb_screenshot1.png\" alt=\"nb dashboard Files screenshot\" width=\"800\"/>  \n",
    "\n",
    "The _Notebook dashboard_  contains\n",
    "- Several tabs at top; we will here focus only on the two left-most ones, _Files_ and _Running_.\n",
    "- A listing of the files and folders in the current directory; since you started the notebook in the _nndl_ folder, you should see the content of that and it should be empty. You will be able to use this to navigate among these folders and files.\n",
    "- Above to the right, you will have three buttons, an _upload_ button, a _New_ button and an _update_ button. We will go throught their use below."
   ]
  },
  {
   "cell_type": "markdown",
   "metadata": {},
   "source": [
    "### Task 1.3. Create a new Notebook\n",
    "\n",
    "The notebook is a file (with suffix _.ipynb_) that will store the code and markdown you write to fulfil the purpose of the notebook. Notebook files are accessed using the _notebook editor_. To open a new file in the _editor_:\n",
    "\n",
    "0. (Ensure that you are in the  _Files_ tab of the jupyter Notebook main window)\n",
    "1. Click `new` and select _Python [conda env: nn_dl_python]_ in the scroll-down menu\n",
    "    - this means that you will use the Python in the _nn_dl_python_ conda environment as your _kernel_ for the notebook\n",
    "2. The _editor_ will open in a new browser window with an empty and unnamed notebook:\n",
    "<img src=\"./assets/jnb_screenshot2.png\" alt=\"Empty Notebook\" width=\"800\"/>\n",
    "\n",
    "The _editor_ window comprise:\n",
    "- The _menu_ row at the top\n",
    "- To the right of this is some information whether telling\n",
    "    - Whether the notebook is trusted\n",
    "        - this is a security measure, newly opened existing notebooks (with unknown code) are not trusted until you explicitly/manually  execute code in the notebook, at which point it becomes _trusted_\n",
    "    - The kernel's name, \n",
    "    - The kernel indicator showing whether the kernel is working (filled circle) or idle (empty circle) \n",
    "- Below this its a row of icons, the _tool bar_\n",
    "- At the bottom is an empty _cell_\n",
    "\n",
    "We will below just go through a selection of menu or toolbar items. For more details, refer to the [Jupyter Notebook documentation](https://jupyter-notebook.readthedocs.io/en/stable/index.html). A interactive tour of the user interface can also be started from the _Help_ menu item _User Interface Tour_. \n",
    "\n",
    "_Note 1! Your terminal will show log messages from thew Jupyter Notebook session and will not be accessible for normal commands -- this is the expectd behaviour and not an error._\n",
    "\n",
    "_Note2! It is convenient to use keyboard shortcuts for many commands. We will below mention some of these, but many of the keyboard shortcuts can be found in the different menus after the relevant command. This teremial is usually kleft as is and new terminals are opened for any required bash commands._"
   ]
  },
  {
   "cell_type": "markdown",
   "metadata": {},
   "source": [
    "### Task 1.4. Naming and saving the notebook\n",
    "\n",
    "1. Save the notebook as an `.ipynb` file with an appropriate name, e.g., `FantabulousCounter.ipynb` by\n",
    "    - in the _File_ menu, choose _Rename_\n",
    "2. It is good practice to save your notebook while working on it (\"checkpoint saved\"). \n",
    "   This can be done by either:_\n",
    "    - _Click the ’diskette’ icon in the toolbar,_\n",
    "    - _In the File menu, choose Save and checkpoint_\n",
    "    - _Type `Cmd-s` (Mac) `ctrl-s` (PC)_"
   ]
  },
  {
   "cell_type": "markdown",
   "metadata": {
    "slideshow": {
     "slide_type": "slide"
    }
   },
   "source": [
    "### Task 1.5. Work with notebooks and cells -- a. markdown cells\n",
    "\n",
    "A Jupyter notebook consists of a sequence of cells. Code or markdown text is written in the cells, which then can be executed. There are two main type of cell:\n",
    "- Code cells, typically with standard Python code\n",
    "- Markdown cells, with text in Markdown format.\n",
    "Moreover, cells can have two different modes:\n",
    "- _Edit mode_, when you can edit code to text in the cell; this is indicated by XXX -- press `enter` to enter edit mode from command mode, or click inside the cell\n",
    "- _Command mode_, when you can edit the notebook as a whole (e.g., add or delete cells, etc.); this is indicated by XXX -- press `esc` to enter edit mode from edit mode, or click outside a cell.\n",
    "\n",
    "1. Click in the empty cell of your notebook to make it the present cell . Try to change between _Edit_ and _Command_ modes\n",
    "2. At startup this cell will be _Code cell_; the cell type for the present will show in the 6th icon of the toolbar. Change the cell to a _Markdown cell_ by, either:\n",
    "    - click the 6th item in the toolbar and select Markdown from the scroll-down menu,\n",
    "    - In the cell menu, choose item _Cell type_ and then _Markdown_, or\n",
    "    - Type _M_ (this only works in _Command_ mode)\n",
    "(You can try switching back-and-forth between modes, but make sure it is a _Markdown cell_ in _Editor_ mode before continuing.)\n",
    "3. Add some text in the cell, include some markdown formatting if you like (see [Markdown cheatsheet](https://www.markdownguide.org/cheat-sheet/), e.g.:\n",
    " ```\n",
    " # The phenomenal counting machine\n",
    " \n",
    " This amazing counting machine will count from 1 to 9 \n",
    " and print the consecutive sum of these numbers... and \n",
    " that is not all; it will then do it backwards and blindfolded.\n",
    " ```\n",
    "4. Execute the cell by, either\n",
    "     - click the _Run_ icon in the toolbar,\n",
    "     - In the _Cell_ menu choose _Run cells_, or\n",
    "     - Type `Cmd-enter` (Mac) `ctrl-enter` (PC)\n",
    "   This converts the cell to a _Compiled_ cell:\n",
    "   <img src=\"./assets/jnb_screenshot4.png\" alt=\"Markdown cell Compiled\" width=\"800\"/>\n",
    "   \n",
    "   To get back to the _Edit_ mode, double-click in the cell. \n",
    "     <img src=\"./assets/jnb_screenshot3.png\" alt=\"Markdown cell Edit mode\" width=\"800\"/>\n",
    "     \n",
    "   Try going back and forth between _Compiled_ and _Edit_ mode"
   ]
  },
  {
   "cell_type": "markdown",
   "metadata": {
    "slideshow": {
     "slide_type": "slide"
    }
   },
   "source": [
    "### Task 1.5. Work with notebooks and cells -- b. Code cells\n",
    "1. Add a new cell below the present one by either:\n",
    "     - click the `+` icon in the toolbar,\n",
    "     - In the _Insert_ menu, choose _Insert cell above_, or\n",
    "     - Type `B` (this only works in _Command_ mode)\n",
    "2. Ensure that the new cell is a _Code cell_ and in _Edit_ mode, and typesome python code in the cell, e.g.:\n",
    " ```\n",
    " print(\"Look -- no hands!\")\n",
    " sum = 0\n",
    " for i in range(1,10):\n",
    "     sum += i\n",
    "     print(i,sum)\n",
    "     \n",
    " print(\"And now, without seeing!\")\n",
    " sum = 0\n",
    " for i in range(10,1,-1):\n",
    "     sum += i\n",
    "     print(\"X\",sum)\n",
    " ```\n",
    " You should see something like:\n",
    " <img src=\"./assets/jnb_screenshot5.png\" alt=\"Code cell Edit mode\" width=\"800\"/>\n",
    "3. Execute the cell\n",
    "<img src=\"./assets/jnb_screenshot6.png\" alt=\"Code cell Compiled\" width=\"800\"/>\n",
    "4. Add another cell below and then remove the new cell (_ensure that the cell to be deleted is the selected one_) by either\n",
    "    - In the _Edit_ menu, choose _Delete cells_\n",
    "    - Type `dd` (this only works in _Command_ mode)"
   ]
  },
  {
   "cell_type": "markdown",
   "metadata": {},
   "source": [
    "### Task 1.5. Close a notebook\n",
    "\n",
    "1. Close the browser tab with your new (and saved) notebook.  \n",
    "2. Go to the _Notebook dashboard_ window in your browser ad click on the `Running` tab. It should look something like this: \n",
    "<img src=\"./assets/jnb_screenshot7.png\" alt=\"nb dashboard Running screenshot\" width=\"800\"/>\n",
    "There is a list of running `Terminals` (which usually is empty) and a list of running `Notebooks`.  \n",
    "3. Notice that the notebook that you just closed (e.g., `FantabulousCounter.ipynb`) is still listed in the running `Notebooks` list. Clearly, just closing the browser window does not actually terminate the notebook!\n",
    "4. You can reopen a browser window for a running notebook, by clicking on the notebok name in either:\n",
    "    - the `Running` tab or\n",
    "    - the `File` tab\n",
    "of the _Notebook dashboard_ window. Try it!\n",
    "5. To terminate a notebook, go to the `Running` tab of the _Notebook dashboard_ browser window and click \n",
    "   `Shutdown` in the row of the notebook, you want to shut down (e.g., `FantabulousCounter.ipynb`):\n",
    "   <img src=\"./assets/jnb_screenshot7b.png\" alt=\"nb dashboard Shutdown screenshot\" width=\"800\"/>\n",
    "6. Ensure that the is no longer running:\n",
    "   <img src=\"./assets/jnb_screenshot8.png\" alt=\"nb dashboard no Running screenshot\" width=\"800\"/>\n",
    "7. Go to the browser window for that notebook (e.g., `FantabulousCounter.ipynb`). You will see a message about `Dead kernel...` (this is simply because you killed the kernel in item 5.). \n",
    "   <img src=\"./assets/jnb_screenshot9.png\" alt=\"Dead notebook screenshot\" width=\"800\"/>\n",
    "   Click `Don't restart` and then just close the window. \n",
    "   \n",
    "(_Note! You can also close the browser window first and then perform item 5._)"
   ]
  },
  {
   "cell_type": "markdown",
   "metadata": {},
   "source": [
    "### 1.6 Quit Jupyter Notebooks\n",
    "0. (Save and terminate all notebooks, see above)\n",
    "1. In the _Notebook dashboard_ browser window, click `Quit` in the upper righ-hand corner.\n",
    "   <img src=\"./assets/jnb_screenshot10.png\" alt=\"nb dashboard quit screen shot\" width=\"800\"/>\n",
    "2. Alternatively, do `ctrl-c` in the terminal where you started the Jupyter Notebook session.\n",
    "3. Close the _Notebook dashboard_ browser window."
   ]
  },
  {
   "cell_type": "markdown",
   "metadata": {
    "slideshow": {
     "slide_type": "-"
    }
   },
   "source": [
    "## 2. Back-propagation"
   ]
  },
  {
   "cell_type": "markdown",
   "metadata": {},
   "source": [
    "##### Recall the  training algorithm (Gradient descent) for the ANN\n",
    " 1. Initialize weights and biases randomly $\\sim N(0, \\sigma^2)$\n",
    " 2. Loop for $M$ epochs or until convergence:\n",
    "     - _Forward Pass_: Compute the loss function, $L(w,b|x)$ (and intermediate varibles) using the current values of $w$ and $b$.\n",
    "     - _Backward Pass_: For each weight $w_{i,j}$ and each bias $b_j$ :\n",
    "         1. <span style=\"background-color:yellow\">Compute partial derivatives (gradients)</span>\n",
    "         2. Update weights and biases\n",
    " 3. Return final weights and biases\n",
    "         \n",
    "\n",
    "#### Gradient descents is about derivatives\n",
    "\n",
    "- There's a lot of derivatives in an ANN\n",
    "- Back-propagation allows us to compute them efficiently\n",
    "\n",
    "#### Back-propagation (BP) is \n",
    "\n",
    "- a Dynamic Programming algorithm for Gradient Descent in ANNs\n",
    "- performed in each iteration/epoch\n",
    "\n",
    "\n",
    "#### BP builds on the _Chain rule of differentiation_\n",
    "\n",
    "Let's get a reminder of \n",
    "\n",
    "1. Derivatives, and\n",
    "2. The chain rule\n",
    "\n",
    "*(Note: Differentiation means \"taking the derivative\")*"
   ]
  },
  {
   "cell_type": "markdown",
   "metadata": {},
   "source": [
    "##### Some basic derivative rules\n",
    "\n",
    "(Here, $a$ is a positive or negative constants , $x$ is the variable to be differentiated and $f(x)$ and $g(x)$ are two functions of $x$.)\n",
    "\n",
    "\\begin{eqnarray}\n",
    "\\frac{da}{dx} =& 0 &\\quad\\textrm{the derivative of a constant is zero}\\\\\n",
    "\\frac{dx^a}{dx} =& ax^{a-1} &\\quad\\textrm{multiply by the exponent and then reduce the exponent by 1}\\\\\n",
    "\\frac{dax}{dx} =& a &\\quad\\textrm{special case of above}\\\\\n",
    "\\frac{de^x}{dx} =& e^x &\\quad\\textrm{the derivative of the exponential funciton is itself}\\\\\n",
    "\\frac{de^{-x}}{dx} =& -e^{-x}&\\quad\\textrm{as above, with a negative exponent}\\\\\n",
    "\\frac{d\\left(f(x)+g(x)\\right)}{dx} =& \\frac{df(x)}{dx} + \\frac{dg(x)}{dx} &\\quad\\textrm{derivative of a sum is the sum of the derivative of its terms}\\\\\n",
    "\\frac{d\\left(f(x)-g(x)\\right)}{dx} =& \\frac{df(x)}{dx} - \\frac{dg(x)}{dx} &\\quad\\textrm{special case of above}\n",
    "\\end{eqnarray}"
   ]
  },
  {
   "cell_type": "markdown",
   "metadata": {},
   "source": [
    "# Chain rule of derivation\n",
    "##### A reminder\n",
    "\n",
    "\n",
    "The chain rule simplifies derivation of complex functions and states that\n",
    "\n",
    "$$\\frac{d f(g(x))}{dx} = \\frac{df(g(x))}{dg(x)} \\times \\frac{dg(x)}{d x} $$\n",
    "\n",
    "\n",
    "It is often convenient to simplify notation by introducing a help variable, e.g., $t$...\n",
    "\n",
    "$$\\textrm{Let $t=g(x)$, then $f(g(x))=f(t)$}$$\n",
    "\n",
    "...and the re-express the derivative in terms of the help variable:\n",
    "\n",
    "$$\\frac{d f(g(x))}{dx} =\\frac{d f(t)}{dx} = \\frac{df(t)}{dt} \\times \\frac{dt}{dx}$$\n",
    "\n",
    "The result is often easier to solve... but let's look at some examples to make it less abstract"
   ]
  },
  {
   "cell_type": "markdown",
   "metadata": {
    "cell_style": "center",
    "slideshow": {
     "slide_type": "-"
    }
   },
   "source": [
    "##### An example\n",
    "\n",
    "The derivative of half the squared difference:\n",
    "\n",
    "\\begin{eqnarray}\n",
    "f(g(x)) =\\frac{1}{2}(y-x)^2 &&\\\\\n",
    "t = g(x) = y-x\\quad &&\\quad\\textrm{ Introduce help variable, }t\\\\\n",
    "f(t) = \\frac{1}{2}t^2 = \\frac{t^2}{2} &&\\quad  \\textrm{ and re-express}\n",
    "\\end{eqnarray}\n",
    "\n",
    "##### Differentiate\n",
    "\n",
    "\\begin{eqnarray}\n",
    "\\frac{d f(g(x))}{dx} = \\frac{df(t)}{dx} = &\\frac{d f(t)}{dt}\\times\\frac{d t}{dx} &\\quad\\textrm{express with help variable and use the chain rule...}\\\\\n",
    "= & \\frac{d f(t)}{dt}\\times\\frac{d g(x)}{dx} &\\quad\\textrm{to split into two derivative factors}\\\\\n",
    "= & \\frac{d \\frac{t^2}{2}}{dt}\\times\\frac{d (y-x)}{dx} &\\quad\\textrm{express 2nd factor in terms of $x$}\\\\\n",
    "= & \\frac{2t}{2} \\times -1 = -t &\\quad\\textrm{solve derivatives}\\\\\n",
    "= & -(y-x) &\\quad\\textrm{express $t$ in terms of $x$}\\\\\n",
    "= & x-y &\\quad\\textrm{and simplify}\n",
    "\\end{eqnarray}\n"
   ]
  },
  {
   "cell_type": "markdown",
   "metadata": {
    "cell_style": "center"
   },
   "source": [
    "##### Another example\n",
    "\n",
    "The derivative of the sigmoid function:\n",
    "\n",
    "$$\\begin{eqnarray*}\n",
    "\\sigma(x) = f(g(x)) &=& \\frac{1}{1+e^{-x}}\\\\\n",
    "\\\\\n",
    "t &=& g(x) = 1+e^{-x}\\\\\n",
    "\\\\\n",
    "f(t) &=& \\frac{1}{t} = t ^{-1}\n",
    "\\end{eqnarray*}$$"
   ]
  },
  {
   "cell_type": "markdown",
   "metadata": {
    "cell_style": "center",
    "hide_input": true,
    "slideshow": {
     "slide_type": "-"
    }
   },
   "source": [
    "\\begin{eqnarray*}\n",
    "\\frac{d\\sigma(x)}{d x} = \\frac{df(t)}{dx}\n",
    "&=& \\frac{d f(t)}{d t} \\quad\\times\\quad \\frac{d t}{d x}\\\\\n",
    "&=& \\frac{d t^{-1}}{d t} \\quad\\times\\quad \\frac{d t}{d x}\\\\\n",
    "&=& \\frac{d t^{-1}}{d t} \\quad\\times\\quad \\frac{d \\left(1+e^{-x}\\right)}{d x}\\\\\n",
    "&=& -t^{-2} \\quad\\times\\quad -e^{-x}\\\\\n",
    "&=& \\frac{1}{\\left(1+e^{-x}\\right)^{2}} \\times e^{-x}\\\\\n",
    "&=& \\frac{1}{\\left(1+e^{-x}\\right)} \\frac{e^{-x}}{\\left(1+e^{-x}\\right)}\\\\\n",
    "&=& \\frac{1}{1+e^{-x}}\\quad \\left(1-\\frac{1}{1+e^{-x}}\\right)\\\\\\\\\n",
    "&=& \\sigma(x)\\left(1-\\sigma(x)\\right)\n",
    "\\end{eqnarray*}\n",
    "\n",
    "\n",
    "In second last line, we used the fact that\n",
    "$$1 - \\frac{1}{1+e^{-x}} = \\frac{1+e^{-x}}{1+e^{-x}}- \\frac{1}{1+e^{-x}} = \\frac{1+e^{-x} - 1}{1+e^{-x}} = \\frac{e^{-x}}{1+e^{-x}}$$\n",
    "and then made it a neat expression in terms of $\\sigma(x)$"
   ]
  },
  {
   "cell_type": "markdown",
   "metadata": {
    "slideshow": {
     "slide_type": "-"
    }
   },
   "source": [
    "#### The chain rule works just as well on partial derivatives\n",
    "\n",
    "$$\\frac{\\partial f(g(x))}{\\partial x} = \\frac{\\partial f(g(x))}{\\partial g(x)} \\times \\frac{\\partial g(x)}{\\partial x} $$"
   ]
  },
  {
   "cell_type": "markdown",
   "metadata": {
    "hide_input": true,
    "slideshow": {
     "slide_type": "slide"
    }
   },
   "source": [
    "### Back propagation goal\n",
    "\n",
    "Compute the partial derivative of the cost function $L(b,w|x)$ with respect to each parameter $v$ in  $w$ and $b$, i.e.,\n",
    "\n",
    "$$\\frac{\\partial L(b,w|x)}{\\partial v},\\quad v \\in {w, b}$$\n",
    "\n",
    "### Back propagation strategy\n",
    "\n",
    "Use chain rule to split $\\frac{\\partial L(b,w|x)}{\\partial v}$ on $z$ and $a$ of each layer, going from left to right.\n",
    "\n",
    "Then compute the partial derivatives from right to left and use their products to obtain each relevant $\\frac{\\partial L(b,w|x)}{\\partial v}$"
   ]
  },
  {
   "cell_type": "markdown",
   "metadata": {},
   "source": [
    "# Mini exercise\n",
    "\n",
    "Perform a forward pass and a backward pass on the two-neuron ffANN in the figure below to compute the gradient $\\frac{\\partial L(b,w|x)}{\\partial w_1}$ and use this to compute and updated weight $w'_1$.\n",
    "\n",
    "Don't worry! We will guide you through this, provide some template code and help fill in the values of the intermediate expression in a a Forward pass table and and Backward pass table, respectively."
   ]
  },
  {
   "cell_type": "code",
   "execution_count": 294,
   "metadata": {
    "cell_style": "center",
    "hide_input": true
   },
   "outputs": [
    {
     "data": {
      "image/png": "[encoded data removed]",
      "text/plain": [
       "<Figure size 720x720 with 1 Axes>"
      ]
     },
     "metadata": {
      "needs_background": "light"
     },
     "output_type": "display_data"
    }
   ],
   "source": [
    "import sys, os\n",
    "import numpy as np\n",
    "import matplotlib.pyplot as plt\n",
    "sys.path.append(os.path.abspath(os.path.join('..', 'common_assets')))\n",
    "from draw_neural_net import draw_neural_net\n",
    "\n",
    "def sigma(z):\n",
    "  return 1/(1+np.exp(-z))\n",
    "\n",
    "#-----1-1-1\n",
    "layer_sizes = [1,1,1]\n",
    "\n",
    "x= 0.05\n",
    "y = 0.1\n",
    "i1 = x\n",
    "w1 = 0.1\n",
    "w2=0.3\n",
    "b1 = -0.10\n",
    "b2 = 0.30\n",
    "z1 = w1*i1+b1\n",
    "a1 = sigma(z1)\n",
    "z2 = w2*a1+b2\n",
    "a2 = sigma(z2)\n",
    "C = 0.5 * (y-a2)**2\n",
    "# z1 = round(z1, 2)\n",
    "# a1 = round(a1, 2)\n",
    "# z2 = round(z2, 2)\n",
    "# a2 = round(a2, 2)\n",
    "# C = round(C,2)\n",
    "\n",
    "eta = 0.3\n",
    "\n",
    "dlda2 = a2-y\n",
    "da2dz2= a2*(1-a2)\n",
    "dcdz2 = dlda2 * da2dz2\n",
    "dz2da1 = w2\n",
    "dcda1 = dcdz2 * dz2da1\n",
    "da1dz1 = a1*(1-a1)\n",
    "dcdz1 = dcda1 * da1dz1\n",
    "dz1dw1 = i1\n",
    "dcdw1 = dcdz1 * dz1dw1\n",
    "\n",
    "wnew = w1 - eta * dcdw1\n",
    "\n",
    "weights = [\n",
    "    np.array(\n",
    "        [\n",
    "            [\"w_1:{}\".format(w1)]\n",
    "         ]\n",
    "    ),\n",
    "    np.array(\n",
    "        [\n",
    "            [ \"w_2:{}\".format(w2)]\n",
    "        ]\n",
    "    )\n",
    "]\n",
    "biases = [\n",
    "    np.array(\n",
    "        [\"{}\".format(b1)]\n",
    "    ), \n",
    "    np.array(\n",
    "        [\"{}\".format(b2)]\n",
    "    )\n",
    "]\n",
    "\n",
    "hidden = [\n",
    "                np.array(\n",
    "                [ r\"$i_1$\"]\n",
    "                ),\n",
    "                np.array(\n",
    "                [ r\"$z_1\\rightarrow a_1$\"]\n",
    "                ),\n",
    "                np.array(\n",
    "                [ r\"$z_2\\rightarrow a_2$\"]\n",
    "                ),\n",
    "]\n",
    "\n",
    "figExercise = plt.figure(figsize=(10, 10))\n",
    "ax = figExercise.gca()\n",
    "ignore=ax.axis('off')\n",
    "\n",
    "draw_neural_net(ax, \n",
    "                layerSizes = layer_sizes, \n",
    "                weights = weights, \n",
    "                otherNodePrefix = hidden,\n",
    "                biases=biases, \n",
    "                inputPrefix = [\"{}\".format(x)], \n",
    "                outputPrefix = \"\\hat{y}\",\n",
    "                nodeFontSize=20, edgeFontSize = 15, edgeWidth = 3\n",
    "               )\n",
    "#plt.show()"
   ]
  },
  {
   "cell_type": "markdown",
   "metadata": {},
   "source": [
    "## Forward pass\n",
    "\n",
    "Let's start by performing the forward pass of the ANN.\n",
    "\n",
    "We will start by creating variables to hold the values of the intermediate and final expressions"
   ]
  },
  {
   "cell_type": "code",
   "execution_count": 295,
   "metadata": {
    "hide_input": false
   },
   "outputs": [],
   "source": [
    "# Known variables\n",
    "# Initialize variables to values in figure\n",
    "x = 0.05\n",
    "y = 0.01\n",
    "w1 = 0.1\n",
    "b1 = -0.1\n",
    "w2 = 0.3\n",
    "b2 = 0.3\n",
    "\n",
    "# Unknown variables to be computed\n",
    "i1 = \"\"\n",
    "z1 = \"\"\n",
    "a1 = \"\"\n",
    "z2 = \"\"\n",
    "a2 = \"\"\n",
    "haty = \"\"\n",
    "L = \"\""
   ]
  },
  {
   "cell_type": "markdown",
   "metadata": {},
   "source": [
    "Execute the table cell below to display table"
   ]
  },
  {
   "cell_type": "code",
   "execution_count": 296,
   "metadata": {
    "hide_input": true
   },
   "outputs": [
    {
     "data": {
      "text/html": [
       "<style type=\"text/css\">\n",
       "#T_6dba2_ th {\n",
       "  font-size: 18px;\n",
       "  max-width: 2.5cm;\n",
       "  text-align: left;\n",
       "}\n",
       "#T_6dba2_ td {\n",
       "  font-size: 18px;\n",
       "  max-width: 2.5cm;\n",
       "  text-align: left;\n",
       "}\n",
       "</style>\n",
       "<table id=\"T_6dba2_\">\n",
       "  <thead>\n",
       "    <tr>\n",
       "      <th class=\"col_heading level0 col0\" >$x$</th>\n",
       "      <th class=\"col_heading level0 col1\" >$y$</th>\n",
       "      <th class=\"col_heading level0 col2\" >$w_1$</th>\n",
       "      <th class=\"col_heading level0 col3\" >$b_1$</th>\n",
       "      <th class=\"col_heading level0 col4\" >$i_1$</th>\n",
       "      <th class=\"col_heading level0 col5\" >$z_1$</th>\n",
       "      <th class=\"col_heading level0 col6\" >$a_1$</th>\n",
       "      <th class=\"col_heading level0 col7\" >$w_2$</th>\n",
       "      <th class=\"col_heading level0 col8\" >$b_2$</th>\n",
       "      <th class=\"col_heading level0 col9\" >$z_2$</th>\n",
       "      <th class=\"col_heading level0 col10\" >$a_2$</th>\n",
       "      <th class=\"col_heading level0 col11\" >$\\hat{y}$</th>\n",
       "      <th class=\"col_heading level0 col12\" >$L(w,b|x)$</th>\n",
       "    </tr>\n",
       "  </thead>\n",
       "  <tbody>\n",
       "    <tr>\n",
       "      <td id=\"T_6dba2_row0_col0\" class=\"data row0 col0\" >0.05</td>\n",
       "      <td id=\"T_6dba2_row0_col1\" class=\"data row0 col1\" >0.01</td>\n",
       "      <td id=\"T_6dba2_row0_col2\" class=\"data row0 col2\" >0.1</td>\n",
       "      <td id=\"T_6dba2_row0_col3\" class=\"data row0 col3\" >-0.1</td>\n",
       "      <td id=\"T_6dba2_row0_col4\" class=\"data row0 col4\" ></td>\n",
       "      <td id=\"T_6dba2_row0_col5\" class=\"data row0 col5\" ></td>\n",
       "      <td id=\"T_6dba2_row0_col6\" class=\"data row0 col6\" ></td>\n",
       "      <td id=\"T_6dba2_row0_col7\" class=\"data row0 col7\" >0.3</td>\n",
       "      <td id=\"T_6dba2_row0_col8\" class=\"data row0 col8\" >0.3</td>\n",
       "      <td id=\"T_6dba2_row0_col9\" class=\"data row0 col9\" ></td>\n",
       "      <td id=\"T_6dba2_row0_col10\" class=\"data row0 col10\" ></td>\n",
       "      <td id=\"T_6dba2_row0_col11\" class=\"data row0 col11\" ></td>\n",
       "      <td id=\"T_6dba2_row0_col12\" class=\"data row0 col12\" ></td>\n",
       "    </tr>\n",
       "  </tbody>\n",
       "</table>\n"
      ],
      "text/plain": [
       "<pandas.io.formats.style.Styler at 0x7fbb3f88a050>"
      ]
     },
     "execution_count": 296,
     "metadata": {},
     "output_type": "execute_result"
    }
   ],
   "source": [
    "import pandas as pd\n",
    "\n",
    "# Some styling for the \n",
    "props1 = [\n",
    "    (\"font-size\", \"18px\"),\n",
    "    ('max-width', '2.5cm'),\n",
    "    ('text-align', 'left')\n",
    "#    ('padding', '2.5cm)')\n",
    "#    (\"font-size\", \"24px\"),\n",
    "#    ('max-width', '2cm'),\n",
    "#    ('text-align', 'center'),\n",
    "#    ('padding', '5cm)')\n",
    "]\n",
    "styles1 = [\n",
    "    dict(selector=\"th\", props=props1),\n",
    "    dict(selector=\"td\", props=props1),\n",
    "]\n",
    "colNames = { \n",
    "        \"x\" : r\"$x$\",\n",
    "        \"y\" : r\"$y$\",\n",
    "        \"w1\" : r\"$w_1$\",\n",
    "        \"b1\" : r\"$b_1$\",\n",
    "        \"i1\" : r\"$i_1$\", \n",
    "        \"z1\" : r\"$z_1$\", \n",
    "        \"a1\" : r\"$a_1$\",\n",
    "        \"w2\" : r\"$w_2$\",\n",
    "        \"b2\" : r\"$b_2$\",\n",
    "        \"z2\" : r\"$z_2$\",\n",
    "        \"a2\" : r\"$a_2$\",\n",
    "        \"haty\" : r\"$\\hat{y}$\",\n",
    "        \"L\" : \"$L(w,b|x)$\"\n",
    "}\n",
    "\n",
    "\n",
    "# Code below is what is needed to update table at each step\n",
    "tab = pd.Series(\n",
    "    { \n",
    "        \"x\" : format(x, \".2g\"), # Use this format to display nicely in table\n",
    "        \"y\" : format(y, \".2g\"),\n",
    "        \"w1\" : format(w1, \".2g\"), \n",
    "        \"b1\" : format(b1, \".2g\"), \n",
    "        \"i1\" : \"\" if isinstance(i1, str) else format(i1, \".2g\"), \n",
    "        \"z1\" : \"\" if isinstance(z1, str) else format(z1, \".2g\"), \n",
    "        \"a1\" : \"\" if isinstance(a1, str) else format(a1, \".2g\"), \n",
    "        \"w2\" : format(w2, \".2g\"), \n",
    "        \"b2\" : format(b2, \".2g\"),        \n",
    "        \"z2\" : \"\" if isinstance(z2, str) else format(z2, \".2g\"),\n",
    "        \"a2\" : \"\" if isinstance(a2, str) else format(a2, \".2g\"),\n",
    "        \"haty\" : \"\" if isinstance(haty, str) else format(haty, \".2g\"),\n",
    "        \"L\" : \"\" if isinstance(L, str) else format(L, \".2g\").center(12, '\\u00A0')\n",
    "    }\n",
    ")\n",
    "tab1=pd.DataFrame.rename(tab.to_frame().T, columns = colNames).style.hide_index().set_table_styles(styles1)\n",
    "tab1"
   ]
  },
  {
   "cell_type": "code",
   "execution_count": null,
   "metadata": {
    "hide_input": true
   },
   "outputs": [],
   "source": []
  },
  {
   "cell_type": "markdown",
   "metadata": {
    "cell_style": "center",
    "hide_input": false
   },
   "source": [
    "#### Path of intermediate expressions\n",
    "\n",
    "First, notice that $i_1 = x$ and $\\hat{y} = a_2$.\n",
    "\n",
    "The path of intermediate expressions from $x$ to $L(b,w|x)$ is:\n",
    "\n",
    "$\\begin{eqnarray}\n",
    "z_1 &=&  w_1 i_1 + b_1\\\\\n",
    "a_1 &=& \\sigma(z_1) = \\frac{1}{1+e^{-z_1}}\\\\\n",
    "z_2 &=&  w_2 a_{1} + b_2\\\\\n",
    "a_2 &=& \\sigma(z_2) = \\frac{1}{1+e^{-z_2}}\\\\\n",
    "L(w,b|x) &=& \\frac{1}{2}\\left(y-\\hat{y}\\right)^2 = \\frac{1}{2}\\left(y-a_2\\right)^2\n",
    "\\end{eqnarray}$\n",
    "- *hint!*: to compute $\\sigma(z)$, use, e.g.\n",
    "```\n",
    "import tensorflow as tf\n",
    "tf.sigmoid(z).numpy()\n",
    "``` "
   ]
  },
  {
   "cell_type": "code",
   "execution_count": 297,
   "metadata": {},
   "outputs": [],
   "source": [
    "# This code should be hidden\n",
    "import tensorflow as tf\n",
    "i1 = x\n",
    "z1 = w1 * i1 +b1\n",
    "a1 = tf.sigmoid(z1).numpy()\n",
    "z2 = w2 * a1 + b2\n",
    "a2 = tf.sigmoid(z2).numpy()\n",
    "haty=a2\n",
    "L = (y-haty)/2"
   ]
  },
  {
   "cell_type": "code",
   "execution_count": 298,
   "metadata": {
    "hide_input": true,
    "scrolled": true
   },
   "outputs": [
    {
     "data": {
      "text/html": [
       "<style type=\"text/css\">\n",
       "#T_c46ce_ th {\n",
       "  font-size: 18px;\n",
       "  max-width: 2.5cm;\n",
       "  text-align: left;\n",
       "}\n",
       "#T_c46ce_ td {\n",
       "  font-size: 18px;\n",
       "  max-width: 2.5cm;\n",
       "  text-align: left;\n",
       "}\n",
       "</style>\n",
       "<table id=\"T_c46ce_\">\n",
       "  <thead>\n",
       "    <tr>\n",
       "      <th class=\"col_heading level0 col0\" >$x$</th>\n",
       "      <th class=\"col_heading level0 col1\" >$y$</th>\n",
       "      <th class=\"col_heading level0 col2\" >$w_1$</th>\n",
       "      <th class=\"col_heading level0 col3\" >$b_1$</th>\n",
       "      <th class=\"col_heading level0 col4\" >$i_1$</th>\n",
       "      <th class=\"col_heading level0 col5\" >$z_1$</th>\n",
       "      <th class=\"col_heading level0 col6\" >$a_1$</th>\n",
       "      <th class=\"col_heading level0 col7\" >$w_2$</th>\n",
       "      <th class=\"col_heading level0 col8\" >$b_2$</th>\n",
       "      <th class=\"col_heading level0 col9\" >$z_2$</th>\n",
       "      <th class=\"col_heading level0 col10\" >$a_2$</th>\n",
       "      <th class=\"col_heading level0 col11\" >$\\hat{y}$</th>\n",
       "      <th class=\"col_heading level0 col12\" >$L(w,b|x)$</th>\n",
       "    </tr>\n",
       "  </thead>\n",
       "  <tbody>\n",
       "    <tr>\n",
       "      <td id=\"T_c46ce_row0_col0\" class=\"data row0 col0\" >0.05</td>\n",
       "      <td id=\"T_c46ce_row0_col1\" class=\"data row0 col1\" >0.01</td>\n",
       "      <td id=\"T_c46ce_row0_col2\" class=\"data row0 col2\" >0.1</td>\n",
       "      <td id=\"T_c46ce_row0_col3\" class=\"data row0 col3\" >-0.1</td>\n",
       "      <td id=\"T_c46ce_row0_col4\" class=\"data row0 col4\" >0.05</td>\n",
       "      <td id=\"T_c46ce_row0_col5\" class=\"data row0 col5\" >-0.095</td>\n",
       "      <td id=\"T_c46ce_row0_col6\" class=\"data row0 col6\" >0.48</td>\n",
       "      <td id=\"T_c46ce_row0_col7\" class=\"data row0 col7\" >0.3</td>\n",
       "      <td id=\"T_c46ce_row0_col8\" class=\"data row0 col8\" >0.3</td>\n",
       "      <td id=\"T_c46ce_row0_col9\" class=\"data row0 col9\" >0.44</td>\n",
       "      <td id=\"T_c46ce_row0_col10\" class=\"data row0 col10\" >0.61</td>\n",
       "      <td id=\"T_c46ce_row0_col11\" class=\"data row0 col11\" >0.61</td>\n",
       "      <td id=\"T_c46ce_row0_col12\" class=\"data row0 col12\" >    -0.3    </td>\n",
       "    </tr>\n",
       "  </tbody>\n",
       "</table>\n"
      ],
      "text/plain": [
       "<pandas.io.formats.style.Styler at 0x7fbb3f7cc810>"
      ]
     },
     "execution_count": 298,
     "metadata": {},
     "output_type": "execute_result"
    }
   ],
   "source": [
    "# Code below is what is needed to update table at each step\n",
    "tab = pd.Series(\n",
    "    { \n",
    "        \"x\" : format(x, \".2g\"), # Use this format to display nicely in table\n",
    "        \"y\" : format(y, \".2g\"),\n",
    "        \"w1\" : format(w1, \".2g\"), \n",
    "        \"b1\" : format(b1, \".2g\"), \n",
    "        \"i1\" : \"\" if isinstance(i1, str) else format(i1, \".2g\"), \n",
    "        \"z1\" : \"\" if isinstance(z1, str) else format(z1, \".2g\"), \n",
    "        \"a1\" : \"\" if isinstance(a1, str) else format(a1, \".2g\"), \n",
    "        \"w2\" : format(w2, \".2g\"), \n",
    "        \"b2\" : format(b2, \".2g\"),        \n",
    "        \"z2\" : \"\" if isinstance(z2, str) else format(z2, \".2g\"),\n",
    "        \"a2\" : \"\" if isinstance(a2, str) else format(a2, \".2g\"),\n",
    "        \"haty\" : \"\" if isinstance(haty, str) else format(haty, \".2g\"),\n",
    "        \"L\" : \"\" if isinstance(L, str) else format(L, \".2g\").center(12, '\\u00A0')\n",
    "    }\n",
    ")\n",
    "tab1=pd.DataFrame.rename(tab.to_frame().T, columns = colNames).style.hide_index().set_table_styles(styles1)\n",
    "tab1"
   ]
  },
  {
   "cell_type": "markdown",
   "metadata": {
    "hide_input": true
   },
   "source": [
    "## Example: Backward pass to compute $\\frac{\\partial L(w,b|x)}{\\partial w_2}$\n",
    "\n",
    "Here, we focus on the path from $w_2$ to $L(w,b|x)$, i.e., the second neuron, \n",
    "\n",
    "$\\begin{eqnarray}\n",
    "z_2 &=&  w_2 a_{1} + b_2\\\\\n",
    "a_2 &=& \\sigma(z_2) = \\frac{1}{1+e^{-z_2}}\\\\\n",
    "L(w,b|x) &=& \\frac{1}{2}\\left(y-\\hat{y}\\right)^2 = \\frac{1}{2}\\left(y-a_2\\right)^2\n",
    "\\end{eqnarray}$\n",
    "\n",
    "We use the chain rule to split $\\frac{\\partial L(w,b|x)}{\\partial w_2}$ on $a_2$ and $z_2$, in turn from right to left.\n",
    "\n",
    "### First split on $a_2$:\n",
    "\n",
    "$\\hspace{1cm}\\begin{eqnarray} \n",
    "\\frac{\\partial L(w,b|x)}{\\partial w_2} &=&  \\frac{\\partial a_2}{\\partial w_2}\\times \\frac{\\partial L(w,b|x)}{\\partial a_2} \n",
    "\\end{eqnarray}$\n",
    "\n",
    "### Then split first factor on $z_2$:\n",
    "\n",
    "$\\hspace{1cm}\\begin{eqnarray} \n",
    "\\frac{\\partial L(w,b|x)}{\\partial w_2} &=&  \\frac{\\partial z_2}{\\partial w_2}\\times \\frac{\\partial a_2}{\\partial z_2} \\times \\frac{\\partial L(w,b|x)}{\\partial a_2} \n",
    "\\end{eqnarray}$"
   ]
  },
  {
   "cell_type": "markdown",
   "metadata": {},
   "source": [
    "### Compute individual partial derivatives\n",
    "\n",
    "The resulting partial derivatives are easier to compute. In fact you know how to compute some of them already:\n",
    "\n",
    "- $\\begin{eqnarray}\n",
    "\\frac{\\partial L(w,b|x)}{\\partial a_2} \n",
    "&=&  \\frac{\\partial \\frac{1}{2}(y-a_2)^2}{\\partial a_2}\n",
    "\\end{eqnarray}$  \n",
    "This is a derivative we just learnt above (with $x$ substituted for $a_1$),  \n",
    "$\\begin{eqnarray}\n",
    "\\frac{\\partial L(w,b|x)}{\\partial a_2} \n",
    "&=&  a_2-y\n",
    "\\end{eqnarray}$  \n",
    "Now, we just need to fill in the values of $y$ and $a_2$ from our Forward pass table  \n",
    "$\\begin{eqnarray}\\frac{\\partial L(w,b|x)}{\\partial a_2} \n",
    "&=&  0.61 - 0.1 = 0.51\n",
    "\\end{eqnarray}$  \n",
    " \n",
    "- $\\begin{eqnarray}\n",
    "\\frac{\\partial a_2}{\\partial z_2} \n",
    "&=&  \\frac{\\partial \\sigma(z_2)}{\\partial z_2}\\\\\n",
    "\\end{eqnarray}$  \n",
    "Again, a derivative we learned above (with $x$ substituted for $z_2$).  \n",
    "$\\begin{eqnarray}\n",
    "\\frac{\\partial a_2}{\\partial z_2} \n",
    "&=&  \\sigma(z_2)\\left(1-\\sigma(z_2)\\right) = a_2(1-a_2)\\\\\n",
    "\\end{eqnarray}$\n",
    "Filling in the values of $a_2$ from our Forward pass table, gives  \n",
    "$\\begin{eqnarray}\n",
    "\\frac{\\partial a_2}{\\partial z_2} \n",
    "&=&  0.61\\times(1-0.61) = 0.2379\n",
    "\\end{eqnarray}$\n",
    "\n",
    "\n",
    "\n",
    "- $\\begin{eqnarray}\n",
    "\\frac{\\partial z_2}{\\partial w_2} &=&  \\frac{\\partial w_2 a_1+b_2}{\\partial w_2} \\\\\n",
    "\\end{eqnarray}$  \n",
    "which is a is a derivative of a sum that can be solved with the standard derivative rules above,  \n",
    "$\\begin{eqnarray}\n",
    "\\frac{\\partial z_2}{\\partial w_2} &=&  a_1 \\\\\n",
    "\\end{eqnarray}$ \n",
    "Filling in the values of and $a_1$ from our Forward pass table, gives us  \n",
    "$\\begin{eqnarray}\n",
    "\\frac{\\partial z_2}{\\partial w_2} &=&  0.48 \\\\\n",
    "\\end{eqnarray}$ \n",
    "\n",
    "\n",
    "\n",
    "#### Compute the requested (full) partial derivative\n",
    "\n",
    "Finally, we get the value of $\\frac{\\partial L(w,b|x)}{\\partial w_1}$ by simply multiplying the three partial derivatives.\n",
    "\n",
    "$\\hspace{1cm}\\begin{eqnarray} \n",
    "\\frac{\\partial L(w,b|x)}{\\partial w_2} &=&  \\frac{\\partial z_2}{\\partial w_2}\\times \\frac{\\partial a_2}{\\partial z_2} \\times \\frac{\\partial L(w,b|x)}{\\partial a_2}\\\\\n",
    "&=& 0.48 \\times 0.2379 \\times 0.51 = 0.3958\n",
    "\\end{eqnarray}$\n",
    "\n"
   ]
  },
  {
   "cell_type": "markdown",
   "metadata": {},
   "source": [
    "### Compute the updated wieght $w'_2$\n",
    "\n",
    "Use an $\\eta = 0.05$\n",
    "\n",
    "$\\hspace{1cm}\\begin{eqnarray} \n",
    "w'_2 &=& w_1 - \\frac{\\partial L(w,b|x)}{\\partial w_2} \\times \\eta\n",
    "&=& 0.1 - -0.3958 \\times 0.05\n",
    "\\end{eqnarray}$"
   ]
  },
  {
   "cell_type": "markdown",
   "metadata": {},
   "source": [
    "Let's perform the computation of the variables above as python variable and summarize these variables in a table. We use this simple scheme for naing the variables:\n",
    "\n",
    "`dLda2` = $\\frac{\\partial L(b,w|x)}{\\partial a_2}$\n",
    "\n",
    "`da2dz2` = $\\frac{\\partial a_2}{\\partial z_2}$\n",
    "\n",
    "etc.\n",
    "\n",
    "The variables will then be:"
   ]
  },
  {
   "cell_type": "code",
   "execution_count": 299,
   "metadata": {},
   "outputs": [],
   "source": [
    "dLda2 = a2 - y\n",
    "da2dz2 = a2 * (1-a2)\n",
    "dz2dw2 = a2\n",
    "dLdw2 = dLda2 * da2dz2 * dz2dw2\n",
    "eta = 0.05\n",
    "w2new = w2 - dLdw2 * eta"
   ]
  },
  {
   "cell_type": "code",
   "execution_count": 300,
   "metadata": {
    "hide_input": true
   },
   "outputs": [
    {
     "data": {
      "text/html": [
       "<style type=\"text/css\">\n",
       "#T_bff57_ th {\n",
       "  font-size: 18px;\n",
       "  max-width: 2.5cm;\n",
       "  text-align: left;\n",
       "}\n",
       "#T_bff57_ td {\n",
       "  font-size: 18px;\n",
       "  max-width: 2.5cm;\n",
       "  text-align: left;\n",
       "}\n",
       "</style>\n",
       "<table id=\"T_bff57_\">\n",
       "  <thead>\n",
       "    <tr>\n",
       "      <th class=\"col_heading level0 col0\" >$\\frac{\\partial L(b,w|x)}{\\partial a_2}$</th>\n",
       "      <th class=\"col_heading level0 col1\" >$\\frac{\\partial a_2}{\\partial z_2}$</th>\n",
       "      <th class=\"col_heading level0 col2\" >$\\frac{\\partial z_2}{\\partial w_2}$</th>\n",
       "      <th class=\"col_heading level0 col3\" >$\\eta$</th>\n",
       "      <th class=\"col_heading level0 col4\" >$w'_2$</th>\n",
       "    </tr>\n",
       "  </thead>\n",
       "  <tbody>\n",
       "    <tr>\n",
       "      <td id=\"T_bff57_row0_col0\" class=\"data row0 col0\" >    0.6     </td>\n",
       "      <td id=\"T_bff57_row0_col1\" class=\"data row0 col1\" >0.24</td>\n",
       "      <td id=\"T_bff57_row0_col2\" class=\"data row0 col2\" >0.61</td>\n",
       "      <td id=\"T_bff57_row0_col3\" class=\"data row0 col3\" >0.05</td>\n",
       "      <td id=\"T_bff57_row0_col4\" class=\"data row0 col4\" >0.3</td>\n",
       "    </tr>\n",
       "  </tbody>\n",
       "</table>\n"
      ],
      "text/plain": [
       "<pandas.io.formats.style.Styler at 0x7fbb3f09d9d0>"
      ]
     },
     "execution_count": 300,
     "metadata": {},
     "output_type": "execute_result"
    }
   ],
   "source": [
    "colNames = { \n",
    "    \"dLda2\" : r\"$\\frac{\\partial L(b,w|x)}{\\partial a_2}$\",\n",
    "    \"da2dz2\" : r\"$\\frac{\\partial a_2}{\\partial z_2}$\",\n",
    "    \"dz2dw2\" : r\"$\\frac{\\partial z_2}{\\partial w_2}$\",\n",
    "    \"dLdw2\" : r\"$\\frac{\\partial L(b,w|a)}{\\partial w_2}$\",\n",
    "    \"eta\": r\"$\\eta$\",\n",
    "    \"w2new\": r\"$w'_2$\"\n",
    "}\n",
    "\n",
    "\n",
    "# Code below is what is needed to update table at each step\n",
    "tab = pd.Series(\n",
    "    { \n",
    "        \"dLda2\" : format(dLda2, \".2g\").center(12, '\\u00A0'), # Use this format to display nicely in table\n",
    "        \"da2dz2\" : format(da2dz2, \".2g\"),\n",
    "        \"dz2dw2\" : format(dz2dw2, \".2g\"), \n",
    "        \"eta\" : format(eta, \".2g\"), \n",
    "        \"w2new\" : format(w2new, \".2g\")\n",
    "    }\n",
    ")\n",
    "tab2=pd.DataFrame.rename(tab.to_frame().T, columns = colNames).style.hide_index().set_table_styles(styles1)\n",
    "tab2"
   ]
  },
  {
   "cell_type": "markdown",
   "metadata": {},
   "source": [
    "### What about the other layers?\n",
    "\n",
    "To compute, e.g., $\\frac{\\partial L(w,b|x)}{\\partial w_1}$, we will need to apply the chain rule to split on to $a_2$, $a_z$, $a_1$, $z_1$, etc...\n",
    "\n",
    "... in fact, that's what you will do now!"
   ]
  },
  {
   "cell_type": "markdown",
   "metadata": {},
   "source": [
    "## Mini exercise 2 Backward pass\n",
    "\n",
    "Perform a backward pass to update the value of $w_1$, that is, use the chain rule to split $\\frac{\\partial L(b,w|x)}{\\partial w_1}$, create variables for the intermediate expressions and compute their values, values compute the value of $\\frac{\\partial L(b,w|x)}{\\partial w_1}$, and compute $w'_2$ (i.e., the updated value of $w_2$)\n",
    "\n",
    "Let's first print out the ANN and the table with values from the forward pass again, just to have them handy "
   ]
  },
  {
   "cell_type": "code",
   "execution_count": 301,
   "metadata": {
    "cell_style": "center",
    "hide_input": false
   },
   "outputs": [
    {
     "data": {
      "image/png": "[encoded data removed]",
      "text/plain": [
       "<Figure size 720x720 with 1 Axes>"
      ]
     },
     "execution_count": 301,
     "metadata": {},
     "output_type": "execute_result"
    }
   ],
   "source": [
    "figExercise"
   ]
  },
  {
   "cell_type": "code",
   "execution_count": 302,
   "metadata": {
    "hide_input": true
   },
   "outputs": [
    {
     "data": {
      "text/html": [
       "<style type=\"text/css\">\n",
       "#T_c46ce_ th {\n",
       "  font-size: 18px;\n",
       "  max-width: 2.5cm;\n",
       "  text-align: left;\n",
       "}\n",
       "#T_c46ce_ td {\n",
       "  font-size: 18px;\n",
       "  max-width: 2.5cm;\n",
       "  text-align: left;\n",
       "}\n",
       "</style>\n",
       "<table id=\"T_c46ce_\">\n",
       "  <thead>\n",
       "    <tr>\n",
       "      <th class=\"col_heading level0 col0\" >$x$</th>\n",
       "      <th class=\"col_heading level0 col1\" >$y$</th>\n",
       "      <th class=\"col_heading level0 col2\" >$w_1$</th>\n",
       "      <th class=\"col_heading level0 col3\" >$b_1$</th>\n",
       "      <th class=\"col_heading level0 col4\" >$i_1$</th>\n",
       "      <th class=\"col_heading level0 col5\" >$z_1$</th>\n",
       "      <th class=\"col_heading level0 col6\" >$a_1$</th>\n",
       "      <th class=\"col_heading level0 col7\" >$w_2$</th>\n",
       "      <th class=\"col_heading level0 col8\" >$b_2$</th>\n",
       "      <th class=\"col_heading level0 col9\" >$z_2$</th>\n",
       "      <th class=\"col_heading level0 col10\" >$a_2$</th>\n",
       "      <th class=\"col_heading level0 col11\" >$\\hat{y}$</th>\n",
       "      <th class=\"col_heading level0 col12\" >$L(w,b|x)$</th>\n",
       "    </tr>\n",
       "  </thead>\n",
       "  <tbody>\n",
       "    <tr>\n",
       "      <td id=\"T_c46ce_row0_col0\" class=\"data row0 col0\" >0.05</td>\n",
       "      <td id=\"T_c46ce_row0_col1\" class=\"data row0 col1\" >0.01</td>\n",
       "      <td id=\"T_c46ce_row0_col2\" class=\"data row0 col2\" >0.1</td>\n",
       "      <td id=\"T_c46ce_row0_col3\" class=\"data row0 col3\" >-0.1</td>\n",
       "      <td id=\"T_c46ce_row0_col4\" class=\"data row0 col4\" >0.05</td>\n",
       "      <td id=\"T_c46ce_row0_col5\" class=\"data row0 col5\" >-0.095</td>\n",
       "      <td id=\"T_c46ce_row0_col6\" class=\"data row0 col6\" >0.48</td>\n",
       "      <td id=\"T_c46ce_row0_col7\" class=\"data row0 col7\" >0.3</td>\n",
       "      <td id=\"T_c46ce_row0_col8\" class=\"data row0 col8\" >0.3</td>\n",
       "      <td id=\"T_c46ce_row0_col9\" class=\"data row0 col9\" >0.44</td>\n",
       "      <td id=\"T_c46ce_row0_col10\" class=\"data row0 col10\" >0.61</td>\n",
       "      <td id=\"T_c46ce_row0_col11\" class=\"data row0 col11\" >0.61</td>\n",
       "      <td id=\"T_c46ce_row0_col12\" class=\"data row0 col12\" >    -0.3    </td>\n",
       "    </tr>\n",
       "  </tbody>\n",
       "</table>\n"
      ],
      "text/plain": [
       "<pandas.io.formats.style.Styler at 0x7fbb3f7cc810>"
      ]
     },
     "execution_count": 302,
     "metadata": {},
     "output_type": "execute_result"
    }
   ],
   "source": [
    "tab1"
   ]
  },
  {
   "cell_type": "markdown",
   "metadata": {},
   "source": [
    "## Splitting the derivatives\n",
    "\n",
    "The path from $w_1$ to $L(w,b|x)$ is\n",
    "\n",
    "$\\begin{eqnarray}\n",
    "z_1 &=&  w_1 i_1 + b_1\\\\\n",
    "a_1 &=& \\sigma(z_1) = \\frac{1}{1+e^{-z_1}}\\\\\n",
    "z_2 &=&  w_2 a_{1} + b_2\\\\\n",
    "a_2 &=& \\sigma(z_2) = \\frac{1}{1+e^{-z_2}}\\\\\n",
    "L(w,b|x) &=& \\frac{1}{2}\\left(y-\\hat{y}\\right)^2 = \\frac{1}{2}\\left(y-a_2\\right)^2\n",
    "\\end{eqnarray}$\n",
    "\n",
    "Appying the chain rule on $a$'s and $z$'s of the layers backwards (from right to left in the figure) gives (green color indicates which expression to split in the next row):\n",
    "\n",
    "<!--\n",
    "$\\hspace{1cm}\\begin{eqnarray} \n",
    "\\frac{\\partial L(w,b|x)}{\\partial w_1} &=&  \\frac{\\partial a_2}{\\partial w_1}\\times \\frac{\\partial L(w,b|x)}{\\partial a_2} \n",
    "\\end{eqnarray}$\n",
    "\n",
    "$\\hspace{1cm}\\begin{eqnarray} \n",
    "\\frac{\\partial a_2}{\\partial w_1} &=&  \\frac{\\partial z_2}{\\partial w_1}\\times \\frac{\\partial a_2}{\\partial z_2} \n",
    "\\end{eqnarray}$\n",
    "\n",
    "$\\hspace{1cm}\\begin{eqnarray} \n",
    "\\frac{\\partial z_2}{\\partial w_1} &=&  \\frac{\\partial a_1}{\\partial w_1}\\times \\frac{\\partial z_2}{\\partial a_1} \n",
    "\\end{eqnarray}$\n",
    "\n",
    "$\\hspace{1cm}\\begin{eqnarray} \n",
    "\\frac{\\partial a_1}{\\partial w_1} &=&  \\frac{\\partial z_1}{\\partial w_1}\\times \\frac{\\partial a_1}{\\partial z_1} \n",
    "\\end{eqnarray}$\n",
    "\n",
    "$\\hspace{1cm}\\begin{eqnarray} \n",
    "\\frac{\\partial z_1}{\\partial w_1x} &=&  \\frac{\\partial w_1 \\times i_1 + b_1}{\\partial w_1}\n",
    "\\end{eqnarray}$\n",
    "-->\n",
    "\n",
    "\n",
    "$\\hspace{1cm}\\begin{eqnarray} \n",
    "\\frac{\\partial L(w,b|x)}{\\partial w_1} \n",
    "&=&  \n",
    "\\color{green}{\\frac{\\partial a_2}{\\partial w_1}} \n",
    "\\times \\frac{\\partial L(w,b|x)}{\\partial a_2} \\\\\n",
    "%\\frac{\\partial L(w,b|x)}{\\partial w_1} \n",
    "&=&  \n",
    "\\color{green}{\\frac{\\partial z_2}{\\partial w_1}}\n",
    "\\times \\frac{\\partial a_2}{\\partial z_2} \n",
    "\\times \\frac{\\partial L(w,b|x)}{\\partial a_2} \\\\\n",
    "%\\frac{\\partial L(w,b|x)}{\\partial w_1} \n",
    "&=&  \n",
    "\\color{green}{\\frac{\\partial a_1}{\\partial w_1}}\n",
    "\\times \\frac{\\partial z_2}{\\partial a_1}\n",
    "\\times \\frac{\\partial a_2}{\\partial z_2} \n",
    "\\times \\frac{\\partial L(w,b|x)}{\\partial a_2} \\\\\n",
    "%\\frac{\\partial L(w,b|x)}{\\partial w_1} \n",
    "&=&  \n",
    "\\color{green}{\\frac{\\partial z_1}{\\partial w_1}}\n",
    "\\times \\frac{\\partial a_1}{\\partial z_1} \n",
    "\\times \\frac{\\partial z_2}{\\partial a_1}\n",
    "\\times \\frac{\\partial a_2}{\\partial z_2} \n",
    "\\times \\frac{\\partial L(w,b|x)}{\\partial a_2} \n",
    "\\end{eqnarray}$\n",
    "\n",
    "We see that we have already computed the last of these partial derivatives, namely $\\frac{\\partial a_2}{\\partial z_2}$ and $\\frac{\\partial L(w,b|x)}{\\partial a_2}$. This is a very nice feature of back-propagation:  \n",
    "$\\quad$_If we have computed the values of partial derivatives for a layer, we can **reuse** these expressions in the preceeding layer._\n",
    "\n",
    "(In computer science terms, back propagation is a _dynamic programming_ algorithm, that is, it is works in an iterative fashion, tabulates the values from one iteration (=layer), and reuses them in the next iteration in the algorithm (i.e., the previous layer, since we go backwards).)\n",
    "\n",
    "Let's set up python variables for these intermediate expressions (reuse the ones already computed!):"
   ]
  },
  {
   "cell_type": "code",
   "execution_count": 303,
   "metadata": {
    "hide_input": false
   },
   "outputs": [],
   "source": [
    "# Unknown variables to compute in Back-propagation\n",
    "\n",
    "#dLda2 = \"\" # Already computed, reuse\n",
    "#da2dz2 = \"\" # Already computed, reuse!\n",
    "dz2da1 = \"\"\n",
    "da1dz1 = \"\"\n",
    "dz1dw1 = \"\"\n",
    "dLdw1 = \"\"\n",
    "eta = 0.05\n",
    "w1new = \"\"\n"
   ]
  },
  {
   "cell_type": "markdown",
   "metadata": {},
   "source": [
    "And a table with these values (execute the table cell to update the table!)"
   ]
  },
  {
   "cell_type": "code",
   "execution_count": 304,
   "metadata": {
    "hide_input": true
   },
   "outputs": [
    {
     "data": {
      "text/html": [
       "<style type=\"text/css\">\n",
       "#T_58d78_ th {\n",
       "  font-size: 18px;\n",
       "  max-width: 2.5cm;\n",
       "  text-align: left;\n",
       "}\n",
       "#T_58d78_ td {\n",
       "  font-size: 18px;\n",
       "  max-width: 2.5cm;\n",
       "  text-align: left;\n",
       "}\n",
       "</style>\n",
       "<table id=\"T_58d78_\">\n",
       "  <thead>\n",
       "    <tr>\n",
       "      <th class=\"col_heading level0 col0\" >$w'_1$</th>\n",
       "      <th class=\"col_heading level0 col1\" >$\\eta$</th>\n",
       "      <th class=\"col_heading level0 col2\" >$\\frac{\\partial L(w,b|x)}{\\partial w_1}$</th>\n",
       "      <th class=\"col_heading level0 col3\" >$\\frac{\\partial z_1}{\\partial w_1}$</th>\n",
       "      <th class=\"col_heading level0 col4\" >$\\frac{\\partial a_1}{\\partial z_1}$</th>\n",
       "      <th class=\"col_heading level0 col5\" >$\\frac{\\partial z_2}{\\partial a_1}$</th>\n",
       "      <th class=\"col_heading level0 col6\" >$\\frac{\\partial a_2}{\\partial z_2}$</th>\n",
       "      <th class=\"col_heading level0 col7\" >$\\frac{\\partial L(w,b|x)}{\\partial a_2}$</th>\n",
       "    </tr>\n",
       "  </thead>\n",
       "  <tbody>\n",
       "    <tr>\n",
       "      <td id=\"T_58d78_row0_col0\" class=\"data row0 col0\" ></td>\n",
       "      <td id=\"T_58d78_row0_col1\" class=\"data row0 col1\" >0.05</td>\n",
       "      <td id=\"T_58d78_row0_col2\" class=\"data row0 col2\" ></td>\n",
       "      <td id=\"T_58d78_row0_col3\" class=\"data row0 col3\" ></td>\n",
       "      <td id=\"T_58d78_row0_col4\" class=\"data row0 col4\" ></td>\n",
       "      <td id=\"T_58d78_row0_col5\" class=\"data row0 col5\" ></td>\n",
       "      <td id=\"T_58d78_row0_col6\" class=\"data row0 col6\" >0.24</td>\n",
       "      <td id=\"T_58d78_row0_col7\" class=\"data row0 col7\" >    0.51    </td>\n",
       "    </tr>\n",
       "  </tbody>\n",
       "</table>\n"
      ],
      "text/plain": [
       "<pandas.io.formats.style.Styler at 0x7fbb3f626c10>"
      ]
     },
     "execution_count": 304,
     "metadata": {},
     "output_type": "execute_result"
    }
   ],
   "source": [
    "props2 = [\n",
    "    (\"font-size\", \"18px\"),\n",
    "    ('max-width', '3cm'),\n",
    "    ('text-align', 'center')\n",
    "]\n",
    "styles2 = [\n",
    "    dict(selector=\"th\", props = props2),\n",
    "    dict(selector=\"td\", props=props2)\n",
    "]\n",
    "\n",
    "colNames = { \n",
    "    \"w1new\" : r\"$w'_1$\",\n",
    "    \"eta\" : r\"$\\eta$\",\n",
    "    \"dLdw1\" : r\"$\\frac{\\partial L(w,b|x)}{\\partial w_1}$\",\n",
    "    \"dz1dw1\" : r\"$\\frac{\\partial z_1}{\\partial w_1}$\",\n",
    "    \"da1dz1\" : r\"$\\frac{\\partial a_1}{\\partial z_1}$\",\n",
    "    \"dz2da1\" : r\"$\\frac{\\partial z_2}{\\partial a_1}$\",\n",
    "    \"da2dz2\" : r\"$\\frac{\\partial a_2}{\\partial z_2}$\",\n",
    "    \"dLda2\" : r\"$\\frac{\\partial L(w,b|x)}{\\partial a_2}$\"\n",
    "}\n",
    "\n",
    "# Code below is what is needed to update table at each step\n",
    "tab3 = pd.Series(\n",
    "    { \n",
    "        \"w1new\" : \"\" if isinstance(w1new, str) else format(w1new, \".2g\"),\n",
    "        \"eta\" : \"\" if isinstance(eta, str) else format(eta, \".2g\"),\n",
    "        \"dLdw1\" : \"\" if isinstance(dLdw1, str) else format(dLdw1, \".2g\"), \n",
    "        \"dz1dw1\" : \"\" if isinstance(dz1dw1, str) else format(dz1dw1, \".2g\"),\n",
    "        \"da1dz1\" : \"\" if isinstance(da1dz1, str) else format(da1dz1, \".2g\"), \n",
    "        \"dz2da1\" : \"\" if isinstance(dz2da1, str) else format(dz2da1, \".2g\"),\n",
    "        \"da2dz2\" : \"\" if isinstance(da2dz2, str) else format(da2dz2, \".2g\"),\n",
    "        \"dLda2\" : \"\" if isinstance(dlda2, str) else format(dlda2, \".2g\").center(12, '\\u00A0')\n",
    "    }\n",
    ")\n",
    "\n",
    "\n",
    "\n",
    "tab3 = pd.DataFrame.rename(tab3.to_frame().T, columns = colNames).style.hide_index().set_table_styles(styles1)\n",
    "tab3\n"
   ]
  },
  {
   "cell_type": "markdown",
   "metadata": {
    "cell_style": "center"
   },
   "source": [
    "### Backward pass 1$\n",
    "$\\begin{eqnarray}\n",
    "\\frac{\\partial z_2}{\\partial a_1} \n",
    "&=&  \\frac{\\partial w_2 a_1 +b_1}{\\partial a_1} \\\\\n",
    "&=& w_2\n",
    "\\end{eqnarray}"
   ]
  },
  {
   "cell_type": "code",
   "execution_count": 305,
   "metadata": {
    "cell_style": "split"
   },
   "outputs": [],
   "source": [
    "dz2da1 = w2"
   ]
  },
  {
   "cell_type": "code",
   "execution_count": 306,
   "metadata": {
    "hide_input": true
   },
   "outputs": [
    {
     "data": {
      "text/html": [
       "<style type=\"text/css\">\n",
       "#T_b596e_ th {\n",
       "  font-size: 18px;\n",
       "  max-width: 2.5cm;\n",
       "  text-align: left;\n",
       "}\n",
       "#T_b596e_ td {\n",
       "  font-size: 18px;\n",
       "  max-width: 2.5cm;\n",
       "  text-align: left;\n",
       "}\n",
       "</style>\n",
       "<table id=\"T_b596e_\">\n",
       "  <thead>\n",
       "    <tr>\n",
       "      <th class=\"col_heading level0 col0\" >$w'_1$</th>\n",
       "      <th class=\"col_heading level0 col1\" >$\\eta$</th>\n",
       "      <th class=\"col_heading level0 col2\" >$\\frac{\\partial L(w,b|x)}{\\partial w_1}$</th>\n",
       "      <th class=\"col_heading level0 col3\" >$\\frac{\\partial z_1}{\\partial w_1}$</th>\n",
       "      <th class=\"col_heading level0 col4\" >$\\frac{\\partial a_1}{\\partial z_1}$</th>\n",
       "      <th class=\"col_heading level0 col5\" >$\\frac{\\partial z_2}{\\partial a_1}$</th>\n",
       "      <th class=\"col_heading level0 col6\" >$\\frac{\\partial a_2}{\\partial z_2}$</th>\n",
       "      <th class=\"col_heading level0 col7\" >$\\frac{\\partial L(w,b|x)}{\\partial a_2}$</th>\n",
       "    </tr>\n",
       "  </thead>\n",
       "  <tbody>\n",
       "    <tr>\n",
       "      <td id=\"T_b596e_row0_col0\" class=\"data row0 col0\" ></td>\n",
       "      <td id=\"T_b596e_row0_col1\" class=\"data row0 col1\" >0.05</td>\n",
       "      <td id=\"T_b596e_row0_col2\" class=\"data row0 col2\" ></td>\n",
       "      <td id=\"T_b596e_row0_col3\" class=\"data row0 col3\" ></td>\n",
       "      <td id=\"T_b596e_row0_col4\" class=\"data row0 col4\" ></td>\n",
       "      <td id=\"T_b596e_row0_col5\" class=\"data row0 col5\" >0.3</td>\n",
       "      <td id=\"T_b596e_row0_col6\" class=\"data row0 col6\" >0.24</td>\n",
       "      <td id=\"T_b596e_row0_col7\" class=\"data row0 col7\" >    0.51    </td>\n",
       "    </tr>\n",
       "  </tbody>\n",
       "</table>\n"
      ],
      "text/plain": [
       "<pandas.io.formats.style.Styler at 0x7fbb3f850250>"
      ]
     },
     "execution_count": 306,
     "metadata": {},
     "output_type": "execute_result"
    }
   ],
   "source": [
    "# Code below is what is needed to update table at each step\n",
    "tab3 = pd.Series(\n",
    "    { \n",
    "        \"w1new\" : \"\" if isinstance(w1new, str) else format(w1new, \".2g\"),\n",
    "        \"eta\" : \"\" if isinstance(eta, str) else format(eta, \".2g\"),\n",
    "        \"dLdw1\" : \"\" if isinstance(dLdw1, str) else format(dLdw1, \".2g\"), \n",
    "        \"dz1dw1\" : \"\" if isinstance(dz1dw1, str) else format(dz1dw1, \".2g\"),\n",
    "        \"da1dz1\" : \"\" if isinstance(da1dz1, str) else format(da1dz1, \".2g\"), \n",
    "        \"dz2da1\" : \"\" if isinstance(dz2da1, str) else format(dz2da1, \".2g\"),\n",
    "        \"da2dz2\" : \"\" if isinstance(da2dz2, str) else format(da2dz2, \".2g\"),\n",
    "        \"dLda2\" : \"\" if isinstance(dlda2, str) else format(dlda2, \".2g\").center(12, '\\u00A0')\n",
    "    }\n",
    ")\n",
    "\n",
    "\n",
    "\n",
    "tab3 = pd.DataFrame.rename(tab3.to_frame().T, columns = colNames).style.hide_index().set_table_styles(styles1)\n",
    "tab3\n",
    "\n"
   ]
  },
  {
   "cell_type": "markdown",
   "metadata": {
    "cell_style": "center"
   },
   "source": [
    "### Backward pass 2\n",
    "$\\begin{eqnarray}\n",
    "\\frac{\\partial a_1}{\\partial z_2} \n",
    "&=&  \\frac{\\partial \\sigma(z_2)}{\\partial z_2} \\\\\n",
    "&=& \\sigma(z_2)\\left(1-\\sigma(z_2)\\right)\\\\\n",
    "&=& a_1\\left(1-a_1\\right)\n",
    "\\end{eqnarray}$"
   ]
  },
  {
   "cell_type": "code",
   "execution_count": 307,
   "metadata": {},
   "outputs": [],
   "source": [
    "da1dz1 = a1*(1-a1)"
   ]
  },
  {
   "cell_type": "code",
   "execution_count": 308,
   "metadata": {
    "cell_style": "center",
    "hide_input": true,
    "scrolled": true,
    "slideshow": {
     "slide_type": "-"
    }
   },
   "outputs": [
    {
     "data": {
      "text/html": [
       "<style type=\"text/css\">\n",
       "#T_47ed1_ th {\n",
       "  font-size: 18px;\n",
       "  max-width: 2.5cm;\n",
       "  text-align: left;\n",
       "}\n",
       "#T_47ed1_ td {\n",
       "  font-size: 18px;\n",
       "  max-width: 2.5cm;\n",
       "  text-align: left;\n",
       "}\n",
       "</style>\n",
       "<table id=\"T_47ed1_\">\n",
       "  <thead>\n",
       "    <tr>\n",
       "      <th class=\"col_heading level0 col0\" >$w'_1$</th>\n",
       "      <th class=\"col_heading level0 col1\" >$\\eta$</th>\n",
       "      <th class=\"col_heading level0 col2\" >$\\frac{\\partial L(w,b|x)}{\\partial w_1}$</th>\n",
       "      <th class=\"col_heading level0 col3\" >$\\frac{\\partial z_1}{\\partial w_1}$</th>\n",
       "      <th class=\"col_heading level0 col4\" >$\\frac{\\partial a_1}{\\partial z_1}$</th>\n",
       "      <th class=\"col_heading level0 col5\" >$\\frac{\\partial z_2}{\\partial a_1}$</th>\n",
       "      <th class=\"col_heading level0 col6\" >$\\frac{\\partial a_2}{\\partial z_2}$</th>\n",
       "      <th class=\"col_heading level0 col7\" >$\\frac{\\partial L(w,b|x)}{\\partial a_2}$</th>\n",
       "    </tr>\n",
       "  </thead>\n",
       "  <tbody>\n",
       "    <tr>\n",
       "      <td id=\"T_47ed1_row0_col0\" class=\"data row0 col0\" ></td>\n",
       "      <td id=\"T_47ed1_row0_col1\" class=\"data row0 col1\" >0.05</td>\n",
       "      <td id=\"T_47ed1_row0_col2\" class=\"data row0 col2\" ></td>\n",
       "      <td id=\"T_47ed1_row0_col3\" class=\"data row0 col3\" ></td>\n",
       "      <td id=\"T_47ed1_row0_col4\" class=\"data row0 col4\" >0.25</td>\n",
       "      <td id=\"T_47ed1_row0_col5\" class=\"data row0 col5\" >0.3</td>\n",
       "      <td id=\"T_47ed1_row0_col6\" class=\"data row0 col6\" >0.24</td>\n",
       "      <td id=\"T_47ed1_row0_col7\" class=\"data row0 col7\" >    0.51    </td>\n",
       "    </tr>\n",
       "  </tbody>\n",
       "</table>\n"
      ],
      "text/plain": [
       "<pandas.io.formats.style.Styler at 0x7fbb3f8312d0>"
      ]
     },
     "execution_count": 308,
     "metadata": {},
     "output_type": "execute_result"
    }
   ],
   "source": [
    "# Code below is what is needed to update table at each step\n",
    "tab3 = pd.Series(\n",
    "    { \n",
    "        \"w1new\" : \"\" if isinstance(w1new, str) else format(w1new, \".2g\"),\n",
    "        \"eta\" : \"\" if isinstance(eta, str) else format(eta, \".2g\"),\n",
    "        \"dLdw1\" : \"\" if isinstance(dLdw1, str) else format(dLdw1, \".2g\"), \n",
    "        \"dz1dw1\" : \"\" if isinstance(dz1dw1, str) else format(dz1dw1, \".2g\"),\n",
    "        \"da1dz1\" : \"\" if isinstance(da1dz1, str) else format(da1dz1, \".2g\"), \n",
    "        \"dz2da1\" : \"\" if isinstance(dz2da1, str) else format(dz2da1, \".2g\"),\n",
    "        \"da2dz2\" : \"\" if isinstance(da2dz2, str) else format(da2dz2, \".2g\"),\n",
    "        \"dLda2\" : \"\" if isinstance(dlda2, str) else format(dlda2, \".2g\").center(12, '\\u00A0')\n",
    "    }\n",
    ")\n",
    "\n",
    "\n",
    "\n",
    "tab3 = pd.DataFrame.rename(tab3.to_frame().T, columns = colNames).style.hide_index().set_table_styles(styles1)\n",
    "tab3\n",
    "\n"
   ]
  },
  {
   "cell_type": "markdown",
   "metadata": {
    "cell_style": "split"
   },
   "source": [
    "### Backward pass 3\n",
    "$\\begin{eqnarray}\n",
    "\\frac{\\partial z_1}{\\partial w_1} \n",
    "&=&  \\frac{\\partial w_1 i_1 + b_1}{\\partial w_1}\\\\\n",
    "&=& i_1\n",
    "\\end{eqnarray}$"
   ]
  },
  {
   "cell_type": "code",
   "execution_count": 309,
   "metadata": {},
   "outputs": [],
   "source": [
    "dz1dw1 = i1"
   ]
  },
  {
   "cell_type": "code",
   "execution_count": 310,
   "metadata": {
    "hide_input": true,
    "scrolled": true,
    "slideshow": {
     "slide_type": "-"
    }
   },
   "outputs": [
    {
     "data": {
      "text/html": [
       "<style type=\"text/css\">\n",
       "#T_990d8_ th {\n",
       "  font-size: 18px;\n",
       "  max-width: 2.5cm;\n",
       "  text-align: left;\n",
       "}\n",
       "#T_990d8_ td {\n",
       "  font-size: 18px;\n",
       "  max-width: 2.5cm;\n",
       "  text-align: left;\n",
       "}\n",
       "</style>\n",
       "<table id=\"T_990d8_\">\n",
       "  <thead>\n",
       "    <tr>\n",
       "      <th class=\"col_heading level0 col0\" >$w'_1$</th>\n",
       "      <th class=\"col_heading level0 col1\" >$\\eta$</th>\n",
       "      <th class=\"col_heading level0 col2\" >$\\frac{\\partial L(w,b|x)}{\\partial w_1}$</th>\n",
       "      <th class=\"col_heading level0 col3\" >$\\frac{\\partial z_1}{\\partial w_1}$</th>\n",
       "      <th class=\"col_heading level0 col4\" >$\\frac{\\partial a_1}{\\partial z_1}$</th>\n",
       "      <th class=\"col_heading level0 col5\" >$\\frac{\\partial z_2}{\\partial a_1}$</th>\n",
       "      <th class=\"col_heading level0 col6\" >$\\frac{\\partial a_2}{\\partial z_2}$</th>\n",
       "      <th class=\"col_heading level0 col7\" >$\\frac{\\partial L(w,b|x)}{\\partial a_2}$</th>\n",
       "    </tr>\n",
       "  </thead>\n",
       "  <tbody>\n",
       "    <tr>\n",
       "      <td id=\"T_990d8_row0_col0\" class=\"data row0 col0\" ></td>\n",
       "      <td id=\"T_990d8_row0_col1\" class=\"data row0 col1\" >0.05</td>\n",
       "      <td id=\"T_990d8_row0_col2\" class=\"data row0 col2\" ></td>\n",
       "      <td id=\"T_990d8_row0_col3\" class=\"data row0 col3\" >0.05</td>\n",
       "      <td id=\"T_990d8_row0_col4\" class=\"data row0 col4\" >0.25</td>\n",
       "      <td id=\"T_990d8_row0_col5\" class=\"data row0 col5\" >0.3</td>\n",
       "      <td id=\"T_990d8_row0_col6\" class=\"data row0 col6\" >0.24</td>\n",
       "      <td id=\"T_990d8_row0_col7\" class=\"data row0 col7\" >    0.51    </td>\n",
       "    </tr>\n",
       "  </tbody>\n",
       "</table>\n"
      ],
      "text/plain": [
       "<pandas.io.formats.style.Styler at 0x7fbb40950650>"
      ]
     },
     "execution_count": 310,
     "metadata": {},
     "output_type": "execute_result"
    }
   ],
   "source": [
    "# Code below is what is needed to update table at each step\n",
    "tab3 = pd.Series(\n",
    "    { \n",
    "        \"w1new\" : \"\" if isinstance(w1new, str) else format(w1new, \".2g\"),\n",
    "        \"eta\" : \"\" if isinstance(eta, str) else format(eta, \".2g\"),\n",
    "        \"dLdw1\" : \"\" if isinstance(dLdw1, str) else format(dLdw1, \".2g\"), \n",
    "        \"dz1dw1\" : \"\" if isinstance(dz1dw1, str) else format(dz1dw1, \".2g\"),\n",
    "        \"da1dz1\" : \"\" if isinstance(da1dz1, str) else format(da1dz1, \".2g\"), \n",
    "        \"dz2da1\" : \"\" if isinstance(dz2da1, str) else format(dz2da1, \".2g\"),\n",
    "        \"da2dz2\" : \"\" if isinstance(da2dz2, str) else format(da2dz2, \".2g\"),\n",
    "        \"dLda2\" : \"\" if isinstance(dlda2, str) else format(dlda2, \".2g\").center(12, '\\u00A0')\n",
    "    }\n",
    ")\n",
    "\n",
    "\n",
    "\n",
    "tab3 = pd.DataFrame.rename(tab3.to_frame().T, columns = colNames).style.hide_index().set_table_styles(styles1)\n",
    "tab3\n",
    "\n"
   ]
  },
  {
   "cell_type": "markdown",
   "metadata": {
    "cell_style": "center"
   },
   "source": [
    "### Backward pass 4\n",
    "$\\begin{eqnarray}\n",
    "\\frac{\\partial L(b,w|x)}{\\partial w_1} \n",
    "&=&  \n",
    "\\frac{\\partial z_1}{\\partial w_1} \n",
    "\\times\n",
    "\\frac{\\partial a_1}{\\partial z_1} \n",
    "\\times\n",
    "\\frac{\\partial z_2}{\\partial a_1} \n",
    "\\times\n",
    "\\frac{\\partial a_2}{\\partial z_2} \n",
    "\\times\n",
    "\\frac{\\partial L(b,w|x)}{\\partial a_2} \n",
    "\\end{eqnarray}$"
   ]
  },
  {
   "cell_type": "code",
   "execution_count": 311,
   "metadata": {},
   "outputs": [],
   "source": [
    "dLdw1 = dz1dw1 * da1dz1 * dz2da1 * da2dz2 * dLda2"
   ]
  },
  {
   "cell_type": "code",
   "execution_count": 312,
   "metadata": {
    "hide_input": true,
    "scrolled": true,
    "slideshow": {
     "slide_type": "-"
    }
   },
   "outputs": [
    {
     "data": {
      "text/html": [
       "<style type=\"text/css\">\n",
       "#T_a37e2_ th {\n",
       "  font-size: 18px;\n",
       "  max-width: 2.5cm;\n",
       "  text-align: left;\n",
       "}\n",
       "#T_a37e2_ td {\n",
       "  font-size: 18px;\n",
       "  max-width: 2.5cm;\n",
       "  text-align: left;\n",
       "}\n",
       "</style>\n",
       "<table id=\"T_a37e2_\">\n",
       "  <thead>\n",
       "    <tr>\n",
       "      <th class=\"col_heading level0 col0\" >$w'_1$</th>\n",
       "      <th class=\"col_heading level0 col1\" >$\\eta$</th>\n",
       "      <th class=\"col_heading level0 col2\" >$\\frac{\\partial L(w,b|x)}{\\partial w_1}$</th>\n",
       "      <th class=\"col_heading level0 col3\" >$\\frac{\\partial z_1}{\\partial w_1}$</th>\n",
       "      <th class=\"col_heading level0 col4\" >$\\frac{\\partial a_1}{\\partial z_1}$</th>\n",
       "      <th class=\"col_heading level0 col5\" >$\\frac{\\partial z_2}{\\partial a_1}$</th>\n",
       "      <th class=\"col_heading level0 col6\" >$\\frac{\\partial a_2}{\\partial z_2}$</th>\n",
       "      <th class=\"col_heading level0 col7\" >$\\frac{\\partial L(w,b|x)}{\\partial a_2}$</th>\n",
       "    </tr>\n",
       "  </thead>\n",
       "  <tbody>\n",
       "    <tr>\n",
       "      <td id=\"T_a37e2_row0_col0\" class=\"data row0 col0\" ></td>\n",
       "      <td id=\"T_a37e2_row0_col1\" class=\"data row0 col1\" >0.05</td>\n",
       "      <td id=\"T_a37e2_row0_col2\" class=\"data row0 col2\" >0.00053</td>\n",
       "      <td id=\"T_a37e2_row0_col3\" class=\"data row0 col3\" >0.05</td>\n",
       "      <td id=\"T_a37e2_row0_col4\" class=\"data row0 col4\" >0.25</td>\n",
       "      <td id=\"T_a37e2_row0_col5\" class=\"data row0 col5\" >0.3</td>\n",
       "      <td id=\"T_a37e2_row0_col6\" class=\"data row0 col6\" >0.24</td>\n",
       "      <td id=\"T_a37e2_row0_col7\" class=\"data row0 col7\" >    0.51    </td>\n",
       "    </tr>\n",
       "  </tbody>\n",
       "</table>\n"
      ],
      "text/plain": [
       "<pandas.io.formats.style.Styler at 0x7fbb3f53a690>"
      ]
     },
     "execution_count": 312,
     "metadata": {},
     "output_type": "execute_result"
    }
   ],
   "source": [
    "# Code below is what is needed to update table at each step\n",
    "tab3 = pd.Series(\n",
    "    { \n",
    "        \"w1new\" : \"\" if isinstance(w1new, str) else format(w1new, \".2g\"),\n",
    "        \"eta\" : \"\" if isinstance(eta, str) else format(eta, \".2g\"),\n",
    "        \"dLdw1\" : \"\" if isinstance(dLdw1, str) else format(dLdw1, \".2g\"), \n",
    "        \"dz1dw1\" : \"\" if isinstance(dz1dw1, str) else format(dz1dw1, \".2g\"),\n",
    "        \"da1dz1\" : \"\" if isinstance(da1dz1, str) else format(da1dz1, \".2g\"), \n",
    "        \"dz2da1\" : \"\" if isinstance(dz2da1, str) else format(dz2da1, \".2g\"),\n",
    "        \"da2dz2\" : \"\" if isinstance(da2dz2, str) else format(da2dz2, \".2g\"),\n",
    "        \"dLda2\" : \"\" if isinstance(dlda2, str) else format(dlda2, \".2g\").center(12, '\\u00A0')\n",
    "    }\n",
    ")\n",
    "\n",
    "\n",
    "\n",
    "tab3 = pd.DataFrame.rename(tab3.to_frame().T, columns = colNames).style.hide_index().set_table_styles(styles1)\n",
    "tab3"
   ]
  },
  {
   "cell_type": "markdown",
   "metadata": {
    "cell_style": "center"
   },
   "source": [
    "### Update $w_1$\n",
    "$\\begin{eqnarray}\n",
    "w'_1\n",
    "&=&  w_1 - \\eta \\frac{\\partial L(b,wx)}{\\partial w_1}\n",
    "\\end{eqnarray}$"
   ]
  },
  {
   "cell_type": "code",
   "execution_count": 313,
   "metadata": {},
   "outputs": [],
   "source": [
    "w1new = w1 - eta * dLdw1"
   ]
  },
  {
   "cell_type": "code",
   "execution_count": 314,
   "metadata": {
    "hide_input": true
   },
   "outputs": [
    {
     "data": {
      "text/html": [
       "<style type=\"text/css\">\n",
       "#T_32fd7_ th {\n",
       "  font-size: 18px;\n",
       "  max-width: 2.5cm;\n",
       "  text-align: left;\n",
       "}\n",
       "#T_32fd7_ td {\n",
       "  font-size: 18px;\n",
       "  max-width: 2.5cm;\n",
       "  text-align: left;\n",
       "}\n",
       "</style>\n",
       "<table id=\"T_32fd7_\">\n",
       "  <thead>\n",
       "    <tr>\n",
       "      <th class=\"col_heading level0 col0\" >$w'_1$</th>\n",
       "      <th class=\"col_heading level0 col1\" >$\\eta$</th>\n",
       "      <th class=\"col_heading level0 col2\" >$\\frac{\\partial L(w,b|x)}{\\partial w_1}$</th>\n",
       "      <th class=\"col_heading level0 col3\" >$\\frac{\\partial z_1}{\\partial w_1}$</th>\n",
       "      <th class=\"col_heading level0 col4\" >$\\frac{\\partial a_1}{\\partial z_1}$</th>\n",
       "      <th class=\"col_heading level0 col5\" >$\\frac{\\partial z_2}{\\partial a_1}$</th>\n",
       "      <th class=\"col_heading level0 col6\" >$\\frac{\\partial a_2}{\\partial z_2}$</th>\n",
       "      <th class=\"col_heading level0 col7\" >$\\frac{\\partial L(w,b|x)}{\\partial a_2}$</th>\n",
       "    </tr>\n",
       "  </thead>\n",
       "  <tbody>\n",
       "    <tr>\n",
       "      <td id=\"T_32fd7_row0_col0\" class=\"data row0 col0\" >0.1</td>\n",
       "      <td id=\"T_32fd7_row0_col1\" class=\"data row0 col1\" >0.05</td>\n",
       "      <td id=\"T_32fd7_row0_col2\" class=\"data row0 col2\" >0.00053</td>\n",
       "      <td id=\"T_32fd7_row0_col3\" class=\"data row0 col3\" >0.05</td>\n",
       "      <td id=\"T_32fd7_row0_col4\" class=\"data row0 col4\" >0.25</td>\n",
       "      <td id=\"T_32fd7_row0_col5\" class=\"data row0 col5\" >0.3</td>\n",
       "      <td id=\"T_32fd7_row0_col6\" class=\"data row0 col6\" >0.24</td>\n",
       "      <td id=\"T_32fd7_row0_col7\" class=\"data row0 col7\" >    0.51    </td>\n",
       "    </tr>\n",
       "  </tbody>\n",
       "</table>\n"
      ],
      "text/plain": [
       "<pandas.io.formats.style.Styler at 0x7fbb3f837f90>"
      ]
     },
     "execution_count": 314,
     "metadata": {},
     "output_type": "execute_result"
    }
   ],
   "source": [
    "# Code below is what is needed to update table at each step\n",
    "tab3 = pd.Series(\n",
    "    { \n",
    "        \"w1new\" : \"\" if isinstance(w1new, str) else format(w1new, \".2g\"),\n",
    "        \"eta\" : \"\" if isinstance(eta, str) else format(eta, \".2g\"),\n",
    "        \"dLdw1\" : \"\" if isinstance(dLdw1, str) else format(dLdw1, \".2g\"), \n",
    "        \"dz1dw1\" : \"\" if isinstance(dz1dw1, str) else format(dz1dw1, \".2g\"),\n",
    "        \"da1dz1\" : \"\" if isinstance(da1dz1, str) else format(da1dz1, \".2g\"), \n",
    "        \"dz2da1\" : \"\" if isinstance(dz2da1, str) else format(dz2da1, \".2g\"),\n",
    "        \"da2dz2\" : \"\" if isinstance(da2dz2, str) else format(da2dz2, \".2g\"),\n",
    "        \"dLda2\" : \"\" if isinstance(dlda2, str) else format(dlda2, \".2g\").center(12, '\\u00A0')\n",
    "    }\n",
    ")\n",
    "\n",
    "\n",
    "\n",
    "tab3 = pd.DataFrame.rename(tab3.to_frame().T, columns = colNames).style.hide_index().set_table_styles(styles1)\n",
    "tab3"
   ]
  },
  {
   "cell_type": "markdown",
   "metadata": {
    "cell_style": "center"
   },
   "source": [
    "## What about the bias?\n",
    "\n",
    "The biases $b_1$ and b_2$ are udpated in very much the same way as the weights:\n",
    "\n",
    "1. Determine the (forward) path from the bias in question, $b_i$, to the loss function $L(b,w|x)$. For $b_2$ this is: \n",
    "$$\\begin{eqnarray}\n",
    "z_2 &=&  w_2 a_{1} + b_2\\\\\n",
    "a_2 &=& \\sigma(z_2) = \\frac{1}{1+e^{-z_2}}\\\\\n",
    "L(w,b|x) &=& \\frac{1}{2}\\left(y-\\hat{y}\\right)^2 = \\frac{1}{2}\\left(y-a_2\\right)^2\n",
    "\\end{eqnarray}$$  \n",
    "(What would it be for $b_1$?)\n",
    "2. Use the chain rule to split the requested partial derivative $\\frac{\\partial L(b,w|x)}{\\partial b_i}$ on the $a_i$s and $z_i$s along this path.\n",
    "3. Solve ther partial derivatives of the split expression and compute their values\n",
    "4. Compute the value of $\\frac{\\partial L(b,w|x)}{\\partial b_i}$ using the partial derivatives of the split expression\n",
    "5. Update the requested bias $b:_i$ using $\\eta$ and $\\frac{\\partial L(b,w|x)}{\\partial b_i}$.\n",
    "\n",
    "(_If_ you have time over, you could try to do this for $b2$ and/or $b_1$)"
   ]
  },
  {
   "cell_type": "markdown",
   "metadata": {
    "slideshow": {
     "slide_type": "slide"
    }
   },
   "source": [
    "# What happens if we have more neurons per layer?"
   ]
  },
  {
   "cell_type": "code",
   "execution_count": 315,
   "metadata": {
    "cell_style": "center",
    "hide_input": true,
    "slideshow": {
     "slide_type": "-"
    }
   },
   "outputs": [
    {
     "data": {
      "image/png": "[encoded data removed]",
      "text/plain": [
       "<Figure size 720x720 with 1 Axes>"
      ]
     },
     "metadata": {
      "needs_background": "light"
     },
     "output_type": "display_data"
    }
   ],
   "source": [
    "import numpy as np\n",
    "import matplotlib.pyplot as plt\n",
    "from draw_neural_net import draw_neural_net\n",
    "\n",
    "#-----1-1-1\n",
    "layer_sizes = [1,2,2]\n",
    "\n",
    "weights = [\n",
    "    np.array(\n",
    "        [\n",
    "            [ \"w_{1,1}^H\", \"w_{1,2}^H\" ]\n",
    "        ]\n",
    "    ),\n",
    "    np.array(\n",
    "        [\n",
    "            [ \"w_{1,1}^O\", \"w_{1,2}^O\" ], \n",
    "            [ \"w_{2,1}^O\", \"w_{2,2}^O\" ]\n",
    "        ]\n",
    "    )\n",
    "]\n",
    "biases = [\n",
    "    np.array(\n",
    "        [ \"b_1^H\", \"b_2^H\"]\n",
    "    ), \n",
    "    np.array(\n",
    "        [ \"b_1^O\", \"b_2^O\"]\n",
    "    )\n",
    "]\n",
    "\n",
    "hidden = [\n",
    "                np.array(\n",
    "                [ r\"$i_1$\"]\n",
    "                ),\n",
    "                np.array(\n",
    "                    [\n",
    "                        r\"$z_1^H\\rightarrow a_1^H$\",\n",
    "                        r\"$z_2^H\\rightarrow a_2^H$\"\n",
    "                    ]\n",
    "                ),\n",
    "                np.array(\n",
    "                    [\n",
    "                        r\"$z_1^O\\rightarrow a_1^O$\",\n",
    "                        r\"$z_2^O\\rightarrow a_2^O$\"\n",
    "                    ]\n",
    "                ),\n",
    "]\n",
    "\n",
    "figExercise2 = plt.figure(figsize=(10, 10))\n",
    "ax = figExercise2.gca()\n",
    "ignore=ax.axis('off')\n",
    "\n",
    "draw_neural_net(ax, \n",
    "                layerSizes = layer_sizes, \n",
    "                weights = weights,\n",
    "                otherNodePrefix = hidden,\n",
    "                biasNodePrefix = \"b\",\n",
    "                biases=biases, \n",
    "                inputPrefix = [\"{}\".format(x)], \n",
    "                nodeFontSize=20, edgeFontSize = 15, edgeWidth = 3\n",
    "               )\n",
    "#plt.show()"
   ]
  },
  {
   "cell_type": "markdown",
   "metadata": {
    "cell_style": "center",
    "hide_input": true
   },
   "source": [
    "#### Output layer , $O$\n",
    "- Compute values of the partial derivatives of the split expression for each neuron in the same way as in ANNs with one neuron\n",
    "- Collect the partial cerivative values in a vector (= a _gradient_), e.g., \n",
    "$$\\frac{\\partial a^O}{\\partial z^O}\n",
    "= \\left( \n",
    "\\begin{array}{c}\n",
    "\\frac{\\partial a_1^O}{\\partial z_1^O} \\\\\n",
    "\\frac{\\partial a_2^O}{\\partial z_2^O}\n",
    "\\end{array}\n",
    "\\right)$$\n",
    "\n",
    "#### Hidden layer, $H_1$\n",
    "- Since each neuron in the hidden layer outputs to two neurons in the output layer, we need to sum over neurons in next layer, e.g.:\n",
    "\n",
    "$\\frac{\\partial L(w,b|x)}{\\partial a^H_i}  = \\sum_j w_{i,j}\\times\\frac{\\partial L(w,b|x)}{\\partial z_j^O}$"
   ]
  },
  {
   "cell_type": "markdown",
   "metadata": {
    "hide_input": true
   },
   "source": [
    "Path from weight $w^{H}$ to $L(b,w|x)$:\n",
    "\n",
    "$$\\begin{eqnarray}\n",
    "z_1^H &=&  w_1^H i_{1} + b_1^H\\\\\n",
    "z_2^H &=&  w_2^H i_{1} + b_2^H\\\\\n",
    "\\\\\n",
    "a_1^H &=& \\sigma(z_1^H)\\\\\n",
    "a_2^H &=& \\sigma(z_2^H)\\\\\n",
    "\\\\\n",
    "z_1^O &=& \\sum_{j=1}^2 w_{j,1}^O a_j^H + b_1^O\\\\\n",
    "z_2^O &=& \\sum_{j=1}^2 w_{j,2}^O a_j^H + b_2^O\\\\\n",
    "\\\\\n",
    "a_1^O &=& \\sigma(z_1^O)\\\\\n",
    "a_2^O &=& \\sigma(z_2^O)\\\\\n",
    "\\\\\n",
    "L(b,w|x) &=& \\sum_{j=1}^2 \\frac{1}{2}\\left(y_j-\\hat{y}_j\\right)^2 = \\sum_{j=1}^2 \\frac{1}{2}\\left(y_j-a_j^O\\right)^2\\\\\n",
    "%L(w,b|x)_1 &=& \\frac{1}{2}\\left(y_1-\\hat{y}_1\\right)^2 = \\frac{1}{2}\\left(y_1-a_1^O\\right)^2\\\\\n",
    "%L(w,b|x)_2 &=& \\frac{1}{2}\\left(y_2-\\hat{y}_2\\right)^2 = \\frac{1}{2}\\left(y_2-a_2^O\\right)^2\\\\\n",
    "%\\\\\n",
    "%L(w,b|x) &=& L(w,b|x)_1  +L(w,b|x)_2\n",
    "\\end{eqnarray}$$  \n",
    "\n",
    "\n",
    "    \n"
   ]
  },
  {
   "cell_type": "markdown",
   "metadata": {},
   "source": [
    "$$\\begin{eqnarray}\n",
    "%\n",
    "\\frac{\\partial L(b,w|x)}{\\partial w} &=& \n",
    "\\frac{\\partial L(b,w|x)}{\\partial a^O} \n",
    "\\times \\frac{\\partial a^O}{\\partial w} \\\\\n",
    "&=& \\frac{\\partial L(b,w|x)}{\\partial a^O} \n",
    "\\times \\frac{\\partial a^O}{\\partial z^O} \n",
    "\\times \\frac{\\partial z^O}{\\partial w}\\\\\n",
    "&=& \\frac{\\partial L(b,w|x)}{\\partial a^O} \n",
    "\\times \\frac{\\partial a^O}{\\partial z^O} \n",
    "\\times \\frac{\\partial z^O}{\\partial a^H} \n",
    "\\times \\frac{\\partial a^H}{\\partial w}\\\\\n",
    "&=& \\frac{\\partial L(b,w|x)}{\\partial a^O} \n",
    "\\times \\frac{\\partial a^O}{\\partial z^O} \n",
    "\\times \\frac{\\partial z^O}{\\partial a^H} \n",
    "\\times\\frac{\\partial a^H}{\\partial z^H} \n",
    "\\times \\frac{\\partial z^H}{\\partial w}\\\\\n",
    "&=& \\frac{\\partial L(b,w|x)}{\\partial a^O} \n",
    "\\times \\frac{\\partial a^O}{\\partial z^O} \n",
    "\\times \\frac{\\partial z^O}{\\partial a^H} \n",
    "\\times\\frac{\\partial a^H}{\\partial z^H} \n",
    "\\\\\n",
    "% \n",
    "\\frac{\\partial L(b,w|x)}{\\partial a^O} &=& \n",
    "\\begin{cases}\n",
    "\\frac{\\partial \\sum_{j=i}^2 \\frac{1}{2}\\left(y_j-a_j^O\\right)^2}{\\partial a_1^O} = \\left(a_1^O - y_1\\right)\\\\\n",
    "\\frac{\\partial \\sum_{j=i}^2 \\frac{1}{2}\\left(y_j-a_j^O\\right)^2}{\\partial a_2^O} = \\left(a_2^O - y_2\\right)\\\\\n",
    "\\end{cases}\n",
    "\\\\\n",
    "%\n",
    "\\frac{\\partial a^O}{\\partial z^O} &=&\n",
    "\\begin{cases}\n",
    "\\frac{\\partial a_1^O}{\\partial z_1^O}, & \\frac{\\partial a_1^O}{\\partial z_2^O}\\\\\n",
    "\\frac{\\partial a_2^O}{\\partial z_1^O}, & \\frac{\\partial a_2^O}{\\partial z_2^O}\\\\\n",
    "\\end{cases}\\\\\n",
    "&=&\n",
    "\\begin{cases}\n",
    "\\sigma(z_1^O)(1-\\sigma(z_1^O), & 0\\\\\n",
    "0, &\\sigma(z_2^O)(1-\\sigma(z_2^O)\\\\\n",
    "\\end{cases}\\\\\n",
    "&=&\n",
    "\\begin{cases}\n",
    "a_1^O(1-a_1^O), & 0\\\\\n",
    "0, &a_2^O(1-a_2^O)\\\\\n",
    "\\end{cases}\\\\\n",
    "\\\\\n",
    "\\frac{\\partial z^O}{\\partial a^H} &=& \n",
    "\\begin{cases}\n",
    "\\frac{\\partial z_1^O}{\\partial a_1^H}, & \\frac{\\partial z_1^O}{\\partial a_2^H}\\\\\n",
    "\\frac{\\partial z_2^O}{\\partial a_1^H}, & \\frac{\\partial z_2^O}{\\partial a_2^H}\n",
    "\\end{cases}\\\\\n",
    "&=&\n",
    "\\begin{cases}\n",
    "\\frac{\\partial \\sum_{j=1}^2 w_{j,1}^O a_j^H + b_i^O}{\\partial a_1^H}, & \n",
    "\\frac{\\partial \\sum_{j=1}^2 w_{j,1}^O a_j^H + b_i^O}{\\partial a_2^H}\\\\\n",
    "\\frac{\\partial \\sum_{j=1}^2 w_{j,2}^O a_j^H + b_2^O}{\\partial a_1^H}, &\n",
    "\\frac{\\partial \\sum_{j=1}^2 w_{j,2}^O a_j^H + b_2^O}{\\partial a_2^H}\n",
    "\\end{cases}\\\\\n",
    "%&=&\n",
    "%begin{cases}\n",
    "%\\frac{\\partial w_{1,1}^O a_1^H + b_1^O}{\\partial a_1^H}, & \n",
    "%\\frac{\\partial w_{2,1}^O a_2^H + b_1^O}{\\partial a_2^H}\\\\\n",
    "%\\frac{\\partial w_{1,2}^O a_1^H + b_2^O}{\\partial a_1^H}, &\n",
    "%\\frac{\\partial w_{2,2}^O a_2^H + b_2^O}{\\partial a_2^H}\n",
    "% \\end{cases}\\\\\n",
    "&=&\n",
    "\\begin{cases}\n",
    "w_{1,1}^O, &\n",
    "w_{2,1}^O \\\\\n",
    "w_{1,2}^O &\n",
    "w_{2,2}^O\n",
    "\\end{cases}\\\\\n",
    "\\\\\n",
    "\\frac{\\partial a^H}{\\partial z^H} &=&\n",
    "\\begin{cases}\n",
    "\\frac{\\partial a_1^H}{\\partial z_1^H}, & \\frac{\\partial a_1^H}{\\partial z_2^H}\\\\\n",
    "\\frac{\\partial a_2^H}{\\partial z_1^H}, & \\frac{\\partial a_2^H}{\\partial z_2^H}\\\\\n",
    "\\end{cases}\\\\\n",
    "&=&\n",
    "\\begin{cases}\n",
    "\\sigma(z_1^H)(1-\\sigma(z_1^H), & 0\\\\\n",
    "0, &\\sigma(z_2^H)(1-\\sigma(z_2^H)\\\\\n",
    "\\end{cases}\\\\\n",
    "&=&\n",
    "\\begin{cases}\n",
    "a_1^H(1-a_1^H), & 0\\\\\n",
    "0, & a_2^H(1-a_2^H)\\\\\n",
    "\\end{cases}\\\\\n",
    "\\\\\n",
    "\\frac{\\partial z^H}{\\partial w^H} &=&\n",
    "\\begin{cases}\n",
    "\\frac{\\partial z_1^H}{\\partial w_{1,1}^H}, &\n",
    "\\frac{\\partial z_1^H}{\\partial w_{1,2}^H}\\\\\n",
    "\\frac{\\partial z_2^H}{\\partial w_{1,1}^H}, &\n",
    "\\frac{\\partial z_2^H}{\\partial w_{1,2}^H}\n",
    "\\end{cases}\\\\\n",
    "&=&\n",
    "\\begin{cases}\n",
    "\\frac{\\partial w_{1,1}^H i_1 + b_1^H}{\\partial w_{1,1}^H}, &\n",
    "\\frac{\\partial w_{1,1}^H i_1 + b_1^H}{\\partial w_{1,2}^H}\\\\\n",
    "\\frac{\\partial w_{1,2}^H i_1 + b_2^H}{\\partial w_{1,1}^H}, &\n",
    "\\frac{\\partial w_{1,2}^H i_1 + b_2^H}{\\partial w_{1,2}^H}\n",
    "\\end{cases}\\\\\n",
    "&=&\n",
    "\\begin{cases}\n",
    "i_1, &\n",
    "0\\\\\n",
    "0, &\n",
    "i_2\n",
    "\\end{cases}\\\\\n",
    "\\end{eqnarray}$$"
   ]
  },
  {
   "cell_type": "markdown",
   "metadata": {
    "slideshow": {
     "slide_type": "fragment"
    }
   },
   "source": [
    "#### What does Tensorflow do?\n",
    "- Improve computation efficiency using matrix algebra"
   ]
  },
  {
   "cell_type": "markdown",
   "metadata": {
    "cell_style": "split",
    "slideshow": {
     "slide_type": "fragment"
    }
   },
   "source": [
    "1. Per layer, collect\n",
    "    - partial derivatives as gradients \n",
    "    - weights as matrix"
   ]
  },
  {
   "cell_type": "markdown",
   "metadata": {
    "cell_style": "split",
    "slideshow": {
     "slide_type": "fragment"
    }
   },
   "source": [
    "2. Over training data, collect\n",
    "    - *tensors* of gradients\n",
    "    - *tensors* of weight matrices"
   ]
  },
  {
   "cell_type": "markdown",
   "metadata": {
    "cell_style": "split",
    "slideshow": {
     "slide_type": "fragment"
    }
   },
   "source": [
    "#### \"Tensors flows through the network!\""
   ]
  },
  {
   "cell_type": "markdown",
   "metadata": {
    "cell_style": "split"
   },
   "source": [
    "(tensors $\\approx$ \"matrices of any dimension\")"
   ]
  },
  {
   "cell_type": "markdown",
   "metadata": {
    "slideshow": {
     "slide_type": "slide"
    }
   },
   "source": [
    "# Summary -- Back-propagation\n",
    "\n",
    "##### Efficient computation of partial derivatives $\\frac{\\partial L(w,b|x)}{\\partial v}, v\\in w\\cup b$\n",
    "\n",
    "+ Chain rule allows computing partial derivatives layer-wise, backwards\n",
    "+ By collecting gradients and weights for layers in *tensors* over all training data, all computations in one epoch can be computed at the same time for all training data"
   ]
  },
  {
   "cell_type": "code",
   "execution_count": 316,
   "metadata": {
    "cell_style": "split",
    "hide_input": true,
    "slideshow": {
     "slide_type": "skip"
    }
   },
   "outputs": [
    {
     "data": {
      "image/png": "[encoded data removed]",
      "text/plain": [
       "<Figure size 720x720 with 1 Axes>"
      ]
     },
     "execution_count": 316,
     "metadata": {},
     "output_type": "execute_result"
    }
   ],
   "source": [
    "figExercise"
   ]
  }
 ],
 "metadata": {
  "celltoolbar": "Slideshow",
  "hide_input": false,
  "kernelspec": {
   "display_name": "Python [conda env:nn_dl_python] *",
   "language": "python",
   "name": "conda-env-nn_dl_python-py"
  },
  "language_info": {
   "codemirror_mode": {
    "name": "ipython",
    "version": 3
   },
   "file_extension": ".py",
   "mimetype": "text/x-python",
   "name": "python",
   "nbconvert_exporter": "python",
   "pygments_lexer": "ipython3",
   "version": "3.7.6"
  },
  "rise": {
   "enable_chalkboard": true
  }
 },
 "nbformat": 4,
 "nbformat_minor": 4
}
