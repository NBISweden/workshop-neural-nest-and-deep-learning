{
 "cells": [
  {
   "cell_type": "code",
   "execution_count": 323,
   "metadata": {
    "hide_input": true,
    "slideshow": {
     "slide_type": "skip"
    }
   },
   "outputs": [],
   "source": [
    "#!jt -t grade3 -ofs 18 -nfs 18 -tfs 24 -T"
   ]
  },
  {
   "cell_type": "markdown",
   "metadata": {},
   "source": [
    "Execute `Run all Cells` under the `Cell` menu, first, to format the markdown cells"
   ]
  },
  {
   "cell_type": "markdown",
   "metadata": {},
   "source": [
    "# Task 1\n",
    "\n",
    "Perform a forward pass and a backward pass on the two-neuron ffANN in the figure below to compute the gradient $\\frac{\\partial L(b,w|x)}{\\partial w_1}$ and use this to compute and updated weight $w'_1$.\n",
    "\n",
    "Don't worry! We will guide you through this, provide some template code and help fill in the values of the intermediate expression in a a Forward pass table and and Backward pass table, respectively."
   ]
  },
  {
   "cell_type": "code",
   "execution_count": 324,
   "metadata": {
    "cell_style": "center",
    "hide_input": true
   },
   "outputs": [
    {
     "data": {
      "image/png": "[encoded data removed]",
      "text/plain": [
       "<Figure size 720x720 with 1 Axes>"
      ]
     },
     "metadata": {
      "needs_background": "light"
     },
     "output_type": "display_data"
    }
   ],
   "source": [
    "import sys, os\n",
    "import numpy as np\n",
    "import matplotlib.pyplot as plt\n",
    "sys.path.append(os.path.abspath(os.path.join('..', 'common_assets')))\n",
    "from draw_neural_net import draw_neural_net\n",
    "\n",
    "def sigma(z):\n",
    "  return 1/(1+np.exp(-z))\n",
    "\n",
    "#-----1-1-1\n",
    "layer_sizes = [1,1,1]\n",
    "\n",
    "x= 0.05\n",
    "y = 0.1\n",
    "i1 = x\n",
    "w1 = 0.1\n",
    "w2=0.3\n",
    "b1 = -0.10\n",
    "b2 = 0.30\n",
    "z1 = w1*i1+b1\n",
    "a1 = sigma(z1)\n",
    "z2 = w2*a1+b2\n",
    "a2 = sigma(z2)\n",
    "C = 0.5 * (y-a2)**2\n",
    "# z1 = round(z1, 2)\n",
    "# a1 = round(a1, 2)\n",
    "# z2 = round(z2, 2)\n",
    "# a2 = round(a2, 2)\n",
    "# C = round(C,2)\n",
    "\n",
    "eta = 0.3\n",
    "\n",
    "dlda2 = a2-y\n",
    "da2dz2= a2*(1-a2)\n",
    "dcdz2 = dlda2 * da2dz2\n",
    "dz2da1 = w2\n",
    "dcda1 = dcdz2 * dz2da1\n",
    "da1dz1 = a1*(1-a1)\n",
    "dcdz1 = dcda1 * da1dz1\n",
    "dz1dw1 = i1\n",
    "dcdw1 = dcdz1 * dz1dw1\n",
    "\n",
    "wnew = w1 - eta * dcdw1\n",
    "\n",
    "weights = [\n",
    "    np.array(\n",
    "        [\n",
    "            [\"w_1:{}\".format(w1)]\n",
    "         ]\n",
    "    ),\n",
    "    np.array(\n",
    "        [\n",
    "            [ \"w_2:{}\".format(w2)]\n",
    "        ]\n",
    "    )\n",
    "]\n",
    "biases = [\n",
    "    np.array(\n",
    "        [\"{}\".format(b1)]\n",
    "    ), \n",
    "    np.array(\n",
    "        [\"{}\".format(b2)]\n",
    "    )\n",
    "]\n",
    "\n",
    "hidden = [\n",
    "                np.array(\n",
    "                [ r\"$i_1$\"]\n",
    "                ),\n",
    "                np.array(\n",
    "                [ r\"$z_1\\rightarrow a_1$\"]\n",
    "                ),\n",
    "                np.array(\n",
    "                [ r\"$z_2\\rightarrow a_2$\"]\n",
    "                ),\n",
    "]\n",
    "\n",
    "figExercise = plt.figure(figsize=(10, 10))\n",
    "ax = figExercise.gca()\n",
    "ignore=ax.axis('off')\n",
    "\n",
    "draw_neural_net(ax, \n",
    "                layerSizes = layer_sizes, \n",
    "                weights = weights, \n",
    "                otherNodePrefix = hidden,\n",
    "                biases=biases, \n",
    "                inputPrefix = [\"{}\".format(x)], \n",
    "                outputPrefix = \"\\hat{y}\",\n",
    "                nodeFontSize=20, edgeFontSize = 15, edgeWidth = 3\n",
    "               )\n",
    "#plt.show()"
   ]
  },
  {
   "cell_type": "markdown",
   "metadata": {},
   "source": [
    "## Forward pass\n",
    "\n",
    "Let's start by performing the forward pass of the ANN.\n",
    "\n",
    "We will start by creating variables to hold the values of the intermediate and final expressions"
   ]
  },
  {
   "cell_type": "code",
   "execution_count": 325,
   "metadata": {
    "hide_input": false
   },
   "outputs": [],
   "source": [
    "# Known variables\n",
    "# Initialize variables to values in figure\n",
    "x = 0.05\n",
    "y = 0.01\n",
    "w1 = 0.1\n",
    "b1 = -0.1\n",
    "w2 = 0.3\n",
    "b2 = 0.3\n",
    "\n",
    "# Unknown variables to be computed\n",
    "i1 = \"\"\n",
    "z1 = \"\"\n",
    "a1 = \"\"\n",
    "z2 = \"\"\n",
    "a2 = \"\"\n",
    "haty = \"\"\n",
    "L = \"\""
   ]
  },
  {
   "cell_type": "markdown",
   "metadata": {},
   "source": [
    "Execute the table cell below to display table"
   ]
  },
  {
   "cell_type": "code",
   "execution_count": 326,
   "metadata": {
    "hide_input": true
   },
   "outputs": [
    {
     "data": {
      "text/html": [
       "<style type=\"text/css\">\n",
       "#T_aef06_ th {\n",
       "  font-size: 18px;\n",
       "  max-width: 2.5cm;\n",
       "  text-align: left;\n",
       "}\n",
       "#T_aef06_ td {\n",
       "  font-size: 18px;\n",
       "  max-width: 2.5cm;\n",
       "  text-align: left;\n",
       "}\n",
       "</style>\n",
       "<table id=\"T_aef06_\">\n",
       "  <thead>\n",
       "    <tr>\n",
       "      <th class=\"col_heading level0 col0\" >$x$</th>\n",
       "      <th class=\"col_heading level0 col1\" >$y$</th>\n",
       "      <th class=\"col_heading level0 col2\" >$w_1$</th>\n",
       "      <th class=\"col_heading level0 col3\" >$b_1$</th>\n",
       "      <th class=\"col_heading level0 col4\" >$i_1$</th>\n",
       "      <th class=\"col_heading level0 col5\" >$z_1$</th>\n",
       "      <th class=\"col_heading level0 col6\" >$a_1$</th>\n",
       "      <th class=\"col_heading level0 col7\" >$w_2$</th>\n",
       "      <th class=\"col_heading level0 col8\" >$b_2$</th>\n",
       "      <th class=\"col_heading level0 col9\" >$z_2$</th>\n",
       "      <th class=\"col_heading level0 col10\" >$a_2$</th>\n",
       "      <th class=\"col_heading level0 col11\" >$\\hat{y}$</th>\n",
       "      <th class=\"col_heading level0 col12\" >$L(w,b|x)$</th>\n",
       "    </tr>\n",
       "  </thead>\n",
       "  <tbody>\n",
       "    <tr>\n",
       "      <td id=\"T_aef06_row0_col0\" class=\"data row0 col0\" >0.05</td>\n",
       "      <td id=\"T_aef06_row0_col1\" class=\"data row0 col1\" >0.01</td>\n",
       "      <td id=\"T_aef06_row0_col2\" class=\"data row0 col2\" >0.1</td>\n",
       "      <td id=\"T_aef06_row0_col3\" class=\"data row0 col3\" >-0.1</td>\n",
       "      <td id=\"T_aef06_row0_col4\" class=\"data row0 col4\" ></td>\n",
       "      <td id=\"T_aef06_row0_col5\" class=\"data row0 col5\" ></td>\n",
       "      <td id=\"T_aef06_row0_col6\" class=\"data row0 col6\" ></td>\n",
       "      <td id=\"T_aef06_row0_col7\" class=\"data row0 col7\" >0.3</td>\n",
       "      <td id=\"T_aef06_row0_col8\" class=\"data row0 col8\" >0.3</td>\n",
       "      <td id=\"T_aef06_row0_col9\" class=\"data row0 col9\" ></td>\n",
       "      <td id=\"T_aef06_row0_col10\" class=\"data row0 col10\" ></td>\n",
       "      <td id=\"T_aef06_row0_col11\" class=\"data row0 col11\" ></td>\n",
       "      <td id=\"T_aef06_row0_col12\" class=\"data row0 col12\" ></td>\n",
       "    </tr>\n",
       "  </tbody>\n",
       "</table>\n"
      ],
      "text/plain": [
       "<pandas.io.formats.style.Styler at 0x7fbb40c51cd0>"
      ]
     },
     "execution_count": 326,
     "metadata": {},
     "output_type": "execute_result"
    }
   ],
   "source": [
    "import pandas as pd\n",
    "\n",
    "# Some styling for the \n",
    "props1 = [\n",
    "    (\"font-size\", \"18px\"),\n",
    "    ('max-width', '2.5cm'),\n",
    "    ('text-align', 'left')\n",
    "#    ('padding', '2.5cm)')\n",
    "#    (\"font-size\", \"24px\"),\n",
    "#    ('max-width', '2cm'),\n",
    "#    ('text-align', 'center'),\n",
    "#    ('padding', '5cm)')\n",
    "]\n",
    "styles1 = [\n",
    "    dict(selector=\"th\", props=props1),\n",
    "    dict(selector=\"td\", props=props1),\n",
    "]\n",
    "colNames = { \n",
    "        \"x\" : r\"$x$\",\n",
    "        \"y\" : r\"$y$\",\n",
    "        \"w1\" : r\"$w_1$\",\n",
    "        \"b1\" : r\"$b_1$\",\n",
    "        \"i1\" : r\"$i_1$\", \n",
    "        \"z1\" : r\"$z_1$\", \n",
    "        \"a1\" : r\"$a_1$\",\n",
    "        \"w2\" : r\"$w_2$\",\n",
    "        \"b2\" : r\"$b_2$\",\n",
    "        \"z2\" : r\"$z_2$\",\n",
    "        \"a2\" : r\"$a_2$\",\n",
    "        \"haty\" : r\"$\\hat{y}$\",\n",
    "        \"L\" : \"$L(w,b|x)$\"\n",
    "}\n",
    "\n",
    "\n",
    "# Code below is what is needed to update table at each step\n",
    "tab = pd.Series(\n",
    "    { \n",
    "        \"x\" : format(x, \".2g\"), # Use this format to display nicely in table\n",
    "        \"y\" : format(y, \".2g\"),\n",
    "        \"w1\" : format(w1, \".2g\"), \n",
    "        \"b1\" : format(b1, \".2g\"), \n",
    "        \"i1\" : \"\" if isinstance(i1, str) else format(i1, \".2g\"), \n",
    "        \"z1\" : \"\" if isinstance(z1, str) else format(z1, \".2g\"), \n",
    "        \"a1\" : \"\" if isinstance(a1, str) else format(a1, \".2g\"), \n",
    "        \"w2\" : format(w2, \".2g\"), \n",
    "        \"b2\" : format(b2, \".2g\"),        \n",
    "        \"z2\" : \"\" if isinstance(z2, str) else format(z2, \".2g\"),\n",
    "        \"a2\" : \"\" if isinstance(a2, str) else format(a2, \".2g\"),\n",
    "        \"haty\" : \"\" if isinstance(haty, str) else format(haty, \".2g\"),\n",
    "        \"L\" : \"\" if isinstance(L, str) else format(L, \".2g\").center(12, '\\u00A0')\n",
    "    }\n",
    ")\n",
    "tab1=pd.DataFrame.rename(tab.to_frame().T, columns = colNames).style.hide_index().set_table_styles(styles1)\n",
    "tab1"
   ]
  },
  {
   "cell_type": "code",
   "execution_count": null,
   "metadata": {
    "hide_input": true
   },
   "outputs": [],
   "source": []
  },
  {
   "cell_type": "markdown",
   "metadata": {
    "cell_style": "center",
    "hide_input": false
   },
   "source": [
    "### Path of intermediate expressions\n",
    "\n",
    "First, notice that $i_1 = x$ and $\\hat{y} = a_2$.\n",
    "\n",
    "The path of intermediate expressions from $x$ to $L(b,w|x)$ is:\n",
    "\n",
    "$\\begin{eqnarray}\n",
    "z_1 &=&  w_1 i_1 + b_1\\\\\n",
    "a_1 &=& \\sigma(z_1) = \\frac{1}{1+e^{-z_1}}\\\\\n",
    "z_2 &=&  w_2 a_{1} + b_2\\\\\n",
    "a_2 &=& \\sigma(z_2) = \\frac{1}{1+e^{-z_2}}\\\\\n",
    "L(w,b|x) &=& \\frac{1}{2}\\left(y-\\hat{y}\\right)^2 = \\frac{1}{2}\\left(y-a_2\\right)^2\n",
    "\\end{eqnarray}$\n",
    "- *hint!*: to compute $\\sigma(z)$, use, e.g.\n",
    "```\n",
    "import tensorflow as tf\n",
    "tf.sigmoid(z).numpy()\n",
    "``` "
   ]
  },
  {
   "cell_type": "code",
   "execution_count": 327,
   "metadata": {},
   "outputs": [],
   "source": [
    "# Replace \"\" with the code to compute these variables\n",
    "import tensorflow as tf\n",
    "i1 = \"\"\n",
    "z1 = \"\"\n",
    "a1 = \"\"\n",
    "z2 = \"\"\n",
    "a2 = \"\"\n",
    "haty = \"\"\n",
    "L = \"\""
   ]
  },
  {
   "cell_type": "code",
   "execution_count": 328,
   "metadata": {
    "hide_input": true,
    "scrolled": true
   },
   "outputs": [
    {
     "data": {
      "text/html": [
       "<style type=\"text/css\">\n",
       "#T_590c2_ th {\n",
       "  font-size: 18px;\n",
       "  max-width: 2.5cm;\n",
       "  text-align: left;\n",
       "}\n",
       "#T_590c2_ td {\n",
       "  font-size: 18px;\n",
       "  max-width: 2.5cm;\n",
       "  text-align: left;\n",
       "}\n",
       "</style>\n",
       "<table id=\"T_590c2_\">\n",
       "  <thead>\n",
       "    <tr>\n",
       "      <th class=\"col_heading level0 col0\" >$x$</th>\n",
       "      <th class=\"col_heading level0 col1\" >$y$</th>\n",
       "      <th class=\"col_heading level0 col2\" >$w_1$</th>\n",
       "      <th class=\"col_heading level0 col3\" >$b_1$</th>\n",
       "      <th class=\"col_heading level0 col4\" >$i_1$</th>\n",
       "      <th class=\"col_heading level0 col5\" >$z_1$</th>\n",
       "      <th class=\"col_heading level0 col6\" >$a_1$</th>\n",
       "      <th class=\"col_heading level0 col7\" >$w_2$</th>\n",
       "      <th class=\"col_heading level0 col8\" >$b_2$</th>\n",
       "      <th class=\"col_heading level0 col9\" >$z_2$</th>\n",
       "      <th class=\"col_heading level0 col10\" >$a_2$</th>\n",
       "      <th class=\"col_heading level0 col11\" >$\\hat{y}$</th>\n",
       "      <th class=\"col_heading level0 col12\" >$L(w,b|x)$</th>\n",
       "    </tr>\n",
       "  </thead>\n",
       "  <tbody>\n",
       "    <tr>\n",
       "      <td id=\"T_590c2_row0_col0\" class=\"data row0 col0\" >0.05</td>\n",
       "      <td id=\"T_590c2_row0_col1\" class=\"data row0 col1\" >0.01</td>\n",
       "      <td id=\"T_590c2_row0_col2\" class=\"data row0 col2\" >0.1</td>\n",
       "      <td id=\"T_590c2_row0_col3\" class=\"data row0 col3\" >-0.1</td>\n",
       "      <td id=\"T_590c2_row0_col4\" class=\"data row0 col4\" >0.05</td>\n",
       "      <td id=\"T_590c2_row0_col5\" class=\"data row0 col5\" >-0.095</td>\n",
       "      <td id=\"T_590c2_row0_col6\" class=\"data row0 col6\" >0.48</td>\n",
       "      <td id=\"T_590c2_row0_col7\" class=\"data row0 col7\" >0.3</td>\n",
       "      <td id=\"T_590c2_row0_col8\" class=\"data row0 col8\" >0.3</td>\n",
       "      <td id=\"T_590c2_row0_col9\" class=\"data row0 col9\" >0.44</td>\n",
       "      <td id=\"T_590c2_row0_col10\" class=\"data row0 col10\" >0.61</td>\n",
       "      <td id=\"T_590c2_row0_col11\" class=\"data row0 col11\" >0.61</td>\n",
       "      <td id=\"T_590c2_row0_col12\" class=\"data row0 col12\" >    -0.3    </td>\n",
       "    </tr>\n",
       "  </tbody>\n",
       "</table>\n"
      ],
      "text/plain": [
       "<pandas.io.formats.style.Styler at 0x7fbb3f0295d0>"
      ]
     },
     "execution_count": 328,
     "metadata": {},
     "output_type": "execute_result"
    }
   ],
   "source": [
    "# Code below is what is needed to update table at each step\n",
    "tab = pd.Series(\n",
    "    { \n",
    "        \"x\" : format(x, \".2g\"), # Use this format to display nicely in table\n",
    "        \"y\" : format(y, \".2g\"),\n",
    "        \"w1\" : format(w1, \".2g\"), \n",
    "        \"b1\" : format(b1, \".2g\"), \n",
    "        \"i1\" : \"\" if isinstance(i1, str) else format(i1, \".2g\"), \n",
    "        \"z1\" : \"\" if isinstance(z1, str) else format(z1, \".2g\"), \n",
    "        \"a1\" : \"\" if isinstance(a1, str) else format(a1, \".2g\"), \n",
    "        \"w2\" : format(w2, \".2g\"), \n",
    "        \"b2\" : format(b2, \".2g\"),        \n",
    "        \"z2\" : \"\" if isinstance(z2, str) else format(z2, \".2g\"),\n",
    "        \"a2\" : \"\" if isinstance(a2, str) else format(a2, \".2g\"),\n",
    "        \"haty\" : \"\" if isinstance(haty, str) else format(haty, \".2g\"),\n",
    "        \"L\" : \"\" if isinstance(L, str) else format(L, \".2g\").center(12, '\\u00A0')\n",
    "    }\n",
    ")\n",
    "tab1=pd.DataFrame.rename(tab.to_frame().T, columns = colNames).style.hide_index().set_table_styles(styles1)\n",
    "tab1"
   ]
  },
  {
   "cell_type": "markdown",
   "metadata": {},
   "source": [
    "## Task 2 \n",
    "\n",
    "Perform a backward pass to update the value of $w_1$, that is, use the chain rule to split $\\frac{\\partial L(b,w|x)}{\\partial w_1}$, create variables for the intermediate expressions and compute their values, values compute the value of $\\frac{\\partial L(b,w|x)}{\\partial w_1}$, and compute $w'_2$ (i.e., the updated value of $w_2$)\n",
    "\n",
    "Let's first print out the ANN and the table with values from the forward pass again, just to have them handy "
   ]
  },
  {
   "cell_type": "code",
   "execution_count": 331,
   "metadata": {
    "cell_style": "center",
    "hide_input": true
   },
   "outputs": [
    {
     "data": {
      "image/png": "[encoded data removed]",
      "text/plain": [
       "<Figure size 720x720 with 1 Axes>"
      ]
     },
     "execution_count": 331,
     "metadata": {},
     "output_type": "execute_result"
    }
   ],
   "source": [
    "figExercise"
   ]
  },
  {
   "cell_type": "code",
   "execution_count": 332,
   "metadata": {
    "hide_input": true
   },
   "outputs": [
    {
     "data": {
      "text/html": [
       "<style type=\"text/css\">\n",
       "#T_590c2_ th {\n",
       "  font-size: 18px;\n",
       "  max-width: 2.5cm;\n",
       "  text-align: left;\n",
       "}\n",
       "#T_590c2_ td {\n",
       "  font-size: 18px;\n",
       "  max-width: 2.5cm;\n",
       "  text-align: left;\n",
       "}\n",
       "</style>\n",
       "<table id=\"T_590c2_\">\n",
       "  <thead>\n",
       "    <tr>\n",
       "      <th class=\"col_heading level0 col0\" >$x$</th>\n",
       "      <th class=\"col_heading level0 col1\" >$y$</th>\n",
       "      <th class=\"col_heading level0 col2\" >$w_1$</th>\n",
       "      <th class=\"col_heading level0 col3\" >$b_1$</th>\n",
       "      <th class=\"col_heading level0 col4\" >$i_1$</th>\n",
       "      <th class=\"col_heading level0 col5\" >$z_1$</th>\n",
       "      <th class=\"col_heading level0 col6\" >$a_1$</th>\n",
       "      <th class=\"col_heading level0 col7\" >$w_2$</th>\n",
       "      <th class=\"col_heading level0 col8\" >$b_2$</th>\n",
       "      <th class=\"col_heading level0 col9\" >$z_2$</th>\n",
       "      <th class=\"col_heading level0 col10\" >$a_2$</th>\n",
       "      <th class=\"col_heading level0 col11\" >$\\hat{y}$</th>\n",
       "      <th class=\"col_heading level0 col12\" >$L(w,b|x)$</th>\n",
       "    </tr>\n",
       "  </thead>\n",
       "  <tbody>\n",
       "    <tr>\n",
       "      <td id=\"T_590c2_row0_col0\" class=\"data row0 col0\" >0.05</td>\n",
       "      <td id=\"T_590c2_row0_col1\" class=\"data row0 col1\" >0.01</td>\n",
       "      <td id=\"T_590c2_row0_col2\" class=\"data row0 col2\" >0.1</td>\n",
       "      <td id=\"T_590c2_row0_col3\" class=\"data row0 col3\" >-0.1</td>\n",
       "      <td id=\"T_590c2_row0_col4\" class=\"data row0 col4\" >0.05</td>\n",
       "      <td id=\"T_590c2_row0_col5\" class=\"data row0 col5\" >-0.095</td>\n",
       "      <td id=\"T_590c2_row0_col6\" class=\"data row0 col6\" >0.48</td>\n",
       "      <td id=\"T_590c2_row0_col7\" class=\"data row0 col7\" >0.3</td>\n",
       "      <td id=\"T_590c2_row0_col8\" class=\"data row0 col8\" >0.3</td>\n",
       "      <td id=\"T_590c2_row0_col9\" class=\"data row0 col9\" >0.44</td>\n",
       "      <td id=\"T_590c2_row0_col10\" class=\"data row0 col10\" >0.61</td>\n",
       "      <td id=\"T_590c2_row0_col11\" class=\"data row0 col11\" >0.61</td>\n",
       "      <td id=\"T_590c2_row0_col12\" class=\"data row0 col12\" >    -0.3    </td>\n",
       "    </tr>\n",
       "  </tbody>\n",
       "</table>\n"
      ],
      "text/plain": [
       "<pandas.io.formats.style.Styler at 0x7fbb3f0295d0>"
      ]
     },
     "execution_count": 332,
     "metadata": {},
     "output_type": "execute_result"
    }
   ],
   "source": [
    "tab1"
   ]
  },
  {
   "cell_type": "markdown",
   "metadata": {},
   "source": [
    "### 1. The relevant path\n",
    "\n",
    "The path from $w_1$ to $L(w,b|x)$ is\n",
    "\n",
    "$\\begin{eqnarray}\n",
    "z_1 &=&  w_1 i_1 + b_1\\\\\n",
    "a_1 &=& \\sigma(z_1) = \\frac{1}{1+e^{-z_1}}\\\\\n",
    "z_2 &=&  w_2 a_{1} + b_2\\\\\n",
    "a_2 &=& \\sigma(z_2) = \\frac{1}{1+e^{-z_2}}\\\\\n",
    "L(w,b|x) &=& \\frac{1}{2}\\left(y-\\hat{y}\\right)^2 = \\frac{1}{2}\\left(y-a_2\\right)^2\n",
    "\\end{eqnarray}$\n",
    "\n",
    "### 2. Apply the chain  rule\n",
    "\n",
    "Appying the chain rule on $a$'s and $z$'s of the layers backwards (from right to left in the figure) gives (green color indicates which expression to split in the next row):\n",
    "\n",
    "<!--\n",
    "$\\hspace{1cm}\\begin{eqnarray} \n",
    "\\frac{\\partial L(w,b|x)}{\\partial w_1} &=&  \\frac{\\partial a_2}{\\partial w_1}\\times \\frac{\\partial L(w,b|x)}{\\partial a_2} \n",
    "\\end{eqnarray}$\n",
    "\n",
    "$\\hspace{1cm}\\begin{eqnarray} \n",
    "\\frac{\\partial a_2}{\\partial w_1} &=&  \\frac{\\partial z_2}{\\partial w_1}\\times \\frac{\\partial a_2}{\\partial z_2} \n",
    "\\end{eqnarray}$\n",
    "\n",
    "$\\hspace{1cm}\\begin{eqnarray} \n",
    "\\frac{\\partial z_2}{\\partial w_1} &=&  \\frac{\\partial a_1}{\\partial w_1}\\times \\frac{\\partial z_2}{\\partial a_1} \n",
    "\\end{eqnarray}$\n",
    "\n",
    "$\\hspace{1cm}\\begin{eqnarray} \n",
    "\\frac{\\partial a_1}{\\partial w_1} &=&  \\frac{\\partial z_1}{\\partial w_1}\\times \\frac{\\partial a_1}{\\partial z_1} \n",
    "\\end{eqnarray}$\n",
    "\n",
    "$\\hspace{1cm}\\begin{eqnarray} \n",
    "\\frac{\\partial z_1}{\\partial w_1x} &=&  \\frac{\\partial w_1 \\times i_1 + b_1}{\\partial w_1}\n",
    "\\end{eqnarray}$\n",
    "-->\n",
    "\n",
    "\n",
    "$\\hspace{1cm}\\begin{eqnarray} \n",
    "\\frac{\\partial L(w,b|x)}{\\partial w_1} \n",
    "&=&  \n",
    "\\color{green}{\\frac{\\partial a_2}{\\partial w_1}} \n",
    "\\times \\frac{\\partial L(w,b|x)}{\\partial a_2} \\\\\n",
    "%\\frac{\\partial L(w,b|x)}{\\partial w_1} \n",
    "&=&  \n",
    "\\color{green}{\\frac{\\partial z_2}{\\partial w_1}}\n",
    "\\times \\frac{\\partial a_2}{\\partial z_2} \n",
    "\\times \\frac{\\partial L(w,b|x)}{\\partial a_2} \\\\\n",
    "%\\frac{\\partial L(w,b|x)}{\\partial w_1} \n",
    "&=&  \n",
    "\\color{green}{\\frac{\\partial a_1}{\\partial w_1}}\n",
    "\\times \\frac{\\partial z_2}{\\partial a_1}\n",
    "\\times \\frac{\\partial a_2}{\\partial z_2} \n",
    "\\times \\frac{\\partial L(w,b|x)}{\\partial a_2} \\\\\n",
    "%\\frac{\\partial L(w,b|x)}{\\partial w_1} \n",
    "&=&  \n",
    "\\color{green}{\\frac{\\partial z_1}{\\partial w_1}}\n",
    "\\times \\frac{\\partial a_1}{\\partial z_1} \n",
    "\\times \\frac{\\partial z_2}{\\partial a_1}\n",
    "\\times \\frac{\\partial a_2}{\\partial z_2} \n",
    "\\times \\frac{\\partial L(w,b|x)}{\\partial a_2} \n",
    "\\end{eqnarray}$\n",
    "\n",
    "We see that we have already computed the last of these partial derivatives, namely $\\frac{\\partial a_2}{\\partial z_2}$ and $\\frac{\\partial L(w,b|x)}{\\partial a_2}$. This is a very nice feature of back-propagation:  \n",
    "$\\quad$_If we have computed the values of partial derivatives for a layer, we can **reuse** these expressions in the preceeding layer._\n",
    "\n",
    "(In computer science terms, back propagation is a _dynamic programming_ algorithm, that is, it is works in an iterative fashion, tabulates the values from one iteration (=layer), and reuses them in the next iteration in the algorithm (i.e., the previous layer, since we go backwards).)\n",
    "\n",
    "Let's set up python variables for these intermediate expressions (reuse the ones already computed!):"
   ]
  },
  {
   "cell_type": "code",
   "execution_count": 1,
   "metadata": {
    "hide_input": false
   },
   "outputs": [],
   "source": [
    "# Unknown variables to compute in Back-propagation\n",
    "\n",
    "#dLda2 = a2 - y # Already computed, reuse\n",
    "#da2dz2 = a2 * (1-a2) # Already computed, reuse!\n",
    "dz2da1 = \"\"\n",
    "da1dz1 = \"\"\n",
    "dz1dw1 = \"\"\n",
    "dLdw1 = \"\"\n",
    "eta = 0.05\n",
    "w1new = \"\"\n"
   ]
  },
  {
   "cell_type": "markdown",
   "metadata": {},
   "source": [
    "And a table with these values (execute the table cell to update the table!)"
   ]
  },
  {
   "cell_type": "code",
   "execution_count": 334,
   "metadata": {
    "cell_style": "center",
    "hide_input": true
   },
   "outputs": [
    {
     "data": {
      "text/html": [
       "<style type=\"text/css\">\n",
       "#T_75528_ th {\n",
       "  font-size: 18px;\n",
       "  max-width: 2.5cm;\n",
       "  text-align: left;\n",
       "}\n",
       "#T_75528_ td {\n",
       "  font-size: 18px;\n",
       "  max-width: 2.5cm;\n",
       "  text-align: left;\n",
       "}\n",
       "</style>\n",
       "<table id=\"T_75528_\">\n",
       "  <thead>\n",
       "    <tr>\n",
       "      <th class=\"col_heading level0 col0\" >$w'_1$</th>\n",
       "      <th class=\"col_heading level0 col1\" >$\\eta$</th>\n",
       "      <th class=\"col_heading level0 col2\" >$\\frac{\\partial L(w,b|x)}{\\partial w_1}$</th>\n",
       "      <th class=\"col_heading level0 col3\" >$\\frac{\\partial z_1}{\\partial w_1}$</th>\n",
       "      <th class=\"col_heading level0 col4\" >$\\frac{\\partial a_1}{\\partial z_1}$</th>\n",
       "      <th class=\"col_heading level0 col5\" >$\\frac{\\partial z_2}{\\partial a_1}$</th>\n",
       "      <th class=\"col_heading level0 col6\" >$\\frac{\\partial a_2}{\\partial z_2}$</th>\n",
       "      <th class=\"col_heading level0 col7\" >$\\frac{\\partial L(w,b|x)}{\\partial a_2}$</th>\n",
       "    </tr>\n",
       "  </thead>\n",
       "  <tbody>\n",
       "    <tr>\n",
       "      <td id=\"T_75528_row0_col0\" class=\"data row0 col0\" ></td>\n",
       "      <td id=\"T_75528_row0_col1\" class=\"data row0 col1\" >0.05</td>\n",
       "      <td id=\"T_75528_row0_col2\" class=\"data row0 col2\" ></td>\n",
       "      <td id=\"T_75528_row0_col3\" class=\"data row0 col3\" ></td>\n",
       "      <td id=\"T_75528_row0_col4\" class=\"data row0 col4\" ></td>\n",
       "      <td id=\"T_75528_row0_col5\" class=\"data row0 col5\" ></td>\n",
       "      <td id=\"T_75528_row0_col6\" class=\"data row0 col6\" >0.24</td>\n",
       "      <td id=\"T_75528_row0_col7\" class=\"data row0 col7\" >    0.51    </td>\n",
       "    </tr>\n",
       "  </tbody>\n",
       "</table>\n"
      ],
      "text/plain": [
       "<pandas.io.formats.style.Styler at 0x7fbb3f547ed0>"
      ]
     },
     "execution_count": 334,
     "metadata": {},
     "output_type": "execute_result"
    }
   ],
   "source": [
    "props2 = [\n",
    "    (\"font-size\", \"18px\"),\n",
    "    ('max-width', '3cm'),\n",
    "    ('text-align', 'center')\n",
    "]\n",
    "styles2 = [\n",
    "    dict(selector=\"th\", props = props2),\n",
    "    dict(selector=\"td\", props=props2)\n",
    "]\n",
    "\n",
    "colNames = { \n",
    "    \"w1new\" : r\"$w'_1$\",\n",
    "    \"eta\" : r\"$\\eta$\",\n",
    "    \"dLdw1\" : r\"$\\frac{\\partial L(w,b|x)}{\\partial w_1}$\",\n",
    "    \"dz1dw1\" : r\"$\\frac{\\partial z_1}{\\partial w_1}$\",\n",
    "    \"da1dz1\" : r\"$\\frac{\\partial a_1}{\\partial z_1}$\",\n",
    "    \"dz2da1\" : r\"$\\frac{\\partial z_2}{\\partial a_1}$\",\n",
    "    \"da2dz2\" : r\"$\\frac{\\partial a_2}{\\partial z_2}$\",\n",
    "    \"dLda2\" : r\"$\\frac{\\partial L(w,b|x)}{\\partial a_2}$\"\n",
    "}\n",
    "\n",
    "# Code below is what is needed to update table at each step\n",
    "tab3 = pd.Series(\n",
    "    { \n",
    "        \"w1new\" : \"\" if isinstance(w1new, str) else format(w1new, \".2g\"),\n",
    "        \"eta\" : \"\" if isinstance(eta, str) else format(eta, \".2g\"),\n",
    "        \"dLdw1\" : \"\" if isinstance(dLdw1, str) else format(dLdw1, \".2g\"), \n",
    "        \"dz1dw1\" : \"\" if isinstance(dz1dw1, str) else format(dz1dw1, \".2g\"),\n",
    "        \"da1dz1\" : \"\" if isinstance(da1dz1, str) else format(da1dz1, \".2g\"), \n",
    "        \"dz2da1\" : \"\" if isinstance(dz2da1, str) else format(dz2da1, \".2g\"),\n",
    "        \"da2dz2\" : \"\" if isinstance(da2dz2, str) else format(da2dz2, \".2g\"),\n",
    "        \"dLda2\" : \"\" if isinstance(dlda2, str) else format(dlda2, \".2g\").center(12, '\\u00A0')\n",
    "    }\n",
    ")\n",
    "\n",
    "\n",
    "\n",
    "tab3 = pd.DataFrame.rename(tab3.to_frame().T, columns = colNames).style.hide_index().set_table_styles(styles1)\n",
    "tab3\n"
   ]
  },
  {
   "cell_type": "markdown",
   "metadata": {
    "cell_style": "center"
   },
   "source": [
    "### 3. Solve partial derivatives 1$\n",
    "$\\begin{eqnarray}\n",
    "\\frac{\\partial z_2}{\\partial a_1} \n",
    "&=&  \\frac{\\partial w_2 a_1 +b_1}{\\partial a_1} \\\\\n",
    "&=& w_2\n",
    "\\end{eqnarray}"
   ]
  },
  {
   "cell_type": "code",
   "execution_count": 335,
   "metadata": {
    "cell_style": "center"
   },
   "outputs": [],
   "source": [
    "# Replace \"\" with the code to compute these variables\n",
    "dz2da1 = \"\""
   ]
  },
  {
   "cell_type": "markdown",
   "metadata": {},
   "source": [
    "And a table with these values (execute the table cell to update the table!)"
   ]
  },
  {
   "cell_type": "code",
   "execution_count": 336,
   "metadata": {
    "hide_input": true
   },
   "outputs": [
    {
     "data": {
      "text/html": [
       "<style type=\"text/css\">\n",
       "#T_b4c1c_ th {\n",
       "  font-size: 18px;\n",
       "  max-width: 2.5cm;\n",
       "  text-align: left;\n",
       "}\n",
       "#T_b4c1c_ td {\n",
       "  font-size: 18px;\n",
       "  max-width: 2.5cm;\n",
       "  text-align: left;\n",
       "}\n",
       "</style>\n",
       "<table id=\"T_b4c1c_\">\n",
       "  <thead>\n",
       "    <tr>\n",
       "      <th class=\"col_heading level0 col0\" >$w'_1$</th>\n",
       "      <th class=\"col_heading level0 col1\" >$\\eta$</th>\n",
       "      <th class=\"col_heading level0 col2\" >$\\frac{\\partial L(w,b|x)}{\\partial w_1}$</th>\n",
       "      <th class=\"col_heading level0 col3\" >$\\frac{\\partial z_1}{\\partial w_1}$</th>\n",
       "      <th class=\"col_heading level0 col4\" >$\\frac{\\partial a_1}{\\partial z_1}$</th>\n",
       "      <th class=\"col_heading level0 col5\" >$\\frac{\\partial z_2}{\\partial a_1}$</th>\n",
       "      <th class=\"col_heading level0 col6\" >$\\frac{\\partial a_2}{\\partial z_2}$</th>\n",
       "      <th class=\"col_heading level0 col7\" >$\\frac{\\partial L(w,b|x)}{\\partial a_2}$</th>\n",
       "    </tr>\n",
       "  </thead>\n",
       "  <tbody>\n",
       "    <tr>\n",
       "      <td id=\"T_b4c1c_row0_col0\" class=\"data row0 col0\" ></td>\n",
       "      <td id=\"T_b4c1c_row0_col1\" class=\"data row0 col1\" >0.05</td>\n",
       "      <td id=\"T_b4c1c_row0_col2\" class=\"data row0 col2\" ></td>\n",
       "      <td id=\"T_b4c1c_row0_col3\" class=\"data row0 col3\" ></td>\n",
       "      <td id=\"T_b4c1c_row0_col4\" class=\"data row0 col4\" ></td>\n",
       "      <td id=\"T_b4c1c_row0_col5\" class=\"data row0 col5\" >0.3</td>\n",
       "      <td id=\"T_b4c1c_row0_col6\" class=\"data row0 col6\" >0.24</td>\n",
       "      <td id=\"T_b4c1c_row0_col7\" class=\"data row0 col7\" >    0.51    </td>\n",
       "    </tr>\n",
       "  </tbody>\n",
       "</table>\n"
      ],
      "text/plain": [
       "<pandas.io.formats.style.Styler at 0x7fbb409627d0>"
      ]
     },
     "execution_count": 336,
     "metadata": {},
     "output_type": "execute_result"
    }
   ],
   "source": [
    "# Code below is what is needed to update table at each step\n",
    "tab3 = pd.Series(\n",
    "    { \n",
    "        \"w1new\" : \"\" if isinstance(w1new, str) else format(w1new, \".2g\"),\n",
    "        \"eta\" : \"\" if isinstance(eta, str) else format(eta, \".2g\"),\n",
    "        \"dLdw1\" : \"\" if isinstance(dLdw1, str) else format(dLdw1, \".2g\"), \n",
    "        \"dz1dw1\" : \"\" if isinstance(dz1dw1, str) else format(dz1dw1, \".2g\"),\n",
    "        \"da1dz1\" : \"\" if isinstance(da1dz1, str) else format(da1dz1, \".2g\"), \n",
    "        \"dz2da1\" : \"\" if isinstance(dz2da1, str) else format(dz2da1, \".2g\"),\n",
    "        \"da2dz2\" : \"\" if isinstance(da2dz2, str) else format(da2dz2, \".2g\"),\n",
    "        \"dLda2\" : \"\" if isinstance(dlda2, str) else format(dlda2, \".2g\").center(12, '\\u00A0')\n",
    "    }\n",
    ")\n",
    "\n",
    "\n",
    "\n",
    "tab3 = pd.DataFrame.rename(tab3.to_frame().T, columns = colNames).style.hide_index().set_table_styles(styles1)\n",
    "tab3\n",
    "\n"
   ]
  },
  {
   "cell_type": "markdown",
   "metadata": {
    "cell_style": "center"
   },
   "source": [
    "### 3. Solve partial derivatives 2\n",
    "$\\begin{eqnarray}\n",
    "\\frac{\\partial a_1}{\\partial z_2} \n",
    "&=&  \\frac{\\partial \\sigma(z_2)}{\\partial z_2} \\\\\n",
    "&=& \\sigma(z_2)\\left(1-\\sigma(z_2)\\right)\\\\\n",
    "&=& a_1\\left(1-a_1\\right)\n",
    "\\end{eqnarray}$"
   ]
  },
  {
   "cell_type": "code",
   "execution_count": 337,
   "metadata": {},
   "outputs": [],
   "source": [
    "# Replace \"\" with the code to compute these variables\n",
    "da1dz1 = \"\""
   ]
  },
  {
   "cell_type": "markdown",
   "metadata": {},
   "source": [
    "And a table with these values (execute the table cell to update the table!)"
   ]
  },
  {
   "cell_type": "code",
   "execution_count": 338,
   "metadata": {
    "cell_style": "center",
    "hide_input": true,
    "scrolled": true,
    "slideshow": {
     "slide_type": "-"
    }
   },
   "outputs": [
    {
     "data": {
      "text/html": [
       "<style type=\"text/css\">\n",
       "#T_1c5df_ th {\n",
       "  font-size: 18px;\n",
       "  max-width: 2.5cm;\n",
       "  text-align: left;\n",
       "}\n",
       "#T_1c5df_ td {\n",
       "  font-size: 18px;\n",
       "  max-width: 2.5cm;\n",
       "  text-align: left;\n",
       "}\n",
       "</style>\n",
       "<table id=\"T_1c5df_\">\n",
       "  <thead>\n",
       "    <tr>\n",
       "      <th class=\"col_heading level0 col0\" >$w'_1$</th>\n",
       "      <th class=\"col_heading level0 col1\" >$\\eta$</th>\n",
       "      <th class=\"col_heading level0 col2\" >$\\frac{\\partial L(w,b|x)}{\\partial w_1}$</th>\n",
       "      <th class=\"col_heading level0 col3\" >$\\frac{\\partial z_1}{\\partial w_1}$</th>\n",
       "      <th class=\"col_heading level0 col4\" >$\\frac{\\partial a_1}{\\partial z_1}$</th>\n",
       "      <th class=\"col_heading level0 col5\" >$\\frac{\\partial z_2}{\\partial a_1}$</th>\n",
       "      <th class=\"col_heading level0 col6\" >$\\frac{\\partial a_2}{\\partial z_2}$</th>\n",
       "      <th class=\"col_heading level0 col7\" >$\\frac{\\partial L(w,b|x)}{\\partial a_2}$</th>\n",
       "    </tr>\n",
       "  </thead>\n",
       "  <tbody>\n",
       "    <tr>\n",
       "      <td id=\"T_1c5df_row0_col0\" class=\"data row0 col0\" ></td>\n",
       "      <td id=\"T_1c5df_row0_col1\" class=\"data row0 col1\" >0.05</td>\n",
       "      <td id=\"T_1c5df_row0_col2\" class=\"data row0 col2\" ></td>\n",
       "      <td id=\"T_1c5df_row0_col3\" class=\"data row0 col3\" ></td>\n",
       "      <td id=\"T_1c5df_row0_col4\" class=\"data row0 col4\" >0.25</td>\n",
       "      <td id=\"T_1c5df_row0_col5\" class=\"data row0 col5\" >0.3</td>\n",
       "      <td id=\"T_1c5df_row0_col6\" class=\"data row0 col6\" >0.24</td>\n",
       "      <td id=\"T_1c5df_row0_col7\" class=\"data row0 col7\" >    0.51    </td>\n",
       "    </tr>\n",
       "  </tbody>\n",
       "</table>\n"
      ],
      "text/plain": [
       "<pandas.io.formats.style.Styler at 0x7fbb3f94f050>"
      ]
     },
     "execution_count": 338,
     "metadata": {},
     "output_type": "execute_result"
    }
   ],
   "source": [
    "# Code below is what is needed to update table at each step\n",
    "tab3 = pd.Series(\n",
    "    { \n",
    "        \"w1new\" : \"\" if isinstance(w1new, str) else format(w1new, \".2g\"),\n",
    "        \"eta\" : \"\" if isinstance(eta, str) else format(eta, \".2g\"),\n",
    "        \"dLdw1\" : \"\" if isinstance(dLdw1, str) else format(dLdw1, \".2g\"), \n",
    "        \"dz1dw1\" : \"\" if isinstance(dz1dw1, str) else format(dz1dw1, \".2g\"),\n",
    "        \"da1dz1\" : \"\" if isinstance(da1dz1, str) else format(da1dz1, \".2g\"), \n",
    "        \"dz2da1\" : \"\" if isinstance(dz2da1, str) else format(dz2da1, \".2g\"),\n",
    "        \"da2dz2\" : \"\" if isinstance(da2dz2, str) else format(da2dz2, \".2g\"),\n",
    "        \"dLda2\" : \"\" if isinstance(dlda2, str) else format(dlda2, \".2g\").center(12, '\\u00A0')\n",
    "    }\n",
    ")\n",
    "\n",
    "\n",
    "\n",
    "tab3 = pd.DataFrame.rename(tab3.to_frame().T, columns = colNames).style.hide_index().set_table_styles(styles1)\n",
    "tab3\n",
    "\n"
   ]
  },
  {
   "cell_type": "markdown",
   "metadata": {
    "cell_style": "split"
   },
   "source": [
    "### 3. Solve partial derivatives  3\n",
    "$\\begin{eqnarray}\n",
    "\\frac{\\partial z_1}{\\partial w_1} \n",
    "&=&  \\frac{\\partial w_1 i_1 + b_1}{\\partial w_1}\\\\\n",
    "&=& i_1\n",
    "\\end{eqnarray}$"
   ]
  },
  {
   "cell_type": "code",
   "execution_count": 339,
   "metadata": {},
   "outputs": [],
   "source": [
    "# Replace \"\" with the code to compute these variables\n",
    "dz1dw1 = \"\""
   ]
  },
  {
   "cell_type": "markdown",
   "metadata": {},
   "source": [
    "And a table with these values (execute the table cell to update the table!)"
   ]
  },
  {
   "cell_type": "code",
   "execution_count": 340,
   "metadata": {
    "hide_input": true,
    "scrolled": true,
    "slideshow": {
     "slide_type": "-"
    }
   },
   "outputs": [
    {
     "data": {
      "text/html": [
       "<style type=\"text/css\">\n",
       "#T_534dc_ th {\n",
       "  font-size: 18px;\n",
       "  max-width: 2.5cm;\n",
       "  text-align: left;\n",
       "}\n",
       "#T_534dc_ td {\n",
       "  font-size: 18px;\n",
       "  max-width: 2.5cm;\n",
       "  text-align: left;\n",
       "}\n",
       "</style>\n",
       "<table id=\"T_534dc_\">\n",
       "  <thead>\n",
       "    <tr>\n",
       "      <th class=\"col_heading level0 col0\" >$w'_1$</th>\n",
       "      <th class=\"col_heading level0 col1\" >$\\eta$</th>\n",
       "      <th class=\"col_heading level0 col2\" >$\\frac{\\partial L(w,b|x)}{\\partial w_1}$</th>\n",
       "      <th class=\"col_heading level0 col3\" >$\\frac{\\partial z_1}{\\partial w_1}$</th>\n",
       "      <th class=\"col_heading level0 col4\" >$\\frac{\\partial a_1}{\\partial z_1}$</th>\n",
       "      <th class=\"col_heading level0 col5\" >$\\frac{\\partial z_2}{\\partial a_1}$</th>\n",
       "      <th class=\"col_heading level0 col6\" >$\\frac{\\partial a_2}{\\partial z_2}$</th>\n",
       "      <th class=\"col_heading level0 col7\" >$\\frac{\\partial L(w,b|x)}{\\partial a_2}$</th>\n",
       "    </tr>\n",
       "  </thead>\n",
       "  <tbody>\n",
       "    <tr>\n",
       "      <td id=\"T_534dc_row0_col0\" class=\"data row0 col0\" ></td>\n",
       "      <td id=\"T_534dc_row0_col1\" class=\"data row0 col1\" >0.05</td>\n",
       "      <td id=\"T_534dc_row0_col2\" class=\"data row0 col2\" ></td>\n",
       "      <td id=\"T_534dc_row0_col3\" class=\"data row0 col3\" >0.05</td>\n",
       "      <td id=\"T_534dc_row0_col4\" class=\"data row0 col4\" >0.25</td>\n",
       "      <td id=\"T_534dc_row0_col5\" class=\"data row0 col5\" >0.3</td>\n",
       "      <td id=\"T_534dc_row0_col6\" class=\"data row0 col6\" >0.24</td>\n",
       "      <td id=\"T_534dc_row0_col7\" class=\"data row0 col7\" >    0.51    </td>\n",
       "    </tr>\n",
       "  </tbody>\n",
       "</table>\n"
      ],
      "text/plain": [
       "<pandas.io.formats.style.Styler at 0x7fbb3fa5f850>"
      ]
     },
     "execution_count": 340,
     "metadata": {},
     "output_type": "execute_result"
    }
   ],
   "source": [
    "# Code below is what is needed to update table at each step\n",
    "tab3 = pd.Series(\n",
    "    { \n",
    "        \"w1new\" : \"\" if isinstance(w1new, str) else format(w1new, \".2g\"),\n",
    "        \"eta\" : \"\" if isinstance(eta, str) else format(eta, \".2g\"),\n",
    "        \"dLdw1\" : \"\" if isinstance(dLdw1, str) else format(dLdw1, \".2g\"), \n",
    "        \"dz1dw1\" : \"\" if isinstance(dz1dw1, str) else format(dz1dw1, \".2g\"),\n",
    "        \"da1dz1\" : \"\" if isinstance(da1dz1, str) else format(da1dz1, \".2g\"), \n",
    "        \"dz2da1\" : \"\" if isinstance(dz2da1, str) else format(dz2da1, \".2g\"),\n",
    "        \"da2dz2\" : \"\" if isinstance(da2dz2, str) else format(da2dz2, \".2g\"),\n",
    "        \"dLda2\" : \"\" if isinstance(dlda2, str) else format(dlda2, \".2g\").center(12, '\\u00A0')\n",
    "    }\n",
    ")\n",
    "\n",
    "\n",
    "\n",
    "tab3 = pd.DataFrame.rename(tab3.to_frame().T, columns = colNames).style.hide_index().set_table_styles(styles1)\n",
    "tab3\n",
    "\n"
   ]
  },
  {
   "cell_type": "markdown",
   "metadata": {
    "cell_style": "center"
   },
   "source": [
    "### 4. Compute the requested (full) partial derivative\n",
    "\n",
    "$\\begin{eqnarray}\n",
    "\\frac{\\partial L(b,w|x)}{\\partial w_1} \n",
    "&=&  \n",
    "\\frac{\\partial z_1}{\\partial w_1} \n",
    "\\times\n",
    "\\frac{\\partial a_1}{\\partial z_1} \n",
    "\\times\n",
    "\\frac{\\partial z_2}{\\partial a_1} \n",
    "\\times\n",
    "\\frac{\\partial a_2}{\\partial z_2} \n",
    "\\times\n",
    "\\frac{\\partial L(b,w|x)}{\\partial a_2} \n",
    "\\end{eqnarray}$"
   ]
  },
  {
   "cell_type": "code",
   "execution_count": 341,
   "metadata": {},
   "outputs": [],
   "source": [
    "# Replace \"\" with the code to compute these variables\n",
    "dLdw1 = \"\""
   ]
  },
  {
   "cell_type": "markdown",
   "metadata": {},
   "source": [
    "And a table with these values (execute the table cell to update the table!)"
   ]
  },
  {
   "cell_type": "code",
   "execution_count": 342,
   "metadata": {
    "hide_input": true,
    "scrolled": true,
    "slideshow": {
     "slide_type": "-"
    }
   },
   "outputs": [
    {
     "data": {
      "text/html": [
       "<style type=\"text/css\">\n",
       "#T_6a1d8_ th {\n",
       "  font-size: 18px;\n",
       "  max-width: 2.5cm;\n",
       "  text-align: left;\n",
       "}\n",
       "#T_6a1d8_ td {\n",
       "  font-size: 18px;\n",
       "  max-width: 2.5cm;\n",
       "  text-align: left;\n",
       "}\n",
       "</style>\n",
       "<table id=\"T_6a1d8_\">\n",
       "  <thead>\n",
       "    <tr>\n",
       "      <th class=\"col_heading level0 col0\" >$w'_1$</th>\n",
       "      <th class=\"col_heading level0 col1\" >$\\eta$</th>\n",
       "      <th class=\"col_heading level0 col2\" >$\\frac{\\partial L(w,b|x)}{\\partial w_1}$</th>\n",
       "      <th class=\"col_heading level0 col3\" >$\\frac{\\partial z_1}{\\partial w_1}$</th>\n",
       "      <th class=\"col_heading level0 col4\" >$\\frac{\\partial a_1}{\\partial z_1}$</th>\n",
       "      <th class=\"col_heading level0 col5\" >$\\frac{\\partial z_2}{\\partial a_1}$</th>\n",
       "      <th class=\"col_heading level0 col6\" >$\\frac{\\partial a_2}{\\partial z_2}$</th>\n",
       "      <th class=\"col_heading level0 col7\" >$\\frac{\\partial L(w,b|x)}{\\partial a_2}$</th>\n",
       "    </tr>\n",
       "  </thead>\n",
       "  <tbody>\n",
       "    <tr>\n",
       "      <td id=\"T_6a1d8_row0_col0\" class=\"data row0 col0\" ></td>\n",
       "      <td id=\"T_6a1d8_row0_col1\" class=\"data row0 col1\" >0.05</td>\n",
       "      <td id=\"T_6a1d8_row0_col2\" class=\"data row0 col2\" >0.00053</td>\n",
       "      <td id=\"T_6a1d8_row0_col3\" class=\"data row0 col3\" >0.05</td>\n",
       "      <td id=\"T_6a1d8_row0_col4\" class=\"data row0 col4\" >0.25</td>\n",
       "      <td id=\"T_6a1d8_row0_col5\" class=\"data row0 col5\" >0.3</td>\n",
       "      <td id=\"T_6a1d8_row0_col6\" class=\"data row0 col6\" >0.24</td>\n",
       "      <td id=\"T_6a1d8_row0_col7\" class=\"data row0 col7\" >    0.51    </td>\n",
       "    </tr>\n",
       "  </tbody>\n",
       "</table>\n"
      ],
      "text/plain": [
       "<pandas.io.formats.style.Styler at 0x7fbb414fa9d0>"
      ]
     },
     "execution_count": 342,
     "metadata": {},
     "output_type": "execute_result"
    }
   ],
   "source": [
    "# Code below is what is needed to update table at each step\n",
    "tab3 = pd.Series(\n",
    "    { \n",
    "        \"w1new\" : \"\" if isinstance(w1new, str) else format(w1new, \".2g\"),\n",
    "        \"eta\" : \"\" if isinstance(eta, str) else format(eta, \".2g\"),\n",
    "        \"dLdw1\" : \"\" if isinstance(dLdw1, str) else format(dLdw1, \".2g\"), \n",
    "        \"dz1dw1\" : \"\" if isinstance(dz1dw1, str) else format(dz1dw1, \".2g\"),\n",
    "        \"da1dz1\" : \"\" if isinstance(da1dz1, str) else format(da1dz1, \".2g\"), \n",
    "        \"dz2da1\" : \"\" if isinstance(dz2da1, str) else format(dz2da1, \".2g\"),\n",
    "        \"da2dz2\" : \"\" if isinstance(da2dz2, str) else format(da2dz2, \".2g\"),\n",
    "        \"dLda2\" : \"\" if isinstance(dlda2, str) else format(dlda2, \".2g\").center(12, '\\u00A0')\n",
    "    }\n",
    ")\n",
    "\n",
    "\n",
    "\n",
    "tab3 = pd.DataFrame.rename(tab3.to_frame().T, columns = colNames).style.hide_index().set_table_styles(styles1)\n",
    "tab3"
   ]
  },
  {
   "cell_type": "markdown",
   "metadata": {
    "cell_style": "center"
   },
   "source": [
    "### 5. Update $w_1$\n",
    "\n",
    "$\\begin{eqnarray}\n",
    "w'_1\n",
    "&=&  w_1 - \\eta \\frac{\\partial L(b,wx)}{\\partial w_1}\n",
    "\\end{eqnarray}$"
   ]
  },
  {
   "cell_type": "code",
   "execution_count": 2,
   "metadata": {},
   "outputs": [],
   "source": [
    "# Replace \"\" with the code to compute these variables\n",
    "w1new = \"\""
   ]
  },
  {
   "cell_type": "markdown",
   "metadata": {},
   "source": [
    "And a table with these values (execute the table cell to update the table!)"
   ]
  },
  {
   "cell_type": "code",
   "execution_count": 344,
   "metadata": {
    "hide_input": true
   },
   "outputs": [
    {
     "data": {
      "text/html": [
       "<style type=\"text/css\">\n",
       "#T_4c112_ th {\n",
       "  font-size: 18px;\n",
       "  max-width: 2.5cm;\n",
       "  text-align: left;\n",
       "}\n",
       "#T_4c112_ td {\n",
       "  font-size: 18px;\n",
       "  max-width: 2.5cm;\n",
       "  text-align: left;\n",
       "}\n",
       "</style>\n",
       "<table id=\"T_4c112_\">\n",
       "  <thead>\n",
       "    <tr>\n",
       "      <th class=\"col_heading level0 col0\" >$w'_1$</th>\n",
       "      <th class=\"col_heading level0 col1\" >$\\eta$</th>\n",
       "      <th class=\"col_heading level0 col2\" >$\\frac{\\partial L(w,b|x)}{\\partial w_1}$</th>\n",
       "      <th class=\"col_heading level0 col3\" >$\\frac{\\partial z_1}{\\partial w_1}$</th>\n",
       "      <th class=\"col_heading level0 col4\" >$\\frac{\\partial a_1}{\\partial z_1}$</th>\n",
       "      <th class=\"col_heading level0 col5\" >$\\frac{\\partial z_2}{\\partial a_1}$</th>\n",
       "      <th class=\"col_heading level0 col6\" >$\\frac{\\partial a_2}{\\partial z_2}$</th>\n",
       "      <th class=\"col_heading level0 col7\" >$\\frac{\\partial L(w,b|x)}{\\partial a_2}$</th>\n",
       "    </tr>\n",
       "  </thead>\n",
       "  <tbody>\n",
       "    <tr>\n",
       "      <td id=\"T_4c112_row0_col0\" class=\"data row0 col0\" >0.1</td>\n",
       "      <td id=\"T_4c112_row0_col1\" class=\"data row0 col1\" >0.05</td>\n",
       "      <td id=\"T_4c112_row0_col2\" class=\"data row0 col2\" >0.00053</td>\n",
       "      <td id=\"T_4c112_row0_col3\" class=\"data row0 col3\" >0.05</td>\n",
       "      <td id=\"T_4c112_row0_col4\" class=\"data row0 col4\" >0.25</td>\n",
       "      <td id=\"T_4c112_row0_col5\" class=\"data row0 col5\" >0.3</td>\n",
       "      <td id=\"T_4c112_row0_col6\" class=\"data row0 col6\" >0.24</td>\n",
       "      <td id=\"T_4c112_row0_col7\" class=\"data row0 col7\" >    0.51    </td>\n",
       "    </tr>\n",
       "  </tbody>\n",
       "</table>\n"
      ],
      "text/plain": [
       "<pandas.io.formats.style.Styler at 0x7fbb4152ca50>"
      ]
     },
     "execution_count": 344,
     "metadata": {},
     "output_type": "execute_result"
    }
   ],
   "source": [
    "# Code below is what is needed to update table at each step\n",
    "tab3 = pd.Series(\n",
    "    { \n",
    "        \"w1new\" : \"\" if isinstance(w1new, str) else format(w1new, \".2g\"),\n",
    "        \"eta\" : \"\" if isinstance(eta, str) else format(eta, \".2g\"),\n",
    "        \"dLdw1\" : \"\" if isinstance(dLdw1, str) else format(dLdw1, \".2g\"), \n",
    "        \"dz1dw1\" : \"\" if isinstance(dz1dw1, str) else format(dz1dw1, \".2g\"),\n",
    "        \"da1dz1\" : \"\" if isinstance(da1dz1, str) else format(da1dz1, \".2g\"), \n",
    "        \"dz2da1\" : \"\" if isinstance(dz2da1, str) else format(dz2da1, \".2g\"),\n",
    "        \"da2dz2\" : \"\" if isinstance(da2dz2, str) else format(da2dz2, \".2g\"),\n",
    "        \"dLda2\" : \"\" if isinstance(dlda2, str) else format(dlda2, \".2g\").center(12, '\\u00A0')\n",
    "    }\n",
    ")\n",
    "\n",
    "\n",
    "\n",
    "tab3 = pd.DataFrame.rename(tab3.to_frame().T, columns = colNames).style.hide_index().set_table_styles(styles1)\n",
    "tab3"
   ]
  }
 ],
 "metadata": {
  "celltoolbar": "Slideshow",
  "hide_input": false,
  "kernelspec": {
   "display_name": "Python [conda env:nn_dl_python] *",
   "language": "python",
   "name": "conda-env-nn_dl_python-py"
  },
  "language_info": {
   "codemirror_mode": {
    "name": "ipython",
    "version": 3
   },
   "file_extension": ".py",
   "mimetype": "text/x-python",
   "name": "python",
   "nbconvert_exporter": "python",
   "pygments_lexer": "ipython3",
   "version": "3.7.6"
  },
  "rise": {
   "enable_chalkboard": true
  }
 },
 "nbformat": 4,
 "nbformat_minor": 4
}
