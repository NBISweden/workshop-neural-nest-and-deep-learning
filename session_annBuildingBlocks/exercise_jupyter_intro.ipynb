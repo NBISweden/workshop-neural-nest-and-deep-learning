{
 "cells": [
  {
   "cell_type": "markdown",
   "metadata": {
    "cell_style": "center",
    "hide_input": false,
    "slideshow": {
     "slide_type": "-"
    }
   },
   "source": [
    "# Exercise: Introduction to Jupyter Notebooks\n",
    "\n",
    "1. **Introduction to Jupyter Notebooks**  \n",
    "In this course, we will program Neural networks, using Python, in Jupyter Notebooks, which some of you might not have extensive experience in. Therefore, the first part of this first exercise will be an introduction to Jupyter Notebooks. \n",
    "\n",
    "2. **Back-propagation**  \n",
    "In the second part of the you will practice further working with Jupyter Notebooks by performing a single forward and backward step for a very simple ffANN."
   ]
  },
  {
   "cell_type": "markdown",
   "metadata": {},
   "source": [
    "## 1. Introduction to Jupyter Notebooks\n",
    "\n",
    "The Jupyter Notebook is an programming environment that allows you to mix code with formatted text, equations and visualizations. It shares som similarities with Rmarkdown and Rstudio, which some of you mnight be familiar with, but while Rmarkdown was developed focusing on the R language, Jupyter Notebooks was developed focusing on the Pyhton language. (however, both these tools has since further developed to include also other programming languages.)\n",
    "Jupyter notebooks is web-application; you open documents, edit and compile them in a web-browser on your laptop. It is an open-source application that is continuopusly developed. by a large and dynamic community.\n",
    "It can be used to document your daily bioinformatics work, create nice reports or slides for a presentation."
   ]
  },
  {
   "cell_type": "markdown",
   "metadata": {},
   "source": [
    "### Task 1.1. Create the _nndl_ conda environment\n",
    "\n",
    "1. Create a dedicated folder (henceforth referred to as the _nndl_ folder) on your laptop for NN&DL course exercises (if you have not already done this). `cd` into the _nndl_ folder.\n",
    "2. Download the conda environment file `nndl_python-yaml` to the _nndl_ folder, e.g.,\n",
    "```\n",
    "curl -o nn_dl_python.yaml https://raw.githubusercontent.com/NBISweden/workshop-neural-nets-and-deep-learning/master/common_assets/conda_envs/nn_dl_python.yaml\n",
    "```\n",
    "or alternatively\n",
    "```\n",
    "wget https://raw.githubusercontent.com/NBISweden/workshop-neural-nets-and-deep-learning/master/common_assets/conda_envs/nn_dl_python.yaml\n",
    "```\n",
    "3. Create the _nndl_ _conda environment_ using the command \n",
    "```\n",
    "conda env create -f nndl_python-yaml\n",
    "```\n",
    "(_Note! you should already have `conda` installed on your laptop, else look at the prerequisite notesXXX_)\n",
    "4. Activate the _nndl_ environment using the command\n",
    "```\n",
    "conda activate\n",
    "```"
   ]
  },
  {
   "cell_type": "markdown",
   "metadata": {},
   "source": [
    "### Task 1.2. Start the Jupyter Notebook web application\n",
    "\n",
    "The Jupyter Notebook web application is the user interface. It opens local html pages in your browser and allows you to edit and run the code and markdown in your notebook. \n",
    "Your \"home page\" is the _Notebook dashboard_ window. Let's open this window.\n",
    "\n",
    "0. (Ensure that you're still in the _nndl_ folder)\n",
    "1. Start a Jupyter Notebook by typing `jupyter notebook`\n",
    "2. You should now see the _Notebook dashboard_ window:  \n",
    "<img src=\"./assets/jnb_screenshot1.png\" alt=\"nb dashboard Files screenshot\" width=\"800\"/>  \n",
    "\n",
    "The _Notebook dashboard_  contains\n",
    "- Several tabs at top; we will here focus only on the two left-most ones, _Files_ and _Running_ and the right-most one, _Nbextensions_.\n",
    "- A listing of the files and folders in the current directory; since you started the notebook in the _nndl_ folder, you should see the content of that and it should be empty. You will be able to use this to navigate among these folders and files.\n",
    "- Above to the right, you will have three buttons, an _upload_ button, a _New_ button and an _update_ button. We will go throught their use below."
   ]
  },
  {
   "cell_type": "markdown",
   "metadata": {},
   "source": [
    "### Task 1.3. Create a new Notebook\n",
    "\n",
    "The notebook is a file (with suffix _.ipynb_) that will store the code and markdown you write to fulfil the purpose of the notebook. Notebook files are accessed using the _notebook editor_. To open a new file in the _editor_:\n",
    "\n",
    "0. (Ensure that you are in the  _Files_ tab of the jupyter Notebook main window)\n",
    "1. Click `new` and select _Python [conda env: nn_dl_python]_ in the scroll-down menu\n",
    "    - this means that you will use the Python in the _nn_dl_python_ conda environment as your _kernel_ for the notebook\n",
    "2. The _editor_ will open in a new browser window with an empty and unnamed notebook:  \n",
    "<img src=\"./assets/jnb_screenshot2.png\" alt=\"Empty Notebook\" width=\"800\"/>\n",
    "\n",
    "The _editor_ window comprise:\n",
    "- The _menu_ row at the top\n",
    "- To the right of this is some information whether telling\n",
    "    - Whether the notebook is trusted\n",
    "        - this is a security measure, newly opened existing notebooks (with unknown code) are not trusted until you explicitly/manually  execute code in the notebook, at which point it becomes _trusted_\n",
    "    - The kernel's name, \n",
    "    - The kernel indicator showing whether the kernel is working (filled circle) or idle (empty circle) \n",
    "- Below this its a row of icons, the _tool bar_\n",
    "- At the bottom is an empty _cell_\n",
    "\n",
    "We will below just go through a selection of menu or toolbar items. For more details, refer to the [Jupyter Notebook documentation](https://jupyter-notebook.readthedocs.io/en/stable/index.html). A interactive tour of the user interface can also be started from the _Help_ menu item _User Interface Tour_. \n",
    "\n",
    "_Note 1! Your terminal will show log messages from thew Jupyter Notebook session and will not be accessible for normal commands -- this is the expectd behaviour and not an error._\n",
    "\n",
    "_Note2! It is convenient to use keyboard shortcuts for many commands. We will below mention some of these, but many of the keyboard shortcuts can be found in the different menus after the relevant command. This teremial is usually kleft as is and new terminals are opened for any required bash commands._"
   ]
  },
  {
   "cell_type": "markdown",
   "metadata": {},
   "source": [
    "### Task 1.4. Naming and saving the notebook\n",
    "\n",
    "1. Save the notebook as an `.ipynb` file with an appropriate name, e.g., `FantabulousCounter.ipynb` by\n",
    "    - in the _File_ menu, choose _Rename_\n",
    "2. It is good practice to save your notebook while working on it (\"checkpoint saved\"). \n",
    "   This can be done by either:_\n",
    "    - _Click the ’diskette’ icon in the toolbar,_\n",
    "    - _In the File menu, choose Save and checkpoint_\n",
    "    - _Type `Cmd-s` (Mac) `ctrl-s` (PC)_"
   ]
  },
  {
   "cell_type": "markdown",
   "metadata": {
    "slideshow": {
     "slide_type": "-"
    }
   },
   "source": [
    "### Task 1.5. Work with notebooks and cells -- a. markdown cells\n",
    "\n",
    "A Jupyter notebook consists of a sequence of cells. Code or markdown text is written in the cells, which then can be executed. There are two main type of cell:\n",
    "- Code cells, typically with standard Python code\n",
    "- Markdown cells, with text in Markdown format.\n",
    "Moreover, cells can have two different modes:\n",
    "- _Edit mode_, when you can edit code to text in the cell; this is indicated by XXX -- press `enter` to enter edit mode from command mode, or click inside the cell\n",
    "- _Command mode_, when you can edit the notebook as a whole (e.g., add or delete cells, etc.); this is indicated by XXX -- press `esc` to enter edit mode from edit mode, or click outside a cell.\n",
    "\n",
    "1. Click in the empty cell of your notebook to make it the present cell . Try to change between _Edit_ and _Command_ modes\n",
    "2. At startup this cell will be _Code cell_; the cell type for the present will show in the 6th icon of the toolbar. Change the cell to a _Markdown cell_ by, either:\n",
    "    - click the 6th item in the toolbar and select Markdown from the scroll-down menu,\n",
    "    - In the cell menu, choose item _Cell type_ and then _Markdown_, or\n",
    "    - Type _M_ (this only works in _Command_ mode)\n",
    "(You can try switching back-and-forth between modes, but make sure it is a _Markdown cell_ in _Editor_ mode before continuing.)\n",
    "3. Add some text in the cell, include some markdown formatting if you like (see [Markdown cheatsheet](https://www.markdownguide.org/cheat-sheet/), e.g.:\n",
    " ```\n",
    " # The phenomenal counting machine\n",
    " \n",
    " This amazing counting machine will count from 1 to 9 \n",
    " and print the consecutive sum of these numbers... and \n",
    " that is not all; it will then do it backwards and blindfolded.\n",
    " ```\n",
    "4. Execute the cell by, either\n",
    "     - click the _Run_ icon in the toolbar,\n",
    "     - In the _Cell_ menu choose _Run cells_, or\n",
    "     - Type `Cmd-enter` (Mac) `ctrl-enter` (PC)\n",
    "   This converts the cell to a _Compiled_ cell:  \n",
    "   <img src=\"./assets/jnb_screenshot4.png\" alt=\"Markdown cell Compiled\" width=\"800\"/>\n",
    "   \n",
    "   To get back to the _Edit_ mode, double-click in the cell:  \n",
    "     <img src=\"./assets/jnb_screenshot3.png\" alt=\"Markdown cell Edit mode\" width=\"800\"/>\n",
    "     \n",
    "   Try going back and forth between _Compiled_ and _Edit_ mode"
   ]
  },
  {
   "cell_type": "markdown",
   "metadata": {
    "slideshow": {
     "slide_type": "-"
    }
   },
   "source": [
    "### Task 1.5. Work with notebooks and cells -- b. Code cells\n",
    "1. Add a new cell below the present one by either:\n",
    "     - click the `+` icon in the toolbar,\n",
    "     - In the _Insert_ menu, choose _Insert cell above_, or\n",
    "     - Type `B` (this only works in _Command_ mode)\n",
    "2. Ensure that the new cell is a _Code cell_ and in _Edit_ mode, and typesome python code in the cell, e.g.:\n",
    " ```\n",
    " print(\"Look -- no hands!\")\n",
    " sum = 0\n",
    " for i in range(1,10):\n",
    "     sum += i\n",
    "     print(i,sum)\n",
    "     \n",
    " print(\"And now, without seeing!\")\n",
    " sum = 0\n",
    " for i in range(10,1,-1):\n",
    "     sum += i\n",
    "     print(\"X\",sum)\n",
    " ```\n",
    " You should see something like:  \n",
    " <img src=\"./assets/jnb_screenshot5.png\" alt=\"Code cell Edit mode\" width=\"800\"/>\n",
    "3. Execute the cell:  \n",
    "<img src=\"./assets/jnb_screenshot6.png\" alt=\"Code cell Compiled\" width=\"800\"/>\n",
    "4. Add another cell below and then remove the new cell (_ensure that the cell to be deleted is the selected one_) by either\n",
    "    - In the _Edit_ menu, choose _Delete cells_\n",
    "    - Type `dd` (this only works in _Command_ mode)"
   ]
  },
  {
   "cell_type": "markdown",
   "metadata": {},
   "source": [
    "### Task 1.5. Close a notebook\n",
    "\n",
    "1. Close the browser tab with your new (and saved) notebook.  \n",
    "2. Go to the _Notebook dashboard_ window in your browser ad click on the `Running` tab. It should look something like this: \n",
    "<img src=\"./assets/jnb_screenshot7.png\" alt=\"nb dashboard Running screenshot\" width=\"800\"/>\n",
    "There is a list of running `Terminals` (which usually is empty) and a list of running `Notebooks`.  \n",
    "3. Notice that the notebook that you just closed (e.g., `FantabulousCounter.ipynb`) is still listed in the running `Notebooks` list. Clearly, just closing the browser window does not actually terminate the notebook!\n",
    "4. You can reopen a browser window for a running notebook, by clicking on the notebok name in either:\n",
    "    - the `Running` tab or\n",
    "    - the `File` tab\n",
    "of the _Notebook dashboard_ window. Try it!\n",
    "5. To terminate a notebook, go to the `Running` tab of the _Notebook dashboard_ browser window and click \n",
    "   `Shutdown` in the row of the notebook, you want to shut down (e.g., `FantabulousCounter.ipynb`):  \n",
    "   <img src=\"./assets/jnb_screenshot7b.png\" alt=\"nb dashboard Shutdown screenshot\" width=\"800\"/>\n",
    "6. Ensure that the is no longer running:  \n",
    "   <img src=\"./assets/jnb_screenshot8.png\" alt=\"nb dashboard no Running screenshot\" width=\"800\"/>\n",
    "7. Go to the browser window for that notebook (e.g., `FantabulousCounter.ipynb`). You will see a message about `Dead kernel...` (this is simply because you killed the kernel in item 5.):  \n",
    "   <img src=\"./assets/jnb_screenshot9.png\" alt=\"Dead notebook screenshot\" width=\"800\"/>\n",
    "   Click `Don't restart` and then just close the window. \n",
    "   \n",
    "(_Note! You can also close the browser window first and then perform item 5._)"
   ]
  },
  {
   "cell_type": "markdown",
   "metadata": {},
   "source": [
    "### 1.6 Nbextensions tab\n",
    "\n",
    "We will now take a look at the `nbextensions` tab. The nbextensions, or the \"jupyter_contrib_nbextensions\" package is a collection of \"community-contributed unofficial extensions that add functionality to the Jupyter notebook\". It can be good to know about these as some of the nbextensions can become handy for you in the future, e.g., the `RISE` allows you to turn your notebook into a slideshow.\n",
    "\n",
    "We will turn on one extension that is needed for some othe course exercise notebooks to render more nicely.\n",
    "\n",
    "1. In the Notebook dashboard browser window, click on the `Nbextensions` tab, You will now see the window \n",
    "   `Configurable extensions`, showing all extensions as a tick list in several columns:  \n",
    "   <img src=\"./assets/jnb_screenshot11.png\" alt=\"nb dashboard quit screen shot\" width=\"800\"/>\n",
    "    a. NBA If most of the tick-boxes are disabled, then you need to unselect the tickbox _disable configuration for nbextensions without explicit compatibility (they may break your notebook environment, but can be useful to show for nbextension development)_:  \n",
    "    <img src=\"./assets/jnb_screenshot11b.png\" alt=\"nb dashboard quit screen shot\" width=\"800\"/>\n",
    "2. Tick the box for the nbextension `Hide input`:  \n",
    "   <img src=\"./assets/jnb_screenshot12.png\" alt=\"nb dashboard quit screen shot\" width=\"800\"/>\n",
    "   \n",
    "When an nbextension is selected, information and usage help is displayed below the tick-list of nbextensions, which is useful to look at. The `Hide input` allows (optionally) hiding the input code of a code cell, so that only the output is shown. You can try it on the code cell you created above -- simply select the code cell and click the \"caret\" (^) symbol in the toolbar and the input code should be hidden; click again to get the input back.\n",
    "\n",
    "To disable an nbextension, you simple untick its box. _NB! We recommend that you **do not** disable any extension starting with `Nbextension` or `nb_` as these mainly affect the tabs in the Notebook dashboard browser window and if these are removed, it is non-trivial to get them back!_"
   ]
  },
  {
   "cell_type": "markdown",
   "metadata": {},
   "source": [
    "### 1.7 Quit Jupyter Notebooks\n",
    "0. (Save and terminate all notebooks, see above)\n",
    "1. In the _Notebook dashboard_ browser window, click `Quit` in the upper righ-hand corner:  \n",
    "   <img src=\"./assets/jnb_screenshot10.png\" alt=\"nb dashboard quit screen shot\" width=\"800\"/>\n",
    "2. Alternatively, do `ctrl-c` in the terminal where you started the Jupyter Notebook session.\n",
    "3. Close the _Notebook dashboard_ browser window."
   ]
  }
 ],
 "metadata": {
  "hide_input": false,
  "kernelspec": {
   "display_name": "Python [conda env:nn_dl_python] *",
   "language": "python",
   "name": "conda-env-nn_dl_python-py"
  },
  "language_info": {
   "codemirror_mode": {
    "name": "ipython",
    "version": 3
   },
   "file_extension": ".py",
   "mimetype": "text/x-python",
   "name": "python",
   "nbconvert_exporter": "python",
   "pygments_lexer": "ipython3",
   "version": "3.7.8"
  },
  "rise": {
   "enable_chalkboard": true
  }
 },
 "nbformat": 4,
 "nbformat_minor": 4
}
