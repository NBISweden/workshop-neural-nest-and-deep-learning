{
 "cells": [
  {
   "cell_type": "markdown",
   "metadata": {
    "slideshow": {
     "slide_type": "slide"
    }
   },
   "source": [
    "# AI vs ML vs ANN vs DL"
   ]
  },
  {
   "cell_type": "markdown",
   "metadata": {
    "slideshow": {
     "slide_type": "fragment"
    }
   },
   "source": [
    "#### AI  -- Artificial Intelligence\n",
    "- The science and engineering  of creating intelligent machines\n",
    "    - or machines that behave as they were intelligent"
   ]
  },
  {
   "cell_type": "markdown",
   "metadata": {
    "slideshow": {
     "slide_type": "fragment"
    }
   },
   "source": [
    "#### ML -- Machine learning\n",
    "- Subset of AI\n",
    "- Computer algorithms that learn/improve from experience"
   ]
  },
  {
   "cell_type": "markdown",
   "metadata": {
    "slideshow": {
     "slide_type": "fragment"
    }
   },
   "source": [
    "#### ANN -- Artificial Neural Networks\n",
    "- Subset of ML\n",
    "- Model of human neural networks\n",
    "- Networks built up by artificial neurons"
   ]
  },
  {
   "cell_type": "markdown",
   "metadata": {
    "slideshow": {
     "slide_type": "fragment"
    }
   },
   "source": [
    "#### DL -- Deep Learning\n",
    "- Subset of ANN (? -- depend on definition of ANN)\n",
    "- ANN with more than one hidden layer"
   ]
  },
  {
   "cell_type": "markdown",
   "metadata": {
    "slideshow": {
     "slide_type": "slide"
    }
   },
   "source": [
    "<img src=\"./assets/vennAiMlAnnDl.png\" alt=\"Neuron\" width=\"1200\"/>"
   ]
  },
  {
   "cell_type": "markdown",
   "metadata": {
    "slideshow": {
     "slide_type": "notes"
    }
   },
   "source": [
    "Other disciplins may cover several of these, e.g., NLP"
   ]
  },
  {
   "cell_type": "markdown",
   "metadata": {
    "slideshow": {
     "slide_type": "slide"
    }
   },
   "source": [
    "# So where does (bio)statistics fit in?"
   ]
  },
  {
   "cell_type": "markdown",
   "metadata": {
    "slideshow": {
     "slide_type": "fragment"
    }
   },
   "source": [
    "#### Statistics and ML\n",
    "- shares methodological elements and framework\n",
    "    - just as both do with calculus, computer science...\n",
    "- both are data-dependent\n",
    "- both have \"models\"\n",
    "    - statistics:  explicit probabilistic model\n",
    "    - ML: often graphical model/network\n",
    "        - (samples from a wider array of models, typically)\n",
    "- optimizes differently\n",
    "    - Statistic analysis typically optimizes analytically under the probabilistic model\n",
    "    - ML learns by trial and error from training data, evaluates on test data\n",
    "- have different *main* aims\n",
    "    - Statistics infer relationships between variables (but can do predicitons)\n",
    "    - ML make predictions about unseen data (but can sometimes do inference)\n",
    "- typically has differences in data sizes\n",
    "    - small vs big data\n",
    "    - number of variables\n",
    "- share problems\n",
    "     - over-fitting\n",
    "     - over-parameterization\n",
    "    \n"
   ]
  },
  {
   "cell_type": "markdown",
   "metadata": {
    "slideshow": {
     "slide_type": "slide"
    }
   },
   "source": [
    "# History"
   ]
  },
  {
   "cell_type": "markdown",
   "metadata": {
    "slideshow": {
     "slide_type": "slide"
    }
   },
   "source": [
    "# History\n",
    "### First wave of ANN (funding)\n",
    "- 1943 First model of biological neruon (McCulloch & Pitts)\n",
    "- 1949 Hebbian Learning rules for ANN, (Donald Hebb)\n",
    "- 1951 First ANN (Minsky)\n",
    "- 1958 The *Perceptron* -- linear classification\n",
    "- 1969 Limitations of the perceptron (Minsky & Papert)"
   ]
  },
  {
   "cell_type": "markdown",
   "metadata": {
    "slideshow": {
     "slide_type": "slide"
    }
   },
   "source": [
    "# History\n",
    "### Second wave of ANN (funding)\n",
    "- (1975 Back propagation algorithm (Werbos))\n",
    "- 1986 Back propagation rediscovered -- ANNs in vogue again\n",
    "- 1985-87 ANN conferences, societies started (IEEE, INNS)\n",
    "- SVM outcompetes ANNs, ANNs survives in protein structure prediciton\n",
    "- 1992 Max pooling\n",
    "- Vanishing gradient"
   ]
  },
  {
   "cell_type": "markdown",
   "metadata": {
    "slideshow": {
     "slide_type": "slide"
    }
   },
   "source": [
    "# History\n",
    "### Third wave of ANN (funding)\n",
    "- 1997 RNN/LSTM (Smidhuber & Hochreiter)\n",
    "- GPUs\n",
    "- \"Deep learning\" buzzword and performing well in \n",
    "- 2011 CNNs\n",
    "- ANNs are everywhere"
   ]
  },
  {
   "cell_type": "markdown",
   "metadata": {
    "slideshow": {
     "slide_type": "slide"
    }
   },
   "source": [
    "# Applications"
   ]
  },
  {
   "cell_type": "markdown",
   "metadata": {
    "cell_style": "split"
   },
   "source": [
    "- **pattern recognition**\n",
    "- non-linear classification/regression?\n",
    "    - signature verification\n",
    "    - cybersecurity\n",
    "- image/character recognition\n",
    "    - handwriting (mnist)\n",
    "    - bioimages\n",
    "    - faces\n",
    "    - 3D object recognition\n",
    "- forecasting/prediction\n",
    "    - business\n",
    "    - medical diagnosis\n",
    "    - generate images (faces)"
   ]
  },
  {
   "cell_type": "markdown",
   "metadata": {
    "cell_style": "split"
   },
   "source": [
    "- dimensional reduction\n",
    "    - bar-coding\n",
    "- sequence recognition\n",
    "    - speech\n",
    "    - text\n",
    "    - NLP\n",
    "- data mining\n",
    "- time series\n",
    "- protein structure prediciton"
   ]
  }
 ],
 "metadata": {
  "celltoolbar": "Slideshow",
  "hide_input": false,
  "kernelspec": {
   "display_name": "Python [conda env:nn_dl_python] *",
   "language": "python",
   "name": "conda-env-nn_dl_python-py"
  },
  "language_info": {
   "codemirror_mode": {
    "name": "ipython",
    "version": 3
   },
   "file_extension": ".py",
   "mimetype": "text/x-python",
   "name": "python",
   "nbconvert_exporter": "python",
   "pygments_lexer": "ipython3",
   "version": "3.7.6"
  }
 },
 "nbformat": 4,
 "nbformat_minor": 4
}
