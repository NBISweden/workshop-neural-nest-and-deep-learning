{
 "cells": [
  {
   "cell_type": "markdown",
   "metadata": {
    "slideshow": {
     "slide_type": "slide"
    }
   },
   "source": [
    "# Intro to Keras, Tensorflow and advanced NN\n",
    "\n",
    "<img src=\"figures/keras-tensorflow-logo.jpg\">"
   ]
  },
  {
   "cell_type": "markdown",
   "metadata": {
    "slideshow": {
     "slide_type": "slide"
    }
   },
   "source": [
    "## Introduction\n",
    "\n",
    "* TensorFlow is an end-to-end open source platform for ML \n",
    "* It has a comprehensive, flexible ecosystem of tools and libraries \n",
    "* Allows to easily build and deploy ML powered applications.\n",
    "* Not only Neural Networks\n",
    "\n",
    "\n"
   ]
  },
  {
   "cell_type": "markdown",
   "metadata": {
    "slideshow": {
     "slide_type": "slide"
    }
   },
   "source": [
    "## https://keras.io\n",
    "\n",
    "* Keras is a high-level neural networks API (front-end), written in Python\n",
    "* Capable of running on top of TensorFlow, CNTK, or Theano (backends)\n",
    "* Built to simplify access to more complex backend libraries"
   ]
  },
  {
   "cell_type": "markdown",
   "metadata": {
    "slideshow": {
     "slide_type": "slide"
    }
   },
   "source": [
    "## https://keras.io\n",
    "\n",
    "Use Keras if you need a deep learning library that:\n",
    "\n",
    "* Allows for easy and fast prototyping (through user friendliness, modularity, and extensibility).\n",
    "* Supports both convolutional networks and recurrent networks, as well as combinations of the two.\n",
    "* Runs seamlessly on CPU and GPU.\n"
   ]
  },
  {
   "cell_type": "markdown",
   "metadata": {
    "slideshow": {
     "slide_type": "slide"
    }
   },
   "source": [
    "## https://tensorflow.org\n",
    "\n",
    "Use *TensorFlow* if you want a finer level of control:\n",
    "\n",
    "* Build your own NN layers\n",
    "* Personalized cost function\n",
    "* More complex architectures than those available on Keras\n",
    "    \n",
    "We will be mostly writing python code using Keras libraries, but \"under the hood\" Keras is using tensorflow libraries.\n",
    "\n",
    "The documentation is at [keras.io](https://keras.io)."
   ]
  },
  {
   "cell_type": "markdown",
   "metadata": {
    "slideshow": {
     "slide_type": "slide"
    }
   },
   "source": [
    "\n",
    "## If you want to use R instead of python\n",
    "\n",
    "* Keras can run on R as well, it will look quite similar to the code in this notebook\n",
    "* (but, you know, with <- instead of =)\n",
    "* You find the docs here: https://keras.rstudio.com/\n",
    "* We will also have a lab session completely in R"
   ]
  },
  {
   "cell_type": "markdown",
   "metadata": {
    "slideshow": {
     "slide_type": "slide"
    }
   },
   "source": [
    "## What is a tensor\n",
    "\n",
    "The main variables in TensorFlow are, of course, tensors:\n",
    "\n",
    "> A tensor is often thought of as a generalized matrix. That is, it could be a 1-D matrix (a vector is actually > such a tensor), a 3-D matrix (something like a cube of numbers), even a 0-D matrix (a single number), or a higher dimensional structure that is harder to visualize. The dimension of the tensor is called its rank.\n",
    "\n",
    "\n",
    "\n"
   ]
  },
  {
   "cell_type": "markdown",
   "metadata": {
    "slideshow": {
     "slide_type": "slide"
    }
   },
   "source": [
    "## What is a tensor\n",
    "\n",
    "The main variables in TensorFlow are, of course, tensors:\n",
    "\n",
    "> A tensor is often thought of as a generalized matrix. That is, it could be a 1-D matrix (a vector is actually > such a tensor), a 3-D matrix (something like a cube of numbers), even a 0-D matrix (a single number), or a higher dimensional structure that is harder to visualize. The dimension of the tensor is called its rank.\n",
    "\n",
    "## TensorFlow operates on tensors\n",
    "\n",
    "> TensorFlow computations are expressed as stateful dataflow graphs. The name TensorFlow derives from the operations that such neural networks perform on multidimensional data arrays, which are referred to as tensors."
   ]
  },
  {
   "cell_type": "markdown",
   "metadata": {
    "slideshow": {
     "slide_type": "slide"
    }
   },
   "source": [
    "## The first step is to build a graph of operations\n",
    "\n",
    "* NNs are defined in TensorFlow as graphs through which the data flows until the final result is produced\n",
    "* Before we can do any operation on our data (images, etc) we need to build the graph of tensor operations\n",
    "* When we have a full graph built from input to output, we can run (flow) our data (training or testing) through it.\n"
   ]
  },
  {
   "cell_type": "markdown",
   "metadata": {
    "slideshow": {
     "slide_type": "slide"
    }
   },
   "source": [
    "## Tensors and data are *not* the same thing\n",
    "* Tensors are, rather, a symbolic representation of the data\n",
    "* Think about the function g = f(x): as long as we do not provide a value to x, we will not have a fully computed g\n",
    "* In this case, \"g\" is the output tensor, \"x\" the input tensor, \"f\" the tensor operation\n"
   ]
  },
  {
   "cell_type": "markdown",
   "metadata": {
    "slideshow": {
     "slide_type": "slide"
    }
   },
   "source": [
    "## Example\n",
    "\n",
    "* We have a set of color images of size 1000x1000 pixels (1 megapixel) that we want to use on our NN \n",
    "* We define tensors with shape (n, 1000, 1000, 3)\n",
    "    * n is the number of images that we are presenting to our network in one go (\"batch block\")\n",
    "    * 1000\\*1000: image pixels\n",
    "    * 3 is the number of channels (RGB)\n",
    "    * Grayscale images tensors would have shape (n, 1000, 1000, 1)"
   ]
  },
  {
   "cell_type": "markdown",
   "metadata": {
    "slideshow": {
     "slide_type": "slide"
    }
   },
   "source": [
    "## One thing to remember when operating on tensors\n",
    "\n",
    "The dimensions between tensors coming out of the n-th node and those going into the (n+1)-th node *must* match:\n",
    "\n",
    "* If each sample in our dataset is made of 10 features, the first (input) layer must accept a tensor of shape (n, 10)\n",
    "* If the first layer in our NN outputs a 3D tensor, the second layer must accept a 3D tensor as input\n",
    "* Check the documentation to make sure what input-output shapes are allowed"
   ]
  },
  {
   "cell_type": "markdown",
   "metadata": {
    "slideshow": {
     "slide_type": "slide"
    }
   },
   "source": [
    "## Here's how a NN layer looks like in TensorFlow:\n",
    "\n",
    "<img src=\"figures/run_metadata_graph.png\" align=\"center\">"
   ]
  },
  {
   "cell_type": "markdown",
   "metadata": {
    "cell_style": "center",
    "slideshow": {
     "slide_type": "slide"
    }
   },
   "source": [
    "## A neural network in Keras is called a Model\n",
    "\n",
    "The simplest kind of model is of the Sequential kind:"
   ]
  },
  {
   "cell_type": "code",
   "execution_count": 1,
   "metadata": {
    "cell_style": "center",
    "slideshow": {
     "slide_type": "-"
    }
   },
   "outputs": [],
   "source": [
    "from keras.models import Sequential\n",
    "\n",
    "model = Sequential()"
   ]
  },
  {
   "cell_type": "markdown",
   "metadata": {
    "slideshow": {
     "slide_type": "slide"
    }
   },
   "source": [
    "This is an \"empty\" model, with no layers, no inputs or outputs are defined either.\n",
    "\n",
    "Adding layer is easy:"
   ]
  },
  {
   "cell_type": "code",
   "execution_count": 2,
   "metadata": {
    "cell_style": "center",
    "slideshow": {
     "slide_type": "-"
    }
   },
   "outputs": [],
   "source": [
    "import keras\n",
    "from keras.layers import Dense\n",
    "\n",
    "model.add(Dense(units=3, activation='relu', input_dim=3))\n",
    "model.add(Dense(units=2, activation='softmax'))"
   ]
  },
  {
   "cell_type": "markdown",
   "metadata": {
    "slideshow": {
     "slide_type": "-"
    }
   },
   "source": [
    "\n",
    "A \"Dense\" layer is a fully connected layer as the ones we have seen in Multi-layer Perceptrons.\n",
    "The above is equal to having this network:\n",
    "\n",
    "<img src=\"figures/simplenet.png\">\n"
   ]
  },
  {
   "cell_type": "markdown",
   "metadata": {
    "slideshow": {
     "slide_type": "slide"
    }
   },
   "source": [
    "If we want to see the layers in the Model this far, we can just call:"
   ]
  },
  {
   "cell_type": "code",
   "execution_count": 3,
   "metadata": {
    "scrolled": true,
    "slideshow": {
     "slide_type": "-"
    }
   },
   "outputs": [
    {
     "name": "stdout",
     "output_type": "stream",
     "text": [
      "Model: \"sequential\"\n",
      "_________________________________________________________________\n",
      "Layer (type)                 Output Shape              Param #   \n",
      "=================================================================\n",
      "dense (Dense)                (None, 3)                 12        \n",
      "_________________________________________________________________\n",
      "dense_1 (Dense)              (None, 2)                 8         \n",
      "=================================================================\n",
      "Total params: 20\n",
      "Trainable params: 20\n",
      "Non-trainable params: 0\n",
      "_________________________________________________________________\n"
     ]
    }
   ],
   "source": [
    "model.summary()"
   ]
  },
  {
   "cell_type": "markdown",
   "metadata": {
    "slideshow": {
     "slide_type": "-"
    }
   },
   "source": [
    "Notice the number of parameters, can you tell why 12 and 8 parameters for each layer?"
   ]
  },
  {
   "cell_type": "markdown",
   "metadata": {
    "slideshow": {
     "slide_type": "slide"
    }
   },
   "source": [
    "Using \"model.add()\" keeps stacking layers on top of what we have:"
   ]
  },
  {
   "cell_type": "code",
   "execution_count": 4,
   "metadata": {},
   "outputs": [
    {
     "name": "stdout",
     "output_type": "stream",
     "text": [
      "Model: \"sequential\"\n",
      "_________________________________________________________________\n",
      "Layer (type)                 Output Shape              Param #   \n",
      "=================================================================\n",
      "dense (Dense)                (None, 3)                 12        \n",
      "_________________________________________________________________\n",
      "dense_1 (Dense)              (None, 2)                 8         \n",
      "_________________________________________________________________\n",
      "dense_2 (Dense)              (None, 2)                 6         \n",
      "=================================================================\n",
      "Total params: 26\n",
      "Trainable params: 26\n",
      "Non-trainable params: 0\n",
      "_________________________________________________________________\n"
     ]
    }
   ],
   "source": [
    "model.add(Dense(units=2, activation=None))\n",
    "model.summary()"
   ]
  },
  {
   "cell_type": "markdown",
   "metadata": {
    "slideshow": {
     "slide_type": "slide"
    }
   },
   "source": [
    "If we want to see the layers in the Model this far, we can just call:"
   ]
  },
  {
   "cell_type": "code",
   "execution_count": 5,
   "metadata": {
    "scrolled": false,
    "slideshow": {
     "slide_type": "-"
    }
   },
   "outputs": [
    {
     "data": {
      "image/png": "[encoded data removed]",
      "text/plain": [
       "<IPython.core.display.Image object>"
      ]
     },
     "execution_count": 5,
     "metadata": {},
     "output_type": "execute_result"
    }
   ],
   "source": [
    "from keras.utils import plot_model\n",
    "\n",
    "plot_model(model, \"figures/simplenet_model.png\", show_shapes=True)"
   ]
  },
  {
   "cell_type": "markdown",
   "metadata": {
    "slideshow": {
     "slide_type": "slide"
    }
   },
   "source": [
    "## Exercise\n",
    "\n",
    "* Can you build a sequential model to reproduce the graph shown in the figure? \n",
    "* Assume that this is a classifier\n",
    "* Choose whatever activations you want, wherever possible\n",
    "* How many classes are we predicting?\n",
    "\n",
    "<img src=\"figures/sequence_api_exercise.png\">"
   ]
  },
  {
   "cell_type": "code",
   "execution_count": 6,
   "metadata": {
    "slideshow": {
     "slide_type": "slide"
    }
   },
   "outputs": [
    {
     "ename": "SyntaxError",
     "evalue": "invalid syntax (<ipython-input-6-b8f89b83ef29>, line 1)",
     "output_type": "error",
     "traceback": [
      "\u001b[0;36m  File \u001b[0;32m\"<ipython-input-6-b8f89b83ef29>\"\u001b[0;36m, line \u001b[0;32m1\u001b[0m\n\u001b[0;31m    from keras.layers import #...\u001b[0m\n\u001b[0m                                 ^\u001b[0m\n\u001b[0;31mSyntaxError\u001b[0m\u001b[0;31m:\u001b[0m invalid syntax\n"
     ]
    }
   ],
   "source": [
    "from keras.layers import #...\n",
    "\n",
    "#Add your model here\n",
    "\n",
    "plot_model(model, \"figures/exercise_model.png\", show_shapes=True)"
   ]
  },
  {
   "cell_type": "markdown",
   "metadata": {
    "slideshow": {
     "slide_type": "slide"
    }
   },
   "source": [
    "## So many layers, so little time"
   ]
  },
  {
   "cell_type": "code",
   "execution_count": 7,
   "metadata": {
    "slideshow": {
     "slide_type": "-"
    }
   },
   "outputs": [],
   "source": [
    "from keras.layers import Dense\n",
    "\n",
    "n_neurons = 3\n",
    "model.add(Dense(n_neurons))"
   ]
  },
  {
   "cell_type": "markdown",
   "metadata": {},
   "source": [
    "## Keras layers (https://keras.io/api/layers/)\n",
    "\n",
    "Common layers (we will cover all of these!)\n",
    "\n",
    "* Trainable\n",
    "    * <font color='red'>Dense (fully connected/MLP)</font>\n",
    "    * Conv1D (2D/3D)\n",
    "    * MaxPooling1D (2D/3D)\n",
    "    * Recurrent: LSTM/GRU/Bidirectional\n",
    "\n",
    "\n",
    "* Non-trainable\n",
    "    * <font color='red'>Dropout</font>\n",
    "    * Flatten\n",
    "    * <font color='red'>Merge (Add/Multiply/Subtract/Concatenate)</font>\n",
    "    * <font color='red'>Activation (Softmax/ReLU/Sigmoid/...)</font>"
   ]
  },
  {
   "cell_type": "markdown",
   "metadata": {
    "slideshow": {
     "slide_type": "slide"
    }
   },
   "source": [
    "## Keras layers (https://keras.io/api/layers/)\n",
    "\n",
    "Other useful layers (we will probably not cover these)\n",
    "\n",
    "* Lambda (make your own layer!)\n",
    "* BatchNormalization\n",
    "* Reshape"
   ]
  },
  {
   "cell_type": "markdown",
   "metadata": {
    "slideshow": {
     "slide_type": "slide"
    }
   },
   "source": [
    "## Dropout is a regularization layer\n",
    "\n",
    "* It's applied to a previous layer's output\n",
    "* Takes those outputs and randomly sets them to 0 with probability p\n",
    "* Other outputs are scaled up so that the sum of the inputs remains unchanged\n",
    "* if p = 0.5: model.add(Dropout(0.5))"
   ]
  },
  {
   "cell_type": "code",
   "execution_count": 9,
   "metadata": {
    "slideshow": {
     "slide_type": "-"
    }
   },
   "outputs": [
    {
     "name": "stdout",
     "output_type": "stream",
     "text": [
      "Before:\n",
      "[[ 1.  2.  3.  4.]\n",
      " [ 5.  6.  7.  8.]\n",
      " [ 9. 10. 11. 12.]]\n",
      "After:\n",
      "tf.Tensor(\n",
      "[[ 0.  0.  6.  8.]\n",
      " [ 0. 12.  0. 16.]\n",
      " [18.  0. 22. 24.]], shape=(3, 4), dtype=float32)\n"
     ]
    }
   ],
   "source": [
    "from keras.layers import Dropout\n",
    "import numpy as np\n",
    "import tensorflow as tf\n",
    "\n",
    "tf.random.set_seed(0)\n",
    "drop = Dropout(0.5, input_shape=(4,))\n",
    "data = np.arange(1,13).reshape(3, 4).astype(np.float32)\n",
    "\n",
    "print(\"Before:\", data, sep=\"\\n\")\n",
    "output = drop(data, training=True)\n",
    "print(\"After:\", output, sep=\"\\n\")"
   ]
  },
  {
   "cell_type": "markdown",
   "metadata": {
    "slideshow": {
     "slide_type": "slide"
    }
   },
   "source": [
    "## Dropout is a regularization layer\n",
    "\n",
    "* Applying the same input twice will give different results\n",
    "* Means that it is harder for the network to memorize patterns\n",
    "* Helps curb overfitting\n",
    "* Especially used with Dense() layers which are prone to overfitting\n",
    "* Works only at training time"
   ]
  },
  {
   "cell_type": "code",
   "execution_count": 10,
   "metadata": {
    "slideshow": {
     "slide_type": "-"
    }
   },
   "outputs": [
    {
     "name": "stdout",
     "output_type": "stream",
     "text": [
      "Before:\n",
      "[[ 1.  2.  3.  4.]\n",
      " [ 5.  6.  7.  8.]\n",
      " [ 9. 10. 11. 12.]]\n",
      "After:\n",
      "tf.Tensor(\n",
      "[[ 0.  0.  6.  8.]\n",
      " [ 0. 12.  0. 16.]\n",
      " [18.  0. 22. 24.]], shape=(3, 4), dtype=float32)\n"
     ]
    }
   ],
   "source": [
    "from keras.layers import Dropout\n",
    "import numpy as np\n",
    "tf.random.set_seed(0)\n",
    "drop = Dropout(0.5, input_shape=(4,))\n",
    "data = np.arange(1,13).reshape(3, 4).astype(np.float32)\n",
    "\n",
    "print(\"Before:\", data, sep=\"\\n\")\n",
    "output = drop(data, training=True)\n",
    "print(\"After:\", output, sep=\"\\n\")"
   ]
  },
  {
   "cell_type": "markdown",
   "metadata": {
    "slideshow": {
     "slide_type": "slide"
    }
   },
   "source": [
    "## Keras activations (https://keras.io/api/layers/activations/)\n",
    "\n",
    "Activation functions for regression or inner layers:\n",
    "* Sigmoid\n",
    "* Tanh\n",
    "* ReLU\n",
    "* LeakyReLU\n",
    "* Linear (None)\n",
    "\n",
    "THE activation function for classification (output layer only):\n",
    "* Softmax (ouputs probabilities for each class)"
   ]
  },
  {
   "cell_type": "markdown",
   "metadata": {
    "slideshow": {
     "slide_type": "slide"
    }
   },
   "source": [
    "## Softmax\n",
    "\n",
    "It's an activation function applied to a output vector z with K elements (one per class) and outputs a probability distribution over the classes:\n",
    "\n",
    "<table><tr>\n",
    "<td><img src=\"figures/simplenet.png\" width=200></td>\n",
    "<td><img src=\"figures/softmax.svg\"></td>\n",
    "</tr></table>\n",
    "\n",
    "What makes softmax your favorite activation:\n",
    "\n",
    "* K outputs sums to 1\n",
    "* K probabilities proportional to the exponentials of the input numbers\n",
    "* No negative outputs\n",
    "* Monotonically increasing output with increasing input\n",
    "\n",
    "Softmax is usually only used to activate the last layer of a NN"
   ]
  },
  {
   "cell_type": "markdown",
   "metadata": {},
   "source": [
    "## ReLU vs. old-school logistic functions\n",
    "\n",
    "* Historically, sigmoid and tanh were the most used activation functions\n",
    "* Easy derivative\n",
    "* Bound outputs (from -1 to 1)\n",
    "* They look like this:\n",
    "\n",
    "<img src=\"figures/logistic_curve.png\" width=400>"
   ]
  },
  {
   "cell_type": "markdown",
   "metadata": {
    "slideshow": {
     "slide_type": "slide"
    }
   },
   "source": [
    "## ReLU vs. old-school logistic functions\n",
    "\n",
    "* Problems arise when we are at large |x|\n",
    "* The derivative in that area becomes small (saturation)\n",
    "* Remember what the chain rule said?\n",
    "\n",
    "<img src=\"figures/logistic_curve.png\" width=400>\n"
   ]
  },
  {
   "cell_type": "markdown",
   "metadata": {
    "slideshow": {
     "slide_type": "slide"
    }
   },
   "source": [
    "## ReLU vs. old-school logistic functions\n",
    "\n",
    "* When we have n layers, we have n activation functions\n",
    "* At layer n the derivative is proportional to:\n",
    "$$\\begin{eqnarray} \n",
    "\\frac{\\partial L(w,b|x)}{\\partial w_{ln}} & \\propto &  \\frac{\\partial a_{ln}}{\\partial z_{ln}}\n",
    "\\end{eqnarray}$$\n",
    "* At layer 1 the derivative is proportional to:\n",
    "$$\\begin{eqnarray} \n",
    "\\frac{\\partial L(w,b|x)}{\\partial w_{l1}} & \\propto &  \\frac{\\partial a_{ln}}{\\partial z_{ln}} \\times \\frac{\\partial a_{n-1}}{\\partial z_{ln-1}} \\times \\frac{\\partial a_{ln-2}}{\\partial z_{ln-2}} \\ldots \\times \\frac{\\partial a_{l1}}{\\partial z_{l1}}\n",
    "\\end{eqnarray}$$\n",
    "* It is the product of many numbers < 1\n",
    "* Gradient becomes smaller and smaller for the initial layers\n",
    "* Gradient vanishing problem\n",
    "\n",
    "<img src=\"figures/large_net.png\" width=400>"
   ]
  },
  {
   "cell_type": "markdown",
   "metadata": {
    "slideshow": {
     "slide_type": "slide"
    }
   },
   "source": [
    "## ReLU is the first activation to address the issue\n",
    "\n",
    "<img src=\"figures/relu.png\" width=400>\n",
    "\n",
    "Used in \"internal\" layers, usually not at last layer\n",
    "\n",
    "Pros:\n",
    "* Easy derivative (1 for x > 0, 0 elsewhere)\n",
    "* Derivative doesn't saturate for x > 0: alleviates gradient vanishing\n",
    "* Non-linear\n",
    "\n",
    "Cons:\n",
    "* Non-derivable at 0\n",
    "* Dead neurons if x << 0\n",
    "* Potential gradient explosion"
   ]
  },
  {
   "cell_type": "markdown",
   "metadata": {
    "slideshow": {
     "slide_type": "slide"
    }
   },
   "source": [
    "## Other ReLU-like activations\n",
    "\n",
    "LeakyReLU/PReLU\n",
    "* Non-zero at x < 0\n",
    "\n",
    "<img src=\"figures/leakyrelu.png?0\" width=400>\n",
    "\n",
    "ELU\n",
    "* Derivable at 0\n",
    "* Non-zero at x < 0\n",
    "\n",
    "<img src=\"figures/elu.png?0\" width=400>\n"
   ]
  },
  {
   "cell_type": "markdown",
   "metadata": {
    "slideshow": {
     "slide_type": "slide"
    }
   },
   "source": [
    "## Setting activations in Keras\n",
    "\n",
    "We can add activations as string parameters, or as functions:"
   ]
  },
  {
   "cell_type": "code",
   "execution_count": null,
   "metadata": {
    "slideshow": {
     "slide_type": "-"
    }
   },
   "outputs": [],
   "source": [
    "model = Sequential() \n",
    "model.add(Dense(units=2, activation='sigmoid'))\n",
    "model.add(Dense(units=2, activation='relu'))\n",
    "model.add(Dense(units=2, activation=keras.activations.relu))\n",
    "model.add(Dense(units=2, activation='softmax'))"
   ]
  },
  {
   "cell_type": "markdown",
   "metadata": {
    "slideshow": {
     "slide_type": "slide"
    }
   },
   "source": [
    "But also as separate layers"
   ]
  },
  {
   "cell_type": "code",
   "execution_count": 11,
   "metadata": {
    "slideshow": {
     "slide_type": "-"
    }
   },
   "outputs": [],
   "source": [
    "import keras\n",
    "from keras.layers import Activation\n",
    "\n",
    "model = Sequential() \n",
    "model.add(Dense(units=2))\n",
    "model.add(Activation('sigmoid'))\n",
    "model.add(Dense(units=2))\n",
    "model.add(Activation('relu'))\n",
    "model.add(Dense(units=2))\n",
    "model.add(Activation(keras.activations.relu))\n",
    "model.add(Dense(units=2))\n",
    "model.add(Activation('softmax'))"
   ]
  },
  {
   "cell_type": "markdown",
   "metadata": {
    "slideshow": {
     "slide_type": "slide"
    }
   },
   "source": [
    "Once we have defined a model we want to \"compile\" it\n",
    "\n",
    "This means chosing a Loss function and an Optimizer (the algorithm that finds the minimum loss possible)."
   ]
  },
  {
   "cell_type": "code",
   "execution_count": 12,
   "metadata": {
    "scrolled": true,
    "slideshow": {
     "slide_type": "-"
    }
   },
   "outputs": [
    {
     "data": {
      "text/plain": [
       "{'name': 'RMSprop',\n",
       " 'learning_rate': 0.001,\n",
       " 'decay': 0.0,\n",
       " 'rho': 0.9,\n",
       " 'momentum': 0.0,\n",
       " 'epsilon': 1e-07,\n",
       " 'centered': False}"
      ]
     },
     "execution_count": 12,
     "metadata": {},
     "output_type": "execute_result"
    }
   ],
   "source": [
    "model.compile(optimizer='rmsprop',                    #adaptive learning rate method\n",
    "              loss='sparse_categorical_crossentropy', #loss function for classification problems with integer labels\n",
    "              metrics=['accuracy'])                   #the metric doesn't influence the training\n",
    "\n",
    "model.optimizer.get_config()"
   ]
  },
  {
   "cell_type": "markdown",
   "metadata": {
    "slideshow": {
     "slide_type": "slide"
    }
   },
   "source": [
    "## Passing classes as parameters\n",
    "\n",
    "* Some parameters can be set by passing a string (optimizer='rmsprop')\n",
    "* we need to explicitly import the object if we want better control (optimizer=RMSprop())"
   ]
  },
  {
   "cell_type": "code",
   "execution_count": 13,
   "metadata": {
    "slideshow": {
     "slide_type": "-"
    }
   },
   "outputs": [
    {
     "data": {
      "text/plain": [
       "{'name': 'RMSprop',\n",
       " 'learning_rate': 0.001,\n",
       " 'decay': 0.0,\n",
       " 'rho': 0.9,\n",
       " 'momentum': 0.0,\n",
       " 'epsilon': 1e-07,\n",
       " 'centered': False}"
      ]
     },
     "execution_count": 13,
     "metadata": {},
     "output_type": "execute_result"
    }
   ],
   "source": [
    "from keras.optimizers import RMSprop\n",
    "model.compile(optimizer=RMSprop(),                    #adaptive learning rate method\n",
    "              loss='sparse_categorical_crossentropy', #loss function for classification problems with integer labels\n",
    "              metrics=['accuracy'])                   #the metric doesn't influence the training\n",
    "\n",
    "model.optimizer.get_config()"
   ]
  },
  {
   "cell_type": "markdown",
   "metadata": {
    "slideshow": {
     "slide_type": "slide"
    }
   },
   "source": [
    "## Passing classes as parameters\n",
    "\n",
    "* Some parameters can be set by passing a string (optimizer='rmsprop')\n",
    "* we need to explicitly import the object if we want better control (optimizer=RMSprop())"
   ]
  },
  {
   "cell_type": "code",
   "execution_count": 14,
   "metadata": {
    "slideshow": {
     "slide_type": "-"
    }
   },
   "outputs": [
    {
     "data": {
      "text/plain": [
       "{'name': 'RMSprop',\n",
       " 'learning_rate': 1.0,\n",
       " 'decay': 0.0,\n",
       " 'rho': 0.9,\n",
       " 'momentum': 0.0,\n",
       " 'epsilon': 1e-07,\n",
       " 'centered': False}"
      ]
     },
     "execution_count": 14,
     "metadata": {},
     "output_type": "execute_result"
    }
   ],
   "source": [
    "from keras.optimizers import RMSprop\n",
    "model.compile(optimizer=RMSprop(learning_rate=1.0),   #adaptive learning rate method\n",
    "              loss='sparse_categorical_crossentropy', #loss function for classification problems with integer labels\n",
    "              metrics=['accuracy'])                   #the metric doesn't influence the training\n",
    "\n",
    "model.optimizer.get_config()"
   ]
  },
  {
   "cell_type": "markdown",
   "metadata": {
    "slideshow": {
     "slide_type": "slide"
    }
   },
   "source": [
    "## Losses (https://keras.io/api/losses/)\n",
    "\n",
    "These are the functions used to evaluate and train the neural network\n",
    "\n",
    "Common losses for classification problems:\n",
    "* CategoricalCrossentropy\n",
    "* SparseCategoricalCrossentropy\n",
    "* KLDivergence\n",
    "\n",
    "Common losses for regression problems:\n",
    "* MeanSquaredError\n",
    "* MeanAbsoluteError"
   ]
  },
  {
   "cell_type": "markdown",
   "metadata": {
    "slideshow": {
     "slide_type": "slide"
    }
   },
   "source": [
    "## Metrics (https://keras.io/api/metrics/)\n",
    "\n",
    "Common metrics for classification:\n",
    "* Accuracy/CategoricalAccuracy (respectively for integer labels or one-hot labels)\n",
    "* SparseCategoricalCrossentropy/CategoricalCrossentropy (integer/one-hot labels)\n",
    "* Precision/Recall\n",
    "* AUC\n",
    "\n",
    "Common metrics for regression:\n",
    "* MeanSquaredError\n",
    "* MeanAbsoluteError"
   ]
  },
  {
   "cell_type": "markdown",
   "metadata": {
    "slideshow": {
     "slide_type": "slide"
    }
   },
   "source": [
    "## Metrics (https://keras.io/api/metrics/)\n",
    "\n",
    "Notice the \"metrics\" parameter, which accepts a list of values. Multiple metrics can be shown during training.\n",
    "Metrics are only to visualize how the training is going, they don't have an effect on training itself"
   ]
  },
  {
   "cell_type": "code",
   "execution_count": 15,
   "metadata": {
    "slideshow": {
     "slide_type": "-"
    }
   },
   "outputs": [],
   "source": [
    "from keras.optimizers import RMSprop\n",
    "model.compile(optimizer=RMSprop(learning_rate=1.0),   #adaptive learning rate method\n",
    "              loss='sparse_categorical_crossentropy', #loss function for classification problems with integer labels\n",
    "              metrics=['accuracy', 'recall'])         #the metric doesn't influence the training"
   ]
  },
  {
   "cell_type": "markdown",
   "metadata": {
    "slideshow": {
     "slide_type": "slide"
    }
   },
   "source": [
    "## Optimizers (https://keras.io/api/optimizers/)\n",
    "\n",
    "We need to choose a learning rate to multiply to our gradient. If it is too small, we risk taking too long to get to a minimum\n",
    "<img src=\"figures/small_lr.png\">"
   ]
  },
  {
   "cell_type": "markdown",
   "metadata": {
    "slideshow": {
     "slide_type": "slide"
    }
   },
   "source": [
    "## Optimizers (https://keras.io/api/optimizers/)\n",
    "\n",
    "If it is too large, the network risks becoming unstable, explode\n",
    "\n",
    "<img src=\"figures/large_lr.png\">"
   ]
  },
  {
   "cell_type": "markdown",
   "metadata": {
    "slideshow": {
     "slide_type": "slide"
    }
   },
   "source": [
    "## Optimizers (https://keras.io/api/optimizers/)\n",
    "\n",
    "Luckily there are algorithms to address these issues:\n",
    "* Increase descent speed when past gradients agree with current, slow down otherwise (momentum)\n",
    "* Annealing (decrease learning rate with passing time)\n",
    "* Different learning rates for different parameters\n",
    "* Adaptive learning rate based on gradient\n",
    "\n",
    "<img src=\"figures/adaptive_lr.png\">"
   ]
  },
  {
   "cell_type": "markdown",
   "metadata": {
    "slideshow": {
     "slide_type": "slide"
    }
   },
   "source": [
    "## Optimizers (https://keras.io/api/optimizers/)\n",
    "\n",
    "* They are algorithms for gradient descent\n",
    "* A few to choose from:\n",
    "    * SGD (stochastic gradient descent)\n",
    "        * One learning rate, fixed\n",
    "        * Old, but works well with Nesterov momentum\n",
    "    * RMSprop\n",
    "        * One learning rate per parameter\n",
    "        * Adaptive learning rate (divide by squared mean of past gradients)\n",
    "    * Adadelta (adaptive learning rate)\n",
    "        * Similar to RMSprop, no need to set initial learning rate\n",
    "    * Adam (Adaptive moment estimation)\n",
    "        * Combines pros from RMSprop, Adadelta, works well with most problems\n"
   ]
  },
  {
   "cell_type": "markdown",
   "metadata": {
    "slideshow": {
     "slide_type": "slide"
    }
   },
   "source": [
    "## Optimizers (https://keras.io/api/optimizers/)\n",
    "\n",
    "<img src=\"figures/adam_et_al.png\" width=500>\n",
    "<div style=\"text-align: right\">(\"Adam: A Method for Stochastic Optimization\", 2015)</div>"
   ]
  },
  {
   "cell_type": "markdown",
   "metadata": {
    "slideshow": {
     "slide_type": "slide"
    }
   },
   "source": [
    "## The functional API in Keras\n",
    "\n",
    "* Sequential() is quite simple, but limited\n",
    "* What if we want to have multiple input/output layers?\n",
    "* What if we want a model that is not just a linear sequence of layers?\n",
    "\n",
    "<img src=\"figures/functional_api_40_0.png\">"
   ]
  },
  {
   "cell_type": "markdown",
   "metadata": {
    "slideshow": {
     "slide_type": "slide"
    }
   },
   "source": [
    "# Functional API (https://keras.io/guides/functional_api)\n",
    "\n",
    "* Layers are now treated as... functions\n",
    "* Now the tensors are explicit variables\n",
    "* Remember: g = f(x)\n",
    "* Careful not to mix up tensors (arguments) and layers (functions)"
   ]
  },
  {
   "cell_type": "code",
   "execution_count": 16,
   "metadata": {},
   "outputs": [
    {
     "name": "stdout",
     "output_type": "stream",
     "text": [
      "tf.Tensor([[2. 3. 4.]], shape=(1, 3), dtype=float32)\n",
      "tf.Tensor([[1.7989216]], shape=(1, 1), dtype=float32)\n"
     ]
    }
   ],
   "source": [
    "import tensorflow as tf\n",
    "\n",
    "x = tf.constant([[2.0, 3.0, 4.0]]) #this is a tensor containing constant values\n",
    "f = Dense(1, input_dim=3) #this is a layer with 3 inputs, 1 output\n",
    "g = f(x)\n",
    "\n",
    "print(x)\n",
    "print(g)"
   ]
  },
  {
   "cell_type": "markdown",
   "metadata": {
    "slideshow": {
     "slide_type": "slide"
    }
   },
   "source": [
    "Now, let's go back to the first neural network we built with Sequential()"
   ]
  },
  {
   "cell_type": "code",
   "execution_count": 17,
   "metadata": {},
   "outputs": [
    {
     "name": "stdout",
     "output_type": "stream",
     "text": [
      "Model: \"sequential_2\"\n",
      "_________________________________________________________________\n",
      "Layer (type)                 Output Shape              Param #   \n",
      "=================================================================\n",
      "dense_9 (Dense)              (None, 3)                 12        \n",
      "_________________________________________________________________\n",
      "dense_10 (Dense)             (None, 2)                 8         \n",
      "=================================================================\n",
      "Total params: 20\n",
      "Trainable params: 20\n",
      "Non-trainable params: 0\n",
      "_________________________________________________________________\n"
     ]
    }
   ],
   "source": [
    "model = Sequential()\n",
    "\n",
    "model.add(Dense(units=3, activation='relu', input_dim=3))\n",
    "model.add(Dense(units=2, activation='softmax'))\n",
    "\n",
    "model.summary()"
   ]
  },
  {
   "cell_type": "markdown",
   "metadata": {
    "slideshow": {
     "slide_type": "slide"
    }
   },
   "source": [
    "And here is how we make the same model with the functional API:"
   ]
  },
  {
   "cell_type": "code",
   "execution_count": 18,
   "metadata": {},
   "outputs": [
    {
     "name": "stdout",
     "output_type": "stream",
     "text": [
      "Model: \"functional API model\"\n",
      "_________________________________________________________________\n",
      "Layer (type)                 Output Shape              Param #   \n",
      "=================================================================\n",
      "input_1 (InputLayer)         [(None, 3)]               0         \n",
      "_________________________________________________________________\n",
      "dense_11 (Dense)             (None, 3)                 12        \n",
      "_________________________________________________________________\n",
      "dense_12 (Dense)             (None, 2)                 8         \n",
      "=================================================================\n",
      "Total params: 20\n",
      "Trainable params: 20\n",
      "Non-trainable params: 0\n",
      "_________________________________________________________________\n"
     ]
    }
   ],
   "source": [
    "from keras.layers import Dense, Input\n",
    "\n",
    "input_tensor = Input((3,)) #input is a bit like a layer, but it is a function that returns a tensor\n",
    "\n",
    "dense1 = Dense(3, activation='relu') #Dense is a layer constructor, does NOT return a tensor but a layer\n",
    "dense2 = Dense(2, activation='relu')\n",
    "\n",
    "dense1_out = dense1(input_tensor) #when you apply a layer to a tensor, you get another tensor as output\n",
    "dense2_out = dense2(dense1_out)\n",
    "output_tensor = dense2_out\n",
    "\n",
    "model = keras.Model(inputs=input_tensor, outputs=output_tensor, name=\"functional API model\")\n",
    "model.summary()"
   ]
  },
  {
   "cell_type": "markdown",
   "metadata": {
    "slideshow": {
     "slide_type": "slide"
    }
   },
   "source": [
    "Note:\n",
    "* Layer functions (Dense(...)) return layers...\n",
    "* ... except for Input(), which returns a tensor instead\n",
    "* We have to explicitly connect the \"inputs\" tensor to the \"outputs\" tensor to form the graph\n",
    "* The input layer is explicitly represented in the first row of the table\n",
    "* The input layer has 0 parameters"
   ]
  },
  {
   "cell_type": "code",
   "execution_count": 19,
   "metadata": {
    "slideshow": {
     "slide_type": "-"
    }
   },
   "outputs": [
    {
     "name": "stdout",
     "output_type": "stream",
     "text": [
      "Model: \"functional API model\"\n",
      "_________________________________________________________________\n",
      "Layer (type)                 Output Shape              Param #   \n",
      "=================================================================\n",
      "input_1 (InputLayer)         [(None, 3)]               0         \n",
      "_________________________________________________________________\n",
      "dense_11 (Dense)             (None, 3)                 12        \n",
      "_________________________________________________________________\n",
      "dense_12 (Dense)             (None, 2)                 8         \n",
      "=================================================================\n",
      "Total params: 20\n",
      "Trainable params: 20\n",
      "Non-trainable params: 0\n",
      "_________________________________________________________________\n"
     ]
    }
   ],
   "source": [
    "model = keras.Model(inputs=input_tensor, outputs=output_tensor, name=\"functional API model\")\n",
    "model.summary()"
   ]
  },
  {
   "cell_type": "markdown",
   "metadata": {},
   "source": [
    "## Exercise\n",
    "\n",
    "* Can you use the functional API to reproduce the model shown in the figure? \n",
    "* As a hint, I will do all the imports for you, and I will initialize some of the layers\n",
    "* Check the docs (keras.io) to see how each import should be used\n",
    "\n",
    "\n",
    "* It's ok if you can't do it! We are just getting started after all...\n",
    "\n",
    "<img src=\"figures/functional_api_40_0.png\">"
   ]
  },
  {
   "cell_type": "code",
   "execution_count": null,
   "metadata": {
    "slideshow": {
     "slide_type": "slide"
    }
   },
   "outputs": [],
   "source": [
    "from keras.layers import Input, Embedding, LSTM, Concatenate, Dense\n",
    "\n",
    "title_input = Input((None,), name=\"title\")\n",
    "title_embed = Embedding(1000, 64, name=\"embedding\")\n",
    "title_lstm = LSTM(128, name=\"lstm\", activation=\"sigmoid\")\n",
    "\n",
    "tags = Input((12,), name=\"tags\")\n",
    "concatenate = Concatenate(name=\"concatenate\",axis=-1)\n",
    "\n",
    "priority = Dense(1, name=\"priority\", activation=\"...\")\n",
    "\n",
    "title_embed_out = title_embed(title_input)\n",
    "title_lstm_out = title_lstm(title_embed_out)\n",
    "\n",
    "concatenate_all = concatenate([title_lstm_out, ..., ...])\n",
    "\n",
    "priority_out = priority(concatenate_all)\n",
    "\n",
    "model = keras.Model(inputs=[..., ..., ...], outputs=[..., ...])\n",
    "plot_model(model, \"figures/apinet_model.png\", show_shapes=True)"
   ]
  },
  {
   "cell_type": "markdown",
   "metadata": {},
   "source": [
    "## Training the model: fit() function (https://keras.io/api/models/model_training_apis/)\n",
    "\n",
    "* We are almost ready to train the model, I swear\n",
    "* fit() is a method of the Model, actually launches training on a dataset with features and labels\n",
    "* X_train -> features\n",
    "* y_train -> labels\n",
    "* batch: have we talked about stochastic gradient descent yet?\n",
    "* epochs: how many times we go t"
   ]
  },
  {
   "cell_type": "code",
   "execution_count": null,
   "metadata": {},
   "outputs": [],
   "source": [
    "model.fit(X_train, y_train, batch=32, epochs=10, validation_data=(X_val, y_val))"
   ]
  },
  {
   "cell_type": "markdown",
   "metadata": {},
   "source": [
    "## Training the model: fit() function (https://keras.io/api/models/model_training_apis/)\n",
    "\n",
    "* Ok, we miss the actual data, then we can train the model"
   ]
  },
  {
   "cell_type": "code",
   "execution_count": 24,
   "metadata": {},
   "outputs": [
    {
     "ename": "NameError",
     "evalue": "name 'X_train' is not defined",
     "output_type": "error",
     "traceback": [
      "\u001b[0;31m---------------------------------------------------------------------------\u001b[0m",
      "\u001b[0;31mNameError\u001b[0m                                 Traceback (most recent call last)",
      "\u001b[0;32m<ipython-input-24-abbe6227cbd4>\u001b[0m in \u001b[0;36m<module>\u001b[0;34m\u001b[0m\n\u001b[0;32m----> 1\u001b[0;31m \u001b[0mmodel\u001b[0m\u001b[0;34m.\u001b[0m\u001b[0mfit\u001b[0m\u001b[0;34m(\u001b[0m\u001b[0mX_train\u001b[0m\u001b[0;34m,\u001b[0m \u001b[0my_train\u001b[0m\u001b[0;34m,\u001b[0m \u001b[0mbatch\u001b[0m\u001b[0;34m=\u001b[0m\u001b[0;36m32\u001b[0m\u001b[0;34m,\u001b[0m \u001b[0mepochs\u001b[0m\u001b[0;34m=\u001b[0m\u001b[0;36m10\u001b[0m\u001b[0;34m,\u001b[0m \u001b[0mvalidation_data\u001b[0m\u001b[0;34m=\u001b[0m\u001b[0;34m(\u001b[0m\u001b[0mX_val\u001b[0m\u001b[0;34m,\u001b[0m \u001b[0my_val\u001b[0m\u001b[0;34m)\u001b[0m\u001b[0;34m)\u001b[0m\u001b[0;34m\u001b[0m\u001b[0;34m\u001b[0m\u001b[0m\n\u001b[0m",
      "\u001b[0;31mNameError\u001b[0m: name 'X_train' is not defined"
     ]
    }
   ],
   "source": [
    "model.fit(X_train, y_train, batch=32, epochs=10, validation_data=(X_val, y_val))"
   ]
  }
 ],
 "metadata": {
  "celltoolbar": "Slideshow",
  "kernelspec": {
   "display_name": "Python 3",
   "language": "python",
   "name": "python3"
  },
  "language_info": {
   "codemirror_mode": {
    "name": "ipython",
    "version": 3
   },
   "file_extension": ".py",
   "mimetype": "text/x-python",
   "name": "python",
   "nbconvert_exporter": "python",
   "pygments_lexer": "ipython3",
   "version": "3.7.6"
  }
 },
 "nbformat": 4,
 "nbformat_minor": 4
}
