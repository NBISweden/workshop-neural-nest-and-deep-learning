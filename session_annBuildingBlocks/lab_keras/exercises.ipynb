{
 "cells": [
  {
   "cell_type": "markdown",
   "metadata": {},
   "source": [
    "# Keras intro exercises\n",
    "\n",
    "## 1. Build a simple sequential model\n",
    "\n",
    "* Can you build a sequential model to reproduce the graph shown in the figure? \n",
    "* Assume that this is a classifier\n",
    "* Choose whatever activations you want, wherever possible\n",
    "* How many classes are we predicting?\n",
    "\n",
    "<center><img src=\"figures/sequence_api_exercise.png\"></center>"
   ]
  },
  {
   "cell_type": "code",
   "execution_count": null,
   "metadata": {},
   "outputs": [],
   "source": [
    "#!wget https://raw.githubusercontent.com/NBISweden/workshop-neural-nets-and-deep-learning/master/session_annBuildingBlocks/lab_keras/exercises.ipynb\n",
    "!mkdir figures\n",
    "!wget -P figures/ https://raw.githubusercontent.com/NBISweden/workshop-neural-nets-and-deep-learning/master/session_annBuildingBlocks/lab_keras/figures/sequence_api_exercise.png"
   ]
  },
  {
   "cell_type": "code",
   "execution_count": null,
   "metadata": {},
   "outputs": [],
   "source": [
    "import warnings\n",
    "warnings.filterwarnings('ignore')"
   ]
  },
  {
   "cell_type": "code",
   "execution_count": 3,
   "metadata": {},
   "outputs": [
    {
     "name": "stderr",
     "output_type": "stream",
     "text": [
      "2023-03-20 15:46:37.121579: I tensorflow/compiler/jit/xla_cpu_device.cc:41] Not creating XLA devices, tf_xla_enable_xla_devices not set\n",
      "2023-03-20 15:46:37.122137: I tensorflow/core/platform/cpu_feature_guard.cc:142] This TensorFlow binary is optimized with oneAPI Deep Neural Network Library (oneDNN) to use the following CPU instructions in performance-critical operations:  SSE4.1 SSE4.2 AVX AVX2 FMA\n",
      "To enable them in other operations, rebuild TensorFlow with the appropriate compiler flags.\n",
      "2023-03-20 15:46:37.123102: I tensorflow/core/common_runtime/process_util.cc:146] Creating new thread pool with default inter op setting: 2. Tune using inter_op_parallelism_threads for best performance.\n"
     ]
    }
   ],
   "source": [
    "from tensorflow.keras.models import Sequential\n",
    "from tensorflow.keras.layers import Dense\n",
    "\n",
    "model = Sequential()\n",
    "model.add(Dense(units=64, activation='relu', input_dim=784, name=\"Dense\"))\n",
    "model.add(Dense(units=64, activation='relu', name=\"dense_1\"))\n",
    "model.add(Dense(units=10, activation='softmax', name=\"dense_2\"))"
   ]
  },
  {
   "cell_type": "code",
   "execution_count": 2,
   "metadata": {},
   "outputs": [
    {
     "data": {
      "image/png": "[encoded data removed]",
      "text/plain": [
       "<IPython.core.display.Image object>"
      ]
     },
     "execution_count": 2,
     "metadata": {},
     "output_type": "execute_result"
    }
   ],
   "source": [
    "from tensorflow.keras.utils import plot_model\n",
    "\n",
    "#Add your model here\n",
    "\n",
    "plot_model(model, \"figures/exercise_model.png\", show_shapes=True)"
   ]
  },
  {
   "cell_type": "markdown",
   "metadata": {},
   "source": [
    "## 2. Build a better XOR classifier\n",
    "\n",
    "Given the model seen at lecture, how do we make a better classifier (higher accuracy)?\n",
    "\n",
    "* More layers? More neurons?\n",
    "* Generate more data?\n",
    "* More epochs?\n",
    "* Different batch size?\n",
    "* Different optimizer?\n",
    "* It's up to you! Let's see who does best on validation\n",
    "\n",
    "Only for Tuesday's session:\n",
    "\n",
    "* Different activations?\n",
    "* Add Dropout? How large?"
   ]
  },
  {
   "cell_type": "markdown",
   "metadata": {},
   "source": [
    "Training curve plotting function:"
   ]
  },
  {
   "cell_type": "code",
   "execution_count": 1,
   "metadata": {},
   "outputs": [],
   "source": [
    "%matplotlib inline\n",
    "\n",
    "import matplotlib.pyplot as plt\n",
    "import numpy as np\n",
    "\n",
    "def plot_loss_acc(history):\n",
    "    try:\n",
    "        plt.plot(history.history['accuracy'])\n",
    "        plt.plot(history.history['val_accuracy'])\n",
    "    except:\n",
    "        plt.plot(history.history['acc'])\n",
    "        plt.plot(history.history['val_acc'])\n",
    "        \n",
    "    plt.plot(history.history['loss'])\n",
    "    plt.plot(history.history['val_loss'])\n",
    "    plt.title('model accuracy')\n",
    "    plt.ylabel('accuracy')\n",
    "    plt.xlabel('epoch')\n",
    "    plt.legend(['train acc', 'val acc', 'train loss', 'val loss'], loc='upper left')\n",
    "    plt.show()"
   ]
  },
  {
   "cell_type": "markdown",
   "metadata": {},
   "source": [
    "Data generation step:"
   ]
  },
  {
   "cell_type": "code",
   "execution_count": 8,
   "metadata": {},
   "outputs": [
    {
     "name": "stdout",
     "output_type": "stream",
     "text": [
      "-0.37 xor  0.21 xor -0.22 equals 1.0\n",
      " 0.20 xor -0.29 xor  0.44 equals 0.0\n",
      "-0.44 xor -0.33 xor -0.45 equals 0.0\n"
     ]
    }
   ],
   "source": [
    "# Generate XOR data\n",
    "data = np.random.random((1000000, 3)) - 0.5\n",
    "labels = np.zeros((1000000, 1))\n",
    "\n",
    "labels[np.where(np.logical_xor(np.logical_xor(data[:,0] > 0, data[:,1] > 0), data[:,2] > 0))] = 1\n",
    "\n",
    "#let's print some data and the corresponding label to check that they match the table above\n",
    "for x in range(3):\n",
    "    print(\"{0: .2f} xor {1: .2f} xor {2: .2f} equals {3:}\".format(data[x,0], data[x,1], data[x,2], labels[x,0]))"
   ]
  },
  {
   "cell_type": "markdown",
   "metadata": {},
   "source": [
    "\n",
    "The baseline network to improve:"
   ]
  },
  {
   "cell_type": "code",
   "execution_count": 9,
   "metadata": {
    "scrolled": true
   },
   "outputs": [
    {
     "name": "stdout",
     "output_type": "stream",
     "text": [
      "Epoch 1/30\n",
      "7032/7032 [==============================] - 11s 1ms/step - loss: 0.4865 - accuracy: 0.7417 - val_loss: 0.0967 - val_accuracy: 0.9761\n",
      "Epoch 2/30\n",
      "7032/7032 [==============================] - 15s 2ms/step - loss: 0.0709 - accuracy: 0.9829 - val_loss: 0.0287 - val_accuracy: 0.9952\n",
      "Epoch 3/30\n",
      "7032/7032 [==============================] - 17s 2ms/step - loss: 0.0237 - accuracy: 0.9962 - val_loss: 0.0136 - val_accuracy: 0.9980\n",
      "Epoch 4/30\n",
      "7032/7032 [==============================] - 16s 2ms/step - loss: 0.0124 - accuracy: 0.9979 - val_loss: 0.0084 - val_accuracy: 0.9985\n",
      "Epoch 5/30\n",
      "7032/7032 [==============================] - 17s 2ms/step - loss: 0.0078 - accuracy: 0.9986 - val_loss: 0.0059 - val_accuracy: 0.9987\n",
      "Epoch 6/30\n",
      "7032/7032 [==============================] - 16s 2ms/step - loss: 0.0057 - accuracy: 0.9988 - val_loss: 0.0045 - val_accuracy: 0.9993\n",
      "Epoch 7/30\n",
      "7032/7032 [==============================] - 17s 2ms/step - loss: 0.0046 - accuracy: 0.9991 - val_loss: 0.0036 - val_accuracy: 0.9993\n",
      "Epoch 8/30\n",
      "7032/7032 [==============================] - 17s 2ms/step - loss: 0.0037 - accuracy: 0.9991 - val_loss: 0.0032 - val_accuracy: 0.9992\n",
      "Epoch 9/30\n",
      "7032/7032 [==============================] - 16s 2ms/step - loss: 0.0031 - accuracy: 0.9993 - val_loss: 0.0026 - val_accuracy: 0.9995\n",
      "Epoch 10/30\n",
      "7032/7032 [==============================] - 16s 2ms/step - loss: 0.0028 - accuracy: 0.9993 - val_loss: 0.0027 - val_accuracy: 0.9990\n",
      "Epoch 11/30\n",
      "7032/7032 [==============================] - 16s 2ms/step - loss: 0.0024 - accuracy: 0.9994 - val_loss: 0.0022 - val_accuracy: 0.9994\n",
      "Epoch 12/30\n",
      "4657/7032 [==================>...........] - ETA: 5s - loss: 0.0021 - accuracy: 0.9994"
     ]
    },
    {
     "ename": "KeyboardInterrupt",
     "evalue": "",
     "output_type": "error",
     "traceback": [
      "\u001b[0;31m---------------------------------------------------------------------------\u001b[0m",
      "\u001b[0;31mKeyboardInterrupt\u001b[0m                         Traceback (most recent call last)",
      "\u001b[0;32m/tmp/ipykernel_4810/438801614.py\u001b[0m in \u001b[0;36m<module>\u001b[0;34m\u001b[0m\n\u001b[1;32m      6\u001b[0m \u001b[0mmodel\u001b[0m\u001b[0;34m.\u001b[0m\u001b[0mcompile\u001b[0m\u001b[0;34m(\u001b[0m\u001b[0moptimizer\u001b[0m\u001b[0;34m=\u001b[0m\u001b[0;34m'adam'\u001b[0m\u001b[0;34m,\u001b[0m \u001b[0mloss\u001b[0m\u001b[0;34m=\u001b[0m\u001b[0;34m'sparse_categorical_crossentropy'\u001b[0m\u001b[0;34m,\u001b[0m \u001b[0mmetrics\u001b[0m\u001b[0;34m=\u001b[0m\u001b[0;34m[\u001b[0m\u001b[0;34m'accuracy'\u001b[0m\u001b[0;34m]\u001b[0m\u001b[0;34m)\u001b[0m\u001b[0;34m\u001b[0m\u001b[0;34m\u001b[0m\u001b[0m\n\u001b[1;32m      7\u001b[0m \u001b[0;31m# Train the model, iterating on the data in batches of 32 samples\u001b[0m\u001b[0;34m\u001b[0m\u001b[0;34m\u001b[0m\u001b[0;34m\u001b[0m\u001b[0m\n\u001b[0;32m----> 8\u001b[0;31m \u001b[0mhistory\u001b[0m \u001b[0;34m=\u001b[0m \u001b[0mmodel\u001b[0m\u001b[0;34m.\u001b[0m\u001b[0mfit\u001b[0m\u001b[0;34m(\u001b[0m\u001b[0mdata\u001b[0m\u001b[0;34m,\u001b[0m \u001b[0mlabels\u001b[0m\u001b[0;34m,\u001b[0m \u001b[0mepochs\u001b[0m\u001b[0;34m=\u001b[0m\u001b[0;36m30\u001b[0m\u001b[0;34m,\u001b[0m \u001b[0mbatch_size\u001b[0m\u001b[0;34m=\u001b[0m\u001b[0;36m128\u001b[0m\u001b[0;34m,\u001b[0m \u001b[0mvalidation_split\u001b[0m\u001b[0;34m=\u001b[0m\u001b[0;36m0.1\u001b[0m\u001b[0;34m)\u001b[0m\u001b[0;34m\u001b[0m\u001b[0;34m\u001b[0m\u001b[0m\n\u001b[0m",
      "\u001b[0;32m~/miniconda3/envs/nn_dl_python_v23/lib/python3.7/site-packages/tensorflow/python/keras/engine/training.py\u001b[0m in \u001b[0;36mfit\u001b[0;34m(self, x, y, batch_size, epochs, verbose, callbacks, validation_split, validation_data, shuffle, class_weight, sample_weight, initial_epoch, steps_per_epoch, validation_steps, validation_batch_size, validation_freq, max_queue_size, workers, use_multiprocessing)\u001b[0m\n\u001b[1;32m   1098\u001b[0m                 _r=1):\n\u001b[1;32m   1099\u001b[0m               \u001b[0mcallbacks\u001b[0m\u001b[0;34m.\u001b[0m\u001b[0mon_train_batch_begin\u001b[0m\u001b[0;34m(\u001b[0m\u001b[0mstep\u001b[0m\u001b[0;34m)\u001b[0m\u001b[0;34m\u001b[0m\u001b[0;34m\u001b[0m\u001b[0m\n\u001b[0;32m-> 1100\u001b[0;31m               \u001b[0mtmp_logs\u001b[0m \u001b[0;34m=\u001b[0m \u001b[0mself\u001b[0m\u001b[0;34m.\u001b[0m\u001b[0mtrain_function\u001b[0m\u001b[0;34m(\u001b[0m\u001b[0miterator\u001b[0m\u001b[0;34m)\u001b[0m\u001b[0;34m\u001b[0m\u001b[0;34m\u001b[0m\u001b[0m\n\u001b[0m\u001b[1;32m   1101\u001b[0m               \u001b[0;32mif\u001b[0m \u001b[0mdata_handler\u001b[0m\u001b[0;34m.\u001b[0m\u001b[0mshould_sync\u001b[0m\u001b[0;34m:\u001b[0m\u001b[0;34m\u001b[0m\u001b[0;34m\u001b[0m\u001b[0m\n\u001b[1;32m   1102\u001b[0m                 \u001b[0mcontext\u001b[0m\u001b[0;34m.\u001b[0m\u001b[0masync_wait\u001b[0m\u001b[0;34m(\u001b[0m\u001b[0;34m)\u001b[0m\u001b[0;34m\u001b[0m\u001b[0;34m\u001b[0m\u001b[0m\n",
      "\u001b[0;32m~/miniconda3/envs/nn_dl_python_v23/lib/python3.7/site-packages/tensorflow/python/eager/def_function.py\u001b[0m in \u001b[0;36m__call__\u001b[0;34m(self, *args, **kwds)\u001b[0m\n\u001b[1;32m    826\u001b[0m     \u001b[0mtracing_count\u001b[0m \u001b[0;34m=\u001b[0m \u001b[0mself\u001b[0m\u001b[0;34m.\u001b[0m\u001b[0mexperimental_get_tracing_count\u001b[0m\u001b[0;34m(\u001b[0m\u001b[0;34m)\u001b[0m\u001b[0;34m\u001b[0m\u001b[0;34m\u001b[0m\u001b[0m\n\u001b[1;32m    827\u001b[0m     \u001b[0;32mwith\u001b[0m \u001b[0mtrace\u001b[0m\u001b[0;34m.\u001b[0m\u001b[0mTrace\u001b[0m\u001b[0;34m(\u001b[0m\u001b[0mself\u001b[0m\u001b[0;34m.\u001b[0m\u001b[0m_name\u001b[0m\u001b[0;34m)\u001b[0m \u001b[0;32mas\u001b[0m \u001b[0mtm\u001b[0m\u001b[0;34m:\u001b[0m\u001b[0;34m\u001b[0m\u001b[0;34m\u001b[0m\u001b[0m\n\u001b[0;32m--> 828\u001b[0;31m       \u001b[0mresult\u001b[0m \u001b[0;34m=\u001b[0m \u001b[0mself\u001b[0m\u001b[0;34m.\u001b[0m\u001b[0m_call\u001b[0m\u001b[0;34m(\u001b[0m\u001b[0;34m*\u001b[0m\u001b[0margs\u001b[0m\u001b[0;34m,\u001b[0m \u001b[0;34m**\u001b[0m\u001b[0mkwds\u001b[0m\u001b[0;34m)\u001b[0m\u001b[0;34m\u001b[0m\u001b[0;34m\u001b[0m\u001b[0m\n\u001b[0m\u001b[1;32m    829\u001b[0m       \u001b[0mcompiler\u001b[0m \u001b[0;34m=\u001b[0m \u001b[0;34m\"xla\"\u001b[0m \u001b[0;32mif\u001b[0m \u001b[0mself\u001b[0m\u001b[0;34m.\u001b[0m\u001b[0m_experimental_compile\u001b[0m \u001b[0;32melse\u001b[0m \u001b[0;34m\"nonXla\"\u001b[0m\u001b[0;34m\u001b[0m\u001b[0;34m\u001b[0m\u001b[0m\n\u001b[1;32m    830\u001b[0m       \u001b[0mnew_tracing_count\u001b[0m \u001b[0;34m=\u001b[0m \u001b[0mself\u001b[0m\u001b[0;34m.\u001b[0m\u001b[0mexperimental_get_tracing_count\u001b[0m\u001b[0;34m(\u001b[0m\u001b[0;34m)\u001b[0m\u001b[0;34m\u001b[0m\u001b[0;34m\u001b[0m\u001b[0m\n",
      "\u001b[0;32m~/miniconda3/envs/nn_dl_python_v23/lib/python3.7/site-packages/tensorflow/python/eager/def_function.py\u001b[0m in \u001b[0;36m_call\u001b[0;34m(self, *args, **kwds)\u001b[0m\n\u001b[1;32m    853\u001b[0m       \u001b[0;31m# In this case we have created variables on the first call, so we run the\u001b[0m\u001b[0;34m\u001b[0m\u001b[0;34m\u001b[0m\u001b[0;34m\u001b[0m\u001b[0m\n\u001b[1;32m    854\u001b[0m       \u001b[0;31m# defunned version which is guaranteed to never create variables.\u001b[0m\u001b[0;34m\u001b[0m\u001b[0;34m\u001b[0m\u001b[0;34m\u001b[0m\u001b[0m\n\u001b[0;32m--> 855\u001b[0;31m       \u001b[0;32mreturn\u001b[0m \u001b[0mself\u001b[0m\u001b[0;34m.\u001b[0m\u001b[0m_stateless_fn\u001b[0m\u001b[0;34m(\u001b[0m\u001b[0;34m*\u001b[0m\u001b[0margs\u001b[0m\u001b[0;34m,\u001b[0m \u001b[0;34m**\u001b[0m\u001b[0mkwds\u001b[0m\u001b[0;34m)\u001b[0m  \u001b[0;31m# pylint: disable=not-callable\u001b[0m\u001b[0;34m\u001b[0m\u001b[0;34m\u001b[0m\u001b[0m\n\u001b[0m\u001b[1;32m    856\u001b[0m     \u001b[0;32melif\u001b[0m \u001b[0mself\u001b[0m\u001b[0;34m.\u001b[0m\u001b[0m_stateful_fn\u001b[0m \u001b[0;32mis\u001b[0m \u001b[0;32mnot\u001b[0m \u001b[0;32mNone\u001b[0m\u001b[0;34m:\u001b[0m\u001b[0;34m\u001b[0m\u001b[0;34m\u001b[0m\u001b[0m\n\u001b[1;32m    857\u001b[0m       \u001b[0;31m# Release the lock early so that multiple threads can perform the call\u001b[0m\u001b[0;34m\u001b[0m\u001b[0;34m\u001b[0m\u001b[0;34m\u001b[0m\u001b[0m\n",
      "\u001b[0;32m~/miniconda3/envs/nn_dl_python_v23/lib/python3.7/site-packages/tensorflow/python/eager/function.py\u001b[0m in \u001b[0;36m__call__\u001b[0;34m(self, *args, **kwargs)\u001b[0m\n\u001b[1;32m   2941\u001b[0m        filtered_flat_args) = self._maybe_define_function(args, kwargs)\n\u001b[1;32m   2942\u001b[0m     return graph_function._call_flat(\n\u001b[0;32m-> 2943\u001b[0;31m         filtered_flat_args, captured_inputs=graph_function.captured_inputs)  # pylint: disable=protected-access\n\u001b[0m\u001b[1;32m   2944\u001b[0m \u001b[0;34m\u001b[0m\u001b[0m\n\u001b[1;32m   2945\u001b[0m   \u001b[0;34m@\u001b[0m\u001b[0mproperty\u001b[0m\u001b[0;34m\u001b[0m\u001b[0;34m\u001b[0m\u001b[0m\n",
      "\u001b[0;32m~/miniconda3/envs/nn_dl_python_v23/lib/python3.7/site-packages/tensorflow/python/eager/function.py\u001b[0m in \u001b[0;36m_call_flat\u001b[0;34m(self, args, captured_inputs, cancellation_manager)\u001b[0m\n\u001b[1;32m   1917\u001b[0m       \u001b[0;31m# No tape is watching; skip to running the function.\u001b[0m\u001b[0;34m\u001b[0m\u001b[0;34m\u001b[0m\u001b[0;34m\u001b[0m\u001b[0m\n\u001b[1;32m   1918\u001b[0m       return self._build_call_outputs(self._inference_function.call(\n\u001b[0;32m-> 1919\u001b[0;31m           ctx, args, cancellation_manager=cancellation_manager))\n\u001b[0m\u001b[1;32m   1920\u001b[0m     forward_backward = self._select_forward_and_backward_functions(\n\u001b[1;32m   1921\u001b[0m         \u001b[0margs\u001b[0m\u001b[0;34m,\u001b[0m\u001b[0;34m\u001b[0m\u001b[0;34m\u001b[0m\u001b[0m\n",
      "\u001b[0;32m~/miniconda3/envs/nn_dl_python_v23/lib/python3.7/site-packages/tensorflow/python/eager/function.py\u001b[0m in \u001b[0;36mcall\u001b[0;34m(self, ctx, args, cancellation_manager)\u001b[0m\n\u001b[1;32m    558\u001b[0m               \u001b[0minputs\u001b[0m\u001b[0;34m=\u001b[0m\u001b[0margs\u001b[0m\u001b[0;34m,\u001b[0m\u001b[0;34m\u001b[0m\u001b[0;34m\u001b[0m\u001b[0m\n\u001b[1;32m    559\u001b[0m               \u001b[0mattrs\u001b[0m\u001b[0;34m=\u001b[0m\u001b[0mattrs\u001b[0m\u001b[0;34m,\u001b[0m\u001b[0;34m\u001b[0m\u001b[0;34m\u001b[0m\u001b[0m\n\u001b[0;32m--> 560\u001b[0;31m               ctx=ctx)\n\u001b[0m\u001b[1;32m    561\u001b[0m         \u001b[0;32melse\u001b[0m\u001b[0;34m:\u001b[0m\u001b[0;34m\u001b[0m\u001b[0;34m\u001b[0m\u001b[0m\n\u001b[1;32m    562\u001b[0m           outputs = execute.execute_with_cancellation(\n",
      "\u001b[0;32m~/miniconda3/envs/nn_dl_python_v23/lib/python3.7/site-packages/tensorflow/python/eager/execute.py\u001b[0m in \u001b[0;36mquick_execute\u001b[0;34m(op_name, num_outputs, inputs, attrs, ctx, name)\u001b[0m\n\u001b[1;32m     58\u001b[0m     \u001b[0mctx\u001b[0m\u001b[0;34m.\u001b[0m\u001b[0mensure_initialized\u001b[0m\u001b[0;34m(\u001b[0m\u001b[0;34m)\u001b[0m\u001b[0;34m\u001b[0m\u001b[0;34m\u001b[0m\u001b[0m\n\u001b[1;32m     59\u001b[0m     tensors = pywrap_tfe.TFE_Py_Execute(ctx._handle, device_name, op_name,\n\u001b[0;32m---> 60\u001b[0;31m                                         inputs, attrs, num_outputs)\n\u001b[0m\u001b[1;32m     61\u001b[0m   \u001b[0;32mexcept\u001b[0m \u001b[0mcore\u001b[0m\u001b[0;34m.\u001b[0m\u001b[0m_NotOkStatusException\u001b[0m \u001b[0;32mas\u001b[0m \u001b[0me\u001b[0m\u001b[0;34m:\u001b[0m\u001b[0;34m\u001b[0m\u001b[0;34m\u001b[0m\u001b[0m\n\u001b[1;32m     62\u001b[0m     \u001b[0;32mif\u001b[0m \u001b[0mname\u001b[0m \u001b[0;32mis\u001b[0m \u001b[0;32mnot\u001b[0m \u001b[0;32mNone\u001b[0m\u001b[0;34m:\u001b[0m\u001b[0;34m\u001b[0m\u001b[0;34m\u001b[0m\u001b[0m\n",
      "\u001b[0;31mKeyboardInterrupt\u001b[0m: "
     ]
    }
   ],
   "source": [
    "model = Sequential()\n",
    "model.add(Dense(units=10, activation='tanh', input_dim=3))\n",
    "model.add(Dense(units=4, activation='tanh'))\n",
    "model.add(Dense(units=2, activation='softmax'))\n",
    "\n",
    "model.compile(optimizer='adam', loss='sparse_categorical_crossentropy', metrics=['accuracy'])\n",
    "# Train the model, iterating on the data in batches of 32 samples\n",
    "history = model.fit(data, labels, epochs=30, batch_size=128, validation_split=0.1)"
   ]
  },
  {
   "cell_type": "code",
   "execution_count": null,
   "metadata": {},
   "outputs": [],
   "source": [
    "#Add your model here"
   ]
  },
  {
   "cell_type": "code",
   "execution_count": 10,
   "metadata": {},
   "outputs": [
    {
     "data": {
      "image/png": "[encoded data removed]",
      "text/plain": [
       "<Figure size 640x480 with 1 Axes>"
      ]
     },
     "metadata": {},
     "output_type": "display_data"
    }
   ],
   "source": [
    "plot_loss_acc(history)"
   ]
  },
  {
   "cell_type": "markdown",
   "metadata": {},
   "source": [
    "## 3. Build a regression model\n",
    "\n",
    "* Take the Boston housing dataset (http://lib.stat.cmu.edu/datasets/boston)\n",
    "* Records a set of variables for a set of houses in Boston, including among others:\n",
    "    * CRIM     per capita crime rate by town\n",
    "    * ZN       proportion of residential land zoned for lots over 25,000 sq.ft.\n",
    "    * INDUS    proportion of non-retail business acres per town\n",
    "    * CHAS     Charles River dummy variable (= 1 if tract bounds river; 0 otherwise)\n",
    "    * NOX      nitric oxides concentration (parts per 10 million)\n",
    "    * RM       average number of rooms per dwelling\n",
    "* Can we use these variables to predict the value of a house (in tens of thousands of dollars)?"
   ]
  },
  {
   "cell_type": "code",
   "execution_count": 21,
   "metadata": {
    "scrolled": true
   },
   "outputs": [
    {
     "name": "stdout",
     "output_type": "stream",
     "text": [
      "(404, 13)\n",
      "[  1.23247   0.        8.14      0.        0.538     6.142    91.7\n",
      "   3.9769    4.      307.       21.      396.9      18.72   ] 15.2\n",
      "Epoch 1/200\n",
      "26/26 [==============================] - 1s 11ms/step - loss: 21.6109 - mean_absolute_error: 21.6109 - val_loss: 22.4583 - val_mean_absolute_error: 22.4583\n",
      "Epoch 2/200\n",
      "26/26 [==============================] - 0s 6ms/step - loss: 21.5772 - mean_absolute_error: 21.5772 - val_loss: 22.1258 - val_mean_absolute_error: 22.1258\n",
      "Epoch 3/200\n",
      "26/26 [==============================] - 0s 5ms/step - loss: 21.3992 - mean_absolute_error: 21.3992 - val_loss: 21.6760 - val_mean_absolute_error: 21.6760\n",
      "Epoch 4/200\n",
      "26/26 [==============================] - 0s 8ms/step - loss: 20.4030 - mean_absolute_error: 20.4030 - val_loss: 21.1131 - val_mean_absolute_error: 21.1131\n",
      "Epoch 5/200\n",
      "26/26 [==============================] - 0s 7ms/step - loss: 19.9874 - mean_absolute_error: 19.9874 - val_loss: 20.4033 - val_mean_absolute_error: 20.4033\n",
      "Epoch 6/200\n",
      "26/26 [==============================] - 0s 5ms/step - loss: 20.1219 - mean_absolute_error: 20.1219 - val_loss: 19.4908 - val_mean_absolute_error: 19.4908\n",
      "Epoch 7/200\n",
      "26/26 [==============================] - 0s 5ms/step - loss: 19.1036 - mean_absolute_error: 19.1036 - val_loss: 18.3523 - val_mean_absolute_error: 18.3523\n",
      "Epoch 8/200\n",
      "26/26 [==============================] - 0s 5ms/step - loss: 16.9931 - mean_absolute_error: 16.9931 - val_loss: 16.9236 - val_mean_absolute_error: 16.9236\n",
      "Epoch 9/200\n",
      "26/26 [==============================] - 0s 5ms/step - loss: 15.5107 - mean_absolute_error: 15.5107 - val_loss: 15.2093 - val_mean_absolute_error: 15.2093\n",
      "Epoch 10/200\n",
      "26/26 [==============================] - 0s 6ms/step - loss: 13.8636 - mean_absolute_error: 13.8636 - val_loss: 13.3415 - val_mean_absolute_error: 13.3415\n",
      "Epoch 11/200\n",
      "26/26 [==============================] - 0s 5ms/step - loss: 10.8403 - mean_absolute_error: 10.8403 - val_loss: 11.5087 - val_mean_absolute_error: 11.5087\n",
      "Epoch 12/200\n",
      "26/26 [==============================] - 0s 6ms/step - loss: 10.1296 - mean_absolute_error: 10.1296 - val_loss: 9.8450 - val_mean_absolute_error: 9.8450\n",
      "Epoch 13/200\n",
      "26/26 [==============================] - 0s 6ms/step - loss: 8.5314 - mean_absolute_error: 8.5314 - val_loss: 8.9286 - val_mean_absolute_error: 8.9286\n",
      "Epoch 14/200\n",
      "26/26 [==============================] - 0s 7ms/step - loss: 7.4231 - mean_absolute_error: 7.4231 - val_loss: 8.3958 - val_mean_absolute_error: 8.3958\n",
      "Epoch 15/200\n",
      "26/26 [==============================] - 0s 5ms/step - loss: 6.5610 - mean_absolute_error: 6.5610 - val_loss: 7.9650 - val_mean_absolute_error: 7.9650\n",
      "Epoch 16/200\n",
      "26/26 [==============================] - 0s 5ms/step - loss: 6.0700 - mean_absolute_error: 6.0700 - val_loss: 7.6045 - val_mean_absolute_error: 7.6045\n",
      "Epoch 17/200\n",
      "26/26 [==============================] - 0s 6ms/step - loss: 6.4790 - mean_absolute_error: 6.4790 - val_loss: 7.2826 - val_mean_absolute_error: 7.2826\n",
      "Epoch 18/200\n",
      "26/26 [==============================] - 0s 6ms/step - loss: 6.4365 - mean_absolute_error: 6.4365 - val_loss: 6.9918 - val_mean_absolute_error: 6.9918\n",
      "Epoch 19/200\n",
      "26/26 [==============================] - 0s 6ms/step - loss: 5.6074 - mean_absolute_error: 5.6074 - val_loss: 6.8193 - val_mean_absolute_error: 6.8193\n",
      "Epoch 20/200\n",
      "26/26 [==============================] - 0s 5ms/step - loss: 5.2630 - mean_absolute_error: 5.2630 - val_loss: 6.5662 - val_mean_absolute_error: 6.5662\n",
      "Epoch 21/200\n",
      "26/26 [==============================] - 0s 5ms/step - loss: 4.8799 - mean_absolute_error: 4.8799 - val_loss: 6.3558 - val_mean_absolute_error: 6.3558\n",
      "Epoch 22/200\n",
      "26/26 [==============================] - 0s 7ms/step - loss: 5.3026 - mean_absolute_error: 5.3026 - val_loss: 6.1528 - val_mean_absolute_error: 6.1528\n",
      "Epoch 23/200\n",
      "26/26 [==============================] - 0s 4ms/step - loss: 4.8555 - mean_absolute_error: 4.8555 - val_loss: 5.9158 - val_mean_absolute_error: 5.9158\n",
      "Epoch 24/200\n",
      "26/26 [==============================] - 0s 4ms/step - loss: 4.4126 - mean_absolute_error: 4.4126 - val_loss: 5.7136 - val_mean_absolute_error: 5.7136\n",
      "Epoch 25/200\n",
      "26/26 [==============================] - 0s 6ms/step - loss: 4.8889 - mean_absolute_error: 4.8889 - val_loss: 5.5361 - val_mean_absolute_error: 5.5361\n",
      "Epoch 26/200\n",
      "26/26 [==============================] - 0s 7ms/step - loss: 4.3249 - mean_absolute_error: 4.3249 - val_loss: 5.3887 - val_mean_absolute_error: 5.3887\n",
      "Epoch 27/200\n",
      "26/26 [==============================] - 0s 4ms/step - loss: 4.3867 - mean_absolute_error: 4.3867 - val_loss: 5.2056 - val_mean_absolute_error: 5.2056\n",
      "Epoch 28/200\n",
      "26/26 [==============================] - 0s 5ms/step - loss: 4.2328 - mean_absolute_error: 4.2328 - val_loss: 5.0588 - val_mean_absolute_error: 5.0588\n",
      "Epoch 29/200\n",
      "26/26 [==============================] - 0s 4ms/step - loss: 3.8410 - mean_absolute_error: 3.8410 - val_loss: 5.0011 - val_mean_absolute_error: 5.0011\n",
      "Epoch 30/200\n",
      "26/26 [==============================] - 0s 5ms/step - loss: 4.1569 - mean_absolute_error: 4.1569 - val_loss: 4.8193 - val_mean_absolute_error: 4.8193\n",
      "Epoch 31/200\n",
      "26/26 [==============================] - 0s 7ms/step - loss: 4.1129 - mean_absolute_error: 4.1129 - val_loss: 4.7275 - val_mean_absolute_error: 4.7275\n",
      "Epoch 32/200\n",
      "26/26 [==============================] - 0s 5ms/step - loss: 3.8021 - mean_absolute_error: 3.8021 - val_loss: 4.6429 - val_mean_absolute_error: 4.6429\n",
      "Epoch 33/200\n",
      "26/26 [==============================] - 0s 4ms/step - loss: 3.6084 - mean_absolute_error: 3.6084 - val_loss: 4.5976 - val_mean_absolute_error: 4.5976\n",
      "Epoch 34/200\n",
      "26/26 [==============================] - 0s 6ms/step - loss: 3.4057 - mean_absolute_error: 3.4057 - val_loss: 4.5200 - val_mean_absolute_error: 4.5200\n",
      "Epoch 35/200\n",
      "26/26 [==============================] - 0s 6ms/step - loss: 3.4512 - mean_absolute_error: 3.4512 - val_loss: 4.4400 - val_mean_absolute_error: 4.4400\n",
      "Epoch 36/200\n",
      "26/26 [==============================] - 0s 6ms/step - loss: 3.6850 - mean_absolute_error: 3.6850 - val_loss: 4.3912 - val_mean_absolute_error: 4.3912\n",
      "Epoch 37/200\n",
      "26/26 [==============================] - 0s 5ms/step - loss: 3.3947 - mean_absolute_error: 3.3947 - val_loss: 4.3434 - val_mean_absolute_error: 4.3434\n",
      "Epoch 38/200\n",
      "26/26 [==============================] - 0s 5ms/step - loss: 3.4325 - mean_absolute_error: 3.4325 - val_loss: 4.3203 - val_mean_absolute_error: 4.3203\n",
      "Epoch 39/200\n",
      "26/26 [==============================] - 0s 5ms/step - loss: 3.2524 - mean_absolute_error: 3.2524 - val_loss: 4.2855 - val_mean_absolute_error: 4.2855\n",
      "Epoch 40/200\n",
      "26/26 [==============================] - 0s 6ms/step - loss: 3.4257 - mean_absolute_error: 3.4257 - val_loss: 4.2574 - val_mean_absolute_error: 4.2574\n",
      "Epoch 41/200\n",
      "26/26 [==============================] - 0s 6ms/step - loss: 3.5643 - mean_absolute_error: 3.5643 - val_loss: 4.2011 - val_mean_absolute_error: 4.2011\n",
      "Epoch 42/200\n",
      "26/26 [==============================] - 0s 7ms/step - loss: 3.2866 - mean_absolute_error: 3.2866 - val_loss: 4.1959 - val_mean_absolute_error: 4.1959\n",
      "Epoch 43/200\n",
      "26/26 [==============================] - 0s 7ms/step - loss: 3.2424 - mean_absolute_error: 3.2424 - val_loss: 4.1707 - val_mean_absolute_error: 4.1707\n",
      "Epoch 44/200\n",
      "26/26 [==============================] - 0s 8ms/step - loss: 3.3217 - mean_absolute_error: 3.3217 - val_loss: 4.1586 - val_mean_absolute_error: 4.1586\n",
      "Epoch 45/200\n",
      "26/26 [==============================] - 0s 7ms/step - loss: 3.4827 - mean_absolute_error: 3.4827 - val_loss: 4.0989 - val_mean_absolute_error: 4.0989\n",
      "Epoch 46/200\n",
      "26/26 [==============================] - 0s 7ms/step - loss: 3.1294 - mean_absolute_error: 3.1294 - val_loss: 4.0344 - val_mean_absolute_error: 4.0344\n",
      "Epoch 47/200\n",
      "26/26 [==============================] - 0s 6ms/step - loss: 3.0754 - mean_absolute_error: 3.0754 - val_loss: 4.0216 - val_mean_absolute_error: 4.0216\n",
      "Epoch 48/200\n",
      "26/26 [==============================] - 0s 4ms/step - loss: 3.2781 - mean_absolute_error: 3.2781 - val_loss: 3.9775 - val_mean_absolute_error: 3.9775\n",
      "Epoch 49/200\n",
      "26/26 [==============================] - 0s 7ms/step - loss: 3.4443 - mean_absolute_error: 3.4443 - val_loss: 3.9640 - val_mean_absolute_error: 3.9640\n"
     ]
    },
    {
     "name": "stdout",
     "output_type": "stream",
     "text": [
      "Epoch 50/200\n",
      "26/26 [==============================] - 0s 6ms/step - loss: 3.0027 - mean_absolute_error: 3.0027 - val_loss: 3.9250 - val_mean_absolute_error: 3.9250\n",
      "Epoch 51/200\n",
      "26/26 [==============================] - 0s 7ms/step - loss: 2.9999 - mean_absolute_error: 2.9999 - val_loss: 3.8946 - val_mean_absolute_error: 3.8946\n",
      "Epoch 52/200\n",
      "26/26 [==============================] - 0s 7ms/step - loss: 2.9025 - mean_absolute_error: 2.9025 - val_loss: 3.8765 - val_mean_absolute_error: 3.8765\n",
      "Epoch 53/200\n",
      "26/26 [==============================] - 0s 6ms/step - loss: 3.3828 - mean_absolute_error: 3.3828 - val_loss: 3.8243 - val_mean_absolute_error: 3.8243\n",
      "Epoch 54/200\n",
      "26/26 [==============================] - 0s 4ms/step - loss: 2.8655 - mean_absolute_error: 2.8655 - val_loss: 3.8114 - val_mean_absolute_error: 3.8114\n",
      "Epoch 55/200\n",
      "26/26 [==============================] - 0s 6ms/step - loss: 3.0028 - mean_absolute_error: 3.0028 - val_loss: 3.7765 - val_mean_absolute_error: 3.7765\n",
      "Epoch 56/200\n",
      "26/26 [==============================] - 0s 7ms/step - loss: 2.8245 - mean_absolute_error: 2.8245 - val_loss: 3.7457 - val_mean_absolute_error: 3.7457\n",
      "Epoch 57/200\n",
      "26/26 [==============================] - 0s 7ms/step - loss: 2.9468 - mean_absolute_error: 2.9468 - val_loss: 3.6888 - val_mean_absolute_error: 3.6888\n",
      "Epoch 58/200\n",
      "26/26 [==============================] - 0s 9ms/step - loss: 2.7477 - mean_absolute_error: 2.7477 - val_loss: 3.6147 - val_mean_absolute_error: 3.6147\n",
      "Epoch 59/200\n",
      "26/26 [==============================] - 0s 7ms/step - loss: 2.7427 - mean_absolute_error: 2.7427 - val_loss: 3.5787 - val_mean_absolute_error: 3.5787\n",
      "Epoch 60/200\n",
      "26/26 [==============================] - 0s 10ms/step - loss: 2.7045 - mean_absolute_error: 2.7045 - val_loss: 3.5805 - val_mean_absolute_error: 3.5805\n",
      "Epoch 61/200\n",
      "26/26 [==============================] - 0s 9ms/step - loss: 3.0758 - mean_absolute_error: 3.0758 - val_loss: 3.5434 - val_mean_absolute_error: 3.5434\n",
      "Epoch 62/200\n",
      "26/26 [==============================] - 0s 10ms/step - loss: 2.5906 - mean_absolute_error: 2.5906 - val_loss: 3.4849 - val_mean_absolute_error: 3.4849\n",
      "Epoch 63/200\n",
      "26/26 [==============================] - 0s 10ms/step - loss: 2.7056 - mean_absolute_error: 2.7056 - val_loss: 3.4252 - val_mean_absolute_error: 3.4252\n",
      "Epoch 64/200\n",
      "26/26 [==============================] - 0s 9ms/step - loss: 2.6804 - mean_absolute_error: 2.6804 - val_loss: 3.4052 - val_mean_absolute_error: 3.4052\n",
      "Epoch 65/200\n",
      "26/26 [==============================] - 0s 14ms/step - loss: 2.6384 - mean_absolute_error: 2.6384 - val_loss: 3.3552 - val_mean_absolute_error: 3.3552\n",
      "Epoch 66/200\n",
      "26/26 [==============================] - 0s 9ms/step - loss: 2.6821 - mean_absolute_error: 2.6821 - val_loss: 3.3848 - val_mean_absolute_error: 3.3848\n",
      "Epoch 67/200\n",
      "26/26 [==============================] - 0s 9ms/step - loss: 2.6875 - mean_absolute_error: 2.6875 - val_loss: 3.3294 - val_mean_absolute_error: 3.3294\n",
      "Epoch 68/200\n",
      "26/26 [==============================] - 0s 8ms/step - loss: 2.6849 - mean_absolute_error: 2.6849 - val_loss: 3.3058 - val_mean_absolute_error: 3.3058\n",
      "Epoch 69/200\n",
      "26/26 [==============================] - 0s 9ms/step - loss: 2.8893 - mean_absolute_error: 2.8893 - val_loss: 3.3245 - val_mean_absolute_error: 3.3245\n",
      "Epoch 70/200\n",
      "26/26 [==============================] - 0s 10ms/step - loss: 2.7964 - mean_absolute_error: 2.7964 - val_loss: 3.2691 - val_mean_absolute_error: 3.2691\n",
      "Epoch 71/200\n",
      "26/26 [==============================] - 0s 8ms/step - loss: 2.5735 - mean_absolute_error: 2.5735 - val_loss: 3.2690 - val_mean_absolute_error: 3.2690\n",
      "Epoch 72/200\n",
      "26/26 [==============================] - 0s 10ms/step - loss: 2.4603 - mean_absolute_error: 2.4603 - val_loss: 3.2075 - val_mean_absolute_error: 3.2075\n",
      "Epoch 73/200\n",
      "26/26 [==============================] - 0s 8ms/step - loss: 2.8286 - mean_absolute_error: 2.8286 - val_loss: 3.2432 - val_mean_absolute_error: 3.2432\n",
      "Epoch 74/200\n",
      "26/26 [==============================] - 0s 10ms/step - loss: 2.5907 - mean_absolute_error: 2.5907 - val_loss: 3.2104 - val_mean_absolute_error: 3.2104\n",
      "Epoch 75/200\n",
      "26/26 [==============================] - 0s 9ms/step - loss: 2.5671 - mean_absolute_error: 2.5671 - val_loss: 3.1826 - val_mean_absolute_error: 3.1826\n",
      "Epoch 76/200\n",
      "26/26 [==============================] - 0s 9ms/step - loss: 2.5603 - mean_absolute_error: 2.5603 - val_loss: 3.1717 - val_mean_absolute_error: 3.1717\n",
      "Epoch 77/200\n",
      "26/26 [==============================] - 0s 8ms/step - loss: 2.5923 - mean_absolute_error: 2.5923 - val_loss: 3.1614 - val_mean_absolute_error: 3.1614\n",
      "Epoch 78/200\n",
      "26/26 [==============================] - 0s 9ms/step - loss: 2.4337 - mean_absolute_error: 2.4337 - val_loss: 3.1742 - val_mean_absolute_error: 3.1742\n",
      "Epoch 79/200\n",
      "26/26 [==============================] - 0s 8ms/step - loss: 2.3499 - mean_absolute_error: 2.3499 - val_loss: 3.1750 - val_mean_absolute_error: 3.1750\n",
      "Epoch 80/200\n",
      "26/26 [==============================] - 0s 9ms/step - loss: 2.4428 - mean_absolute_error: 2.4428 - val_loss: 3.1836 - val_mean_absolute_error: 3.1836\n",
      "Epoch 81/200\n",
      "26/26 [==============================] - 0s 10ms/step - loss: 2.5726 - mean_absolute_error: 2.5726 - val_loss: 3.1205 - val_mean_absolute_error: 3.1205\n",
      "Epoch 82/200\n",
      "26/26 [==============================] - 0s 9ms/step - loss: 2.4468 - mean_absolute_error: 2.4468 - val_loss: 3.1168 - val_mean_absolute_error: 3.1168\n",
      "Epoch 83/200\n",
      "26/26 [==============================] - 0s 9ms/step - loss: 2.7357 - mean_absolute_error: 2.7357 - val_loss: 3.1133 - val_mean_absolute_error: 3.1133\n",
      "Epoch 84/200\n",
      "26/26 [==============================] - 0s 9ms/step - loss: 2.6405 - mean_absolute_error: 2.6405 - val_loss: 3.1159 - val_mean_absolute_error: 3.1159\n",
      "Epoch 85/200\n",
      "26/26 [==============================] - 0s 9ms/step - loss: 2.3454 - mean_absolute_error: 2.3454 - val_loss: 3.0946 - val_mean_absolute_error: 3.0946\n",
      "Epoch 86/200\n",
      "26/26 [==============================] - 0s 10ms/step - loss: 2.3561 - mean_absolute_error: 2.3561 - val_loss: 3.0853 - val_mean_absolute_error: 3.0853\n",
      "Epoch 87/200\n",
      "26/26 [==============================] - 0s 9ms/step - loss: 2.7146 - mean_absolute_error: 2.7146 - val_loss: 3.0578 - val_mean_absolute_error: 3.0578\n",
      "Epoch 88/200\n",
      "26/26 [==============================] - 0s 9ms/step - loss: 2.2003 - mean_absolute_error: 2.2003 - val_loss: 3.0596 - val_mean_absolute_error: 3.0596\n",
      "Epoch 89/200\n",
      "26/26 [==============================] - 0s 10ms/step - loss: 2.3286 - mean_absolute_error: 2.3286 - val_loss: 3.0563 - val_mean_absolute_error: 3.0563\n",
      "Epoch 90/200\n",
      "26/26 [==============================] - 0s 9ms/step - loss: 2.5906 - mean_absolute_error: 2.5906 - val_loss: 3.0548 - val_mean_absolute_error: 3.0548\n",
      "Epoch 91/200\n",
      "26/26 [==============================] - 0s 9ms/step - loss: 2.5163 - mean_absolute_error: 2.5163 - val_loss: 3.0350 - val_mean_absolute_error: 3.0350\n",
      "Epoch 92/200\n",
      "26/26 [==============================] - 0s 10ms/step - loss: 2.4024 - mean_absolute_error: 2.4024 - val_loss: 3.0270 - val_mean_absolute_error: 3.0270\n",
      "Epoch 93/200\n",
      "26/26 [==============================] - 0s 9ms/step - loss: 2.4520 - mean_absolute_error: 2.4520 - val_loss: 3.0233 - val_mean_absolute_error: 3.0233\n",
      "Epoch 94/200\n",
      "26/26 [==============================] - 0s 8ms/step - loss: 2.2772 - mean_absolute_error: 2.2772 - val_loss: 3.0040 - val_mean_absolute_error: 3.0040\n",
      "Epoch 95/200\n",
      "26/26 [==============================] - 0s 9ms/step - loss: 2.4342 - mean_absolute_error: 2.4342 - val_loss: 2.9915 - val_mean_absolute_error: 2.9915\n",
      "Epoch 96/200\n",
      "26/26 [==============================] - 0s 9ms/step - loss: 2.1948 - mean_absolute_error: 2.1948 - val_loss: 2.9922 - val_mean_absolute_error: 2.9922\n",
      "Epoch 97/200\n",
      "26/26 [==============================] - 0s 9ms/step - loss: 2.3435 - mean_absolute_error: 2.3435 - val_loss: 2.9896 - val_mean_absolute_error: 2.9896\n",
      "Epoch 98/200\n",
      "26/26 [==============================] - 0s 8ms/step - loss: 2.5737 - mean_absolute_error: 2.5737 - val_loss: 2.9889 - val_mean_absolute_error: 2.9889\n",
      "Epoch 99/200\n",
      "26/26 [==============================] - 0s 9ms/step - loss: 2.3235 - mean_absolute_error: 2.3235 - val_loss: 2.9629 - val_mean_absolute_error: 2.9629\n"
     ]
    },
    {
     "name": "stdout",
     "output_type": "stream",
     "text": [
      "Epoch 100/200\n",
      "26/26 [==============================] - 0s 9ms/step - loss: 2.1062 - mean_absolute_error: 2.1062 - val_loss: 2.9691 - val_mean_absolute_error: 2.9691\n",
      "Epoch 101/200\n",
      "26/26 [==============================] - 0s 9ms/step - loss: 2.3449 - mean_absolute_error: 2.3449 - val_loss: 2.9415 - val_mean_absolute_error: 2.9415\n",
      "Epoch 102/200\n",
      "26/26 [==============================] - 0s 10ms/step - loss: 2.2614 - mean_absolute_error: 2.2614 - val_loss: 2.9312 - val_mean_absolute_error: 2.9312\n",
      "Epoch 103/200\n",
      "26/26 [==============================] - 0s 10ms/step - loss: 2.5561 - mean_absolute_error: 2.5561 - val_loss: 2.9332 - val_mean_absolute_error: 2.9332\n",
      "Epoch 104/200\n",
      "26/26 [==============================] - 0s 8ms/step - loss: 2.5775 - mean_absolute_error: 2.5775 - val_loss: 2.9219 - val_mean_absolute_error: 2.9219\n",
      "Epoch 105/200\n",
      "26/26 [==============================] - 0s 9ms/step - loss: 2.1406 - mean_absolute_error: 2.1406 - val_loss: 2.9346 - val_mean_absolute_error: 2.9346\n",
      "Epoch 106/200\n",
      "26/26 [==============================] - 0s 8ms/step - loss: 2.0823 - mean_absolute_error: 2.0823 - val_loss: 2.9237 - val_mean_absolute_error: 2.9237\n",
      "Epoch 107/200\n",
      "26/26 [==============================] - 0s 8ms/step - loss: 2.0902 - mean_absolute_error: 2.0902 - val_loss: 2.9173 - val_mean_absolute_error: 2.9173\n",
      "Epoch 108/200\n",
      "26/26 [==============================] - 0s 8ms/step - loss: 2.3657 - mean_absolute_error: 2.3657 - val_loss: 2.8883 - val_mean_absolute_error: 2.8883\n",
      "Epoch 109/200\n",
      "26/26 [==============================] - 0s 11ms/step - loss: 2.1326 - mean_absolute_error: 2.1326 - val_loss: 2.9165 - val_mean_absolute_error: 2.9165\n",
      "Epoch 110/200\n",
      "26/26 [==============================] - 0s 7ms/step - loss: 2.2008 - mean_absolute_error: 2.2008 - val_loss: 2.8832 - val_mean_absolute_error: 2.8832\n",
      "Epoch 111/200\n",
      "26/26 [==============================] - 0s 11ms/step - loss: 2.2046 - mean_absolute_error: 2.2046 - val_loss: 2.8765 - val_mean_absolute_error: 2.8765\n",
      "Epoch 112/200\n",
      "26/26 [==============================] - 0s 11ms/step - loss: 2.1866 - mean_absolute_error: 2.1866 - val_loss: 2.8839 - val_mean_absolute_error: 2.8839\n",
      "Epoch 113/200\n",
      "26/26 [==============================] - 0s 7ms/step - loss: 2.2433 - mean_absolute_error: 2.2433 - val_loss: 2.8860 - val_mean_absolute_error: 2.8860\n",
      "Epoch 114/200\n",
      "26/26 [==============================] - 0s 6ms/step - loss: 2.3487 - mean_absolute_error: 2.3487 - val_loss: 2.8775 - val_mean_absolute_error: 2.8775\n",
      "Epoch 115/200\n",
      "26/26 [==============================] - 0s 6ms/step - loss: 2.0762 - mean_absolute_error: 2.0762 - val_loss: 2.8816 - val_mean_absolute_error: 2.8816\n",
      "Epoch 116/200\n",
      "26/26 [==============================] - 0s 7ms/step - loss: 2.4214 - mean_absolute_error: 2.4214 - val_loss: 2.8562 - val_mean_absolute_error: 2.8562\n",
      "Epoch 117/200\n",
      "26/26 [==============================] - 0s 8ms/step - loss: 2.3256 - mean_absolute_error: 2.3256 - val_loss: 2.8444 - val_mean_absolute_error: 2.8444\n",
      "Epoch 118/200\n",
      "26/26 [==============================] - 0s 8ms/step - loss: 2.2213 - mean_absolute_error: 2.2213 - val_loss: 2.8517 - val_mean_absolute_error: 2.8517\n",
      "Epoch 119/200\n",
      "26/26 [==============================] - 0s 16ms/step - loss: 2.1035 - mean_absolute_error: 2.1035 - val_loss: 2.8418 - val_mean_absolute_error: 2.8418\n",
      "Epoch 120/200\n",
      "26/26 [==============================] - 0s 9ms/step - loss: 2.1066 - mean_absolute_error: 2.1066 - val_loss: 2.8510 - val_mean_absolute_error: 2.8510\n",
      "Epoch 121/200\n",
      "26/26 [==============================] - 0s 10ms/step - loss: 2.0234 - mean_absolute_error: 2.0234 - val_loss: 2.8468 - val_mean_absolute_error: 2.8468\n",
      "Epoch 122/200\n",
      "26/26 [==============================] - 0s 7ms/step - loss: 2.1654 - mean_absolute_error: 2.1654 - val_loss: 2.8296 - val_mean_absolute_error: 2.8296\n",
      "Epoch 123/200\n",
      "26/26 [==============================] - 0s 13ms/step - loss: 2.2259 - mean_absolute_error: 2.2259 - val_loss: 2.8241 - val_mean_absolute_error: 2.8241\n",
      "Epoch 124/200\n",
      "26/26 [==============================] - 0s 8ms/step - loss: 2.3686 - mean_absolute_error: 2.3686 - val_loss: 2.8228 - val_mean_absolute_error: 2.8228\n",
      "Epoch 125/200\n",
      "26/26 [==============================] - 0s 8ms/step - loss: 2.0912 - mean_absolute_error: 2.0912 - val_loss: 2.7992 - val_mean_absolute_error: 2.7992\n",
      "Epoch 126/200\n",
      "26/26 [==============================] - 0s 9ms/step - loss: 2.0180 - mean_absolute_error: 2.0180 - val_loss: 2.8051 - val_mean_absolute_error: 2.8051\n",
      "Epoch 127/200\n",
      "26/26 [==============================] - 0s 9ms/step - loss: 1.9800 - mean_absolute_error: 1.9800 - val_loss: 2.8194 - val_mean_absolute_error: 2.8194\n",
      "Epoch 128/200\n",
      "26/26 [==============================] - 0s 11ms/step - loss: 1.9827 - mean_absolute_error: 1.9827 - val_loss: 2.8219 - val_mean_absolute_error: 2.8219\n",
      "Epoch 129/200\n",
      "26/26 [==============================] - 0s 10ms/step - loss: 2.2058 - mean_absolute_error: 2.2058 - val_loss: 2.7984 - val_mean_absolute_error: 2.7984\n",
      "Epoch 130/200\n",
      "26/26 [==============================] - 0s 8ms/step - loss: 2.0980 - mean_absolute_error: 2.0980 - val_loss: 2.8125 - val_mean_absolute_error: 2.8125\n",
      "Epoch 131/200\n",
      "26/26 [==============================] - 0s 8ms/step - loss: 2.1512 - mean_absolute_error: 2.1512 - val_loss: 2.8078 - val_mean_absolute_error: 2.8078\n",
      "Epoch 132/200\n",
      "26/26 [==============================] - 0s 7ms/step - loss: 2.2226 - mean_absolute_error: 2.2226 - val_loss: 2.8006 - val_mean_absolute_error: 2.8006\n",
      "Epoch 133/200\n",
      "26/26 [==============================] - 0s 9ms/step - loss: 2.1684 - mean_absolute_error: 2.1684 - val_loss: 2.8207 - val_mean_absolute_error: 2.8207\n",
      "Epoch 134/200\n",
      "26/26 [==============================] - 0s 8ms/step - loss: 2.3117 - mean_absolute_error: 2.3117 - val_loss: 2.8240 - val_mean_absolute_error: 2.8240\n",
      "Epoch 135/200\n",
      "26/26 [==============================] - 0s 8ms/step - loss: 1.9569 - mean_absolute_error: 1.9569 - val_loss: 2.7897 - val_mean_absolute_error: 2.7897\n",
      "Epoch 136/200\n",
      "26/26 [==============================] - 0s 9ms/step - loss: 2.2826 - mean_absolute_error: 2.2826 - val_loss: 2.7844 - val_mean_absolute_error: 2.7844\n",
      "Epoch 137/200\n",
      "26/26 [==============================] - 0s 9ms/step - loss: 2.0468 - mean_absolute_error: 2.0468 - val_loss: 2.8270 - val_mean_absolute_error: 2.8270\n",
      "Epoch 138/200\n",
      "26/26 [==============================] - 0s 8ms/step - loss: 1.8598 - mean_absolute_error: 1.8598 - val_loss: 2.7926 - val_mean_absolute_error: 2.7926\n",
      "Epoch 139/200\n",
      "26/26 [==============================] - 0s 9ms/step - loss: 2.0425 - mean_absolute_error: 2.0425 - val_loss: 2.8094 - val_mean_absolute_error: 2.8094\n",
      "Epoch 140/200\n",
      "26/26 [==============================] - 0s 7ms/step - loss: 2.1512 - mean_absolute_error: 2.1512 - val_loss: 2.7883 - val_mean_absolute_error: 2.7883\n",
      "Epoch 141/200\n",
      "26/26 [==============================] - 0s 6ms/step - loss: 2.0940 - mean_absolute_error: 2.0940 - val_loss: 2.7660 - val_mean_absolute_error: 2.7660\n",
      "Epoch 142/200\n",
      "26/26 [==============================] - 0s 6ms/step - loss: 2.2522 - mean_absolute_error: 2.2522 - val_loss: 2.7677 - val_mean_absolute_error: 2.7677\n",
      "Epoch 143/200\n",
      "26/26 [==============================] - 0s 9ms/step - loss: 2.0983 - mean_absolute_error: 2.0983 - val_loss: 2.7593 - val_mean_absolute_error: 2.7593\n",
      "Epoch 144/200\n",
      "26/26 [==============================] - 0s 11ms/step - loss: 1.9190 - mean_absolute_error: 1.9190 - val_loss: 2.7624 - val_mean_absolute_error: 2.7624\n",
      "Epoch 145/200\n",
      "26/26 [==============================] - 0s 8ms/step - loss: 2.1065 - mean_absolute_error: 2.1065 - val_loss: 2.7746 - val_mean_absolute_error: 2.7746\n",
      "Epoch 146/200\n",
      "26/26 [==============================] - 0s 8ms/step - loss: 2.0141 - mean_absolute_error: 2.0141 - val_loss: 2.7522 - val_mean_absolute_error: 2.7522\n",
      "Epoch 147/200\n",
      "26/26 [==============================] - 0s 10ms/step - loss: 1.9370 - mean_absolute_error: 1.9370 - val_loss: 2.7613 - val_mean_absolute_error: 2.7613\n",
      "Epoch 148/200\n",
      "26/26 [==============================] - 0s 9ms/step - loss: 2.0703 - mean_absolute_error: 2.0703 - val_loss: 2.7480 - val_mean_absolute_error: 2.7480\n",
      "Epoch 149/200\n"
     ]
    },
    {
     "name": "stdout",
     "output_type": "stream",
     "text": [
      "26/26 [==============================] - 0s 9ms/step - loss: 2.1192 - mean_absolute_error: 2.1192 - val_loss: 2.7636 - val_mean_absolute_error: 2.7636\n",
      "Epoch 150/200\n",
      "26/26 [==============================] - 0s 8ms/step - loss: 1.9302 - mean_absolute_error: 1.9302 - val_loss: 2.7525 - val_mean_absolute_error: 2.7525\n",
      "Epoch 151/200\n",
      "26/26 [==============================] - 0s 9ms/step - loss: 2.0195 - mean_absolute_error: 2.0195 - val_loss: 2.7480 - val_mean_absolute_error: 2.7480\n",
      "Epoch 152/200\n",
      "26/26 [==============================] - 0s 13ms/step - loss: 1.9020 - mean_absolute_error: 1.9020 - val_loss: 2.7630 - val_mean_absolute_error: 2.7630\n",
      "Epoch 153/200\n",
      "26/26 [==============================] - 0s 5ms/step - loss: 2.0030 - mean_absolute_error: 2.0030 - val_loss: 2.7461 - val_mean_absolute_error: 2.7461\n",
      "Epoch 154/200\n",
      "26/26 [==============================] - 0s 6ms/step - loss: 1.9754 - mean_absolute_error: 1.9754 - val_loss: 2.7432 - val_mean_absolute_error: 2.7432\n",
      "Epoch 155/200\n",
      "26/26 [==============================] - 0s 8ms/step - loss: 2.0527 - mean_absolute_error: 2.0527 - val_loss: 2.7575 - val_mean_absolute_error: 2.7575\n",
      "Epoch 156/200\n",
      "26/26 [==============================] - 0s 6ms/step - loss: 2.1061 - mean_absolute_error: 2.1061 - val_loss: 2.7720 - val_mean_absolute_error: 2.7720\n",
      "Epoch 157/200\n",
      "26/26 [==============================] - 0s 8ms/step - loss: 2.0949 - mean_absolute_error: 2.0949 - val_loss: 2.7517 - val_mean_absolute_error: 2.7517\n",
      "Epoch 158/200\n",
      "26/26 [==============================] - 0s 6ms/step - loss: 2.1040 - mean_absolute_error: 2.1040 - val_loss: 2.7501 - val_mean_absolute_error: 2.7501\n",
      "Epoch 159/200\n",
      "26/26 [==============================] - 0s 6ms/step - loss: 1.9812 - mean_absolute_error: 1.9812 - val_loss: 2.7378 - val_mean_absolute_error: 2.7378\n",
      "Epoch 160/200\n",
      "26/26 [==============================] - 0s 8ms/step - loss: 2.1415 - mean_absolute_error: 2.1415 - val_loss: 2.7283 - val_mean_absolute_error: 2.7283\n",
      "Epoch 161/200\n",
      "26/26 [==============================] - 0s 10ms/step - loss: 2.0386 - mean_absolute_error: 2.0386 - val_loss: 2.7524 - val_mean_absolute_error: 2.7524\n",
      "Epoch 162/200\n",
      "26/26 [==============================] - 0s 8ms/step - loss: 1.9954 - mean_absolute_error: 1.9954 - val_loss: 2.7441 - val_mean_absolute_error: 2.7441\n",
      "Epoch 163/200\n",
      "26/26 [==============================] - 0s 9ms/step - loss: 2.2932 - mean_absolute_error: 2.2932 - val_loss: 2.7536 - val_mean_absolute_error: 2.7536\n",
      "Epoch 164/200\n",
      "26/26 [==============================] - 0s 9ms/step - loss: 1.9488 - mean_absolute_error: 1.9488 - val_loss: 2.7416 - val_mean_absolute_error: 2.7416\n",
      "Epoch 165/200\n",
      "26/26 [==============================] - 0s 9ms/step - loss: 1.9556 - mean_absolute_error: 1.9556 - val_loss: 2.7342 - val_mean_absolute_error: 2.7342\n",
      "Epoch 166/200\n",
      "26/26 [==============================] - 0s 8ms/step - loss: 1.9017 - mean_absolute_error: 1.9017 - val_loss: 2.7454 - val_mean_absolute_error: 2.7454\n",
      "Epoch 167/200\n",
      "26/26 [==============================] - 0s 10ms/step - loss: 1.9576 - mean_absolute_error: 1.9576 - val_loss: 2.7563 - val_mean_absolute_error: 2.7563\n",
      "Epoch 168/200\n",
      "26/26 [==============================] - 0s 10ms/step - loss: 2.1329 - mean_absolute_error: 2.1329 - val_loss: 2.7645 - val_mean_absolute_error: 2.7645\n",
      "Epoch 169/200\n",
      "26/26 [==============================] - 0s 10ms/step - loss: 1.9891 - mean_absolute_error: 1.9891 - val_loss: 2.7905 - val_mean_absolute_error: 2.7905\n",
      "Epoch 170/200\n",
      "26/26 [==============================] - 0s 9ms/step - loss: 2.0846 - mean_absolute_error: 2.0846 - val_loss: 2.7413 - val_mean_absolute_error: 2.7413\n",
      "Epoch 171/200\n",
      "26/26 [==============================] - 0s 9ms/step - loss: 1.9608 - mean_absolute_error: 1.9608 - val_loss: 2.7423 - val_mean_absolute_error: 2.7423\n",
      "Epoch 172/200\n",
      "26/26 [==============================] - 0s 10ms/step - loss: 2.0748 - mean_absolute_error: 2.0748 - val_loss: 2.7647 - val_mean_absolute_error: 2.7647\n",
      "Epoch 173/200\n",
      "26/26 [==============================] - 0s 8ms/step - loss: 1.8660 - mean_absolute_error: 1.8660 - val_loss: 2.7400 - val_mean_absolute_error: 2.7400\n",
      "Epoch 174/200\n",
      "26/26 [==============================] - 0s 8ms/step - loss: 1.8207 - mean_absolute_error: 1.8207 - val_loss: 2.7521 - val_mean_absolute_error: 2.7521\n",
      "Epoch 175/200\n",
      "26/26 [==============================] - 0s 11ms/step - loss: 1.8221 - mean_absolute_error: 1.8221 - val_loss: 2.7295 - val_mean_absolute_error: 2.7295\n",
      "Epoch 176/200\n",
      "26/26 [==============================] - 0s 8ms/step - loss: 1.9739 - mean_absolute_error: 1.9739 - val_loss: 2.7391 - val_mean_absolute_error: 2.7391\n",
      "Epoch 177/200\n",
      "26/26 [==============================] - 0s 10ms/step - loss: 1.8478 - mean_absolute_error: 1.8478 - val_loss: 2.7490 - val_mean_absolute_error: 2.7490\n",
      "Epoch 178/200\n",
      "26/26 [==============================] - 0s 9ms/step - loss: 1.8959 - mean_absolute_error: 1.8959 - val_loss: 2.7275 - val_mean_absolute_error: 2.7275\n",
      "Epoch 179/200\n",
      "26/26 [==============================] - 0s 10ms/step - loss: 2.1063 - mean_absolute_error: 2.1063 - val_loss: 2.7583 - val_mean_absolute_error: 2.7583\n",
      "Epoch 180/200\n",
      "26/26 [==============================] - 0s 10ms/step - loss: 2.0418 - mean_absolute_error: 2.0418 - val_loss: 2.7637 - val_mean_absolute_error: 2.7637\n",
      "Epoch 181/200\n",
      "26/26 [==============================] - 0s 9ms/step - loss: 1.8130 - mean_absolute_error: 1.8130 - val_loss: 2.7381 - val_mean_absolute_error: 2.7381\n",
      "Epoch 182/200\n",
      "26/26 [==============================] - 0s 9ms/step - loss: 2.0561 - mean_absolute_error: 2.0561 - val_loss: 2.7520 - val_mean_absolute_error: 2.7520\n",
      "Epoch 183/200\n",
      "26/26 [==============================] - 0s 12ms/step - loss: 1.8741 - mean_absolute_error: 1.8741 - val_loss: 2.7346 - val_mean_absolute_error: 2.7346\n",
      "Epoch 184/200\n",
      "26/26 [==============================] - 0s 8ms/step - loss: 1.8242 - mean_absolute_error: 1.8242 - val_loss: 2.7466 - val_mean_absolute_error: 2.7466\n",
      "Epoch 185/200\n",
      "26/26 [==============================] - 0s 8ms/step - loss: 1.9171 - mean_absolute_error: 1.9171 - val_loss: 2.7508 - val_mean_absolute_error: 2.7508\n",
      "Epoch 186/200\n",
      "26/26 [==============================] - 0s 18ms/step - loss: 2.0321 - mean_absolute_error: 2.0321 - val_loss: 2.7557 - val_mean_absolute_error: 2.7557\n",
      "Epoch 187/200\n",
      "26/26 [==============================] - 0s 9ms/step - loss: 1.9743 - mean_absolute_error: 1.9743 - val_loss: 2.7344 - val_mean_absolute_error: 2.7344\n",
      "Epoch 188/200\n",
      "26/26 [==============================] - 0s 6ms/step - loss: 1.9806 - mean_absolute_error: 1.9806 - val_loss: 2.7278 - val_mean_absolute_error: 2.7278\n",
      "Epoch 189/200\n",
      "26/26 [==============================] - 0s 8ms/step - loss: 1.8372 - mean_absolute_error: 1.8372 - val_loss: 2.7703 - val_mean_absolute_error: 2.7703\n",
      "Epoch 190/200\n",
      "26/26 [==============================] - 0s 8ms/step - loss: 1.9704 - mean_absolute_error: 1.9704 - val_loss: 2.7623 - val_mean_absolute_error: 2.7623\n",
      "Epoch 191/200\n",
      "26/26 [==============================] - 0s 10ms/step - loss: 1.9210 - mean_absolute_error: 1.9210 - val_loss: 2.7495 - val_mean_absolute_error: 2.7495\n",
      "Epoch 192/200\n",
      "26/26 [==============================] - 0s 7ms/step - loss: 1.8330 - mean_absolute_error: 1.8330 - val_loss: 2.7546 - val_mean_absolute_error: 2.7546\n",
      "Epoch 193/200\n",
      "26/26 [==============================] - 0s 9ms/step - loss: 1.9657 - mean_absolute_error: 1.9657 - val_loss: 2.7489 - val_mean_absolute_error: 2.7489\n",
      "Epoch 194/200\n",
      "26/26 [==============================] - 0s 8ms/step - loss: 1.9099 - mean_absolute_error: 1.9099 - val_loss: 2.7829 - val_mean_absolute_error: 2.7829\n",
      "Epoch 195/200\n",
      "26/26 [==============================] - 0s 7ms/step - loss: 1.8235 - mean_absolute_error: 1.8235 - val_loss: 2.7689 - val_mean_absolute_error: 2.7689\n",
      "Epoch 196/200\n",
      "26/26 [==============================] - 0s 13ms/step - loss: 1.9017 - mean_absolute_error: 1.9017 - val_loss: 2.7503 - val_mean_absolute_error: 2.7503\n",
      "Epoch 197/200\n",
      "26/26 [==============================] - 0s 12ms/step - loss: 1.9999 - mean_absolute_error: 1.9999 - val_loss: 2.7654 - val_mean_absolute_error: 2.7654\n",
      "Epoch 198/200\n"
     ]
    },
    {
     "name": "stdout",
     "output_type": "stream",
     "text": [
      "26/26 [==============================] - 0s 11ms/step - loss: 1.9983 - mean_absolute_error: 1.9983 - val_loss: 2.7687 - val_mean_absolute_error: 2.7687\n",
      "Epoch 199/200\n",
      "26/26 [==============================] - 0s 7ms/step - loss: 1.8042 - mean_absolute_error: 1.8042 - val_loss: 2.7898 - val_mean_absolute_error: 2.7898\n",
      "Epoch 200/200\n",
      "26/26 [==============================] - 0s 6ms/step - loss: 1.7373 - mean_absolute_error: 1.7373 - val_loss: 2.7827 - val_mean_absolute_error: 2.7827\n"
     ]
    }
   ],
   "source": [
    "import tensorflow\n",
    "from sklearn.preprocessing import StandardScaler #hint\n",
    "\n",
    "#This is how we load the dataset, pre-split in training/validation sets\n",
    "(X_train, y_train), (X_val, y_val) = tensorflow.keras.datasets.boston_housing.load_data(path=\"boston_housing.npz\", test_split=0.2, seed=113)\n",
    "\n",
    "#Let's have a look at the data\n",
    "print(X_train.shape)\n",
    "print(X_train[0], y_train[0])\n",
    "\n",
    "scaler = StandardScaler()\n",
    "scaler.fit(X_train)\n",
    "X_train = scaler.transform(X_train)\n",
    "X_val = scaler.transform(X_val)\n",
    "\n",
    "# Add your model here\n",
    "model = Sequential()\n",
    "model.add(Dense(10, activation=\"relu\", input_dim=13))\n",
    "model.add(Dense(4, activation=\"relu\"))\n",
    "model.add(Dense(1, activation=\"linear\"))\n",
    "\n",
    "model.compile(optimizer='adam',                    #adaptive learning rate method\n",
    "              loss='mean_absolute_error', metrics=[\"mean_absolute_error\"]) \n",
    "\n",
    "history = model.fit(X_train, y_train, batch_size=16, epochs=200, validation_data=(X_val, y_val))"
   ]
  },
  {
   "cell_type": "code",
   "execution_count": 22,
   "metadata": {},
   "outputs": [
    {
     "data": {
      "image/png": "[encoded data removed]",
      "text/plain": [
       "<Figure size 640x480 with 2 Axes>"
      ]
     },
     "metadata": {},
     "output_type": "display_data"
    }
   ],
   "source": [
    "%matplotlib inline\n",
    "\n",
    "import matplotlib.pyplot as plt\n",
    "\n",
    "def plot_loss_mae(history, metric):\n",
    "    \n",
    "    fig,ax = plt.subplots()\n",
    "    ax.plot(history.history[metric])\n",
    "    ax.plot(history.history['val_' + metric])\n",
    "    ax.set_ylabel(metric)\n",
    "    ax2=ax.twinx()\n",
    "    ax2.plot(history.history['loss'], c=\"red\")\n",
    "    ax2.plot(history.history['val_loss'], c=\"green\")\n",
    "    ax2.set_ylabel(\"loss\")\n",
    "    plt.title('model accuracy')\n",
    "    #plt.ylabel('accuracy')\n",
    "    plt.xlabel('epoch')\n",
    "    plt.legend(['train ' + metric, 'val ' + metric, 'train loss', 'val loss'], loc='upper left')\n",
    "    plt.show()\n",
    "    \n",
    "plot_loss_mae(history, \"mean_absolute_error\")"
   ]
  },
  {
   "cell_type": "markdown",
   "metadata": {},
   "source": [
    "## 4. The IMDB movie review sentiment dataset\n",
    "\n",
    "Another pre-package toy dataset from Keras. Contains 25k reviews for a movies in IMDB, you want to predict whether the review is positive or negative.\n",
    "\n",
    "> each review is encoded as a list of word indexes (integers). For convenience, words are indexed by overall frequency in the dataset, so that for instance the integer \"3\" encodes the 3rd most frequent word in the data. This allows for quick filtering operations such as: \"only consider the top 10,000 most common words, but eliminate the top 20 most common words\".\n",
    "\n",
    "https://keras.io/api/datasets/imdb/"
   ]
  },
  {
   "cell_type": "markdown",
   "metadata": {},
   "source": [
    "Load the dataset, set a couple of important parameters (max_features, maxlen). Also pad all reviews with less than 200 words so that they have all the same length."
   ]
  },
  {
   "cell_type": "code",
   "execution_count": 38,
   "metadata": {},
   "outputs": [
    {
     "name": "stdout",
     "output_type": "stream",
     "text": [
      "25000 Training sequences\n",
      "25000 Validation sequences\n"
     ]
    }
   ],
   "source": [
    "import numpy as np\n",
    "from tensorflow import keras\n",
    "from tensorflow.keras import layers\n",
    "\n",
    "max_features = 20000  # Only consider the top 20k words\n",
    "maxlen = 200  # Only consider the first 200 words of each movie review\n",
    "\n",
    "(x_train, y_train), (x_val, y_val) = keras.datasets.imdb.load_data(\n",
    "    num_words=max_features\n",
    ")\n",
    "print(len(x_train), \"Training sequences\")\n",
    "print(len(x_val), \"Validation sequences\")\n",
    "x_train = keras.preprocessing.sequence.pad_sequences(x_train, maxlen=maxlen, padding=\"post\")\n",
    "x_val = keras.preprocessing.sequence.pad_sequences(x_val, maxlen=maxlen, padding=\"post\")\n"
   ]
  },
  {
   "cell_type": "markdown",
   "metadata": {},
   "source": [
    "Since the dataset is pre-processed so that each word is represented by an integer, we have to build a reverse dictionary if we want to actually read some of the reviews:"
   ]
  },
  {
   "cell_type": "code",
   "execution_count": 39,
   "metadata": {},
   "outputs": [],
   "source": [
    "# Use the default parameters to keras.datasets.imdb.load_data\n",
    "start_char = 1\n",
    "oov_char = 2\n",
    "index_from = 3\n",
    "# Retrieve the word index file mapping words to indices\n",
    "word_index = keras.datasets.imdb.get_word_index()\n",
    "# Reverse the word index to obtain a dict mapping indices to words\n",
    "# And add `index_from` to indices to sync with `x_train`\n",
    "inverted_word_index = dict(\n",
    "    (i + index_from, word) for (word, i) in word_index.items()\n",
    ")\n",
    "\n",
    "inverted_word_index[0] = \"\"\n",
    "# Update `inverted_word_index` to include `start_char` and `oov_char`\n",
    "inverted_word_index[start_char] = \"[START]\"\n",
    "inverted_word_index[oov_char] = \"[OOV]\"\n",
    "# Decode the first sequence in the dataset\n"
   ]
  },
  {
   "cell_type": "code",
   "execution_count": null,
   "metadata": {},
   "outputs": [],
   "source": [
    "print([i for i in x_train[2]])"
   ]
  },
  {
   "cell_type": "code",
   "execution_count": null,
   "metadata": {},
   "outputs": [],
   "source": [
    "decoded_sequence = \" \".join(inverted_word_index[i] for i in x_train[2])\n",
    "print(decoded_sequence)"
   ]
  },
  {
   "cell_type": "markdown",
   "metadata": {},
   "source": [
    "How do we build a predictor for this task?"
   ]
  },
  {
   "cell_type": "code",
   "execution_count": null,
   "metadata": {},
   "outputs": [],
   "source": [
    "model = Sequential()\n",
    "..."
   ]
  }
 ],
 "metadata": {
  "kernelspec": {
   "display_name": "Python 3 (ipykernel)",
   "language": "python",
   "name": "python3"
  },
  "language_info": {
   "codemirror_mode": {
    "name": "ipython",
    "version": 3
   },
   "file_extension": ".py",
   "mimetype": "text/x-python",
   "name": "python",
   "nbconvert_exporter": "python",
   "pygments_lexer": "ipython3",
   "version": "3.7.6"
  }
 },
 "nbformat": 4,
 "nbformat_minor": 4
}
