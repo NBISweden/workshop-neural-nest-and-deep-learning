{
 "cells": [
  {
   "cell_type": "markdown",
   "metadata": {
    "cell_style": "center",
    "hide_input": false,
    "slideshow": {
     "slide_type": "slide"
    }
   },
   "source": [
    "# ANN Building Blocks"
   ]
  },
  {
   "cell_type": "markdown",
   "metadata": {
    "slideshow": {
     "slide_type": "slide"
    }
   },
   "source": [
    "# Biological Neurons"
   ]
  },
  {
   "cell_type": "markdown",
   "metadata": {
    "cell_style": "split",
    "hide_input": false,
    "slideshow": {
     "slide_type": "-"
    }
   },
   "source": [
    "<img src=\"./assets/neuron2.png\" alt=\"Neuron\" width=\"800\"/>"
   ]
  },
  {
   "cell_type": "markdown",
   "metadata": {
    "cell_style": "split",
    "slideshow": {
     "slide_type": "-"
    }
   },
   "source": [
    "\n",
    "## Algorithm\n",
    "\n",
    "- *Multiple input (on/off):* \n",
    "    - from 1-several neurons \n",
    "\n",
    "- *Processing*:\n",
    "     - _Combination_: of inputs  \n",
    "     - _Activation_: on or off state  \n",
    "\n",
    "- *Single output (on/off):* to 1-several neurons\n"
   ]
  },
  {
   "cell_type": "markdown",
   "metadata": {
    "cell_style": "center",
    "slideshow": {
     "slide_type": "slide"
    }
   },
   "source": [
    "\n",
    "# Artificial neurons"
   ]
  },
  {
   "cell_type": "markdown",
   "metadata": {
    "cell_style": "split",
    "slideshow": {
     "slide_type": "-"
    }
   },
   "source": [
    "### Algorithm\n",
    "\n",
    "- *Multiple input:* \n",
    "    - from 1-several neurons\n",
    "\n",
    "- *Processing*:\n",
    "     - _Combination_: of inputs  -- **linear model**\n",
    "     - _Activation_: **activation function**\n",
    "\n",
    "- *Single output:* to 1-several neurons\n",
    "\n",
    "<br>\n",
    "<br>\n",
    "<br>\n",
    "<br>\n",
    "<br>\n",
    "<br>\n",
    "<br>\n",
    "<br>\n",
    "<br>\n",
    "<br>\n",
    "<br>"
   ]
  },
  {
   "cell_type": "code",
   "execution_count": 2,
   "metadata": {
    "cell_style": "split",
    "hide_input": true,
    "scrolled": true,
    "slideshow": {
     "slide_type": "-"
    }
   },
   "outputs": [
    {
     "data": {
      "image/png": "[encoded data removed]",
      "text/plain": [
       "<Figure size 576x576 with 1 Axes>"
      ]
     },
     "metadata": {
      "needs_background": "light"
     },
     "output_type": "display_data"
    }
   ],
   "source": [
    "import sys, os\n",
    "sys.path.append(os.path.abspath(os.path.join('..', 'common_assets')))\n",
    "import numpy as np\n",
    "import matplotlib.pyplot as plt\n",
    "from draw_neural_net import draw_neural_net\n",
    "\n",
    "layer_sizes = [3,1,1]\n",
    "\n",
    "weights = [\n",
    "    np.array(\n",
    "        [\n",
    "            [\"w_{1,1}\"],\n",
    "            [\"w_{2,1}\"], \n",
    "            [\"w_{3,1}\"],\n",
    "        ]\n",
    "    ),\n",
    "    np.array(\n",
    "        [\n",
    "            [\"\"]\n",
    "        ]\n",
    "    )\n",
    "\n",
    "]\n",
    "biases = [\n",
    "    np.array(\n",
    "        [\"b1\"]\n",
    "    ), \n",
    "    np.array(\n",
    "        [\"b_2\"]\n",
    "    )\n",
    "]\n",
    "figNeuron = plt.figure(figsize=(8, 8))\n",
    "ax = figNeuron.gca()\n",
    "ax.axis('off')\n",
    "\n",
    "draw_neural_net(ax,\n",
    "                layerSizes=layer_sizes, \n",
    "                weights=weights, \n",
    "                biases=biases, \n",
    "                hiddenLayerPrefix = \"\", \n",
    "                outLayerPrefix = \"\", \n",
    "                inLayerPrefix =\"\", \n",
    "                biasNodePrefix = \"b\",\n",
    "                inputPrefix = \"a'\", \n",
    "                outputPrefix = \"a\", \n",
    "                otherNodePrefix =  r\"z_{m}\",\n",
    "                hideInOutPutNodes=True,\n",
    "                nodeFontSize = 25,\n",
    "                edgeFontSize = 20, \n",
    "                edgeWidth = 3\n",
    "               )\n"
   ]
  },
  {
   "cell_type": "markdown",
   "metadata": {
    "cell_style": "center",
    "slideshow": {
     "slide_type": "slide"
    }
   },
   "source": [
    "\n",
    "# Artificial neurons"
   ]
  },
  {
   "cell_type": "markdown",
   "metadata": {
    "cell_style": "split",
    "hide_input": true,
    "slideshow": {
     "slide_type": "-"
    }
   },
   "source": [
    "### Algorithm\n",
    "\n",
    "- *Multiple input:* \n",
    "    - from 1-several neurons\n",
    "\n",
    "- *Processing*:\n",
    "     - _Combination_: of inputs  -- **linear model**\n",
    "     - _Activation_: **activation function**\n",
    "\n",
    "- *Single output:* to 1-several neurons\n",
    "\n",
    "#### Weighted linear combination of input:\n",
    "$\\begin{eqnarray*}\n",
    "z_j &=& \\sum_{i} w_{i,j} a_{i} + b_j\\\\\n",
    "\\textrm{weights}&& w_{i,j}\\\\\n",
    "\\textrm{bias}&& b_j\n",
    "\\end{eqnarray*}$\n",
    "\n",
    "<br>\n",
    "<br>"
   ]
  },
  {
   "cell_type": "code",
   "execution_count": 3,
   "metadata": {
    "cell_style": "split",
    "hide_input": true,
    "slideshow": {
     "slide_type": "-"
    }
   },
   "outputs": [
    {
     "data": {
      "image/png": "[encoded data removed]",
      "text/plain": [
       "<Figure size 576x576 with 1 Axes>"
      ]
     },
     "execution_count": 3,
     "metadata": {},
     "output_type": "execute_result"
    }
   ],
   "source": [
    "figNeuron\n"
   ]
  },
  {
   "cell_type": "markdown",
   "metadata": {
    "cell_style": "center",
    "hide_input": true,
    "slideshow": {
     "slide_type": "slide"
    }
   },
   "source": [
    "\n",
    "# Artificial neurons"
   ]
  },
  {
   "cell_type": "markdown",
   "metadata": {
    "cell_style": "split",
    "hide_input": true,
    "slideshow": {
     "slide_type": "-"
    }
   },
   "source": [
    "### Algorithm\n",
    "\n",
    "- *Multiple input:* \n",
    "    - from 1-several neurons\n",
    "\n",
    "- *Processing*:\n",
    "     - _Combination_: of inputs  -- **linear model**\n",
    "     - _Activation_: **activation function**\n",
    "\n",
    "- *Single output:* to 1-several neurons\n",
    "\n",
    "#### Weighted linear combination of input:\n",
    "$\\begin{eqnarray*}\n",
    "z_j &=& \\sum_{i} w_{i,j} a_{i} + b_j\\\\\n",
    "\\textrm{weights}&& w_{i,j}\\\\\n",
    "\\textrm{bias}&& b_j\n",
    "\\end{eqnarray*}$\n",
    "\n",
    "#### Sigmoid (logistic) activation function:\n",
    "$a_j = \\sigma(z_j)$"
   ]
  },
  {
   "cell_type": "code",
   "execution_count": 4,
   "metadata": {
    "cell_style": "split",
    "hide_input": true,
    "slideshow": {
     "slide_type": "-"
    }
   },
   "outputs": [
    {
     "data": {
      "image/png": "[encoded data removed]",
      "text/plain": [
       "<Figure size 576x576 with 1 Axes>"
      ]
     },
     "execution_count": 4,
     "metadata": {},
     "output_type": "execute_result"
    }
   ],
   "source": [
    "figNeuron"
   ]
  },
  {
   "cell_type": "markdown",
   "metadata": {
    "slideshow": {
     "slide_type": "slide"
    }
   },
   "source": [
    "# The Sigmoid Neuron"
   ]
  },
  {
   "cell_type": "markdown",
   "metadata": {
    "cell_style": "split",
    "slideshow": {
     "slide_type": "-"
    }
   },
   "source": [
    "#### Weighted linear combination of input:\n",
    "\n",
    "- $z_j = \\sum_{i} w_{i,j} a'_{i} + b_j$\n",
    "\n",
    "#### Sigmoid/logistic activation function\n",
    "\n",
    "- $a_j=\\sigma(z_j) = \\frac{1}{1+e^{-z_j}}$\n",
    "    \n",
    "<br>    \n",
    "<br>\n",
    "<br>\n",
    "<br>\n",
    "<br>\n",
    "<br>\n",
    "<br\n",
    "<br>\n",
    "<br>\n",
    "<br>\n",
    "<br>\n",
    "<br>\n",
    "<br>\n",
    "<br>\n",
    "<br>\n",
    "<br>\n",
    "<br>"
   ]
  },
  {
   "cell_type": "code",
   "execution_count": 5,
   "metadata": {
    "cell_style": "split",
    "hide_input": true
   },
   "outputs": [
    {
     "data": {
      "image/png": "[encoded data removed]",
      "text/plain": [
       "<Figure size 576x576 with 1 Axes>"
      ]
     },
     "metadata": {
      "needs_background": "light"
     },
     "output_type": "display_data"
    }
   ],
   "source": [
    "import sys, os\n",
    "sys.path.append(os.path.abspath(os.path.join('..', 'common_assets')))\n",
    "import numpy as np\n",
    "import matplotlib.pyplot as plt\n",
    "from draw_neural_net import draw_neural_net\n",
    "\n",
    "layer_sizes = [3,1,1]\n",
    "\n",
    "weights = [\n",
    "    np.array(\n",
    "        [\n",
    "            [\"0.3\"],\n",
    "            [\"0.8\"], \n",
    "            [\"0.2\"],\n",
    "        ]\n",
    "    ),\n",
    "    np.array(\n",
    "        [\n",
    "            [\"\"]\n",
    "        ]\n",
    "    )\n",
    "\n",
    "]\n",
    "biases = [\n",
    "    np.array(\n",
    "        [\"-0.5\"]\n",
    "    ), \n",
    "    np.array(\n",
    "        [\"b_2\"]\n",
    "    )\n",
    "]\n",
    "figNeuron1 = plt.figure(figsize=(8, 8))\n",
    "ax = figNeuron1.gca()\n",
    "ax.axis('off')\n",
    "\n",
    "draw_neural_net(ax,\n",
    "                layerSizes=layer_sizes, \n",
    "                weights=weights, \n",
    "                biases=biases, \n",
    "                hiddenLayerPrefix = \"\", \n",
    "                outLayerPrefix = \"\", \n",
    "                inLayerPrefix =\"\", \n",
    "                biasNodePrefix = \"b\",\n",
    "                inputPrefix = \"a'\", \n",
    "                outputPrefix = \"a\", \n",
    "                otherNodePrefix =  r\"z_{m}\",\n",
    "                hideInOutPutNodes=True,\n",
    "                nodeFontSize = 25,\n",
    "                edgeFontSize = 20, \n",
    "                edgeWidth = 3\n",
    "               )\n",
    "\n"
   ]
  },
  {
   "cell_type": "code",
   "execution_count": 6,
   "metadata": {
    "cell_style": "split",
    "hide_input": true,
    "scrolled": false,
    "slideshow": {
     "slide_type": "-"
    }
   },
   "outputs": [
    {
     "ename": "NameError",
     "evalue": "name 'fig' is not defined",
     "output_type": "error",
     "traceback": [
      "\u001b[0;31m---------------------------------------------------------------------------\u001b[0m",
      "\u001b[0;31mNameError\u001b[0m                                 Traceback (most recent call last)",
      "\u001b[0;32m/var/folders/k4/7l11d_js20z71xvv47n2gpf00000gp/T/ipykernel_98656/3903555505.py\u001b[0m in \u001b[0;36m<module>\u001b[0;34m\u001b[0m\n\u001b[0;32m----> 1\u001b[0;31m \u001b[0mfig\u001b[0m\u001b[0;34m\u001b[0m\u001b[0;34m\u001b[0m\u001b[0m\n\u001b[0m",
      "\u001b[0;31mNameError\u001b[0m: name 'fig' is not defined"
     ]
    }
   ],
   "source": [
    "fig"
   ]
  },
  {
   "cell_type": "markdown",
   "metadata": {
    "slideshow": {
     "slide_type": "slide"
    }
   },
   "source": [
    "# The Sigmoid Neuron"
   ]
  },
  {
   "cell_type": "markdown",
   "metadata": {
    "cell_style": "split",
    "slideshow": {
     "slide_type": "-"
    }
   },
   "source": [
    "#### Weighted linear combination of input:\n",
    "\n",
    "- $z_j = \\sum_{i} w_{i,j} a'_{i} + b_j$\n",
    "\n",
    "#### Sigmoid/logistic activation function\n",
    "\n",
    "- $a_j=\\sigma(z_j) = \\frac{1}{1+e^{-z_j}}$\n",
    "    \n",
    "<br>    \n",
    "    \n",
    "#### Compare with logistic GLM\n",
    "\n",
    "- Weighted linear combination of input:\n",
    "    - $z = \\sum_{i} \\beta_{i} x_{i} + \\alpha$\n",
    "- Sigmoid/logistic link function\n",
    "    - $Pr[y=1|x] = p = \\sigma(z) = \\frac{1}{1+e^{-z}}$\n",
    "    \n",
    "<br>\n",
    "<br>\n",
    "<br>\n",
    "<br>\n",
    "<br>\n",
    "<br>\n",
    "<br>\n",
    "<br>"
   ]
  },
  {
   "cell_type": "code",
   "execution_count": null,
   "metadata": {
    "cell_style": "split",
    "hide_input": true
   },
   "outputs": [],
   "source": [
    "figNeuron1"
   ]
  },
  {
   "cell_type": "code",
   "execution_count": null,
   "metadata": {
    "cell_style": "split",
    "hide_input": true,
    "scrolled": true,
    "slideshow": {
     "slide_type": "-"
    }
   },
   "outputs": [],
   "source": [
    "import numpy as np\n",
    "import matplotlib.pyplot as plt\n",
    "def sigma(x):\n",
    "    return 1/(1+np.exp(-x))\n",
    "\n",
    "# Creating vectors x and  \n",
    "z = np.linspace(-10, 10, 100) \n",
    "a = [ sigma(x) for x in z ]\n",
    "  \n",
    "fig = plt.figure(figsize = (6, 6)) \n",
    "# Create the plot \n",
    "plt.plot(z, a)\n",
    "plt.title(\"Logistic function\")\n",
    "plt.xlabel('z') \n",
    "plt.ylabel('$\\sigma(z)$') \n",
    "# Show the plot \n",
    "plt.show() "
   ]
  },
  {
   "cell_type": "markdown",
   "metadata": {
    "slideshow": {
     "slide_type": "slide"
    }
   },
   "source": [
    "# The Sigmoid Neuron"
   ]
  },
  {
   "cell_type": "markdown",
   "metadata": {
    "cell_style": "split",
    "slideshow": {
     "slide_type": "-"
    }
   },
   "source": [
    "#### Weighted linear combination of input:\n",
    "\n",
    "- $z_j = \\sum_{i} w_{i,j} a'_{i} + b_j$\n",
    "\n",
    "#### Sigmoid/logistic activation function\n",
    "\n",
    "- $a_j=\\sigma(z_j) = \\frac{1}{1+e^{-z_j}}$\n",
    "    \n",
    "<br>    \n",
    "    \n",
    "#### Compare with logistic GLM\n",
    "\n",
    "- Weighted linear combination of input:\n",
    "    - $z = \\sum_{i} \\beta_{i} x_{i} + \\alpha$\n",
    "- Sigmoid/logistic link function\n",
    "    - $Pr[y=1|x] = p = \\sigma(z) = \\frac{1}{1+e^{-z}}$\n",
    "    \n",
    "**... or equivalently**\n",
    "\n",
    "$\\begin{eqnarray}\n",
    " \\sigma^{-1}(p)&=&\\log\\left(\\frac{p}{1-p}\\right) =\\\\\n",
    "logit(p) &=& \\sum_{i}\\beta_{i} x_{i} + \\alpha\n",
    "\\end{eqnarray}$"
   ]
  },
  {
   "cell_type": "code",
   "execution_count": null,
   "metadata": {
    "cell_style": "split",
    "hide_input": true
   },
   "outputs": [],
   "source": [
    "figNeuron1"
   ]
  },
  {
   "cell_type": "code",
   "execution_count": null,
   "metadata": {
    "cell_style": "split",
    "hide_input": true,
    "scrolled": true,
    "slideshow": {
     "slide_type": "-"
    }
   },
   "outputs": [],
   "source": [
    "fig"
   ]
  },
  {
   "cell_type": "markdown",
   "metadata": {
    "slideshow": {
     "slide_type": "slide"
    }
   },
   "source": [
    "# Example"
   ]
  },
  {
   "cell_type": "markdown",
   "metadata": {
    "cell_style": "split"
   },
   "source": [
    "Let inputs be:  \n",
    "$\\begin{eqnarray}\n",
    "a'_1&=&1\\\\\n",
    "a'_2&=&0\\\\\n",
    "a'_3&=&1\n",
    "\\end{eqnarray}$\n",
    "\n",
    "and we have  \n",
    "$\\begin{eqnarray}\n",
    "z_1 &=& \\sum_i w_{i,1}a'_i + b_1\\\\\n",
    "a_1 &=& \\sigma(z_1)\n",
    "\\end{eqnarray}$"
   ]
  },
  {
   "cell_type": "code",
   "execution_count": null,
   "metadata": {
    "cell_style": "split",
    "hide_input": true
   },
   "outputs": [],
   "source": [
    "figNeuron1"
   ]
  },
  {
   "cell_type": "code",
   "execution_count": null,
   "metadata": {
    "cell_style": "split",
    "hide_input": true,
    "scrolled": true
   },
   "outputs": [],
   "source": [
    "import sys, os\n",
    "sys.path.append(os.path.abspath(os.path.join('..', 'common_assets')))\n",
    "import numpy as np\n",
    "import matplotlib.pyplot as plt\n",
    "from draw_neural_net import draw_neural_net\n",
    "\n",
    "layer_sizes = [3,1,1]\n",
    "\n",
    "weights = [\n",
    "    np.array(\n",
    "        [\n",
    "            [\"0.3\"],\n",
    "            [\"0.8\"], \n",
    "            [\"0.2\"],\n",
    "        ]\n",
    "    ),\n",
    "    np.array(\n",
    "        [\n",
    "            [\"\"]\n",
    "        ]\n",
    "    )\n",
    "\n",
    "]\n",
    "biases = [\n",
    "    np.array(\n",
    "        [\"-0.5\"]\n",
    "    ), \n",
    "    np.array(\n",
    "        [\"b_2\"]\n",
    "    )\n",
    "]\n",
    "\n",
    "figNeuron1 = plt.figure(figsize=(8, 8))\n",
    "ax = figNeuron1.gca()\n",
    "ax.axis('off')\n",
    "\n",
    "draw_neural_net(ax,\n",
    "                layerSizes=layer_sizes, \n",
    "                weights=weights, \n",
    "                biases=biases, \n",
    "                hiddenLayerPrefix = \"\", \n",
    "                outLayerPrefix = \"\", \n",
    "                inLayerPrefix =\"\", \n",
    "                biasNodePrefix = \"b\",\n",
    "                inputPrefix = \"a'\", \n",
    "                outputPrefix = \"a\", \n",
    "                otherNodePrefix =  r\"z_{m}\",\n",
    "                hideInOutPutNodes=True,\n",
    "                nodeFontSize = 25,\n",
    "                edgeFontSize = 20, \n",
    "                edgeWidth = 3\n",
    "               )\n",
    "\n",
    "\n"
   ]
  },
  {
   "cell_type": "markdown",
   "metadata": {
    "cell_style": "center",
    "hide_input": true,
    "slideshow": {
     "slide_type": "fragment"
    }
   },
   "source": [
    "$z_1 = 0.3 \\times 1 + 0.8 \\times 0 + 0.2 \\times 1 - 0.5 = ? $"
   ]
  },
  {
   "cell_type": "markdown",
   "metadata": {
    "cell_style": "center",
    "slideshow": {
     "slide_type": "-"
    }
   },
   "source": [
    "$a_1 = \\sigma(z_1) =  ?$"
   ]
  },
  {
   "cell_type": "markdown",
   "metadata": {
    "slideshow": {
     "slide_type": "slide"
    }
   },
   "source": [
    "# Example"
   ]
  },
  {
   "cell_type": "markdown",
   "metadata": {
    "cell_style": "split"
   },
   "source": [
    "Let inputs be:  \n",
    "$\\begin{eqnarray}\n",
    "a'_1&=&1\\\\\n",
    "a'_2&=&0\\\\\n",
    "a'_3&=&1\n",
    "\\end{eqnarray}$\n",
    "\n",
    "and we have  \n",
    "$\\begin{eqnarray}\n",
    "z_1 &=& \\sum_i w_{i,1}a'_i + b_1\\\\\n",
    "a_1 &=& \\sigma(z_1)\n",
    "\\end{eqnarray}$"
   ]
  },
  {
   "cell_type": "code",
   "execution_count": null,
   "metadata": {
    "cell_style": "split",
    "hide_input": true
   },
   "outputs": [],
   "source": [
    "figNeuron1"
   ]
  },
  {
   "cell_type": "code",
   "execution_count": null,
   "metadata": {
    "cell_style": "split",
    "hide_input": true
   },
   "outputs": [],
   "source": [
    "figNeuron1"
   ]
  },
  {
   "cell_type": "markdown",
   "metadata": {
    "cell_style": "center",
    "hide_input": true,
    "slideshow": {
     "slide_type": "-"
    }
   },
   "source": [
    "$z_1 = 0.3 \\times 1 + 0.8 \\times 0 + 0.2 \\times 1 - 0.5 = 0$"
   ]
  },
  {
   "cell_type": "markdown",
   "metadata": {
    "cell_style": "center",
    "slideshow": {
     "slide_type": "-"
    }
   },
   "source": [
    "$a_1 = \\sigma(z_1) = \\frac{1}{1+e^{-0}} = ?$"
   ]
  },
  {
   "cell_type": "markdown",
   "metadata": {
    "slideshow": {
     "slide_type": "slide"
    }
   },
   "source": [
    "# Example"
   ]
  },
  {
   "cell_type": "markdown",
   "metadata": {
    "cell_style": "split"
   },
   "source": [
    "Let inputs be:  \n",
    "$\\begin{eqnarray}\n",
    "a'_1&=&1\\\\\n",
    "a'_2&=&0\\\\\n",
    "a'_3&=&1\n",
    "\\end{eqnarray}$\n",
    "\n",
    "and we have  \n",
    "$\\begin{eqnarray}\n",
    "z_1 &=& \\sum_i w_{i,1}a'_i + b_1\\\\\n",
    "a_1 &=& \\sigma(z_1)\n",
    "\\end{eqnarray}$"
   ]
  },
  {
   "cell_type": "code",
   "execution_count": null,
   "metadata": {
    "cell_style": "split",
    "hide_input": true
   },
   "outputs": [],
   "source": [
    "figNeuron1"
   ]
  },
  {
   "cell_type": "markdown",
   "metadata": {
    "cell_style": "center",
    "hide_input": true,
    "slideshow": {
     "slide_type": "-"
    }
   },
   "source": [
    "$z_1 = 0.3 \\times 1 + 0.8 \\times 0 + 0.2 \\times 1 - 0.5 = 0$"
   ]
  },
  {
   "cell_type": "markdown",
   "metadata": {
    "cell_style": "center",
    "slideshow": {
     "slide_type": "-"
    }
   },
   "source": [
    "$a_1 = \\sigma(z_1) = \\frac{1}{1+e^{-0}} = 0.5$"
   ]
  },
  {
   "cell_type": "markdown",
   "metadata": {
    "cell_style": "center",
    "slideshow": {
     "slide_type": "slide"
    }
   },
   "source": [
    "#### So, if a sigmoid artificial neuron is just another way of doing logistic regression?"
   ]
  },
  {
   "cell_type": "markdown",
   "metadata": {
    "slideshow": {
     "slide_type": "fragment"
    }
   },
   "source": [
    "#### ... then what's all the fuss about?"
   ]
  },
  {
   "cell_type": "markdown",
   "metadata": {
    "cell_style": "center",
    "slideshow": {
     "slide_type": "fragment"
    }
   },
   "source": [
    "#### The *fuss* happens when you connect several neurons into a network"
   ]
  },
  {
   "cell_type": "code",
   "execution_count": null,
   "metadata": {
    "cell_style": "center",
    "hide_input": true,
    "slideshow": {
     "slide_type": "-"
    }
   },
   "outputs": [],
   "source": [
    "layer_sizes= (2,3,4,4,4,4,4,3,1)\n",
    "\n",
    "fig = plt.figure(figsize=(10, 10))\n",
    "ax = fig.gca()\n",
    "ax.axis('off')\n",
    "\n",
    "draw_neural_net(ax, \n",
    "                layerSizes=layer_sizes, \n",
    "                otherNodePrefix = \"\",\n",
    "                inNodePrefix = \"\",\n",
    "                hideBias = True)"
   ]
  },
  {
   "cell_type": "markdown",
   "metadata": {
    "hide_input": false,
    "slideshow": {
     "slide_type": "slide"
    }
   },
   "source": [
    "## Feed-forward artifical neural networks (ffANN)"
   ]
  },
  {
   "cell_type": "markdown",
   "metadata": {
    "cell_style": "split"
   },
   "source": [
    "### Layers\n",
    "- \"Columns\" of 1-many neurons\n",
    "\n",
    "- A single *Input layer*\n",
    "    - Input neurons  receives *data input* and passes it to next layer\n",
    "- 1-many *Hidden layer(s)*\n",
    "    - Articial neurons process their input and deliver output to next layer\n",
    "- A single *Output layer*\n",
    "    - Artifical neurons process their input and deliver final output $\\hat{y}$\n",
    "        + output $\\hat{y}_j = a_j$\n",
    "        + Continuous $\\hat{y}$: **Regression**\n",
    "        + Discrete $\\hat{y}$: **Classification**"
   ]
  },
  {
   "cell_type": "code",
   "execution_count": null,
   "metadata": {
    "cell_style": "split",
    "hide_input": true,
    "scrolled": false
   },
   "outputs": [],
   "source": [
    "layer_sizes = [1, 3, 1]\n",
    "weights = [\n",
    "    np.array(\n",
    "        [\n",
    "            [ \"w_{1,1}\", \"w_{1,2}\", \"w_{1,3}\"]\n",
    "        ]\n",
    "    ),\n",
    "        np.array(\n",
    "        [\n",
    "            [ \"w_{1,1}\" ],\n",
    "            [ \"w_{2,1}\" ],\n",
    "            [ \"w_{3,1}\" ]\n",
    "        ]\n",
    "    )\n",
    "\n",
    "\n",
    "]\n",
    "biases = [\n",
    "    np.array(\n",
    "        [\"b_1\", \"b_2\", \"b_3\"]\n",
    "    ), \n",
    "    np.array(\n",
    "        [ \"b_1\"]\n",
    "    ),    \n",
    "]\n",
    "\n",
    "fig = plt.figure(figsize=(8, 8))\n",
    "\n",
    "ax = fig.gca()\n",
    "ax.axis('off')\n",
    "\n",
    "draw_neural_net(ax, \n",
    "                layerSizes=layer_sizes,\n",
    "                weights= weights, \n",
    "                biases=biases)\n",
    "\n"
   ]
  },
  {
   "cell_type": "markdown",
   "metadata": {
    "cell_style": "split",
    "slideshow": {
     "slide_type": "fragment"
    }
   },
   "source": [
    "### Connectivity between layers\n",
    "- ffANN are fully connected\n",
    "   - each neuron in a layer is connected to each neurons in next layer"
   ]
  },
  {
   "cell_type": "markdown",
   "metadata": {
    "slideshow": {
     "slide_type": "slide"
    }
   },
   "source": [
    "### ffANN examples"
   ]
  },
  {
   "cell_type": "code",
   "execution_count": null,
   "metadata": {
    "cell_style": "split",
    "hide_input": true,
    "slideshow": {
     "slide_type": "fragment"
    }
   },
   "outputs": [],
   "source": [
    "layer_sizes = [1, 3, 1]\n",
    "weights = [\n",
    "    np.array(\n",
    "        [\n",
    "            [ \"w_{1,1}\", \"w_{1,2}\", \"w_{1,3}\"]\n",
    "        ]\n",
    "    ),\n",
    "        np.array(\n",
    "        [\n",
    "            [ \"w_{1,1}\" ],\n",
    "            [ \"w_{2,1}\" ],\n",
    "            [ \"w_{3,1}\" ]\n",
    "        ]\n",
    "    )\n",
    "\n",
    "\n",
    "]\n",
    "biases = [\n",
    "    np.array(\n",
    "        [\"b_1\", \"b_2\", \"b_3\"]\n",
    "    ), \n",
    "    np.array(\n",
    "        [ \"b_1\"]\n",
    "    ),    \n",
    "]\n",
    "\n",
    "fig = plt.figure(figsize=(6,6))\n",
    "\n",
    "ax = fig.gca()\n",
    "ax.axis('off')\n",
    "\n",
    "draw_neural_net(ax, \n",
    "                layerSizes=layer_sizes,\n",
    "                nodeFontSize = 10,\n",
    "                edgeFontSize = 8, \n",
    "                weights= weights, \n",
    "                biases=biases)\n",
    "\n",
    "layer_sizes = [3, 3, 3, 1]\n",
    "weights = [\n",
    "    np.array(\n",
    "        [\n",
    "            [ \"w_{1.1}\",  \"w_{2.1}\",  \"w_{3.1}\" ],\n",
    "            [ \"w_{1.2}\",  \"w_{2,2}\",  \"w_{3.1}\" ],\n",
    "            [ \"w_{1.2}\",  \"w_{2,2}\",  \"w_{3.1}\" ]\n",
    "        ]\n",
    "    ),\n",
    "    np.array(\n",
    "        [\n",
    "            [ \"w_{1.1}\",  \"w_{2.1}\",  \"w_{3.1}\" ],\n",
    "            [ \"w_{1.2}\",  \"w_{2,2}\",  \"w_{3.1}\" ],\n",
    "            [ \"w_{1.2}\",  \"w_{2,2}\",  \"w_{3.1}\" ]\n",
    "        ]\n",
    "    ),\n",
    "    np.array(\n",
    "        [\n",
    "            [ \"w_{1.1}\" ],\n",
    "            [ \"w_{2.1}\" ],\n",
    "            [ \"w_{3.1}\" ]\n",
    "        ]\n",
    "    )\n",
    "]\n",
    "biases = [\n",
    "    np.array(\n",
    "        [ \"b_1\", \"b_2\", \"b_3\" ]\n",
    "    ), \n",
    "    np.array(\n",
    "        [ \"b_1\" , \"b_2\", \"b_3\" ]\n",
    "    ),\n",
    "    np.array(\n",
    "        [ \"b_1\" ]\n",
    "    )\n",
    "    \n",
    "]\n",
    "\n",
    "fig = plt.figure(figsize=(6, 6))\n",
    "\n",
    "ax = fig.gca()\n",
    "ax.axis('off')\n",
    "\n",
    "draw_neural_net(ax, \n",
    "                layerSizes=layer_sizes, \n",
    "                nodeFontSize = 10,\n",
    "                edgeFontSize = 8, \n",
    "                weights= weights, \n",
    "                biases=biases)\n",
    "\n",
    "\n",
    "\n"
   ]
  },
  {
   "cell_type": "markdown",
   "metadata": {
    "cell_style": "split",
    "hide_input": true,
    "slideshow": {
     "slide_type": "fragment"
    }
   },
   "source": [
    "<font size=\"6\"> Other drawing style, omitting $w$ and $b$. </font>\n",
    "<img src=\"./assets/fig1.pdf\" alt=\"ANN1\" width=\"600\"/>"
   ]
  },
  {
   "cell_type": "markdown",
   "metadata": {
    "cell_style": "split",
    "slideshow": {
     "slide_type": "fragment"
    }
   },
   "source": [
    "<font size=\"6\"> Often layers are 'boxed' </font>\n",
    "<img src=\"./assets/fig2.pdf\" alt=\"ANN2\" width=\"600\"/>"
   ]
  },
  {
   "cell_type": "markdown",
   "metadata": {
    "slideshow": {
     "slide_type": "slide"
    }
   },
   "source": [
    "## ffANN examples"
   ]
  },
  {
   "cell_type": "markdown",
   "metadata": {
    "cell_style": "split",
    "hide_input": true,
    "slideshow": {
     "slide_type": "-"
    }
   },
   "source": [
    "<font size=\"6\"> layers w >1 dimension (e.g., images) --  (messy!)</font>\n",
    "<img src=\"./assets/fig3.pdf\" alt=\"Neuron\" width=\"800\"/>"
   ]
  },
  {
   "cell_type": "markdown",
   "metadata": {
    "cell_style": "split",
    "slideshow": {
     "slide_type": "fragment"
    }
   },
   "source": [
    "<font size=\"6\"> Simplify! nodes and arrows implicit</font><img src=\"./assets/fig3b.pdf\" alt=\"Neuron\" width=\"800\"/>"
   ]
  },
  {
   "cell_type": "markdown",
   "metadata": {
    "cell_style": "split"
   },
   "source": [
    " "
   ]
  },
  {
   "cell_type": "markdown",
   "metadata": {
    "cell_style": "split",
    "slideshow": {
     "slide_type": "fragment"
    }
   },
   "source": [
    "<font size=\"6\"> Collect similar layers into 'blocks' </font><img src=\"./assets/fig3c.pdf\" alt=\"Neuron\" width=\"800\"/>"
   ]
  },
  {
   "cell_type": "markdown",
   "metadata": {
    "cell_style": "center",
    "slideshow": {
     "slide_type": "slide"
    }
   },
   "source": [
    "## ffANN examples"
   ]
  },
  {
   "cell_type": "markdown",
   "metadata": {
    "cell_style": "center",
    "slideshow": {
     "slide_type": "-"
    }
   },
   "source": [
    "<font size=\"6\"> Also other type of layers/blocks (cf. coming lectures) </font><img src=\"./assets/vgg16.pdf\" alt=\"Neuron\" width=\"1200\"/>"
   ]
  },
  {
   "cell_type": "markdown",
   "metadata": {
    "slideshow": {
     "slide_type": "slide"
    }
   },
   "source": [
    "# Hidden Layers\n",
    "\n",
    "### Inutitive function of hidden layers?\n",
    "- Each layer can be viewed as transforming the original data to a new multi-dimensional space.\n",
    "- *A hidden layer should, in practice, have at least two neurons to be meaningful*\n",
    "    - Single neuron layer collapses information and forms a bottleneck\n",
    "    - A bottleneck early heavily constrains the NN\n"
   ]
  },
  {
   "cell_type": "markdown",
   "metadata": {
    "slideshow": {
     "slide_type": "fragment"
    }
   },
   "source": [
    "### Depth\n",
    "- number of hidden layers + output layers"
   ]
  },
  {
   "cell_type": "markdown",
   "metadata": {
    "slideshow": {
     "slide_type": "fragment"
    }
   },
   "source": [
    "###  Deep Learning \n",
    "- Formally, ANNs with depth > 1\n",
    "    - (often include more advanced layers as well)"
   ]
  },
  {
   "cell_type": "markdown",
   "metadata": {
    "cell_style": "center",
    "slideshow": {
     "slide_type": "slide"
    }
   },
   "source": [
    "## Why deep Learning?"
   ]
  },
  {
   "cell_type": "markdown",
   "metadata": {
    "cell_style": "split",
    "hide_input": false,
    "slideshow": {
     "slide_type": "-"
    }
   },
   "source": [
    "## For Regression\n",
    "- Single layer $\\approx$ logistic regression\n",
    "\n",
    "<br>\n",
    "<br>"
   ]
  },
  {
   "cell_type": "code",
   "execution_count": 17,
   "metadata": {
    "cell_style": "split",
    "hide_input": true
   },
   "outputs": [
    {
     "data": {
      "image/png": "[encoded data removed]",
      "text/plain": [
       "<Figure size 360x360 with 1 Axes>"
      ]
     },
     "metadata": {
      "needs_background": "light"
     },
     "output_type": "display_data"
    }
   ],
   "source": [
    "import random\n",
    "\n",
    "def sigma(x):\n",
    "    return 1/(1+np.exp(-x))\n",
    "\n",
    "# Creating vectors x and  \n",
    "z = np.linspace(-10, 10, 100) \n",
    "w = [ sigma(x) for x in z ]\n",
    "  \n",
    "x = [ random.gauss(m, 0.1) for m in np.linspace(-10, 10, 100) ]\n",
    "y = [ random.gauss(sigma(x), 0.1) for x in z ]\n",
    "    \n",
    "fig = plt.figure(figsize = (5, 5)) \n",
    "# Create the plot \n",
    "plt.plot(z, w)\n",
    "plt.scatter(x,y, c=\"red\")\n",
    "plt.title(\"Logistic function\")\n",
    "plt.xlabel('z') \n",
    "plt.ylabel('$\\sigma(z)$') \n",
    "# Show the plot \n",
    "plt.show() "
   ]
  },
  {
   "cell_type": "code",
   "execution_count": 9,
   "metadata": {
    "cell_style": "split",
    "hide_input": true
   },
   "outputs": [
    {
     "data": {
      "image/png": "[encoded data removed]",
      "text/plain": [
       "<Figure size 504x504 with 1 Axes>"
      ]
     },
     "metadata": {
      "needs_background": "light"
     },
     "output_type": "display_data"
    }
   ],
   "source": [
    "from matplotlib import lines as lines\n",
    "# Create figure\n",
    "fig = plt.figure(figsize = (7, 7)) \n",
    "# Add subplot to figure\n",
    "ax = fig.add_subplot()\n",
    "plt.axis('off')\n",
    "# Show empty plot\n",
    "plt.show()"
   ]
  },
  {
   "cell_type": "code",
   "execution_count": null,
   "metadata": {
    "cell_style": "split",
    "hide_input": true,
    "scrolled": true,
    "slideshow": {
     "slide_type": "-"
    }
   },
   "outputs": [],
   "source": [
    "import random\n",
    "\n",
    "def sigma(x):\n",
    "    return 1/(1+np.exp(-x))\n",
    "\n",
    "# Creating vectors x and  \n",
    "z = np.linspace(-10, 10, 100) \n",
    "w = [ sigma(x) for x in z ]\n",
    "  \n",
    "x = [ random.gauss(m, 0.1) for m in np.linspace(-10, 10, 100) ]\n",
    "y = [ random.gauss(sigma(x), 0.1) for x in z ]\n",
    "    \n",
    "fig = plt.figure(figsize = (6, 6)) \n",
    "# Create the plot \n",
    "plt.plot(z, w)\n",
    "plt.scatter(x,y, c=\"red\")\n",
    "plt.title(\"Logistic function\")\n",
    "plt.xlabel('z') \n",
    "plt.ylabel('$\\sigma(z)$') \n",
    "# Show the plot \n",
    "plt.show() "
   ]
  },
  {
   "cell_type": "code",
   "execution_count": null,
   "metadata": {
    "cell_style": "split",
    "hide_input": true,
    "slideshow": {
     "slide_type": "-"
    }
   },
   "outputs": [],
   "source": [
    "from matplotlib import lines as lines\n",
    "# Create figure\n",
    "fig = plt.figure(figsize = (7, 7)) \n",
    "# Add subplot to figure\n",
    "ax = fig.add_subplot()\n",
    "plt.axis('off')\n",
    "# Show empty plot\n",
    "plt.show()"
   ]
  },
  {
   "cell_type": "markdown",
   "metadata": {
    "cell_style": "center",
    "slideshow": {
     "slide_type": "slide"
    }
   },
   "source": [
    "## Why deep Learning?"
   ]
  },
  {
   "cell_type": "markdown",
   "metadata": {
    "cell_style": "split",
    "hide_input": true,
    "slideshow": {
     "slide_type": "-"
    }
   },
   "source": [
    "## For Regression\n",
    "- Single layer $\\approx$ logistic regression\n",
    "- More layers $\\rightarrow$ \n",
    "    - more complex, non-linear, models"
   ]
  },
  {
   "cell_type": "code",
   "execution_count": 19,
   "metadata": {
    "cell_style": "split",
    "hide_input": true
   },
   "outputs": [
    {
     "data": {
      "image/png": "[encoded data removed]",
      "text/plain": [
       "<Figure size 360x360 with 1 Axes>"
      ]
     },
     "metadata": {
      "needs_background": "light"
     },
     "output_type": "display_data"
    }
   ],
   "source": [
    "import matplotlib.cm as cm \n",
    "import random\n",
    "\n",
    "n = 256\n",
    "angle = np.linspace(0, 0.95 * 2 * np.pi, n)\n",
    "radius = np.linspace(.5, 1., n)\n",
    "\n",
    "#angle = np.linspace(0, 12 * 2 * np.pi, n)\n",
    "#radius = np.linspace(.5, 1., n)\n",
    "\n",
    "\n",
    "x = [ random.gauss(m, 0.1) for m in radius * np.cos(angle) ]\n",
    "y = [ random.gauss(m, 0.1) for m in radius * np.sin(angle) ]\n",
    "\n",
    "z = radius * np.cos(angle)\n",
    "w = radius * np.sin(angle)\n",
    "\n",
    "figSpiral = plt.figure(figsize = (5, 5)) \n",
    "plt.scatter(x,y,c = \"red\", cmap = cm.hsv)\n",
    "plt.plot(z,w)\n",
    "plt.show()"
   ]
  },
  {
   "cell_type": "code",
   "execution_count": 20,
   "metadata": {
    "cell_style": "split",
    "hide_input": true,
    "scrolled": true,
    "slideshow": {
     "slide_type": "-"
    }
   },
   "outputs": [
    {
     "data": {
      "image/png": "[encoded data removed]",
      "text/plain": [
       "<Figure size 360x360 with 1 Axes>"
      ]
     },
     "metadata": {
      "needs_background": "light"
     },
     "output_type": "display_data"
    }
   ],
   "source": [
    "from matplotlib import lines as lines\n",
    "# Create figure\n",
    "fig = plt.figure(figsize = (5, 5)) \n",
    "# Add subplot to figure\n",
    "ax = fig.add_subplot()\n",
    "plt.axis('off')\n",
    "# Show empty plot\n",
    "plt.show()"
   ]
  },
  {
   "cell_type": "markdown",
   "metadata": {
    "cell_style": "center",
    "slideshow": {
     "slide_type": "slide"
    }
   },
   "source": [
    "## Why deep Learning?"
   ]
  },
  {
   "cell_type": "markdown",
   "metadata": {
    "cell_style": "split",
    "slideshow": {
     "slide_type": "-"
    }
   },
   "source": [
    "## For Regression\n",
    "- Single layer $\\approx$ logistic regression\n",
    "- More layers $\\rightarrow$ \n",
    "    - more complex, non-linear, models"
   ]
  },
  {
   "cell_type": "code",
   "execution_count": 21,
   "metadata": {
    "cell_style": "split",
    "hide_input": true
   },
   "outputs": [
    {
     "data": {
      "image/png": "[encoded data removed]",
      "text/plain": [
       "<Figure size 360x360 with 1 Axes>"
      ]
     },
     "execution_count": 21,
     "metadata": {},
     "output_type": "execute_result"
    }
   ],
   "source": [
    "figSpiral"
   ]
  },
  {
   "cell_type": "markdown",
   "metadata": {
    "cell_style": "split",
    "slideshow": {
     "slide_type": "-"
    }
   },
   "source": [
    "## For classification\n"
   ]
  },
  {
   "cell_type": "code",
   "execution_count": 22,
   "metadata": {
    "cell_style": "split",
    "hide_input": true
   },
   "outputs": [
    {
     "data": {
      "image/png": "[encoded data removed]",
      "text/plain": [
       "<Figure size 360x360 with 1 Axes>"
      ]
     },
     "metadata": {
      "needs_background": "light"
     },
     "output_type": "display_data"
    }
   ],
   "source": [
    "import random\n",
    "\n",
    "# Creating vectors x and  \n",
    "a1 = 5\n",
    "b1= -0.75\n",
    "a2=8\n",
    "b2 = -0.4\n",
    "n=50\n",
    "z = np.linspace(0, 10, n) \n",
    "w1 = [ a1 + b1 * zi for zi in z ] \n",
    "w2 = [ a2 + b2 * zi for zi in z ] \n",
    "\n",
    "x = [ random.random() *10 for k in list(range(n)) ]\n",
    "y = [ random.random() *10 for k in list(range(n)) ]\n",
    "col = [ \"red\" if y[k] > a1 + b1 * x[k] and y[k] < a2 + b2 * x[k] else \"blue\" \n",
    "       for k in list(range(n)) ]\n",
    "\n",
    "fig = plt.figure(figsize = (5, 5)) \n",
    "# Create the plot \n",
    "plt.scatter(x, y, c=col)\n",
    "plt.xlabel('x') \n",
    "plt.ylabel('y') \n",
    "plt.xlim((0,10))\n",
    "plt.ylim((0,10))\n",
    "# Show the plot \n",
    "plt.show() "
   ]
  },
  {
   "cell_type": "markdown",
   "metadata": {
    "cell_style": "center",
    "slideshow": {
     "slide_type": "slide"
    }
   },
   "source": [
    "## Why deep Learning?"
   ]
  },
  {
   "cell_type": "markdown",
   "metadata": {
    "cell_style": "split",
    "slideshow": {
     "slide_type": "-"
    }
   },
   "source": [
    "## For Regression\n",
    "- Single layer $\\approx$ logistic regression\n",
    "- More layers $\\rightarrow$ \n",
    "    - more complex, non-linear, models"
   ]
  },
  {
   "cell_type": "code",
   "execution_count": 27,
   "metadata": {
    "cell_style": "split",
    "hide_input": true,
    "scrolled": true
   },
   "outputs": [
    {
     "data": {
      "image/png": "[encoded data removed]",
      "text/plain": [
       "<Figure size 360x360 with 1 Axes>"
      ]
     },
     "execution_count": 27,
     "metadata": {},
     "output_type": "execute_result"
    }
   ],
   "source": [
    "figSpiral"
   ]
  },
  {
   "cell_type": "markdown",
   "metadata": {
    "cell_style": "split",
    "slideshow": {
     "slide_type": "-"
    }
   },
   "source": [
    "## For classification\n",
    "- Single layer $\\approx$ one hyper-plane"
   ]
  },
  {
   "cell_type": "code",
   "execution_count": 24,
   "metadata": {
    "cell_style": "split",
    "hide_input": true
   },
   "outputs": [
    {
     "data": {
      "image/png": "[encoded data removed]",
      "text/plain": [
       "<Figure size 360x360 with 1 Axes>"
      ]
     },
     "metadata": {
      "needs_background": "light"
     },
     "output_type": "display_data"
    }
   ],
   "source": [
    "import random\n",
    "\n",
    "fig = plt.figure(figsize = (5, 5)) \n",
    "# Create the plot \n",
    "plt.scatter(x, y, c=col)\n",
    "plt.plot(z, w2)\n",
    "plt.xlabel('x') \n",
    "plt.ylabel('y') \n",
    "plt.xlim((0,10))\n",
    "plt.ylim((0,10))\n",
    "# Show the plot \n",
    "plt.show() "
   ]
  },
  {
   "cell_type": "markdown",
   "metadata": {
    "cell_style": "center",
    "slideshow": {
     "slide_type": "slide"
    }
   },
   "source": [
    "## Why deep Learning?"
   ]
  },
  {
   "cell_type": "markdown",
   "metadata": {
    "cell_style": "split",
    "slideshow": {
     "slide_type": "-"
    }
   },
   "source": [
    "## For Regression\n",
    "- Single layer $\\approx$ logistic regression\n",
    "- More layers $\\rightarrow$ \n",
    "    - more complex, non-linear, models"
   ]
  },
  {
   "cell_type": "code",
   "execution_count": 25,
   "metadata": {
    "cell_style": "split",
    "hide_input": true
   },
   "outputs": [
    {
     "data": {
      "image/png": "[encoded data removed]",
      "text/plain": [
       "<Figure size 360x360 with 1 Axes>"
      ]
     },
     "execution_count": 25,
     "metadata": {},
     "output_type": "execute_result"
    }
   ],
   "source": [
    "figSpiral"
   ]
  },
  {
   "cell_type": "markdown",
   "metadata": {
    "cell_style": "split",
    "slideshow": {
     "slide_type": "-"
    }
   },
   "source": [
    "## For classification\n",
    "- Single layer $\\approx$ one hyper-plane\n",
    "- Adding layers $\\rightarrow$\n",
    "    - more hyper planes $\\rightarrow$ \n",
    "    - more advanced classification"
   ]
  },
  {
   "cell_type": "code",
   "execution_count": 26,
   "metadata": {
    "cell_style": "split",
    "hide_input": true
   },
   "outputs": [
    {
     "data": {
      "image/png": "[encoded data removed]",
      "text/plain": [
       "<Figure size 360x360 with 1 Axes>"
      ]
     },
     "metadata": {
      "needs_background": "light"
     },
     "output_type": "display_data"
    }
   ],
   "source": [
    "fig = plt.figure(figsize = (5, 5)) \n",
    "\n",
    "# Create the plot\n",
    "plt.scatter(x, y, c=col)\n",
    "plt.plot(z, w1)\n",
    "plt.plot(z, w2)\n",
    "plt.xlabel('x') \n",
    "plt.ylabel('y') \n",
    "plt.xlim((0,10))\n",
    "plt.ylim((0,10))\n",
    "# Show the plot \n",
    "plt.show() "
   ]
  },
  {
   "cell_type": "markdown",
   "metadata": {
    "cell_style": "center",
    "slideshow": {
     "slide_type": "slide"
    }
   },
   "source": [
    "# Mini exercise\n",
    "  - [http://playground.tensorflow.org/](http://playground.tensorflow.org/)\n",
    "      + Try different input \"problems\" \n",
    "      + Investigate how different depth affect classification \n",
    "      + Run for several epochs (=iterations)\n"
   ]
  }
 ],
 "metadata": {
  "celltoolbar": "Slideshow",
  "hide_input": false,
  "kernelspec": {
   "display_name": "Python [conda env:nn_dl_python] *",
   "language": "python",
   "name": "conda-env-nn_dl_python-py"
  },
  "language_info": {
   "codemirror_mode": {
    "name": "ipython",
    "version": 3
   },
   "file_extension": ".py",
   "mimetype": "text/x-python",
   "name": "python",
   "nbconvert_exporter": "python",
   "pygments_lexer": "ipython3",
   "version": "3.7.6"
  },
  "rise": {
   "enable_chalkboard": true
  }
 },
 "nbformat": 4,
 "nbformat_minor": 4
}
