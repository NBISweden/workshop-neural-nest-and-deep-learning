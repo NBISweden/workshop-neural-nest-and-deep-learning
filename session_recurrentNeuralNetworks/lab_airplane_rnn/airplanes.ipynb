{
 "cells": [
  {
   "cell_type": "markdown",
   "id": "a5cf5527",
   "metadata": {},
   "source": [
    "# Preparations"
   ]
  },
  {
   "cell_type": "code",
   "execution_count": null,
   "id": "3e76c66d",
   "metadata": {},
   "outputs": [],
   "source": [
    "%config InlineBackend.figure_format ='retina'\n",
    "%load_ext autoreload\n",
    "%autoreload 2\n",
    "%matplotlib inline"
   ]
  },
  {
   "cell_type": "code",
   "execution_count": null,
   "id": "a5507149",
   "metadata": {},
   "outputs": [],
   "source": [
    "import os\n",
    "import sys\n",
    "import math\n",
    "import numpy as np\n",
    "import pandas as pd\n",
    "from keras.models import Sequential\n",
    "from keras.layers import Dense, SimpleRNN, LSTM, GRU\n",
    "from sklearn.preprocessing import MinMaxScaler\n",
    "from sklearn.metrics import mean_squared_error\n",
    "import matplotlib.pyplot as plt\n",
    "import seaborn as sns"
   ]
  },
  {
   "cell_type": "markdown",
   "id": "e461c95f",
   "metadata": {},
   "source": [
    "There is also a utility module `rnnutils.py` that you can use if you want to save time coding. Whenever it is used, it will be commented out to leave you the choice whether you want to use the functions or write up your own solution. In any case, make sure the file is located in the current directory to load it."
   ]
  },
  {
   "cell_type": "code",
   "execution_count": null,
   "id": "beb48b05",
   "metadata": {},
   "outputs": [],
   "source": [
    "import rnnutils"
   ]
  },
  {
   "cell_type": "markdown",
   "id": "75c347ae",
   "metadata": {},
   "source": [
    "# Lab session: predicting airline passengers"
   ]
  },
  {
   "cell_type": "markdown",
   "id": "c7d2d6ab",
   "metadata": {},
   "source": [
    "## Aims"
   ]
  },
  {
   "cell_type": "markdown",
   "id": "2647fcb5",
   "metadata": {},
   "source": [
    "In this lab the idea is to try out different RNN models on the Box & Jenkins monthly airline passengers dataset. You will download data and prepare it for later analyses. To help you along the way, some of the steps have been prepared in advance, but in most cases, your task is to complete missing code. Don't hesitate to change parameter settings and experiment with the model architectures."
   ]
  },
  {
   "cell_type": "markdown",
   "id": "161b56c2",
   "metadata": {},
   "source": [
    "# Session 1: Vanilla RNN"
   ]
  },
  {
   "cell_type": "markdown",
   "id": "f61b49cd",
   "metadata": {},
   "source": [
    "## Download data"
   ]
  },
  {
   "cell_type": "markdown",
   "id": "7b27fd57",
   "metadata": {},
   "source": [
    "Start by downloading the data and loading it into a pandas dataframe:"
   ]
  },
  {
   "cell_type": "code",
   "execution_count": null,
   "id": "19f40b69",
   "metadata": {},
   "outputs": [],
   "source": [
    "!wget https://raw.githubusercontent.com/jbrownlee/Datasets/master/airline-passengers.csv --no-check-certificate"
   ]
  },
  {
   "cell_type": "code",
   "execution_count": null,
   "id": "3a66ecfe",
   "metadata": {},
   "outputs": [],
   "source": [
    "df = pd.read_csv('airline-passengers.csv')\n",
    "df = df.rename(columns={'Month': 'time','Passengers': 'passengers'})\n",
    "df['time'] = pd.to_datetime(df['time'], format='%Y-%m')\n",
    "df['year'] = pd.DatetimeIndex(df['time']).year\n",
    "df['month'] = pd.DatetimeIndex(df['time']).month\n",
    "df.head()"
   ]
  },
  {
   "cell_type": "markdown",
   "id": "34c43994",
   "metadata": {},
   "source": [
    "Plot the data for overview:"
   ]
  },
  {
   "cell_type": "code",
   "execution_count": null,
   "id": "2d7cabfd",
   "metadata": {},
   "outputs": [],
   "source": [
    "plt.plot(df.time, df.passengers)"
   ]
  },
  {
   "cell_type": "markdown",
   "id": "ca1c8c87",
   "metadata": {},
   "source": [
    "## Create training and test data\n"
   ]
  },
  {
   "cell_type": "markdown",
   "id": "c1077c56",
   "metadata": {},
   "source": [
    "Partition the data into training and test data sets."
   ]
  },
  {
   "cell_type": "code",
   "execution_count": null,
   "id": "e2625e29",
   "metadata": {},
   "outputs": [],
   "source": [
    "train_fraction = 2/3\n",
    "# Reshape data for MinMaxScaler\n",
    "data = np.array(df['passengers'].values.astype('float32')).reshape(-1, 1)\n",
    "split = int(len(data) * train_fraction)\n",
    "# Rescale the data\n",
    "scaler = MinMaxScaler(feature_range=(0, 1))\n",
    "data = scaler.fit_transform(data).flatten()\n",
    "train = data[range(split)]\n",
    "test = data[split:]\n",
    "# The above code is available in rnnutils.make_train_test and called as follows:\n",
    "# train, test, scaler = rnnutils.make_train_test(data)"
   ]
  },
  {
   "cell_type": "markdown",
   "id": "20e98a7e",
   "metadata": {},
   "source": [
    "## Transform data to input - output pairs\n"
   ]
  },
  {
   "cell_type": "markdown",
   "id": "b4a19b90",
   "metadata": {},
   "source": [
    "Now that we have train and test data sets we need to convert the data to input - output (X/Y) pairs. The general idea is to take time slices (e.g. 12 data points) as input vectors and use the subsequent value as the known output."
   ]
  },
  {
   "cell_type": "code",
   "execution_count": null,
   "id": "54d638f3",
   "metadata": {},
   "outputs": [],
   "source": [
    "time_steps = 12\n",
    "# trainX, trainY, trainX_indices, trainY_indices = rnnutils.make_xy(train, time_steps)\n",
    "# testX, testY, testX_indices, testY_indices = rnnutils.make_xy(test, time_steps) "
   ]
  },
  {
   "cell_type": "markdown",
   "id": "5aa52fde",
   "metadata": {},
   "source": [
    "## Define the model\n"
   ]
  },
  {
   "cell_type": "markdown",
   "id": "1e6668e5",
   "metadata": {},
   "source": [
    "Complete the model below to include a SimpleRNN layer and a Dense output layer."
   ]
  },
  {
   "cell_type": "code",
   "execution_count": null,
   "id": "655e4ca3",
   "metadata": {},
   "outputs": [],
   "source": [
    "# model = Sequential()\n",
    "# Add layers here\n",
    "#\n",
    "#\n",
    "# model.compile(loss='mean_squared_error', optimizer='adam')\n",
    "# model.summary()"
   ]
  },
  {
   "cell_type": "markdown",
   "id": "5d680442",
   "metadata": {},
   "source": [
    "Once you are happy with the configuration, fit the model and evaluate. "
   ]
  },
  {
   "cell_type": "code",
   "execution_count": null,
   "id": "423f786e",
   "metadata": {},
   "outputs": [],
   "source": [
    "# history = model.fit(trainX, trainY, ...)\n",
    "# Ytrainpred = model.predict(trainX)\n",
    "# Ytestpred = model.predict(testX)"
   ]
  },
  {
   "cell_type": "markdown",
   "id": "0c714919",
   "metadata": {},
   "source": [
    "You can use the utility plotting functions in `rnnutils` to plot training history and predictions"
   ]
  },
  {
   "cell_type": "code",
   "execution_count": null,
   "id": "f6f9ec3d",
   "metadata": {},
   "outputs": [],
   "source": [
    "# data = {'train': (Ytrainpred, train, trainY_indices),\n",
    "#       'test': (Ytestpred, test, testY_indices)}\n",
    "# rnnutils.plot_pred(...)\n",
    "# rnnutils.plot_history(...)"
   ]
  },
  {
   "cell_type": "markdown",
   "id": "5cc66ead",
   "metadata": {},
   "source": [
    "\n",
    "\n",
    "\n",
    "\n",
    "\n",
    "\n",
    "# Session 2: LSTM (and optionally GRU) "
   ]
  },
  {
   "cell_type": "markdown",
   "id": "7b25ce07",
   "metadata": {},
   "source": [
    "Building on session 1, analyse the data set using LSTM layers. Here is a tentative model setup to get you started."
   ]
  },
  {
   "cell_type": "code",
   "execution_count": null,
   "id": "bb68b217",
   "metadata": {},
   "outputs": [],
   "source": [
    "# model = Sequential()\n",
    "# model.add(LSTM(..., input_shape=(..., ...)))\n",
    "# model.add(LSTM(..., return_sequences=True))\n",
    "# model.compile(loss='mean_squared_error', optimizer='adam')"
   ]
  }
 ],
 "metadata": {
  "kernelspec": {
   "display_name": "Python (nn_dl_python)",
   "language": "python",
   "name": "nn_dl_python"
  },
  "language_info": {
   "codemirror_mode": {
    "name": "ipython",
    "version": 3
   },
   "file_extension": ".py",
   "mimetype": "text/x-python",
   "name": "python",
   "nbconvert_exporter": "python",
   "pygments_lexer": "ipython3",
   "version": "3.7.12"
  }
 },
 "nbformat": 4,
 "nbformat_minor": 5
}
