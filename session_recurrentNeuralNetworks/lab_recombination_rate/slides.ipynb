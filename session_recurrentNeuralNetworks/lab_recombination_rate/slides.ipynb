{
 "cells": [
  {
   "cell_type": "markdown",
   "metadata": {
    "slideshow": {
     "slide_type": "skip"
    },
    "toc": true
   },
   "source": [
    "<h1>Outline<span class=\"tocSkip\"></span></h1>\n",
    "<div class=\"toc\"><ul class=\"toc-item\"><li><span><a href=\"#Predicting-the-Landscape-of-Recombination-Using-Deep-Learning\" data-toc-modified-id=\"Predicting-the-Landscape-of-Recombination-Using-Deep-Learning-1\">Predicting the Landscape of Recombination Using Deep Learning</a></span></li><li><span><a href=\"#Recombination---how-it's-estimated\" data-toc-modified-id=\"Recombination---how-it's-estimated-2\">Recombination - how it's estimated</a></span></li><li><span><a href=\"#ReLERNN-outline\" data-toc-modified-id=\"ReLERNN-outline-3\">ReLERNN outline</a></span></li><li><span><a href=\"#A-primer-on-coalescent-simulation\" data-toc-modified-id=\"A-primer-on-coalescent-simulation-4\">A primer on coalescent simulation</a></span></li><li><span><a href=\"#msprime---simulating-genealogies\" data-toc-modified-id=\"msprime---simulating-genealogies-5\">msprime - simulating genealogies</a></span></li><li><span><a href=\"#msprime---adding-recombination\" data-toc-modified-id=\"msprime---adding-recombination-6\">msprime - adding recombination</a></span></li><li><span><a href=\"#msprime---adding-mutations\" data-toc-modified-id=\"msprime---adding-mutations-7\">msprime - adding mutations</a></span></li><li><span><a href=\"#Combining-recombination-and-mutation\" data-toc-modified-id=\"Combining-recombination-and-mutation-8\">Combining recombination and mutation</a></span></li><li><span><a href=\"#Lab-outline\" data-toc-modified-id=\"Lab-outline-9\">Lab outline</a></span></li><li><span><a href=\"#References\" data-toc-modified-id=\"References-10\">References</a></span></li></ul></div>"
   ]
  },
  {
   "cell_type": "code",
   "execution_count": 3,
   "metadata": {
    "slideshow": {
     "slide_type": "skip"
    }
   },
   "outputs": [],
   "source": [
    "%reload_ext autoreload\n",
    "%autoreload 2\n",
    "%config InlineBackend.figure_format ='retina'\n",
    "\n",
    "import utils"
   ]
  },
  {
   "cell_type": "markdown",
   "metadata": {
    "slideshow": {
     "slide_type": "slide"
    }
   },
   "source": [
    "# Predicting the Landscape of Recombination Using Deep Learning "
   ]
  },
  {
   "cell_type": "markdown",
   "metadata": {},
   "source": [
    "<img src=\"relernn_ms.png\"></img>"
   ]
  },
  {
   "cell_type": "markdown",
   "metadata": {
    "slideshow": {
     "slide_type": "slide"
    }
   },
   "source": [
    "## Recombination - what it is"
   ]
  },
  {
   "cell_type": "markdown",
   "metadata": {
    "cell_style": "split"
   },
   "source": [
    "Recombination:\n",
    "\n",
    "- breaking and repair of DNA strands\n",
    "- produces new combinations of alleles\n",
    "- here focus on *meiotic recombination*\n",
    "\n",
    "Pros: improved adaptation\n",
    "\n",
    "Cons: break association between beneficial alleles\n",
    "\n",
    "\n",
    "#### Estimates of recombination rate\n",
    "\n",
    "Expressed as **recombination frequency** per mega- or kilobase per generation (e.g. cM/Mb)\n",
    "\n",
    "**centiMorgan (cM)**: distance between chromosomal positions such that 0.01 crossovers expected per generation"
   ]
  },
  {
   "cell_type": "markdown",
   "metadata": {
    "cell_style": "split"
   },
   "source": [
    "<div><img src=\"https://upload.wikimedia.org/wikipedia/commons/thumb/0/0e/Morgan_crossover_1.jpg/440px-Morgan_crossover_1.jpg\" width=\"800px\"></img>\n",
    "</div>\n",
    "\n",
    "*(Morgan and Foundation 1916)*\n"
   ]
  },
  {
   "cell_type": "markdown",
   "metadata": {
    "slideshow": {
     "slide_type": "slide"
    }
   },
   "source": [
    "## Recombination - why it's important"
   ]
  },
  {
   "cell_type": "markdown",
   "metadata": {},
   "source": [
    "Historically mainly studied in context of the evolution of sex\n",
    "\n",
    "Recombination rate variation, its evolution and its effect on evolutionary processes less studied\n",
    "\n",
    "Recently getting more attention: cf Theme issue ‘Evolutionary causes and consequences of recombination rate variation in sexual organisms' in Philosophical Transactions of the Royal Society B (biological sciences) *(Stapley et al. 2017a)*"
   ]
  },
  {
   "cell_type": "markdown",
   "metadata": {
    "cell_style": "split",
    "slideshow": {
     "slide_type": "fragment"
    }
   },
   "source": [
    "### Rate varies between species\n",
    "\n",
    "\n",
    "<img src=\"https://royalsocietypublishing.org/cms/asset/3819b484-ada1-42b0-b26c-9dd70c374f59/rstb20160455f02.jpg\" alt=\"Stapley\" style=\"width: 600px;\"/>\n",
    "\n",
    "*(Stapley et al. 2017b)*"
   ]
  },
  {
   "cell_type": "markdown",
   "metadata": {
    "cell_style": "split",
    "slideshow": {
     "slide_type": "fragment"
    }
   },
   "source": [
    "### Rate varies within genomes\n",
    "\n",
    "<img src=\"https://journals.plos.org/plosgenetics/article/figure/image?size=large&id=10.1371/journal.pgen.1002905.g001\" width=600></img>\n",
    "\n",
    "*(Comeron, Ratnappan, and Bailin 2012)*"
   ]
  },
  {
   "cell_type": "markdown",
   "metadata": {
    "slideshow": {
     "slide_type": "slide"
    }
   },
   "source": [
    "### Recombination landscapes and genome architecture\n",
    "\n",
    "<div><img src=\"https://www.ncbi.nlm.nih.gov/pmc/articles/PMC4617962/bin/1656f01.jpg\" width=600></img></div>\n",
    "\n",
    "*(Burri et al 2015)*"
   ]
  },
  {
   "cell_type": "markdown",
   "metadata": {
    "cell_style": "center",
    "slideshow": {
     "slide_type": "slide"
    }
   },
   "source": [
    "## Variation in recombination rate affects detection of outliers in genome scans under neutrality"
   ]
  },
  {
   "cell_type": "markdown",
   "metadata": {
    "cell_style": "center"
   },
   "source": [
    "<img src=\"https://onlinelibrary.wiley.com/cms/asset/a0f63d0a-7ca9-4a9f-9508-c5a526e0d15e/mec15690-fig-0002-m.png\" width=1000></img>\n",
    "\n",
    "See comment *It’s time to stop sweeping recombination rate under the genome scan rug* *(Stevison and McGaugh 2020)*"
   ]
  },
  {
   "cell_type": "markdown",
   "metadata": {},
   "source": [
    "*Variation in recombination rate affects detection of outliers in genome scans under neutrality* *(Booker, Yeaman, and Whitlock 2020)*\n",
    "\n",
    "Purely theoretical study: simulated data with msprime \n",
    "\n",
    "Consequence: genome scans underpowered in low-recombination areas, increased risk of identifying false-positive regions of differentiation\n",
    "\n",
    "Practical consequence: affects summary statistics and therefore power of said statistic to detect e.g. selection\n",
    "\n",
    "Novelty here: dependency even for neutrally evolving sites"
   ]
  },
  {
   "cell_type": "markdown",
   "metadata": {
    "slideshow": {
     "slide_type": "slide"
    }
   },
   "source": [
    "# Recombination - how it's estimated"
   ]
  },
  {
   "cell_type": "markdown",
   "metadata": {
    "cell_style": "split"
   },
   "source": [
    "<div>\n",
    "<img src=\"https://media.springernature.com/lw589/springer-static/image/art%3A10.1038%2Fs41576-020-0240-1/MediaObjects/41576_2020_240_Figa_HTML.png\" width=800> </img>\n",
    "</div>\n",
    "\n",
    "<br>\n",
    "\n",
    "*From molecules to populations: appreciating and estimating recombination rate variation (Peñalba and Wolf 2020)*\n",
    "\n",
    "    \n",
    "<br>"
   ]
  },
  {
   "cell_type": "markdown",
   "metadata": {
    "cell_style": "split"
   },
   "source": [
    "### Population-based approach (aka *linkage disequilibrium* or *coalescent* -based)\n",
    "\n",
    "Assumption: recombination main force in determining statistical association between alleles.\n",
    "\n",
    "Four-gamete test (illustration): only recombination can explain pattern given the infinite-sites model\n",
    "\n",
    "### Pedigree-based approach\n",
    "\n",
    "Observe inheritance of alleles in (large) pedigree.\n",
    "\n",
    "### Gamete-based approach\n",
    "\n",
    "Gaining traction. Source material not always easily accessible."
   ]
  },
  {
   "cell_type": "markdown",
   "metadata": {
    "slideshow": {
     "slide_type": "fragment"
    }
   },
   "source": [
    "There is a need for methods that estimate recombination rates directly from sequence data!"
   ]
  },
  {
   "cell_type": "markdown",
   "metadata": {
    "slideshow": {
     "slide_type": "slide"
    }
   },
   "source": [
    "# ReLERNN outline"
   ]
  },
  {
   "cell_type": "markdown",
   "metadata": {
    "cell_style": "split"
   },
   "source": [
    "## Methodology overview\n",
    "\n",
    "### 1. Estimate parameters for simulation\n",
    "\n",
    "Estimate parameters for simulation from observed data. Can provide pre-estimates, e.g. stairway plots for demography, ...\n",
    "\n",
    "### 2. Coalescent simulation\n",
    "\n",
    "Use parameters to simulate data\n",
    "\n",
    "### 3. Training\n",
    "\n",
    "### 4. Prediction\n",
    "\n",
    "### 5. Bootstrapping of results"
   ]
  },
  {
   "cell_type": "markdown",
   "metadata": {
    "cell_style": "split"
   },
   "source": [
    "<img src=\"relernn_method.png\"></img>"
   ]
  },
  {
   "cell_type": "markdown",
   "metadata": {
    "slideshow": {
     "slide_type": "slide"
    }
   },
   "source": [
    "## ReLERNN takes as input genotype alignments and positional data"
   ]
  },
  {
   "cell_type": "markdown",
   "metadata": {
    "cell_style": "split"
   },
   "source": [
    "<table style=\"font-family: 'Lucida Console', monospace; font-size: 20pt\">\n",
    "    <tr>\n",
    "        <td>\n",
    "            <p style=\"font-family:'Lucida Console', monospace\">12345678901234567890123</p>\n",
    "        </td>\n",
    "    </tr>\n",
    "    <tr>\n",
    "        <td>\n",
    "            AACGT<b>A</b>AGTACCTAGTTAGTGGA\n",
    "        </td>\n",
    "    </tr>\n",
    "    <tr>\n",
    "        <td>\n",
    "            AACGTTAGTACC<b>C</b>AGTTAGTGGA\n",
    "                    </td>\n",
    "    </tr>\n",
    "    <tr>\n",
    "        <td>\n",
    "                        AA<b>T</b>GTTAGTACCTAGTTAGTGGA\n",
    "                    </td>\n",
    "    </tr>\n",
    "    <tr>\n",
    "        <td>\n",
    "            AA<b>T</b>GTTAGTACCTAGTTAGTGGA\n",
    "                    </td>\n",
    "    </tr>\n",
    "    </table>"
   ]
  },
  {
   "cell_type": "markdown",
   "metadata": {
    "cell_style": "split"
   },
   "source": [
    "<table style=\"font-family: 'Lucida Console', monospace; font-size: 20pt\">\n",
    "    <tr>\n",
    "        <td>\n",
    "            <p style=\"font-family:'Lucida Console', monospace\">363</p>\n",
    "        </td>\n",
    "    </tr>\n",
    "    <tr>\n",
    "        <td>\n",
    "            C<b>A</b>T\n",
    "        </td>\n",
    "    </tr>\n",
    "    <tr>\n",
    "        <td>\n",
    "            CT<b>C</b>\n",
    "                    </td>\n",
    "    </tr>\n",
    "    <tr>\n",
    "        <td>\n",
    "            <b>T</b>TT\n",
    "                    </td>\n",
    "    </tr>\n",
    "    <tr>\n",
    "                <td>\n",
    "            <b>T</b>TT\n",
    "                    </td>\n",
    "    </tr>\n",
    "    </table>"
   ]
  },
  {
   "cell_type": "markdown",
   "metadata": {
    "slideshow": {
     "slide_type": "fragment"
    }
   },
   "source": [
    "We want genotype alignments, i.e. related sequences and positions of segregating sites. How do we get them? Coalescent simulations!\n",
    "\n",
    "Strategy: simulate data sets with varying recombination (and mutation) rates and store the recombination rate - this is the target of our deep learning model!"
   ]
  },
  {
   "cell_type": "markdown",
   "metadata": {
    "slideshow": {
     "slide_type": "slide"
    }
   },
   "source": [
    "# A primer on coalescent simulation"
   ]
  },
  {
   "cell_type": "markdown",
   "metadata": {
    "cell_style": "split"
   },
   "source": [
    "<img src=\"https://media.springernature.com/full/springer-static/image/art%3A10.1038%2Fnrg795/MediaObjects/41576_2002_Article_BFnrg795_Fig4_HTML.jpg?as=webp\" width=1600></img>\n",
    "\n",
    "<br>\n",
    "\n",
    "*Genealogical trees, coalescent theory and the analysis of genetic polymorphisms (Rosenberg and Nordborg 2002)*"
   ]
  },
  {
   "cell_type": "markdown",
   "metadata": {
    "cell_style": "split"
   },
   "source": [
    "## The coalescent\n",
    "\n",
    "1. start with i=n chromosomes\n",
    "2. choose a time until next coalescence $\\sim \\mathrm{Exp}(i(i-1)/2)$\n",
    "3. choose two chromosomes at random to coalesce\n",
    "4. merge the two lineages and set $i \\rightarrow i - 1$\n",
    "5. if $i > 1$, goto 2; if not stop\n",
    "\n",
    "\n",
    "### Adding mutations\n",
    "\n",
    "Sample the number of segregating sites $S \\sim \\mathrm{Po}(T_{total}*\\theta/2)$ where $T_{total}$ is the total tree length and $\\theta=4N_e\\mu$"
   ]
  },
  {
   "cell_type": "markdown",
   "metadata": {
    "slideshow": {
     "slide_type": "slide"
    }
   },
   "source": [
    "# msprime - simulating genealogies"
   ]
  },
  {
   "cell_type": "markdown",
   "metadata": {},
   "source": [
    "Coalescent simulations create genealogies on which random mutations are sprinkled to introduce sequence variation. To begin with, we show the simplest command for simulating a small sample (n=6) of 1kb sequences from a population with a diploid effective population size 1000 ($N_e$=1000) and printing a genealogy:"
   ]
  },
  {
   "cell_type": "code",
   "execution_count": 47,
   "metadata": {},
   "outputs": [
    {
     "name": "stdout",
     "output_type": "stream",
     "text": [
      "    6  \n",
      "  ┏━┻━┓\n",
      "  5   ┃\n",
      "┏━┻┓  ┃\n",
      "┃  4  ┃\n",
      "┃ ┏┻┓ ┃\n",
      "0 1 2 3\n",
      "\n"
     ]
    }
   ],
   "source": [
    "import msprime\n",
    "tree_sequence = msprime.simulate(sample_size=4, Ne=1000, length=1e4, random_seed=46)\n",
    "tree = tree_sequence.first()\n",
    "print(tree.draw(format=\"unicode\"))"
   ]
  },
  {
   "cell_type": "markdown",
   "metadata": {},
   "source": [
    "The tree_sequence object is a succinct data structure (compact) representation of trees along the sequence, based on the fact that neighbouring genomic regions have correlated genealogical histories. Since we have no recombination events, there should only be one tree:"
   ]
  },
  {
   "cell_type": "code",
   "execution_count": 48,
   "metadata": {},
   "outputs": [
    {
     "data": {
      "text/plain": [
       "1"
      ]
     },
     "execution_count": 48,
     "metadata": {},
     "output_type": "execute_result"
    }
   ],
   "source": [
    "len(list(tree_sequence.trees()))"
   ]
  },
  {
   "cell_type": "markdown",
   "metadata": {
    "slideshow": {
     "slide_type": "slide"
    }
   },
   "source": [
    "# msprime - adding recombination"
   ]
  },
  {
   "cell_type": "markdown",
   "metadata": {},
   "source": [
    "Recombination events are added via the `recombination_rate` parameter:"
   ]
  },
  {
   "cell_type": "code",
   "execution_count": 45,
   "metadata": {},
   "outputs": [
    {
     "data": {
      "text/plain": [
       "4"
      ]
     },
     "execution_count": 45,
     "metadata": {},
     "output_type": "execute_result"
    }
   ],
   "source": [
    "tree_sequence = msprime.simulate(sample_size=6, Ne=1000, length=1e4, random_seed=46, recombination_rate=2e-8)\n",
    "len(list(tree_sequence.trees()))"
   ]
  },
  {
   "cell_type": "code",
   "execution_count": 46,
   "metadata": {},
   "outputs": [
    {
     "data": {
      "image/svg+xml": [
       "<svg xmlns=\"http://www.w3.org/2000/svg\" xmlns:ev=\"http://www.w3.org/2001/xml-events\" xmlns:xlink=\"http://www.w3.org/1999/xlink\" baseProfile=\"full\" height=\"200\" version=\"1.1\" width=\"800\"><defs><style type=\"text/css\"><![CDATA[.axis {font-weight: bold}.tree, .axis {font-size: 14px; text-anchor:middle}.edge {stroke: black; fill: none}.node > .sym {fill: black; stroke: none}.tree text {dominant-baseline: middle}.tree .lab.lft {text-anchor: end}.tree .lab.rgt {text-anchor: start}.mut {fill: red; font-style: italic}]]></style></defs><g class=\"tree-sequence\"><g class=\"background\"><polygon fill=\"#F1F1F1\" points=\"20,185 20,180 20,160 20,0 210.0,0 210.0,160 322.593,180 322.593,185\"/><polygon fill=\"#F1F1F1\" points=\"620.688,185 620.688,180 400.0,160 400.0,0 590.0,0 590.0,160 764.894,180 764.894,185\"/></g><g class=\"trees\"><g class=\"treebox t0\" transform=\"translate(20 30)\"><g class=\"tree t0\"><g class=\"node n13 p0 root\" transform=\"translate(75.2679 30.0)\"><g class=\"a13 leaf node n0 p0 sample\" transform=\"translate(-40.9821 80.0)\"><path class=\"edge\" d=\"M 0 0 V -80.0 H 40.9821\"/><circle class=\"sym\" cx=\"0\" cy=\"0\" r=\"3\"/><text class=\"lab\" transform=\"translate(0 12)\">0</text></g><g class=\"a13 node n10 p0\" transform=\"translate(40.9821 44.681)\"><g class=\"a10 node n8 p0\" transform=\"translate(-27.3214 26.3709)\"><g class=\"a8 leaf node n4 p0 sample\" transform=\"translate(18.2143 8.94816)\"><path class=\"edge\" d=\"M 0 0 V -8.94816 H -18.2143\"/><circle class=\"sym\" cx=\"0\" cy=\"0\" r=\"3\"/><text class=\"lab\" transform=\"translate(0 12)\">4</text></g><g class=\"a8 node n6 p0\" transform=\"translate(-18.2143 8.02331)\"><g class=\"a6 leaf node n1 p0 sample\" transform=\"translate(-12.1429 0.924848)\"><path class=\"edge\" d=\"M 0 0 V -0.924848 H 12.1429\"/><circle class=\"sym\" cx=\"0\" cy=\"0\" r=\"3\"/><text class=\"lab\" transform=\"translate(0 12)\">1</text></g><g class=\"a6 leaf node n2 p0 sample\" transform=\"translate(12.1429 0.924848)\"><path class=\"edge\" d=\"M 0 0 V -0.924848 H -12.1429\"/><circle class=\"sym\" cx=\"0\" cy=\"0\" r=\"3\"/><text class=\"lab\" transform=\"translate(0 12)\">2</text></g><path class=\"edge\" d=\"M 0 0 V -8.02331 H 18.2143\"/><circle class=\"sym\" cx=\"0\" cy=\"0\" r=\"3\"/><text class=\"lab lft\" transform=\"translate(-3 -6)\">6</text></g><path class=\"edge\" d=\"M 0 0 V -26.3709 H 27.3214\"/><circle class=\"sym\" cx=\"0\" cy=\"0\" r=\"3\"/><text class=\"lab lft\" transform=\"translate(-3 -6)\">8</text></g><g class=\"a10 node n9 p0\" transform=\"translate(27.3214 9.80128)\"><g class=\"a9 leaf node n3 p0 sample\" transform=\"translate(-12.1429 25.5178)\"><path class=\"edge\" d=\"M 0 0 V -25.5178 H 12.1429\"/><circle class=\"sym\" cx=\"0\" cy=\"0\" r=\"3\"/><text class=\"lab\" transform=\"translate(0 12)\">3</text></g><g class=\"a9 leaf node n5 p0 sample\" transform=\"translate(12.1429 25.5178)\"><path class=\"edge\" d=\"M 0 0 V -25.5178 H -12.1429\"/><circle class=\"sym\" cx=\"0\" cy=\"0\" r=\"3\"/><text class=\"lab\" transform=\"translate(0 12)\">5</text></g><path class=\"edge\" d=\"M 0 0 V -9.80128 H -27.3214\"/><circle class=\"sym\" cx=\"0\" cy=\"0\" r=\"3\"/><text class=\"lab rgt\" transform=\"translate(3 -6)\">9</text></g><path class=\"edge\" d=\"M 0 0 V -44.681 H -40.9821\"/><circle class=\"sym\" cx=\"0\" cy=\"0\" r=\"3\"/><text class=\"lab rgt\" transform=\"translate(3 -6)\">10</text></g><circle class=\"sym\" cx=\"0\" cy=\"0\" r=\"3\"/><text class=\"lab\" transform=\"translate(0 -10)\">13</text></g></g></g><g class=\"treebox t1\" transform=\"translate(210.0 30)\"><g class=\"tree t1\"><g class=\"node n12 p0 root\" transform=\"translate(75.2679 53.3684)\"><g class=\"a12 leaf node n0 p0 sample\" transform=\"translate(-40.9821 56.6316)\"><path class=\"edge\" d=\"M 0 0 V -56.6316 H 40.9821\"/><circle class=\"sym\" cx=\"0\" cy=\"0\" r=\"3\"/><text class=\"lab\" transform=\"translate(0 12)\">0</text></g><g class=\"a12 node n10 p0\" transform=\"translate(40.9821 21.3126)\"><g class=\"a10 node n8 p0\" transform=\"translate(-27.3214 26.3709)\"><g class=\"a8 leaf node n4 p0 sample\" transform=\"translate(18.2143 8.94816)\"><path class=\"edge\" d=\"M 0 0 V -8.94816 H -18.2143\"/><circle class=\"sym\" cx=\"0\" cy=\"0\" r=\"3\"/><text class=\"lab\" transform=\"translate(0 12)\">4</text></g><g class=\"a8 node n6 p0\" transform=\"translate(-18.2143 8.02331)\"><g class=\"a6 leaf node n1 p0 sample\" transform=\"translate(-12.1429 0.924848)\"><path class=\"edge\" d=\"M 0 0 V -0.924848 H 12.1429\"/><circle class=\"sym\" cx=\"0\" cy=\"0\" r=\"3\"/><text class=\"lab\" transform=\"translate(0 12)\">1</text></g><g class=\"a6 leaf node n2 p0 sample\" transform=\"translate(12.1429 0.924848)\"><path class=\"edge\" d=\"M 0 0 V -0.924848 H -12.1429\"/><circle class=\"sym\" cx=\"0\" cy=\"0\" r=\"3\"/><text class=\"lab\" transform=\"translate(0 12)\">2</text></g><path class=\"edge\" d=\"M 0 0 V -8.02331 H 18.2143\"/><circle class=\"sym\" cx=\"0\" cy=\"0\" r=\"3\"/><text class=\"lab lft\" transform=\"translate(-3 -6)\">6</text></g><path class=\"edge\" d=\"M 0 0 V -26.3709 H 27.3214\"/><circle class=\"sym\" cx=\"0\" cy=\"0\" r=\"3\"/><text class=\"lab lft\" transform=\"translate(-3 -6)\">8</text></g><g class=\"a10 node n9 p0\" transform=\"translate(27.3214 9.80128)\"><g class=\"a9 leaf node n3 p0 sample\" transform=\"translate(-12.1429 25.5178)\"><path class=\"edge\" d=\"M 0 0 V -25.5178 H 12.1429\"/><circle class=\"sym\" cx=\"0\" cy=\"0\" r=\"3\"/><text class=\"lab\" transform=\"translate(0 12)\">3</text></g><g class=\"a9 leaf node n5 p0 sample\" transform=\"translate(12.1429 25.5178)\"><path class=\"edge\" d=\"M 0 0 V -25.5178 H -12.1429\"/><circle class=\"sym\" cx=\"0\" cy=\"0\" r=\"3\"/><text class=\"lab\" transform=\"translate(0 12)\">5</text></g><path class=\"edge\" d=\"M 0 0 V -9.80128 H -27.3214\"/><circle class=\"sym\" cx=\"0\" cy=\"0\" r=\"3\"/><text class=\"lab rgt\" transform=\"translate(3 -6)\">9</text></g><path class=\"edge\" d=\"M 0 0 V -21.3126 H -40.9821\"/><circle class=\"sym\" cx=\"0\" cy=\"0\" r=\"3\"/><text class=\"lab rgt\" transform=\"translate(3 -6)\">10</text></g><circle class=\"sym\" cx=\"0\" cy=\"0\" r=\"3\"/><text class=\"lab\" transform=\"translate(0 -10)\">12</text></g></g></g><g class=\"treebox t2\" transform=\"translate(400.0 30)\"><g class=\"tree t2\"><g class=\"node n12 p0 root\" transform=\"translate(90.4464 53.3684)\"><g class=\"a12 node n10 p0\" transform=\"translate(44.0179 21.3126)\"><g class=\"a10 node n8 p0\" transform=\"translate(-21.25 26.3709)\"><g class=\"a8 leaf node n4 p0 sample\" transform=\"translate(18.2143 8.94816)\"><path class=\"edge\" d=\"M 0 0 V -8.94816 H -18.2143\"/><circle class=\"sym\" cx=\"0\" cy=\"0\" r=\"3\"/><text class=\"lab\" transform=\"translate(0 12)\">4</text></g><g class=\"a8 node n6 p0\" transform=\"translate(-18.2143 8.02331)\"><g class=\"a6 leaf node n1 p0 sample\" transform=\"translate(-12.1429 0.924848)\"><path class=\"edge\" d=\"M 0 0 V -0.924848 H 12.1429\"/><circle class=\"sym\" cx=\"0\" cy=\"0\" r=\"3\"/><text class=\"lab\" transform=\"translate(0 12)\">1</text></g><g class=\"a6 leaf node n2 p0 sample\" transform=\"translate(12.1429 0.924848)\"><path class=\"edge\" d=\"M 0 0 V -0.924848 H -12.1429\"/><circle class=\"sym\" cx=\"0\" cy=\"0\" r=\"3\"/><text class=\"lab\" transform=\"translate(0 12)\">2</text></g><path class=\"edge\" d=\"M 0 0 V -8.02331 H 18.2143\"/><circle class=\"sym\" cx=\"0\" cy=\"0\" r=\"3\"/><text class=\"lab lft\" transform=\"translate(-3 -6)\">6</text></g><path class=\"edge\" d=\"M 0 0 V -26.3709 H 21.25\"/><circle class=\"sym\" cx=\"0\" cy=\"0\" r=\"3\"/><text class=\"lab lft\" transform=\"translate(-3 -6)\">8</text></g><g class=\"a10 leaf node n5 p0 sample\" transform=\"translate(21.25 35.319)\"><path class=\"edge\" d=\"M 0 0 V -35.319 H -21.25\"/><circle class=\"sym\" cx=\"0\" cy=\"0\" r=\"3\"/><text class=\"lab\" transform=\"translate(0 12)\">5</text></g><path class=\"edge\" d=\"M 0 0 V -21.3126 H -44.0179\"/><circle class=\"sym\" cx=\"0\" cy=\"0\" r=\"3\"/><text class=\"lab rgt\" transform=\"translate(3 -6)\">10</text></g><g class=\"a12 node n7 p0\" transform=\"translate(-44.0179 47.8871)\"><g class=\"a7 leaf node n0 p0 sample\" transform=\"translate(-12.1429 8.74453)\"><path class=\"edge\" d=\"M 0 0 V -8.74453 H 12.1429\"/><circle class=\"sym\" cx=\"0\" cy=\"0\" r=\"3\"/><text class=\"lab\" transform=\"translate(0 12)\">0</text></g><g class=\"a7 leaf node n3 p0 sample\" transform=\"translate(12.1429 8.74453)\"><path class=\"edge\" d=\"M 0 0 V -8.74453 H -12.1429\"/><circle class=\"sym\" cx=\"0\" cy=\"0\" r=\"3\"/><text class=\"lab\" transform=\"translate(0 12)\">3</text></g><path class=\"edge\" d=\"M 0 0 V -47.8871 H 44.0179\"/><circle class=\"sym\" cx=\"0\" cy=\"0\" r=\"3\"/><text class=\"lab lft\" transform=\"translate(-3 -6)\">7</text></g><circle class=\"sym\" cx=\"0\" cy=\"0\" r=\"3\"/><text class=\"lab\" transform=\"translate(0 -10)\">12</text></g></g></g><g class=\"treebox t3\" transform=\"translate(590.0 30)\"><g class=\"tree t3\"><g class=\"node n11 p0 root\" transform=\"translate(90.4464 71.6515)\"><g class=\"a11 node n7 p0\" transform=\"translate(-44.0179 29.604)\"><g class=\"a7 leaf node n0 p0 sample\" transform=\"translate(-12.1429 8.74453)\"><path class=\"edge\" d=\"M 0 0 V -8.74453 H 12.1429\"/><circle class=\"sym\" cx=\"0\" cy=\"0\" r=\"3\"/><text class=\"lab\" transform=\"translate(0 12)\">0</text></g><g class=\"a7 leaf node n3 p0 sample\" transform=\"translate(12.1429 8.74453)\"><path class=\"edge\" d=\"M 0 0 V -8.74453 H -12.1429\"/><circle class=\"sym\" cx=\"0\" cy=\"0\" r=\"3\"/><text class=\"lab\" transform=\"translate(0 12)\">3</text></g><path class=\"edge\" d=\"M 0 0 V -29.604 H 44.0179\"/><circle class=\"sym\" cx=\"0\" cy=\"0\" r=\"3\"/><text class=\"lab lft\" transform=\"translate(-3 -6)\">7</text></g><g class=\"a11 node n10 p0\" transform=\"translate(44.0179 3.02945)\"><g class=\"a10 node n8 p0\" transform=\"translate(-21.25 26.3709)\"><g class=\"a8 leaf node n4 p0 sample\" transform=\"translate(18.2143 8.94816)\"><path class=\"edge\" d=\"M 0 0 V -8.94816 H -18.2143\"/><circle class=\"sym\" cx=\"0\" cy=\"0\" r=\"3\"/><text class=\"lab\" transform=\"translate(0 12)\">4</text></g><g class=\"a8 node n6 p0\" transform=\"translate(-18.2143 8.02331)\"><g class=\"a6 leaf node n1 p0 sample\" transform=\"translate(-12.1429 0.924848)\"><path class=\"edge\" d=\"M 0 0 V -0.924848 H 12.1429\"/><circle class=\"sym\" cx=\"0\" cy=\"0\" r=\"3\"/><text class=\"lab\" transform=\"translate(0 12)\">1</text></g><g class=\"a6 leaf node n2 p0 sample\" transform=\"translate(12.1429 0.924848)\"><path class=\"edge\" d=\"M 0 0 V -0.924848 H -12.1429\"/><circle class=\"sym\" cx=\"0\" cy=\"0\" r=\"3\"/><text class=\"lab\" transform=\"translate(0 12)\">2</text></g><path class=\"edge\" d=\"M 0 0 V -8.02331 H 18.2143\"/><circle class=\"sym\" cx=\"0\" cy=\"0\" r=\"3\"/><text class=\"lab lft\" transform=\"translate(-3 -6)\">6</text></g><path class=\"edge\" d=\"M 0 0 V -26.3709 H 21.25\"/><circle class=\"sym\" cx=\"0\" cy=\"0\" r=\"3\"/><text class=\"lab lft\" transform=\"translate(-3 -6)\">8</text></g><g class=\"a10 leaf node n5 p0 sample\" transform=\"translate(21.25 35.319)\"><path class=\"edge\" d=\"M 0 0 V -35.319 H -21.25\"/><circle class=\"sym\" cx=\"0\" cy=\"0\" r=\"3\"/><text class=\"lab\" transform=\"translate(0 12)\">5</text></g><path class=\"edge\" d=\"M 0 0 V -3.02945 H -44.0179\"/><circle class=\"sym\" cx=\"0\" cy=\"0\" r=\"3\"/><text class=\"lab rgt\" transform=\"translate(3 -6)\">10</text></g><circle class=\"sym\" cx=\"0\" cy=\"0\" r=\"3\"/><text class=\"lab\" transform=\"translate(0 -10)\">11</text></g></g></g></g><g class=\"axis\"><line stroke=\"black\" x1=\"20\" x2=\"780\" y1=\"180\" y2=\"180\"/><line stroke=\"black\" x1=\"20\" x2=\"20\" y1=\"180\" y2=\"185\"/><g transform=\"translate(20, 200)\"><text font-size=\"14\" font-weight=\"bold\" text-anchor=\"middle\">0.00</text></g><line stroke=\"black\" x1=\"322.593\" x2=\"322.593\" y1=\"180\" y2=\"185\"/><g transform=\"translate(322.593, 200)\"><text font-size=\"14\" font-weight=\"bold\" text-anchor=\"middle\">3981.49</text></g><line stroke=\"black\" x1=\"620.688\" x2=\"620.688\" y1=\"180\" y2=\"185\"/><g transform=\"translate(620.688, 200)\"><text font-size=\"14\" font-weight=\"bold\" text-anchor=\"middle\">7903.79</text></g><line stroke=\"black\" x1=\"764.894\" x2=\"764.894\" y1=\"180\" y2=\"185\"/><g transform=\"translate(764.894, 200)\"><text font-size=\"14\" font-weight=\"bold\" text-anchor=\"middle\">9801.24</text></g><line stroke=\"black\" x1=\"780.0\" x2=\"780.0\" y1=\"180\" y2=\"185\"/><g transform=\"translate(780.0, 200)\"><text font-size=\"14\" font-weight=\"bold\" text-anchor=\"middle\">10000.00</text></g></g></g></svg>"
      ],
      "text/plain": [
       "<IPython.core.display.SVG object>"
      ]
     },
     "metadata": {},
     "output_type": "display_data"
    }
   ],
   "source": [
    "from IPython.core.display import SVG\n",
    "display(SVG(tree_sequence.draw_svg()))"
   ]
  },
  {
   "cell_type": "markdown",
   "metadata": {},
   "source": [
    "Note in particular that neighbouring segments have different, but correlated, genealogies.\n",
    "\n",
    "If we could infer genealogies along a sequence, we could also infer the recombination break points. However, in order to infer genealogies, we need sequence variation, or mutations."
   ]
  },
  {
   "cell_type": "markdown",
   "metadata": {
    "slideshow": {
     "slide_type": "slide"
    }
   },
   "source": [
    "# msprime - adding mutations"
   ]
  },
  {
   "cell_type": "code",
   "execution_count": 49,
   "metadata": {},
   "outputs": [
    {
     "name": "stdout",
     "output_type": "stream",
     "text": [
      "Mutation @ position 9684.21 over node 2\n",
      "Mutation @ position 15035.89 over node 7\n",
      "Mutation @ position 17880.71 over node 2\n",
      "Mutation @ position 23925.52 over node 8\n",
      "Mutation @ position 29009.12 over node 6\n",
      "Mutation @ position 42881.62 over node 2\n",
      "Mutation @ position 45500.39 over node 4\n",
      "Mutation @ position 45876.04 over node 2\n",
      "Mutation @ position 55598.08 over node 8\n",
      "Mutation @ position 65918.72 over node 7\n",
      "Mutation @ position 85216.19 over node 2\n",
      "Mutation @ position 86713.84 over node 8\n",
      "Mutation @ position 91784.93 over node 7\n"
     ]
    }
   ],
   "source": [
    "tree_sequence = msprime.simulate(sample_size=6, Ne=1000, length=1e5, random_seed=46, mutation_rate=1e-8)\n",
    "tree = tree_sequence.first()\n",
    "for site in tree.sites():\n",
    "    for mutation in site.mutations:\n",
    "        print(\"Mutation @ position {:.2f} over node {}\".format(site.position, mutation.node))"
   ]
  },
  {
   "cell_type": "markdown",
   "metadata": {},
   "source": [
    "We can illustrate where the mutations occur by plotting the tree in svg format:"
   ]
  },
  {
   "cell_type": "code",
   "execution_count": 50,
   "metadata": {},
   "outputs": [
    {
     "data": {
      "image/svg+xml": [
       "<svg xmlns=\"http://www.w3.org/2000/svg\" xmlns:ev=\"http://www.w3.org/2001/xml-events\" xmlns:xlink=\"http://www.w3.org/1999/xlink\" baseProfile=\"full\" height=\"200\" version=\"1.1\" width=\"200\"><defs><style type=\"text/css\"><![CDATA[.axis {font-weight: bold}.tree, .axis {font-size: 14px; text-anchor:middle}.edge {stroke: black; fill: none}.node > .sym {fill: black; stroke: none}.tree text {dominant-baseline: middle}.tree .lab.lft {text-anchor: end}.tree .lab.rgt {text-anchor: start}.mut {fill: red; font-style: italic}]]></style></defs><g class=\"tree t0\"><g class=\"node n10 p0 root\" transform=\"translate(124.107 30.0)\"><g class=\"a10 leaf m0 m10 m2 m5 m7 node n2 p0 s0 s10 s2 s5 s7 sample\" transform=\"translate(40.1786 140.0)\"><path class=\"edge\" d=\"M 0 0 V -140.0 H -40.1786\"/><circle class=\"sym\" cx=\"0\" cy=\"0\" r=\"3\"/><text class=\"lab\" transform=\"translate(0 12)\">2</text><g class=\"mut m10 s10\" transform=\"translate(0 -23.3333)\"><rect class=\"sym\" height=\"6\" transform=\"translate(-3 -3)\" width=\"6\" x=\"0\" y=\"0\"/><text class=\"lab rgt\" transform=\"translate(5 0)\">10</text></g><g class=\"mut m7 s7\" transform=\"translate(0 -46.6667)\"><rect class=\"sym\" height=\"6\" transform=\"translate(-3 -3)\" width=\"6\" x=\"0\" y=\"0\"/><text class=\"lab rgt\" transform=\"translate(5 0)\">7</text></g><g class=\"mut m5 s5\" transform=\"translate(0 -70.0)\"><rect class=\"sym\" height=\"6\" transform=\"translate(-3 -3)\" width=\"6\" x=\"0\" y=\"0\"/><text class=\"lab rgt\" transform=\"translate(5 0)\">5</text></g><g class=\"mut m2 s2\" transform=\"translate(0 -93.3333)\"><rect class=\"sym\" height=\"6\" transform=\"translate(-3 -3)\" width=\"6\" x=\"0\" y=\"0\"/><text class=\"lab rgt\" transform=\"translate(5 0)\">2</text></g><g class=\"mut m0 s0\" transform=\"translate(0 -116.667)\"><rect class=\"sym\" height=\"6\" transform=\"translate(-3 -3)\" width=\"6\" x=\"0\" y=\"0\"/><text class=\"lab rgt\" transform=\"translate(5 0)\">0</text></g></g><g class=\"a10 node n9 p0\" transform=\"translate(-40.1786 3.03271)\"><g class=\"a9 m1 m12 m9 node n7 p0 s1 s12 s9\" transform=\"translate(-35.3571 121.92)\"><g class=\"a7 leaf node n0 p0 sample\" transform=\"translate(-12.8571 15.0477)\"><path class=\"edge\" d=\"M 0 0 V -15.0477 H 12.8571\"/><circle class=\"sym\" cx=\"0\" cy=\"0\" r=\"3\"/><text class=\"lab\" transform=\"translate(0 12)\">0</text></g><g class=\"a7 leaf node n5 p0 sample\" transform=\"translate(12.8571 15.0477)\"><path class=\"edge\" d=\"M 0 0 V -15.0477 H -12.8571\"/><circle class=\"sym\" cx=\"0\" cy=\"0\" r=\"3\"/><text class=\"lab\" transform=\"translate(0 12)\">5</text></g><path class=\"edge\" d=\"M 0 0 V -121.92 H 35.3571\"/><circle class=\"sym\" cx=\"0\" cy=\"0\" r=\"3\"/><text class=\"lab lft\" transform=\"translate(-3 -6)\">7</text><g class=\"mut m12 s12\" transform=\"translate(0 -30.4799)\"><rect class=\"sym\" height=\"6\" transform=\"translate(-3 -3)\" width=\"6\" x=\"0\" y=\"0\"/><text class=\"lab lft\" transform=\"translate(-5 0)\">12</text></g><g class=\"mut m9 s9\" transform=\"translate(0 -60.9598)\"><rect class=\"sym\" height=\"6\" transform=\"translate(-3 -3)\" width=\"6\" x=\"0\" y=\"0\"/><text class=\"lab lft\" transform=\"translate(-5 0)\">9</text></g><g class=\"mut m1 s1\" transform=\"translate(0 -91.4397)\"><rect class=\"sym\" height=\"6\" transform=\"translate(-3 -3)\" width=\"6\" x=\"0\" y=\"0\"/><text class=\"lab lft\" transform=\"translate(-5 0)\">1</text></g></g><g class=\"a9 m11 m3 m8 node n8 p0 s11 s3 s8\" transform=\"translate(35.3571 105.547)\"><g class=\"a8 leaf node n3 p0 sample\" transform=\"translate(19.2857 31.4202)\"><path class=\"edge\" d=\"M 0 0 V -31.4202 H -19.2857\"/><circle class=\"sym\" cx=\"0\" cy=\"0\" r=\"3\"/><text class=\"lab\" transform=\"translate(0 12)\">3</text></g><g class=\"a8 m4 node n6 p0 s4\" transform=\"translate(-19.2857 24.3517)\"><g class=\"a6 leaf node n1 p0 sample\" transform=\"translate(-12.8571 7.06849)\"><path class=\"edge\" d=\"M 0 0 V -7.06849 H 12.8571\"/><circle class=\"sym\" cx=\"0\" cy=\"0\" r=\"3\"/><text class=\"lab\" transform=\"translate(0 12)\">1</text></g><g class=\"a6 leaf m6 node n4 p0 s6 sample\" transform=\"translate(12.8571 7.06849)\"><path class=\"edge\" d=\"M 0 0 V -7.06849 H -12.8571\"/><circle class=\"sym\" cx=\"0\" cy=\"0\" r=\"3\"/><text class=\"lab\" transform=\"translate(0 12)\">4</text><g class=\"mut m6 s6\" transform=\"translate(0 -3.53425)\"><rect class=\"sym\" height=\"6\" transform=\"translate(-3 -3)\" width=\"6\" x=\"0\" y=\"0\"/><text class=\"lab rgt\" transform=\"translate(5 0)\">6</text></g></g><path class=\"edge\" d=\"M 0 0 V -24.3517 H 19.2857\"/><circle class=\"sym\" cx=\"0\" cy=\"0\" r=\"3\"/><text class=\"lab lft\" transform=\"translate(-3 -6)\">6</text><g class=\"mut m4 s4\" transform=\"translate(0 -12.1759)\"><rect class=\"sym\" height=\"6\" transform=\"translate(-3 -3)\" width=\"6\" x=\"0\" y=\"0\"/><text class=\"lab lft\" transform=\"translate(-5 0)\">4</text></g></g><path class=\"edge\" d=\"M 0 0 V -105.547 H -35.3571\"/><circle class=\"sym\" cx=\"0\" cy=\"0\" r=\"3\"/><text class=\"lab rgt\" transform=\"translate(3 -6)\">8</text><g class=\"mut m11 s11\" transform=\"translate(0 -26.3868)\"><rect class=\"sym\" height=\"6\" transform=\"translate(-3 -3)\" width=\"6\" x=\"0\" y=\"0\"/><text class=\"lab rgt\" transform=\"translate(5 0)\">11</text></g><g class=\"mut m8 s8\" transform=\"translate(0 -52.7735)\"><rect class=\"sym\" height=\"6\" transform=\"translate(-3 -3)\" width=\"6\" x=\"0\" y=\"0\"/><text class=\"lab rgt\" transform=\"translate(5 0)\">8</text></g><g class=\"mut m3 s3\" transform=\"translate(0 -79.1603)\"><rect class=\"sym\" height=\"6\" transform=\"translate(-3 -3)\" width=\"6\" x=\"0\" y=\"0\"/><text class=\"lab rgt\" transform=\"translate(5 0)\">3</text></g></g><path class=\"edge\" d=\"M 0 0 V -3.03271 H 40.1786\"/><circle class=\"sym\" cx=\"0\" cy=\"0\" r=\"3\"/><text class=\"lab lft\" transform=\"translate(-3 -6)\">9</text></g><circle class=\"sym\" cx=\"0\" cy=\"0\" r=\"3\"/><text class=\"lab\" transform=\"translate(0 -10)\">10</text></g></g></svg>"
      ],
      "text/plain": [
       "<IPython.core.display.SVG object>"
      ]
     },
     "metadata": {},
     "output_type": "display_data"
    }
   ],
   "source": [
    "display(SVG(tree.draw_svg()))"
   ]
  },
  {
   "cell_type": "markdown",
   "metadata": {
    "slideshow": {
     "slide_type": "slide"
    }
   },
   "source": [
    "# Combining recombination and mutation"
   ]
  },
  {
   "cell_type": "markdown",
   "metadata": {},
   "source": [
    "The data we want consists of both recombination and mutation! Hence, we simply use a combination of the parameters `recombination_rate` and `mutation_rate`:"
   ]
  },
  {
   "cell_type": "code",
   "execution_count": 51,
   "metadata": {},
   "outputs": [],
   "source": [
    "tree_sequence = msprime.simulate(sample_size=6, Ne=1000, length=1e4, random_seed=46, mutation_rate=1e-7, recombination_rate=2e-8)"
   ]
  },
  {
   "cell_type": "code",
   "execution_count": 52,
   "metadata": {},
   "outputs": [
    {
     "data": {
      "image/svg+xml": [
       "<svg xmlns=\"http://www.w3.org/2000/svg\" xmlns:ev=\"http://www.w3.org/2001/xml-events\" xmlns:xlink=\"http://www.w3.org/1999/xlink\" baseProfile=\"full\" height=\"200\" version=\"1.1\" width=\"800\"><defs><style type=\"text/css\"><![CDATA[.axis {font-weight: bold}.tree, .axis {font-size: 14px; text-anchor:middle}.edge {stroke: black; fill: none}.node > .sym {fill: black; stroke: none}.tree text {dominant-baseline: middle}.tree .lab.lft {text-anchor: end}.tree .lab.rgt {text-anchor: start}.mut {fill: red; font-style: italic}]]></style></defs><g class=\"tree-sequence\"><g class=\"background\"><polygon fill=\"#F1F1F1\" points=\"20,185 20,180 20,160 20,0 210.0,0 210.0,160 322.593,180 322.593,185\"/><polygon fill=\"#F1F1F1\" points=\"620.688,185 620.688,180 400.0,160 400.0,0 590.0,0 590.0,160 764.894,180 764.894,185\"/></g><g class=\"trees\"><g class=\"treebox t0\" transform=\"translate(20 30)\"><g class=\"tree t0\"><g class=\"node n13 p0 root\" transform=\"translate(75.2679 30.0)\"><g class=\"a13 leaf node n0 p0 sample\" transform=\"translate(-40.9821 80.0)\"><path class=\"edge\" d=\"M 0 0 V -80.0 H 40.9821\"/><circle class=\"sym\" cx=\"0\" cy=\"0\" r=\"3\"/><text class=\"lab\" transform=\"translate(0 12)\">0</text></g><g class=\"a13 m0 node n10 p0 s0\" transform=\"translate(40.9821 44.681)\"><g class=\"a10 node n8 p0\" transform=\"translate(-27.3214 26.3709)\"><g class=\"a8 leaf node n4 p0 sample\" transform=\"translate(18.2143 8.94816)\"><path class=\"edge\" d=\"M 0 0 V -8.94816 H -18.2143\"/><circle class=\"sym\" cx=\"0\" cy=\"0\" r=\"3\"/><text class=\"lab\" transform=\"translate(0 12)\">4</text></g><g class=\"a8 node n6 p0\" transform=\"translate(-18.2143 8.02331)\"><g class=\"a6 leaf node n1 p0 sample\" transform=\"translate(-12.1429 0.924848)\"><path class=\"edge\" d=\"M 0 0 V -0.924848 H 12.1429\"/><circle class=\"sym\" cx=\"0\" cy=\"0\" r=\"3\"/><text class=\"lab\" transform=\"translate(0 12)\">1</text></g><g class=\"a6 leaf node n2 p0 sample\" transform=\"translate(12.1429 0.924848)\"><path class=\"edge\" d=\"M 0 0 V -0.924848 H -12.1429\"/><circle class=\"sym\" cx=\"0\" cy=\"0\" r=\"3\"/><text class=\"lab\" transform=\"translate(0 12)\">2</text></g><path class=\"edge\" d=\"M 0 0 V -8.02331 H 18.2143\"/><circle class=\"sym\" cx=\"0\" cy=\"0\" r=\"3\"/><text class=\"lab lft\" transform=\"translate(-3 -6)\">6</text></g><path class=\"edge\" d=\"M 0 0 V -26.3709 H 27.3214\"/><circle class=\"sym\" cx=\"0\" cy=\"0\" r=\"3\"/><text class=\"lab lft\" transform=\"translate(-3 -6)\">8</text></g><g class=\"a10 node n9 p0\" transform=\"translate(27.3214 9.80128)\"><g class=\"a9 leaf m1 node n3 p0 s1 sample\" transform=\"translate(-12.1429 25.5178)\"><path class=\"edge\" d=\"M 0 0 V -25.5178 H 12.1429\"/><circle class=\"sym\" cx=\"0\" cy=\"0\" r=\"3\"/><text class=\"lab\" transform=\"translate(0 12)\">3</text><g class=\"mut m1 s1\" transform=\"translate(0 -12.7589)\"><rect class=\"sym\" height=\"6\" transform=\"translate(-3 -3)\" width=\"6\" x=\"0\" y=\"0\"/><text class=\"lab lft\" transform=\"translate(-5 0)\">1</text></g></g><g class=\"a9 leaf node n5 p0 sample\" transform=\"translate(12.1429 25.5178)\"><path class=\"edge\" d=\"M 0 0 V -25.5178 H -12.1429\"/><circle class=\"sym\" cx=\"0\" cy=\"0\" r=\"3\"/><text class=\"lab\" transform=\"translate(0 12)\">5</text></g><path class=\"edge\" d=\"M 0 0 V -9.80128 H -27.3214\"/><circle class=\"sym\" cx=\"0\" cy=\"0\" r=\"3\"/><text class=\"lab rgt\" transform=\"translate(3 -6)\">9</text></g><path class=\"edge\" d=\"M 0 0 V -44.681 H -40.9821\"/><circle class=\"sym\" cx=\"0\" cy=\"0\" r=\"3\"/><text class=\"lab rgt\" transform=\"translate(3 -6)\">10</text><g class=\"mut m0 s0\" transform=\"translate(0 -22.3405)\"><rect class=\"sym\" height=\"6\" transform=\"translate(-3 -3)\" width=\"6\" x=\"0\" y=\"0\"/><text class=\"lab rgt\" transform=\"translate(5 0)\">0</text></g></g><circle class=\"sym\" cx=\"0\" cy=\"0\" r=\"3\"/><text class=\"lab\" transform=\"translate(0 -10)\">13</text></g></g></g><g class=\"treebox t1\" transform=\"translate(210.0 30)\"><g class=\"tree t1\"><g class=\"node n12 p0 root\" transform=\"translate(75.2679 53.3684)\"><g class=\"a12 leaf m4 node n0 p0 s4 sample\" transform=\"translate(-40.9821 56.6316)\"><path class=\"edge\" d=\"M 0 0 V -56.6316 H 40.9821\"/><circle class=\"sym\" cx=\"0\" cy=\"0\" r=\"3\"/><text class=\"lab\" transform=\"translate(0 12)\">0</text><g class=\"mut m4 s4\" transform=\"translate(0 -28.3158)\"><rect class=\"sym\" height=\"6\" transform=\"translate(-3 -3)\" width=\"6\" x=\"0\" y=\"0\"/><text class=\"lab lft\" transform=\"translate(-5 0)\">4</text></g></g><g class=\"a12 node n10 p0\" transform=\"translate(40.9821 21.3126)\"><g class=\"a10 node n8 p0\" transform=\"translate(-27.3214 26.3709)\"><g class=\"a8 leaf node n4 p0 sample\" transform=\"translate(18.2143 8.94816)\"><path class=\"edge\" d=\"M 0 0 V -8.94816 H -18.2143\"/><circle class=\"sym\" cx=\"0\" cy=\"0\" r=\"3\"/><text class=\"lab\" transform=\"translate(0 12)\">4</text></g><g class=\"a8 node n6 p0\" transform=\"translate(-18.2143 8.02331)\"><g class=\"a6 leaf node n1 p0 sample\" transform=\"translate(-12.1429 0.924848)\"><path class=\"edge\" d=\"M 0 0 V -0.924848 H 12.1429\"/><circle class=\"sym\" cx=\"0\" cy=\"0\" r=\"3\"/><text class=\"lab\" transform=\"translate(0 12)\">1</text></g><g class=\"a6 leaf node n2 p0 sample\" transform=\"translate(12.1429 0.924848)\"><path class=\"edge\" d=\"M 0 0 V -0.924848 H -12.1429\"/><circle class=\"sym\" cx=\"0\" cy=\"0\" r=\"3\"/><text class=\"lab\" transform=\"translate(0 12)\">2</text></g><path class=\"edge\" d=\"M 0 0 V -8.02331 H 18.2143\"/><circle class=\"sym\" cx=\"0\" cy=\"0\" r=\"3\"/><text class=\"lab lft\" transform=\"translate(-3 -6)\">6</text></g><path class=\"edge\" d=\"M 0 0 V -26.3709 H 27.3214\"/><circle class=\"sym\" cx=\"0\" cy=\"0\" r=\"3\"/><text class=\"lab lft\" transform=\"translate(-3 -6)\">8</text></g><g class=\"a10 node n9 p0\" transform=\"translate(27.3214 9.80128)\"><g class=\"a9 leaf node n3 p0 sample\" transform=\"translate(-12.1429 25.5178)\"><path class=\"edge\" d=\"M 0 0 V -25.5178 H 12.1429\"/><circle class=\"sym\" cx=\"0\" cy=\"0\" r=\"3\"/><text class=\"lab\" transform=\"translate(0 12)\">3</text></g><g class=\"a9 leaf m2 m3 node n5 p0 s2 s3 sample\" transform=\"translate(12.1429 25.5178)\"><path class=\"edge\" d=\"M 0 0 V -25.5178 H -12.1429\"/><circle class=\"sym\" cx=\"0\" cy=\"0\" r=\"3\"/><text class=\"lab\" transform=\"translate(0 12)\">5</text><g class=\"mut m3 s3\" transform=\"translate(0 -8.50592)\"><rect class=\"sym\" height=\"6\" transform=\"translate(-3 -3)\" width=\"6\" x=\"0\" y=\"0\"/><text class=\"lab rgt\" transform=\"translate(5 0)\">3</text></g><g class=\"mut m2 s2\" transform=\"translate(0 -17.0118)\"><rect class=\"sym\" height=\"6\" transform=\"translate(-3 -3)\" width=\"6\" x=\"0\" y=\"0\"/><text class=\"lab rgt\" transform=\"translate(5 0)\">2</text></g></g><path class=\"edge\" d=\"M 0 0 V -9.80128 H -27.3214\"/><circle class=\"sym\" cx=\"0\" cy=\"0\" r=\"3\"/><text class=\"lab rgt\" transform=\"translate(3 -6)\">9</text></g><path class=\"edge\" d=\"M 0 0 V -21.3126 H -40.9821\"/><circle class=\"sym\" cx=\"0\" cy=\"0\" r=\"3\"/><text class=\"lab rgt\" transform=\"translate(3 -6)\">10</text></g><circle class=\"sym\" cx=\"0\" cy=\"0\" r=\"3\"/><text class=\"lab\" transform=\"translate(0 -10)\">12</text></g></g></g><g class=\"treebox t2\" transform=\"translate(400.0 30)\"><g class=\"tree t2\"><g class=\"node n12 p0 root\" transform=\"translate(90.4464 53.3684)\"><g class=\"a12 node n10 p0\" transform=\"translate(44.0179 21.3126)\"><g class=\"a10 m5 node n8 p0 s5\" transform=\"translate(-21.25 26.3709)\"><g class=\"a8 leaf node n4 p0 sample\" transform=\"translate(18.2143 8.94816)\"><path class=\"edge\" d=\"M 0 0 V -8.94816 H -18.2143\"/><circle class=\"sym\" cx=\"0\" cy=\"0\" r=\"3\"/><text class=\"lab\" transform=\"translate(0 12)\">4</text></g><g class=\"a8 node n6 p0\" transform=\"translate(-18.2143 8.02331)\"><g class=\"a6 leaf node n1 p0 sample\" transform=\"translate(-12.1429 0.924848)\"><path class=\"edge\" d=\"M 0 0 V -0.924848 H 12.1429\"/><circle class=\"sym\" cx=\"0\" cy=\"0\" r=\"3\"/><text class=\"lab\" transform=\"translate(0 12)\">1</text></g><g class=\"a6 leaf node n2 p0 sample\" transform=\"translate(12.1429 0.924848)\"><path class=\"edge\" d=\"M 0 0 V -0.924848 H -12.1429\"/><circle class=\"sym\" cx=\"0\" cy=\"0\" r=\"3\"/><text class=\"lab\" transform=\"translate(0 12)\">2</text></g><path class=\"edge\" d=\"M 0 0 V -8.02331 H 18.2143\"/><circle class=\"sym\" cx=\"0\" cy=\"0\" r=\"3\"/><text class=\"lab lft\" transform=\"translate(-3 -6)\">6</text></g><path class=\"edge\" d=\"M 0 0 V -26.3709 H 21.25\"/><circle class=\"sym\" cx=\"0\" cy=\"0\" r=\"3\"/><text class=\"lab lft\" transform=\"translate(-3 -6)\">8</text><g class=\"mut m5 s5\" transform=\"translate(0 -13.1854)\"><rect class=\"sym\" height=\"6\" transform=\"translate(-3 -3)\" width=\"6\" x=\"0\" y=\"0\"/><text class=\"lab lft\" transform=\"translate(-5 0)\">5</text></g></g><g class=\"a10 leaf node n5 p0 sample\" transform=\"translate(21.25 35.319)\"><path class=\"edge\" d=\"M 0 0 V -35.319 H -21.25\"/><circle class=\"sym\" cx=\"0\" cy=\"0\" r=\"3\"/><text class=\"lab\" transform=\"translate(0 12)\">5</text></g><path class=\"edge\" d=\"M 0 0 V -21.3126 H -44.0179\"/><circle class=\"sym\" cx=\"0\" cy=\"0\" r=\"3\"/><text class=\"lab rgt\" transform=\"translate(3 -6)\">10</text></g><g class=\"a12 m6 node n7 p0 s6\" transform=\"translate(-44.0179 47.8871)\"><g class=\"a7 leaf node n0 p0 sample\" transform=\"translate(-12.1429 8.74453)\"><path class=\"edge\" d=\"M 0 0 V -8.74453 H 12.1429\"/><circle class=\"sym\" cx=\"0\" cy=\"0\" r=\"3\"/><text class=\"lab\" transform=\"translate(0 12)\">0</text></g><g class=\"a7 leaf node n3 p0 sample\" transform=\"translate(12.1429 8.74453)\"><path class=\"edge\" d=\"M 0 0 V -8.74453 H -12.1429\"/><circle class=\"sym\" cx=\"0\" cy=\"0\" r=\"3\"/><text class=\"lab\" transform=\"translate(0 12)\">3</text></g><path class=\"edge\" d=\"M 0 0 V -47.8871 H 44.0179\"/><circle class=\"sym\" cx=\"0\" cy=\"0\" r=\"3\"/><text class=\"lab lft\" transform=\"translate(-3 -6)\">7</text><g class=\"mut m6 s6\" transform=\"translate(0 -23.9435)\"><rect class=\"sym\" height=\"6\" transform=\"translate(-3 -3)\" width=\"6\" x=\"0\" y=\"0\"/><text class=\"lab lft\" transform=\"translate(-5 0)\">6</text></g></g><circle class=\"sym\" cx=\"0\" cy=\"0\" r=\"3\"/><text class=\"lab\" transform=\"translate(0 -10)\">12</text></g></g></g><g class=\"treebox t3\" transform=\"translate(590.0 30)\"><g class=\"tree t3\"><g class=\"node n11 p0 root\" transform=\"translate(90.4464 71.6515)\"><g class=\"a11 m7 node n7 p0 s7\" transform=\"translate(-44.0179 29.604)\"><g class=\"a7 leaf node n0 p0 sample\" transform=\"translate(-12.1429 8.74453)\"><path class=\"edge\" d=\"M 0 0 V -8.74453 H 12.1429\"/><circle class=\"sym\" cx=\"0\" cy=\"0\" r=\"3\"/><text class=\"lab\" transform=\"translate(0 12)\">0</text></g><g class=\"a7 leaf node n3 p0 sample\" transform=\"translate(12.1429 8.74453)\"><path class=\"edge\" d=\"M 0 0 V -8.74453 H -12.1429\"/><circle class=\"sym\" cx=\"0\" cy=\"0\" r=\"3\"/><text class=\"lab\" transform=\"translate(0 12)\">3</text></g><path class=\"edge\" d=\"M 0 0 V -29.604 H 44.0179\"/><circle class=\"sym\" cx=\"0\" cy=\"0\" r=\"3\"/><text class=\"lab lft\" transform=\"translate(-3 -6)\">7</text><g class=\"mut m7 s7\" transform=\"translate(0 -14.802)\"><rect class=\"sym\" height=\"6\" transform=\"translate(-3 -3)\" width=\"6\" x=\"0\" y=\"0\"/><text class=\"lab lft\" transform=\"translate(-5 0)\">7</text></g></g><g class=\"a11 node n10 p0\" transform=\"translate(44.0179 3.02945)\"><g class=\"a10 node n8 p0\" transform=\"translate(-21.25 26.3709)\"><g class=\"a8 leaf node n4 p0 sample\" transform=\"translate(18.2143 8.94816)\"><path class=\"edge\" d=\"M 0 0 V -8.94816 H -18.2143\"/><circle class=\"sym\" cx=\"0\" cy=\"0\" r=\"3\"/><text class=\"lab\" transform=\"translate(0 12)\">4</text></g><g class=\"a8 node n6 p0\" transform=\"translate(-18.2143 8.02331)\"><g class=\"a6 leaf node n1 p0 sample\" transform=\"translate(-12.1429 0.924848)\"><path class=\"edge\" d=\"M 0 0 V -0.924848 H 12.1429\"/><circle class=\"sym\" cx=\"0\" cy=\"0\" r=\"3\"/><text class=\"lab\" transform=\"translate(0 12)\">1</text></g><g class=\"a6 leaf node n2 p0 sample\" transform=\"translate(12.1429 0.924848)\"><path class=\"edge\" d=\"M 0 0 V -0.924848 H -12.1429\"/><circle class=\"sym\" cx=\"0\" cy=\"0\" r=\"3\"/><text class=\"lab\" transform=\"translate(0 12)\">2</text></g><path class=\"edge\" d=\"M 0 0 V -8.02331 H 18.2143\"/><circle class=\"sym\" cx=\"0\" cy=\"0\" r=\"3\"/><text class=\"lab lft\" transform=\"translate(-3 -6)\">6</text></g><path class=\"edge\" d=\"M 0 0 V -26.3709 H 21.25\"/><circle class=\"sym\" cx=\"0\" cy=\"0\" r=\"3\"/><text class=\"lab lft\" transform=\"translate(-3 -6)\">8</text></g><g class=\"a10 leaf node n5 p0 sample\" transform=\"translate(21.25 35.319)\"><path class=\"edge\" d=\"M 0 0 V -35.319 H -21.25\"/><circle class=\"sym\" cx=\"0\" cy=\"0\" r=\"3\"/><text class=\"lab\" transform=\"translate(0 12)\">5</text></g><path class=\"edge\" d=\"M 0 0 V -3.02945 H -44.0179\"/><circle class=\"sym\" cx=\"0\" cy=\"0\" r=\"3\"/><text class=\"lab rgt\" transform=\"translate(3 -6)\">10</text></g><circle class=\"sym\" cx=\"0\" cy=\"0\" r=\"3\"/><text class=\"lab\" transform=\"translate(0 -10)\">11</text></g></g></g></g><g class=\"axis\"><line stroke=\"black\" x1=\"20\" x2=\"780\" y1=\"180\" y2=\"180\"/><line stroke=\"black\" x1=\"20\" x2=\"20\" y1=\"180\" y2=\"185\"/><g transform=\"translate(20, 200)\"><text font-size=\"14\" font-weight=\"bold\" text-anchor=\"middle\">0.00</text></g><line stroke=\"black\" x1=\"322.593\" x2=\"322.593\" y1=\"180\" y2=\"185\"/><g transform=\"translate(322.593, 200)\"><text font-size=\"14\" font-weight=\"bold\" text-anchor=\"middle\">3981.49</text></g><line stroke=\"black\" x1=\"620.688\" x2=\"620.688\" y1=\"180\" y2=\"185\"/><g transform=\"translate(620.688, 200)\"><text font-size=\"14\" font-weight=\"bold\" text-anchor=\"middle\">7903.79</text></g><line stroke=\"black\" x1=\"764.894\" x2=\"764.894\" y1=\"180\" y2=\"185\"/><g transform=\"translate(764.894, 200)\"><text font-size=\"14\" font-weight=\"bold\" text-anchor=\"middle\">9801.24</text></g><line stroke=\"black\" x1=\"780.0\" x2=\"780.0\" y1=\"180\" y2=\"185\"/><g transform=\"translate(780.0, 200)\"><text font-size=\"14\" font-weight=\"bold\" text-anchor=\"middle\">10000.00</text></g></g></g></svg>"
      ],
      "text/plain": [
       "<IPython.core.display.SVG object>"
      ]
     },
     "metadata": {},
     "output_type": "display_data"
    }
   ],
   "source": [
    "display(SVG(tree_sequence.draw_svg()))"
   ]
  },
  {
   "cell_type": "markdown",
   "metadata": {},
   "source": [
    "We can print the resulting sequences and compare with the trees to see where mutations occur. For instance, mutation 0 corresponds to the first column in the matrix, and affects individuals 1 and 3."
   ]
  },
  {
   "cell_type": "code",
   "execution_count": 53,
   "metadata": {},
   "outputs": [
    {
     "data": {
      "text/plain": [
       "array([[0, 0, 0, 0, 1, 0, 1, 1],\n",
       "       [1, 0, 0, 0, 0, 1, 0, 0],\n",
       "       [1, 0, 0, 0, 0, 1, 0, 0],\n",
       "       [1, 1, 0, 0, 0, 0, 1, 1],\n",
       "       [1, 0, 0, 0, 0, 1, 0, 0],\n",
       "       [1, 0, 1, 1, 0, 0, 0, 0]], dtype=int8)"
      ]
     },
     "execution_count": 53,
     "metadata": {},
     "output_type": "execute_result"
    }
   ],
   "source": [
    "tree_sequence.genotype_matrix().T"
   ]
  },
  {
   "cell_type": "markdown",
   "metadata": {},
   "source": [
    "As an example, individual (leaf) with index 0 has mutations 4, 6, and 7, and its sequence is `00001011`. "
   ]
  },
  {
   "cell_type": "markdown",
   "metadata": {
    "slideshow": {
     "slide_type": "slide"
    }
   },
   "source": [
    "# Lab outline\n",
    "\n",
    "\n",
    "## Simulate data with msprime\n",
    "\n",
    "## Preprocess data\n",
    "\n",
    "## Present data in batches with tensorflow.utils.Sequence\n",
    "\n",
    "## Train and test model on simulated toy examples\n",
    "\n"
   ]
  },
  {
   "cell_type": "markdown",
   "metadata": {
    "slideshow": {
     "slide_type": "fragment"
    }
   },
   "source": [
    "Lab is a blueprint of how a population genomics deep learning project could be conducted!"
   ]
  },
  {
   "cell_type": "markdown",
   "metadata": {
    "slideshow": {
     "slide_type": "slide"
    }
   },
   "source": [
    "# References\n",
    "\n",
    "\n",
    "Adrion, Jeffrey R., Jared G. Galloway, and Andrew D. Kern. 2020. “Predicting the Landscape of Recombination Using Deep Learning.” Molecular Biology and Evolution 37 (6): 1790–1808. doi:10.1093/molbev/msaa038.\n",
    "\n",
    "Booker, Tom R., Sam Yeaman, and Michael C. Whitlock. 2020. “Variation in Recombination Rate Affects Detection of Outliers in Genome Scans under Neutrality.” Molecular Ecology n/a (n/a). Accessed October 26. doi:10.1111/mec.15501.\n",
    "\n",
    "Burri, Reto, Alexander Nater, Takeshi Kawakami, Carina F. Mugal, Pall I. Olason, Linnea Smeds, Alexander Suh, et al. 2015. “Linked Selection and Recombination Rate Variation Drive the Evolution of the Genomic Landscape of Differentiation across the Speciation Continuum of Ficedula Flycatchers.” Genome Research 25 (11): 1656–65. doi:10.1101/gr.196485.115.\n",
    "\n",
    "Comeron, Josep M., Ramesh Ratnappan, and Samuel Bailin. 2012. “The Many Landscapes of Recombination in Drosophila Melanogaster.” PLOS Genetics 8 (10): e1002905. doi:10.1371/journal.pgen.1002905.\n",
    "\n",
    "Morgan, Thomas Hunt, and Louis Clark Vanuxem Foundation. 1916. A Critique of the Theory of Evolution. Princeton,: Princeton University Press,. https://www.biodiversitylibrary.org/bibliography/37670.\n",
    "\n",
    "Peñalba, Joshua V., and Jochen B. W. Wolf. 2020. “From Molecules to Populations: Appreciating and Estimating Recombination Rate Variation.” Nature Reviews Genetics 21 (8): 476–92. doi:10.1038/s41576-020-0240-1.\n",
    "\n",
    "Rosenberg, Noah A., and Magnus Nordborg. 2002. “Genealogical Trees, Coalescent Theory and the Analysis of Genetic Polymorphisms.” Nature Reviews Genetics 3 (5): 380–90. doi:10.1038/nrg795.\n",
    "\n",
    "Stapley, Jessica, Philine G. D. Feulner, Susan E. Johnston, Anna W. Santure, and Carole M. Smadja. 2017a. “Recombination: The Good, the Bad and the Variable.” Philosophical Transactions of the Royal Society B: Biological Sciences 372 (1736): 20170279. doi:10.1098/rstb.2017.0279.\n",
    "\n",
    "———. 2017b. “Variation in Recombination Frequency and Distribution across Eukaryotes: Patterns and Processes.” Philosophical Transactions of the Royal Society B: Biological Sciences 372 (1736): 20160455. doi:10.1098/rstb.2016.0455.\n",
    "\n",
    "Stevison, Laurie S., and Suzanne E. McGaugh. 2020. “It’s Time to Stop Sweeping Recombination Rate under the Genome Scan Rug.” Molecular Ecology n/a (n/a). Accessed October 26. doi:10.1111/mec.15690."
   ]
  }
 ],
 "metadata": {
  "celltoolbar": "Slideshow",
  "cite2c": {
   "citations": {
    "482049/6B4JF34P": {
     "DOI": "10.1038/s41576-020-0240-1",
     "URL": "https://www.nature.com/articles/s41576-020-0240-1",
     "abstract": "Recombination is a central biological process with implications for many areas in the life sciences. Yet we are only beginning to appreciate variation in the recombination rate along the genome and among individuals, populations and species. Spurred by technological advances, we are now able to bring variation in this key biological parameter to centre stage. Here, we review the conceptual implications of recombination rate variation and guide the reader through the assumptions, strengths and weaknesses of genomic inference methods, including population-based, pedigree-based and gamete-based approaches. Appreciation of the differences and commonalities of these approaches is a prerequisite to formulate a unifying and comparative framework for understanding the molecular and evolutionary mechanisms shaping, and being shaped by, recombination.",
     "accessed": {
      "day": 24,
      "month": 8,
      "year": 2020
     },
     "author": [
      {
       "family": "Peñalba",
       "given": "Joshua V."
      },
      {
       "family": "Wolf",
       "given": "Jochen B. W."
      }
     ],
     "container-title": "Nature Reviews Genetics",
     "id": "482049/6B4JF34P",
     "issue": "8",
     "issued": {
      "month": 8,
      "year": 2020
     },
     "language": "en",
     "note": "Number: 8\nPublisher: Nature Publishing Group",
     "page": "476-492",
     "page-first": "476",
     "shortTitle": "From molecules to populations",
     "title": "From molecules to populations: appreciating and estimating recombination rate variation",
     "title-short": "From molecules to populations",
     "type": "article-journal",
     "volume": "21"
    },
    "482049/A2QE4JIT": {
     "DOI": "10.1093/molbev/msaa038",
     "URL": "https://academic.oup.com/mbe/article/37/6/1790/5741419",
     "abstract": "Abstract.  Accurately inferring the genome-wide landscape of recombination rates in natural populations is a central aim in genomics, as patterns of linkage inf",
     "accessed": {
      "day": 7,
      "month": 10,
      "year": 2020
     },
     "author": [
      {
       "family": "Adrion",
       "given": "Jeffrey R."
      },
      {
       "family": "Galloway",
       "given": "Jared G."
      },
      {
       "family": "Kern",
       "given": "Andrew D."
      }
     ],
     "container-title": "Molecular Biology and Evolution",
     "container-title-short": "Mol Biol Evol",
     "id": "482049/A2QE4JIT",
     "issue": "6",
     "issued": {
      "day": 1,
      "month": 6,
      "year": 2020
     },
     "journalAbbreviation": "Mol Biol Evol",
     "language": "en",
     "note": "Publisher: Oxford Academic",
     "page": "1790-1808",
     "page-first": "1790",
     "title": "Predicting the Landscape of Recombination Using Deep Learning",
     "type": "article-journal",
     "volume": "37"
    },
    "482049/BM3UHY2D": {
     "URL": "https://www.biodiversitylibrary.org/bibliography/37670",
     "author": [
      {
       "family": "Morgan",
       "given": "Thomas Hunt"
      },
      {
       "family": "Foundation",
       "given": "Louis Clark Vanuxem"
      }
     ],
     "event-place": "Princeton,",
     "id": "482049/BM3UHY2D",
     "issued": {
      "year": 1916
     },
     "note": "DOI: 10.5962/bhl.title.37670\nPages: 1-216",
     "number-of-pages": "216",
     "publisher": "Princeton University Press,",
     "publisher-place": "Princeton,",
     "title": "A critique of the theory of evolution.",
     "type": "book"
    },
    "482049/C622SYAA": {
     "DOI": "10.1146/annurev-genet-120213-092525",
     "URL": "https://www-annualreviews-org.ezproxy.its.uu.se/doi/10.1146/annurev-genet-120213-092525",
     "abstract": "Genetic recombination affects levels of variability and the efficacy of selection because natural selection acting at one site affects evolutionary processes at linked sites. The variation in local recombination rates across the Drosophila genome provides excellent material for testing hypotheses concerning the evolutionary consequences of recombination. The current state of knowledge from studies of Drosophila genomics and population genetics is reviewed here. Selection at linked sites has influenced the relations between recombination rates and patterns of molecular variation and evolution, such that higher rates of recombination are associated with both higher levels of variability and a greater efficacy of selection. It seems likely that background selection against deleterious mutations is a major factor contributing to these patterns in genome regions in which crossing over is rare or absent, whereas selective sweeps of positively selected mutations probably play an important role in regions with crossing over.",
     "accessed": {
      "day": 19,
      "month": 11,
      "year": 2020
     },
     "author": [
      {
       "family": "Charlesworth",
       "given": "Brian"
      },
      {
       "family": "Campos",
       "given": "José L."
      }
     ],
     "container-title": "Annual Review of Genetics",
     "container-title-short": "Annu. Rev. Genet.",
     "id": "482049/C622SYAA",
     "issue": "1",
     "issued": {
      "day": 23,
      "month": 11,
      "year": 2014
     },
     "journalAbbreviation": "Annu. Rev. Genet.",
     "note": "Publisher: Annual Reviews",
     "page": "383-403",
     "page-first": "383",
     "title": "The Relations Between Recombination Rate and Patterns of Molecular Variation and Evolution in Drosophila",
     "type": "article-journal",
     "volume": "48"
    },
    "482049/CFAHN7KS": {
     "DOI": "10.1093/molbev/msj050",
     "URL": "https://academic.oup.com/mbe/article/23/2/450/1119102",
     "abstract": "Abstract. Most of the phenotypic diversity that we perceive in the natural world is directly attributable to the peculiar structure of the eukaryotic gene, whic",
     "accessed": {
      "day": 19,
      "month": 11,
      "year": 2020
     },
     "author": [
      {
       "family": "Lynch",
       "given": "Michael"
      }
     ],
     "container-title": "Molecular Biology and Evolution",
     "container-title-short": "Mol Biol Evol",
     "id": "482049/CFAHN7KS",
     "issue": "2",
     "issued": {
      "day": 1,
      "month": 2,
      "year": 2006
     },
     "journalAbbreviation": "Mol Biol Evol",
     "language": "en",
     "note": "Publisher: Oxford Academic",
     "page": "450-468",
     "page-first": "450",
     "title": "The Origins of Eukaryotic Gene Structure",
     "type": "article-journal",
     "volume": "23"
    },
    "482049/CNQJSTBL": {
     "DOI": "10.1111/mec.15690",
     "URL": "http://onlinelibrary.wiley.com/doi/abs/10.1111/mec.15690",
     "abstract": "Different parts of the genome can vary widely in their evolutionary histories and sequence divergence from other species. Indeed, some of the most interesting biology (e.g. hybridization, horizontal gene transfer, variable mutation rates across the genome) is revealed by the discordant relationships between taxa across the genome. The goal for much of evolutionary genetics is centered on understanding the evolutionary processes by which such varied signatures arise and are maintained. Many evolutionary genetics studies seek to identify signatures of positive selection between two closely related ecotypes or taxa by delineating regions with particularly high divergence relative to a genome-wide average, often termed “divergence outliers.” In a From the Cover article in this issue of Molecular Ecology, Booker et al. (2020) take a major step forward in showing that recombination rate differences are sufficient to create false positive divergence outliers, even under neutrality. They demonstrate that the variance of genome scan metrics is especially high in regions with low recombination rates, consistent with previous work (Hudson, 1983). Further, they show that both relative and absolute measures of divergence (FST and DXY, respectively) as well as other commonly used statistics in genome scans (e.g. πW, Tajima’s D, and H12) all have similar covariance between variance and local recombination rate. Finally, Booker et al. show that low recombination regions will tend to produce more outliers if genome-wide averages are used as cut-offs to define genomic outliers. Booker et al.’s results suggest that recombination rate variation, even under neutral conditions, can shape genome scans for selection, and this important variable can no longer be ignored.",
     "accessed": {
      "day": 26,
      "month": 10,
      "year": 2020
     },
     "author": [
      {
       "family": "Stevison",
       "given": "Laurie S."
      },
      {
       "family": "McGaugh",
       "given": "Suzanne E."
      }
     ],
     "container-title": "Molecular Ecology",
     "id": "482049/CNQJSTBL",
     "issue": "n/a",
     "language": "en",
     "note": "_eprint: https://onlinelibrary.wiley.com/doi/pdf/10.1111/mec.15690",
     "title": "It’s time to stop sweeping recombination rate under the genome scan rug",
     "type": "article-journal",
     "volume": "n/a"
    },
    "482049/CSCF6VJF": {
     "DOI": "10.1038/nrg.2016.133",
     "URL": "https://www.nature.com/articles/nrg.2016.133",
     "abstract": "The genomic landscape of differentiation between diverging lineages is often heterogeneous, with 'islands' of elevated differentiation previously interpreted as 'speciation islands' under a model of speciation with gene flow.Alternative processes can generate heterogeneous differentiation landscapes; notable processes include linked selection, variable recombination rates and/or density of targets of selection.Genome scans for regions of elevated differentiation should be based on whole-genome re-sequencing of individually tagged samples with reads mapped to a reference genome assembly.When designing speciation genomic studies, attention should be paid to the possibility of sampling across the speciation continuum and from replicate population pairs, and to the demography of the studied population, including potential gene flow.Analyses of sequence data in speciation genomic studies should incorporate a suite of summary statistics.The field is likely to move forward as a result of an increased use of long-read sequencing technology, the identification of structural variation, the inclusion of recombination rate data and, ultimately, functional studies.",
     "accessed": {
      "day": 19,
      "month": 11,
      "year": 2020
     },
     "author": [
      {
       "family": "Wolf",
       "given": "Jochen B. W."
      },
      {
       "family": "Ellegren",
       "given": "Hans"
      }
     ],
     "container-title": "Nature Reviews Genetics",
     "id": "482049/CSCF6VJF",
     "issue": "2",
     "issued": {
      "month": 2,
      "year": 2017
     },
     "language": "en",
     "note": "Number: 2\nPublisher: Nature Publishing Group",
     "page": "87-100",
     "page-first": "87",
     "title": "Making sense of genomic islands of differentiation in light of speciation",
     "type": "article-journal",
     "volume": "18"
    },
    "482049/ECWJBUBX": {
     "URL": "https://www.gutenberg.org/files/30701/30701-h/30701-h.htm",
     "accessed": {
      "day": 19,
      "month": 11,
      "year": 2020
     },
     "id": "482049/ECWJBUBX",
     "title": "A Critique of the Theory of Evolution.",
     "type": "article"
    },
    "482049/HEW99NTB": {
     "DOI": "10.1111/mec.15501",
     "URL": "http://onlinelibrary.wiley.com/doi/abs/10.1111/mec.15501",
     "abstract": "Genome scans can potentially identify genetic loci involved in evolutionary processes such as local adaptation and gene flow. Here, we show that recombination rate variation across a neutrally evolving genome gives rise to mixed sampling distributions of mean FST (), a common population genetic summary statistic. In particular, we show that in regions of low recombination the distribution of estimates has more variance and a longer tail than in more highly recombining regions. Determining outliers from the genome-wide distribution without taking local recombination rate into consideration may therefore increase the frequency of false positives in low recombination regions and be overly conservative in more highly recombining ones. We perform genome scans on simulated and empirical Drosophila melanogaster data sets and, in both cases, find patterns consistent with this neutral model. Similar patterns are observed for other summary statistics used to capture variation in the coalescent process. Linked selection, particularly background selection, is often invoked to explain heterogeneity in across the genome, but here we point out that even under neutrality, statistical artefacts can arise due to variation in recombination rate. Our results highlight a flaw in the design of genome-scan studies and suggest that without estimates of local recombination rate, interpreting the genomic landscape of any summary statistic that captures variation in the coalescent process will be very difficult.",
     "accessed": {
      "day": 26,
      "month": 10,
      "year": 2020
     },
     "author": [
      {
       "family": "Booker",
       "given": "Tom R."
      },
      {
       "family": "Yeaman",
       "given": "Sam"
      },
      {
       "family": "Whitlock",
       "given": "Michael C."
      }
     ],
     "container-title": "Molecular Ecology",
     "id": "482049/HEW99NTB",
     "issue": "n/a",
     "language": "en",
     "note": "_eprint: https://onlinelibrary.wiley.com/doi/pdf/10.1111/mec.15501",
     "title": "Variation in recombination rate affects detection of outliers in genome scans under neutrality",
     "type": "article-journal",
     "volume": "n/a"
    },
    "482049/ISK9URI5": {
     "URL": "https://www.gutenberg.org/files/30701/30701-h/30701-h.htm",
     "accessed": {
      "day": 19,
      "month": 11,
      "year": 2020
     },
     "id": "482049/ISK9URI5",
     "title": "A Critique of the Theory of Evolution.",
     "type": "webpage"
    },
    "482049/JNT6MV4F": {
     "DOI": "10.1038/nrg795",
     "URL": "https://www-nature-com.ezproxy.its.uu.se/articles/nrg795",
     "abstract": "Improvements in genotyping technologies have led to the increased use of genetic polymorphism for inference about population phenomena, such as migration and selection. Such inference presents a challenge, because polymorphism data reflect a unique, complex, non-repeatable evolutionary history. Traditional analysis methods do not take this into account. A stochastic process known as the 'coalescent' presents a coherent statistical framework for analysis of genetic polymorphisms.",
     "accessed": {
      "day": 15,
      "month": 11,
      "year": 2019
     },
     "author": [
      {
       "family": "Rosenberg",
       "given": "Noah A."
      },
      {
       "family": "Nordborg",
       "given": "Magnus"
      }
     ],
     "container-title": "Nature Reviews Genetics",
     "container-title-short": "Nat Rev Genet",
     "id": "482049/JNT6MV4F",
     "issue": "5",
     "issued": {
      "month": 5,
      "year": 2002
     },
     "journalAbbreviation": "Nat Rev Genet",
     "language": "en",
     "page": "380-390",
     "page-first": "380",
     "title": "Genealogical trees, coalescent theory and the analysis of genetic polymorphisms",
     "type": "article-journal",
     "volume": "3"
    },
    "482049/M6IAUADD": {
     "DOI": "10.1101/gr.196485.115",
     "URL": "https://www.ncbi.nlm.nih.gov/pmc/articles/PMC4617962/",
     "abstract": "Speciation is a continuous process during which genetic changes gradually accumulate in the genomes of diverging species. Recent studies have documented highly heterogeneous differentiation landscapes, with distinct regions of elevated differentiation (“differentiation islands”) widespread across genomes. However, it remains unclear which processes drive the evolution of differentiation islands; how the differentiation landscape evolves as speciation advances; and ultimately, how differentiation islands are related to speciation. Here, we addressed these questions based on population genetic analyses of 200 resequenced genomes from 10 populations of four Ficedula flycatcher sister species. We show that a heterogeneous differentiation landscape starts emerging among populations within species, and differentiation islands evolve recurrently in the very same genomic regions among independent lineages. Contrary to expectations from models that interpret differentiation islands as genomic regions involved in reproductive isolation that are shielded from gene flow, patterns of sequence divergence (dxy and relative node depth) do not support a major role of gene flow in the evolution of the differentiation landscape in these species. Instead, as predicted by models of linked selection, genome-wide variation in diversity and differentiation can be explained by variation in recombination rate and the density of targets for selection. We thus conclude that the heterogeneous landscape of differentiation in Ficedula flycatchers evolves mainly as the result of background selection and selective sweeps in genomic regions of low recombination. Our results emphasize the necessity of incorporating linked selection as a null model to identify genome regions involved in adaptation and speciation.",
     "accessed": {
      "day": 19,
      "month": 11,
      "year": 2020
     },
     "author": [
      {
       "family": "Burri",
       "given": "Reto"
      },
      {
       "family": "Nater",
       "given": "Alexander"
      },
      {
       "family": "Kawakami",
       "given": "Takeshi"
      },
      {
       "family": "Mugal",
       "given": "Carina F."
      },
      {
       "family": "Olason",
       "given": "Pall I."
      },
      {
       "family": "Smeds",
       "given": "Linnea"
      },
      {
       "family": "Suh",
       "given": "Alexander"
      },
      {
       "family": "Dutoit",
       "given": "Ludovic"
      },
      {
       "family": "Bureš",
       "given": "Stanislav"
      },
      {
       "family": "Garamszegi",
       "given": "Laszlo Z."
      },
      {
       "family": "Hogner",
       "given": "Silje"
      },
      {
       "family": "Moreno",
       "given": "Juan"
      },
      {
       "family": "Qvarnström",
       "given": "Anna"
      },
      {
       "family": "Ružić",
       "given": "Milan"
      },
      {
       "family": "Sæther",
       "given": "Stein-Are"
      },
      {
       "family": "Sætre",
       "given": "Glenn-Peter"
      },
      {
       "family": "Török",
       "given": "Janos"
      },
      {
       "family": "Ellegren",
       "given": "Hans"
      }
     ],
     "container-title": "Genome Research",
     "container-title-short": "Genome Res",
     "id": "482049/M6IAUADD",
     "issue": "11",
     "issued": {
      "month": 11,
      "year": 2015
     },
     "journalAbbreviation": "Genome Res",
     "note": "PMID: 26355005\nPMCID: PMC4617962",
     "page": "1656-1665",
     "page-first": "1656",
     "title": "Linked selection and recombination rate variation drive the evolution of the genomic landscape of differentiation across the speciation continuum of Ficedula flycatchers",
     "type": "article-journal",
     "volume": "25"
    },
    "482049/UMM2EVLZ": {
     "DOI": "10.1098/rstb.2017.0279",
     "URL": "https://royalsocietypublishing.org/doi/10.1098/rstb.2017.0279",
     "abstract": "Recombination, the process by which DNA strands are broken and repaired, producing new combinations of alleles, occurs in nearly all multicellular organisms and has important implications for many evolutionary processes. The effects of recombination can be good, as it can facilitate adaptation, but also bad when it breaks apart beneficial combinations of alleles, and recombination is highly variable between taxa, species, individuals and across the genome. Understanding how and why recombination rate varies is a major challenge in biology. Most theoretical and empirical work has been devoted to understanding the role of recombination in the evolution of sex—comparing between sexual and asexual species or populations. How recombination rate evolves and what impact this has on evolutionary processes within sexually reproducing organisms has received much less attention. This Theme Issue focusses on how and why recombination rate varies in sexual species, and aims to coalesce knowledge of the molecular mechanisms governing recombination with our understanding of the evolutionary processes driving variation in recombination within and between species. By integrating these fields, we can identify important knowledge gaps and areas for future research, and pave the way for a more comprehensive understanding of how and why recombination rate varies.",
     "accessed": {
      "day": 7,
      "month": 10,
      "year": 2020
     },
     "author": [
      {
       "family": "Stapley",
       "given": "Jessica"
      },
      {
       "family": "Feulner",
       "given": "Philine G. D."
      },
      {
       "family": "Johnston",
       "given": "Susan E."
      },
      {
       "family": "Santure",
       "given": "Anna W."
      },
      {
       "family": "Smadja",
       "given": "Carole M."
      }
     ],
     "container-title": "Philosophical Transactions of the Royal Society B: Biological Sciences",
     "container-title-short": "Philosophical Transactions of the Royal Society B: Biological Sciences",
     "id": "482049/UMM2EVLZ",
     "issue": "1736",
     "issued": {
      "day": 19,
      "month": 12,
      "year": 2017
     },
     "journalAbbreviation": "Philosophical Transactions of the Royal Society B: Biological Sciences",
     "note": "Publisher: Royal Society",
     "page": "20170279",
     "page-first": "20170279",
     "shortTitle": "Recombination",
     "title": "Recombination: the good, the bad and the variable",
     "title-short": "Recombination",
     "type": "article-journal",
     "volume": "372"
    },
    "482049/WWMIEP3G": {
     "DOI": "10.1371/journal.pgen.1002905",
     "URL": "https://journals.plos.org/plosgenetics/article?id=10.1371/journal.pgen.1002905",
     "abstract": "Recombination is a fundamental biological process with profound evolutionary implications. Theory predicts that recombination increases the effectiveness of selection in natural populations. Yet, direct tests of this prediction have been restricted to qualitative trends due to the lack of detailed characterization of recombination rate variation across genomes and within species. The use of imprecise recombination rates can also skew population genetic analyses designed to assess the presence and mode of selection across genomes. Here we report the first integrated high-resolution description of genomic and population variation in recombination, which also distinguishes between the two outcomes of meiotic recombination: crossing over (CO) and gene conversion (GC). We characterized the products of 5,860 female meioses in Drosophila melanogaster by genotyping a total of 139 million informative SNPs and mapped 106,964 recombination events at a resolution down to 2 kilobases. This approach allowed us to generate whole-genome CO and GC maps as well as a detailed description of variation in recombination among individuals of this species. We describe many levels of variation in recombination rates. At a large-scale (100 kb), CO rates exhibit extreme and highly punctuated variation along chromosomes, with hot and coldspots. We also show extensive intra-specific variation in CO landscapes that is associated with hotspots at low frequency in our sample. GC rates are more uniformly distributed across the genome than CO rates and detectable in regions with reduced or absent CO. At a local scale, recombination events are associated with numerous sequence motifs and tend to occur within transcript regions, thus suggesting that chromatin accessibility favors double-strand breaks. All these non-independent layers of variation in recombination across genomes and among individuals need to be taken into account in order to obtain relevant estimates of recombination rates, and should be included in a new generation of population genetic models of the interaction between selection and linkage.",
     "accessed": {
      "day": 19,
      "month": 11,
      "year": 2020
     },
     "author": [
      {
       "family": "Comeron",
       "given": "Josep M."
      },
      {
       "family": "Ratnappan",
       "given": "Ramesh"
      },
      {
       "family": "Bailin",
       "given": "Samuel"
      }
     ],
     "container-title": "PLOS Genetics",
     "container-title-short": "PLOS Genetics",
     "id": "482049/WWMIEP3G",
     "issue": "10",
     "issued": {
      "day": 11,
      "month": 10,
      "year": 2012
     },
     "journalAbbreviation": "PLOS Genetics",
     "language": "en",
     "note": "Publisher: Public Library of Science",
     "page": "e1002905",
     "page-first": "e1002905",
     "title": "The Many Landscapes of Recombination in Drosophila melanogaster",
     "type": "article-journal",
     "volume": "8"
    },
    "482049/X9HA5BKN": {
     "DOI": "10.1098/rstb.2016.0455",
     "URL": "https://royalsocietypublishing.org/doi/10.1098/rstb.2016.0455",
     "abstract": "Recombination, the exchange of DNA between maternal and paternal chromosomes during meiosis, is an essential feature of sexual reproduction in nearly all multicellular organisms. While the role of recombination in the evolution of sex has received theoretical and empirical attention, less is known about how recombination rate itself evolves and what influence this has on evolutionary processes within sexually reproducing organisms. Here, we explore the patterns of, and processes governing recombination in eukaryotes. We summarize patterns of variation, integrating current knowledge with an analysis of linkage map data in 353 organisms. We then discuss proximate and ultimate processes governing recombination rate variation and consider how these influence evolutionary processes. Genome-wide recombination rates (cM/Mb) can vary more than tenfold across eukaryotes, and there is large variation in the distribution of recombination events across closely related taxa, populations and individuals. We discuss how variation in rate and distribution relates to genome architecture, genetic and epigenetic mechanisms, sex, environmental perturbations and variable selective pressures. There has been great progress in determining the molecular mechanisms governing recombination, and with the continued development of new modelling and empirical approaches, there is now also great opportunity to further our understanding of how and why recombination rate varies.This article is part of the themed issue ‘Evolutionary causes and consequences of recombination rate variation in sexual organisms’.",
     "accessed": {
      "day": 26,
      "month": 10,
      "year": 2020
     },
     "author": [
      {
       "family": "Stapley",
       "given": "Jessica"
      },
      {
       "family": "Feulner",
       "given": "Philine G. D."
      },
      {
       "family": "Johnston",
       "given": "Susan E."
      },
      {
       "family": "Santure",
       "given": "Anna W."
      },
      {
       "family": "Smadja",
       "given": "Carole M."
      }
     ],
     "container-title": "Philosophical Transactions of the Royal Society B: Biological Sciences",
     "container-title-short": "Philosophical Transactions of the Royal Society B: Biological Sciences",
     "id": "482049/X9HA5BKN",
     "issue": "1736",
     "issued": {
      "day": 19,
      "month": 12,
      "year": 2017
     },
     "journalAbbreviation": "Philosophical Transactions of the Royal Society B: Biological Sciences",
     "note": "Publisher: Royal Society",
     "page": "20160455",
     "page-first": "20160455",
     "shortTitle": "Variation in recombination frequency and distribution across eukaryotes",
     "title": "Variation in recombination frequency and distribution across eukaryotes: patterns and processes",
     "title-short": "Variation in recombination frequency and distribution across eukaryotes",
     "type": "article-journal",
     "volume": "372"
    },
    "undefined": {
     "DOI": "10.1093/molbev/msj050",
     "URL": "https://academic.oup.com/mbe/article/23/2/450/1119102",
     "abstract": "Abstract. Most of the phenotypic diversity that we perceive in the natural world is directly attributable to the peculiar structure of the eukaryotic gene, whic",
     "accessed": {
      "day": 19,
      "month": 11,
      "year": 2020
     },
     "author": [
      {
       "family": "Lynch",
       "given": "Michael"
      }
     ],
     "container-title": "Molecular Biology and Evolution",
     "container-title-short": "Mol Biol Evol",
     "id": "undefined",
     "issue": "2",
     "issued": {
      "day": 1,
      "month": 2,
      "year": 2006
     },
     "journalAbbreviation": "Mol Biol Evol",
     "language": "en",
     "note": "Publisher: Oxford Academic",
     "page": "450-468",
     "page-first": "450",
     "title": "The Origins of Eukaryotic Gene Structure",
     "type": "article-journal",
     "volume": "23"
    }
   }
  },
  "kernelspec": {
   "display_name": "Python 3",
   "language": "python",
   "name": "python3"
  },
  "language_info": {
   "codemirror_mode": {
    "name": "ipython",
    "version": 3
   },
   "file_extension": ".py",
   "mimetype": "text/x-python",
   "name": "python",
   "nbconvert_exporter": "python",
   "pygments_lexer": "ipython3",
   "version": "3.8.6"
  },
  "toc": {
   "base_numbering": 1,
   "nav_menu": {},
   "number_sections": false,
   "sideBar": true,
   "skip_h1_title": false,
   "title_cell": "Outline",
   "title_sidebar": "Contents",
   "toc_cell": true,
   "toc_position": {
    "height": "calc(100% - 180px)",
    "left": "10px",
    "top": "150px",
    "width": "207.5px"
   },
   "toc_section_display": true,
   "toc_window_display": false
  }
 },
 "nbformat": 4,
 "nbformat_minor": 4
}
