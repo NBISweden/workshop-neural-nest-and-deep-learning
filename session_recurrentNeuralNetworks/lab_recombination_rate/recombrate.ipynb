{
 "cells": [
  {
   "cell_type": "markdown",
   "metadata": {
    "toc": true
   },
   "source": [
    "<h1>Outline<span class=\"tocSkip\"></span></h1>\n",
    "<div class=\"toc\"><ul class=\"toc-item\"><li><span><a href=\"#Preparations\" data-toc-modified-id=\"Preparations-1\">Preparations</a></span></li><li><span><a href=\"#Lab-session:-recombination-rate-estimation-using-Recurrent-Neural-Networks\" data-toc-modified-id=\"Lab-session:-recombination-rate-estimation-using-Recurrent-Neural-Networks-2\">Lab session: recombination rate estimation using Recurrent Neural Networks</a></span></li><li><span><a href=\"#Scenario-1:-simulated-data-with-flat-recombination-rate\" data-toc-modified-id=\"Scenario-1:-simulated-data-with-flat-recombination-rate-3\">Scenario 1: simulated data with flat recombination rate</a></span></li><li><span><a href=\"#Scenario-2---recombination-hotspot\" data-toc-modified-id=\"Scenario-2---recombination-hotspot-4\">Scenario 2 - recombination hotspot</a></span></li><li><span><a href=\"#Scenario-3---recombination-map\" data-toc-modified-id=\"Scenario-3---recombination-map-5\">Scenario 3 - recombination map</a></span></li><li><span><a href=\"#Scenario-4---ReLERNN-test-data-set\" data-toc-modified-id=\"Scenario-4---ReLERNN-test-data-set-6\">Scenario 4 - ReLERNN test data set</a></span></li></ul></div>"
   ]
  },
  {
   "cell_type": "markdown",
   "metadata": {},
   "source": [
    "# Preparations"
   ]
  },
  {
   "cell_type": "code",
   "execution_count": 3,
   "metadata": {},
   "outputs": [
    {
     "name": "stdout",
     "output_type": "stream",
     "text": [
      "The autoreload extension is already loaded. To reload it, use:\n",
      "  %reload_ext autoreload\n"
     ]
    }
   ],
   "source": [
    "%config InlineBackend.figure_format ='retina'\n",
    "%load_ext autoreload\n",
    "%autoreload 2\n",
    "%matplotlib inline"
   ]
  },
  {
   "cell_type": "code",
   "execution_count": 4,
   "metadata": {},
   "outputs": [],
   "source": [
    "import os\n",
    "import numpy as np\n",
    "import msprime\n",
    "import pandas as pd\n",
    "from matplotlib import pyplot as plt\n",
    "from IPython.core.display import SVG"
   ]
  },
  {
   "cell_type": "code",
   "execution_count": 5,
   "metadata": {},
   "outputs": [],
   "source": [
    "import utils"
   ]
  },
  {
   "cell_type": "markdown",
   "metadata": {},
   "source": [
    "# Lab session: recombination rate estimation using Recurrent Neural Networks"
   ]
  },
  {
   "cell_type": "markdown",
   "metadata": {},
   "source": [
    "## Aims"
   ]
  },
  {
   "cell_type": "markdown",
   "metadata": {},
   "source": [
    "In this lab session we will build a Recurrent Neural Network model for estimating recombination rates from sequence variation data. The model is based on the article Predicting the Landscape of Recombination Using Deep Learning <cite data-cite=\"482049/A2QE4JIT\"></cite>. ReLERNN estimates recombination rate landscapes directly from genotype alignments expressed as vcf files. We will partly reproduce the network model of ReLERNN.\n",
    "\n",
    "According to the developers, ReLERNN is accurate even when faced with demographic misspecifications, missing genotypes, and genome inaccessibility. They also claim it performs well at small sample sizes and can also take as input allele frequencies estimated from Pool-seq data."
   ]
  },
  {
   "cell_type": "markdown",
   "metadata": {},
   "source": [
    "Recombination rates vary along chromosomes, between chromosomes, between species and more. Importantly, they affect the test stastitics of genome-wide scans for e.g. selection <cite data-cite=\"482049/M6IAUADD\"></cite>: \n",
    "\n",
    "<div><img src=\"https://www.ncbi.nlm.nih.gov/pmc/articles/PMC4617962/bin/1656f01.jpg\" width=800></img>\n",
    "\n",
    "\n",
    "\n",
    "For this reason, <cite data-cite=\"482049/CSCF6VJF\"></cite> stress the importance of including recombination rate data when performing population genomic analyses.\n"
   ]
  },
  {
   "cell_type": "markdown",
   "metadata": {},
   "source": [
    "The method that we will look at uses coalescent simulations to generate data. The data needs to be preprocessed prior to training, and a substantial part of this lab will therefore be devoted to data preparation. Once data is in an appopriate format, we turn to modelling. Briefly then, the aims of this lab are:\n",
    "\n",
    "1. to familiarize yourself with the coalescent simulator msprime\n",
    "2. to proprocess the data\n",
    "3. to familiarize yourself with the code for producing data inputs in sequence batches\n",
    "4. to train and apply the model to some toy examples\n",
    "\n",
    "If time permits, there are some additional suggestions at the end, including testing the software package ReLERNN itself."
   ]
  },
  {
   "cell_type": "markdown",
   "metadata": {},
   "source": [
    "## Mini-introduction to msprime\n",
    "\n",
    "As we will use msprime (https://msprime.readthedocs.io/en/stable/index.html) to simulate both observed data, as well as training and test data, we here provide a mini-introduction to the few commands that are required."
   ]
  },
  {
   "cell_type": "markdown",
   "metadata": {},
   "source": [
    "The basic idea if the coalescent process is to relate a set of individuals, or sequences, to oneother through a genealogy, looking *backwards* in time. The genealogy is built iteratively by sampling two sequences to have a common ancestor and to merge those lineages at a time in the past. The distance to that past event is given as a Poisson variable with intensity proportional to the number of individuals currently alive. The process is repeated until only one individual remains.\n",
    "\n",
    "Once the genealogy has been generated, mutations are added by sprinkling them on the genealogy. The probability that a mutation ends up on a particular branch is proportional to the branch length. The independence of the genealogy and mutation process is a consequence of the assumption that mutations are selectively *neutral*. Thus, the independence does not hold for loci being selected upon.\n",
    "\n",
    "To begin with, we show the simplest command for simulating a small sample (n=6) of 1kb sequences from a population with a diploid effective population size 1000 ($N_e$=1000) and printing a genealogy:"
   ]
  },
  {
   "cell_type": "code",
   "execution_count": 12,
   "metadata": {},
   "outputs": [
    {
     "name": "stdout",
     "output_type": "stream",
     "text": [
      "      10   \n",
      "    ┏━━┻━━┓\n",
      "    9     ┃\n",
      " ┏━━┻━┓   ┃\n",
      " ┃    8   ┃\n",
      " ┃   ┏┻━┓ ┃\n",
      " 7   ┃  ┃ ┃\n",
      "┏┻┓  ┃  ┃ ┃\n",
      "┃ ┃  6  ┃ ┃\n",
      "┃ ┃ ┏┻┓ ┃ ┃\n",
      "0 5 1 4 3 2\n",
      "\n"
     ]
    }
   ],
   "source": [
    "import msprime\n",
    "tree_sequence = msprime.simulate(sample_size=6, Ne=1000, length=1e4, random_seed=46)\n",
    "tree = tree_sequence.first()\n",
    "print(tree.draw(format=\"unicode\"))"
   ]
  },
  {
   "cell_type": "markdown",
   "metadata": {},
   "source": [
    "We can also display the tree in svg format as it allows to show where mutations occur on the tree, and also to draw all tree sequences simultaneously:"
   ]
  },
  {
   "cell_type": "code",
   "execution_count": 10,
   "metadata": {},
   "outputs": [
    {
     "data": {
      "image/svg+xml": [
       "<svg xmlns=\"http://www.w3.org/2000/svg\" xmlns:ev=\"http://www.w3.org/2001/xml-events\" xmlns:xlink=\"http://www.w3.org/1999/xlink\" baseProfile=\"full\" height=\"200\" version=\"1.1\" width=\"200\"><defs><style type=\"text/css\"><![CDATA[.axis {font-weight: bold}.tree, .axis {font-size: 14px; text-anchor:middle}.edge {stroke: black; fill: none}.node > .sym {fill: black; stroke: none}.tree text {dominant-baseline: middle}.tree .lab.lft {text-anchor: end}.tree .lab.rgt {text-anchor: start}.mut {fill: red; font-style: italic}]]></style></defs><g class=\"tree-sequence\"><g class=\"background\"><polygon fill=\"#F1F1F1\" points=\"20,185 20,180 20,160 20,0 180.0,0 180.0,160 180.0,180 180.0,185\"/></g><g class=\"trees\"><g class=\"treebox t0\" transform=\"translate(20 30)\"><g class=\"tree t0\"><g class=\"node n10 p0 root\" transform=\"translate(98.75 30.0)\"><g class=\"a10 leaf node n2 p0 sample\" transform=\"translate(31.25 80.0)\"><path class=\"edge\" d=\"M 0 0 V -80.0 H -31.25\"/><circle class=\"sym\" cx=\"0\" cy=\"0\" r=\"3\"/><text class=\"lab\" transform=\"translate(0 12)\">2</text></g><g class=\"a10 node n9 p0\" transform=\"translate(-31.25 1.73298)\"><g class=\"a9 node n7 p0\" transform=\"translate(-27.5 69.6683)\"><g class=\"a7 leaf node n0 p0 sample\" transform=\"translate(-10.0 8.5987)\"><path class=\"edge\" d=\"M 0 0 V -8.5987 H 10.0\"/><circle class=\"sym\" cx=\"0\" cy=\"0\" r=\"3\"/><text class=\"lab\" transform=\"translate(0 12)\">0</text></g><g class=\"a7 leaf node n5 p0 sample\" transform=\"translate(10.0 8.5987)\"><path class=\"edge\" d=\"M 0 0 V -8.5987 H -10.0\"/><circle class=\"sym\" cx=\"0\" cy=\"0\" r=\"3\"/><text class=\"lab\" transform=\"translate(0 12)\">5</text></g><path class=\"edge\" d=\"M 0 0 V -69.6683 H 27.5\"/><circle class=\"sym\" cx=\"0\" cy=\"0\" r=\"3\"/><text class=\"lab lft\" transform=\"translate(-3 -6)\">7</text></g><g class=\"a9 node n8 p0\" transform=\"translate(27.5 60.3126)\"><g class=\"a8 leaf node n3 p0 sample\" transform=\"translate(15.0 17.9544)\"><path class=\"edge\" d=\"M 0 0 V -17.9544 H -15.0\"/><circle class=\"sym\" cx=\"0\" cy=\"0\" r=\"3\"/><text class=\"lab\" transform=\"translate(0 12)\">3</text></g><g class=\"a8 node n6 p0\" transform=\"translate(-15.0 13.9153)\"><g class=\"a6 leaf node n1 p0 sample\" transform=\"translate(-10.0 4.03914)\"><path class=\"edge\" d=\"M 0 0 V -4.03914 H 10.0\"/><circle class=\"sym\" cx=\"0\" cy=\"0\" r=\"3\"/><text class=\"lab\" transform=\"translate(0 12)\">1</text></g><g class=\"a6 leaf node n4 p0 sample\" transform=\"translate(10.0 4.03914)\"><path class=\"edge\" d=\"M 0 0 V -4.03914 H -10.0\"/><circle class=\"sym\" cx=\"0\" cy=\"0\" r=\"3\"/><text class=\"lab\" transform=\"translate(0 12)\">4</text></g><path class=\"edge\" d=\"M 0 0 V -13.9153 H 15.0\"/><circle class=\"sym\" cx=\"0\" cy=\"0\" r=\"3\"/><text class=\"lab lft\" transform=\"translate(-3 -6)\">6</text></g><path class=\"edge\" d=\"M 0 0 V -60.3126 H -27.5\"/><circle class=\"sym\" cx=\"0\" cy=\"0\" r=\"3\"/><text class=\"lab rgt\" transform=\"translate(3 -6)\">8</text></g><path class=\"edge\" d=\"M 0 0 V -1.73298 H 31.25\"/><circle class=\"sym\" cx=\"0\" cy=\"0\" r=\"3\"/><text class=\"lab lft\" transform=\"translate(-3 -6)\">9</text></g><circle class=\"sym\" cx=\"0\" cy=\"0\" r=\"3\"/><text class=\"lab\" transform=\"translate(0 -10)\">10</text></g></g></g></g><g class=\"axis\"><line stroke=\"black\" x1=\"20\" x2=\"180\" y1=\"180\" y2=\"180\"/><line stroke=\"black\" x1=\"20\" x2=\"20\" y1=\"180\" y2=\"185\"/><g transform=\"translate(20, 200)\"><text font-size=\"14\" font-weight=\"bold\" text-anchor=\"middle\">0</text></g><line stroke=\"black\" x1=\"180.0\" x2=\"180.0\" y1=\"180\" y2=\"185\"/><g transform=\"translate(180.0, 200)\"><text font-size=\"14\" font-weight=\"bold\" text-anchor=\"middle\">10000</text></g></g></g></svg>"
      ],
      "text/plain": [
       "<IPython.core.display.SVG object>"
      ]
     },
     "metadata": {},
     "output_type": "display_data"
    }
   ],
   "source": [
    "display(SVG(tree_sequence.draw_svg()))"
   ]
  },
  {
   "cell_type": "markdown",
   "metadata": {},
   "source": [
    "The `tree_sequence` object is a so-called succinct (compact) data structure representation of trees along the sequence, based on the fact that neighbouring genomic regions have correlated genealogical histories. The interested reader can consult the tskit documentation (https://tskit.readthedocs.io/en/latest/data-model.html?highlight=succinct#definitions) for more information. As the name implies, it consists of a sequence of trees, where tree represents a part of the sequence that has a given genealogy. Since we have no recombination events, there should only be one tree:"
   ]
  },
  {
   "cell_type": "code",
   "execution_count": 3,
   "metadata": {
    "cell_style": "center",
    "hide_input": false
   },
   "outputs": [
    {
     "data": {
      "text/plain": [
       "1"
      ]
     },
     "execution_count": 3,
     "metadata": {},
     "output_type": "execute_result"
    }
   ],
   "source": [
    "len(list(tree_sequence.trees()))"
   ]
  },
  {
   "cell_type": "markdown",
   "metadata": {
    "cell_style": "center"
   },
   "source": [
    "Recombination events are added via the `recombination_rate` parameter:"
   ]
  },
  {
   "cell_type": "code",
   "execution_count": 15,
   "metadata": {},
   "outputs": [],
   "source": [
    "tree_sequence = msprime.simulate(sample_size=6, Ne=1000, length=1e4, random_seed=46, recombination_rate=2e-8)"
   ]
  },
  {
   "cell_type": "markdown",
   "metadata": {},
   "source": [
    "Now, because of recombination, different parts of the sequence will have different histories, or genealogies. Consequently, we have several trees along the sequence:"
   ]
  },
  {
   "cell_type": "code",
   "execution_count": 16,
   "metadata": {},
   "outputs": [
    {
     "data": {
      "text/plain": [
       "4"
      ]
     },
     "execution_count": 16,
     "metadata": {},
     "output_type": "execute_result"
    }
   ],
   "source": [
    "len(list(tree_sequence.trees()))"
   ]
  },
  {
   "cell_type": "markdown",
   "metadata": {},
   "source": [
    "where the lengths of the non-recombining segments and the genealogies of the segments can be obtained as follows:"
   ]
  },
  {
   "cell_type": "code",
   "execution_count": 6,
   "metadata": {},
   "outputs": [
    {
     "name": "stdout",
     "output_type": "stream",
     "text": [
      "--------------------\n",
      "tree 0: interval = Interval(left=0.0, right=3981.491488865924)\n",
      "  13       \n",
      "┏━━┻━━┓    \n",
      "┃    10    \n",
      "┃   ┏━┻━━┓ \n",
      "┃   ┃    9 \n",
      "┃   ┃   ┏┻┓\n",
      "┃   8   ┃ ┃\n",
      "┃  ┏┻━┓ ┃ ┃\n",
      "┃  6  ┃ ┃ ┃\n",
      "┃ ┏┻┓ ┃ ┃ ┃\n",
      "0 1 2 4 3 5\n",
      "\n",
      "--------------------\n",
      "tree 1: interval = Interval(left=3981.491488865924, right=7903.793365206522)\n",
      "  12       \n",
      "┏━━┻━━┓    \n",
      "┃    10    \n",
      "┃   ┏━┻━━┓ \n",
      "┃   ┃    9 \n",
      "┃   ┃   ┏┻┓\n",
      "┃   8   ┃ ┃\n",
      "┃  ┏┻━┓ ┃ ┃\n",
      "┃  6  ┃ ┃ ┃\n",
      "┃ ┏┻┓ ┃ ┃ ┃\n",
      "0 1 2 4 3 5\n",
      "\n",
      "--------------------\n",
      "tree 2: interval = Interval(left=7903.793365206522, right=9801.238693716294)\n",
      "   12      \n",
      " ┏━━┻━━━┓  \n",
      " ┃     10  \n",
      " ┃    ┏━┻━┓\n",
      " ┃    8   ┃\n",
      " ┃   ┏┻━┓ ┃\n",
      " 7   ┃  ┃ ┃\n",
      "┏┻┓  ┃  ┃ ┃\n",
      "┃ ┃  6  ┃ ┃\n",
      "┃ ┃ ┏┻┓ ┃ ┃\n",
      "0 3 1 2 4 5\n",
      "\n",
      "--------------------\n",
      "tree 3: interval = Interval(left=9801.238693716294, right=10000.0)\n",
      "   11      \n",
      " ┏━━┻━━━┓  \n",
      " ┃     10  \n",
      " ┃    ┏━┻━┓\n",
      " ┃    8   ┃\n",
      " ┃   ┏┻━┓ ┃\n",
      " 7   ┃  ┃ ┃\n",
      "┏┻┓  ┃  ┃ ┃\n",
      "┃ ┃  6  ┃ ┃\n",
      "┃ ┃ ┏┻┓ ┃ ┃\n",
      "0 3 1 2 4 5\n",
      "\n"
     ]
    }
   ],
   "source": [
    "for tree in tree_sequence.trees():\n",
    "...     print(\"-\" * 20)\n",
    "...     print(\"tree {}: interval = {}\".format(tree.index, tree.interval))\n",
    "...     print(tree.draw(format=\"unicode\"))"
   ]
  },
  {
   "cell_type": "markdown",
   "metadata": {},
   "source": [
    "This means that if we could infer genealogies along a sequence, we could also infer the recombination break points. However, in order to infer genealogies, we need sequence variation, or mutations. Mutations are added by applying the `mutation_rate` parameter:"
   ]
  },
  {
   "cell_type": "code",
   "execution_count": 17,
   "metadata": {},
   "outputs": [
    {
     "name": "stdout",
     "output_type": "stream",
     "text": [
      "Mutation @ position 1556.54 over node 9\n",
      "Mutation @ position 4485.17 over node 6\n",
      "Mutation @ position 9788.56 over node 6\n",
      "Mutation @ position 11759.03 over node 6\n",
      "Mutation @ position 11949.32 over node 6\n",
      "Mutation @ position 14321.77 over node 9\n",
      "Mutation @ position 31454.99 over node 6\n",
      "Mutation @ position 45125.69 over node 9\n",
      "Mutation @ position 49709.68 over node 6\n"
     ]
    }
   ],
   "source": [
    "tree_sequence = msprime.simulate(sample_size=6, Ne=1000, length=50e3, mutation_rate=1e-8, random_seed=30)\n",
    "tree = tree_sequence.first()\n",
    "for site in tree.sites():\n",
    "    for mutation in site.mutations:\n",
    "        print(\"Mutation @ position {:.2f} over node {}\".format(site.position, mutation.node))"
   ]
  },
  {
   "cell_type": "markdown",
   "metadata": {},
   "source": [
    "We can illustrate where the mutations occur by plotting the tree in svg format:"
   ]
  },
  {
   "cell_type": "code",
   "execution_count": 18,
   "metadata": {},
   "outputs": [
    {
     "data": {
      "image/svg+xml": [
       "<svg xmlns=\"http://www.w3.org/2000/svg\" xmlns:ev=\"http://www.w3.org/2001/xml-events\" xmlns:xlink=\"http://www.w3.org/1999/xlink\" baseProfile=\"full\" height=\"200\" version=\"1.1\" width=\"200\"><defs><style type=\"text/css\"><![CDATA[.axis {font-weight: bold}.tree, .axis {font-size: 14px; text-anchor:middle}.edge {stroke: black; fill: none}.node > .sym {fill: black; stroke: none}.tree text {dominant-baseline: middle}.tree .lab.lft {text-anchor: end}.tree .lab.rgt {text-anchor: start}.mut {fill: red; font-style: italic}]]></style></defs><g class=\"tree t0\"><g class=\"node n10 p0 root\" transform=\"translate(87.1429 30.0)\"><g class=\"a10 m1 m2 m3 m4 m6 m8 node n6 p0 s1 s2 s3 s4 s6 s8\" transform=\"translate(-38.5714 138.191)\"><g class=\"a6 leaf node n0 p0 sample\" transform=\"translate(-12.8571 1.80946)\"><path class=\"edge\" d=\"M 0 0 V -1.80946 H 12.8571\"/><circle class=\"sym\" cx=\"0\" cy=\"0\" r=\"3\"/><text class=\"lab\" transform=\"translate(0 12)\">0</text></g><g class=\"a6 leaf node n4 p0 sample\" transform=\"translate(12.8571 1.80946)\"><path class=\"edge\" d=\"M 0 0 V -1.80946 H -12.8571\"/><circle class=\"sym\" cx=\"0\" cy=\"0\" r=\"3\"/><text class=\"lab\" transform=\"translate(0 12)\">4</text></g><path class=\"edge\" d=\"M 0 0 V -138.191 H 38.5714\"/><circle class=\"sym\" cx=\"0\" cy=\"0\" r=\"3\"/><text class=\"lab lft\" transform=\"translate(-3 -6)\">6</text><g class=\"mut m8 s8\" transform=\"translate(0 -19.7415)\"><rect class=\"sym\" height=\"6\" transform=\"translate(-3 -3)\" width=\"6\" x=\"0\" y=\"0\"/><text class=\"lab lft\" transform=\"translate(-5 0)\">8</text></g><g class=\"mut m6 s6\" transform=\"translate(0 -39.483)\"><rect class=\"sym\" height=\"6\" transform=\"translate(-3 -3)\" width=\"6\" x=\"0\" y=\"0\"/><text class=\"lab lft\" transform=\"translate(-5 0)\">6</text></g><g class=\"mut m4 s4\" transform=\"translate(0 -59.2245)\"><rect class=\"sym\" height=\"6\" transform=\"translate(-3 -3)\" width=\"6\" x=\"0\" y=\"0\"/><text class=\"lab lft\" transform=\"translate(-5 0)\">4</text></g><g class=\"mut m3 s3\" transform=\"translate(0 -78.966)\"><rect class=\"sym\" height=\"6\" transform=\"translate(-3 -3)\" width=\"6\" x=\"0\" y=\"0\"/><text class=\"lab lft\" transform=\"translate(-5 0)\">3</text></g><g class=\"mut m2 s2\" transform=\"translate(0 -98.7075)\"><rect class=\"sym\" height=\"6\" transform=\"translate(-3 -3)\" width=\"6\" x=\"0\" y=\"0\"/><text class=\"lab lft\" transform=\"translate(-5 0)\">2</text></g><g class=\"mut m1 s1\" transform=\"translate(0 -118.449)\"><rect class=\"sym\" height=\"6\" transform=\"translate(-3 -3)\" width=\"6\" x=\"0\" y=\"0\"/><text class=\"lab lft\" transform=\"translate(-5 0)\">1</text></g></g><g class=\"a10 m0 m5 m7 node n9 p0 s0 s5 s7\" transform=\"translate(38.5714 126.03)\"><g class=\"a9 node n7 p0\" transform=\"translate(25.7143 11.514)\"><g class=\"a7 leaf node n2 p0 sample\" transform=\"translate(-12.8571 2.45627)\"><path class=\"edge\" d=\"M 0 0 V -2.45627 H 12.8571\"/><circle class=\"sym\" cx=\"0\" cy=\"0\" r=\"3\"/><text class=\"lab\" transform=\"translate(0 12)\">2</text></g><g class=\"a7 leaf node n5 p0 sample\" transform=\"translate(12.8571 2.45627)\"><path class=\"edge\" d=\"M 0 0 V -2.45627 H -12.8571\"/><circle class=\"sym\" cx=\"0\" cy=\"0\" r=\"3\"/><text class=\"lab\" transform=\"translate(0 12)\">5</text></g><path class=\"edge\" d=\"M 0 0 V -11.514 H -25.7143\"/><circle class=\"sym\" cx=\"0\" cy=\"0\" r=\"3\"/><text class=\"lab rgt\" transform=\"translate(3 -6)\">7</text></g><g class=\"a9 node n8 p0\" transform=\"translate(-25.7143 10.7316)\"><g class=\"a8 leaf node n1 p0 sample\" transform=\"translate(-12.8571 3.23869)\"><path class=\"edge\" d=\"M 0 0 V -3.23869 H 12.8571\"/><circle class=\"sym\" cx=\"0\" cy=\"0\" r=\"3\"/><text class=\"lab\" transform=\"translate(0 12)\">1</text></g><g class=\"a8 leaf node n3 p0 sample\" transform=\"translate(12.8571 3.23869)\"><path class=\"edge\" d=\"M 0 0 V -3.23869 H -12.8571\"/><circle class=\"sym\" cx=\"0\" cy=\"0\" r=\"3\"/><text class=\"lab\" transform=\"translate(0 12)\">3</text></g><path class=\"edge\" d=\"M 0 0 V -10.7316 H 25.7143\"/><circle class=\"sym\" cx=\"0\" cy=\"0\" r=\"3\"/><text class=\"lab lft\" transform=\"translate(-3 -6)\">8</text></g><path class=\"edge\" d=\"M 0 0 V -126.03 H -38.5714\"/><circle class=\"sym\" cx=\"0\" cy=\"0\" r=\"3\"/><text class=\"lab rgt\" transform=\"translate(3 -6)\">9</text><g class=\"mut m7 s7\" transform=\"translate(0 -31.5074)\"><rect class=\"sym\" height=\"6\" transform=\"translate(-3 -3)\" width=\"6\" x=\"0\" y=\"0\"/><text class=\"lab rgt\" transform=\"translate(5 0)\">7</text></g><g class=\"mut m5 s5\" transform=\"translate(0 -63.0148)\"><rect class=\"sym\" height=\"6\" transform=\"translate(-3 -3)\" width=\"6\" x=\"0\" y=\"0\"/><text class=\"lab rgt\" transform=\"translate(5 0)\">5</text></g><g class=\"mut m0 s0\" transform=\"translate(0 -94.5223)\"><rect class=\"sym\" height=\"6\" transform=\"translate(-3 -3)\" width=\"6\" x=\"0\" y=\"0\"/><text class=\"lab rgt\" transform=\"translate(5 0)\">0</text></g></g><circle class=\"sym\" cx=\"0\" cy=\"0\" r=\"3\"/><text class=\"lab\" transform=\"translate(0 -10)\">10</text></g></g></svg>"
      ],
      "text/plain": [
       "<IPython.core.display.SVG object>"
      ]
     },
     "metadata": {},
     "output_type": "display_data"
    }
   ],
   "source": [
    "from IPython.core.display import SVG\n",
    "display(SVG(tree.draw_svg()))"
   ]
  },
  {
   "cell_type": "markdown",
   "metadata": {},
   "source": [
    "The leaves correspond to sequences that we observe. Here, sequences 0 and 4 will share 6 mutations (1,2,3,4,6, and 8), whereas sequences 1,2,3, and 5 share three mutations (0, 5, and 7)."
   ]
  },
  {
   "cell_type": "markdown",
   "metadata": {},
   "source": [
    "Now we combine mutation and recombination and plot the entire tree sequence, as a final visualization of the simulated data:"
   ]
  },
  {
   "cell_type": "code",
   "execution_count": 14,
   "metadata": {},
   "outputs": [
    {
     "data": {
      "image/svg+xml": [
       "<svg xmlns=\"http://www.w3.org/2000/svg\" xmlns:ev=\"http://www.w3.org/2001/xml-events\" xmlns:xlink=\"http://www.w3.org/1999/xlink\" baseProfile=\"full\" height=\"200\" version=\"1.1\" width=\"2000\"><defs><style type=\"text/css\"><![CDATA[.axis {font-weight: bold}.tree, .axis {font-size: 14px; text-anchor:middle}.edge {stroke: black; fill: none}.node > .sym {fill: black; stroke: none}.tree text {dominant-baseline: middle}.tree .lab.lft {text-anchor: end}.tree .lab.rgt {text-anchor: start}.mut {fill: red; font-style: italic}]]></style></defs><g class=\"tree-sequence\"><g class=\"background\"><polygon fill=\"#F1F1F1\" points=\"20,185 20,180 20,160 20,0 216.0,0 216.0,160 288.189,180 288.189,185\"/><polygon fill=\"#F1F1F1\" points=\"471.156,185 471.156,180 412.0,160 412.0,0 608.0,0 608.0,160 511.074,180 511.074,185\"/><polygon fill=\"#F1F1F1\" points=\"600.136,185 600.136,180 804.0,160 804.0,0 1000.0,0 1000.0,160 671.105,180 671.105,185\"/><polygon fill=\"#F1F1F1\" points=\"1082.81,185 1082.81,180 1196.0,160 1196.0,0 1392.0,0 1392.0,160 1186.36,180 1186.36,185\"/><polygon fill=\"#F1F1F1\" points=\"1671.16,185 1671.16,180 1588.0,160 1588.0,0 1784.0,0 1784.0,160 1952.5,180 1952.5,185\"/></g><g class=\"trees\"><g class=\"treebox t0\" transform=\"translate(20 30)\"><g class=\"tree t0\"><g class=\"node n17 p0 root\" transform=\"translate(98.0 30.0)\"><g class=\"a17 m1 m2 node n9 p0 s1 s2\" transform=\"translate(-44.0 61.8962)\"><g class=\"a9 leaf node n0 p0 sample\" transform=\"translate(-18.8571 18.1038)\"><path class=\"edge\" d=\"M 0 0 V -18.1038 H 18.8571\"/><circle class=\"sym\" cx=\"0\" cy=\"0\" r=\"3\"/><text class=\"lab\" transform=\"translate(0 12)\">0</text></g><g class=\"a9 node n8 p0\" transform=\"translate(18.8571 3.93851)\"><g class=\"a8 leaf node n1 p0 sample\" transform=\"translate(-12.5714 14.1653)\"><path class=\"edge\" d=\"M 0 0 V -14.1653 H 12.5714\"/><circle class=\"sym\" cx=\"0\" cy=\"0\" r=\"3\"/><text class=\"lab\" transform=\"translate(0 12)\">1</text></g><g class=\"a8 leaf node n3 p0 sample\" transform=\"translate(12.5714 14.1653)\"><path class=\"edge\" d=\"M 0 0 V -14.1653 H -12.5714\"/><circle class=\"sym\" cx=\"0\" cy=\"0\" r=\"3\"/><text class=\"lab\" transform=\"translate(0 12)\">3</text></g><path class=\"edge\" d=\"M 0 0 V -3.93851 H -18.8571\"/><circle class=\"sym\" cx=\"0\" cy=\"0\" r=\"3\"/><text class=\"lab rgt\" transform=\"translate(3 -6)\">8</text></g><path class=\"edge\" d=\"M 0 0 V -61.8962 H 44.0\"/><circle class=\"sym\" cx=\"0\" cy=\"0\" r=\"3\"/><text class=\"lab lft\" transform=\"translate(-3 -6)\">9</text><g class=\"mut m2 s2\" transform=\"translate(0 -20.6321)\"><rect class=\"sym\" height=\"6\" transform=\"translate(-3 -3)\" width=\"6\" x=\"0\" y=\"0\"/><text class=\"lab lft\" transform=\"translate(-5 0)\">2</text></g><g class=\"mut m1 s1\" transform=\"translate(0 -41.2642)\"><rect class=\"sym\" height=\"6\" transform=\"translate(-3 -3)\" width=\"6\" x=\"0\" y=\"0\"/><text class=\"lab lft\" transform=\"translate(-5 0)\">1</text></g></g><g class=\"a17 m0 node n10 p0 s0\" transform=\"translate(44.0 53.5184)\"><g class=\"a10 leaf node n5 p0 sample\" transform=\"translate(18.8571 26.4816)\"><path class=\"edge\" d=\"M 0 0 V -26.4816 H -18.8571\"/><circle class=\"sym\" cx=\"0\" cy=\"0\" r=\"3\"/><text class=\"lab\" transform=\"translate(0 12)\">5</text></g><g class=\"a10 node n6 p0\" transform=\"translate(-18.8571 22.36)\"><g class=\"a6 leaf node n2 p0 sample\" transform=\"translate(-12.5714 4.12158)\"><path class=\"edge\" d=\"M 0 0 V -4.12158 H 12.5714\"/><circle class=\"sym\" cx=\"0\" cy=\"0\" r=\"3\"/><text class=\"lab\" transform=\"translate(0 12)\">2</text></g><g class=\"a6 leaf node n4 p0 sample\" transform=\"translate(12.5714 4.12158)\"><path class=\"edge\" d=\"M 0 0 V -4.12158 H -12.5714\"/><circle class=\"sym\" cx=\"0\" cy=\"0\" r=\"3\"/><text class=\"lab\" transform=\"translate(0 12)\">4</text></g><path class=\"edge\" d=\"M 0 0 V -22.36 H 18.8571\"/><circle class=\"sym\" cx=\"0\" cy=\"0\" r=\"3\"/><text class=\"lab lft\" transform=\"translate(-3 -6)\">6</text></g><path class=\"edge\" d=\"M 0 0 V -53.5184 H -44.0\"/><circle class=\"sym\" cx=\"0\" cy=\"0\" r=\"3\"/><text class=\"lab rgt\" transform=\"translate(3 -6)\">10</text><g class=\"mut m0 s0\" transform=\"translate(0 -26.7592)\"><rect class=\"sym\" height=\"6\" transform=\"translate(-3 -3)\" width=\"6\" x=\"0\" y=\"0\"/><text class=\"lab rgt\" transform=\"translate(5 0)\">0</text></g></g><circle class=\"sym\" cx=\"0\" cy=\"0\" r=\"3\"/><text class=\"lab\" transform=\"translate(0 -10)\">17</text></g></g></g><g class=\"treebox t1\" transform=\"translate(216.0 30)\"><g class=\"tree t1\"><g class=\"node n17 p0 root\" transform=\"translate(80.7143 30.0)\"><g class=\"a17 m6 node n9 p0 s6\" transform=\"translate(-33.0 61.8962)\"><g class=\"a9 leaf node n0 p0 sample\" transform=\"translate(-12.5714 18.1038)\"><path class=\"edge\" d=\"M 0 0 V -18.1038 H 12.5714\"/><circle class=\"sym\" cx=\"0\" cy=\"0\" r=\"3\"/><text class=\"lab\" transform=\"translate(0 12)\">0</text></g><g class=\"a9 leaf node n3 p0 sample\" transform=\"translate(12.5714 18.1038)\"><path class=\"edge\" d=\"M 0 0 V -18.1038 H -12.5714\"/><circle class=\"sym\" cx=\"0\" cy=\"0\" r=\"3\"/><text class=\"lab\" transform=\"translate(0 12)\">3</text></g><path class=\"edge\" d=\"M 0 0 V -61.8962 H 33.0\"/><circle class=\"sym\" cx=\"0\" cy=\"0\" r=\"3\"/><text class=\"lab lft\" transform=\"translate(-3 -6)\">9</text><g class=\"mut m6 s6\" transform=\"translate(0 -30.9481)\"><rect class=\"sym\" height=\"6\" transform=\"translate(-3 -3)\" width=\"6\" x=\"0\" y=\"0\"/><text class=\"lab lft\" transform=\"translate(-5 0)\">6</text></g></g><g class=\"a17 m3 node n11 p0 s3\" transform=\"translate(33.0 52.1848)\"><g class=\"a11 leaf m5 node n1 p0 s5 sample\" transform=\"translate(-28.2857 27.8152)\"><path class=\"edge\" d=\"M 0 0 V -27.8152 H 28.2857\"/><circle class=\"sym\" cx=\"0\" cy=\"0\" r=\"3\"/><text class=\"lab\" transform=\"translate(0 12)\">1</text><g class=\"mut m5 s5\" transform=\"translate(0 -13.9076)\"><rect class=\"sym\" height=\"6\" transform=\"translate(-3 -3)\" width=\"6\" x=\"0\" y=\"0\"/><text class=\"lab lft\" transform=\"translate(-5 0)\">5</text></g></g><g class=\"a11 node n10 p0\" transform=\"translate(28.2857 1.33361)\"><g class=\"a10 leaf m4 node n5 p0 s4 sample\" transform=\"translate(18.8571 26.4816)\"><path class=\"edge\" d=\"M 0 0 V -26.4816 H -18.8571\"/><circle class=\"sym\" cx=\"0\" cy=\"0\" r=\"3\"/><text class=\"lab\" transform=\"translate(0 12)\">5</text><g class=\"mut m4 s4\" transform=\"translate(0 -13.2408)\"><rect class=\"sym\" height=\"6\" transform=\"translate(-3 -3)\" width=\"6\" x=\"0\" y=\"0\"/><text class=\"lab rgt\" transform=\"translate(5 0)\">4</text></g></g><g class=\"a10 node n6 p0\" transform=\"translate(-18.8571 22.36)\"><g class=\"a6 leaf node n2 p0 sample\" transform=\"translate(-12.5714 4.12158)\"><path class=\"edge\" d=\"M 0 0 V -4.12158 H 12.5714\"/><circle class=\"sym\" cx=\"0\" cy=\"0\" r=\"3\"/><text class=\"lab\" transform=\"translate(0 12)\">2</text></g><g class=\"a6 leaf node n4 p0 sample\" transform=\"translate(12.5714 4.12158)\"><path class=\"edge\" d=\"M 0 0 V -4.12158 H -12.5714\"/><circle class=\"sym\" cx=\"0\" cy=\"0\" r=\"3\"/><text class=\"lab\" transform=\"translate(0 12)\">4</text></g><path class=\"edge\" d=\"M 0 0 V -22.36 H 18.8571\"/><circle class=\"sym\" cx=\"0\" cy=\"0\" r=\"3\"/><text class=\"lab lft\" transform=\"translate(-3 -6)\">6</text></g><path class=\"edge\" d=\"M 0 0 V -1.33361 H -28.2857\"/><circle class=\"sym\" cx=\"0\" cy=\"0\" r=\"3\"/><text class=\"lab rgt\" transform=\"translate(3 -6)\">10</text></g><path class=\"edge\" d=\"M 0 0 V -52.1848 H -33.0\"/><circle class=\"sym\" cx=\"0\" cy=\"0\" r=\"3\"/><text class=\"lab rgt\" transform=\"translate(3 -6)\">11</text><g class=\"mut m3 s3\" transform=\"translate(0 -26.0924)\"><rect class=\"sym\" height=\"6\" transform=\"translate(-3 -3)\" width=\"6\" x=\"0\" y=\"0\"/><text class=\"lab rgt\" transform=\"translate(5 0)\">3</text></g></g><circle class=\"sym\" cx=\"0\" cy=\"0\" r=\"3\"/><text class=\"lab\" transform=\"translate(0 -10)\">17</text></g></g></g><g class=\"treebox t2\" transform=\"translate(412.0 30)\"><g class=\"tree t2\"><g class=\"node n17 p0 root\" transform=\"translate(85.4286 30.0)\"><g class=\"a17 node n9 p0\" transform=\"translate(-37.7143 61.8962)\"><g class=\"a9 leaf node n0 p0 sample\" transform=\"translate(-12.5714 18.1038)\"><path class=\"edge\" d=\"M 0 0 V -18.1038 H 12.5714\"/><circle class=\"sym\" cx=\"0\" cy=\"0\" r=\"3\"/><text class=\"lab\" transform=\"translate(0 12)\">0</text></g><g class=\"a9 leaf node n3 p0 sample\" transform=\"translate(12.5714 18.1038)\"><path class=\"edge\" d=\"M 0 0 V -18.1038 H -12.5714\"/><circle class=\"sym\" cx=\"0\" cy=\"0\" r=\"3\"/><text class=\"lab\" transform=\"translate(0 12)\">3</text></g><path class=\"edge\" d=\"M 0 0 V -61.8962 H 37.7143\"/><circle class=\"sym\" cx=\"0\" cy=\"0\" r=\"3\"/><text class=\"lab lft\" transform=\"translate(-3 -6)\">9</text></g><g class=\"a17 m7 node n10 p0 s7\" transform=\"translate(37.7143 53.5184)\"><g class=\"a10 node n6 p0\" transform=\"translate(25.1429 22.36)\"><g class=\"a6 leaf node n2 p0 sample\" transform=\"translate(-12.5714 4.12158)\"><path class=\"edge\" d=\"M 0 0 V -4.12158 H 12.5714\"/><circle class=\"sym\" cx=\"0\" cy=\"0\" r=\"3\"/><text class=\"lab\" transform=\"translate(0 12)\">2</text></g><g class=\"a6 leaf node n4 p0 sample\" transform=\"translate(12.5714 4.12158)\"><path class=\"edge\" d=\"M 0 0 V -4.12158 H -12.5714\"/><circle class=\"sym\" cx=\"0\" cy=\"0\" r=\"3\"/><text class=\"lab\" transform=\"translate(0 12)\">4</text></g><path class=\"edge\" d=\"M 0 0 V -22.36 H -25.1429\"/><circle class=\"sym\" cx=\"0\" cy=\"0\" r=\"3\"/><text class=\"lab rgt\" transform=\"translate(3 -6)\">6</text></g><g class=\"a10 m8 node n7 p0 s8\" transform=\"translate(-25.1429 21.8823)\"><g class=\"a7 leaf node n1 p0 sample\" transform=\"translate(-12.5714 4.59922)\"><path class=\"edge\" d=\"M 0 0 V -4.59922 H 12.5714\"/><circle class=\"sym\" cx=\"0\" cy=\"0\" r=\"3\"/><text class=\"lab\" transform=\"translate(0 12)\">1</text></g><g class=\"a7 leaf node n5 p0 sample\" transform=\"translate(12.5714 4.59922)\"><path class=\"edge\" d=\"M 0 0 V -4.59922 H -12.5714\"/><circle class=\"sym\" cx=\"0\" cy=\"0\" r=\"3\"/><text class=\"lab\" transform=\"translate(0 12)\">5</text></g><path class=\"edge\" d=\"M 0 0 V -21.8823 H 25.1429\"/><circle class=\"sym\" cx=\"0\" cy=\"0\" r=\"3\"/><text class=\"lab lft\" transform=\"translate(-3 -6)\">7</text><g class=\"mut m8 s8\" transform=\"translate(0 -10.9412)\"><rect class=\"sym\" height=\"6\" transform=\"translate(-3 -3)\" width=\"6\" x=\"0\" y=\"0\"/><text class=\"lab lft\" transform=\"translate(-5 0)\">8</text></g></g><path class=\"edge\" d=\"M 0 0 V -53.5184 H -37.7143\"/><circle class=\"sym\" cx=\"0\" cy=\"0\" r=\"3\"/><text class=\"lab rgt\" transform=\"translate(3 -6)\">10</text><g class=\"mut m7 s7\" transform=\"translate(0 -26.7592)\"><rect class=\"sym\" height=\"6\" transform=\"translate(-3 -3)\" width=\"6\" x=\"0\" y=\"0\"/><text class=\"lab rgt\" transform=\"translate(5 0)\">7</text></g></g><circle class=\"sym\" cx=\"0\" cy=\"0\" r=\"3\"/><text class=\"lab\" transform=\"translate(0 -10)\">17</text></g></g></g><g class=\"treebox t3\" transform=\"translate(608.0 30)\"><g class=\"tree t3\"><g class=\"node n17 p0 root\" transform=\"translate(85.4286 30.0)\"><g class=\"a17 m10 m9 node n9 p0 s10 s9\" transform=\"translate(-37.7143 61.8962)\"><g class=\"a9 leaf node n0 p0 sample\" transform=\"translate(-12.5714 18.1038)\"><path class=\"edge\" d=\"M 0 0 V -18.1038 H 12.5714\"/><circle class=\"sym\" cx=\"0\" cy=\"0\" r=\"3\"/><text class=\"lab\" transform=\"translate(0 12)\">0</text></g><g class=\"a9 leaf node n3 p0 sample\" transform=\"translate(12.5714 18.1038)\"><path class=\"edge\" d=\"M 0 0 V -18.1038 H -12.5714\"/><circle class=\"sym\" cx=\"0\" cy=\"0\" r=\"3\"/><text class=\"lab\" transform=\"translate(0 12)\">3</text></g><path class=\"edge\" d=\"M 0 0 V -61.8962 H 37.7143\"/><circle class=\"sym\" cx=\"0\" cy=\"0\" r=\"3\"/><text class=\"lab lft\" transform=\"translate(-3 -6)\">9</text><g class=\"mut m10 s10\" transform=\"translate(0 -20.6321)\"><rect class=\"sym\" height=\"6\" transform=\"translate(-3 -3)\" width=\"6\" x=\"0\" y=\"0\"/><text class=\"lab lft\" transform=\"translate(-5 0)\">10</text></g><g class=\"mut m9 s9\" transform=\"translate(0 -41.2642)\"><rect class=\"sym\" height=\"6\" transform=\"translate(-3 -3)\" width=\"6\" x=\"0\" y=\"0\"/><text class=\"lab lft\" transform=\"translate(-5 0)\">9</text></g></g><g class=\"a17 node n11 p0\" transform=\"translate(37.7143 52.1848)\"><g class=\"a11 node n6 p0\" transform=\"translate(25.1429 23.6936)\"><g class=\"a6 leaf node n2 p0 sample\" transform=\"translate(-12.5714 4.12158)\"><path class=\"edge\" d=\"M 0 0 V -4.12158 H 12.5714\"/><circle class=\"sym\" cx=\"0\" cy=\"0\" r=\"3\"/><text class=\"lab\" transform=\"translate(0 12)\">2</text></g><g class=\"a6 leaf node n4 p0 sample\" transform=\"translate(12.5714 4.12158)\"><path class=\"edge\" d=\"M 0 0 V -4.12158 H -12.5714\"/><circle class=\"sym\" cx=\"0\" cy=\"0\" r=\"3\"/><text class=\"lab\" transform=\"translate(0 12)\">4</text></g><path class=\"edge\" d=\"M 0 0 V -23.6936 H -25.1429\"/><circle class=\"sym\" cx=\"0\" cy=\"0\" r=\"3\"/><text class=\"lab rgt\" transform=\"translate(3 -6)\">6</text></g><g class=\"a11 node n7 p0\" transform=\"translate(-25.1429 23.216)\"><g class=\"a7 leaf node n1 p0 sample\" transform=\"translate(-12.5714 4.59922)\"><path class=\"edge\" d=\"M 0 0 V -4.59922 H 12.5714\"/><circle class=\"sym\" cx=\"0\" cy=\"0\" r=\"3\"/><text class=\"lab\" transform=\"translate(0 12)\">1</text></g><g class=\"a7 leaf node n5 p0 sample\" transform=\"translate(12.5714 4.59922)\"><path class=\"edge\" d=\"M 0 0 V -4.59922 H -12.5714\"/><circle class=\"sym\" cx=\"0\" cy=\"0\" r=\"3\"/><text class=\"lab\" transform=\"translate(0 12)\">5</text></g><path class=\"edge\" d=\"M 0 0 V -23.216 H 25.1429\"/><circle class=\"sym\" cx=\"0\" cy=\"0\" r=\"3\"/><text class=\"lab lft\" transform=\"translate(-3 -6)\">7</text></g><path class=\"edge\" d=\"M 0 0 V -52.1848 H -37.7143\"/><circle class=\"sym\" cx=\"0\" cy=\"0\" r=\"3\"/><text class=\"lab rgt\" transform=\"translate(3 -6)\">11</text></g><circle class=\"sym\" cx=\"0\" cy=\"0\" r=\"3\"/><text class=\"lab\" transform=\"translate(0 -10)\">17</text></g></g></g><g class=\"treebox t4\" transform=\"translate(804.0 30)\"><g class=\"tree t4\"><g class=\"node n14 p0 root\" transform=\"translate(85.4286 53.6704)\"><g class=\"a14 node n9 p0\" transform=\"translate(-37.7143 38.2258)\"><g class=\"a9 leaf node n0 p0 sample\" transform=\"translate(-12.5714 18.1038)\"><path class=\"edge\" d=\"M 0 0 V -18.1038 H 12.5714\"/><circle class=\"sym\" cx=\"0\" cy=\"0\" r=\"3\"/><text class=\"lab\" transform=\"translate(0 12)\">0</text></g><g class=\"a9 leaf node n3 p0 sample\" transform=\"translate(12.5714 18.1038)\"><path class=\"edge\" d=\"M 0 0 V -18.1038 H -12.5714\"/><circle class=\"sym\" cx=\"0\" cy=\"0\" r=\"3\"/><text class=\"lab\" transform=\"translate(0 12)\">3</text></g><path class=\"edge\" d=\"M 0 0 V -38.2258 H 37.7143\"/><circle class=\"sym\" cx=\"0\" cy=\"0\" r=\"3\"/><text class=\"lab lft\" transform=\"translate(-3 -6)\">9</text></g><g class=\"a14 node n11 p0\" transform=\"translate(37.7143 28.5144)\"><g class=\"a11 node n6 p0\" transform=\"translate(25.1429 23.6936)\"><g class=\"a6 leaf node n2 p0 sample\" transform=\"translate(-12.5714 4.12158)\"><path class=\"edge\" d=\"M 0 0 V -4.12158 H 12.5714\"/><circle class=\"sym\" cx=\"0\" cy=\"0\" r=\"3\"/><text class=\"lab\" transform=\"translate(0 12)\">2</text></g><g class=\"a6 leaf node n4 p0 sample\" transform=\"translate(12.5714 4.12158)\"><path class=\"edge\" d=\"M 0 0 V -4.12158 H -12.5714\"/><circle class=\"sym\" cx=\"0\" cy=\"0\" r=\"3\"/><text class=\"lab\" transform=\"translate(0 12)\">4</text></g><path class=\"edge\" d=\"M 0 0 V -23.6936 H -25.1429\"/><circle class=\"sym\" cx=\"0\" cy=\"0\" r=\"3\"/><text class=\"lab rgt\" transform=\"translate(3 -6)\">6</text></g><g class=\"a11 node n7 p0\" transform=\"translate(-25.1429 23.216)\"><g class=\"a7 leaf node n1 p0 sample\" transform=\"translate(-12.5714 4.59922)\"><path class=\"edge\" d=\"M 0 0 V -4.59922 H 12.5714\"/><circle class=\"sym\" cx=\"0\" cy=\"0\" r=\"3\"/><text class=\"lab\" transform=\"translate(0 12)\">1</text></g><g class=\"a7 leaf node n5 p0 sample\" transform=\"translate(12.5714 4.59922)\"><path class=\"edge\" d=\"M 0 0 V -4.59922 H -12.5714\"/><circle class=\"sym\" cx=\"0\" cy=\"0\" r=\"3\"/><text class=\"lab\" transform=\"translate(0 12)\">5</text></g><path class=\"edge\" d=\"M 0 0 V -23.216 H 25.1429\"/><circle class=\"sym\" cx=\"0\" cy=\"0\" r=\"3\"/><text class=\"lab lft\" transform=\"translate(-3 -6)\">7</text></g><path class=\"edge\" d=\"M 0 0 V -28.5144 H -37.7143\"/><circle class=\"sym\" cx=\"0\" cy=\"0\" r=\"3\"/><text class=\"lab rgt\" transform=\"translate(3 -6)\">11</text></g><circle class=\"sym\" cx=\"0\" cy=\"0\" r=\"3\"/><text class=\"lab\" transform=\"translate(0 -10)\">14</text></g></g></g><g class=\"treebox t5\" transform=\"translate(1000.0 30)\"><g class=\"tree t5\"><g class=\"node n17 p0 root\" transform=\"translate(118.429 30.0)\"><g class=\"a17 leaf m11 m12 node n5 p0 s11 s12 sample\" transform=\"translate(42.4286 80.0)\"><path class=\"edge\" d=\"M 0 0 V -80.0 H -42.4286\"/><circle class=\"sym\" cx=\"0\" cy=\"0\" r=\"3\"/><text class=\"lab\" transform=\"translate(0 12)\">5</text><g class=\"mut m12 s12\" transform=\"translate(0 -26.6667)\"><rect class=\"sym\" height=\"6\" transform=\"translate(-3 -3)\" width=\"6\" x=\"0\" y=\"0\"/><text class=\"lab rgt\" transform=\"translate(5 0)\">12</text></g><g class=\"mut m11 s11\" transform=\"translate(0 -53.3333)\"><rect class=\"sym\" height=\"6\" transform=\"translate(-3 -3)\" width=\"6\" x=\"0\" y=\"0\"/><text class=\"lab rgt\" transform=\"translate(5 0)\">11</text></g></g><g class=\"a17 node n14 p0\" transform=\"translate(-42.4286 23.6704)\"><g class=\"a14 node n9 p0\" transform=\"translate(-28.2857 38.2258)\"><g class=\"a9 leaf node n0 p0 sample\" transform=\"translate(-12.5714 18.1038)\"><path class=\"edge\" d=\"M 0 0 V -18.1038 H 12.5714\"/><circle class=\"sym\" cx=\"0\" cy=\"0\" r=\"3\"/><text class=\"lab\" transform=\"translate(0 12)\">0</text></g><g class=\"a9 leaf node n3 p0 sample\" transform=\"translate(12.5714 18.1038)\"><path class=\"edge\" d=\"M 0 0 V -18.1038 H -12.5714\"/><circle class=\"sym\" cx=\"0\" cy=\"0\" r=\"3\"/><text class=\"lab\" transform=\"translate(0 12)\">3</text></g><path class=\"edge\" d=\"M 0 0 V -38.2258 H 28.2857\"/><circle class=\"sym\" cx=\"0\" cy=\"0\" r=\"3\"/><text class=\"lab lft\" transform=\"translate(-3 -6)\">9</text></g><g class=\"a14 m13 node n11 p0 s13\" transform=\"translate(28.2857 28.5144)\"><g class=\"a11 node n6 p0\" transform=\"translate(18.8571 23.6936)\"><g class=\"a6 leaf node n2 p0 sample\" transform=\"translate(-12.5714 4.12158)\"><path class=\"edge\" d=\"M 0 0 V -4.12158 H 12.5714\"/><circle class=\"sym\" cx=\"0\" cy=\"0\" r=\"3\"/><text class=\"lab\" transform=\"translate(0 12)\">2</text></g><g class=\"a6 leaf node n4 p0 sample\" transform=\"translate(12.5714 4.12158)\"><path class=\"edge\" d=\"M 0 0 V -4.12158 H -12.5714\"/><circle class=\"sym\" cx=\"0\" cy=\"0\" r=\"3\"/><text class=\"lab\" transform=\"translate(0 12)\">4</text></g><path class=\"edge\" d=\"M 0 0 V -23.6936 H -18.8571\"/><circle class=\"sym\" cx=\"0\" cy=\"0\" r=\"3\"/><text class=\"lab rgt\" transform=\"translate(3 -6)\">6</text></g><g class=\"a11 leaf node n1 p0 sample\" transform=\"translate(-18.8571 27.8152)\"><path class=\"edge\" d=\"M 0 0 V -27.8152 H 18.8571\"/><circle class=\"sym\" cx=\"0\" cy=\"0\" r=\"3\"/><text class=\"lab\" transform=\"translate(0 12)\">1</text></g><path class=\"edge\" d=\"M 0 0 V -28.5144 H -28.2857\"/><circle class=\"sym\" cx=\"0\" cy=\"0\" r=\"3\"/><text class=\"lab rgt\" transform=\"translate(3 -6)\">11</text><g class=\"mut m13 s13\" transform=\"translate(0 -14.2572)\"><rect class=\"sym\" height=\"6\" transform=\"translate(-3 -3)\" width=\"6\" x=\"0\" y=\"0\"/><text class=\"lab rgt\" transform=\"translate(5 0)\">13</text></g></g><path class=\"edge\" d=\"M 0 0 V -23.6704 H 42.4286\"/><circle class=\"sym\" cx=\"0\" cy=\"0\" r=\"3\"/><text class=\"lab lft\" transform=\"translate(-3 -6)\">14</text></g><circle class=\"sym\" cx=\"0\" cy=\"0\" r=\"3\"/><text class=\"lab\" transform=\"translate(0 -10)\">17</text></g></g></g><g class=\"treebox t6\" transform=\"translate(1196.0 30)\"><g class=\"tree t6\"><g class=\"node n17 p0 root\" transform=\"translate(90.1429 30.0)\"><g class=\"a17 node n14 p0\" transform=\"translate(42.4286 23.6704)\"><g class=\"a14 node n11 p0\" transform=\"translate(-28.2857 28.5144)\"><g class=\"a11 node n6 p0\" transform=\"translate(18.8571 23.6936)\"><g class=\"a6 leaf node n2 p0 sample\" transform=\"translate(-12.5714 4.12158)\"><path class=\"edge\" d=\"M 0 0 V -4.12158 H 12.5714\"/><circle class=\"sym\" cx=\"0\" cy=\"0\" r=\"3\"/><text class=\"lab\" transform=\"translate(0 12)\">2</text></g><g class=\"a6 leaf node n4 p0 sample\" transform=\"translate(12.5714 4.12158)\"><path class=\"edge\" d=\"M 0 0 V -4.12158 H -12.5714\"/><circle class=\"sym\" cx=\"0\" cy=\"0\" r=\"3\"/><text class=\"lab\" transform=\"translate(0 12)\">4</text></g><path class=\"edge\" d=\"M 0 0 V -23.6936 H -18.8571\"/><circle class=\"sym\" cx=\"0\" cy=\"0\" r=\"3\"/><text class=\"lab rgt\" transform=\"translate(3 -6)\">6</text></g><g class=\"a11 leaf node n1 p0 sample\" transform=\"translate(-18.8571 27.8152)\"><path class=\"edge\" d=\"M 0 0 V -27.8152 H 18.8571\"/><circle class=\"sym\" cx=\"0\" cy=\"0\" r=\"3\"/><text class=\"lab\" transform=\"translate(0 12)\">1</text></g><path class=\"edge\" d=\"M 0 0 V -28.5144 H 28.2857\"/><circle class=\"sym\" cx=\"0\" cy=\"0\" r=\"3\"/><text class=\"lab lft\" transform=\"translate(-3 -6)\">11</text></g><g class=\"a14 leaf node n3 p0 sample\" transform=\"translate(28.2857 56.3296)\"><path class=\"edge\" d=\"M 0 0 V -56.3296 H -28.2857\"/><circle class=\"sym\" cx=\"0\" cy=\"0\" r=\"3\"/><text class=\"lab\" transform=\"translate(0 12)\">3</text></g><path class=\"edge\" d=\"M 0 0 V -23.6704 H -42.4286\"/><circle class=\"sym\" cx=\"0\" cy=\"0\" r=\"3\"/><text class=\"lab rgt\" transform=\"translate(3 -6)\">14</text></g><g class=\"a17 node n12 p0\" transform=\"translate(-42.4286 41.0335)\"><g class=\"a12 leaf node n0 p0 sample\" transform=\"translate(-12.5714 38.9665)\"><path class=\"edge\" d=\"M 0 0 V -38.9665 H 12.5714\"/><circle class=\"sym\" cx=\"0\" cy=\"0\" r=\"3\"/><text class=\"lab\" transform=\"translate(0 12)\">0</text></g><g class=\"a12 leaf node n5 p0 sample\" transform=\"translate(12.5714 38.9665)\"><path class=\"edge\" d=\"M 0 0 V -38.9665 H -12.5714\"/><circle class=\"sym\" cx=\"0\" cy=\"0\" r=\"3\"/><text class=\"lab\" transform=\"translate(0 12)\">5</text></g><path class=\"edge\" d=\"M 0 0 V -41.0335 H 42.4286\"/><circle class=\"sym\" cx=\"0\" cy=\"0\" r=\"3\"/><text class=\"lab lft\" transform=\"translate(-3 -6)\">12</text></g><circle class=\"sym\" cx=\"0\" cy=\"0\" r=\"3\"/><text class=\"lab\" transform=\"translate(0 -10)\">17</text></g></g></g><g class=\"treebox t7\" transform=\"translate(1392.0 30)\"><g class=\"tree t7\"><g class=\"node n17 p0 root\" transform=\"translate(90.1429 30.0)\"><g class=\"a17 m16 m19 m22 node n12 p0 s16 s19 s22\" transform=\"translate(-42.4286 41.0335)\"><g class=\"a12 leaf m18 m21 node n0 p0 s18 s21 sample\" transform=\"translate(-12.5714 38.9665)\"><path class=\"edge\" d=\"M 0 0 V -38.9665 H 12.5714\"/><circle class=\"sym\" cx=\"0\" cy=\"0\" r=\"3\"/><text class=\"lab\" transform=\"translate(0 12)\">0</text><g class=\"mut m21 s21\" transform=\"translate(0 -12.9888)\"><rect class=\"sym\" height=\"6\" transform=\"translate(-3 -3)\" width=\"6\" x=\"0\" y=\"0\"/><text class=\"lab lft\" transform=\"translate(-5 0)\">21</text></g><g class=\"mut m18 s18\" transform=\"translate(0 -25.9777)\"><rect class=\"sym\" height=\"6\" transform=\"translate(-3 -3)\" width=\"6\" x=\"0\" y=\"0\"/><text class=\"lab lft\" transform=\"translate(-5 0)\">18</text></g></g><g class=\"a12 leaf node n5 p0 sample\" transform=\"translate(12.5714 38.9665)\"><path class=\"edge\" d=\"M 0 0 V -38.9665 H -12.5714\"/><circle class=\"sym\" cx=\"0\" cy=\"0\" r=\"3\"/><text class=\"lab\" transform=\"translate(0 12)\">5</text></g><path class=\"edge\" d=\"M 0 0 V -41.0335 H 42.4286\"/><circle class=\"sym\" cx=\"0\" cy=\"0\" r=\"3\"/><text class=\"lab lft\" transform=\"translate(-3 -6)\">12</text><g class=\"mut m22 s22\" transform=\"translate(0 -10.2584)\"><rect class=\"sym\" height=\"6\" transform=\"translate(-3 -3)\" width=\"6\" x=\"0\" y=\"0\"/><text class=\"lab lft\" transform=\"translate(-5 0)\">22</text></g><g class=\"mut m19 s19\" transform=\"translate(0 -20.5167)\"><rect class=\"sym\" height=\"6\" transform=\"translate(-3 -3)\" width=\"6\" x=\"0\" y=\"0\"/><text class=\"lab lft\" transform=\"translate(-5 0)\">19</text></g><g class=\"mut m16 s16\" transform=\"translate(0 -30.7751)\"><rect class=\"sym\" height=\"6\" transform=\"translate(-3 -3)\" width=\"6\" x=\"0\" y=\"0\"/><text class=\"lab lft\" transform=\"translate(-5 0)\">16</text></g></g><g class=\"a17 m15 node n13 p0 s15\" transform=\"translate(42.4286 26.5597)\"><g class=\"a13 leaf m14 node n3 p0 s14 sample\" transform=\"translate(28.2857 53.4403)\"><path class=\"edge\" d=\"M 0 0 V -53.4403 H -28.2857\"/><circle class=\"sym\" cx=\"0\" cy=\"0\" r=\"3\"/><text class=\"lab\" transform=\"translate(0 12)\">3</text><g class=\"mut m14 s14\" transform=\"translate(0 -26.7201)\"><rect class=\"sym\" height=\"6\" transform=\"translate(-3 -3)\" width=\"6\" x=\"0\" y=\"0\"/><text class=\"lab rgt\" transform=\"translate(5 0)\">14</text></g></g><g class=\"a13 node n11 p0\" transform=\"translate(-28.2857 25.6251)\"><g class=\"a11 node n6 p0\" transform=\"translate(18.8571 23.6936)\"><g class=\"a6 leaf m23 node n2 p0 s23 sample\" transform=\"translate(-12.5714 4.12158)\"><path class=\"edge\" d=\"M 0 0 V -4.12158 H 12.5714\"/><circle class=\"sym\" cx=\"0\" cy=\"0\" r=\"3\"/><text class=\"lab\" transform=\"translate(0 12)\">2</text><g class=\"mut m23 s23\" transform=\"translate(0 -2.06079)\"><rect class=\"sym\" height=\"6\" transform=\"translate(-3 -3)\" width=\"6\" x=\"0\" y=\"0\"/><text class=\"lab lft\" transform=\"translate(-5 0)\">23</text></g></g><g class=\"a6 leaf node n4 p0 sample\" transform=\"translate(12.5714 4.12158)\"><path class=\"edge\" d=\"M 0 0 V -4.12158 H -12.5714\"/><circle class=\"sym\" cx=\"0\" cy=\"0\" r=\"3\"/><text class=\"lab\" transform=\"translate(0 12)\">4</text></g><path class=\"edge\" d=\"M 0 0 V -23.6936 H -18.8571\"/><circle class=\"sym\" cx=\"0\" cy=\"0\" r=\"3\"/><text class=\"lab rgt\" transform=\"translate(3 -6)\">6</text></g><g class=\"a11 leaf m17 m20 node n1 p0 s17 s20 sample\" transform=\"translate(-18.8571 27.8152)\"><path class=\"edge\" d=\"M 0 0 V -27.8152 H 18.8571\"/><circle class=\"sym\" cx=\"0\" cy=\"0\" r=\"3\"/><text class=\"lab\" transform=\"translate(0 12)\">1</text><g class=\"mut m20 s20\" transform=\"translate(0 -9.27173)\"><rect class=\"sym\" height=\"6\" transform=\"translate(-3 -3)\" width=\"6\" x=\"0\" y=\"0\"/><text class=\"lab lft\" transform=\"translate(-5 0)\">20</text></g><g class=\"mut m17 s17\" transform=\"translate(0 -18.5435)\"><rect class=\"sym\" height=\"6\" transform=\"translate(-3 -3)\" width=\"6\" x=\"0\" y=\"0\"/><text class=\"lab lft\" transform=\"translate(-5 0)\">17</text></g></g><path class=\"edge\" d=\"M 0 0 V -25.6251 H 28.2857\"/><circle class=\"sym\" cx=\"0\" cy=\"0\" r=\"3\"/><text class=\"lab lft\" transform=\"translate(-3 -6)\">11</text></g><path class=\"edge\" d=\"M 0 0 V -26.5597 H -42.4286\"/><circle class=\"sym\" cx=\"0\" cy=\"0\" r=\"3\"/><text class=\"lab rgt\" transform=\"translate(3 -6)\">13</text><g class=\"mut m15 s15\" transform=\"translate(0 -13.2799)\"><rect class=\"sym\" height=\"6\" transform=\"translate(-3 -3)\" width=\"6\" x=\"0\" y=\"0\"/><text class=\"lab rgt\" transform=\"translate(5 0)\">15</text></g></g><circle class=\"sym\" cx=\"0\" cy=\"0\" r=\"3\"/><text class=\"lab\" transform=\"translate(0 -10)\">17</text></g></g></g><g class=\"treebox t8\" transform=\"translate(1588.0 30)\"><g class=\"tree t8\"><g class=\"node n15 p0 root\" transform=\"translate(90.1429 44.4264)\"><g class=\"a15 node n12 p0\" transform=\"translate(-42.4286 26.6071)\"><g class=\"a12 leaf node n0 p0 sample\" transform=\"translate(-12.5714 38.9665)\"><path class=\"edge\" d=\"M 0 0 V -38.9665 H 12.5714\"/><circle class=\"sym\" cx=\"0\" cy=\"0\" r=\"3\"/><text class=\"lab\" transform=\"translate(0 12)\">0</text></g><g class=\"a12 leaf node n5 p0 sample\" transform=\"translate(12.5714 38.9665)\"><path class=\"edge\" d=\"M 0 0 V -38.9665 H -12.5714\"/><circle class=\"sym\" cx=\"0\" cy=\"0\" r=\"3\"/><text class=\"lab\" transform=\"translate(0 12)\">5</text></g><path class=\"edge\" d=\"M 0 0 V -26.6071 H 42.4286\"/><circle class=\"sym\" cx=\"0\" cy=\"0\" r=\"3\"/><text class=\"lab lft\" transform=\"translate(-3 -6)\">12</text></g><g class=\"a15 m26 node n13 p0 s26\" transform=\"translate(42.4286 12.1334)\"><g class=\"a13 leaf m27 node n3 p0 s27 sample\" transform=\"translate(28.2857 53.4403)\"><path class=\"edge\" d=\"M 0 0 V -53.4403 H -28.2857\"/><circle class=\"sym\" cx=\"0\" cy=\"0\" r=\"3\"/><text class=\"lab\" transform=\"translate(0 12)\">3</text><g class=\"mut m27 s27\" transform=\"translate(0 -26.7201)\"><rect class=\"sym\" height=\"6\" transform=\"translate(-3 -3)\" width=\"6\" x=\"0\" y=\"0\"/><text class=\"lab rgt\" transform=\"translate(5 0)\">27</text></g></g><g class=\"a13 m25 node n11 p0 s25\" transform=\"translate(-28.2857 25.6251)\"><g class=\"a11 m24 node n6 p0 s24\" transform=\"translate(18.8571 23.6936)\"><g class=\"a6 leaf node n2 p0 sample\" transform=\"translate(-12.5714 4.12158)\"><path class=\"edge\" d=\"M 0 0 V -4.12158 H 12.5714\"/><circle class=\"sym\" cx=\"0\" cy=\"0\" r=\"3\"/><text class=\"lab\" transform=\"translate(0 12)\">2</text></g><g class=\"a6 leaf node n4 p0 sample\" transform=\"translate(12.5714 4.12158)\"><path class=\"edge\" d=\"M 0 0 V -4.12158 H -12.5714\"/><circle class=\"sym\" cx=\"0\" cy=\"0\" r=\"3\"/><text class=\"lab\" transform=\"translate(0 12)\">4</text></g><path class=\"edge\" d=\"M 0 0 V -23.6936 H -18.8571\"/><circle class=\"sym\" cx=\"0\" cy=\"0\" r=\"3\"/><text class=\"lab rgt\" transform=\"translate(3 -6)\">6</text><g class=\"mut m24 s24\" transform=\"translate(0 -11.8468)\"><rect class=\"sym\" height=\"6\" transform=\"translate(-3 -3)\" width=\"6\" x=\"0\" y=\"0\"/><text class=\"lab rgt\" transform=\"translate(5 0)\">24</text></g></g><g class=\"a11 leaf node n1 p0 sample\" transform=\"translate(-18.8571 27.8152)\"><path class=\"edge\" d=\"M 0 0 V -27.8152 H 18.8571\"/><circle class=\"sym\" cx=\"0\" cy=\"0\" r=\"3\"/><text class=\"lab\" transform=\"translate(0 12)\">1</text></g><path class=\"edge\" d=\"M 0 0 V -25.6251 H 28.2857\"/><circle class=\"sym\" cx=\"0\" cy=\"0\" r=\"3\"/><text class=\"lab lft\" transform=\"translate(-3 -6)\">11</text><g class=\"mut m25 s25\" transform=\"translate(0 -12.8125)\"><rect class=\"sym\" height=\"6\" transform=\"translate(-3 -3)\" width=\"6\" x=\"0\" y=\"0\"/><text class=\"lab lft\" transform=\"translate(-5 0)\">25</text></g></g><path class=\"edge\" d=\"M 0 0 V -12.1334 H -42.4286\"/><circle class=\"sym\" cx=\"0\" cy=\"0\" r=\"3\"/><text class=\"lab rgt\" transform=\"translate(3 -6)\">13</text><g class=\"mut m26 s26\" transform=\"translate(0 -6.06669)\"><rect class=\"sym\" height=\"6\" transform=\"translate(-3 -3)\" width=\"6\" x=\"0\" y=\"0\"/><text class=\"lab rgt\" transform=\"translate(5 0)\">26</text></g></g><circle class=\"sym\" cx=\"0\" cy=\"0\" r=\"3\"/><text class=\"lab\" transform=\"translate(0 -10)\">15</text></g></g></g><g class=\"treebox t9\" transform=\"translate(1784.0 30)\"><g class=\"tree t9\"><g class=\"node n16 p0 root\" transform=\"translate(118.429 32.6019)\"><g class=\"a16 leaf node n3 p0 sample\" transform=\"translate(42.4286 77.3981)\"><path class=\"edge\" d=\"M 0 0 V -77.3981 H -42.4286\"/><circle class=\"sym\" cx=\"0\" cy=\"0\" r=\"3\"/><text class=\"lab\" transform=\"translate(0 12)\">3</text></g><g class=\"a16 node n15 p0\" transform=\"translate(-42.4286 11.8245)\"><g class=\"a15 node n12 p0\" transform=\"translate(-28.2857 26.6071)\"><g class=\"a12 leaf node n0 p0 sample\" transform=\"translate(-12.5714 38.9665)\"><path class=\"edge\" d=\"M 0 0 V -38.9665 H 12.5714\"/><circle class=\"sym\" cx=\"0\" cy=\"0\" r=\"3\"/><text class=\"lab\" transform=\"translate(0 12)\">0</text></g><g class=\"a12 leaf node n5 p0 sample\" transform=\"translate(12.5714 38.9665)\"><path class=\"edge\" d=\"M 0 0 V -38.9665 H -12.5714\"/><circle class=\"sym\" cx=\"0\" cy=\"0\" r=\"3\"/><text class=\"lab\" transform=\"translate(0 12)\">5</text></g><path class=\"edge\" d=\"M 0 0 V -26.6071 H 28.2857\"/><circle class=\"sym\" cx=\"0\" cy=\"0\" r=\"3\"/><text class=\"lab lft\" transform=\"translate(-3 -6)\">12</text></g><g class=\"a15 m28 node n11 p0 s28\" transform=\"translate(28.2857 37.7585)\"><g class=\"a11 node n6 p0\" transform=\"translate(18.8571 23.6936)\"><g class=\"a6 leaf node n2 p0 sample\" transform=\"translate(-12.5714 4.12158)\"><path class=\"edge\" d=\"M 0 0 V -4.12158 H 12.5714\"/><circle class=\"sym\" cx=\"0\" cy=\"0\" r=\"3\"/><text class=\"lab\" transform=\"translate(0 12)\">2</text></g><g class=\"a6 leaf node n4 p0 sample\" transform=\"translate(12.5714 4.12158)\"><path class=\"edge\" d=\"M 0 0 V -4.12158 H -12.5714\"/><circle class=\"sym\" cx=\"0\" cy=\"0\" r=\"3\"/><text class=\"lab\" transform=\"translate(0 12)\">4</text></g><path class=\"edge\" d=\"M 0 0 V -23.6936 H -18.8571\"/><circle class=\"sym\" cx=\"0\" cy=\"0\" r=\"3\"/><text class=\"lab rgt\" transform=\"translate(3 -6)\">6</text></g><g class=\"a11 leaf node n1 p0 sample\" transform=\"translate(-18.8571 27.8152)\"><path class=\"edge\" d=\"M 0 0 V -27.8152 H 18.8571\"/><circle class=\"sym\" cx=\"0\" cy=\"0\" r=\"3\"/><text class=\"lab\" transform=\"translate(0 12)\">1</text></g><path class=\"edge\" d=\"M 0 0 V -37.7585 H -28.2857\"/><circle class=\"sym\" cx=\"0\" cy=\"0\" r=\"3\"/><text class=\"lab rgt\" transform=\"translate(3 -6)\">11</text><g class=\"mut m28 s28\" transform=\"translate(0 -18.8792)\"><rect class=\"sym\" height=\"6\" transform=\"translate(-3 -3)\" width=\"6\" x=\"0\" y=\"0\"/><text class=\"lab rgt\" transform=\"translate(5 0)\">28</text></g></g><path class=\"edge\" d=\"M 0 0 V -11.8245 H 42.4286\"/><circle class=\"sym\" cx=\"0\" cy=\"0\" r=\"3\"/><text class=\"lab lft\" transform=\"translate(-3 -6)\">15</text></g><circle class=\"sym\" cx=\"0\" cy=\"0\" r=\"3\"/><text class=\"lab\" transform=\"translate(0 -10)\">16</text></g></g></g></g><g class=\"axis\"><line stroke=\"black\" x1=\"20\" x2=\"1980\" y1=\"180\" y2=\"180\"/><line stroke=\"black\" x1=\"20\" x2=\"20\" y1=\"180\" y2=\"185\"/><g transform=\"translate(20, 200)\"><text font-size=\"14\" font-weight=\"bold\" text-anchor=\"middle\">0.00</text></g><line stroke=\"black\" x1=\"288.189\" x2=\"288.189\" y1=\"180\" y2=\"185\"/><g transform=\"translate(288.189, 200)\"><text font-size=\"14\" font-weight=\"bold\" text-anchor=\"middle\">6841.56</text></g><line stroke=\"black\" x1=\"471.156\" x2=\"471.156\" y1=\"180\" y2=\"185\"/><g transform=\"translate(471.156, 200)\"><text font-size=\"14\" font-weight=\"bold\" text-anchor=\"middle\">11509.09</text></g><line stroke=\"black\" x1=\"511.074\" x2=\"511.074\" y1=\"180\" y2=\"185\"/><g transform=\"translate(511.074, 200)\"><text font-size=\"14\" font-weight=\"bold\" text-anchor=\"middle\">12527.39</text></g><line stroke=\"black\" x1=\"600.136\" x2=\"600.136\" y1=\"180\" y2=\"185\"/><g transform=\"translate(600.136, 200)\"><text font-size=\"14\" font-weight=\"bold\" text-anchor=\"middle\">14799.38</text></g><line stroke=\"black\" x1=\"671.105\" x2=\"671.105\" y1=\"180\" y2=\"185\"/><g transform=\"translate(671.105, 200)\"><text font-size=\"14\" font-weight=\"bold\" text-anchor=\"middle\">16609.81</text></g><line stroke=\"black\" x1=\"1082.81\" x2=\"1082.81\" y1=\"180\" y2=\"185\"/><g transform=\"translate(1082.81, 200)\"><text font-size=\"14\" font-weight=\"bold\" text-anchor=\"middle\">27112.59</text></g><line stroke=\"black\" x1=\"1186.36\" x2=\"1186.36\" y1=\"180\" y2=\"185\"/><g transform=\"translate(1186.36, 200)\"><text font-size=\"14\" font-weight=\"bold\" text-anchor=\"middle\">29754.11</text></g><line stroke=\"black\" x1=\"1671.16\" x2=\"1671.16\" y1=\"180\" y2=\"185\"/><g transform=\"translate(1671.16, 200)\"><text font-size=\"14\" font-weight=\"bold\" text-anchor=\"middle\">42121.43</text></g><line stroke=\"black\" x1=\"1952.5\" x2=\"1952.5\" y1=\"180\" y2=\"185\"/><g transform=\"translate(1952.5, 200)\"><text font-size=\"14\" font-weight=\"bold\" text-anchor=\"middle\">49298.37</text></g><line stroke=\"black\" x1=\"1980.0\" x2=\"1980.0\" y1=\"180\" y2=\"185\"/><g transform=\"translate(1980.0, 200)\"><text font-size=\"14\" font-weight=\"bold\" text-anchor=\"middle\">50000.00</text></g></g></g></svg>"
      ],
      "text/plain": [
       "<IPython.core.display.SVG object>"
      ]
     },
     "metadata": {},
     "output_type": "display_data"
    }
   ],
   "source": [
    "tree_sequence = msprime.simulate(sample_size=6, Ne=1000, length=50e3, mutation_rate=1e-7, random_seed=40, recombination_rate=2e-8)\n",
    "display(SVG(tree_sequence.draw_svg()))"
   ]
  },
  {
   "cell_type": "markdown",
   "metadata": {},
   "source": [
    "Modify the mutation rate and recombination rate a couple of times to make sure you understand how they affect the final output."
   ]
  },
  {
   "cell_type": "markdown",
   "metadata": {},
   "source": [
    "# Scenario 1: simulated data with flat recombination rate"
   ]
  },
  {
   "cell_type": "markdown",
   "metadata": {},
   "source": [
    "Now that we have tested msprime, let's use it to simulate data. The data will need to be preprocessed prior to modelling, and we will look at the preprocessing steps by first looking at one simulated data set."
   ]
  },
  {
   "cell_type": "markdown",
   "metadata": {},
   "source": [
    "We start with the simplest possible example: a set of sequences generated by a process with a flat recombination rate. We simulate 10kb sequences, sample size $n=10$ from a population with effective population size $N_e=1000$. We choose small values for population size and sequence length to speed up simulations, but must then increase the mutation rate in order to obtain observable events. "
   ]
  },
  {
   "cell_type": "code",
   "execution_count": 19,
   "metadata": {},
   "outputs": [
    {
     "data": {
      "image/svg+xml": [
       "<svg xmlns=\"http://www.w3.org/2000/svg\" xmlns:ev=\"http://www.w3.org/2001/xml-events\" xmlns:xlink=\"http://www.w3.org/1999/xlink\" baseProfile=\"full\" height=\"200\" version=\"1.1\" width=\"600\"><defs><style type=\"text/css\"><![CDATA[.axis {font-weight: bold}.tree, .axis {font-size: 14px; text-anchor:middle}.edge {stroke: black; fill: none}.node > .sym {fill: black; stroke: none}.tree text {dominant-baseline: middle}.tree .lab.lft {text-anchor: end}.tree .lab.rgt {text-anchor: start}.mut {fill: red; font-style: italic}]]></style></defs><g class=\"tree-sequence\"><g class=\"background\"><polygon fill=\"#F1F1F1\" points=\"20,185 20,180 20,160 20,0 206.667,0 206.667,160 51.6389,180 51.6389,185\"/><polygon fill=\"#F1F1F1\" points=\"328.12,185 328.12,180 393.333,160 393.333,0 580.0,0 580.0,160 580.0,180 580.0,185\"/></g><g class=\"trees\"><g class=\"treebox t0\" transform=\"translate(20 30)\"><g class=\"tree t0\"><g class=\"node n19 p0 root\" transform=\"translate(118.428 44.8957)\"><g class=\"a19 node n15 p0\" transform=\"translate(35.5114 57.0177)\"><g class=\"a15 leaf node n2 p0 sample\" transform=\"translate(-7.57576 8.08655)\"><path class=\"edge\" d=\"M 0 0 V -8.08655 H 7.57576\"/><circle class=\"sym\" cx=\"0\" cy=\"0\" r=\"3\"/><text class=\"lab\" transform=\"translate(0 12)\">2</text></g><g class=\"a15 leaf node n7 p0 sample\" transform=\"translate(7.57576 8.08655)\"><path class=\"edge\" d=\"M 0 0 V -8.08655 H -7.57576\"/><circle class=\"sym\" cx=\"0\" cy=\"0\" r=\"3\"/><text class=\"lab\" transform=\"translate(0 12)\">7</text></g><path class=\"edge\" d=\"M 0 0 V -57.0177 H -35.5114\"/><circle class=\"sym\" cx=\"0\" cy=\"0\" r=\"3\"/><text class=\"lab rgt\" transform=\"translate(3 -6)\">15</text></g><g class=\"a19 node n17 p0\" transform=\"translate(-35.5114 8.67971)\"><g class=\"a17 node n14 p0\" transform=\"translate(-25.5682 48.6644)\"><g class=\"a14 leaf node n3 p0 sample\" transform=\"translate(13.2576 7.76013)\"><path class=\"edge\" d=\"M 0 0 V -7.76013 H -13.2576\"/><circle class=\"sym\" cx=\"0\" cy=\"0\" r=\"3\"/><text class=\"lab\" transform=\"translate(0 12)\">3</text></g><g class=\"a14 node n12 p0\" transform=\"translate(-13.2576 2.22356)\"><g class=\"a12 leaf node n9 p0 sample\" transform=\"translate(11.3636 5.53656)\"><path class=\"edge\" d=\"M 0 0 V -5.53656 H -11.3636\"/><circle class=\"sym\" cx=\"0\" cy=\"0\" r=\"3\"/><text class=\"lab\" transform=\"translate(0 12)\">9</text></g><g class=\"a12 node n10 p0\" transform=\"translate(-11.3636 3.54737)\"><g class=\"a10 leaf node n0 p0 sample\" transform=\"translate(-7.57576 1.98919)\"><path class=\"edge\" d=\"M 0 0 V -1.98919 H 7.57576\"/><circle class=\"sym\" cx=\"0\" cy=\"0\" r=\"3\"/><text class=\"lab\" transform=\"translate(0 12)\">0</text></g><g class=\"a10 leaf node n8 p0 sample\" transform=\"translate(7.57576 1.98919)\"><path class=\"edge\" d=\"M 0 0 V -1.98919 H -7.57576\"/><circle class=\"sym\" cx=\"0\" cy=\"0\" r=\"3\"/><text class=\"lab\" transform=\"translate(0 12)\">8</text></g><path class=\"edge\" d=\"M 0 0 V -3.54737 H 11.3636\"/><circle class=\"sym\" cx=\"0\" cy=\"0\" r=\"3\"/><text class=\"lab lft\" transform=\"translate(-3 -6)\">10</text></g><path class=\"edge\" d=\"M 0 0 V -2.22356 H 13.2576\"/><circle class=\"sym\" cx=\"0\" cy=\"0\" r=\"3\"/><text class=\"lab lft\" transform=\"translate(-3 -6)\">12</text></g><path class=\"edge\" d=\"M 0 0 V -48.6644 H 25.5682\"/><circle class=\"sym\" cx=\"0\" cy=\"0\" r=\"3\"/><text class=\"lab lft\" transform=\"translate(-3 -6)\">14</text></g><g class=\"a17 node n16 p0\" transform=\"translate(25.5682 22.2013)\"><g class=\"a16 node n11 p0\" transform=\"translate(15.1515 29.8719)\"><g class=\"a11 leaf node n4 p0 sample\" transform=\"translate(-7.57576 4.35142)\"><path class=\"edge\" d=\"M 0 0 V -4.35142 H 7.57576\"/><circle class=\"sym\" cx=\"0\" cy=\"0\" r=\"3\"/><text class=\"lab\" transform=\"translate(0 12)\">4</text></g><g class=\"a11 leaf node n5 p0 sample\" transform=\"translate(7.57576 4.35142)\"><path class=\"edge\" d=\"M 0 0 V -4.35142 H -7.57576\"/><circle class=\"sym\" cx=\"0\" cy=\"0\" r=\"3\"/><text class=\"lab\" transform=\"translate(0 12)\">5</text></g><path class=\"edge\" d=\"M 0 0 V -29.8719 H -15.1515\"/><circle class=\"sym\" cx=\"0\" cy=\"0\" r=\"3\"/><text class=\"lab rgt\" transform=\"translate(3 -6)\">11</text></g><g class=\"a16 node n13 p0\" transform=\"translate(-15.1515 27.0409)\"><g class=\"a13 leaf node n1 p0 sample\" transform=\"translate(-7.57576 7.18236)\"><path class=\"edge\" d=\"M 0 0 V -7.18236 H 7.57576\"/><circle class=\"sym\" cx=\"0\" cy=\"0\" r=\"3\"/><text class=\"lab\" transform=\"translate(0 12)\">1</text></g><g class=\"a13 leaf node n6 p0 sample\" transform=\"translate(7.57576 7.18236)\"><path class=\"edge\" d=\"M 0 0 V -7.18236 H -7.57576\"/><circle class=\"sym\" cx=\"0\" cy=\"0\" r=\"3\"/><text class=\"lab\" transform=\"translate(0 12)\">6</text></g><path class=\"edge\" d=\"M 0 0 V -27.0409 H 15.1515\"/><circle class=\"sym\" cx=\"0\" cy=\"0\" r=\"3\"/><text class=\"lab lft\" transform=\"translate(-3 -6)\">13</text></g><path class=\"edge\" d=\"M 0 0 V -22.2013 H -25.5682\"/><circle class=\"sym\" cx=\"0\" cy=\"0\" r=\"3\"/><text class=\"lab rgt\" transform=\"translate(3 -6)\">16</text></g><path class=\"edge\" d=\"M 0 0 V -8.67971 H 35.5114\"/><circle class=\"sym\" cx=\"0\" cy=\"0\" r=\"3\"/><text class=\"lab lft\" transform=\"translate(-3 -6)\">17</text></g><circle class=\"sym\" cx=\"0\" cy=\"0\" r=\"3\"/><text class=\"lab\" transform=\"translate(0 -10)\">19</text></g></g></g><g class=\"treebox t1\" transform=\"translate(206.667 30)\"><g class=\"tree t1\"><g class=\"node n20 p0 root\" transform=\"translate(118.428 30.0)\"><g class=\"a20 m2 m4 m6 m8 m9 node n15 p0 s2 s4 s6 s8 s9\" transform=\"translate(35.5114 71.9135)\"><g class=\"a15 leaf m1 m7 node n2 p0 s1 s7 sample\" transform=\"translate(-7.57576 8.08655)\"><path class=\"edge\" d=\"M 0 0 V -8.08655 H 7.57576\"/><circle class=\"sym\" cx=\"0\" cy=\"0\" r=\"3\"/><text class=\"lab\" transform=\"translate(0 12)\">2</text><g class=\"mut m7 s7\" transform=\"translate(0 -2.69552)\"><rect class=\"sym\" height=\"6\" transform=\"translate(-3 -3)\" width=\"6\" x=\"0\" y=\"0\"/><text class=\"lab lft\" transform=\"translate(-5 0)\">7</text></g><g class=\"mut m1 s1\" transform=\"translate(0 -5.39103)\"><rect class=\"sym\" height=\"6\" transform=\"translate(-3 -3)\" width=\"6\" x=\"0\" y=\"0\"/><text class=\"lab lft\" transform=\"translate(-5 0)\">1</text></g></g><g class=\"a15 leaf node n7 p0 sample\" transform=\"translate(7.57576 8.08655)\"><path class=\"edge\" d=\"M 0 0 V -8.08655 H -7.57576\"/><circle class=\"sym\" cx=\"0\" cy=\"0\" r=\"3\"/><text class=\"lab\" transform=\"translate(0 12)\">7</text></g><path class=\"edge\" d=\"M 0 0 V -71.9135 H -35.5114\"/><circle class=\"sym\" cx=\"0\" cy=\"0\" r=\"3\"/><text class=\"lab rgt\" transform=\"translate(3 -6)\">15</text><g class=\"mut m9 s9\" transform=\"translate(0 -11.9856)\"><rect class=\"sym\" height=\"6\" transform=\"translate(-3 -3)\" width=\"6\" x=\"0\" y=\"0\"/><text class=\"lab rgt\" transform=\"translate(5 0)\">9</text></g><g class=\"mut m8 s8\" transform=\"translate(0 -23.9712)\"><rect class=\"sym\" height=\"6\" transform=\"translate(-3 -3)\" width=\"6\" x=\"0\" y=\"0\"/><text class=\"lab rgt\" transform=\"translate(5 0)\">8</text></g><g class=\"mut m6 s6\" transform=\"translate(0 -35.9567)\"><rect class=\"sym\" height=\"6\" transform=\"translate(-3 -3)\" width=\"6\" x=\"0\" y=\"0\"/><text class=\"lab rgt\" transform=\"translate(5 0)\">6</text></g><g class=\"mut m4 s4\" transform=\"translate(0 -47.9423)\"><rect class=\"sym\" height=\"6\" transform=\"translate(-3 -3)\" width=\"6\" x=\"0\" y=\"0\"/><text class=\"lab rgt\" transform=\"translate(5 0)\">4</text></g><g class=\"mut m2 s2\" transform=\"translate(0 -59.9279)\"><rect class=\"sym\" height=\"6\" transform=\"translate(-3 -3)\" width=\"6\" x=\"0\" y=\"0\"/><text class=\"lab rgt\" transform=\"translate(5 0)\">2</text></g></g><g class=\"a20 node n17 p0\" transform=\"translate(-35.5114 23.5754)\"><g class=\"a17 m0 m5 node n14 p0 s0 s5\" transform=\"translate(-25.5682 48.6644)\"><g class=\"a14 leaf node n3 p0 sample\" transform=\"translate(13.2576 7.76013)\"><path class=\"edge\" d=\"M 0 0 V -7.76013 H -13.2576\"/><circle class=\"sym\" cx=\"0\" cy=\"0\" r=\"3\"/><text class=\"lab\" transform=\"translate(0 12)\">3</text></g><g class=\"a14 node n12 p0\" transform=\"translate(-13.2576 2.22356)\"><g class=\"a12 leaf node n9 p0 sample\" transform=\"translate(11.3636 5.53656)\"><path class=\"edge\" d=\"M 0 0 V -5.53656 H -11.3636\"/><circle class=\"sym\" cx=\"0\" cy=\"0\" r=\"3\"/><text class=\"lab\" transform=\"translate(0 12)\">9</text></g><g class=\"a12 m10 node n10 p0 s10\" transform=\"translate(-11.3636 3.54737)\"><g class=\"a10 leaf node n0 p0 sample\" transform=\"translate(-7.57576 1.98919)\"><path class=\"edge\" d=\"M 0 0 V -1.98919 H 7.57576\"/><circle class=\"sym\" cx=\"0\" cy=\"0\" r=\"3\"/><text class=\"lab\" transform=\"translate(0 12)\">0</text></g><g class=\"a10 leaf node n8 p0 sample\" transform=\"translate(7.57576 1.98919)\"><path class=\"edge\" d=\"M 0 0 V -1.98919 H -7.57576\"/><circle class=\"sym\" cx=\"0\" cy=\"0\" r=\"3\"/><text class=\"lab\" transform=\"translate(0 12)\">8</text></g><path class=\"edge\" d=\"M 0 0 V -3.54737 H 11.3636\"/><circle class=\"sym\" cx=\"0\" cy=\"0\" r=\"3\"/><text class=\"lab lft\" transform=\"translate(-3 -6)\">10</text><g class=\"mut m10 s10\" transform=\"translate(0 -1.77369)\"><rect class=\"sym\" height=\"6\" transform=\"translate(-3 -3)\" width=\"6\" x=\"0\" y=\"0\"/><text class=\"lab lft\" transform=\"translate(-5 0)\">10</text></g></g><path class=\"edge\" d=\"M 0 0 V -2.22356 H 13.2576\"/><circle class=\"sym\" cx=\"0\" cy=\"0\" r=\"3\"/><text class=\"lab lft\" transform=\"translate(-3 -6)\">12</text></g><path class=\"edge\" d=\"M 0 0 V -48.6644 H 25.5682\"/><circle class=\"sym\" cx=\"0\" cy=\"0\" r=\"3\"/><text class=\"lab lft\" transform=\"translate(-3 -6)\">14</text><g class=\"mut m5 s5\" transform=\"translate(0 -16.2215)\"><rect class=\"sym\" height=\"6\" transform=\"translate(-3 -3)\" width=\"6\" x=\"0\" y=\"0\"/><text class=\"lab lft\" transform=\"translate(-5 0)\">5</text></g><g class=\"mut m0 s0\" transform=\"translate(0 -32.443)\"><rect class=\"sym\" height=\"6\" transform=\"translate(-3 -3)\" width=\"6\" x=\"0\" y=\"0\"/><text class=\"lab lft\" transform=\"translate(-5 0)\">0</text></g></g><g class=\"a17 node n16 p0\" transform=\"translate(25.5682 22.2013)\"><g class=\"a16 node n11 p0\" transform=\"translate(15.1515 29.8719)\"><g class=\"a11 leaf node n4 p0 sample\" transform=\"translate(-7.57576 4.35142)\"><path class=\"edge\" d=\"M 0 0 V -4.35142 H 7.57576\"/><circle class=\"sym\" cx=\"0\" cy=\"0\" r=\"3\"/><text class=\"lab\" transform=\"translate(0 12)\">4</text></g><g class=\"a11 leaf node n5 p0 sample\" transform=\"translate(7.57576 4.35142)\"><path class=\"edge\" d=\"M 0 0 V -4.35142 H -7.57576\"/><circle class=\"sym\" cx=\"0\" cy=\"0\" r=\"3\"/><text class=\"lab\" transform=\"translate(0 12)\">5</text></g><path class=\"edge\" d=\"M 0 0 V -29.8719 H -15.1515\"/><circle class=\"sym\" cx=\"0\" cy=\"0\" r=\"3\"/><text class=\"lab rgt\" transform=\"translate(3 -6)\">11</text></g><g class=\"a16 m3 node n13 p0 s3\" transform=\"translate(-15.1515 27.0409)\"><g class=\"a13 leaf node n1 p0 sample\" transform=\"translate(-7.57576 7.18236)\"><path class=\"edge\" d=\"M 0 0 V -7.18236 H 7.57576\"/><circle class=\"sym\" cx=\"0\" cy=\"0\" r=\"3\"/><text class=\"lab\" transform=\"translate(0 12)\">1</text></g><g class=\"a13 leaf node n6 p0 sample\" transform=\"translate(7.57576 7.18236)\"><path class=\"edge\" d=\"M 0 0 V -7.18236 H -7.57576\"/><circle class=\"sym\" cx=\"0\" cy=\"0\" r=\"3\"/><text class=\"lab\" transform=\"translate(0 12)\">6</text></g><path class=\"edge\" d=\"M 0 0 V -27.0409 H 15.1515\"/><circle class=\"sym\" cx=\"0\" cy=\"0\" r=\"3\"/><text class=\"lab lft\" transform=\"translate(-3 -6)\">13</text><g class=\"mut m3 s3\" transform=\"translate(0 -13.5205)\"><rect class=\"sym\" height=\"6\" transform=\"translate(-3 -3)\" width=\"6\" x=\"0\" y=\"0\"/><text class=\"lab lft\" transform=\"translate(-5 0)\">3</text></g></g><path class=\"edge\" d=\"M 0 0 V -22.2013 H -25.5682\"/><circle class=\"sym\" cx=\"0\" cy=\"0\" r=\"3\"/><text class=\"lab rgt\" transform=\"translate(3 -6)\">16</text></g><path class=\"edge\" d=\"M 0 0 V -23.5754 H 35.5114\"/><circle class=\"sym\" cx=\"0\" cy=\"0\" r=\"3\"/><text class=\"lab lft\" transform=\"translate(-3 -6)\">17</text></g><circle class=\"sym\" cx=\"0\" cy=\"0\" r=\"3\"/><text class=\"lab\" transform=\"translate(0 -10)\">20</text></g></g></g><g class=\"treebox t2\" transform=\"translate(393.333 30)\"><g class=\"tree t2\"><g class=\"node n20 p0 root\" transform=\"translate(118.428 30.0)\"><g class=\"a20 m11 m16 node n15 p0 s11 s16\" transform=\"translate(35.5114 71.9135)\"><g class=\"a15 leaf m15 node n2 p0 s15 sample\" transform=\"translate(-7.57576 8.08655)\"><path class=\"edge\" d=\"M 0 0 V -8.08655 H 7.57576\"/><circle class=\"sym\" cx=\"0\" cy=\"0\" r=\"3\"/><text class=\"lab\" transform=\"translate(0 12)\">2</text><g class=\"mut m15 s15\" transform=\"translate(0 -4.04327)\"><rect class=\"sym\" height=\"6\" transform=\"translate(-3 -3)\" width=\"6\" x=\"0\" y=\"0\"/><text class=\"lab lft\" transform=\"translate(-5 0)\">15</text></g></g><g class=\"a15 leaf node n7 p0 sample\" transform=\"translate(7.57576 8.08655)\"><path class=\"edge\" d=\"M 0 0 V -8.08655 H -7.57576\"/><circle class=\"sym\" cx=\"0\" cy=\"0\" r=\"3\"/><text class=\"lab\" transform=\"translate(0 12)\">7</text></g><path class=\"edge\" d=\"M 0 0 V -71.9135 H -35.5114\"/><circle class=\"sym\" cx=\"0\" cy=\"0\" r=\"3\"/><text class=\"lab rgt\" transform=\"translate(3 -6)\">15</text><g class=\"mut m16 s16\" transform=\"translate(0 -23.9712)\"><rect class=\"sym\" height=\"6\" transform=\"translate(-3 -3)\" width=\"6\" x=\"0\" y=\"0\"/><text class=\"lab rgt\" transform=\"translate(5 0)\">16</text></g><g class=\"mut m11 s11\" transform=\"translate(0 -47.9423)\"><rect class=\"sym\" height=\"6\" transform=\"translate(-3 -3)\" width=\"6\" x=\"0\" y=\"0\"/><text class=\"lab rgt\" transform=\"translate(5 0)\">11</text></g></g><g class=\"a20 node n18 p0\" transform=\"translate(-35.5114 15.7913)\"><g class=\"a18 m12 m14 node n14 p0 s12 s14\" transform=\"translate(-25.5682 56.4486)\"><g class=\"a14 leaf node n3 p0 sample\" transform=\"translate(13.2576 7.76013)\"><path class=\"edge\" d=\"M 0 0 V -7.76013 H -13.2576\"/><circle class=\"sym\" cx=\"0\" cy=\"0\" r=\"3\"/><text class=\"lab\" transform=\"translate(0 12)\">3</text></g><g class=\"a14 node n12 p0\" transform=\"translate(-13.2576 2.22356)\"><g class=\"a12 leaf node n9 p0 sample\" transform=\"translate(11.3636 5.53656)\"><path class=\"edge\" d=\"M 0 0 V -5.53656 H -11.3636\"/><circle class=\"sym\" cx=\"0\" cy=\"0\" r=\"3\"/><text class=\"lab\" transform=\"translate(0 12)\">9</text></g><g class=\"a12 node n10 p0\" transform=\"translate(-11.3636 3.54737)\"><g class=\"a10 leaf node n0 p0 sample\" transform=\"translate(-7.57576 1.98919)\"><path class=\"edge\" d=\"M 0 0 V -1.98919 H 7.57576\"/><circle class=\"sym\" cx=\"0\" cy=\"0\" r=\"3\"/><text class=\"lab\" transform=\"translate(0 12)\">0</text></g><g class=\"a10 leaf node n8 p0 sample\" transform=\"translate(7.57576 1.98919)\"><path class=\"edge\" d=\"M 0 0 V -1.98919 H -7.57576\"/><circle class=\"sym\" cx=\"0\" cy=\"0\" r=\"3\"/><text class=\"lab\" transform=\"translate(0 12)\">8</text></g><path class=\"edge\" d=\"M 0 0 V -3.54737 H 11.3636\"/><circle class=\"sym\" cx=\"0\" cy=\"0\" r=\"3\"/><text class=\"lab lft\" transform=\"translate(-3 -6)\">10</text></g><path class=\"edge\" d=\"M 0 0 V -2.22356 H 13.2576\"/><circle class=\"sym\" cx=\"0\" cy=\"0\" r=\"3\"/><text class=\"lab lft\" transform=\"translate(-3 -6)\">12</text></g><path class=\"edge\" d=\"M 0 0 V -56.4486 H 25.5682\"/><circle class=\"sym\" cx=\"0\" cy=\"0\" r=\"3\"/><text class=\"lab lft\" transform=\"translate(-3 -6)\">14</text><g class=\"mut m14 s14\" transform=\"translate(0 -18.8162)\"><rect class=\"sym\" height=\"6\" transform=\"translate(-3 -3)\" width=\"6\" x=\"0\" y=\"0\"/><text class=\"lab lft\" transform=\"translate(-5 0)\">14</text></g><g class=\"mut m12 s12\" transform=\"translate(0 -37.6324)\"><rect class=\"sym\" height=\"6\" transform=\"translate(-3 -3)\" width=\"6\" x=\"0\" y=\"0\"/><text class=\"lab lft\" transform=\"translate(-5 0)\">12</text></g></g><g class=\"a18 node n16 p0\" transform=\"translate(25.5682 29.9855)\"><g class=\"a16 node n11 p0\" transform=\"translate(15.1515 29.8719)\"><g class=\"a11 leaf node n4 p0 sample\" transform=\"translate(-7.57576 4.35142)\"><path class=\"edge\" d=\"M 0 0 V -4.35142 H 7.57576\"/><circle class=\"sym\" cx=\"0\" cy=\"0\" r=\"3\"/><text class=\"lab\" transform=\"translate(0 12)\">4</text></g><g class=\"a11 leaf node n5 p0 sample\" transform=\"translate(7.57576 4.35142)\"><path class=\"edge\" d=\"M 0 0 V -4.35142 H -7.57576\"/><circle class=\"sym\" cx=\"0\" cy=\"0\" r=\"3\"/><text class=\"lab\" transform=\"translate(0 12)\">5</text></g><path class=\"edge\" d=\"M 0 0 V -29.8719 H -15.1515\"/><circle class=\"sym\" cx=\"0\" cy=\"0\" r=\"3\"/><text class=\"lab rgt\" transform=\"translate(3 -6)\">11</text></g><g class=\"a16 node n13 p0\" transform=\"translate(-15.1515 27.0409)\"><g class=\"a13 leaf m13 node n1 p0 s13 sample\" transform=\"translate(-7.57576 7.18236)\"><path class=\"edge\" d=\"M 0 0 V -7.18236 H 7.57576\"/><circle class=\"sym\" cx=\"0\" cy=\"0\" r=\"3\"/><text class=\"lab\" transform=\"translate(0 12)\">1</text><g class=\"mut m13 s13\" transform=\"translate(0 -3.59118)\"><rect class=\"sym\" height=\"6\" transform=\"translate(-3 -3)\" width=\"6\" x=\"0\" y=\"0\"/><text class=\"lab lft\" transform=\"translate(-5 0)\">13</text></g></g><g class=\"a13 leaf node n6 p0 sample\" transform=\"translate(7.57576 7.18236)\"><path class=\"edge\" d=\"M 0 0 V -7.18236 H -7.57576\"/><circle class=\"sym\" cx=\"0\" cy=\"0\" r=\"3\"/><text class=\"lab\" transform=\"translate(0 12)\">6</text></g><path class=\"edge\" d=\"M 0 0 V -27.0409 H 15.1515\"/><circle class=\"sym\" cx=\"0\" cy=\"0\" r=\"3\"/><text class=\"lab lft\" transform=\"translate(-3 -6)\">13</text></g><path class=\"edge\" d=\"M 0 0 V -29.9855 H -25.5682\"/><circle class=\"sym\" cx=\"0\" cy=\"0\" r=\"3\"/><text class=\"lab rgt\" transform=\"translate(3 -6)\">16</text></g><path class=\"edge\" d=\"M 0 0 V -15.7913 H 35.5114\"/><circle class=\"sym\" cx=\"0\" cy=\"0\" r=\"3\"/><text class=\"lab lft\" transform=\"translate(-3 -6)\">18</text></g><circle class=\"sym\" cx=\"0\" cy=\"0\" r=\"3\"/><text class=\"lab\" transform=\"translate(0 -10)\">20</text></g></g></g></g><g class=\"axis\"><line stroke=\"black\" x1=\"20\" x2=\"580\" y1=\"180\" y2=\"180\"/><line stroke=\"black\" x1=\"20\" x2=\"20\" y1=\"180\" y2=\"185\"/><g transform=\"translate(20, 200)\"><text font-size=\"14\" font-weight=\"bold\" text-anchor=\"middle\">0.00</text></g><line stroke=\"black\" x1=\"51.6389\" x2=\"51.6389\" y1=\"180\" y2=\"185\"/><g transform=\"translate(51.6389, 200)\"><text font-size=\"14\" font-weight=\"bold\" text-anchor=\"middle\">564.98</text></g><line stroke=\"black\" x1=\"328.12\" x2=\"328.12\" y1=\"180\" y2=\"185\"/><g transform=\"translate(328.12, 200)\"><text font-size=\"14\" font-weight=\"bold\" text-anchor=\"middle\">5502.14</text></g><line stroke=\"black\" x1=\"580.0\" x2=\"580.0\" y1=\"180\" y2=\"185\"/><g transform=\"translate(580.0, 200)\"><text font-size=\"14\" font-weight=\"bold\" text-anchor=\"middle\">10000.00</text></g></g></g></svg>"
      ],
      "text/plain": [
       "<IPython.core.display.SVG object>"
      ]
     },
     "metadata": {},
     "output_type": "display_data"
    },
    {
     "name": "stdout",
     "output_type": "stream",
     "text": [
      "CPU times: user 43.7 ms, sys: 0 ns, total: 43.7 ms\n",
      "Wall time: 183 ms\n"
     ]
    }
   ],
   "source": [
    "%%time\n",
    "sample_size = 10\n",
    "obs1 = msprime.simulate(sample_size=sample_size, Ne=1000, length=1e4, random_seed=42, mutation_rate=1e-7, recombination_rate=1e-8)\n",
    "display(SVG(obs1.draw_svg()))"
   ]
  },
  {
   "cell_type": "markdown",
   "metadata": {},
   "source": [
    "We print the number of sites and nucleotide diversity ($\\pi$) for the observed data:"
   ]
  },
  {
   "cell_type": "code",
   "execution_count": 20,
   "metadata": {},
   "outputs": [
    {
     "data": {
      "text/plain": [
       "(17, array(0.00061333))"
      ]
     },
     "execution_count": 20,
     "metadata": {},
     "output_type": "execute_result"
    }
   ],
   "source": [
    "(obs1.get_num_sites(), obs1.diversity())"
   ]
  },
  {
   "cell_type": "markdown",
   "metadata": {},
   "source": [
    "and make two plots of the data. First, for illustration purposes, we plot the entire sequence alignment. However, since the tree sequences only store segregating sites, we need to pad the genotypes with monomorphic sites. We use a helper function `utils.fill_pad` for this purpose; the `utils` module (living in the notebook directory) contains more utility functions that will be used later on. "
   ]
  },
  {
   "cell_type": "code",
   "execution_count": 22,
   "metadata": {},
   "outputs": [
    {
     "name": "stdout",
     "output_type": "stream",
     "text": [
      "[953, 976, 991]\n"
     ]
    },
    {
     "data": {
      "image/png": "[encoded data removed]",
      "text/plain": [
       "<Figure size 720x1440 with 1 Axes>"
      ]
     },
     "metadata": {
      "image/png": {
       "height": 87,
       "width": 585
      },
      "needs_background": "light"
     },
     "output_type": "display_data"
    }
   ],
   "source": [
    "x = utils.fill_pad(obs1.genotype_matrix(), np.array([s.position for s in obs1.sites()]), 10000)\n",
    "plt.figure(figsize = (10,20))\n",
    "p = plt.imshow(x[900:1000, :].T, cmap='gray')\n",
    "print([int(s.position) for s in obs1.sites()][0:3])"
   ]
  },
  {
   "cell_type": "markdown",
   "metadata": {},
   "source": [
    "Here we plot positions 900-1000 (x-axis; tick labels do not refer to sequence position). The samples are on the y axis. Black pixels indicate monomorphic sites, white segregating sites that occupy sequence positions 953, 976, and 991.\n",
    "\n",
    "Second, for comparison we plot the unpadded genotype matrix:"
   ]
  },
  {
   "cell_type": "code",
   "execution_count": 23,
   "metadata": {},
   "outputs": [
    {
     "data": {
      "image/png": "[encoded data removed]",
      "text/plain": [
       "<Figure size 720x216 with 1 Axes>"
      ]
     },
     "metadata": {
      "image/png": {
       "height": 193,
       "width": 305
      },
      "needs_background": "light"
     },
     "output_type": "display_data"
    }
   ],
   "source": [
    "plt.figure(figsize = (10,3))\n",
    "p = plt.imshow(obs1.genotype_matrix().T, cmap='gray')"
   ]
  },
  {
   "cell_type": "markdown",
   "metadata": {},
   "source": [
    "Looking from left to right, we see that the three first columns correspond to the positions 953, 976, and 991."
   ]
  },
  {
   "cell_type": "markdown",
   "metadata": {},
   "source": [
    "The data we present to the model consists of the genotype matrices, and monomorphic positions offer no additional information. Sequence *positions* do however - the farther apart two loci are, the greater the probability of a recombination event inbetween them - so in addition to the genotypes, we need to keep track of the positions. Hence, the input data will consist of:\n",
    "\n",
    "1. genotype data\n",
    "2. positional information\n",
    "3. a known recombination rate that was use to simulate the data (our training \"target\")"
   ]
  },
  {
   "cell_type": "markdown",
   "metadata": {},
   "source": [
    "## Data preprocessing\n",
    "\n",
    "The data still needs to be preprocessed. The following steps are performed in ReLERNN; we will apply a select number (but should you be in a groove you are free to implement them all!):\n",
    "\n",
    "1. the genotype matrix is padded with value 2.0 so that all examples are of equal size\n",
    "2. likewise, the position vector is padded with -1.0\n",
    "3. samples are shuffled and haplotypes sorted by similarity\n",
    "4. the alignment is padded by a frame (after shuffling)\n",
    "5. the recombination rates are z-score normalized"
   ]
  },
  {
   "cell_type": "markdown",
   "metadata": {},
   "source": [
    "### Data padding\n",
    "\n",
    "Input data needs to be of equal lengths. Once we simulate data, we will keep track of the maximum number of segregating sites observed. Assume for now this is 30; we use `utils.pad` to pad our genotype matrix:\n"
   ]
  },
  {
   "cell_type": "code",
   "execution_count": 25,
   "metadata": {},
   "outputs": [
    {
     "data": {
      "image/png": "[encoded data removed]",
      "text/plain": [
       "<Figure size 432x288 with 1 Axes>"
      ]
     },
     "metadata": {
      "image/png": {
       "height": 142,
       "width": 362
      },
      "needs_background": "light"
     },
     "output_type": "display_data"
    }
   ],
   "source": [
    "x, pos = utils.pad(obs1.genotype_matrix(), [s.position for s in obs1.sites()], maxsites=30)\n",
    "p = plt.imshow(x.T, cmap='gray')"
   ]
  },
  {
   "cell_type": "markdown",
   "metadata": {},
   "source": [
    "Since we added a new value (2.0; white pixels), segregating sites show up as gray."
   ]
  },
  {
   "cell_type": "markdown",
   "metadata": {},
   "source": [
    "As stated above, ReLERNN also adds a padding frame of width 5, which we show for illustration purposes (we will not use it later on):"
   ]
  },
  {
   "cell_type": "code",
   "execution_count": 26,
   "metadata": {},
   "outputs": [
    {
     "data": {
      "image/png": "[encoded data removed]",
      "text/plain": [
       "<Figure size 432x288 with 1 Axes>"
      ]
     },
     "metadata": {
      "image/png": {
       "height": 198,
       "width": 378
      },
      "needs_background": "light"
     },
     "output_type": "display_data"
    }
   ],
   "source": [
    "x, pos = utils.pad(obs1.genotype_matrix(), [s.position for s in obs1.sites()], maxsites=30, frameWidth=5)\n",
    "p = plt.imshow(x.T, cmap='gray')"
   ]
  },
  {
   "cell_type": "markdown",
   "metadata": {},
   "source": [
    "## Simulation of training, validation, and test data"
   ]
  },
  {
   "cell_type": "markdown",
   "metadata": {},
   "source": [
    "ReLERNN simulates 100000 training, 1000 test and 2000 validation data sets. For practical reasons we here reduce these data set sizes somewhat. In general, we want to vary the mutation and recombination rates to generate data sets with different parametrizations. We therefore write a wrapper function to generate simulations and save the results. The function is also available in the `utils` module:"
   ]
  },
  {
   "cell_type": "code",
   "execution_count": 27,
   "metadata": {},
   "outputs": [],
   "source": [
    "def simulate(nreps, outdir, seed=42, murange=(0, 2e-7), rhorange=(0, 2e-7), sample_size=10, Ne=1e4, length=1e4, **kwargs):\n",
    "    \"\"\"Simulate tree sequences with msprime and save genotype matrix and positions to outdir\"\"\"\n",
    "    if not os.path.exists(outdir):\n",
    "        os.makedirs(outdir)\n",
    "    mu = [np.random.uniform(murange[0], murange[1]) for _ in range(nreps)]\n",
    "    rho = [np.random.uniform(rhorange[0], rhorange[1]) for _ in range(nreps)]\n",
    "    segregating_sites = np.empty(nreps, dtype=\"int64\")\n",
    "    fh = open(os.path.join(outdir, \"params.txt\"), \"w\")\n",
    "    fh.write(\"ID\\tmu\\trho\\tS\\tpi\\n\")\n",
    "    for i in range(nreps):\n",
    "        ts = msprime.simulate(random_seed=seed, sample_size=sample_size, Ne=Ne, length=length,\n",
    "                              mutation_rate=mu[i], recombination_rate=rho[i], **kwargs)\n",
    "        np.save(os.path.join(outdir, f\"{i}_haps.npy\"), ts.genotype_matrix())\n",
    "        np.save(os.path.join(outdir, f\"{i}_pos.npy\"), np.array([s.position for s in ts.sites()], dtype=\"float32\"))\n",
    "        segregating_sites[i] = ts.get_num_sites()\n",
    "        fh.write(f\"{i}\\t{mu[i]}\\t{rho[i]}\\t{ts.get_num_sites()}\\t{ts.diversity()}\\n\")\n",
    "    fh.close()"
   ]
  },
  {
   "cell_type": "markdown",
   "metadata": {},
   "source": [
    "The function generates random values for mutation rate $\\mu$ and recombination rate $\\rho$, and then iterates `nreps` times to call msprime with different parameter values, saving the results in the directory pointed to by `outdir`.\n",
    "\n",
    "Now, let's simulate some data sets - 11100 in total. This will likely take less than two minutes!"
   ]
  },
  {
   "cell_type": "code",
   "execution_count": 28,
   "metadata": {},
   "outputs": [
    {
     "name": "stdout",
     "output_type": "stream",
     "text": [
      "CPU times: user 1min 1s, sys: 1.99 s, total: 1min 3s\n",
      "Wall time: 1min 17s\n"
     ]
    }
   ],
   "source": [
    "%%time\n",
    "# On my laptop (3.1GHz Dual-core intel i7) it takes approx 1s per 200 samples, total space ~ 125Mb\n",
    "assumedMu = 1e-8\n",
    "upperRhoThetaRatio = 1.0\n",
    "murange = (0.66*assumedMu, 1.33*assumedMu) # Constrain mu values\n",
    "rhorange = (0.0, assumedMu * upperRhoThetaRatio) # constrain upper value of rho\n",
    "params = {'murange': murange, 'rhorange': rhorange, 'length': 1e5, 'sample_size': 20, 'Ne': 20000}\n",
    "simulate(10000, \"train\", **params)\n",
    "simulate(100, \"test\", **params)\n",
    "simulate(1000, \"vali\", **params)"
   ]
  },
  {
   "cell_type": "markdown",
   "metadata": {},
   "source": [
    "We read and concatenate the `params.txt` file for each data set and summarize stats for a sanity check. Since we have $n=20$ samples, effective population size $N_e=20000$ and simulate $L=10000$ bp sequences, we expect $E(S) = 4 * Ne * mu * a * L$ number of segregating sites, where $a=\\sum_{i=1}^{n-1}\\frac{1}{i}$."
   ]
  },
  {
   "cell_type": "code",
   "execution_count": 29,
   "metadata": {},
   "outputs": [],
   "source": [
    "def read_params(path):\n",
    "    data = pd.read_table(os.path.join(path, \"params.txt\"), sep=\"\\t\")\n",
    "    data[\"data\"] = path\n",
    "    return data\n",
    "data = pd.concat([read_params(\"train\"), read_params(\"test\"), read_params(\"vali\")])\n",
    "Ne = 20000\n",
    "i = np.arange(1, 10)\n",
    "a = sum(1/i)\n",
    "data[\"Sexp\"] = a * 4 * Ne * data.mu * 1e4  # theta = E(pi) = S/a = 4*Ne*mu"
   ]
  },
  {
   "cell_type": "code",
   "execution_count": 34,
   "metadata": {},
   "outputs": [
    {
     "data": {
      "image/png": "[encoded data removed]",
      "text/plain": [
       "<Figure size 432x288 with 2 Axes>"
      ]
     },
     "metadata": {
      "image/png": {
       "height": 284,
       "width": 423
      },
      "needs_background": "light"
     },
     "output_type": "display_data"
    }
   ],
   "source": [
    "fig, axes = plt.subplots(nrows=1,ncols=2)\n",
    "data.plot.scatter(x=\"Sexp\", y=\"S\", ax = axes[0], subplots=True, \n",
    "                  title=\"Observed segregating sites(S) vs Sexp (left) and rho (right) \") \n",
    "data.plot.scatter(x=\"rho\", y=\"S\", ax = axes[1], subplots=True)\n",
    "fig.tight_layout()\n",
    "plt.show()"
   ]
  },
  {
   "cell_type": "markdown",
   "metadata": {},
   "source": [
    "## Sequence generators for training"
   ]
  },
  {
   "cell_type": "markdown",
   "metadata": {},
   "source": [
    "Even with this toy example, there may be memory issues when loading all training data. Therefore, it is better to generate data on the fly and provide it in batches during training. We use the `tf.keras.utils.Sequence` base class to achieve this purpose. See https://stanford.edu/~shervine/blog/keras-how-to-generate-data-on-the-fly for a concise treatment of this topic.\n",
    "\n",
    "We here present the code in pieces. The subclass is available as `utils.sequenceBatchGenerator`.\n",
    "\n",
    "First, we setup a generator object. The `on_epoch_end` is run at the end of an epoch, and here one typically shuffles the order of the data presented to the network. The functions `__len__` and `__getitem__` **must** be implemented."
   ]
  },
  {
   "cell_type": "code",
   "execution_count": 35,
   "metadata": {},
   "outputs": [],
   "source": [
    "def __init__(self, datadir, maxlen, batchSize=16, frameWidth=0, seed=None):\n",
    "    self.datadir = datadir\n",
    "    self.params = pd.read_table(os.path.join(datadir, \"params.txt\"))\n",
    "    self.n_data = self.params.shape[0]\n",
    "    self.maxlen = maxlen\n",
    "    self.batchSize = batchSize\n",
    "    self.frameWidth = frameWidth\n",
    "    self.on_epoch_end()\n",
    "\n",
    "def on_epoch_end(self):\n",
    "    \"\"\"Shuffle indices to randomize order of training examples on epoch end\"\"\"\n",
    "    self.indices = np.arange(self.n_data)\n",
    "    np.random.shuffle(self.indices)\n",
    "    \n",
    "def __len__(self): # must be implemented\n",
    "    \"\"\"Get the number of batches per epoch as the number of data points divided by batch size\"\"\"\n",
    "    return int(np.floor(self.n_data / self.batchSize))\n",
    "\n",
    "def __getitem__(self, index): # must be implemented\n",
    "    \"\"\"Generate data indices for a given batch index (where index <= len(self))\"\"\"\n",
    "    batchIndices = self.indices[index * self.batchSize: (index+1) * self.batchSize]\n",
    "    X, y = self.__data_generation(batchIndices)\n",
    "    return X, y"
   ]
  },
  {
   "cell_type": "markdown",
   "metadata": {},
   "source": [
    "The actual data generation is done by the `__data_generation` function, which we present here:"
   ]
  },
  {
   "cell_type": "code",
   "execution_count": 36,
   "metadata": {},
   "outputs": [],
   "source": [
    "def __data_generation(self, batchIndices):\n",
    "    \"\"\"Required core function to generate data batch\"\"\"\n",
    "    rho = np.reshape(self.params[\"rho\"].to_numpy(), (-1, 1))\n",
    "    rhoZ = (rho - np.mean(rho, axis=0)) / np.std(rho, axis=0)\n",
    "    haps = []\n",
    "    pos = []\n",
    "    # Read one dataset at a time\n",
    "    for i in batchIndices:\n",
    "        H = np.load(os.path.join(self.datadir, f\"{i}_haps.npy\"))\n",
    "        P = np.load(os.path.join(self.datadir, f\"{i}_pos.npy\"))\n",
    "        # Any shuffling of individuals, reorganization of\n",
    "        # haplotypes takes place here\n",
    "        hpad, ppad = pad(H, P, self.maxlen, frameWidth=self.frameWidth)\n",
    "        haps.append(hpad)\n",
    "        pos.append(ppad)\n",
    "    haps = np.array(haps, dtype=\"float32\") # (batchSize, nSites, nsamples)\n",
    "    pos = np.array(pos, dtype=\"float32\") # (batchSize, nSites)\n",
    "    return [haps, pos], np.array(rhoZ[batchIndices]) # X, y"
   ]
  },
  {
   "cell_type": "markdown",
   "metadata": {},
   "source": [
    "Here, we first normalize the target values (`rho` -> `rhoZ`). Then we load `batchSize` data sets, which are padded before we return them. Note that it is here we would do additional preprocessing, such as shuffling individuals."
   ]
  },
  {
   "cell_type": "markdown",
   "metadata": {},
   "source": [
    "That's actually all that is needed! We can now define three sequence batch generators for the data sets:"
   ]
  },
  {
   "cell_type": "code",
   "execution_count": 37,
   "metadata": {},
   "outputs": [],
   "source": [
    "frameWidth = 0\n",
    "Smax = max(data[\"S\"])\n",
    "train_sequence = utils.sequenceBatchGenerator(\"train\", Smax, frameWidth=frameWidth)\n",
    "test_sequence = utils.sequenceBatchGenerator(\"test\", Smax, frameWidth=frameWidth)\n",
    "vali_sequence = utils.sequenceBatchGenerator(\"vali\", Smax, frameWidth=frameWidth)"
   ]
  },
  {
   "cell_type": "markdown",
   "metadata": {},
   "source": [
    "## Model definition\n",
    "\n",
    "Now that we have gone through the painstaking endeavours that data mangling and preprocessing present, we are ready to start modelling. This will actually require less coding than until now. \n",
    "\n",
    "We begin by writing a wrapper function for our model, which is slightly modified from the version by Adrion et al, whose model look like this:"
   ]
  },
  {
   "cell_type": "markdown",
   "metadata": {},
   "source": [
    "\n",
    "INSERT IMAGE"
   ]
  },
  {
   "cell_type": "code",
   "execution_count": 38,
   "metadata": {},
   "outputs": [],
   "source": [
    "import tensorflow as tf\n",
    "from tensorflow.keras import layers\n",
    "from tensorflow.keras.models import Model\n",
    "\n",
    "# Modelled on ReLERNN.networks.GRU_TUNED84\n",
    "def GRU(x, y):\n",
    "    haps, pos = x\n",
    "    nsites = haps[0].shape[0]\n",
    "    nsamples = haps[0].shape[1]\n",
    "    npos = pos[0].shape[0]\n",
    "\n",
    "    # Define input layer that takes a genotype matrix; recall that genotype matrix stores data as (nsites, nsamples)\n",
    "    genotype_inputs = layers.Input(shape=(numSnps, sample_size))\n",
    "    # analyze sequences in both directions, GRU more computationally efficient than LSTM\n",
    "    model = layers.Bidirectional(layers.GRU(84, return_sequences=False))(genotype_inputs)\n",
    "    # Add dense layer with 256 neurons in output space\n",
    "    model = layers.Dense(256)(model)\n",
    "\n",
    "    # Define input layer for positions\n",
    "    position_inputs = layers.Input(shape=(npos,))\n",
    "    m2 = layers.Dense(256)(position_inputs)\n",
    "\n",
    "    # Concatenate genotype matrix and position input layers\n",
    "    model = layers.concatenate([model, m2])\n",
    "    # Add Dense and output layer that outputs a (normalized) recombination value\n",
    "    model = layers.Dense(64)(model)\n",
    "    output = layers.Dense(1)(model)\n",
    "\n",
    "    model = Model(inputs=[genotype_inputs, position_inputs], outputs=[output])\n",
    "    model.compile(optimizer=\"Adam\", loss=\"mse\")\n",
    "    models.summary()\n",
    "    return model"
   ]
  },
  {
   "cell_type": "markdown",
   "metadata": {},
   "source": [
    "Briefly, genotype inputs are fed to a bidirectional Gated Recurrent Unit which are then fed to a dense layer. Positional inputs are fed to a dense layer, the two layers are concatenated and finally output as a scalar value reperesenting recombination rate. We access the function as `utils.GRU` and define a model:\n"
   ]
  },
  {
   "cell_type": "code",
   "execution_count": 40,
   "metadata": {},
   "outputs": [
    {
     "name": "stdout",
     "output_type": "stream",
     "text": [
      "Model: \"functional_1\"\n",
      "__________________________________________________________________________________________________\n",
      "Layer (type)                    Output Shape         Param #     Connected to                     \n",
      "==================================================================================================\n",
      "input_1 (InputLayer)            [(None, 554, 20)]    0                                            \n",
      "__________________________________________________________________________________________________\n",
      "bidirectional (Bidirectional)   (None, 42)           5418        input_1[0][0]                    \n",
      "__________________________________________________________________________________________________\n",
      "input_2 (InputLayer)            [(None, 554)]        0                                            \n",
      "__________________________________________________________________________________________________\n",
      "dense (Dense)                   (None, 64)           2752        bidirectional[0][0]              \n",
      "__________________________________________________________________________________________________\n",
      "dense_1 (Dense)                 (None, 64)           35520       input_2[0][0]                    \n",
      "__________________________________________________________________________________________________\n",
      "concatenate (Concatenate)       (None, 128)          0           dense[0][0]                      \n",
      "                                                                 dense_1[0][0]                    \n",
      "__________________________________________________________________________________________________\n",
      "dense_2 (Dense)                 (None, 16)           2064        concatenate[0][0]                \n",
      "__________________________________________________________________________________________________\n",
      "dense_3 (Dense)                 (None, 1)            17          dense_2[0][0]                    \n",
      "==================================================================================================\n",
      "Total params: 45,771\n",
      "Trainable params: 45,771\n",
      "Non-trainable params: 0\n",
      "__________________________________________________________________________________________________\n"
     ]
    }
   ],
   "source": [
    "# Need x and y to determine network topology details\n",
    "x, y = train_sequence.__getitem__(0)\n",
    "model = utils.GRU(x, y)"
   ]
  },
  {
   "cell_type": "markdown",
   "metadata": {},
   "source": [
    "## Model fitting\n"
   ]
  },
  {
   "cell_type": "code",
   "execution_count": null,
   "metadata": {},
   "outputs": [
    {
     "name": "stdout",
     "output_type": "stream",
     "text": [
      "Epoch 1/10\n",
      " 40/100 [===========>..................] - ETA: 1:02 - loss: 1047894016.0000"
     ]
    }
   ],
   "source": [
    "%%time\n",
    "history = model.fit(train_sequence, steps_per_epoch=100, epochs=10, validation_data=vali_sequence)"
   ]
  },
  {
   "cell_type": "code",
   "execution_count": null,
   "metadata": {},
   "outputs": [],
   "source": [
    "x, y = test_sequence.__getitem__(0)\n",
    "model.predict(x), y"
   ]
  },
  {
   "cell_type": "markdown",
   "metadata": {
    "cell_style": "center"
   },
   "source": [
    "# Scenario 2 - recombination hotspot\n"
   ]
  },
  {
   "cell_type": "markdown",
   "metadata": {},
   "source": [
    "# Scenario 3 - recombination map"
   ]
  },
  {
   "cell_type": "markdown",
   "metadata": {},
   "source": [
    "# Scenario 4 - ReLERNN test data set"
   ]
  },
  {
   "cell_type": "code",
   "execution_count": null,
   "metadata": {},
   "outputs": [],
   "source": []
  }
 ],
 "metadata": {
  "cite2c": {
   "citations": {
    "482049/A2QE4JIT": {
     "DOI": "10.1093/molbev/msaa038",
     "URL": "https://academic.oup.com/mbe/article/37/6/1790/5741419",
     "abstract": "Abstract.  Accurately inferring the genome-wide landscape of recombination rates in natural populations is a central aim in genomics, as patterns of linkage inf",
     "accessed": {
      "day": 7,
      "month": 10,
      "year": 2020
     },
     "author": [
      {
       "family": "Adrion",
       "given": "Jeffrey R."
      },
      {
       "family": "Galloway",
       "given": "Jared G."
      },
      {
       "family": "Kern",
       "given": "Andrew D."
      }
     ],
     "container-title": "Molecular Biology and Evolution",
     "container-title-short": "Mol Biol Evol",
     "id": "482049/A2QE4JIT",
     "issue": "6",
     "issued": {
      "day": 1,
      "month": 6,
      "year": 2020
     },
     "journalAbbreviation": "Mol Biol Evol",
     "language": "en",
     "note": "Publisher: Oxford Academic",
     "page": "1790-1808",
     "page-first": "1790",
     "title": "Predicting the Landscape of Recombination Using Deep Learning",
     "type": "article-journal",
     "volume": "37"
    },
    "482049/CSCF6VJF": {
     "DOI": "10.1038/nrg.2016.133",
     "URL": "https://www.nature.com/articles/nrg.2016.133",
     "abstract": "The genomic landscape of differentiation between diverging lineages is often heterogeneous, with 'islands' of elevated differentiation previously interpreted as 'speciation islands' under a model of speciation with gene flow.Alternative processes can generate heterogeneous differentiation landscapes; notable processes include linked selection, variable recombination rates and/or density of targets of selection.Genome scans for regions of elevated differentiation should be based on whole-genome re-sequencing of individually tagged samples with reads mapped to a reference genome assembly.When designing speciation genomic studies, attention should be paid to the possibility of sampling across the speciation continuum and from replicate population pairs, and to the demography of the studied population, including potential gene flow.Analyses of sequence data in speciation genomic studies should incorporate a suite of summary statistics.The field is likely to move forward as a result of an increased use of long-read sequencing technology, the identification of structural variation, the inclusion of recombination rate data and, ultimately, functional studies.",
     "accessed": {
      "day": 19,
      "month": 11,
      "year": 2020
     },
     "author": [
      {
       "family": "Wolf",
       "given": "Jochen B. W."
      },
      {
       "family": "Ellegren",
       "given": "Hans"
      }
     ],
     "container-title": "Nature Reviews Genetics",
     "id": "482049/CSCF6VJF",
     "issue": "2",
     "issued": {
      "month": 2,
      "year": 2017
     },
     "language": "en",
     "note": "Number: 2\nPublisher: Nature Publishing Group",
     "page": "87-100",
     "page-first": "87",
     "title": "Making sense of genomic islands of differentiation in light of speciation",
     "type": "article-journal",
     "volume": "18"
    },
    "482049/M6IAUADD": {
     "DOI": "10.1101/gr.196485.115",
     "URL": "https://www.ncbi.nlm.nih.gov/pmc/articles/PMC4617962/",
     "abstract": "Speciation is a continuous process during which genetic changes gradually accumulate in the genomes of diverging species. Recent studies have documented highly heterogeneous differentiation landscapes, with distinct regions of elevated differentiation (“differentiation islands”) widespread across genomes. However, it remains unclear which processes drive the evolution of differentiation islands; how the differentiation landscape evolves as speciation advances; and ultimately, how differentiation islands are related to speciation. Here, we addressed these questions based on population genetic analyses of 200 resequenced genomes from 10 populations of four Ficedula flycatcher sister species. We show that a heterogeneous differentiation landscape starts emerging among populations within species, and differentiation islands evolve recurrently in the very same genomic regions among independent lineages. Contrary to expectations from models that interpret differentiation islands as genomic regions involved in reproductive isolation that are shielded from gene flow, patterns of sequence divergence (dxy and relative node depth) do not support a major role of gene flow in the evolution of the differentiation landscape in these species. Instead, as predicted by models of linked selection, genome-wide variation in diversity and differentiation can be explained by variation in recombination rate and the density of targets for selection. We thus conclude that the heterogeneous landscape of differentiation in Ficedula flycatchers evolves mainly as the result of background selection and selective sweeps in genomic regions of low recombination. Our results emphasize the necessity of incorporating linked selection as a null model to identify genome regions involved in adaptation and speciation.",
     "accessed": {
      "day": 19,
      "month": 11,
      "year": 2020
     },
     "author": [
      {
       "family": "Burri",
       "given": "Reto"
      },
      {
       "family": "Nater",
       "given": "Alexander"
      },
      {
       "family": "Kawakami",
       "given": "Takeshi"
      },
      {
       "family": "Mugal",
       "given": "Carina F."
      },
      {
       "family": "Olason",
       "given": "Pall I."
      },
      {
       "family": "Smeds",
       "given": "Linnea"
      },
      {
       "family": "Suh",
       "given": "Alexander"
      },
      {
       "family": "Dutoit",
       "given": "Ludovic"
      },
      {
       "family": "Bureš",
       "given": "Stanislav"
      },
      {
       "family": "Garamszegi",
       "given": "Laszlo Z."
      },
      {
       "family": "Hogner",
       "given": "Silje"
      },
      {
       "family": "Moreno",
       "given": "Juan"
      },
      {
       "family": "Qvarnström",
       "given": "Anna"
      },
      {
       "family": "Ružić",
       "given": "Milan"
      },
      {
       "family": "Sæther",
       "given": "Stein-Are"
      },
      {
       "family": "Sætre",
       "given": "Glenn-Peter"
      },
      {
       "family": "Török",
       "given": "Janos"
      },
      {
       "family": "Ellegren",
       "given": "Hans"
      }
     ],
     "container-title": "Genome Research",
     "container-title-short": "Genome Res",
     "id": "482049/M6IAUADD",
     "issue": "11",
     "issued": {
      "month": 11,
      "year": 2015
     },
     "journalAbbreviation": "Genome Res",
     "note": "PMID: 26355005\nPMCID: PMC4617962",
     "page": "1656-1665",
     "page-first": "1656",
     "title": "Linked selection and recombination rate variation drive the evolution of the genomic landscape of differentiation across the speciation continuum of Ficedula flycatchers",
     "type": "article-journal",
     "volume": "25"
    }
   }
  },
  "kernelspec": {
   "display_name": "Python 3",
   "language": "python",
   "name": "python3"
  },
  "language_info": {
   "codemirror_mode": {
    "name": "ipython",
    "version": 3
   },
   "file_extension": ".py",
   "mimetype": "text/x-python",
   "name": "python",
   "nbconvert_exporter": "python",
   "pygments_lexer": "ipython3",
   "version": "3.8.6"
  },
  "toc": {
   "base_numbering": 1,
   "nav_menu": {},
   "number_sections": false,
   "sideBar": true,
   "skip_h1_title": false,
   "title_cell": "Outline",
   "title_sidebar": "Contents",
   "toc_cell": true,
   "toc_position": {},
   "toc_section_display": true,
   "toc_window_display": true
  }
 },
 "nbformat": 4,
 "nbformat_minor": 4
}
