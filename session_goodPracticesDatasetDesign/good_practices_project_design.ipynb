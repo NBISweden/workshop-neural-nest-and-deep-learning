{
 "cells": [
  {
   "cell_type": "markdown",
   "metadata": {
    "slideshow": {
     "slide_type": "slide"
    }
   },
   "source": [
    "# Good practices of NN/DL project design\n",
    "## What to do and - more importantly perhaps - not to do"
   ]
  },
  {
   "cell_type": "markdown",
   "metadata": {
    "slideshow": {
     "slide_type": "slide"
    }
   },
   "source": [
    "# Is my project right for Neural Networks?\n",
    "\n",
    "* The thought process should not be: “I have some data, why don’t we try neural networks”\n",
    "* But it should be: “Given the problem, does it make sense to use neural networks?”\n",
    "\n",
    "    * Do I really need non-linear modelling?\n",
    "    * What literature is out there for similar problems?\n",
    "    * How much data will I be able to gather or put my hands on?\n",
    "    * Are there datasets out there that I can re-use before I collect my data?\n",
    "\n"
   ]
  },
  {
   "cell_type": "markdown",
   "metadata": {
    "slideshow": {
     "slide_type": "slide"
    }
   },
   "source": [
    "## Do I really need non-linear modelling?\n",
    "\n",
    "* Sometimes linear methods perform just as well if not better\n",
    "* Less risk of catastrophic overfitting\n",
    "* Faster to code, optimize, run, debug\n",
    "* Use linear modelling as a baseline before you move to non-linear methods?"
   ]
  },
  {
   "cell_type": "markdown",
   "metadata": {
    "cell_style": "split",
    "slideshow": {
     "slide_type": "slide"
    }
   },
   "source": [
    "## Real-life example\n",
    "\n",
    "Drop-in question: \"I tried deep learning on my data and it didn't perform better than this other simpler method\"\n",
    "\n",
    "* Classifying gene expression samples\n",
    "* O(1000) features\n",
    "* O(1000) samples\n",
    "* 2 classes\n",
    "* NN looked like this:"
   ]
  },
  {
   "cell_type": "code",
   "execution_count": 4,
   "metadata": {
    "cell_style": "split",
    "slideshow": {
     "slide_type": "-"
    }
   },
   "outputs": [
    {
     "name": "stdout",
     "output_type": "stream",
     "text": [
      "Model: \"sequential_3\"\n",
      "_________________________________________________________________\n",
      "Layer (type)                 Output Shape              Param #   \n",
      "=================================================================\n",
      "dense_12 (Dense)             (None, 1000)              5001000   \n",
      "_________________________________________________________________\n",
      "dense_13 (Dense)             (None, 500)               500500    \n",
      "_________________________________________________________________\n",
      "dense_14 (Dense)             (None, 2)                 1002      \n",
      "=================================================================\n",
      "Total params: 5,502,502\n",
      "Trainable params: 5,502,502\n",
      "Non-trainable params: 0\n",
      "_________________________________________________________________\n"
     ]
    }
   ],
   "source": [
    "from keras.layers import Dense\n",
    "from keras.models import Sequential\n",
    "\n",
    "model = Sequential()\n",
    "model.add(Dense(1000, input_dim=5000))\n",
    "model.add(Dense(500))\n",
    "model.add(Dense(2, activation=\"softmax\"))\n",
    "\n",
    "model.summary()"
   ]
  },
  {
   "cell_type": "markdown",
   "metadata": {
    "slideshow": {
     "slide_type": "slide"
    }
   },
   "source": [
    "## Parameters (weights) vs. samples\n",
    "\n",
    "* If the number of parameters is many times higher than the number of samples a NN will never work\n",
    "* Ideally, we are looking for the inverse: way more samples than parameters\n",
    "* Some rule of thumbs out there:\n",
    "    * 10x as many labelled samples as there are weights\n",
    "    * A few thousand samples per class\n",
    "    * Just try it and downscale/regularize until you're not overfitting anymore (or until you have a linear model)"
   ]
  },
  {
   "cell_type": "markdown",
   "metadata": {
    "slideshow": {
     "slide_type": "slide"
    }
   },
   "source": [
    "## And even if I have enough data for a NN...\n",
    "\n",
    "... is Deep Learning the right choice?\n",
    "\n",
    "* The tasks were Deep Learning shine are those that require feature extraction:\n",
    "    * Imaging -> edge/object detection\n",
    "    * Audio/text -> sound/word/sentence detection\n",
    "    * Protein structure prediction -> mutation patterns/local structure/global structure\n",
    "\n",
    "* Deep Learning makes feature extraction automatic and seem to work best when there is a hierarchy to these features\n",
    "* Is your data made that way? \n",
    "    * Does it have an order (spatial/temporal)? \n",
    "    * Are smaller patterns going to form higher-order patterns?\n",
    "* All these different types of layers need to be there for a reason\n"
   ]
  },
  {
   "cell_type": "markdown",
   "metadata": {
    "slideshow": {
     "slide_type": "slide"
    }
   },
   "source": [
    "<img src=\"figures/feature_extraction.png\"></img>\n",
    "\n",
    "source: [datarobot](https://www.datarobot.com/blog/a-primer-on-deep-learning/)"
   ]
  },
  {
   "cell_type": "markdown",
   "metadata": {
    "slideshow": {
     "slide_type": "slide"
    }
   },
   "source": [
    "## And even when both these conditions have met\n",
    "\n",
    "... you need a few more things:\n",
    "\n",
    "* Domain knowledge is not enough\n",
    "* Sometimes people with NN/DL knowledge and no domain knowledge end up being the right ones for the job (see Alphafold)\n",
    "* You also need lots of patience and time, these things rarely work out of the box"
   ]
  },
  {
   "cell_type": "markdown",
   "metadata": {
    "slideshow": {
     "slide_type": "slide"
    }
   },
   "source": [
    "## A few more things to keep in mind\n",
    "\n",
    "* You need extensive knowledge of your data:\n",
    "    * Split the data in a rigorous way to avoid introducing biases\n",
    "    * Check for _information leakage_ before you get overly optimistic results\n",
    "    * Make sure that there are no errors in your data\n",
    "\n",
    "And therein lies the main issue:\n",
    "* Some think that DL is about having a model magically fixing your data\n",
    "* Instead, DL is _mostly_ about knowing your data"
   ]
  },
  {
   "cell_type": "markdown",
   "metadata": {
    "slideshow": {
     "slide_type": "slide"
    }
   },
   "source": [
    "## Know your train/validation/test sets\n",
    "\n",
    "* A _train set_ is a set of samples used to tune the NN weights\n",
    "* A _validation set_ is a set used to tune they NN hyperparameters:\n",
    "    * Type of model (maybe not even a NN)\n",
    "    * Number of layers\n",
    "    * Number of neurons per layer\n",
    "    * Type of layers\n",
    "    * Optimizer\n",
    "    * Validation set results are NOT the ones that will get published\n",
    "    * Doesn't matter if you cross-validate\n",
    "* A _test set_ is a secluded set of samples that are used only once to test the final model\n",
    "    * Give an idea of how well the model generalizes to unseen data (results go on paper)"
   ]
  },
  {
   "cell_type": "markdown",
   "metadata": {
    "cell_style": "split",
    "slideshow": {
     "slide_type": "slide"
    }
   },
   "source": [
    "### Beware of similar samples across sets\n",
    "\n",
    "<img src=\"figures/homer.png\" width=500>"
   ]
  },
  {
   "cell_type": "markdown",
   "metadata": {
    "cell_style": "split",
    "slideshow": {
     "slide_type": "-"
    }
   },
   "source": [
    "<br>\n",
    "<br>\n",
    "<img src=\"figures/guyincognito.png\">\n",
    "(2F08 “Fear of Flying”)"
   ]
  },
  {
   "cell_type": "markdown",
   "metadata": {
    "slideshow": {
     "slide_type": "slide"
    }
   },
   "source": [
    "## Knowing what each set does is half the battle\n",
    "\n",
    "Train, validation and test sets cannot be too similar to each other, or you will not be able to tell if the network is generalizing or just memorizing\n",
    "\n",
    "* _How_ different they should be depends on what you're trying to achieve\n",
    "* Come up with a similarity measure\n",
    "* At the very least remove duplicate samples\n",
    "* You would be surprised how often scientists mess this up\n",
    "\n"
   ]
  },
  {
   "cell_type": "markdown",
   "metadata": {
    "cell_style": "split",
    "slideshow": {
     "slide_type": "slide"
    }
   },
   "source": [
    "<img src=\"figures/andrewng.png\">"
   ]
  },
  {
   "cell_type": "markdown",
   "metadata": {
    "cell_style": "split",
    "slideshow": {
     "slide_type": "-"
    }
   },
   "source": [
    "<img src=\"figures/trainvalidationleak1.png\">"
   ]
  },
  {
   "cell_type": "markdown",
   "metadata": {
    "cell_style": "split",
    "slideshow": {
     "slide_type": "slide"
    }
   },
   "source": [
    "<img src=\"figures/andrewng.png\">"
   ]
  },
  {
   "cell_type": "markdown",
   "metadata": {
    "cell_style": "split",
    "slideshow": {
     "slide_type": "-"
    }
   },
   "source": [
    "<img src=\"figures/trainvalidationleak.png\">"
   ]
  },
  {
   "cell_type": "markdown",
   "metadata": {
    "slideshow": {
     "slide_type": "slide"
    }
   },
   "source": [
    "# Sad ending :(\n",
    "<img src=\"figures/trainvalidationleak2.png\">"
   ]
  },
  {
   "cell_type": "markdown",
   "metadata": {
    "slideshow": {
     "slide_type": "slide"
    }
   },
   "source": [
    "## Another example, protein structure prediction\n",
    "\n",
    "* For some reason most researchers try to split train/validation/test by sequence similarity\n",
    "* If two proteins have <25% identical amino acids, they are deemed different enough\n",
    "* But protein families/superfamilies contain many proteins that share no detectable sequence similarity\n",
    "* Sequence similarity is not the right metric!"
   ]
  },
  {
   "cell_type": "markdown",
   "metadata": {
    "slideshow": {
     "slide_type": "fragment"
    }
   },
   "source": [
    "<img src=\"figures/25percent.png\">"
   ]
  },
  {
   "cell_type": "markdown",
   "metadata": {
    "slideshow": {
     "slide_type": "slide"
    }
   },
   "source": [
    "## Lab 1: splitting a protein sequence dataset (~1 h.)\n",
    "\n",
    "Jupyter notebook:\n",
    "\n",
    "session_goodPracticesDatasetDesign/lab_validation/rigorous_train_validation_splitting.ipynb\n",
    "\n",
    "Two different strategies will be tested:\n",
    "* Random split\n",
    "* Split by alignment score\n",
    "\n",
    "Which works best? Different groups test different networks on each strategy"
   ]
  },
  {
   "cell_type": "markdown",
   "metadata": {
    "slideshow": {
     "slide_type": "slide"
    }
   },
   "source": [
    "## Neural Nets are very good at detecting patterns and they will use this against you"
   ]
  },
  {
   "cell_type": "markdown",
   "metadata": {
    "slideshow": {
     "slide_type": "fragment"
    }
   },
   "source": [
    "### (a.k.a. target leakage)"
   ]
  },
  {
   "cell_type": "markdown",
   "metadata": {
    "slideshow": {
     "slide_type": "slide"
    }
   },
   "source": [
    "## Target leakage\n",
    "\n",
    "* Making a predictor when you know the answers is not as easy as it seems\n",
    "* Need to remove any revealing info you would not have access to in real scenario\n",
    "* Classic example: predict yearly salary of employee\n",
    "    * But one of the features is \"monthly income\""
   ]
  },
  {
   "cell_type": "markdown",
   "metadata": {
    "slideshow": {
     "slide_type": "slide"
    }
   },
   "source": [
    "## Example: detecting COVID-19 from chest scans \n",
    "(https://www.datarobot.com/blog/identifying-leakage-in-computer-vision-on-medical-images/)\n",
    "\n",
    "* COVIDx dataset\n",
    "* Training set: 66 positive COVID results, 120 random non-COVID examples\n",
    "* 2-class classifier based on ResNet50 Featurizer\n",
    "* Perfect validation results! Great!\n"
   ]
  },
  {
   "cell_type": "markdown",
   "metadata": {
    "slideshow": {
     "slide_type": "slide"
    }
   },
   "source": [
    "## Example: detecting COVID-19 from chest scans \n",
    "\n",
    "Inspecting dataset with image embeddings tells another story: can anyone tell what's wrong?\n",
    "\n",
    "<img src=\"figures/covidchest.png\">\n",
    "(https://www.datarobot.com/blog/identifying-leakage-in-computer-vision-on-medical-images/)"
   ]
  },
  {
   "cell_type": "markdown",
   "metadata": {
    "slideshow": {
     "slide_type": "slide"
    }
   },
   "source": [
    "## Example: detecting COVID-19 from chest scans \n",
    "\n",
    "Let's look at activations map and see more in detail\n",
    "* Get final layer's output after activation (ReLU) and plot figure\n",
    "\n",
    "<img src=\"figures/covidchest2.png\">\n",
    "(https://www.datarobot.com/blog/identifying-leakage-in-computer-vision-on-medical-images/)"
   ]
  },
  {
   "cell_type": "markdown",
   "metadata": {
    "slideshow": {
     "slide_type": "slide"
    }
   },
   "source": [
    "## Lab 2: looking for target leakage in a text dataset (~1 h.)\n",
    "\n",
    "Jupyter notebook:\n",
    "\n",
    "session_goodPracticesDatasetDesign/lab_targetLeakage/investigating_target_leakage.ipynb\n",
    "\n",
    "Visualize the layers of a NN for Natural Language Processing:\n",
    "\n",
    "* Can you tell if there is target leakage of some kind?\n",
    "* Propose solutions to curb the issue"
   ]
  },
  {
   "cell_type": "markdown",
   "metadata": {
    "cell_style": "center",
    "slideshow": {
     "slide_type": "slide"
    }
   },
   "source": [
    "## Your model is only as good as your data \n",
    "\n",
    "Reasons why one of my networks wouldn't work:\n",
    "\n",
    "* Labels were wrong (label for amino acid n was assigned to amino acid n+1)\n",
    "* The actual target sequence was missing from the multiple sequence alignment\n",
    "* Inputs weren't correctly scaled/normalized\n",
    "* Script to convert 3-letter code amino acid to one letter (LYS -> K) didn't work as expected\n",
    "\n"
   ]
  },
  {
   "cell_type": "markdown",
   "metadata": {
    "slideshow": {
     "slide_type": "-"
    }
   },
   "source": [
    "<img src=\"figures/unknown.png?0\">"
   ]
  },
  {
   "cell_type": "markdown",
   "metadata": {
    "cell_style": "split",
    "slideshow": {
     "slide_type": "slide"
    }
   },
   "source": [
    "## NNs are robust\n",
    "\n",
    "They will \"kind of\" work even when some labels are incorrect, but it is going to be very tricky to understand if and what is wrong\n",
    "\n",
    "* Before training:\n",
    "    * Plot data distributions\n",
    "    * Test all data preparation scripts\n",
    "    * Manually look at data files\n",
    "    * Check labels for mistakes, unbalancedness\n",
    "\n",
    "* While training:    \n",
    "    * Look at badly predicted samples\n",
    "    * Be paranoid when something doesn't work well, even more when it works surpisingly well"
   ]
  },
  {
   "cell_type": "markdown",
   "metadata": {
    "cell_style": "split"
   },
   "source": [
    "<br>\n",
    "<br>\n",
    "<img src=\"figures/monk.jpg\" width=400>"
   ]
  },
  {
   "cell_type": "markdown",
   "metadata": {},
   "source": [
    "## Having the right data for NN/DL, but not enough of it: what now?\n",
    "\n",
    "Main avenues:\n",
    "* Find more of it\n",
    "* Cut down insignificant features\n",
    "* Make smaller models\n",
    "* Generate artificial samples: Data augmentation\n",
    "* Transfer learning (so find more data, again)\n",
    "* Think outside the (black) box"
   ]
  },
  {
   "cell_type": "markdown",
   "metadata": {},
   "source": [
    "## Lab 3: transfer learning in imaging data (~1 h.)\n",
    "\n",
    "Jupyter notebook: \n",
    "\n",
    "session_goodPracticesDatasetDesign/lab_transferLearning/transfer_learning.ipynb\n",
    "\n",
    "* Christophe's lab on cell classification:\n",
    "    * We want to train a larger network\n",
    "    * Use a network pre-trained on completely different data\n",
    "    * Is it going to help?"
   ]
  },
  {
   "cell_type": "markdown",
   "metadata": {},
   "source": [
    "## Tips and tricks on training your Neural Networks\n",
    "\n",
    "* Fix training seeds for reproducibility\n",
    "* Calculate metric for baseline naïve predictor\n",
    "* Training on small datasets first: can you make it overfit?\n",
    "* Can you make it overfit on the normal dataset?\n",
    "* Now scale it back\n",
    "* Change one thing at a time!\n",
    "* Neural Networks are not necessarily black boxes, visualize outputs from different layers to see where the network is focusing"
   ]
  }
 ],
 "metadata": {
  "celltoolbar": "Slideshow",
  "kernelspec": {
   "display_name": "Python [conda env:nn_dl_python] *",
   "language": "python",
   "name": "conda-env-nn_dl_python-py"
  },
  "language_info": {
   "codemirror_mode": {
    "name": "ipython",
    "version": 3
   },
   "file_extension": ".py",
   "mimetype": "text/x-python",
   "name": "python",
   "nbconvert_exporter": "python",
   "pygments_lexer": "ipython3",
   "version": "3.7.6"
  }
 },
 "nbformat": 4,
 "nbformat_minor": 4
}
