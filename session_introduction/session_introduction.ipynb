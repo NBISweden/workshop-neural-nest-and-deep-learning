{
 "cells": [
  {
   "cell_type": "code",
   "execution_count": 3,
   "metadata": {
    "hide_input": true,
    "slideshow": {
     "slide_type": "skip"
    }
   },
   "outputs": [
    {
     "data": {
      "text/html": [
       "<style>\n",
       "table {\n",
       "    table-layout:fixed;\n",
       "    width: 50em;\n",
       "}\n",
       "td {\n",
       "  border: 1px solid #999;\n",
       "}\n",
       "table p {\n",
       "  margin: 0;\n",
       "}\n",
       ".cap-height p {\n",
       "  height: 30em;\n",
       "  overflow: hidden;\n",
       "}\n",
       "</style>\n"
      ],
      "text/plain": [
       "<IPython.core.display.HTML object>"
      ]
     },
     "metadata": {},
     "output_type": "display_data"
    }
   ],
   "source": [
    "%%html\n",
    "<style>\n",
    "table {\n",
    "    table-layout:fixed;\n",
    "    width: 50em;\n",
    "}\n",
    "td {\n",
    "  border: 1px solid #999;\n",
    "}\n",
    "table p {\n",
    "  margin: 0;\n",
    "}\n",
    ".cap-height p {\n",
    "  height: 30em;\n",
    "  overflow: hidden;\n",
    "}\n",
    "</style>"
   ]
  },
  {
   "cell_type": "markdown",
   "metadata": {
    "hide_input": true,
    "slideshow": {
     "slide_type": "slide"
    }
   },
   "source": [
    "# Welcome to the\n",
    "# NBIS Neural Nets & Deep Learning workshop"
   ]
  },
  {
   "cell_type": "markdown",
   "metadata": {
    "hide_input": false,
    "slideshow": {
     "slide_type": "slide"
    }
   },
   "source": [
    "## Who are we? "
   ]
  },
  {
   "cell_type": "markdown",
   "metadata": {
    "slideshow": {
     "slide_type": "fragment"
    }
   },
   "source": [
    "<table style=\"table-layout:fixed;\">\n",
    "    <tr>\n",
    "        <th> Claudio </th>\n",
    "        <th> Christophe </th>\n",
    "        <th> Bengt </th>\n",
    "        <th> Per </th>\n",
    "    </tr>\n",
    "    <tr>\n",
    "        <td> \n",
    "            <img  style=\"max-width:14em;max-height:20em;top:0;\" src=\"assets/people/claudio-mirabello.png\" alt=\"Claudio\">\n",
    "        </td>\n",
    "        <td> \n",
    "            <img  style=\"max-width:14em;max-height:20em;top:0;\" src=\"assets/people/christophe-avenel.png\" alt=\"Christophe\" >\n",
    "        </td>\n",
    "        <td> \n",
    "           <img style=\"max-width:14em;max-height:20em;top:0;\" src=\"assets/people/bengt-sennblad.png\" alt=\"Bengt\" >\n",
    "        </td>\n",
    "        <td> \n",
    "           <img  style=\"max-width:14em;max-height:20em;top:0;\" src=\"assets/people/per-unneberg.png\" alt=\"Per\">\n",
    "        </td>\n",
    "    </tr>\n",
    "    <tr>\n",
    "        <th> Marcin </th>\n",
    "        <th> Mikael </th>\n",
    "        <th> Fredrik </th>\n",
    "        <th> Jason </th>\n",
    "    </tr>\n",
    "    <tr>\n",
    "        <td> \n",
    "           <img  style=\"max-width:14em;max-height:20em;top:0;\" src=\"assets/people/marcin-kierczak.png\" alt=\"Marcin\">\n",
    "        </td>\n",
    "        <td> \n",
    "           <img  style=\"max-width:14em;max-height:20em;top:0;\" src=\"assets/people/mikael_huss.png\" alt=\"Mikael\" >\n",
    "        </td>\n",
    "        <td> \n",
    "           <img  style=\"max-width:14em;max-height:20em;top:0;\" src=\"assets/people/fredrik-nysjo.png\" alt=\"Fredrik\" >\n",
    "        </td>\n",
    "        <td> \n",
    "           <img  style=\"max-width:14em;max-height:20em;top:0;\" src=\"assets/people/jason-hill.png\" alt=\"Jason\" >\n",
    "        </td>\n",
    "    </tr>\n",
    " </table>"
   ]
  },
  {
   "cell_type": "markdown",
   "metadata": {
    "cell_style": "center",
    "hide_input": true,
    "slideshow": {
     "slide_type": "slide"
    }
   },
   "source": [
    "## Who are you?"
   ]
  },
  {
   "cell_type": "markdown",
   "metadata": {
    "slideshow": {
     "slide_type": "fragment"
    }
   },
   "source": [
    "<center><img src=\"./assets/survey/009.png\"  width=\"1200\"></center>"
   ]
  },
  {
   "cell_type": "markdown",
   "metadata": {
    "slideshow": {
     "slide_type": "slide"
    }
   },
   "source": [
    "## Who are you?\n",
    "<center><img src=\"./assets/survey/007.png\"  width=\"1200\"></center>\n"
   ]
  },
  {
   "cell_type": "markdown",
   "metadata": {
    "slideshow": {
     "slide_type": "slide"
    }
   },
   "source": [
    "## Who are you?\n",
    "<center><img src=\"./assets/survey/008.png\"  width=\"1200\"></center>\n"
   ]
  },
  {
   "cell_type": "markdown",
   "metadata": {
    "cell_style": "center",
    "slideshow": {
     "slide_type": "slide"
    }
   },
   "source": [
    "## Who are you?\n",
    "<center><img src=\"./assets/survey/002.png\"  width=\"1200\"></center>\n"
   ]
  },
  {
   "cell_type": "markdown",
   "metadata": {
    "cell_style": "center",
    "slideshow": {
     "slide_type": "slide"
    }
   },
   "source": [
    "## Who are you?\n",
    "<center><img src=\"./assets/survey/003.png\"  width=\"1200\"></center>\n"
   ]
  },
  {
   "cell_type": "markdown",
   "metadata": {
    "cell_style": "center",
    "slideshow": {
     "slide_type": "slide"
    }
   },
   "source": [
    "## Who are you?\n",
    "<center><img src=\"./assets/survey/000.png\"  width=\"1200\"></center>\n"
   ]
  },
  {
   "cell_type": "markdown",
   "metadata": {
    "cell_style": "center",
    "slideshow": {
     "slide_type": "slide"
    }
   },
   "source": [
    "## Who are you?\n",
    "<center><img src=\"./assets/survey/001.png\"  width=\"1200\"></center>\n"
   ]
  },
  {
   "cell_type": "markdown",
   "metadata": {
    "cell_style": "center",
    "hide_input": true,
    "slideshow": {
     "slide_type": "slide"
    }
   },
   "source": [
    "## Who are you?\n",
    "<center><img src=\"./assets/survey/004.png\"  width=\"1200\"></center>\n"
   ]
  },
  {
   "cell_type": "markdown",
   "metadata": {
    "slideshow": {
     "slide_type": "slide"
    }
   },
   "source": [
    "## Who are you?\n",
    "<center><img src=\"./assets/survey/005.png\"  width=\"1200\"></center>\n"
   ]
  },
  {
   "cell_type": "markdown",
   "metadata": {
    "slideshow": {
     "slide_type": "slide"
    }
   },
   "source": [
    "## Who are you?\n",
    "<center><img src=\"./assets/survey/006.png\"  width=\"1200\"></center>\n"
   ]
  },
  {
   "cell_type": "markdown",
   "metadata": {
    "slideshow": {
     "slide_type": "slide"
    }
   },
   "source": [
    "## In what way do you expect the course will benefit you?\n",
    "> Participants expect the course to deepen their understanding of neural nets and deep learning techniques, provide hands-on experience, and teach them how to apply these techniques to their specific research fields. Some participants hope to learn how to recognize when and how to use these techniques to improve their data analysis, while others hope to develop their own versions of neural net tools.\n"
   ]
  },
  {
   "cell_type": "markdown",
   "metadata": {
    "slideshow": {
     "slide_type": "fragment"
    }
   },
   "source": [
    "<i style='float:right'>(Summary of your answers, generated by ChatGPT)</i>"
   ]
  },
  {
   "cell_type": "markdown",
   "metadata": {
    "slideshow": {
     "slide_type": "skip"
    }
   },
   "source": [
    "#### Online classroom  \n",
    "- Course website on UU Canvas/Instructure :   \n",
    "<font size=\"5\"> [https://uppsala.instructure.com/courses/75565](https://uppsala.instructure.com/courses/75565)</font>\n",
    "    - schedule with links to lectures and exercises\n",
    "- Student chat under `Discussions` on course website, e.g. \n",
    "<font size=\"5\"> https://uppsala.instructure.com/courses/75565/discussion_topics</font>\n",
    "    - questions during lectures or exercises\n",
    "    - general or specific discussions\n"
   ]
  },
  {
   "cell_type": "markdown",
   "metadata": {
    "slideshow": {
     "slide_type": "slide"
    }
   },
   "source": [
    "## Course website \n",
    " <font size=\"5\"> https://uppsala.instructure.com/courses/75565</font>\n",
    " \n",
    " - Learning outcomes\n",
    " - Prerequisties/preparations\n",
    " - Discussions\n",
    " - Schedule / Modules"
   ]
  },
  {
   "cell_type": "markdown",
   "metadata": {
    "slideshow": {
     "slide_type": "skip"
    }
   },
   "source": [
    "### Prerequisites  \n",
    "<font size=\"5\"> [https://uppsala.instructure.com/courses/75565/pages/course-prerequisites](https://uppsala.instructure.com/courses/75565/pages/course-prerequisites) </font>\n",
    "\n",
    "### Preparations\n",
    "<font size=\"5\"> [https://uppsala.instructure.com/courses/75565/pages/what-you-as-student-need-to-do-before-the-course-starts](https://uppsala.instructure.com/courses/75565/pages/what-you-as-student-need-to-do-before-the-course-starts) </font>"
   ]
  },
  {
   "cell_type": "markdown",
   "metadata": {
    "slideshow": {
     "slide_type": "skip"
    }
   },
   "source": [
    "### Learning outcomes  \n",
    "<font size=\"5\">  [https://uppsala.instructure.com/courses/75565/pages/learning-outcomes](https://uppsala.instructure.com/courses/75565/pages/learning-outcomes) </font>"
   ]
  },
  {
   "cell_type": "markdown",
   "metadata": {
    "slideshow": {
     "slide_type": "skip"
    }
   },
   "source": [
    "### Student chat\n",
    "<font size=\"5\"> [https://uppsala.instructure.com/courses/75565/discussion_topics](https://uppsala.instructure.com/courses/75565/discussion_topics)</font>\n"
   ]
  },
  {
   "cell_type": "markdown",
   "metadata": {
    "slideshow": {
     "slide_type": "skip"
    }
   },
   "source": [
    "### Schedule\n",
    "<font size=\"5\">  [https://uppsala.instructure.com/courses/75565/pages/schedule](https://uppsala.instructure.com/courses/75565/pages/schedule)</font>\n"
   ]
  },
  {
   "cell_type": "markdown",
   "metadata": {
    "slideshow": {
     "slide_type": "skip"
    }
   },
   "source": [
    "## Feedback session on Friday\n",
    "\n",
    "We are counting on your feedback!\n",
    "\n",
    "* Does the schedule work the way it's laid out?\n",
    "* What did you think of the lectures and labs?\n",
    "* Too simple/hard?\n",
    "* Write down one thing you liked and one you didn't at the end of each session, let us know at the end"
   ]
  },
  {
   "cell_type": "markdown",
   "metadata": {
    "slideshow": {
     "slide_type": "skip"
    }
   },
   "source": [
    "## Practical issues\n",
    "- Try to keep your **cameras on**, but **microphone muted** \n",
    "- Lectures with many breaks\n",
    "- Take lots of small breaks also when working with the exercises\n",
    "- We will try to stick to the schedule, but it's only preliminary until it's happened\n",
    "- If you have any questions during the lecture, feel free to unmute and ask. If you don't want to ask in the Zoom meeting, write the question in the chat or on the Discussion page"
   ]
  },
  {
   "cell_type": "markdown",
   "metadata": {
    "cell_style": "center",
    "slideshow": {
     "slide_type": "slide"
    }
   },
   "source": [
    "### So, this course is about Artificial Neural networks (Anns)"
   ]
  },
  {
   "cell_type": "code",
   "execution_count": 5,
   "metadata": {
    "cell_style": "split",
    "hide_input": true
   },
   "outputs": [
    {
     "data": {
      "image/png": "[encoded data removed]",
      "text/plain": [
       "<Figure size 576x360 with 1 Axes>"
      ]
     },
     "metadata": {
      "needs_background": "light"
     },
     "output_type": "display_data"
    }
   ],
   "source": [
    "import sys, os\n",
    "sys.path.append(os.path.abspath(os.path.join('..', 'common_assets')))\n",
    "import numpy as np\n",
    "import matplotlib.pyplot as plt\n",
    "from draw_neural_net import draw_neural_net\n",
    "\n",
    "layer_sizes = [ 4, 3, 2, 3, 4 ]\n",
    "weights = [\n",
    "    np.array(\n",
    "        [\n",
    "            [ \"w_{1,1}\", \"w_{1,2}\", \"w_{1,3}\"],\n",
    "            [ \"w_{2,1}\", \"w_{2,2}\", \"w_{2,3}\"],\n",
    "            [ \"w_{3,1}\", \"w_{3,2}\", \"w_{3,3}\"],\n",
    "            [ \"w_{4,1}\", \"w_{4,2}\", \"w_{4,3}\"]\n",
    "        ]\n",
    "    ),\n",
    "\n",
    "    np.array(\n",
    "        [\n",
    "            [ \"w_{1,1}\", \"w_{1,2}\"],\n",
    "            [ \"w_{2,1}\", \"w_{2,2}\"],\n",
    "            [ \"w_{3,1}\", \"w_{3,2}\"]\n",
    "\n",
    "        ]\n",
    "    ),\n",
    "\n",
    " #   np.array(\n",
    " #       [\n",
    " #           [ \"w_{1,1}\", \"w_{1,2}\"],\n",
    " #           [ \"w_{2,1}\", \"w_{2,2}\"],\n",
    " #       ]\n",
    " #  ),\n",
    "        np.array(\n",
    "        [\n",
    "            [ \"w_{1,1}\", \"w_{1,2}\", \"w_{1,3}\"],\n",
    "            [ \"w_{2,1}\", \"w_{2,2}\", \"w_{2,3}\"]\n",
    "        ]\n",
    "    ),\n",
    "        np.array(\n",
    "        [\n",
    "            [ \"w_{1,1}\", \"w_{1,2}\", \"w_{1,3}\",\"w_{1,4}\"],\n",
    "            [ \"w_{2,1}\", \"w_{2,2}\", \"w_{2,3}\",\"w_{2,4}\"],\n",
    "            [ \"w_{3,1}\", \"w_{3,2}\", \"w_{3,3}\",\"w_{3,4}\"]\n",
    "        ]\n",
    "    )\n",
    "]\n",
    "biases = [\n",
    "    np.array(\n",
    "        [\"b_1\", \"b_2\",\"b_3\"]\n",
    "    ), \n",
    "    np.array(\n",
    "        [\"b_1\", \"b_2\"]\n",
    "    ), \n",
    "    np.array(\n",
    "        [\"b_1\", \"b_2\", \"b_3\"]\n",
    "    ), \n",
    "    np.array(\n",
    "        [\"b_1\", \"b_2\", \"b_3\", \"b_4\"]\n",
    "    ), \n",
    "\n",
    "\n",
    "]\n",
    "\n",
    "figAE = plt.figure(figsize=(8,5))\n",
    "\n",
    "ax = figAE.gca()\n",
    "ax.axis('off')\n",
    "\n",
    "draw_neural_net(ax, layerSizes=layer_sizes) #, weights= weights, biases=biases)\n"
   ]
  },
  {
   "cell_type": "markdown",
   "metadata": {
    "cell_style": "split"
   },
   "source": [
    "<img src=\"../session_annBuildingBlocks/assets/fig2.png\" alt=\"ANN2\" width=\"500\"/>"
   ]
  },
  {
   "cell_type": "markdown",
   "metadata": {},
   "source": [
    "<center><img src=\"../session_annBuildingBlocks/assets/vgg16.png\" alt=\"ANN2\" width=\"1000\"/></center>"
   ]
  },
  {
   "cell_type": "markdown",
   "metadata": {
    "cell_style": "center",
    "slideshow": {
     "slide_type": "fragment"
    }
   },
   "source": [
    "### .... What is that?"
   ]
  },
  {
   "cell_type": "markdown",
   "metadata": {
    "slideshow": {
     "slide_type": "slide"
    }
   },
   "source": [
    "# AI vs ML vs ANN vs DL"
   ]
  },
  {
   "cell_type": "markdown",
   "metadata": {
    "cell_style": "split",
    "slideshow": {
     "slide_type": "-"
    }
   },
   "source": [
    "<img src=\"./assets/vennAiMlAnnDl2.png\" alt=\"ai_ml_ann_dl\" width=\"700\"/>\n",
    "\n",
    "<font size=\"1\"> (taken from https://medium.com/ai-in-plain-english/artificial-intelligence-vs-machine-learning-vs-deep-learning-whats-the-difference-dccce18efe7f)</font>\n",
    "<br>\n",
    "<br>\n",
    "<br>"
   ]
  },
  {
   "cell_type": "markdown",
   "metadata": {
    "cell_style": "split",
    "slideshow": {
     "slide_type": "fragment"
    }
   },
   "source": [
    "#### AI  -- Artificial Intelligence\n",
    "- The science and engineering  of creating intelligent machines\n",
    "    "
   ]
  },
  {
   "cell_type": "markdown",
   "metadata": {
    "cell_style": "split",
    "slideshow": {
     "slide_type": "fragment"
    }
   },
   "source": [
    "#### ML -- Machine learning\n",
    "- Subset of AI\n",
    "- Computer algorithms that learn/improve from experience"
   ]
  },
  {
   "cell_type": "markdown",
   "metadata": {
    "cell_style": "split",
    "slideshow": {
     "slide_type": "fragment"
    }
   },
   "source": [
    "#### ANN -- Artificial Neural Networks\n",
    "- Subset of ML\n",
    "- Model of human neural networks\n",
    "- Networks built up by artificial neurons"
   ]
  },
  {
   "cell_type": "markdown",
   "metadata": {
    "cell_style": "split",
    "slideshow": {
     "slide_type": "fragment"
    }
   },
   "source": [
    "#### DL -- Deep Learning\n",
    "- Subset of ANN (? -- depend on definition of ANN)\n",
    "- ANN with more than one hidden layer"
   ]
  },
  {
   "cell_type": "markdown",
   "metadata": {
    "slideshow": {
     "slide_type": "slide"
    }
   },
   "source": [
    "# Where does ANN come from?"
   ]
  },
  {
   "cell_type": "markdown",
   "metadata": {
    "slideshow": {
     "slide_type": "skip"
    }
   },
   "source": [
    "#### ... ~Don't know~ I mean, outside the scope of this study"
   ]
  },
  {
   "cell_type": "markdown",
   "metadata": {
    "slideshow": {
     "slide_type": "slide"
    }
   },
   "source": [
    "## History"
   ]
  },
  {
   "cell_type": "markdown",
   "metadata": {
    "cell_style": "split",
    "slideshow": {
     "slide_type": "-"
    }
   },
   "source": [
    "### First wave of ANN (funding)\n",
    "- 1943 First model of biological neruon (McCulloch & Pitts)\n",
    "- 1949 Hebbian Learning rules for ANN, (Donald Hebb)\n",
    "- 1951 First ANN (Minsky)\n",
    "- 1958 The *Perceptron* -- linear classification\n",
    "- 1969 Limitations of the perceptron (Minsky & Papert)\n",
    "<br>\n",
    "<br>\n",
    "<br>\n",
    "<br>\n",
    "<br>\n",
    "<br>\n",
    "<br>\n",
    "<br>"
   ]
  },
  {
   "cell_type": "markdown",
   "metadata": {
    "cell_style": "split"
   },
   "source": [
    "<img src=\"./assets/perceptron.png\" alt=\"Neuron\" width=\"400\"/>\n",
    "\n",
    "<font size=\"1\"> (taken from https://www.sciencedirect.com/topics/neuroscience/perceptron)</font>"
   ]
  },
  {
   "cell_type": "markdown",
   "metadata": {
    "cell_style": "split"
   },
   "source": [
    "<img src=\"./assets/rosenblatt.png\" alt=\"Neuron\" width=\"400\"/>\n",
    "\n",
    "<font size=\"1\"> (taken from https://news.cornell.edu/stories/2019/09/professors-perceptron-paved-way-ai-60-years-too-soon)</font>"
   ]
  },
  {
   "cell_type": "markdown",
   "metadata": {
    "slideshow": {
     "slide_type": "notes"
    }
   },
   "source": [
    "- multi-variate input\n",
    "- singler neuron, step activation (on/off)\n",
    "- decision/classification"
   ]
  },
  {
   "cell_type": "markdown",
   "metadata": {
    "slideshow": {
     "slide_type": "slide"
    }
   },
   "source": [
    "## History"
   ]
  },
  {
   "cell_type": "markdown",
   "metadata": {
    "cell_style": "split",
    "slideshow": {
     "slide_type": "-"
    }
   },
   "source": [
    "### Second wave of ANN (funding)\n",
    "- (1975 Back propagation algorithm (Werbos))\n",
    "- 1986 Back propagation rediscovered and sigmoid activation -- ANNs in vogue again\n",
    "- 1985-87 ANN conferences, societies started (IEEE, INNS)\n",
    "- Vanishing gradient problem\n",
    "- SVM outcompetes ANNs, ANNs survives in protein structure prediction (e.g., CASP)\n"
   ]
  },
  {
   "cell_type": "markdown",
   "metadata": {
    "cell_style": "split"
   },
   "source": [
    "<img src=\"./assets/backprop.png\" alt=\"Neuron\" width=\"1200\"/>\n",
    "\n",
    "<font size=\"1\"> (taken from https://www.kdnuggets.com/2019/01/backpropagation-algorithm-demystified.html)</font>"
   ]
  },
  {
   "cell_type": "markdown",
   "metadata": {
    "cell_style": "split"
   },
   "source": [
    "<img src=\"./assets/casp.png\" alt=\"Neuron\" width=\"1200\"/>\n",
    "\n",
    "<font size=\"1\"> (taken from https://predictioncenter.org)</font>"
   ]
  },
  {
   "cell_type": "markdown",
   "metadata": {
    "slideshow": {
     "slide_type": "slide"
    }
   },
   "source": [
    "## History"
   ]
  },
  {
   "cell_type": "markdown",
   "metadata": {
    "cell_style": "split",
    "slideshow": {
     "slide_type": "-"
    }
   },
   "source": [
    "### Third wave of ANN (funding)\n",
    "- GPUs and parallelization\n",
    "- \"Deep Learning\" buzzword and performing well in contests\n",
    "- 1997 Recursive Neural Nets. LSTMs (Smidhuber & Hochreiter)\n",
    "- 2000 ReLU (Hahnloser et al.?)\n",
    "- 2011 CNNs\n",
    "- 2020 AlphaFold2 souvereign at CASP14\n",
    "- ANNs are everywhere!"
   ]
  },
  {
   "cell_type": "markdown",
   "metadata": {
    "cell_style": "split"
   },
   "source": [
    "<img src=\"./assets/rnn.png\" alt=\"Neuron\" width=\"1200\"/>\n"
   ]
  },
  {
   "cell_type": "markdown",
   "metadata": {
    "cell_style": "split"
   },
   "source": [
    "<img src=\"./assets/cnn.jpg\" alt=\"Neuron\" width=\"1200\"/>\n",
    "\n",
    "<font size=\"1\"> (taken from https://towardsdatascience.com/a-comprehensive-guide-to-convolutional-neural-networks-the-eli5-way-3bd2b1164a53)</font>"
   ]
  },
  {
   "cell_type": "markdown",
   "metadata": {
    "slideshow": {
     "slide_type": "slide"
    }
   },
   "source": [
    "## Applications -- general"
   ]
  },
  {
   "cell_type": "markdown",
   "metadata": {
    "cell_style": "split",
    "slideshow": {
     "slide_type": "-"
    }
   },
   "source": [
    "Written and spoke language recognition\n",
    "<img src=\"./assets/mnist.png\" alt=\"mnist\" width=\"600\"/>  \n",
    "\n",
    "<font size=\"1\"> (taken from Mouret, Jean-Baptiste & Doncieux, Stéphane. (2008). Evolutionary Intelligence </font>"
   ]
  },
  {
   "cell_type": "markdown",
   "metadata": {
    "cell_style": "split",
    "slideshow": {
     "slide_type": "notes"
    }
   },
   "source": [
    "- (Autoencoder) showing recogniytion of written text.\n",
    "    - Also mention sentences more general langauge grammar  and grammatics -- NLPN \n",
    "- Self-driving cars, risk estimation"
   ]
  },
  {
   "cell_type": "markdown",
   "metadata": {
    "cell_style": "split",
    "slideshow": {
     "slide_type": "fragment"
    }
   },
   "source": [
    "Risk predictions\n",
    "<img src=\"./assets/selfdriving.png\" alt=\"mnist\" width=\"600\"/>\n",
    "\n",
    "<font size=\"1\"> (taken from https://spectrum.ieee.org/computing/embedded-systems/bringing-big-neural-networks-to-selfdriving-cars-smartphones-and-drones)</font>"
   ]
  },
  {
   "cell_type": "markdown",
   "metadata": {
    "slideshow": {
     "slide_type": "slide"
    }
   },
   "source": [
    "## Applications -- general"
   ]
  },
  {
   "cell_type": "markdown",
   "metadata": {
    "cell_style": "split",
    "slideshow": {
     "slide_type": "-"
    }
   },
   "source": [
    "Forecasting, weather, business\n",
    "\n",
    "<img src=\"./assets/forecast.png\" alt=\"Neuron\" width=\"400\"/>\n",
    "\n",
    "<font size=\"1\"> (taken from https://www.gjesm.net/article_23079.html)</font>"
   ]
  },
  {
   "cell_type": "markdown",
   "metadata": {
    "cell_style": "split",
    "slideshow": {
     "slide_type": "notes"
    }
   },
   "source": [
    "- Forecasting, e.g, weather\n",
    "- Image recognintion, traioned on images\n",
    "    - also generation\n",
    "    - whcih is a real face and which is generated"
   ]
  },
  {
   "cell_type": "markdown",
   "metadata": {
    "cell_style": "split",
    "slideshow": {
     "slide_type": "fragment"
    }
   },
   "source": [
    "Face recognition *and* generation\n",
    "\n",
    "<img src=\"./assets/gan_faces.png\" alt=\"mnist\" width=\"400\"/>\n",
    "\n",
    "<font size=\"1\"> (taken from https://medium.com/syncedreview/gan-2-0-nvidias-hyperrealistic-face-generator-e3439d33ebaf)</font>"
   ]
  },
  {
   "cell_type": "markdown",
   "metadata": {
    "slideshow": {
     "slide_type": "slide"
    }
   },
   "source": [
    "## Applications -- Biosciences"
   ]
  },
  {
   "cell_type": "markdown",
   "metadata": {
    "cell_style": "split",
    "slideshow": {
     "slide_type": "-"
    }
   },
   "source": [
    "<font size=\"4\"> Protein structure prediction </font>\n",
    "<img src=\"./assets/alphafold.gif\" alt=\"Neuron\" width=\"1200\"/>\n",
    "\n",
    "<font size=\"1\"> (taken from https://www.theverge.com/2020/12/1/21754310/deepmind-alphafold-ai-protein-folding-casp-competition)</font>"
   ]
  },
  {
   "cell_type": "markdown",
   "metadata": {
    "cell_style": "split",
    "slideshow": {
     "slide_type": "notes"
    }
   },
   "source": [
    "- Alphafold ooutcompetes other methods in CASP 2020\n",
    "- Figure 3: An example of image enhancement.\n",
    "    - (A) Original malignant mass case extracted from DDSM, \n",
    "    - (B) Enhanced image using CLAHE, and \n",
    "    - (C) Histogram representation of the image."
   ]
  },
  {
   "cell_type": "markdown",
   "metadata": {
    "cell_style": "split",
    "slideshow": {
     "slide_type": "fragment"
    }
   },
   "source": [
    "<font size=\"4\" > Bioimaging diagnostics </font>\n",
    "<img src=\"./assets/breasttumour.png\" alt=\"bioimaging\" width=\"800\"/>\n",
    "\n",
    "<font size=\"1\"> (taken from https://peerj.com/articles/6201/)</font>"
   ]
  },
  {
   "cell_type": "markdown",
   "metadata": {
    "slideshow": {
     "slide_type": "slide"
    }
   },
   "source": [
    "## Applications -- Biosciences"
   ]
  },
  {
   "cell_type": "markdown",
   "metadata": {
    "cell_style": "split",
    "slideshow": {
     "slide_type": "notes"
    }
   },
   "source": [
    "Figure 3: An example of image enhancement.\n",
    "(A) Original malignant mass case extracted from DDSM, (B) Enhanced image using CLAHE, and (C) Histogram representation of the image."
   ]
  },
  {
   "cell_type": "markdown",
   "metadata": {
    "cell_style": "center",
    "slideshow": {
     "slide_type": "-"
    }
   },
   "source": [
    "<center>\n",
    "    <font size=\"4\"> Spatial transcriptomics </font>\n",
    "<img src=\"./assets/celltypes.jpg\" alt=\"Neuron\" width=\"600\"/>\n",
    "<font size=\"1\"> (taken from https://www.uu.se/en/news-media/press-releases/press-release/?id=5226&typ=pm&lang=en)</font>\n",
    "</center>"
   ]
  },
  {
   "cell_type": "markdown",
   "metadata": {
    "cell_style": "split",
    "slideshow": {
     "slide_type": "notes"
    }
   },
   "source": [
    "Decrypting spatial transcriptomics heterogeneity (spage2vec) in complex tissues \n",
    "- resolution\n",
    "- balance between intrinsic regul network and extrinsic subcell processes"
   ]
  },
  {
   "cell_type": "markdown",
   "metadata": {
    "slideshow": {
     "slide_type": "slide"
    }
   },
   "source": [
    "# End of introduction"
   ]
  },
  {
   "cell_type": "markdown",
   "metadata": {
    "cell_style": "split",
    "slideshow": {
     "slide_type": "notes"
    }
   },
   "source": [
    "- **pattern recognition**\n",
    "- non-linear classification/regression?\n",
    "    - signature verification\n",
    "    - cybersecurity\n",
    "- image/character recognition\n",
    "    - handwriting (mnist)\n",
    "    - bioimages\n",
    "    - faces\n",
    "    - 3D object recognition\n",
    "- forecasting/prediction\n",
    "    - business\n",
    "    - medical diagnosis\n",
    "    - generate images (faces)"
   ]
  },
  {
   "cell_type": "markdown",
   "metadata": {
    "cell_style": "split",
    "slideshow": {
     "slide_type": "notes"
    }
   },
   "source": [
    "- dimensional reduction\n",
    "    - bar-coding\n",
    "- sequence recognition\n",
    "    - speech\n",
    "    - text\n",
    "    - NLP\n",
    "- data mining\n",
    "- time series\n",
    "- protein structure prediciton"
   ]
  }
 ],
 "metadata": {
  "celltoolbar": "Slideshow",
  "hide_input": false,
  "kernelspec": {
   "display_name": "Python 3 (ipykernel)",
   "language": "python",
   "name": "python3"
  },
  "language_info": {
   "codemirror_mode": {
    "name": "ipython",
    "version": 3
   },
   "file_extension": ".py",
   "mimetype": "text/x-python",
   "name": "python",
   "nbconvert_exporter": "python",
   "pygments_lexer": "ipython3",
   "version": "3.7.6"
  },
  "rise": {
   "transition": "none"
  }
 },
 "nbformat": 4,
 "nbformat_minor": 4
}
